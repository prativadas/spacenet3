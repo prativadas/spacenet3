{
 "cells": [
  {
   "cell_type": "code",
   "execution_count": 68,
   "metadata": {},
   "outputs": [],
   "source": [
    "import rasterio\n",
    "import os\n",
    "\n",
    "path_dict = {\n",
    "    'mul': 'data/AOI_3_Paris_Roads_Train/MUL',\n",
    "    'muls': 'data/AOI_3_Paris_Roads_Train/MUL-PanSharpen',\n",
    "    'pan': 'data/AOI_3_Paris_Roads_Train/PAN',\n",
    "    'rgbps': 'data/AOI_3_Paris_Roads_Train/RGB-PanSharpen',    \n",
    "}\n",
    "\n",
    "prefix_dict = {\n",
    "    'mul': 'SN3_roads_train_AOI_3_Paris_MS_',\n",
    "    'muls': 'SN3_roads_train_AOI_3_Paris_PS-MS_',\n",
    "    'pan': 'SN3_roads_train_AOI_3_Paris_PAN_',\n",
    "    'rgbps': 'SN3_roads_train_AOI_3_Paris_PS-RGB_',    \n",
    "}\n"
   ]
  },
  {
   "cell_type": "code",
   "execution_count": 69,
   "metadata": {},
   "outputs": [
    {
     "name": "stdout",
     "output_type": "stream",
     "text": [
      "data/AOI_3_Paris_Roads_Train/:\r\n",
      "geojson\t\tMUL-PanSharpen_8bit  PAN_8bit\t\t  RGB-PanSharpen_mask\r\n",
      "MUL\t\tMUL-PanSharpen_mask  PAN_mask\t\t  RGB-PanSharpen_vis\r\n",
      "MUL_8bit\tMUL-PanSharpen_vis   PAN_vis\t\t  summaryData\r\n",
      "MUL_mask\tMUL_vis\t\t     RGB-PanSharpen\r\n",
      "MUL-PanSharpen\tPAN\t\t     RGB-PanSharpen_8bit\r\n",
      "\r\n",
      "data/AOI_3_Paris_Roads_Train/geojson:\r\n",
      "spacenetroads\r\n",
      "\r\n",
      "data/AOI_3_Paris_Roads_Train/geojson/spacenetroads:\r\n",
      "SN3_roads_train_AOI_3_Paris_geojson_roads_img10.geojson\r\n",
      "SN3_roads_train_AOI_3_Paris_geojson_roads_img11.geojson\r\n",
      "SN3_roads_train_AOI_3_Paris_geojson_roads_img14.geojson\r\n",
      "SN3_roads_train_AOI_3_Paris_geojson_roads_img15.geojson\r\n",
      "SN3_roads_train_AOI_3_Paris_geojson_roads_img16.geojson\r\n",
      "SN3_roads_train_AOI_3_Paris_geojson_roads_img17.geojson\r\n",
      "SN3_roads_train_AOI_3_Paris_geojson_roads_img18.geojson\r\n",
      "SN3_roads_train_AOI_3_Paris_geojson_roads_img19.geojson\r\n",
      "SN3_roads_train_AOI_3_Paris_geojson_roads_img20.geojson\r\n",
      "SN3_roads_train_AOI_3_Paris_geojson_roads_img21.geojson\r\n",
      "SN3_roads_train_AOI_3_Paris_geojson_roads_img23.geojson\r\n",
      "SN3_roads_train_AOI_3_Paris_geojson_roads_img24.geojson\r\n",
      "SN3_roads_train_AOI_3_Paris_geojson_roads_img26.geojson\r\n",
      "SN3_roads_train_AOI_3_Paris_geojson_roads_img27.geojson\r\n",
      "SN3_roads_train_AOI_3_Paris_geojson_roads_img28.geojson\r\n",
      "SN3_roads_train_AOI_3_Paris_geojson_roads_img30.geojson\r\n",
      "SN3_roads_train_AOI_3_Paris_geojson_roads_img31.geojson\r\n",
      "SN3_roads_train_AOI_3_Paris_geojson_roads_img33.geojson\r\n",
      "SN3_roads_train_AOI_3_Paris_geojson_roads_img35.geojson\r\n",
      "SN3_roads_train_AOI_3_Paris_geojson_roads_img37.geojson\r\n",
      "SN3_roads_train_AOI_3_Paris_geojson_roads_img38.geojson\r\n",
      "SN3_roads_train_AOI_3_Paris_geojson_roads_img39.geojson\r\n",
      "SN3_roads_train_AOI_3_Paris_geojson_roads_img41.geojson\r\n",
      "SN3_roads_train_AOI_3_Paris_geojson_roads_img42.geojson\r\n",
      "SN3_roads_train_AOI_3_Paris_geojson_roads_img43.geojson\r\n",
      "SN3_roads_train_AOI_3_Paris_geojson_roads_img46.geojson\r\n",
      "SN3_roads_train_AOI_3_Paris_geojson_roads_img47.geojson\r\n",
      "SN3_roads_train_AOI_3_Paris_geojson_roads_img48.geojson\r\n",
      "SN3_roads_train_AOI_3_Paris_geojson_roads_img49.geojson\r\n",
      "SN3_roads_train_AOI_3_Paris_geojson_roads_img50.geojson\r\n",
      "SN3_roads_train_AOI_3_Paris_geojson_roads_img51.geojson\r\n",
      "SN3_roads_train_AOI_3_Paris_geojson_roads_img52.geojson\r\n",
      "SN3_roads_train_AOI_3_Paris_geojson_roads_img53.geojson\r\n",
      "SN3_roads_train_AOI_3_Paris_geojson_roads_img54.geojson\r\n",
      "SN3_roads_train_AOI_3_Paris_geojson_roads_img55.geojson\r\n",
      "SN3_roads_train_AOI_3_Paris_geojson_roads_img60.geojson\r\n",
      "SN3_roads_train_AOI_3_Paris_geojson_roads_img61.geojson\r\n",
      "SN3_roads_train_AOI_3_Paris_geojson_roads_img63.geojson\r\n",
      "SN3_roads_train_AOI_3_Paris_geojson_roads_img64.geojson\r\n",
      "SN3_roads_train_AOI_3_Paris_geojson_roads_img65.geojson\r\n",
      "SN3_roads_train_AOI_3_Paris_geojson_roads_img6.geojson\r\n",
      "SN3_roads_train_AOI_3_Paris_geojson_roads_img72.geojson\r\n",
      "SN3_roads_train_AOI_3_Paris_geojson_roads_img73.geojson\r\n",
      "SN3_roads_train_AOI_3_Paris_geojson_roads_img75.geojson\r\n",
      "SN3_roads_train_AOI_3_Paris_geojson_roads_img76.geojson\r\n",
      "SN3_roads_train_AOI_3_Paris_geojson_roads_img80.geojson\r\n",
      "SN3_roads_train_AOI_3_Paris_geojson_roads_img81.geojson\r\n",
      "SN3_roads_train_AOI_3_Paris_geojson_roads_img82.geojson\r\n",
      "SN3_roads_train_AOI_3_Paris_geojson_roads_img84.geojson\r\n",
      "SN3_roads_train_AOI_3_Paris_geojson_roads_img9.geojson\r\n",
      "\r\n",
      "data/AOI_3_Paris_Roads_Train/MUL:\r\n",
      "SN3_roads_train_AOI_3_Paris_MS_img10.tif\r\n",
      "SN3_roads_train_AOI_3_Paris_MS_img11.tif\r\n",
      "SN3_roads_train_AOI_3_Paris_MS_img14.tif\r\n",
      "SN3_roads_train_AOI_3_Paris_MS_img15.tif\r\n",
      "SN3_roads_train_AOI_3_Paris_MS_img16.tif\r\n",
      "SN3_roads_train_AOI_3_Paris_MS_img17.tif\r\n",
      "SN3_roads_train_AOI_3_Paris_MS_img18.tif\r\n",
      "SN3_roads_train_AOI_3_Paris_MS_img19.tif\r\n",
      "SN3_roads_train_AOI_3_Paris_MS_img20.tif\r\n",
      "SN3_roads_train_AOI_3_Paris_MS_img21.tif\r\n",
      "SN3_roads_train_AOI_3_Paris_MS_img23.tif\r\n",
      "SN3_roads_train_AOI_3_Paris_MS_img24.tif\r\n",
      "SN3_roads_train_AOI_3_Paris_MS_img26.tif\r\n",
      "SN3_roads_train_AOI_3_Paris_MS_img27.tif\r\n",
      "SN3_roads_train_AOI_3_Paris_MS_img28.tif\r\n",
      "SN3_roads_train_AOI_3_Paris_MS_img30.tif\r\n",
      "SN3_roads_train_AOI_3_Paris_MS_img31.tif\r\n",
      "SN3_roads_train_AOI_3_Paris_MS_img33.tif\r\n",
      "SN3_roads_train_AOI_3_Paris_MS_img35.tif\r\n",
      "SN3_roads_train_AOI_3_Paris_MS_img37.tif\r\n",
      "SN3_roads_train_AOI_3_Paris_MS_img38.tif\r\n",
      "SN3_roads_train_AOI_3_Paris_MS_img39.tif\r\n",
      "SN3_roads_train_AOI_3_Paris_MS_img41.tif\r\n",
      "SN3_roads_train_AOI_3_Paris_MS_img42.tif\r\n",
      "SN3_roads_train_AOI_3_Paris_MS_img43.tif\r\n",
      "SN3_roads_train_AOI_3_Paris_MS_img46.tif\r\n",
      "SN3_roads_train_AOI_3_Paris_MS_img47.tif\r\n",
      "SN3_roads_train_AOI_3_Paris_MS_img48.tif\r\n",
      "SN3_roads_train_AOI_3_Paris_MS_img49.tif\r\n",
      "SN3_roads_train_AOI_3_Paris_MS_img50.tif\r\n",
      "SN3_roads_train_AOI_3_Paris_MS_img51.tif\r\n",
      "SN3_roads_train_AOI_3_Paris_MS_img52.tif\r\n",
      "SN3_roads_train_AOI_3_Paris_MS_img53.tif\r\n",
      "SN3_roads_train_AOI_3_Paris_MS_img54.tif\r\n",
      "SN3_roads_train_AOI_3_Paris_MS_img55.tif\r\n",
      "SN3_roads_train_AOI_3_Paris_MS_img60.tif\r\n",
      "SN3_roads_train_AOI_3_Paris_MS_img61.tif\r\n",
      "SN3_roads_train_AOI_3_Paris_MS_img63.tif\r\n",
      "SN3_roads_train_AOI_3_Paris_MS_img64.tif\r\n",
      "SN3_roads_train_AOI_3_Paris_MS_img65.tif\r\n",
      "SN3_roads_train_AOI_3_Paris_MS_img6.tif\r\n",
      "SN3_roads_train_AOI_3_Paris_MS_img72.tif\r\n",
      "SN3_roads_train_AOI_3_Paris_MS_img73.tif\r\n",
      "SN3_roads_train_AOI_3_Paris_MS_img75.tif\r\n",
      "SN3_roads_train_AOI_3_Paris_MS_img76.tif\r\n",
      "SN3_roads_train_AOI_3_Paris_MS_img77.tif\r\n",
      "SN3_roads_train_AOI_3_Paris_MS_img7.tif\r\n",
      "SN3_roads_train_AOI_3_Paris_MS_img80.tif\r\n",
      "SN3_roads_train_AOI_3_Paris_MS_img81.tif\r\n",
      "SN3_roads_train_AOI_3_Paris_MS_img9.tif\r\n",
      "\r\n",
      "data/AOI_3_Paris_Roads_Train/MUL_8bit:\r\n",
      "SN3_roads_train_AOI_3_Paris_MS_img10.tif\r\n",
      "SN3_roads_train_AOI_3_Paris_MS_img11.tif\r\n",
      "SN3_roads_train_AOI_3_Paris_MS_img14.tif\r\n",
      "SN3_roads_train_AOI_3_Paris_MS_img15.tif\r\n",
      "SN3_roads_train_AOI_3_Paris_MS_img16.tif\r\n",
      "SN3_roads_train_AOI_3_Paris_MS_img17.tif\r\n",
      "SN3_roads_train_AOI_3_Paris_MS_img18.tif\r\n",
      "SN3_roads_train_AOI_3_Paris_MS_img19.tif\r\n",
      "SN3_roads_train_AOI_3_Paris_MS_img20.tif\r\n",
      "SN3_roads_train_AOI_3_Paris_MS_img21.tif\r\n",
      "SN3_roads_train_AOI_3_Paris_MS_img23.tif\r\n",
      "SN3_roads_train_AOI_3_Paris_MS_img24.tif\r\n",
      "SN3_roads_train_AOI_3_Paris_MS_img26.tif\r\n",
      "SN3_roads_train_AOI_3_Paris_MS_img27.tif\r\n",
      "SN3_roads_train_AOI_3_Paris_MS_img28.tif\r\n",
      "SN3_roads_train_AOI_3_Paris_MS_img30.tif\r\n",
      "SN3_roads_train_AOI_3_Paris_MS_img31.tif\r\n",
      "SN3_roads_train_AOI_3_Paris_MS_img33.tif\r\n",
      "SN3_roads_train_AOI_3_Paris_MS_img35.tif\r\n",
      "SN3_roads_train_AOI_3_Paris_MS_img37.tif\r\n",
      "SN3_roads_train_AOI_3_Paris_MS_img38.tif\r\n",
      "SN3_roads_train_AOI_3_Paris_MS_img39.tif\r\n",
      "SN3_roads_train_AOI_3_Paris_MS_img41.tif\r\n",
      "SN3_roads_train_AOI_3_Paris_MS_img42.tif\r\n",
      "SN3_roads_train_AOI_3_Paris_MS_img43.tif\r\n",
      "SN3_roads_train_AOI_3_Paris_MS_img46.tif\r\n",
      "SN3_roads_train_AOI_3_Paris_MS_img47.tif\r\n",
      "SN3_roads_train_AOI_3_Paris_MS_img48.tif\r\n",
      "SN3_roads_train_AOI_3_Paris_MS_img49.tif\r\n",
      "SN3_roads_train_AOI_3_Paris_MS_img50.tif\r\n",
      "SN3_roads_train_AOI_3_Paris_MS_img51.tif\r\n",
      "SN3_roads_train_AOI_3_Paris_MS_img52.tif\r\n",
      "SN3_roads_train_AOI_3_Paris_MS_img53.tif\r\n",
      "SN3_roads_train_AOI_3_Paris_MS_img54.tif\r\n",
      "SN3_roads_train_AOI_3_Paris_MS_img55.tif\r\n",
      "SN3_roads_train_AOI_3_Paris_MS_img60.tif\r\n",
      "SN3_roads_train_AOI_3_Paris_MS_img61.tif\r\n",
      "SN3_roads_train_AOI_3_Paris_MS_img63.tif\r\n",
      "SN3_roads_train_AOI_3_Paris_MS_img64.tif\r\n",
      "SN3_roads_train_AOI_3_Paris_MS_img65.tif\r\n",
      "SN3_roads_train_AOI_3_Paris_MS_img6.tif\r\n",
      "SN3_roads_train_AOI_3_Paris_MS_img72.tif\r\n",
      "SN3_roads_train_AOI_3_Paris_MS_img73.tif\r\n",
      "SN3_roads_train_AOI_3_Paris_MS_img75.tif\r\n",
      "SN3_roads_train_AOI_3_Paris_MS_img76.tif\r\n",
      "SN3_roads_train_AOI_3_Paris_MS_img77.tif\r\n",
      "SN3_roads_train_AOI_3_Paris_MS_img7.tif\r\n",
      "SN3_roads_train_AOI_3_Paris_MS_img80.tif\r\n",
      "SN3_roads_train_AOI_3_Paris_MS_img81.tif\r\n",
      "SN3_roads_train_AOI_3_Paris_MS_img9.tif\r\n",
      "\r\n",
      "data/AOI_3_Paris_Roads_Train/MUL_mask:\r\n",
      "\r\n",
      "data/AOI_3_Paris_Roads_Train/MUL-PanSharpen:\r\n",
      "SN3_roads_train_AOI_3_Paris_PS-MS_img10.tif\r\n",
      "SN3_roads_train_AOI_3_Paris_PS-MS_img11.tif\r\n",
      "SN3_roads_train_AOI_3_Paris_PS-MS_img14.tif\r\n",
      "SN3_roads_train_AOI_3_Paris_PS-MS_img15.tif\r\n",
      "SN3_roads_train_AOI_3_Paris_PS-MS_img16.tif\r\n",
      "SN3_roads_train_AOI_3_Paris_PS-MS_img17.tif\r\n",
      "SN3_roads_train_AOI_3_Paris_PS-MS_img18.tif\r\n",
      "SN3_roads_train_AOI_3_Paris_PS-MS_img19.tif\r\n",
      "SN3_roads_train_AOI_3_Paris_PS-MS_img20.tif\r\n",
      "SN3_roads_train_AOI_3_Paris_PS-MS_img21.tif\r\n",
      "SN3_roads_train_AOI_3_Paris_PS-MS_img23.tif\r\n",
      "SN3_roads_train_AOI_3_Paris_PS-MS_img24.tif\r\n",
      "SN3_roads_train_AOI_3_Paris_PS-MS_img26.tif\r\n",
      "SN3_roads_train_AOI_3_Paris_PS-MS_img27.tif\r\n",
      "SN3_roads_train_AOI_3_Paris_PS-MS_img28.tif\r\n",
      "SN3_roads_train_AOI_3_Paris_PS-MS_img30.tif\r\n",
      "SN3_roads_train_AOI_3_Paris_PS-MS_img31.tif\r\n",
      "SN3_roads_train_AOI_3_Paris_PS-MS_img33.tif\r\n",
      "SN3_roads_train_AOI_3_Paris_PS-MS_img35.tif\r\n",
      "SN3_roads_train_AOI_3_Paris_PS-MS_img37.tif\r\n",
      "SN3_roads_train_AOI_3_Paris_PS-MS_img38.tif\r\n",
      "SN3_roads_train_AOI_3_Paris_PS-MS_img39.tif\r\n",
      "SN3_roads_train_AOI_3_Paris_PS-MS_img41.tif\r\n",
      "SN3_roads_train_AOI_3_Paris_PS-MS_img42.tif\r\n",
      "SN3_roads_train_AOI_3_Paris_PS-MS_img43.tif\r\n",
      "SN3_roads_train_AOI_3_Paris_PS-MS_img46.tif\r\n",
      "SN3_roads_train_AOI_3_Paris_PS-MS_img47.tif\r\n",
      "SN3_roads_train_AOI_3_Paris_PS-MS_img48.tif\r\n",
      "SN3_roads_train_AOI_3_Paris_PS-MS_img49.tif\r\n",
      "SN3_roads_train_AOI_3_Paris_PS-MS_img50.tif\r\n",
      "SN3_roads_train_AOI_3_Paris_PS-MS_img51.tif\r\n",
      "SN3_roads_train_AOI_3_Paris_PS-MS_img52.tif\r\n",
      "SN3_roads_train_AOI_3_Paris_PS-MS_img53.tif\r\n",
      "SN3_roads_train_AOI_3_Paris_PS-MS_img54.tif\r\n",
      "SN3_roads_train_AOI_3_Paris_PS-MS_img55.tif\r\n",
      "SN3_roads_train_AOI_3_Paris_PS-MS_img60.tif\r\n",
      "SN3_roads_train_AOI_3_Paris_PS-MS_img61.tif\r\n",
      "SN3_roads_train_AOI_3_Paris_PS-MS_img63.tif\r\n",
      "SN3_roads_train_AOI_3_Paris_PS-MS_img64.tif\r\n",
      "SN3_roads_train_AOI_3_Paris_PS-MS_img65.tif\r\n",
      "SN3_roads_train_AOI_3_Paris_PS-MS_img6.tif\r\n",
      "SN3_roads_train_AOI_3_Paris_PS-MS_img72.tif\r\n",
      "SN3_roads_train_AOI_3_Paris_PS-MS_img73.tif\r\n",
      "SN3_roads_train_AOI_3_Paris_PS-MS_img75.tif\r\n",
      "SN3_roads_train_AOI_3_Paris_PS-MS_img76.tif\r\n",
      "SN3_roads_train_AOI_3_Paris_PS-MS_img77.tif\r\n",
      "SN3_roads_train_AOI_3_Paris_PS-MS_img7.tif\r\n",
      "SN3_roads_train_AOI_3_Paris_PS-MS_img80.tif\r\n",
      "SN3_roads_train_AOI_3_Paris_PS-MS_img81.tif\r\n",
      "SN3_roads_train_AOI_3_Paris_PS-MS_img9.tif\r\n",
      "\r\n",
      "data/AOI_3_Paris_Roads_Train/MUL-PanSharpen_8bit:\r\n",
      "SN3_roads_train_AOI_3_Paris_PS-MS_img10.tif\r\n",
      "SN3_roads_train_AOI_3_Paris_PS-MS_img11.tif\r\n",
      "SN3_roads_train_AOI_3_Paris_PS-MS_img14.tif\r\n",
      "SN3_roads_train_AOI_3_Paris_PS-MS_img15.tif\r\n",
      "SN3_roads_train_AOI_3_Paris_PS-MS_img16.tif\r\n",
      "SN3_roads_train_AOI_3_Paris_PS-MS_img17.tif\r\n",
      "SN3_roads_train_AOI_3_Paris_PS-MS_img18.tif\r\n",
      "SN3_roads_train_AOI_3_Paris_PS-MS_img19.tif\r\n",
      "SN3_roads_train_AOI_3_Paris_PS-MS_img20.tif\r\n",
      "SN3_roads_train_AOI_3_Paris_PS-MS_img21.tif\r\n",
      "SN3_roads_train_AOI_3_Paris_PS-MS_img23.tif\r\n",
      "SN3_roads_train_AOI_3_Paris_PS-MS_img24.tif\r\n",
      "SN3_roads_train_AOI_3_Paris_PS-MS_img26.tif\r\n",
      "SN3_roads_train_AOI_3_Paris_PS-MS_img27.tif\r\n",
      "SN3_roads_train_AOI_3_Paris_PS-MS_img28.tif\r\n",
      "SN3_roads_train_AOI_3_Paris_PS-MS_img30.tif\r\n",
      "SN3_roads_train_AOI_3_Paris_PS-MS_img31.tif\r\n",
      "SN3_roads_train_AOI_3_Paris_PS-MS_img33.tif\r\n",
      "SN3_roads_train_AOI_3_Paris_PS-MS_img35.tif\r\n",
      "SN3_roads_train_AOI_3_Paris_PS-MS_img37.tif\r\n",
      "SN3_roads_train_AOI_3_Paris_PS-MS_img38.tif\r\n",
      "SN3_roads_train_AOI_3_Paris_PS-MS_img39.tif\r\n",
      "SN3_roads_train_AOI_3_Paris_PS-MS_img41.tif\r\n",
      "SN3_roads_train_AOI_3_Paris_PS-MS_img42.tif\r\n",
      "SN3_roads_train_AOI_3_Paris_PS-MS_img43.tif\r\n",
      "SN3_roads_train_AOI_3_Paris_PS-MS_img46.tif\r\n",
      "SN3_roads_train_AOI_3_Paris_PS-MS_img47.tif\r\n",
      "SN3_roads_train_AOI_3_Paris_PS-MS_img48.tif\r\n",
      "SN3_roads_train_AOI_3_Paris_PS-MS_img49.tif\r\n",
      "SN3_roads_train_AOI_3_Paris_PS-MS_img50.tif\r\n",
      "SN3_roads_train_AOI_3_Paris_PS-MS_img51.tif\r\n",
      "SN3_roads_train_AOI_3_Paris_PS-MS_img52.tif\r\n",
      "SN3_roads_train_AOI_3_Paris_PS-MS_img53.tif\r\n",
      "SN3_roads_train_AOI_3_Paris_PS-MS_img54.tif\r\n",
      "SN3_roads_train_AOI_3_Paris_PS-MS_img55.tif\r\n",
      "SN3_roads_train_AOI_3_Paris_PS-MS_img60.tif\r\n",
      "SN3_roads_train_AOI_3_Paris_PS-MS_img61.tif\r\n",
      "SN3_roads_train_AOI_3_Paris_PS-MS_img63.tif\r\n",
      "SN3_roads_train_AOI_3_Paris_PS-MS_img64.tif\r\n",
      "SN3_roads_train_AOI_3_Paris_PS-MS_img65.tif\r\n",
      "SN3_roads_train_AOI_3_Paris_PS-MS_img6.tif\r\n",
      "SN3_roads_train_AOI_3_Paris_PS-MS_img72.tif\r\n",
      "SN3_roads_train_AOI_3_Paris_PS-MS_img73.tif\r\n",
      "SN3_roads_train_AOI_3_Paris_PS-MS_img75.tif\r\n",
      "SN3_roads_train_AOI_3_Paris_PS-MS_img76.tif\r\n",
      "SN3_roads_train_AOI_3_Paris_PS-MS_img77.tif\r\n",
      "SN3_roads_train_AOI_3_Paris_PS-MS_img7.tif\r\n",
      "SN3_roads_train_AOI_3_Paris_PS-MS_img80.tif\r\n",
      "SN3_roads_train_AOI_3_Paris_PS-MS_img81.tif\r\n",
      "SN3_roads_train_AOI_3_Paris_PS-MS_img9.tif\r\n",
      "\r\n",
      "data/AOI_3_Paris_Roads_Train/MUL-PanSharpen_mask:\r\n",
      "\r\n",
      "data/AOI_3_Paris_Roads_Train/MUL-PanSharpen_vis:\r\n",
      "\r\n",
      "data/AOI_3_Paris_Roads_Train/MUL_vis:\r\n",
      "\r\n",
      "data/AOI_3_Paris_Roads_Train/PAN:\r\n",
      "SN3_roads_train_AOI_3_Paris_PAN_img10.tif\r\n",
      "SN3_roads_train_AOI_3_Paris_PAN_img11.tif\r\n",
      "SN3_roads_train_AOI_3_Paris_PAN_img14.tif\r\n",
      "SN3_roads_train_AOI_3_Paris_PAN_img15.tif\r\n",
      "SN3_roads_train_AOI_3_Paris_PAN_img16.tif\r\n",
      "SN3_roads_train_AOI_3_Paris_PAN_img17.tif\r\n",
      "SN3_roads_train_AOI_3_Paris_PAN_img18.tif\r\n",
      "SN3_roads_train_AOI_3_Paris_PAN_img19.tif\r\n",
      "SN3_roads_train_AOI_3_Paris_PAN_img20.tif\r\n",
      "SN3_roads_train_AOI_3_Paris_PAN_img21.tif\r\n",
      "SN3_roads_train_AOI_3_Paris_PAN_img23.tif\r\n",
      "SN3_roads_train_AOI_3_Paris_PAN_img24.tif\r\n",
      "SN3_roads_train_AOI_3_Paris_PAN_img26.tif\r\n",
      "SN3_roads_train_AOI_3_Paris_PAN_img27.tif\r\n",
      "SN3_roads_train_AOI_3_Paris_PAN_img28.tif\r\n",
      "SN3_roads_train_AOI_3_Paris_PAN_img30.tif\r\n",
      "SN3_roads_train_AOI_3_Paris_PAN_img31.tif\r\n",
      "SN3_roads_train_AOI_3_Paris_PAN_img33.tif\r\n",
      "SN3_roads_train_AOI_3_Paris_PAN_img35.tif\r\n",
      "SN3_roads_train_AOI_3_Paris_PAN_img37.tif\r\n",
      "SN3_roads_train_AOI_3_Paris_PAN_img38.tif\r\n",
      "SN3_roads_train_AOI_3_Paris_PAN_img39.tif\r\n",
      "SN3_roads_train_AOI_3_Paris_PAN_img41.tif\r\n",
      "SN3_roads_train_AOI_3_Paris_PAN_img42.tif\r\n",
      "SN3_roads_train_AOI_3_Paris_PAN_img43.tif\r\n",
      "SN3_roads_train_AOI_3_Paris_PAN_img46.tif\r\n",
      "SN3_roads_train_AOI_3_Paris_PAN_img47.tif\r\n",
      "SN3_roads_train_AOI_3_Paris_PAN_img48.tif\r\n",
      "SN3_roads_train_AOI_3_Paris_PAN_img49.tif\r\n",
      "SN3_roads_train_AOI_3_Paris_PAN_img50.tif\r\n",
      "SN3_roads_train_AOI_3_Paris_PAN_img51.tif\r\n",
      "SN3_roads_train_AOI_3_Paris_PAN_img52.tif\r\n",
      "SN3_roads_train_AOI_3_Paris_PAN_img53.tif\r\n",
      "SN3_roads_train_AOI_3_Paris_PAN_img54.tif\r\n",
      "SN3_roads_train_AOI_3_Paris_PAN_img55.tif\r\n",
      "SN3_roads_train_AOI_3_Paris_PAN_img60.tif\r\n",
      "SN3_roads_train_AOI_3_Paris_PAN_img61.tif\r\n",
      "SN3_roads_train_AOI_3_Paris_PAN_img63.tif\r\n",
      "SN3_roads_train_AOI_3_Paris_PAN_img64.tif\r\n",
      "SN3_roads_train_AOI_3_Paris_PAN_img65.tif\r\n",
      "SN3_roads_train_AOI_3_Paris_PAN_img6.tif\r\n",
      "SN3_roads_train_AOI_3_Paris_PAN_img72.tif\r\n",
      "SN3_roads_train_AOI_3_Paris_PAN_img73.tif\r\n",
      "SN3_roads_train_AOI_3_Paris_PAN_img75.tif\r\n",
      "SN3_roads_train_AOI_3_Paris_PAN_img76.tif\r\n",
      "SN3_roads_train_AOI_3_Paris_PAN_img77.tif\r\n",
      "SN3_roads_train_AOI_3_Paris_PAN_img7.tif\r\n",
      "SN3_roads_train_AOI_3_Paris_PAN_img80.tif\r\n",
      "SN3_roads_train_AOI_3_Paris_PAN_img81.tif\r\n",
      "SN3_roads_train_AOI_3_Paris_PAN_img9.tif\r\n",
      "\r\n",
      "data/AOI_3_Paris_Roads_Train/PAN_8bit:\r\n",
      "SN3_roads_train_AOI_3_Paris_PAN_img10.tif\r\n",
      "SN3_roads_train_AOI_3_Paris_PAN_img11.tif\r\n",
      "SN3_roads_train_AOI_3_Paris_PAN_img14.tif\r\n",
      "SN3_roads_train_AOI_3_Paris_PAN_img15.tif\r\n",
      "SN3_roads_train_AOI_3_Paris_PAN_img16.tif\r\n",
      "SN3_roads_train_AOI_3_Paris_PAN_img17.tif\r\n",
      "SN3_roads_train_AOI_3_Paris_PAN_img18.tif\r\n",
      "SN3_roads_train_AOI_3_Paris_PAN_img19.tif\r\n",
      "SN3_roads_train_AOI_3_Paris_PAN_img20.tif\r\n",
      "SN3_roads_train_AOI_3_Paris_PAN_img21.tif\r\n",
      "SN3_roads_train_AOI_3_Paris_PAN_img23.tif\r\n",
      "SN3_roads_train_AOI_3_Paris_PAN_img24.tif\r\n",
      "SN3_roads_train_AOI_3_Paris_PAN_img26.tif\r\n",
      "SN3_roads_train_AOI_3_Paris_PAN_img27.tif\r\n",
      "SN3_roads_train_AOI_3_Paris_PAN_img28.tif\r\n",
      "SN3_roads_train_AOI_3_Paris_PAN_img30.tif\r\n",
      "SN3_roads_train_AOI_3_Paris_PAN_img31.tif\r\n",
      "SN3_roads_train_AOI_3_Paris_PAN_img33.tif\r\n",
      "SN3_roads_train_AOI_3_Paris_PAN_img35.tif\r\n",
      "SN3_roads_train_AOI_3_Paris_PAN_img37.tif\r\n",
      "SN3_roads_train_AOI_3_Paris_PAN_img38.tif\r\n",
      "SN3_roads_train_AOI_3_Paris_PAN_img39.tif\r\n",
      "SN3_roads_train_AOI_3_Paris_PAN_img41.tif\r\n",
      "SN3_roads_train_AOI_3_Paris_PAN_img42.tif\r\n",
      "SN3_roads_train_AOI_3_Paris_PAN_img43.tif\r\n",
      "SN3_roads_train_AOI_3_Paris_PAN_img46.tif\r\n",
      "SN3_roads_train_AOI_3_Paris_PAN_img47.tif\r\n",
      "SN3_roads_train_AOI_3_Paris_PAN_img48.tif\r\n",
      "SN3_roads_train_AOI_3_Paris_PAN_img49.tif\r\n",
      "SN3_roads_train_AOI_3_Paris_PAN_img50.tif\r\n",
      "SN3_roads_train_AOI_3_Paris_PAN_img51.tif\r\n",
      "SN3_roads_train_AOI_3_Paris_PAN_img52.tif\r\n",
      "SN3_roads_train_AOI_3_Paris_PAN_img53.tif\r\n",
      "SN3_roads_train_AOI_3_Paris_PAN_img54.tif\r\n",
      "SN3_roads_train_AOI_3_Paris_PAN_img55.tif\r\n",
      "SN3_roads_train_AOI_3_Paris_PAN_img60.tif\r\n",
      "SN3_roads_train_AOI_3_Paris_PAN_img61.tif\r\n",
      "SN3_roads_train_AOI_3_Paris_PAN_img63.tif\r\n",
      "SN3_roads_train_AOI_3_Paris_PAN_img64.tif\r\n",
      "SN3_roads_train_AOI_3_Paris_PAN_img65.tif\r\n",
      "SN3_roads_train_AOI_3_Paris_PAN_img6.tif\r\n",
      "SN3_roads_train_AOI_3_Paris_PAN_img72.tif\r\n",
      "SN3_roads_train_AOI_3_Paris_PAN_img73.tif\r\n",
      "SN3_roads_train_AOI_3_Paris_PAN_img75.tif\r\n",
      "SN3_roads_train_AOI_3_Paris_PAN_img76.tif\r\n",
      "SN3_roads_train_AOI_3_Paris_PAN_img77.tif\r\n",
      "SN3_roads_train_AOI_3_Paris_PAN_img7.tif\r\n",
      "SN3_roads_train_AOI_3_Paris_PAN_img80.tif\r\n",
      "SN3_roads_train_AOI_3_Paris_PAN_img81.tif\r\n",
      "SN3_roads_train_AOI_3_Paris_PAN_img9.tif\r\n",
      "\r\n",
      "data/AOI_3_Paris_Roads_Train/PAN_mask:\r\n",
      "\r\n",
      "data/AOI_3_Paris_Roads_Train/PAN_vis:\r\n",
      "\r\n",
      "data/AOI_3_Paris_Roads_Train/RGB-PanSharpen:\r\n",
      "SN3_roads_train_AOI_3_Paris_PS-RGB_img10.tif\r\n",
      "SN3_roads_train_AOI_3_Paris_PS-RGB_img11.tif\r\n",
      "SN3_roads_train_AOI_3_Paris_PS-RGB_img14.tif\r\n",
      "SN3_roads_train_AOI_3_Paris_PS-RGB_img15.tif\r\n",
      "SN3_roads_train_AOI_3_Paris_PS-RGB_img16.tif\r\n",
      "SN3_roads_train_AOI_3_Paris_PS-RGB_img17.tif\r\n",
      "SN3_roads_train_AOI_3_Paris_PS-RGB_img18.tif\r\n",
      "SN3_roads_train_AOI_3_Paris_PS-RGB_img19.tif\r\n",
      "SN3_roads_train_AOI_3_Paris_PS-RGB_img20.tif\r\n",
      "SN3_roads_train_AOI_3_Paris_PS-RGB_img21.tif\r\n",
      "SN3_roads_train_AOI_3_Paris_PS-RGB_img23.tif\r\n",
      "SN3_roads_train_AOI_3_Paris_PS-RGB_img24.tif\r\n",
      "SN3_roads_train_AOI_3_Paris_PS-RGB_img26.tif\r\n",
      "SN3_roads_train_AOI_3_Paris_PS-RGB_img27.tif\r\n",
      "SN3_roads_train_AOI_3_Paris_PS-RGB_img28.tif\r\n",
      "SN3_roads_train_AOI_3_Paris_PS-RGB_img30.tif\r\n",
      "SN3_roads_train_AOI_3_Paris_PS-RGB_img31.tif\r\n",
      "SN3_roads_train_AOI_3_Paris_PS-RGB_img33.tif\r\n",
      "SN3_roads_train_AOI_3_Paris_PS-RGB_img35.tif\r\n",
      "SN3_roads_train_AOI_3_Paris_PS-RGB_img37.tif\r\n",
      "SN3_roads_train_AOI_3_Paris_PS-RGB_img38.tif\r\n",
      "SN3_roads_train_AOI_3_Paris_PS-RGB_img39.tif\r\n",
      "SN3_roads_train_AOI_3_Paris_PS-RGB_img41.tif\r\n",
      "SN3_roads_train_AOI_3_Paris_PS-RGB_img42.tif\r\n",
      "SN3_roads_train_AOI_3_Paris_PS-RGB_img43.tif\r\n",
      "SN3_roads_train_AOI_3_Paris_PS-RGB_img46.tif\r\n",
      "SN3_roads_train_AOI_3_Paris_PS-RGB_img47.tif\r\n",
      "SN3_roads_train_AOI_3_Paris_PS-RGB_img48.tif\r\n",
      "SN3_roads_train_AOI_3_Paris_PS-RGB_img49.tif\r\n",
      "SN3_roads_train_AOI_3_Paris_PS-RGB_img50.tif\r\n",
      "SN3_roads_train_AOI_3_Paris_PS-RGB_img51.tif\r\n",
      "SN3_roads_train_AOI_3_Paris_PS-RGB_img52.tif\r\n",
      "SN3_roads_train_AOI_3_Paris_PS-RGB_img53.tif\r\n",
      "SN3_roads_train_AOI_3_Paris_PS-RGB_img54.tif\r\n",
      "SN3_roads_train_AOI_3_Paris_PS-RGB_img55.tif\r\n",
      "SN3_roads_train_AOI_3_Paris_PS-RGB_img60.tif\r\n",
      "SN3_roads_train_AOI_3_Paris_PS-RGB_img61.tif\r\n",
      "SN3_roads_train_AOI_3_Paris_PS-RGB_img63.tif\r\n",
      "SN3_roads_train_AOI_3_Paris_PS-RGB_img64.tif\r\n",
      "SN3_roads_train_AOI_3_Paris_PS-RGB_img65.tif\r\n",
      "SN3_roads_train_AOI_3_Paris_PS-RGB_img6.tif\r\n",
      "SN3_roads_train_AOI_3_Paris_PS-RGB_img72.tif\r\n",
      "SN3_roads_train_AOI_3_Paris_PS-RGB_img73.tif\r\n",
      "SN3_roads_train_AOI_3_Paris_PS-RGB_img75.tif\r\n",
      "SN3_roads_train_AOI_3_Paris_PS-RGB_img76.tif\r\n",
      "SN3_roads_train_AOI_3_Paris_PS-RGB_img77.tif\r\n",
      "SN3_roads_train_AOI_3_Paris_PS-RGB_img7.tif\r\n",
      "SN3_roads_train_AOI_3_Paris_PS-RGB_img80.tif\r\n",
      "SN3_roads_train_AOI_3_Paris_PS-RGB_img81.tif\r\n",
      "SN3_roads_train_AOI_3_Paris_PS-RGB_img9.tif\r\n",
      "\r\n",
      "data/AOI_3_Paris_Roads_Train/RGB-PanSharpen_8bit:\r\n",
      "SN3_roads_train_AOI_3_Paris_PS-RGB_img10.tif\r\n",
      "SN3_roads_train_AOI_3_Paris_PS-RGB_img11.tif\r\n",
      "SN3_roads_train_AOI_3_Paris_PS-RGB_img14.tif\r\n",
      "SN3_roads_train_AOI_3_Paris_PS-RGB_img15.tif\r\n",
      "SN3_roads_train_AOI_3_Paris_PS-RGB_img16.tif\r\n",
      "SN3_roads_train_AOI_3_Paris_PS-RGB_img17.tif\r\n",
      "SN3_roads_train_AOI_3_Paris_PS-RGB_img18.tif\r\n",
      "SN3_roads_train_AOI_3_Paris_PS-RGB_img19.tif\r\n",
      "SN3_roads_train_AOI_3_Paris_PS-RGB_img20.tif\r\n",
      "SN3_roads_train_AOI_3_Paris_PS-RGB_img21.tif\r\n",
      "SN3_roads_train_AOI_3_Paris_PS-RGB_img23.tif\r\n",
      "SN3_roads_train_AOI_3_Paris_PS-RGB_img24.tif\r\n",
      "SN3_roads_train_AOI_3_Paris_PS-RGB_img26.tif\r\n",
      "SN3_roads_train_AOI_3_Paris_PS-RGB_img27.tif\r\n",
      "SN3_roads_train_AOI_3_Paris_PS-RGB_img28.tif\r\n",
      "SN3_roads_train_AOI_3_Paris_PS-RGB_img30.tif\r\n",
      "SN3_roads_train_AOI_3_Paris_PS-RGB_img31.tif\r\n",
      "SN3_roads_train_AOI_3_Paris_PS-RGB_img33.tif\r\n",
      "SN3_roads_train_AOI_3_Paris_PS-RGB_img35.tif\r\n",
      "SN3_roads_train_AOI_3_Paris_PS-RGB_img37.tif\r\n",
      "SN3_roads_train_AOI_3_Paris_PS-RGB_img38.tif\r\n",
      "SN3_roads_train_AOI_3_Paris_PS-RGB_img39.tif\r\n",
      "SN3_roads_train_AOI_3_Paris_PS-RGB_img41.tif\r\n",
      "SN3_roads_train_AOI_3_Paris_PS-RGB_img42.tif\r\n",
      "SN3_roads_train_AOI_3_Paris_PS-RGB_img43.tif\r\n",
      "SN3_roads_train_AOI_3_Paris_PS-RGB_img46.tif\r\n",
      "SN3_roads_train_AOI_3_Paris_PS-RGB_img47.tif\r\n",
      "SN3_roads_train_AOI_3_Paris_PS-RGB_img48.tif\r\n",
      "SN3_roads_train_AOI_3_Paris_PS-RGB_img49.tif\r\n",
      "SN3_roads_train_AOI_3_Paris_PS-RGB_img50.tif\r\n",
      "SN3_roads_train_AOI_3_Paris_PS-RGB_img51.tif\r\n",
      "SN3_roads_train_AOI_3_Paris_PS-RGB_img52.tif\r\n",
      "SN3_roads_train_AOI_3_Paris_PS-RGB_img53.tif\r\n",
      "SN3_roads_train_AOI_3_Paris_PS-RGB_img54.tif\r\n",
      "SN3_roads_train_AOI_3_Paris_PS-RGB_img55.tif\r\n",
      "SN3_roads_train_AOI_3_Paris_PS-RGB_img60.tif\r\n",
      "SN3_roads_train_AOI_3_Paris_PS-RGB_img61.tif\r\n",
      "SN3_roads_train_AOI_3_Paris_PS-RGB_img63.tif\r\n",
      "SN3_roads_train_AOI_3_Paris_PS-RGB_img64.tif\r\n",
      "SN3_roads_train_AOI_3_Paris_PS-RGB_img65.tif\r\n",
      "SN3_roads_train_AOI_3_Paris_PS-RGB_img6.tif\r\n",
      "SN3_roads_train_AOI_3_Paris_PS-RGB_img72.tif\r\n",
      "SN3_roads_train_AOI_3_Paris_PS-RGB_img73.tif\r\n",
      "SN3_roads_train_AOI_3_Paris_PS-RGB_img75.tif\r\n",
      "SN3_roads_train_AOI_3_Paris_PS-RGB_img76.tif\r\n",
      "SN3_roads_train_AOI_3_Paris_PS-RGB_img77.tif\r\n",
      "SN3_roads_train_AOI_3_Paris_PS-RGB_img7.tif\r\n",
      "SN3_roads_train_AOI_3_Paris_PS-RGB_img80.tif\r\n",
      "SN3_roads_train_AOI_3_Paris_PS-RGB_img81.tif\r\n",
      "SN3_roads_train_AOI_3_Paris_PS-RGB_img9.tif\r\n",
      "\r\n",
      "data/AOI_3_Paris_Roads_Train/RGB-PanSharpen_mask:\r\n",
      "\r\n",
      "data/AOI_3_Paris_Roads_Train/RGB-PanSharpen_vis:\r\n",
      "\r\n",
      "data/AOI_3_Paris_Roads_Train/summaryData:\r\n",
      "AOI_3_Paris_Roads_Sample.csv\r\n"
     ]
    }
   ],
   "source": [
    "!ls -R data/AOI_3_Paris_Roads_Train/"
   ]
  },
  {
   "cell_type": "code",
   "execution_count": 70,
   "metadata": {},
   "outputs": [
    {
     "name": "stdout",
     "output_type": "stream",
     "text": [
      "{'crs': {'properties': {'name': 'urn:ogc:def:crs:OGC:1.3:CRS84'},\n",
      "         'type': 'name'},\n",
      " 'features': [{'geometry': {'coordinates': [[2.19518639997, 49.04555360936918],\n",
      "                                            [2.19517986039, 49.04542020193],\n",
      "                                            [2.19514500472, 49.04533112633],\n",
      "                                            [2.19509078479, 49.04526916069],\n",
      "                                            [2.19493146619, 49.04518410076],\n",
      "                                            [2.19326279845, 49.04429320188],\n",
      "                                            [2.19301880875, 49.04416539775],\n",
      "                                            [2.19273996338, 49.0439252809],\n",
      "                                            [2.19167639997, 49.0432028604724]],\n",
      "                            'type': 'LineString'},\n",
      "               'properties': {'bridge_typ': '2',\n",
      "                              'heading': '0',\n",
      "                              'lane_numbe': '2',\n",
      "                              'lane_number': '2',\n",
      "                              'one_way_ty': '2',\n",
      "                              'origarea': 0,\n",
      "                              'origlen': 0.00787777803426826,\n",
      "                              'partialDec': 1,\n",
      "                              'paved': '1',\n",
      "                              'road_id': 3220,\n",
      "                              'road_type': '6',\n",
      "                              'truncated': 0},\n",
      "               'type': 'Feature'},\n",
      "              {'geometry': {'coordinates': [[2.19518639997, 49.04535367747331],\n",
      "                                            [2.19514500472, 49.04533112633]],\n",
      "                            'type': 'LineString'},\n",
      "               'properties': {'bridge_typ': '2',\n",
      "                              'heading': '0',\n",
      "                              'lane_numbe': '1',\n",
      "                              'lane_number': '1',\n",
      "                              'one_way_ty': '2',\n",
      "                              'origarea': 0,\n",
      "                              'origlen': 0.0014930845144191076,\n",
      "                              'partialDec': 1,\n",
      "                              'paved': '2',\n",
      "                              'road_id': 1203,\n",
      "                              'road_type': '6',\n",
      "                              'truncated': 0},\n",
      "               'type': 'Feature'},\n",
      "              {'geometry': {'coordinates': [[2.19167639997, 49.045195103863556],\n",
      "                                            [2.19310939711, 49.04573048012],\n",
      "                                            [2.19369937669845, 49.0459509]],\n",
      "                            'type': 'LineString'},\n",
      "               'properties': {'bridge_typ': '2',\n",
      "                              'heading': '0',\n",
      "                              'lane_numbe': '2',\n",
      "                              'lane_number': '2',\n",
      "                              'one_way_ty': '2',\n",
      "                              'origarea': 0,\n",
      "                              'origlen': 0.013766491208835968,\n",
      "                              'partialDec': 1,\n",
      "                              'paved': '2',\n",
      "                              'road_id': 3252,\n",
      "                              'road_type': '6',\n",
      "                              'truncated': 0},\n",
      "               'type': 'Feature'},\n",
      "              {'geometry': {'coordinates': [[2.192918882346808, 49.0459509],\n",
      "                                            [2.19310939711, 49.04573048012]],\n",
      "                            'type': 'LineString'},\n",
      "               'properties': {'bridge_typ': '2',\n",
      "                              'heading': '0',\n",
      "                              'lane_numbe': '1',\n",
      "                              'lane_number': '1',\n",
      "                              'one_way_ty': '2',\n",
      "                              'origarea': 0,\n",
      "                              'origlen': 0.0028966751407460056,\n",
      "                              'partialDec': 1,\n",
      "                              'paved': '2',\n",
      "                              'road_id': 923,\n",
      "                              'road_type': '6',\n",
      "                              'truncated': 0},\n",
      "               'type': 'Feature'}],\n",
      " 'type': 'FeatureCollection'}\n"
     ]
    }
   ],
   "source": [
    "import json\n",
    "from pprint import pprint\n",
    "\n",
    "path =  'data/AOI_3_Paris_Roads_Train/geojson/spacenetroads/SN3_roads_train_AOI_3_Paris_geojson_roads_img9.geojson'\n",
    "\n",
    "# path =  'data/AOI_2_Vegas_Roads_Train/geojson/spacenetroads/spacenetroads_AOI_2_Vegas_img12.geojson'\n",
    "\n",
    "data = json.load(open(path))\n",
    "\n",
    "pprint(data)"
   ]
  },
  {
   "cell_type": "code",
   "execution_count": 71,
   "metadata": {},
   "outputs": [],
   "source": [
    "import pandas as pd\n",
    "from multiprocessing import Pool\n",
    "import tqdm\n",
    "import numpy as np\n",
    "import os\n",
    "import glob as glob\n",
    "from skimage.io import imread, imsave\n",
    "import osmnx as ox\n",
    "import numpy as np\n",
    "import matplotlib\n",
    "import matplotlib.pyplot as plt\n",
    "import geopandas as gpd\n",
    "from osgeo import gdal, ogr, osr\n",
    "import cv2\n",
    "import subprocess\n",
    "import shapely\n",
    "from shapely.geometry import MultiLineString\n",
    "from matplotlib.patches import PathPatch\n",
    "import matplotlib.path"
   ]
  },
  {
   "cell_type": "code",
   "execution_count": 72,
   "metadata": {},
   "outputs": [],
   "source": [
    "imgs = []\n",
    "\n",
    "# change this to your data prefix\n",
    "path_prefix = 'data'\n",
    "\n",
    "# default variables from the hosts of the challenge\n",
    "buffer_meters = 2\n",
    "burnValue = 150\n",
    "\n",
    "# only train folders\n",
    "folders = ['AOI_3_Paris_Roads_Train',\n",
    "           'AOI_4_Shanghai_Roads_Train', \n",
    "           'AOI_5_Khartoum_Roads_Train']\n",
    "\n",
    "# image types\n",
    "\n",
    "prefix_dict = {\n",
    "    'mul': 'MUL',\n",
    "    'muls': 'MUL-PanSharpen',\n",
    "    'pan': 'PAN',\n",
    "    'rgbps': 'RGB-PanSharpen',    \n",
    "}\n",
    "\n",
    "# prefix_dict = {\n",
    "#     'mul': 'MS',\n",
    "#     'muls': 'PS-MS',\n",
    "#     'pan': 'PAN',\n",
    "#     'rgbps': 'PS-RGB',    \n",
    "# }\n",
    "\n",
    "\n",
    "for folder in folders:\n",
    "    for prefix in prefix_dict.items():\n",
    "        g = glob.glob(path_prefix+'/{}/{}/*.tif'.format(folder,prefix[1]))\n",
    "        imgs.extend(g)\n",
    "        \n",
    "img_folders = [(img.split('/')[1]) for img in imgs]\n",
    "img_subfolders = [(img.split('/')[2]) for img in imgs]   \n",
    "img_files = [(img.split('/')[3]) for img in imgs]   \n"
   ]
  },
  {
   "cell_type": "code",
   "execution_count": 73,
   "metadata": {},
   "outputs": [
    {
     "data": {
      "text/plain": [
       "['AOI_3_Paris_Roads_Train',\n",
       " 'AOI_3_Paris_Roads_Train',\n",
       " 'AOI_3_Paris_Roads_Train',\n",
       " 'AOI_3_Paris_Roads_Train',\n",
       " 'AOI_3_Paris_Roads_Train',\n",
       " 'AOI_3_Paris_Roads_Train',\n",
       " 'AOI_3_Paris_Roads_Train',\n",
       " 'AOI_3_Paris_Roads_Train',\n",
       " 'AOI_3_Paris_Roads_Train',\n",
       " 'AOI_3_Paris_Roads_Train',\n",
       " 'AOI_3_Paris_Roads_Train',\n",
       " 'AOI_3_Paris_Roads_Train',\n",
       " 'AOI_3_Paris_Roads_Train',\n",
       " 'AOI_3_Paris_Roads_Train',\n",
       " 'AOI_3_Paris_Roads_Train',\n",
       " 'AOI_3_Paris_Roads_Train',\n",
       " 'AOI_3_Paris_Roads_Train',\n",
       " 'AOI_3_Paris_Roads_Train',\n",
       " 'AOI_3_Paris_Roads_Train',\n",
       " 'AOI_3_Paris_Roads_Train',\n",
       " 'AOI_3_Paris_Roads_Train',\n",
       " 'AOI_3_Paris_Roads_Train',\n",
       " 'AOI_3_Paris_Roads_Train',\n",
       " 'AOI_3_Paris_Roads_Train',\n",
       " 'AOI_3_Paris_Roads_Train',\n",
       " 'AOI_3_Paris_Roads_Train',\n",
       " 'AOI_3_Paris_Roads_Train',\n",
       " 'AOI_3_Paris_Roads_Train',\n",
       " 'AOI_3_Paris_Roads_Train',\n",
       " 'AOI_3_Paris_Roads_Train',\n",
       " 'AOI_3_Paris_Roads_Train',\n",
       " 'AOI_3_Paris_Roads_Train',\n",
       " 'AOI_3_Paris_Roads_Train',\n",
       " 'AOI_3_Paris_Roads_Train',\n",
       " 'AOI_3_Paris_Roads_Train',\n",
       " 'AOI_3_Paris_Roads_Train',\n",
       " 'AOI_3_Paris_Roads_Train',\n",
       " 'AOI_3_Paris_Roads_Train',\n",
       " 'AOI_3_Paris_Roads_Train',\n",
       " 'AOI_3_Paris_Roads_Train',\n",
       " 'AOI_3_Paris_Roads_Train',\n",
       " 'AOI_3_Paris_Roads_Train',\n",
       " 'AOI_3_Paris_Roads_Train',\n",
       " 'AOI_3_Paris_Roads_Train',\n",
       " 'AOI_3_Paris_Roads_Train',\n",
       " 'AOI_3_Paris_Roads_Train',\n",
       " 'AOI_3_Paris_Roads_Train',\n",
       " 'AOI_3_Paris_Roads_Train',\n",
       " 'AOI_3_Paris_Roads_Train',\n",
       " 'AOI_3_Paris_Roads_Train',\n",
       " 'AOI_3_Paris_Roads_Train',\n",
       " 'AOI_3_Paris_Roads_Train',\n",
       " 'AOI_3_Paris_Roads_Train',\n",
       " 'AOI_3_Paris_Roads_Train',\n",
       " 'AOI_3_Paris_Roads_Train',\n",
       " 'AOI_3_Paris_Roads_Train',\n",
       " 'AOI_3_Paris_Roads_Train',\n",
       " 'AOI_3_Paris_Roads_Train',\n",
       " 'AOI_3_Paris_Roads_Train',\n",
       " 'AOI_3_Paris_Roads_Train',\n",
       " 'AOI_3_Paris_Roads_Train',\n",
       " 'AOI_3_Paris_Roads_Train',\n",
       " 'AOI_3_Paris_Roads_Train',\n",
       " 'AOI_3_Paris_Roads_Train',\n",
       " 'AOI_3_Paris_Roads_Train',\n",
       " 'AOI_3_Paris_Roads_Train',\n",
       " 'AOI_3_Paris_Roads_Train',\n",
       " 'AOI_3_Paris_Roads_Train',\n",
       " 'AOI_3_Paris_Roads_Train',\n",
       " 'AOI_3_Paris_Roads_Train',\n",
       " 'AOI_3_Paris_Roads_Train',\n",
       " 'AOI_3_Paris_Roads_Train',\n",
       " 'AOI_3_Paris_Roads_Train',\n",
       " 'AOI_3_Paris_Roads_Train',\n",
       " 'AOI_3_Paris_Roads_Train',\n",
       " 'AOI_3_Paris_Roads_Train',\n",
       " 'AOI_3_Paris_Roads_Train',\n",
       " 'AOI_3_Paris_Roads_Train',\n",
       " 'AOI_3_Paris_Roads_Train',\n",
       " 'AOI_3_Paris_Roads_Train',\n",
       " 'AOI_3_Paris_Roads_Train',\n",
       " 'AOI_3_Paris_Roads_Train',\n",
       " 'AOI_3_Paris_Roads_Train',\n",
       " 'AOI_3_Paris_Roads_Train',\n",
       " 'AOI_3_Paris_Roads_Train',\n",
       " 'AOI_3_Paris_Roads_Train',\n",
       " 'AOI_3_Paris_Roads_Train',\n",
       " 'AOI_3_Paris_Roads_Train',\n",
       " 'AOI_3_Paris_Roads_Train',\n",
       " 'AOI_3_Paris_Roads_Train',\n",
       " 'AOI_3_Paris_Roads_Train',\n",
       " 'AOI_3_Paris_Roads_Train',\n",
       " 'AOI_3_Paris_Roads_Train',\n",
       " 'AOI_3_Paris_Roads_Train',\n",
       " 'AOI_3_Paris_Roads_Train',\n",
       " 'AOI_3_Paris_Roads_Train',\n",
       " 'AOI_3_Paris_Roads_Train',\n",
       " 'AOI_3_Paris_Roads_Train',\n",
       " 'AOI_3_Paris_Roads_Train',\n",
       " 'AOI_3_Paris_Roads_Train',\n",
       " 'AOI_3_Paris_Roads_Train',\n",
       " 'AOI_3_Paris_Roads_Train',\n",
       " 'AOI_3_Paris_Roads_Train',\n",
       " 'AOI_3_Paris_Roads_Train',\n",
       " 'AOI_3_Paris_Roads_Train',\n",
       " 'AOI_3_Paris_Roads_Train',\n",
       " 'AOI_3_Paris_Roads_Train',\n",
       " 'AOI_3_Paris_Roads_Train',\n",
       " 'AOI_3_Paris_Roads_Train',\n",
       " 'AOI_3_Paris_Roads_Train',\n",
       " 'AOI_3_Paris_Roads_Train',\n",
       " 'AOI_3_Paris_Roads_Train',\n",
       " 'AOI_3_Paris_Roads_Train',\n",
       " 'AOI_3_Paris_Roads_Train',\n",
       " 'AOI_3_Paris_Roads_Train',\n",
       " 'AOI_3_Paris_Roads_Train',\n",
       " 'AOI_3_Paris_Roads_Train',\n",
       " 'AOI_3_Paris_Roads_Train',\n",
       " 'AOI_3_Paris_Roads_Train',\n",
       " 'AOI_3_Paris_Roads_Train',\n",
       " 'AOI_3_Paris_Roads_Train',\n",
       " 'AOI_3_Paris_Roads_Train',\n",
       " 'AOI_3_Paris_Roads_Train',\n",
       " 'AOI_3_Paris_Roads_Train',\n",
       " 'AOI_3_Paris_Roads_Train',\n",
       " 'AOI_3_Paris_Roads_Train',\n",
       " 'AOI_3_Paris_Roads_Train',\n",
       " 'AOI_3_Paris_Roads_Train',\n",
       " 'AOI_3_Paris_Roads_Train',\n",
       " 'AOI_3_Paris_Roads_Train',\n",
       " 'AOI_3_Paris_Roads_Train',\n",
       " 'AOI_3_Paris_Roads_Train',\n",
       " 'AOI_3_Paris_Roads_Train',\n",
       " 'AOI_3_Paris_Roads_Train',\n",
       " 'AOI_3_Paris_Roads_Train',\n",
       " 'AOI_3_Paris_Roads_Train',\n",
       " 'AOI_3_Paris_Roads_Train',\n",
       " 'AOI_3_Paris_Roads_Train',\n",
       " 'AOI_3_Paris_Roads_Train',\n",
       " 'AOI_3_Paris_Roads_Train',\n",
       " 'AOI_3_Paris_Roads_Train',\n",
       " 'AOI_3_Paris_Roads_Train',\n",
       " 'AOI_3_Paris_Roads_Train',\n",
       " 'AOI_3_Paris_Roads_Train',\n",
       " 'AOI_3_Paris_Roads_Train',\n",
       " 'AOI_3_Paris_Roads_Train',\n",
       " 'AOI_3_Paris_Roads_Train',\n",
       " 'AOI_3_Paris_Roads_Train',\n",
       " 'AOI_3_Paris_Roads_Train',\n",
       " 'AOI_3_Paris_Roads_Train',\n",
       " 'AOI_3_Paris_Roads_Train',\n",
       " 'AOI_3_Paris_Roads_Train',\n",
       " 'AOI_3_Paris_Roads_Train',\n",
       " 'AOI_3_Paris_Roads_Train',\n",
       " 'AOI_3_Paris_Roads_Train',\n",
       " 'AOI_3_Paris_Roads_Train',\n",
       " 'AOI_3_Paris_Roads_Train',\n",
       " 'AOI_3_Paris_Roads_Train',\n",
       " 'AOI_3_Paris_Roads_Train',\n",
       " 'AOI_3_Paris_Roads_Train',\n",
       " 'AOI_3_Paris_Roads_Train',\n",
       " 'AOI_3_Paris_Roads_Train',\n",
       " 'AOI_3_Paris_Roads_Train',\n",
       " 'AOI_3_Paris_Roads_Train',\n",
       " 'AOI_3_Paris_Roads_Train',\n",
       " 'AOI_3_Paris_Roads_Train',\n",
       " 'AOI_3_Paris_Roads_Train',\n",
       " 'AOI_3_Paris_Roads_Train',\n",
       " 'AOI_3_Paris_Roads_Train',\n",
       " 'AOI_3_Paris_Roads_Train',\n",
       " 'AOI_3_Paris_Roads_Train',\n",
       " 'AOI_3_Paris_Roads_Train',\n",
       " 'AOI_3_Paris_Roads_Train',\n",
       " 'AOI_3_Paris_Roads_Train',\n",
       " 'AOI_3_Paris_Roads_Train',\n",
       " 'AOI_3_Paris_Roads_Train',\n",
       " 'AOI_3_Paris_Roads_Train',\n",
       " 'AOI_3_Paris_Roads_Train',\n",
       " 'AOI_3_Paris_Roads_Train',\n",
       " 'AOI_3_Paris_Roads_Train',\n",
       " 'AOI_3_Paris_Roads_Train',\n",
       " 'AOI_3_Paris_Roads_Train',\n",
       " 'AOI_3_Paris_Roads_Train',\n",
       " 'AOI_3_Paris_Roads_Train',\n",
       " 'AOI_3_Paris_Roads_Train',\n",
       " 'AOI_3_Paris_Roads_Train',\n",
       " 'AOI_3_Paris_Roads_Train',\n",
       " 'AOI_3_Paris_Roads_Train',\n",
       " 'AOI_3_Paris_Roads_Train',\n",
       " 'AOI_3_Paris_Roads_Train',\n",
       " 'AOI_3_Paris_Roads_Train',\n",
       " 'AOI_3_Paris_Roads_Train',\n",
       " 'AOI_3_Paris_Roads_Train',\n",
       " 'AOI_3_Paris_Roads_Train',\n",
       " 'AOI_3_Paris_Roads_Train',\n",
       " 'AOI_3_Paris_Roads_Train',\n",
       " 'AOI_3_Paris_Roads_Train',\n",
       " 'AOI_3_Paris_Roads_Train',\n",
       " 'AOI_3_Paris_Roads_Train',\n",
       " 'AOI_3_Paris_Roads_Train',\n",
       " 'AOI_4_Shanghai_Roads_Train',\n",
       " 'AOI_4_Shanghai_Roads_Train',\n",
       " 'AOI_4_Shanghai_Roads_Train',\n",
       " 'AOI_4_Shanghai_Roads_Train',\n",
       " 'AOI_4_Shanghai_Roads_Train',\n",
       " 'AOI_4_Shanghai_Roads_Train',\n",
       " 'AOI_4_Shanghai_Roads_Train',\n",
       " 'AOI_4_Shanghai_Roads_Train',\n",
       " 'AOI_4_Shanghai_Roads_Train',\n",
       " 'AOI_4_Shanghai_Roads_Train',\n",
       " 'AOI_4_Shanghai_Roads_Train',\n",
       " 'AOI_4_Shanghai_Roads_Train',\n",
       " 'AOI_4_Shanghai_Roads_Train',\n",
       " 'AOI_4_Shanghai_Roads_Train',\n",
       " 'AOI_4_Shanghai_Roads_Train',\n",
       " 'AOI_4_Shanghai_Roads_Train',\n",
       " 'AOI_4_Shanghai_Roads_Train',\n",
       " 'AOI_4_Shanghai_Roads_Train',\n",
       " 'AOI_4_Shanghai_Roads_Train',\n",
       " 'AOI_4_Shanghai_Roads_Train',\n",
       " 'AOI_4_Shanghai_Roads_Train',\n",
       " 'AOI_4_Shanghai_Roads_Train',\n",
       " 'AOI_4_Shanghai_Roads_Train',\n",
       " 'AOI_4_Shanghai_Roads_Train',\n",
       " 'AOI_4_Shanghai_Roads_Train',\n",
       " 'AOI_4_Shanghai_Roads_Train',\n",
       " 'AOI_4_Shanghai_Roads_Train',\n",
       " 'AOI_4_Shanghai_Roads_Train',\n",
       " 'AOI_4_Shanghai_Roads_Train',\n",
       " 'AOI_4_Shanghai_Roads_Train',\n",
       " 'AOI_4_Shanghai_Roads_Train',\n",
       " 'AOI_4_Shanghai_Roads_Train',\n",
       " 'AOI_4_Shanghai_Roads_Train',\n",
       " 'AOI_4_Shanghai_Roads_Train',\n",
       " 'AOI_4_Shanghai_Roads_Train',\n",
       " 'AOI_4_Shanghai_Roads_Train',\n",
       " 'AOI_4_Shanghai_Roads_Train',\n",
       " 'AOI_4_Shanghai_Roads_Train',\n",
       " 'AOI_4_Shanghai_Roads_Train',\n",
       " 'AOI_4_Shanghai_Roads_Train',\n",
       " 'AOI_4_Shanghai_Roads_Train',\n",
       " 'AOI_4_Shanghai_Roads_Train',\n",
       " 'AOI_4_Shanghai_Roads_Train',\n",
       " 'AOI_4_Shanghai_Roads_Train',\n",
       " 'AOI_4_Shanghai_Roads_Train',\n",
       " 'AOI_4_Shanghai_Roads_Train',\n",
       " 'AOI_4_Shanghai_Roads_Train',\n",
       " 'AOI_4_Shanghai_Roads_Train',\n",
       " 'AOI_4_Shanghai_Roads_Train',\n",
       " 'AOI_4_Shanghai_Roads_Train',\n",
       " 'AOI_4_Shanghai_Roads_Train',\n",
       " 'AOI_4_Shanghai_Roads_Train',\n",
       " 'AOI_4_Shanghai_Roads_Train',\n",
       " 'AOI_4_Shanghai_Roads_Train',\n",
       " 'AOI_4_Shanghai_Roads_Train',\n",
       " 'AOI_4_Shanghai_Roads_Train',\n",
       " 'AOI_4_Shanghai_Roads_Train',\n",
       " 'AOI_4_Shanghai_Roads_Train',\n",
       " 'AOI_4_Shanghai_Roads_Train',\n",
       " 'AOI_4_Shanghai_Roads_Train',\n",
       " 'AOI_4_Shanghai_Roads_Train',\n",
       " 'AOI_4_Shanghai_Roads_Train',\n",
       " 'AOI_4_Shanghai_Roads_Train',\n",
       " 'AOI_4_Shanghai_Roads_Train',\n",
       " 'AOI_4_Shanghai_Roads_Train',\n",
       " 'AOI_4_Shanghai_Roads_Train',\n",
       " 'AOI_4_Shanghai_Roads_Train',\n",
       " 'AOI_4_Shanghai_Roads_Train',\n",
       " 'AOI_4_Shanghai_Roads_Train',\n",
       " 'AOI_4_Shanghai_Roads_Train',\n",
       " 'AOI_4_Shanghai_Roads_Train',\n",
       " 'AOI_4_Shanghai_Roads_Train',\n",
       " 'AOI_4_Shanghai_Roads_Train',\n",
       " 'AOI_4_Shanghai_Roads_Train',\n",
       " 'AOI_4_Shanghai_Roads_Train',\n",
       " 'AOI_4_Shanghai_Roads_Train',\n",
       " 'AOI_4_Shanghai_Roads_Train',\n",
       " 'AOI_4_Shanghai_Roads_Train',\n",
       " 'AOI_4_Shanghai_Roads_Train',\n",
       " 'AOI_4_Shanghai_Roads_Train',\n",
       " 'AOI_4_Shanghai_Roads_Train',\n",
       " 'AOI_4_Shanghai_Roads_Train',\n",
       " 'AOI_4_Shanghai_Roads_Train',\n",
       " 'AOI_4_Shanghai_Roads_Train',\n",
       " 'AOI_4_Shanghai_Roads_Train',\n",
       " 'AOI_4_Shanghai_Roads_Train',\n",
       " 'AOI_4_Shanghai_Roads_Train',\n",
       " 'AOI_4_Shanghai_Roads_Train',\n",
       " 'AOI_4_Shanghai_Roads_Train',\n",
       " 'AOI_4_Shanghai_Roads_Train',\n",
       " 'AOI_4_Shanghai_Roads_Train',\n",
       " 'AOI_4_Shanghai_Roads_Train',\n",
       " 'AOI_4_Shanghai_Roads_Train',\n",
       " 'AOI_4_Shanghai_Roads_Train',\n",
       " 'AOI_4_Shanghai_Roads_Train',\n",
       " 'AOI_4_Shanghai_Roads_Train',\n",
       " 'AOI_4_Shanghai_Roads_Train',\n",
       " 'AOI_4_Shanghai_Roads_Train',\n",
       " 'AOI_4_Shanghai_Roads_Train',\n",
       " 'AOI_4_Shanghai_Roads_Train',\n",
       " 'AOI_4_Shanghai_Roads_Train',\n",
       " 'AOI_4_Shanghai_Roads_Train',\n",
       " 'AOI_4_Shanghai_Roads_Train',\n",
       " 'AOI_4_Shanghai_Roads_Train',\n",
       " 'AOI_4_Shanghai_Roads_Train',\n",
       " 'AOI_4_Shanghai_Roads_Train',\n",
       " 'AOI_4_Shanghai_Roads_Train',\n",
       " 'AOI_4_Shanghai_Roads_Train',\n",
       " 'AOI_4_Shanghai_Roads_Train',\n",
       " 'AOI_4_Shanghai_Roads_Train',\n",
       " 'AOI_4_Shanghai_Roads_Train',\n",
       " 'AOI_4_Shanghai_Roads_Train',\n",
       " 'AOI_4_Shanghai_Roads_Train',\n",
       " 'AOI_4_Shanghai_Roads_Train',\n",
       " 'AOI_4_Shanghai_Roads_Train',\n",
       " 'AOI_4_Shanghai_Roads_Train',\n",
       " 'AOI_4_Shanghai_Roads_Train',\n",
       " 'AOI_4_Shanghai_Roads_Train',\n",
       " 'AOI_4_Shanghai_Roads_Train',\n",
       " 'AOI_4_Shanghai_Roads_Train',\n",
       " 'AOI_4_Shanghai_Roads_Train',\n",
       " 'AOI_4_Shanghai_Roads_Train',\n",
       " 'AOI_4_Shanghai_Roads_Train',\n",
       " 'AOI_4_Shanghai_Roads_Train',\n",
       " 'AOI_4_Shanghai_Roads_Train',\n",
       " 'AOI_4_Shanghai_Roads_Train',\n",
       " 'AOI_4_Shanghai_Roads_Train',\n",
       " 'AOI_4_Shanghai_Roads_Train',\n",
       " 'AOI_4_Shanghai_Roads_Train',\n",
       " 'AOI_4_Shanghai_Roads_Train',\n",
       " 'AOI_4_Shanghai_Roads_Train',\n",
       " 'AOI_4_Shanghai_Roads_Train',\n",
       " 'AOI_4_Shanghai_Roads_Train',\n",
       " 'AOI_4_Shanghai_Roads_Train',\n",
       " 'AOI_4_Shanghai_Roads_Train',\n",
       " 'AOI_4_Shanghai_Roads_Train',\n",
       " 'AOI_4_Shanghai_Roads_Train',\n",
       " 'AOI_4_Shanghai_Roads_Train',\n",
       " 'AOI_4_Shanghai_Roads_Train',\n",
       " 'AOI_4_Shanghai_Roads_Train',\n",
       " 'AOI_4_Shanghai_Roads_Train',\n",
       " 'AOI_4_Shanghai_Roads_Train',\n",
       " 'AOI_4_Shanghai_Roads_Train',\n",
       " 'AOI_4_Shanghai_Roads_Train',\n",
       " 'AOI_4_Shanghai_Roads_Train',\n",
       " 'AOI_4_Shanghai_Roads_Train',\n",
       " 'AOI_4_Shanghai_Roads_Train',\n",
       " 'AOI_4_Shanghai_Roads_Train',\n",
       " 'AOI_4_Shanghai_Roads_Train',\n",
       " 'AOI_4_Shanghai_Roads_Train',\n",
       " 'AOI_4_Shanghai_Roads_Train',\n",
       " 'AOI_4_Shanghai_Roads_Train',\n",
       " 'AOI_4_Shanghai_Roads_Train',\n",
       " 'AOI_4_Shanghai_Roads_Train',\n",
       " 'AOI_4_Shanghai_Roads_Train',\n",
       " 'AOI_4_Shanghai_Roads_Train',\n",
       " 'AOI_4_Shanghai_Roads_Train',\n",
       " 'AOI_4_Shanghai_Roads_Train',\n",
       " 'AOI_4_Shanghai_Roads_Train',\n",
       " 'AOI_4_Shanghai_Roads_Train',\n",
       " 'AOI_4_Shanghai_Roads_Train',\n",
       " 'AOI_4_Shanghai_Roads_Train',\n",
       " 'AOI_4_Shanghai_Roads_Train',\n",
       " 'AOI_4_Shanghai_Roads_Train',\n",
       " 'AOI_4_Shanghai_Roads_Train',\n",
       " 'AOI_4_Shanghai_Roads_Train',\n",
       " 'AOI_4_Shanghai_Roads_Train',\n",
       " 'AOI_4_Shanghai_Roads_Train',\n",
       " 'AOI_4_Shanghai_Roads_Train',\n",
       " 'AOI_4_Shanghai_Roads_Train',\n",
       " 'AOI_4_Shanghai_Roads_Train',\n",
       " 'AOI_4_Shanghai_Roads_Train',\n",
       " 'AOI_4_Shanghai_Roads_Train',\n",
       " 'AOI_4_Shanghai_Roads_Train',\n",
       " 'AOI_4_Shanghai_Roads_Train',\n",
       " 'AOI_4_Shanghai_Roads_Train',\n",
       " 'AOI_4_Shanghai_Roads_Train',\n",
       " 'AOI_4_Shanghai_Roads_Train',\n",
       " 'AOI_4_Shanghai_Roads_Train',\n",
       " 'AOI_4_Shanghai_Roads_Train',\n",
       " 'AOI_4_Shanghai_Roads_Train',\n",
       " 'AOI_4_Shanghai_Roads_Train',\n",
       " 'AOI_4_Shanghai_Roads_Train',\n",
       " 'AOI_4_Shanghai_Roads_Train',\n",
       " 'AOI_4_Shanghai_Roads_Train',\n",
       " 'AOI_4_Shanghai_Roads_Train',\n",
       " 'AOI_4_Shanghai_Roads_Train',\n",
       " 'AOI_4_Shanghai_Roads_Train',\n",
       " 'AOI_4_Shanghai_Roads_Train',\n",
       " 'AOI_4_Shanghai_Roads_Train',\n",
       " 'AOI_4_Shanghai_Roads_Train',\n",
       " 'AOI_4_Shanghai_Roads_Train',\n",
       " 'AOI_4_Shanghai_Roads_Train',\n",
       " 'AOI_4_Shanghai_Roads_Train',\n",
       " 'AOI_4_Shanghai_Roads_Train',\n",
       " 'AOI_4_Shanghai_Roads_Train',\n",
       " 'AOI_4_Shanghai_Roads_Train',\n",
       " 'AOI_4_Shanghai_Roads_Train',\n",
       " 'AOI_4_Shanghai_Roads_Train',\n",
       " 'AOI_4_Shanghai_Roads_Train',\n",
       " 'AOI_5_Khartoum_Roads_Train',\n",
       " 'AOI_5_Khartoum_Roads_Train',\n",
       " 'AOI_5_Khartoum_Roads_Train',\n",
       " 'AOI_5_Khartoum_Roads_Train',\n",
       " 'AOI_5_Khartoum_Roads_Train',\n",
       " 'AOI_5_Khartoum_Roads_Train',\n",
       " 'AOI_5_Khartoum_Roads_Train',\n",
       " 'AOI_5_Khartoum_Roads_Train',\n",
       " 'AOI_5_Khartoum_Roads_Train',\n",
       " 'AOI_5_Khartoum_Roads_Train',\n",
       " 'AOI_5_Khartoum_Roads_Train',\n",
       " 'AOI_5_Khartoum_Roads_Train',\n",
       " 'AOI_5_Khartoum_Roads_Train',\n",
       " 'AOI_5_Khartoum_Roads_Train',\n",
       " 'AOI_5_Khartoum_Roads_Train',\n",
       " 'AOI_5_Khartoum_Roads_Train',\n",
       " 'AOI_5_Khartoum_Roads_Train',\n",
       " 'AOI_5_Khartoum_Roads_Train',\n",
       " 'AOI_5_Khartoum_Roads_Train',\n",
       " 'AOI_5_Khartoum_Roads_Train',\n",
       " 'AOI_5_Khartoum_Roads_Train',\n",
       " 'AOI_5_Khartoum_Roads_Train',\n",
       " 'AOI_5_Khartoum_Roads_Train',\n",
       " 'AOI_5_Khartoum_Roads_Train',\n",
       " 'AOI_5_Khartoum_Roads_Train',\n",
       " 'AOI_5_Khartoum_Roads_Train',\n",
       " 'AOI_5_Khartoum_Roads_Train',\n",
       " 'AOI_5_Khartoum_Roads_Train',\n",
       " 'AOI_5_Khartoum_Roads_Train',\n",
       " 'AOI_5_Khartoum_Roads_Train',\n",
       " 'AOI_5_Khartoum_Roads_Train',\n",
       " 'AOI_5_Khartoum_Roads_Train',\n",
       " 'AOI_5_Khartoum_Roads_Train',\n",
       " 'AOI_5_Khartoum_Roads_Train',\n",
       " 'AOI_5_Khartoum_Roads_Train',\n",
       " 'AOI_5_Khartoum_Roads_Train',\n",
       " 'AOI_5_Khartoum_Roads_Train',\n",
       " 'AOI_5_Khartoum_Roads_Train',\n",
       " 'AOI_5_Khartoum_Roads_Train',\n",
       " 'AOI_5_Khartoum_Roads_Train',\n",
       " 'AOI_5_Khartoum_Roads_Train',\n",
       " 'AOI_5_Khartoum_Roads_Train',\n",
       " 'AOI_5_Khartoum_Roads_Train',\n",
       " 'AOI_5_Khartoum_Roads_Train',\n",
       " 'AOI_5_Khartoum_Roads_Train',\n",
       " 'AOI_5_Khartoum_Roads_Train',\n",
       " 'AOI_5_Khartoum_Roads_Train',\n",
       " 'AOI_5_Khartoum_Roads_Train',\n",
       " 'AOI_5_Khartoum_Roads_Train',\n",
       " 'AOI_5_Khartoum_Roads_Train',\n",
       " 'AOI_5_Khartoum_Roads_Train',\n",
       " 'AOI_5_Khartoum_Roads_Train',\n",
       " 'AOI_5_Khartoum_Roads_Train',\n",
       " 'AOI_5_Khartoum_Roads_Train',\n",
       " 'AOI_5_Khartoum_Roads_Train',\n",
       " 'AOI_5_Khartoum_Roads_Train',\n",
       " 'AOI_5_Khartoum_Roads_Train',\n",
       " 'AOI_5_Khartoum_Roads_Train',\n",
       " 'AOI_5_Khartoum_Roads_Train',\n",
       " 'AOI_5_Khartoum_Roads_Train',\n",
       " 'AOI_5_Khartoum_Roads_Train',\n",
       " 'AOI_5_Khartoum_Roads_Train',\n",
       " 'AOI_5_Khartoum_Roads_Train',\n",
       " 'AOI_5_Khartoum_Roads_Train',\n",
       " 'AOI_5_Khartoum_Roads_Train',\n",
       " 'AOI_5_Khartoum_Roads_Train',\n",
       " 'AOI_5_Khartoum_Roads_Train',\n",
       " 'AOI_5_Khartoum_Roads_Train',\n",
       " 'AOI_5_Khartoum_Roads_Train',\n",
       " 'AOI_5_Khartoum_Roads_Train',\n",
       " 'AOI_5_Khartoum_Roads_Train',\n",
       " 'AOI_5_Khartoum_Roads_Train',\n",
       " 'AOI_5_Khartoum_Roads_Train',\n",
       " 'AOI_5_Khartoum_Roads_Train',\n",
       " 'AOI_5_Khartoum_Roads_Train',\n",
       " 'AOI_5_Khartoum_Roads_Train',\n",
       " 'AOI_5_Khartoum_Roads_Train',\n",
       " 'AOI_5_Khartoum_Roads_Train',\n",
       " 'AOI_5_Khartoum_Roads_Train',\n",
       " 'AOI_5_Khartoum_Roads_Train',\n",
       " 'AOI_5_Khartoum_Roads_Train',\n",
       " 'AOI_5_Khartoum_Roads_Train',\n",
       " 'AOI_5_Khartoum_Roads_Train',\n",
       " 'AOI_5_Khartoum_Roads_Train',\n",
       " 'AOI_5_Khartoum_Roads_Train',\n",
       " 'AOI_5_Khartoum_Roads_Train',\n",
       " 'AOI_5_Khartoum_Roads_Train',\n",
       " 'AOI_5_Khartoum_Roads_Train',\n",
       " 'AOI_5_Khartoum_Roads_Train',\n",
       " 'AOI_5_Khartoum_Roads_Train',\n",
       " 'AOI_5_Khartoum_Roads_Train',\n",
       " 'AOI_5_Khartoum_Roads_Train',\n",
       " 'AOI_5_Khartoum_Roads_Train',\n",
       " 'AOI_5_Khartoum_Roads_Train',\n",
       " 'AOI_5_Khartoum_Roads_Train',\n",
       " 'AOI_5_Khartoum_Roads_Train',\n",
       " 'AOI_5_Khartoum_Roads_Train',\n",
       " 'AOI_5_Khartoum_Roads_Train',\n",
       " 'AOI_5_Khartoum_Roads_Train',\n",
       " 'AOI_5_Khartoum_Roads_Train',\n",
       " 'AOI_5_Khartoum_Roads_Train',\n",
       " 'AOI_5_Khartoum_Roads_Train',\n",
       " 'AOI_5_Khartoum_Roads_Train',\n",
       " 'AOI_5_Khartoum_Roads_Train',\n",
       " 'AOI_5_Khartoum_Roads_Train',\n",
       " 'AOI_5_Khartoum_Roads_Train',\n",
       " 'AOI_5_Khartoum_Roads_Train',\n",
       " 'AOI_5_Khartoum_Roads_Train',\n",
       " 'AOI_5_Khartoum_Roads_Train',\n",
       " 'AOI_5_Khartoum_Roads_Train',\n",
       " 'AOI_5_Khartoum_Roads_Train',\n",
       " 'AOI_5_Khartoum_Roads_Train',\n",
       " 'AOI_5_Khartoum_Roads_Train',\n",
       " 'AOI_5_Khartoum_Roads_Train',\n",
       " 'AOI_5_Khartoum_Roads_Train',\n",
       " 'AOI_5_Khartoum_Roads_Train',\n",
       " 'AOI_5_Khartoum_Roads_Train',\n",
       " 'AOI_5_Khartoum_Roads_Train',\n",
       " 'AOI_5_Khartoum_Roads_Train',\n",
       " 'AOI_5_Khartoum_Roads_Train',\n",
       " 'AOI_5_Khartoum_Roads_Train',\n",
       " 'AOI_5_Khartoum_Roads_Train',\n",
       " 'AOI_5_Khartoum_Roads_Train',\n",
       " 'AOI_5_Khartoum_Roads_Train',\n",
       " 'AOI_5_Khartoum_Roads_Train',\n",
       " 'AOI_5_Khartoum_Roads_Train',\n",
       " 'AOI_5_Khartoum_Roads_Train',\n",
       " 'AOI_5_Khartoum_Roads_Train',\n",
       " 'AOI_5_Khartoum_Roads_Train',\n",
       " 'AOI_5_Khartoum_Roads_Train',\n",
       " 'AOI_5_Khartoum_Roads_Train',\n",
       " 'AOI_5_Khartoum_Roads_Train',\n",
       " 'AOI_5_Khartoum_Roads_Train',\n",
       " 'AOI_5_Khartoum_Roads_Train',\n",
       " 'AOI_5_Khartoum_Roads_Train',\n",
       " 'AOI_5_Khartoum_Roads_Train',\n",
       " 'AOI_5_Khartoum_Roads_Train',\n",
       " 'AOI_5_Khartoum_Roads_Train',\n",
       " 'AOI_5_Khartoum_Roads_Train',\n",
       " 'AOI_5_Khartoum_Roads_Train',\n",
       " 'AOI_5_Khartoum_Roads_Train',\n",
       " 'AOI_5_Khartoum_Roads_Train',\n",
       " 'AOI_5_Khartoum_Roads_Train',\n",
       " 'AOI_5_Khartoum_Roads_Train',\n",
       " 'AOI_5_Khartoum_Roads_Train',\n",
       " 'AOI_5_Khartoum_Roads_Train',\n",
       " 'AOI_5_Khartoum_Roads_Train',\n",
       " 'AOI_5_Khartoum_Roads_Train',\n",
       " 'AOI_5_Khartoum_Roads_Train',\n",
       " 'AOI_5_Khartoum_Roads_Train']"
      ]
     },
     "execution_count": 73,
     "metadata": {},
     "output_type": "execute_result"
    }
   ],
   "source": [
    "img_folders"
   ]
  },
  {
   "cell_type": "code",
   "execution_count": 74,
   "metadata": {},
   "outputs": [
    {
     "data": {
      "text/plain": [
       "['MUL',\n",
       " 'MUL',\n",
       " 'MUL',\n",
       " 'MUL',\n",
       " 'MUL',\n",
       " 'MUL',\n",
       " 'MUL',\n",
       " 'MUL',\n",
       " 'MUL',\n",
       " 'MUL',\n",
       " 'MUL',\n",
       " 'MUL',\n",
       " 'MUL',\n",
       " 'MUL',\n",
       " 'MUL',\n",
       " 'MUL',\n",
       " 'MUL',\n",
       " 'MUL',\n",
       " 'MUL',\n",
       " 'MUL',\n",
       " 'MUL',\n",
       " 'MUL',\n",
       " 'MUL',\n",
       " 'MUL',\n",
       " 'MUL',\n",
       " 'MUL',\n",
       " 'MUL',\n",
       " 'MUL',\n",
       " 'MUL',\n",
       " 'MUL',\n",
       " 'MUL',\n",
       " 'MUL',\n",
       " 'MUL',\n",
       " 'MUL',\n",
       " 'MUL',\n",
       " 'MUL',\n",
       " 'MUL',\n",
       " 'MUL',\n",
       " 'MUL',\n",
       " 'MUL',\n",
       " 'MUL',\n",
       " 'MUL',\n",
       " 'MUL',\n",
       " 'MUL',\n",
       " 'MUL',\n",
       " 'MUL',\n",
       " 'MUL',\n",
       " 'MUL',\n",
       " 'MUL',\n",
       " 'MUL',\n",
       " 'MUL-PanSharpen',\n",
       " 'MUL-PanSharpen',\n",
       " 'MUL-PanSharpen',\n",
       " 'MUL-PanSharpen',\n",
       " 'MUL-PanSharpen',\n",
       " 'MUL-PanSharpen',\n",
       " 'MUL-PanSharpen',\n",
       " 'MUL-PanSharpen',\n",
       " 'MUL-PanSharpen',\n",
       " 'MUL-PanSharpen',\n",
       " 'MUL-PanSharpen',\n",
       " 'MUL-PanSharpen',\n",
       " 'MUL-PanSharpen',\n",
       " 'MUL-PanSharpen',\n",
       " 'MUL-PanSharpen',\n",
       " 'MUL-PanSharpen',\n",
       " 'MUL-PanSharpen',\n",
       " 'MUL-PanSharpen',\n",
       " 'MUL-PanSharpen',\n",
       " 'MUL-PanSharpen',\n",
       " 'MUL-PanSharpen',\n",
       " 'MUL-PanSharpen',\n",
       " 'MUL-PanSharpen',\n",
       " 'MUL-PanSharpen',\n",
       " 'MUL-PanSharpen',\n",
       " 'MUL-PanSharpen',\n",
       " 'MUL-PanSharpen',\n",
       " 'MUL-PanSharpen',\n",
       " 'MUL-PanSharpen',\n",
       " 'MUL-PanSharpen',\n",
       " 'MUL-PanSharpen',\n",
       " 'MUL-PanSharpen',\n",
       " 'MUL-PanSharpen',\n",
       " 'MUL-PanSharpen',\n",
       " 'MUL-PanSharpen',\n",
       " 'MUL-PanSharpen',\n",
       " 'MUL-PanSharpen',\n",
       " 'MUL-PanSharpen',\n",
       " 'MUL-PanSharpen',\n",
       " 'MUL-PanSharpen',\n",
       " 'MUL-PanSharpen',\n",
       " 'MUL-PanSharpen',\n",
       " 'MUL-PanSharpen',\n",
       " 'MUL-PanSharpen',\n",
       " 'MUL-PanSharpen',\n",
       " 'MUL-PanSharpen',\n",
       " 'MUL-PanSharpen',\n",
       " 'MUL-PanSharpen',\n",
       " 'MUL-PanSharpen',\n",
       " 'MUL-PanSharpen',\n",
       " 'PAN',\n",
       " 'PAN',\n",
       " 'PAN',\n",
       " 'PAN',\n",
       " 'PAN',\n",
       " 'PAN',\n",
       " 'PAN',\n",
       " 'PAN',\n",
       " 'PAN',\n",
       " 'PAN',\n",
       " 'PAN',\n",
       " 'PAN',\n",
       " 'PAN',\n",
       " 'PAN',\n",
       " 'PAN',\n",
       " 'PAN',\n",
       " 'PAN',\n",
       " 'PAN',\n",
       " 'PAN',\n",
       " 'PAN',\n",
       " 'PAN',\n",
       " 'PAN',\n",
       " 'PAN',\n",
       " 'PAN',\n",
       " 'PAN',\n",
       " 'PAN',\n",
       " 'PAN',\n",
       " 'PAN',\n",
       " 'PAN',\n",
       " 'PAN',\n",
       " 'PAN',\n",
       " 'PAN',\n",
       " 'PAN',\n",
       " 'PAN',\n",
       " 'PAN',\n",
       " 'PAN',\n",
       " 'PAN',\n",
       " 'PAN',\n",
       " 'PAN',\n",
       " 'PAN',\n",
       " 'PAN',\n",
       " 'PAN',\n",
       " 'PAN',\n",
       " 'PAN',\n",
       " 'PAN',\n",
       " 'PAN',\n",
       " 'PAN',\n",
       " 'PAN',\n",
       " 'PAN',\n",
       " 'PAN',\n",
       " 'RGB-PanSharpen',\n",
       " 'RGB-PanSharpen',\n",
       " 'RGB-PanSharpen',\n",
       " 'RGB-PanSharpen',\n",
       " 'RGB-PanSharpen',\n",
       " 'RGB-PanSharpen',\n",
       " 'RGB-PanSharpen',\n",
       " 'RGB-PanSharpen',\n",
       " 'RGB-PanSharpen',\n",
       " 'RGB-PanSharpen',\n",
       " 'RGB-PanSharpen',\n",
       " 'RGB-PanSharpen',\n",
       " 'RGB-PanSharpen',\n",
       " 'RGB-PanSharpen',\n",
       " 'RGB-PanSharpen',\n",
       " 'RGB-PanSharpen',\n",
       " 'RGB-PanSharpen',\n",
       " 'RGB-PanSharpen',\n",
       " 'RGB-PanSharpen',\n",
       " 'RGB-PanSharpen',\n",
       " 'RGB-PanSharpen',\n",
       " 'RGB-PanSharpen',\n",
       " 'RGB-PanSharpen',\n",
       " 'RGB-PanSharpen',\n",
       " 'RGB-PanSharpen',\n",
       " 'RGB-PanSharpen',\n",
       " 'RGB-PanSharpen',\n",
       " 'RGB-PanSharpen',\n",
       " 'RGB-PanSharpen',\n",
       " 'RGB-PanSharpen',\n",
       " 'RGB-PanSharpen',\n",
       " 'RGB-PanSharpen',\n",
       " 'RGB-PanSharpen',\n",
       " 'RGB-PanSharpen',\n",
       " 'RGB-PanSharpen',\n",
       " 'RGB-PanSharpen',\n",
       " 'RGB-PanSharpen',\n",
       " 'RGB-PanSharpen',\n",
       " 'RGB-PanSharpen',\n",
       " 'RGB-PanSharpen',\n",
       " 'RGB-PanSharpen',\n",
       " 'RGB-PanSharpen',\n",
       " 'RGB-PanSharpen',\n",
       " 'RGB-PanSharpen',\n",
       " 'RGB-PanSharpen',\n",
       " 'RGB-PanSharpen',\n",
       " 'RGB-PanSharpen',\n",
       " 'RGB-PanSharpen',\n",
       " 'RGB-PanSharpen',\n",
       " 'RGB-PanSharpen',\n",
       " 'MUL',\n",
       " 'MUL',\n",
       " 'MUL',\n",
       " 'MUL',\n",
       " 'MUL',\n",
       " 'MUL',\n",
       " 'MUL',\n",
       " 'MUL',\n",
       " 'MUL',\n",
       " 'MUL',\n",
       " 'MUL',\n",
       " 'MUL',\n",
       " 'MUL',\n",
       " 'MUL',\n",
       " 'MUL',\n",
       " 'MUL',\n",
       " 'MUL',\n",
       " 'MUL',\n",
       " 'MUL',\n",
       " 'MUL',\n",
       " 'MUL',\n",
       " 'MUL',\n",
       " 'MUL',\n",
       " 'MUL',\n",
       " 'MUL',\n",
       " 'MUL',\n",
       " 'MUL',\n",
       " 'MUL',\n",
       " 'MUL',\n",
       " 'MUL',\n",
       " 'MUL',\n",
       " 'MUL',\n",
       " 'MUL',\n",
       " 'MUL',\n",
       " 'MUL',\n",
       " 'MUL',\n",
       " 'MUL',\n",
       " 'MUL',\n",
       " 'MUL',\n",
       " 'MUL',\n",
       " 'MUL',\n",
       " 'MUL',\n",
       " 'MUL',\n",
       " 'MUL',\n",
       " 'MUL',\n",
       " 'MUL',\n",
       " 'MUL',\n",
       " 'MUL',\n",
       " 'MUL',\n",
       " 'MUL',\n",
       " 'MUL-PanSharpen',\n",
       " 'MUL-PanSharpen',\n",
       " 'MUL-PanSharpen',\n",
       " 'MUL-PanSharpen',\n",
       " 'MUL-PanSharpen',\n",
       " 'MUL-PanSharpen',\n",
       " 'MUL-PanSharpen',\n",
       " 'MUL-PanSharpen',\n",
       " 'MUL-PanSharpen',\n",
       " 'MUL-PanSharpen',\n",
       " 'MUL-PanSharpen',\n",
       " 'MUL-PanSharpen',\n",
       " 'MUL-PanSharpen',\n",
       " 'MUL-PanSharpen',\n",
       " 'MUL-PanSharpen',\n",
       " 'MUL-PanSharpen',\n",
       " 'MUL-PanSharpen',\n",
       " 'MUL-PanSharpen',\n",
       " 'MUL-PanSharpen',\n",
       " 'MUL-PanSharpen',\n",
       " 'MUL-PanSharpen',\n",
       " 'MUL-PanSharpen',\n",
       " 'MUL-PanSharpen',\n",
       " 'MUL-PanSharpen',\n",
       " 'MUL-PanSharpen',\n",
       " 'MUL-PanSharpen',\n",
       " 'MUL-PanSharpen',\n",
       " 'MUL-PanSharpen',\n",
       " 'MUL-PanSharpen',\n",
       " 'MUL-PanSharpen',\n",
       " 'MUL-PanSharpen',\n",
       " 'MUL-PanSharpen',\n",
       " 'MUL-PanSharpen',\n",
       " 'MUL-PanSharpen',\n",
       " 'MUL-PanSharpen',\n",
       " 'MUL-PanSharpen',\n",
       " 'MUL-PanSharpen',\n",
       " 'MUL-PanSharpen',\n",
       " 'MUL-PanSharpen',\n",
       " 'MUL-PanSharpen',\n",
       " 'MUL-PanSharpen',\n",
       " 'MUL-PanSharpen',\n",
       " 'MUL-PanSharpen',\n",
       " 'MUL-PanSharpen',\n",
       " 'MUL-PanSharpen',\n",
       " 'MUL-PanSharpen',\n",
       " 'MUL-PanSharpen',\n",
       " 'MUL-PanSharpen',\n",
       " 'MUL-PanSharpen',\n",
       " 'MUL-PanSharpen',\n",
       " 'PAN',\n",
       " 'PAN',\n",
       " 'PAN',\n",
       " 'PAN',\n",
       " 'PAN',\n",
       " 'PAN',\n",
       " 'PAN',\n",
       " 'PAN',\n",
       " 'PAN',\n",
       " 'PAN',\n",
       " 'PAN',\n",
       " 'PAN',\n",
       " 'PAN',\n",
       " 'PAN',\n",
       " 'PAN',\n",
       " 'PAN',\n",
       " 'PAN',\n",
       " 'PAN',\n",
       " 'PAN',\n",
       " 'PAN',\n",
       " 'PAN',\n",
       " 'PAN',\n",
       " 'PAN',\n",
       " 'PAN',\n",
       " 'PAN',\n",
       " 'PAN',\n",
       " 'PAN',\n",
       " 'PAN',\n",
       " 'PAN',\n",
       " 'PAN',\n",
       " 'PAN',\n",
       " 'PAN',\n",
       " 'PAN',\n",
       " 'PAN',\n",
       " 'PAN',\n",
       " 'PAN',\n",
       " 'PAN',\n",
       " 'PAN',\n",
       " 'PAN',\n",
       " 'PAN',\n",
       " 'PAN',\n",
       " 'PAN',\n",
       " 'PAN',\n",
       " 'PAN',\n",
       " 'PAN',\n",
       " 'PAN',\n",
       " 'PAN',\n",
       " 'PAN',\n",
       " 'PAN',\n",
       " 'PAN',\n",
       " 'RGB-PanSharpen',\n",
       " 'RGB-PanSharpen',\n",
       " 'RGB-PanSharpen',\n",
       " 'RGB-PanSharpen',\n",
       " 'RGB-PanSharpen',\n",
       " 'RGB-PanSharpen',\n",
       " 'RGB-PanSharpen',\n",
       " 'RGB-PanSharpen',\n",
       " 'RGB-PanSharpen',\n",
       " 'RGB-PanSharpen',\n",
       " 'RGB-PanSharpen',\n",
       " 'RGB-PanSharpen',\n",
       " 'RGB-PanSharpen',\n",
       " 'RGB-PanSharpen',\n",
       " 'RGB-PanSharpen',\n",
       " 'RGB-PanSharpen',\n",
       " 'RGB-PanSharpen',\n",
       " 'RGB-PanSharpen',\n",
       " 'RGB-PanSharpen',\n",
       " 'RGB-PanSharpen',\n",
       " 'RGB-PanSharpen',\n",
       " 'RGB-PanSharpen',\n",
       " 'RGB-PanSharpen',\n",
       " 'RGB-PanSharpen',\n",
       " 'RGB-PanSharpen',\n",
       " 'RGB-PanSharpen',\n",
       " 'RGB-PanSharpen',\n",
       " 'RGB-PanSharpen',\n",
       " 'RGB-PanSharpen',\n",
       " 'RGB-PanSharpen',\n",
       " 'RGB-PanSharpen',\n",
       " 'RGB-PanSharpen',\n",
       " 'RGB-PanSharpen',\n",
       " 'RGB-PanSharpen',\n",
       " 'RGB-PanSharpen',\n",
       " 'RGB-PanSharpen',\n",
       " 'RGB-PanSharpen',\n",
       " 'RGB-PanSharpen',\n",
       " 'RGB-PanSharpen',\n",
       " 'RGB-PanSharpen',\n",
       " 'RGB-PanSharpen',\n",
       " 'RGB-PanSharpen',\n",
       " 'RGB-PanSharpen',\n",
       " 'RGB-PanSharpen',\n",
       " 'RGB-PanSharpen',\n",
       " 'RGB-PanSharpen',\n",
       " 'RGB-PanSharpen',\n",
       " 'RGB-PanSharpen',\n",
       " 'RGB-PanSharpen',\n",
       " 'RGB-PanSharpen',\n",
       " 'MUL',\n",
       " 'MUL',\n",
       " 'MUL',\n",
       " 'MUL',\n",
       " 'MUL',\n",
       " 'MUL',\n",
       " 'MUL',\n",
       " 'MUL',\n",
       " 'MUL',\n",
       " 'MUL',\n",
       " 'MUL',\n",
       " 'MUL',\n",
       " 'MUL',\n",
       " 'MUL',\n",
       " 'MUL',\n",
       " 'MUL',\n",
       " 'MUL',\n",
       " 'MUL',\n",
       " 'MUL',\n",
       " 'MUL',\n",
       " 'MUL',\n",
       " 'MUL',\n",
       " 'MUL',\n",
       " 'MUL',\n",
       " 'MUL',\n",
       " 'MUL',\n",
       " 'MUL',\n",
       " 'MUL',\n",
       " 'MUL',\n",
       " 'MUL',\n",
       " 'MUL',\n",
       " 'MUL',\n",
       " 'MUL',\n",
       " 'MUL',\n",
       " 'MUL',\n",
       " 'MUL',\n",
       " 'MUL',\n",
       " 'MUL',\n",
       " 'MUL',\n",
       " 'MUL',\n",
       " 'MUL',\n",
       " 'MUL',\n",
       " 'MUL',\n",
       " 'MUL',\n",
       " 'MUL',\n",
       " 'MUL',\n",
       " 'MUL',\n",
       " 'MUL',\n",
       " 'MUL',\n",
       " 'MUL',\n",
       " 'PAN',\n",
       " 'PAN',\n",
       " 'PAN',\n",
       " 'PAN',\n",
       " 'PAN',\n",
       " 'PAN',\n",
       " 'PAN',\n",
       " 'PAN',\n",
       " 'PAN',\n",
       " 'PAN',\n",
       " 'PAN',\n",
       " 'PAN',\n",
       " 'PAN',\n",
       " 'PAN',\n",
       " 'PAN',\n",
       " 'PAN',\n",
       " 'PAN',\n",
       " 'PAN',\n",
       " 'PAN',\n",
       " 'PAN',\n",
       " 'PAN',\n",
       " 'PAN',\n",
       " 'PAN',\n",
       " 'PAN',\n",
       " 'PAN',\n",
       " 'PAN',\n",
       " 'PAN',\n",
       " 'PAN',\n",
       " 'PAN',\n",
       " 'PAN',\n",
       " 'PAN',\n",
       " 'PAN',\n",
       " 'PAN',\n",
       " 'PAN',\n",
       " 'PAN',\n",
       " 'PAN',\n",
       " 'PAN',\n",
       " 'PAN',\n",
       " 'PAN',\n",
       " 'PAN',\n",
       " 'PAN',\n",
       " 'PAN',\n",
       " 'PAN',\n",
       " 'PAN',\n",
       " 'PAN',\n",
       " 'PAN',\n",
       " 'PAN',\n",
       " 'PAN',\n",
       " 'PAN',\n",
       " 'PAN',\n",
       " 'RGB-PanSharpen',\n",
       " 'RGB-PanSharpen',\n",
       " 'RGB-PanSharpen',\n",
       " 'RGB-PanSharpen',\n",
       " 'RGB-PanSharpen',\n",
       " 'RGB-PanSharpen',\n",
       " 'RGB-PanSharpen',\n",
       " 'RGB-PanSharpen',\n",
       " 'RGB-PanSharpen',\n",
       " 'RGB-PanSharpen',\n",
       " 'RGB-PanSharpen',\n",
       " 'RGB-PanSharpen',\n",
       " 'RGB-PanSharpen',\n",
       " 'RGB-PanSharpen',\n",
       " 'RGB-PanSharpen',\n",
       " 'RGB-PanSharpen',\n",
       " 'RGB-PanSharpen',\n",
       " 'RGB-PanSharpen',\n",
       " 'RGB-PanSharpen',\n",
       " 'RGB-PanSharpen',\n",
       " 'RGB-PanSharpen',\n",
       " 'RGB-PanSharpen',\n",
       " 'RGB-PanSharpen',\n",
       " 'RGB-PanSharpen',\n",
       " 'RGB-PanSharpen',\n",
       " 'RGB-PanSharpen',\n",
       " 'RGB-PanSharpen',\n",
       " 'RGB-PanSharpen',\n",
       " 'RGB-PanSharpen',\n",
       " 'RGB-PanSharpen',\n",
       " 'RGB-PanSharpen',\n",
       " 'RGB-PanSharpen',\n",
       " 'RGB-PanSharpen',\n",
       " 'RGB-PanSharpen',\n",
       " 'RGB-PanSharpen',\n",
       " 'RGB-PanSharpen',\n",
       " 'RGB-PanSharpen',\n",
       " 'RGB-PanSharpen',\n",
       " 'RGB-PanSharpen',\n",
       " 'RGB-PanSharpen',\n",
       " 'RGB-PanSharpen',\n",
       " 'RGB-PanSharpen',\n",
       " 'RGB-PanSharpen',\n",
       " 'RGB-PanSharpen',\n",
       " 'RGB-PanSharpen',\n",
       " 'RGB-PanSharpen',\n",
       " 'RGB-PanSharpen',\n",
       " 'RGB-PanSharpen',\n",
       " 'RGB-PanSharpen',\n",
       " 'RGB-PanSharpen']"
      ]
     },
     "execution_count": 74,
     "metadata": {},
     "output_type": "execute_result"
    }
   ],
   "source": [
    "img_subfolders "
   ]
  },
  {
   "cell_type": "code",
   "execution_count": 75,
   "metadata": {},
   "outputs": [
    {
     "data": {
      "text/plain": [
       "['SN3_roads_train_AOI_3_Paris_MS_img26.tif',\n",
       " 'SN3_roads_train_AOI_3_Paris_MS_img46.tif',\n",
       " 'SN3_roads_train_AOI_3_Paris_MS_img10.tif',\n",
       " 'SN3_roads_train_AOI_3_Paris_MS_img11.tif',\n",
       " 'SN3_roads_train_AOI_3_Paris_MS_img14.tif',\n",
       " 'SN3_roads_train_AOI_3_Paris_MS_img15.tif',\n",
       " 'SN3_roads_train_AOI_3_Paris_MS_img16.tif',\n",
       " 'SN3_roads_train_AOI_3_Paris_MS_img17.tif',\n",
       " 'SN3_roads_train_AOI_3_Paris_MS_img18.tif',\n",
       " 'SN3_roads_train_AOI_3_Paris_MS_img19.tif',\n",
       " 'SN3_roads_train_AOI_3_Paris_MS_img20.tif',\n",
       " 'SN3_roads_train_AOI_3_Paris_MS_img21.tif',\n",
       " 'SN3_roads_train_AOI_3_Paris_MS_img23.tif',\n",
       " 'SN3_roads_train_AOI_3_Paris_MS_img24.tif',\n",
       " 'SN3_roads_train_AOI_3_Paris_MS_img27.tif',\n",
       " 'SN3_roads_train_AOI_3_Paris_MS_img28.tif',\n",
       " 'SN3_roads_train_AOI_3_Paris_MS_img30.tif',\n",
       " 'SN3_roads_train_AOI_3_Paris_MS_img31.tif',\n",
       " 'SN3_roads_train_AOI_3_Paris_MS_img33.tif',\n",
       " 'SN3_roads_train_AOI_3_Paris_MS_img35.tif',\n",
       " 'SN3_roads_train_AOI_3_Paris_MS_img37.tif',\n",
       " 'SN3_roads_train_AOI_3_Paris_MS_img38.tif',\n",
       " 'SN3_roads_train_AOI_3_Paris_MS_img39.tif',\n",
       " 'SN3_roads_train_AOI_3_Paris_MS_img41.tif',\n",
       " 'SN3_roads_train_AOI_3_Paris_MS_img42.tif',\n",
       " 'SN3_roads_train_AOI_3_Paris_MS_img43.tif',\n",
       " 'SN3_roads_train_AOI_3_Paris_MS_img47.tif',\n",
       " 'SN3_roads_train_AOI_3_Paris_MS_img48.tif',\n",
       " 'SN3_roads_train_AOI_3_Paris_MS_img49.tif',\n",
       " 'SN3_roads_train_AOI_3_Paris_MS_img50.tif',\n",
       " 'SN3_roads_train_AOI_3_Paris_MS_img51.tif',\n",
       " 'SN3_roads_train_AOI_3_Paris_MS_img52.tif',\n",
       " 'SN3_roads_train_AOI_3_Paris_MS_img53.tif',\n",
       " 'SN3_roads_train_AOI_3_Paris_MS_img54.tif',\n",
       " 'SN3_roads_train_AOI_3_Paris_MS_img55.tif',\n",
       " 'SN3_roads_train_AOI_3_Paris_MS_img6.tif',\n",
       " 'SN3_roads_train_AOI_3_Paris_MS_img60.tif',\n",
       " 'SN3_roads_train_AOI_3_Paris_MS_img61.tif',\n",
       " 'SN3_roads_train_AOI_3_Paris_MS_img63.tif',\n",
       " 'SN3_roads_train_AOI_3_Paris_MS_img64.tif',\n",
       " 'SN3_roads_train_AOI_3_Paris_MS_img65.tif',\n",
       " 'SN3_roads_train_AOI_3_Paris_MS_img7.tif',\n",
       " 'SN3_roads_train_AOI_3_Paris_MS_img72.tif',\n",
       " 'SN3_roads_train_AOI_3_Paris_MS_img73.tif',\n",
       " 'SN3_roads_train_AOI_3_Paris_MS_img75.tif',\n",
       " 'SN3_roads_train_AOI_3_Paris_MS_img76.tif',\n",
       " 'SN3_roads_train_AOI_3_Paris_MS_img77.tif',\n",
       " 'SN3_roads_train_AOI_3_Paris_MS_img80.tif',\n",
       " 'SN3_roads_train_AOI_3_Paris_MS_img81.tif',\n",
       " 'SN3_roads_train_AOI_3_Paris_MS_img9.tif',\n",
       " 'SN3_roads_train_AOI_3_Paris_PS-MS_img10.tif',\n",
       " 'SN3_roads_train_AOI_3_Paris_PS-MS_img28.tif',\n",
       " 'SN3_roads_train_AOI_3_Paris_PS-MS_img30.tif',\n",
       " 'SN3_roads_train_AOI_3_Paris_PS-MS_img31.tif',\n",
       " 'SN3_roads_train_AOI_3_Paris_PS-MS_img33.tif',\n",
       " 'SN3_roads_train_AOI_3_Paris_PS-MS_img35.tif',\n",
       " 'SN3_roads_train_AOI_3_Paris_PS-MS_img37.tif',\n",
       " 'SN3_roads_train_AOI_3_Paris_PS-MS_img38.tif',\n",
       " 'SN3_roads_train_AOI_3_Paris_PS-MS_img39.tif',\n",
       " 'SN3_roads_train_AOI_3_Paris_PS-MS_img41.tif',\n",
       " 'SN3_roads_train_AOI_3_Paris_PS-MS_img42.tif',\n",
       " 'SN3_roads_train_AOI_3_Paris_PS-MS_img43.tif',\n",
       " 'SN3_roads_train_AOI_3_Paris_PS-MS_img11.tif',\n",
       " 'SN3_roads_train_AOI_3_Paris_PS-MS_img15.tif',\n",
       " 'SN3_roads_train_AOI_3_Paris_PS-MS_img27.tif',\n",
       " 'SN3_roads_train_AOI_3_Paris_PS-MS_img46.tif',\n",
       " 'SN3_roads_train_AOI_3_Paris_PS-MS_img61.tif',\n",
       " 'SN3_roads_train_AOI_3_Paris_PS-MS_img47.tif',\n",
       " 'SN3_roads_train_AOI_3_Paris_PS-MS_img48.tif',\n",
       " 'SN3_roads_train_AOI_3_Paris_PS-MS_img49.tif',\n",
       " 'SN3_roads_train_AOI_3_Paris_PS-MS_img50.tif',\n",
       " 'SN3_roads_train_AOI_3_Paris_PS-MS_img51.tif',\n",
       " 'SN3_roads_train_AOI_3_Paris_PS-MS_img52.tif',\n",
       " 'SN3_roads_train_AOI_3_Paris_PS-MS_img53.tif',\n",
       " 'SN3_roads_train_AOI_3_Paris_PS-MS_img54.tif',\n",
       " 'SN3_roads_train_AOI_3_Paris_PS-MS_img55.tif',\n",
       " 'SN3_roads_train_AOI_3_Paris_PS-MS_img6.tif',\n",
       " 'SN3_roads_train_AOI_3_Paris_PS-MS_img60.tif',\n",
       " 'SN3_roads_train_AOI_3_Paris_PS-MS_img63.tif',\n",
       " 'SN3_roads_train_AOI_3_Paris_PS-MS_img64.tif',\n",
       " 'SN3_roads_train_AOI_3_Paris_PS-MS_img65.tif',\n",
       " 'SN3_roads_train_AOI_3_Paris_PS-MS_img7.tif',\n",
       " 'SN3_roads_train_AOI_3_Paris_PS-MS_img72.tif',\n",
       " 'SN3_roads_train_AOI_3_Paris_PS-MS_img73.tif',\n",
       " 'SN3_roads_train_AOI_3_Paris_PS-MS_img75.tif',\n",
       " 'SN3_roads_train_AOI_3_Paris_PS-MS_img76.tif',\n",
       " 'SN3_roads_train_AOI_3_Paris_PS-MS_img77.tif',\n",
       " 'SN3_roads_train_AOI_3_Paris_PS-MS_img80.tif',\n",
       " 'SN3_roads_train_AOI_3_Paris_PS-MS_img81.tif',\n",
       " 'SN3_roads_train_AOI_3_Paris_PS-MS_img9.tif',\n",
       " 'SN3_roads_train_AOI_3_Paris_PS-MS_img14.tif',\n",
       " 'SN3_roads_train_AOI_3_Paris_PS-MS_img16.tif',\n",
       " 'SN3_roads_train_AOI_3_Paris_PS-MS_img17.tif',\n",
       " 'SN3_roads_train_AOI_3_Paris_PS-MS_img18.tif',\n",
       " 'SN3_roads_train_AOI_3_Paris_PS-MS_img19.tif',\n",
       " 'SN3_roads_train_AOI_3_Paris_PS-MS_img20.tif',\n",
       " 'SN3_roads_train_AOI_3_Paris_PS-MS_img21.tif',\n",
       " 'SN3_roads_train_AOI_3_Paris_PS-MS_img23.tif',\n",
       " 'SN3_roads_train_AOI_3_Paris_PS-MS_img24.tif',\n",
       " 'SN3_roads_train_AOI_3_Paris_PS-MS_img26.tif',\n",
       " 'SN3_roads_train_AOI_3_Paris_PAN_img10.tif',\n",
       " 'SN3_roads_train_AOI_3_Paris_PAN_img14.tif',\n",
       " 'SN3_roads_train_AOI_3_Paris_PAN_img15.tif',\n",
       " 'SN3_roads_train_AOI_3_Paris_PAN_img30.tif',\n",
       " 'SN3_roads_train_AOI_3_Paris_PAN_img31.tif',\n",
       " 'SN3_roads_train_AOI_3_Paris_PAN_img33.tif',\n",
       " 'SN3_roads_train_AOI_3_Paris_PAN_img35.tif',\n",
       " 'SN3_roads_train_AOI_3_Paris_PAN_img37.tif',\n",
       " 'SN3_roads_train_AOI_3_Paris_PAN_img38.tif',\n",
       " 'SN3_roads_train_AOI_3_Paris_PAN_img39.tif',\n",
       " 'SN3_roads_train_AOI_3_Paris_PAN_img41.tif',\n",
       " 'SN3_roads_train_AOI_3_Paris_PAN_img42.tif',\n",
       " 'SN3_roads_train_AOI_3_Paris_PAN_img43.tif',\n",
       " 'SN3_roads_train_AOI_3_Paris_PAN_img46.tif',\n",
       " 'SN3_roads_train_AOI_3_Paris_PAN_img48.tif',\n",
       " 'SN3_roads_train_AOI_3_Paris_PAN_img49.tif',\n",
       " 'SN3_roads_train_AOI_3_Paris_PAN_img50.tif',\n",
       " 'SN3_roads_train_AOI_3_Paris_PAN_img51.tif',\n",
       " 'SN3_roads_train_AOI_3_Paris_PAN_img52.tif',\n",
       " 'SN3_roads_train_AOI_3_Paris_PAN_img53.tif',\n",
       " 'SN3_roads_train_AOI_3_Paris_PAN_img54.tif',\n",
       " 'SN3_roads_train_AOI_3_Paris_PAN_img55.tif',\n",
       " 'SN3_roads_train_AOI_3_Paris_PAN_img6.tif',\n",
       " 'SN3_roads_train_AOI_3_Paris_PAN_img60.tif',\n",
       " 'SN3_roads_train_AOI_3_Paris_PAN_img61.tif',\n",
       " 'SN3_roads_train_AOI_3_Paris_PAN_img64.tif',\n",
       " 'SN3_roads_train_AOI_3_Paris_PAN_img65.tif',\n",
       " 'SN3_roads_train_AOI_3_Paris_PAN_img7.tif',\n",
       " 'SN3_roads_train_AOI_3_Paris_PAN_img72.tif',\n",
       " 'SN3_roads_train_AOI_3_Paris_PAN_img73.tif',\n",
       " 'SN3_roads_train_AOI_3_Paris_PAN_img75.tif',\n",
       " 'SN3_roads_train_AOI_3_Paris_PAN_img76.tif',\n",
       " 'SN3_roads_train_AOI_3_Paris_PAN_img77.tif',\n",
       " 'SN3_roads_train_AOI_3_Paris_PAN_img80.tif',\n",
       " 'SN3_roads_train_AOI_3_Paris_PAN_img81.tif',\n",
       " 'SN3_roads_train_AOI_3_Paris_PAN_img9.tif',\n",
       " 'SN3_roads_train_AOI_3_Paris_PAN_img11.tif',\n",
       " 'SN3_roads_train_AOI_3_Paris_PAN_img16.tif',\n",
       " 'SN3_roads_train_AOI_3_Paris_PAN_img28.tif',\n",
       " 'SN3_roads_train_AOI_3_Paris_PAN_img47.tif',\n",
       " 'SN3_roads_train_AOI_3_Paris_PAN_img63.tif',\n",
       " 'SN3_roads_train_AOI_3_Paris_PAN_img17.tif',\n",
       " 'SN3_roads_train_AOI_3_Paris_PAN_img18.tif',\n",
       " 'SN3_roads_train_AOI_3_Paris_PAN_img19.tif',\n",
       " 'SN3_roads_train_AOI_3_Paris_PAN_img20.tif',\n",
       " 'SN3_roads_train_AOI_3_Paris_PAN_img21.tif',\n",
       " 'SN3_roads_train_AOI_3_Paris_PAN_img23.tif',\n",
       " 'SN3_roads_train_AOI_3_Paris_PAN_img24.tif',\n",
       " 'SN3_roads_train_AOI_3_Paris_PAN_img26.tif',\n",
       " 'SN3_roads_train_AOI_3_Paris_PAN_img27.tif',\n",
       " 'SN3_roads_train_AOI_3_Paris_PS-RGB_img10.tif',\n",
       " 'SN3_roads_train_AOI_3_Paris_PS-RGB_img28.tif',\n",
       " 'SN3_roads_train_AOI_3_Paris_PS-RGB_img30.tif',\n",
       " 'SN3_roads_train_AOI_3_Paris_PS-RGB_img31.tif',\n",
       " 'SN3_roads_train_AOI_3_Paris_PS-RGB_img33.tif',\n",
       " 'SN3_roads_train_AOI_3_Paris_PS-RGB_img35.tif',\n",
       " 'SN3_roads_train_AOI_3_Paris_PS-RGB_img37.tif',\n",
       " 'SN3_roads_train_AOI_3_Paris_PS-RGB_img38.tif',\n",
       " 'SN3_roads_train_AOI_3_Paris_PS-RGB_img39.tif',\n",
       " 'SN3_roads_train_AOI_3_Paris_PS-RGB_img41.tif',\n",
       " 'SN3_roads_train_AOI_3_Paris_PS-RGB_img42.tif',\n",
       " 'SN3_roads_train_AOI_3_Paris_PS-RGB_img43.tif',\n",
       " 'SN3_roads_train_AOI_3_Paris_PS-RGB_img11.tif',\n",
       " 'SN3_roads_train_AOI_3_Paris_PS-RGB_img16.tif',\n",
       " 'SN3_roads_train_AOI_3_Paris_PS-RGB_img27.tif',\n",
       " 'SN3_roads_train_AOI_3_Paris_PS-RGB_img46.tif',\n",
       " 'SN3_roads_train_AOI_3_Paris_PS-RGB_img61.tif',\n",
       " 'SN3_roads_train_AOI_3_Paris_PS-RGB_img47.tif',\n",
       " 'SN3_roads_train_AOI_3_Paris_PS-RGB_img48.tif',\n",
       " 'SN3_roads_train_AOI_3_Paris_PS-RGB_img49.tif',\n",
       " 'SN3_roads_train_AOI_3_Paris_PS-RGB_img50.tif',\n",
       " 'SN3_roads_train_AOI_3_Paris_PS-RGB_img51.tif',\n",
       " 'SN3_roads_train_AOI_3_Paris_PS-RGB_img52.tif',\n",
       " 'SN3_roads_train_AOI_3_Paris_PS-RGB_img53.tif',\n",
       " 'SN3_roads_train_AOI_3_Paris_PS-RGB_img54.tif',\n",
       " 'SN3_roads_train_AOI_3_Paris_PS-RGB_img55.tif',\n",
       " 'SN3_roads_train_AOI_3_Paris_PS-RGB_img6.tif',\n",
       " 'SN3_roads_train_AOI_3_Paris_PS-RGB_img60.tif',\n",
       " 'SN3_roads_train_AOI_3_Paris_PS-RGB_img63.tif',\n",
       " 'SN3_roads_train_AOI_3_Paris_PS-RGB_img64.tif',\n",
       " 'SN3_roads_train_AOI_3_Paris_PS-RGB_img65.tif',\n",
       " 'SN3_roads_train_AOI_3_Paris_PS-RGB_img7.tif',\n",
       " 'SN3_roads_train_AOI_3_Paris_PS-RGB_img72.tif',\n",
       " 'SN3_roads_train_AOI_3_Paris_PS-RGB_img73.tif',\n",
       " 'SN3_roads_train_AOI_3_Paris_PS-RGB_img75.tif',\n",
       " 'SN3_roads_train_AOI_3_Paris_PS-RGB_img76.tif',\n",
       " 'SN3_roads_train_AOI_3_Paris_PS-RGB_img77.tif',\n",
       " 'SN3_roads_train_AOI_3_Paris_PS-RGB_img80.tif',\n",
       " 'SN3_roads_train_AOI_3_Paris_PS-RGB_img81.tif',\n",
       " 'SN3_roads_train_AOI_3_Paris_PS-RGB_img9.tif',\n",
       " 'SN3_roads_train_AOI_3_Paris_PS-RGB_img14.tif',\n",
       " 'SN3_roads_train_AOI_3_Paris_PS-RGB_img15.tif',\n",
       " 'SN3_roads_train_AOI_3_Paris_PS-RGB_img17.tif',\n",
       " 'SN3_roads_train_AOI_3_Paris_PS-RGB_img18.tif',\n",
       " 'SN3_roads_train_AOI_3_Paris_PS-RGB_img19.tif',\n",
       " 'SN3_roads_train_AOI_3_Paris_PS-RGB_img20.tif',\n",
       " 'SN3_roads_train_AOI_3_Paris_PS-RGB_img21.tif',\n",
       " 'SN3_roads_train_AOI_3_Paris_PS-RGB_img23.tif',\n",
       " 'SN3_roads_train_AOI_3_Paris_PS-RGB_img24.tif',\n",
       " 'SN3_roads_train_AOI_3_Paris_PS-RGB_img26.tif',\n",
       " 'SN3_roads_train_AOI_4_Shanghai_MS_img10.tif',\n",
       " 'SN3_roads_train_AOI_4_Shanghai_MS_img30.tif',\n",
       " 'SN3_roads_train_AOI_4_Shanghai_MS_img32.tif',\n",
       " 'SN3_roads_train_AOI_4_Shanghai_MS_img33.tif',\n",
       " 'SN3_roads_train_AOI_4_Shanghai_MS_img37.tif',\n",
       " 'SN3_roads_train_AOI_4_Shanghai_MS_img38.tif',\n",
       " 'SN3_roads_train_AOI_4_Shanghai_MS_img4.tif',\n",
       " 'SN3_roads_train_AOI_4_Shanghai_MS_img41.tif',\n",
       " 'SN3_roads_train_AOI_4_Shanghai_MS_img44.tif',\n",
       " 'SN3_roads_train_AOI_4_Shanghai_MS_img47.tif',\n",
       " 'SN3_roads_train_AOI_4_Shanghai_MS_img5.tif',\n",
       " 'SN3_roads_train_AOI_4_Shanghai_MS_img50.tif',\n",
       " 'SN3_roads_train_AOI_4_Shanghai_MS_img52.tif',\n",
       " 'SN3_roads_train_AOI_4_Shanghai_MS_img54.tif',\n",
       " 'SN3_roads_train_AOI_4_Shanghai_MS_img56.tif',\n",
       " 'SN3_roads_train_AOI_4_Shanghai_MS_img57.tif',\n",
       " 'SN3_roads_train_AOI_4_Shanghai_MS_img58.tif',\n",
       " 'SN3_roads_train_AOI_4_Shanghai_MS_img6.tif',\n",
       " 'SN3_roads_train_AOI_4_Shanghai_MS_img60.tif',\n",
       " 'SN3_roads_train_AOI_4_Shanghai_MS_img64.tif',\n",
       " 'SN3_roads_train_AOI_4_Shanghai_MS_img65.tif',\n",
       " 'SN3_roads_train_AOI_4_Shanghai_MS_img67.tif',\n",
       " 'SN3_roads_train_AOI_4_Shanghai_MS_img7.tif',\n",
       " 'SN3_roads_train_AOI_4_Shanghai_MS_img74.tif',\n",
       " 'SN3_roads_train_AOI_4_Shanghai_MS_img75.tif',\n",
       " 'SN3_roads_train_AOI_4_Shanghai_MS_img77.tif',\n",
       " 'SN3_roads_train_AOI_4_Shanghai_MS_img79.tif',\n",
       " 'SN3_roads_train_AOI_4_Shanghai_MS_img8.tif',\n",
       " 'SN3_roads_train_AOI_4_Shanghai_MS_img81.tif',\n",
       " 'SN3_roads_train_AOI_4_Shanghai_MS_img85.tif',\n",
       " 'SN3_roads_train_AOI_4_Shanghai_MS_img87.tif',\n",
       " 'SN3_roads_train_AOI_4_Shanghai_MS_img89.tif',\n",
       " 'SN3_roads_train_AOI_4_Shanghai_MS_img90.tif',\n",
       " 'SN3_roads_train_AOI_4_Shanghai_MS_img91.tif',\n",
       " 'SN3_roads_train_AOI_4_Shanghai_MS_img92.tif',\n",
       " 'SN3_roads_train_AOI_4_Shanghai_MS_img13.tif',\n",
       " 'SN3_roads_train_AOI_4_Shanghai_MS_img3.tif',\n",
       " 'SN3_roads_train_AOI_4_Shanghai_MS_img51.tif',\n",
       " 'SN3_roads_train_AOI_4_Shanghai_MS_img73.tif',\n",
       " 'SN3_roads_train_AOI_4_Shanghai_MS_img15.tif',\n",
       " 'SN3_roads_train_AOI_4_Shanghai_MS_img16.tif',\n",
       " 'SN3_roads_train_AOI_4_Shanghai_MS_img17.tif',\n",
       " 'SN3_roads_train_AOI_4_Shanghai_MS_img19.tif',\n",
       " 'SN3_roads_train_AOI_4_Shanghai_MS_img2.tif',\n",
       " 'SN3_roads_train_AOI_4_Shanghai_MS_img21.tif',\n",
       " 'SN3_roads_train_AOI_4_Shanghai_MS_img22.tif',\n",
       " 'SN3_roads_train_AOI_4_Shanghai_MS_img23.tif',\n",
       " 'SN3_roads_train_AOI_4_Shanghai_MS_img25.tif',\n",
       " 'SN3_roads_train_AOI_4_Shanghai_MS_img27.tif',\n",
       " 'SN3_roads_train_AOI_4_Shanghai_MS_img29.tif',\n",
       " 'SN3_roads_train_AOI_4_Shanghai_PS-MS_img10.tif',\n",
       " 'SN3_roads_train_AOI_4_Shanghai_PS-MS_img3.tif',\n",
       " 'SN3_roads_train_AOI_4_Shanghai_PS-MS_img30.tif',\n",
       " 'SN3_roads_train_AOI_4_Shanghai_PS-MS_img32.tif',\n",
       " 'SN3_roads_train_AOI_4_Shanghai_PS-MS_img33.tif',\n",
       " 'SN3_roads_train_AOI_4_Shanghai_PS-MS_img37.tif',\n",
       " 'SN3_roads_train_AOI_4_Shanghai_PS-MS_img38.tif',\n",
       " 'SN3_roads_train_AOI_4_Shanghai_PS-MS_img4.tif',\n",
       " 'SN3_roads_train_AOI_4_Shanghai_PS-MS_img41.tif',\n",
       " 'SN3_roads_train_AOI_4_Shanghai_PS-MS_img44.tif',\n",
       " 'SN3_roads_train_AOI_4_Shanghai_PS-MS_img47.tif',\n",
       " 'SN3_roads_train_AOI_4_Shanghai_PS-MS_img5.tif',\n",
       " 'SN3_roads_train_AOI_4_Shanghai_PS-MS_img13.tif',\n",
       " 'SN3_roads_train_AOI_4_Shanghai_PS-MS_img29.tif',\n",
       " 'SN3_roads_train_AOI_4_Shanghai_PS-MS_img50.tif',\n",
       " 'SN3_roads_train_AOI_4_Shanghai_PS-MS_img7.tif',\n",
       " 'SN3_roads_train_AOI_4_Shanghai_PS-MS_img51.tif',\n",
       " 'SN3_roads_train_AOI_4_Shanghai_PS-MS_img52.tif',\n",
       " 'SN3_roads_train_AOI_4_Shanghai_PS-MS_img54.tif',\n",
       " 'SN3_roads_train_AOI_4_Shanghai_PS-MS_img56.tif',\n",
       " 'SN3_roads_train_AOI_4_Shanghai_PS-MS_img57.tif',\n",
       " 'SN3_roads_train_AOI_4_Shanghai_PS-MS_img58.tif',\n",
       " 'SN3_roads_train_AOI_4_Shanghai_PS-MS_img6.tif',\n",
       " 'SN3_roads_train_AOI_4_Shanghai_PS-MS_img60.tif',\n",
       " 'SN3_roads_train_AOI_4_Shanghai_PS-MS_img64.tif',\n",
       " 'SN3_roads_train_AOI_4_Shanghai_PS-MS_img65.tif',\n",
       " 'SN3_roads_train_AOI_4_Shanghai_PS-MS_img67.tif',\n",
       " 'SN3_roads_train_AOI_4_Shanghai_PS-MS_img73.tif',\n",
       " 'SN3_roads_train_AOI_4_Shanghai_PS-MS_img74.tif',\n",
       " 'SN3_roads_train_AOI_4_Shanghai_PS-MS_img75.tif',\n",
       " 'SN3_roads_train_AOI_4_Shanghai_PS-MS_img77.tif',\n",
       " 'SN3_roads_train_AOI_4_Shanghai_PS-MS_img79.tif',\n",
       " 'SN3_roads_train_AOI_4_Shanghai_PS-MS_img8.tif',\n",
       " 'SN3_roads_train_AOI_4_Shanghai_PS-MS_img81.tif',\n",
       " 'SN3_roads_train_AOI_4_Shanghai_PS-MS_img85.tif',\n",
       " 'SN3_roads_train_AOI_4_Shanghai_PS-MS_img87.tif',\n",
       " 'SN3_roads_train_AOI_4_Shanghai_PS-MS_img89.tif',\n",
       " 'SN3_roads_train_AOI_4_Shanghai_PS-MS_img90.tif',\n",
       " 'SN3_roads_train_AOI_4_Shanghai_PS-MS_img91.tif',\n",
       " 'SN3_roads_train_AOI_4_Shanghai_PS-MS_img92.tif',\n",
       " 'SN3_roads_train_AOI_4_Shanghai_PS-MS_img15.tif',\n",
       " 'SN3_roads_train_AOI_4_Shanghai_PS-MS_img16.tif',\n",
       " 'SN3_roads_train_AOI_4_Shanghai_PS-MS_img17.tif',\n",
       " 'SN3_roads_train_AOI_4_Shanghai_PS-MS_img19.tif',\n",
       " 'SN3_roads_train_AOI_4_Shanghai_PS-MS_img2.tif',\n",
       " 'SN3_roads_train_AOI_4_Shanghai_PS-MS_img21.tif',\n",
       " 'SN3_roads_train_AOI_4_Shanghai_PS-MS_img22.tif',\n",
       " 'SN3_roads_train_AOI_4_Shanghai_PS-MS_img23.tif',\n",
       " 'SN3_roads_train_AOI_4_Shanghai_PS-MS_img25.tif',\n",
       " 'SN3_roads_train_AOI_4_Shanghai_PS-MS_img27.tif',\n",
       " 'SN3_roads_train_AOI_4_Shanghai_PAN_img10.tif',\n",
       " 'SN3_roads_train_AOI_4_Shanghai_PAN_img15.tif',\n",
       " 'SN3_roads_train_AOI_4_Shanghai_PAN_img16.tif',\n",
       " 'SN3_roads_train_AOI_4_Shanghai_PAN_img32.tif',\n",
       " 'SN3_roads_train_AOI_4_Shanghai_PAN_img33.tif',\n",
       " 'SN3_roads_train_AOI_4_Shanghai_PAN_img37.tif',\n",
       " 'SN3_roads_train_AOI_4_Shanghai_PAN_img38.tif',\n",
       " 'SN3_roads_train_AOI_4_Shanghai_PAN_img4.tif',\n",
       " 'SN3_roads_train_AOI_4_Shanghai_PAN_img41.tif',\n",
       " 'SN3_roads_train_AOI_4_Shanghai_PAN_img44.tif',\n",
       " 'SN3_roads_train_AOI_4_Shanghai_PAN_img47.tif',\n",
       " 'SN3_roads_train_AOI_4_Shanghai_PAN_img5.tif',\n",
       " 'SN3_roads_train_AOI_4_Shanghai_PAN_img50.tif',\n",
       " 'SN3_roads_train_AOI_4_Shanghai_PAN_img51.tif',\n",
       " 'SN3_roads_train_AOI_4_Shanghai_PAN_img13.tif',\n",
       " 'SN3_roads_train_AOI_4_Shanghai_PAN_img17.tif',\n",
       " 'SN3_roads_train_AOI_4_Shanghai_PAN_img30.tif',\n",
       " 'SN3_roads_train_AOI_4_Shanghai_PAN_img52.tif',\n",
       " 'SN3_roads_train_AOI_4_Shanghai_PAN_img74.tif',\n",
       " 'SN3_roads_train_AOI_4_Shanghai_PAN_img54.tif',\n",
       " 'SN3_roads_train_AOI_4_Shanghai_PAN_img56.tif',\n",
       " 'SN3_roads_train_AOI_4_Shanghai_PAN_img57.tif',\n",
       " 'SN3_roads_train_AOI_4_Shanghai_PAN_img58.tif',\n",
       " 'SN3_roads_train_AOI_4_Shanghai_PAN_img6.tif',\n",
       " 'SN3_roads_train_AOI_4_Shanghai_PAN_img60.tif',\n",
       " 'SN3_roads_train_AOI_4_Shanghai_PAN_img64.tif',\n",
       " 'SN3_roads_train_AOI_4_Shanghai_PAN_img65.tif',\n",
       " 'SN3_roads_train_AOI_4_Shanghai_PAN_img67.tif',\n",
       " 'SN3_roads_train_AOI_4_Shanghai_PAN_img7.tif',\n",
       " 'SN3_roads_train_AOI_4_Shanghai_PAN_img73.tif',\n",
       " 'SN3_roads_train_AOI_4_Shanghai_PAN_img75.tif',\n",
       " 'SN3_roads_train_AOI_4_Shanghai_PAN_img77.tif',\n",
       " 'SN3_roads_train_AOI_4_Shanghai_PAN_img79.tif',\n",
       " 'SN3_roads_train_AOI_4_Shanghai_PAN_img8.tif',\n",
       " 'SN3_roads_train_AOI_4_Shanghai_PAN_img81.tif',\n",
       " 'SN3_roads_train_AOI_4_Shanghai_PAN_img85.tif',\n",
       " 'SN3_roads_train_AOI_4_Shanghai_PAN_img87.tif',\n",
       " 'SN3_roads_train_AOI_4_Shanghai_PAN_img89.tif',\n",
       " 'SN3_roads_train_AOI_4_Shanghai_PAN_img90.tif',\n",
       " 'SN3_roads_train_AOI_4_Shanghai_PAN_img91.tif',\n",
       " 'SN3_roads_train_AOI_4_Shanghai_PAN_img92.tif',\n",
       " 'SN3_roads_train_AOI_4_Shanghai_PAN_img19.tif',\n",
       " 'SN3_roads_train_AOI_4_Shanghai_PAN_img2.tif',\n",
       " 'SN3_roads_train_AOI_4_Shanghai_PAN_img21.tif',\n",
       " 'SN3_roads_train_AOI_4_Shanghai_PAN_img22.tif',\n",
       " 'SN3_roads_train_AOI_4_Shanghai_PAN_img23.tif',\n",
       " 'SN3_roads_train_AOI_4_Shanghai_PAN_img25.tif',\n",
       " 'SN3_roads_train_AOI_4_Shanghai_PAN_img27.tif',\n",
       " 'SN3_roads_train_AOI_4_Shanghai_PAN_img29.tif',\n",
       " 'SN3_roads_train_AOI_4_Shanghai_PAN_img3.tif',\n",
       " 'SN3_roads_train_AOI_4_Shanghai_PS-RGB_img10.tif',\n",
       " 'SN3_roads_train_AOI_4_Shanghai_PS-RGB_img30.tif',\n",
       " 'SN3_roads_train_AOI_4_Shanghai_PS-RGB_img32.tif',\n",
       " 'SN3_roads_train_AOI_4_Shanghai_PS-RGB_img33.tif',\n",
       " 'SN3_roads_train_AOI_4_Shanghai_PS-RGB_img37.tif',\n",
       " 'SN3_roads_train_AOI_4_Shanghai_PS-RGB_img38.tif',\n",
       " 'SN3_roads_train_AOI_4_Shanghai_PS-RGB_img4.tif',\n",
       " 'SN3_roads_train_AOI_4_Shanghai_PS-RGB_img41.tif',\n",
       " 'SN3_roads_train_AOI_4_Shanghai_PS-RGB_img44.tif',\n",
       " 'SN3_roads_train_AOI_4_Shanghai_PS-RGB_img47.tif',\n",
       " 'SN3_roads_train_AOI_4_Shanghai_PS-RGB_img5.tif',\n",
       " 'SN3_roads_train_AOI_4_Shanghai_PS-RGB_img50.tif',\n",
       " 'SN3_roads_train_AOI_4_Shanghai_PS-RGB_img13.tif',\n",
       " 'SN3_roads_train_AOI_4_Shanghai_PS-RGB_img3.tif',\n",
       " 'SN3_roads_train_AOI_4_Shanghai_PS-RGB_img51.tif',\n",
       " 'SN3_roads_train_AOI_4_Shanghai_PS-RGB_img73.tif',\n",
       " 'SN3_roads_train_AOI_4_Shanghai_PS-RGB_img52.tif',\n",
       " 'SN3_roads_train_AOI_4_Shanghai_PS-RGB_img54.tif',\n",
       " 'SN3_roads_train_AOI_4_Shanghai_PS-RGB_img56.tif',\n",
       " 'SN3_roads_train_AOI_4_Shanghai_PS-RGB_img57.tif',\n",
       " 'SN3_roads_train_AOI_4_Shanghai_PS-RGB_img58.tif',\n",
       " 'SN3_roads_train_AOI_4_Shanghai_PS-RGB_img6.tif',\n",
       " 'SN3_roads_train_AOI_4_Shanghai_PS-RGB_img60.tif',\n",
       " 'SN3_roads_train_AOI_4_Shanghai_PS-RGB_img64.tif',\n",
       " 'SN3_roads_train_AOI_4_Shanghai_PS-RGB_img65.tif',\n",
       " 'SN3_roads_train_AOI_4_Shanghai_PS-RGB_img67.tif',\n",
       " 'SN3_roads_train_AOI_4_Shanghai_PS-RGB_img7.tif',\n",
       " 'SN3_roads_train_AOI_4_Shanghai_PS-RGB_img74.tif',\n",
       " 'SN3_roads_train_AOI_4_Shanghai_PS-RGB_img75.tif',\n",
       " 'SN3_roads_train_AOI_4_Shanghai_PS-RGB_img77.tif',\n",
       " 'SN3_roads_train_AOI_4_Shanghai_PS-RGB_img79.tif',\n",
       " 'SN3_roads_train_AOI_4_Shanghai_PS-RGB_img8.tif',\n",
       " 'SN3_roads_train_AOI_4_Shanghai_PS-RGB_img81.tif',\n",
       " 'SN3_roads_train_AOI_4_Shanghai_PS-RGB_img85.tif',\n",
       " 'SN3_roads_train_AOI_4_Shanghai_PS-RGB_img87.tif',\n",
       " 'SN3_roads_train_AOI_4_Shanghai_PS-RGB_img89.tif',\n",
       " 'SN3_roads_train_AOI_4_Shanghai_PS-RGB_img90.tif',\n",
       " 'SN3_roads_train_AOI_4_Shanghai_PS-RGB_img91.tif',\n",
       " 'SN3_roads_train_AOI_4_Shanghai_PS-RGB_img92.tif',\n",
       " 'SN3_roads_train_AOI_4_Shanghai_PS-RGB_img15.tif',\n",
       " 'SN3_roads_train_AOI_4_Shanghai_PS-RGB_img16.tif',\n",
       " 'SN3_roads_train_AOI_4_Shanghai_PS-RGB_img17.tif',\n",
       " 'SN3_roads_train_AOI_4_Shanghai_PS-RGB_img19.tif',\n",
       " 'SN3_roads_train_AOI_4_Shanghai_PS-RGB_img2.tif',\n",
       " 'SN3_roads_train_AOI_4_Shanghai_PS-RGB_img21.tif',\n",
       " 'SN3_roads_train_AOI_4_Shanghai_PS-RGB_img22.tif',\n",
       " 'SN3_roads_train_AOI_4_Shanghai_PS-RGB_img23.tif',\n",
       " 'SN3_roads_train_AOI_4_Shanghai_PS-RGB_img25.tif',\n",
       " 'SN3_roads_train_AOI_4_Shanghai_PS-RGB_img27.tif',\n",
       " 'SN3_roads_train_AOI_4_Shanghai_PS-RGB_img29.tif',\n",
       " 'SN3_roads_train_AOI_5_Khartoum_MS_img26.tif',\n",
       " 'SN3_roads_train_AOI_5_Khartoum_MS_img43.tif',\n",
       " 'SN3_roads_train_AOI_5_Khartoum_MS_img65.tif',\n",
       " 'SN3_roads_train_AOI_5_Khartoum_MS_img1.tif',\n",
       " 'SN3_roads_train_AOI_5_Khartoum_MS_img11.tif',\n",
       " 'SN3_roads_train_AOI_5_Khartoum_MS_img17.tif',\n",
       " 'SN3_roads_train_AOI_5_Khartoum_MS_img18.tif',\n",
       " 'SN3_roads_train_AOI_5_Khartoum_MS_img19.tif',\n",
       " 'SN3_roads_train_AOI_5_Khartoum_MS_img2.tif',\n",
       " 'SN3_roads_train_AOI_5_Khartoum_MS_img20.tif',\n",
       " 'SN3_roads_train_AOI_5_Khartoum_MS_img21.tif',\n",
       " 'SN3_roads_train_AOI_5_Khartoum_MS_img23.tif',\n",
       " 'SN3_roads_train_AOI_5_Khartoum_MS_img24.tif',\n",
       " 'SN3_roads_train_AOI_5_Khartoum_MS_img25.tif',\n",
       " 'SN3_roads_train_AOI_5_Khartoum_MS_img28.tif',\n",
       " 'SN3_roads_train_AOI_5_Khartoum_MS_img29.tif',\n",
       " 'SN3_roads_train_AOI_5_Khartoum_MS_img3.tif',\n",
       " 'SN3_roads_train_AOI_5_Khartoum_MS_img32.tif',\n",
       " 'SN3_roads_train_AOI_5_Khartoum_MS_img35.tif',\n",
       " 'SN3_roads_train_AOI_5_Khartoum_MS_img37.tif',\n",
       " 'SN3_roads_train_AOI_5_Khartoum_MS_img38.tif',\n",
       " 'SN3_roads_train_AOI_5_Khartoum_MS_img39.tif',\n",
       " 'SN3_roads_train_AOI_5_Khartoum_MS_img4.tif',\n",
       " 'SN3_roads_train_AOI_5_Khartoum_MS_img40.tif',\n",
       " 'SN3_roads_train_AOI_5_Khartoum_MS_img41.tif',\n",
       " 'SN3_roads_train_AOI_5_Khartoum_MS_img49.tif',\n",
       " 'SN3_roads_train_AOI_5_Khartoum_MS_img50.tif',\n",
       " 'SN3_roads_train_AOI_5_Khartoum_MS_img54.tif',\n",
       " 'SN3_roads_train_AOI_5_Khartoum_MS_img55.tif',\n",
       " 'SN3_roads_train_AOI_5_Khartoum_MS_img56.tif',\n",
       " 'SN3_roads_train_AOI_5_Khartoum_MS_img59.tif',\n",
       " 'SN3_roads_train_AOI_5_Khartoum_MS_img6.tif',\n",
       " 'SN3_roads_train_AOI_5_Khartoum_MS_img60.tif',\n",
       " 'SN3_roads_train_AOI_5_Khartoum_MS_img61.tif',\n",
       " 'SN3_roads_train_AOI_5_Khartoum_MS_img62.tif',\n",
       " 'SN3_roads_train_AOI_5_Khartoum_MS_img64.tif',\n",
       " 'SN3_roads_train_AOI_5_Khartoum_MS_img66.tif',\n",
       " 'SN3_roads_train_AOI_5_Khartoum_MS_img67.tif',\n",
       " 'SN3_roads_train_AOI_5_Khartoum_MS_img69.tif',\n",
       " 'SN3_roads_train_AOI_5_Khartoum_MS_img7.tif',\n",
       " 'SN3_roads_train_AOI_5_Khartoum_MS_img72.tif',\n",
       " 'SN3_roads_train_AOI_5_Khartoum_MS_img73.tif',\n",
       " 'SN3_roads_train_AOI_5_Khartoum_MS_img74.tif',\n",
       " 'SN3_roads_train_AOI_5_Khartoum_MS_img78.tif',\n",
       " 'SN3_roads_train_AOI_5_Khartoum_MS_img8.tif',\n",
       " 'SN3_roads_train_AOI_5_Khartoum_MS_img81.tif',\n",
       " 'SN3_roads_train_AOI_5_Khartoum_MS_img82.tif',\n",
       " 'SN3_roads_train_AOI_5_Khartoum_MS_img83.tif',\n",
       " 'SN3_roads_train_AOI_5_Khartoum_MS_img84.tif',\n",
       " 'SN3_roads_train_AOI_5_Khartoum_MS_img85.tif',\n",
       " 'SN3_roads_train_AOI_5_Khartoum_PAN_img1.tif',\n",
       " 'SN3_roads_train_AOI_5_Khartoum_PAN_img17.tif',\n",
       " 'SN3_roads_train_AOI_5_Khartoum_PAN_img18.tif',\n",
       " 'SN3_roads_train_AOI_5_Khartoum_PAN_img19.tif',\n",
       " 'SN3_roads_train_AOI_5_Khartoum_PAN_img2.tif',\n",
       " 'SN3_roads_train_AOI_5_Khartoum_PAN_img20.tif',\n",
       " 'SN3_roads_train_AOI_5_Khartoum_PAN_img21.tif',\n",
       " 'SN3_roads_train_AOI_5_Khartoum_PAN_img23.tif',\n",
       " 'SN3_roads_train_AOI_5_Khartoum_PAN_img24.tif',\n",
       " 'SN3_roads_train_AOI_5_Khartoum_PAN_img25.tif',\n",
       " 'SN3_roads_train_AOI_5_Khartoum_PAN_img26.tif',\n",
       " 'SN3_roads_train_AOI_5_Khartoum_PAN_img28.tif',\n",
       " 'SN3_roads_train_AOI_5_Khartoum_PAN_img29.tif',\n",
       " 'SN3_roads_train_AOI_5_Khartoum_PAN_img32.tif',\n",
       " 'SN3_roads_train_AOI_5_Khartoum_PAN_img35.tif',\n",
       " 'SN3_roads_train_AOI_5_Khartoum_PAN_img37.tif',\n",
       " 'SN3_roads_train_AOI_5_Khartoum_PAN_img38.tif',\n",
       " 'SN3_roads_train_AOI_5_Khartoum_PAN_img39.tif',\n",
       " 'SN3_roads_train_AOI_5_Khartoum_PAN_img4.tif',\n",
       " 'SN3_roads_train_AOI_5_Khartoum_PAN_img40.tif',\n",
       " 'SN3_roads_train_AOI_5_Khartoum_PAN_img41.tif',\n",
       " 'SN3_roads_train_AOI_5_Khartoum_PAN_img43.tif',\n",
       " 'SN3_roads_train_AOI_5_Khartoum_PAN_img49.tif',\n",
       " 'SN3_roads_train_AOI_5_Khartoum_PAN_img50.tif',\n",
       " 'SN3_roads_train_AOI_5_Khartoum_PAN_img55.tif',\n",
       " 'SN3_roads_train_AOI_5_Khartoum_PAN_img56.tif',\n",
       " 'SN3_roads_train_AOI_5_Khartoum_PAN_img59.tif',\n",
       " 'SN3_roads_train_AOI_5_Khartoum_PAN_img6.tif',\n",
       " 'SN3_roads_train_AOI_5_Khartoum_PAN_img60.tif',\n",
       " 'SN3_roads_train_AOI_5_Khartoum_PAN_img61.tif',\n",
       " 'SN3_roads_train_AOI_5_Khartoum_PAN_img62.tif',\n",
       " 'SN3_roads_train_AOI_5_Khartoum_PAN_img64.tif',\n",
       " 'SN3_roads_train_AOI_5_Khartoum_PAN_img65.tif',\n",
       " 'SN3_roads_train_AOI_5_Khartoum_PAN_img66.tif',\n",
       " 'SN3_roads_train_AOI_5_Khartoum_PAN_img67.tif',\n",
       " 'SN3_roads_train_AOI_5_Khartoum_PAN_img7.tif',\n",
       " 'SN3_roads_train_AOI_5_Khartoum_PAN_img72.tif',\n",
       " 'SN3_roads_train_AOI_5_Khartoum_PAN_img73.tif',\n",
       " 'SN3_roads_train_AOI_5_Khartoum_PAN_img74.tif',\n",
       " 'SN3_roads_train_AOI_5_Khartoum_PAN_img78.tif',\n",
       " 'SN3_roads_train_AOI_5_Khartoum_PAN_img8.tif',\n",
       " 'SN3_roads_train_AOI_5_Khartoum_PAN_img81.tif',\n",
       " 'SN3_roads_train_AOI_5_Khartoum_PAN_img82.tif',\n",
       " 'SN3_roads_train_AOI_5_Khartoum_PAN_img83.tif',\n",
       " 'SN3_roads_train_AOI_5_Khartoum_PAN_img84.tif',\n",
       " 'SN3_roads_train_AOI_5_Khartoum_PAN_img85.tif',\n",
       " 'SN3_roads_train_AOI_5_Khartoum_PAN_img11.tif',\n",
       " 'SN3_roads_train_AOI_5_Khartoum_PAN_img3.tif',\n",
       " 'SN3_roads_train_AOI_5_Khartoum_PAN_img54.tif',\n",
       " 'SN3_roads_train_AOI_5_Khartoum_PAN_img69.tif',\n",
       " 'SN3_roads_train_AOI_5_Khartoum_PS-RGB_img1.tif',\n",
       " 'SN3_roads_train_AOI_5_Khartoum_PS-RGB_img3.tif',\n",
       " 'SN3_roads_train_AOI_5_Khartoum_PS-RGB_img32.tif',\n",
       " 'SN3_roads_train_AOI_5_Khartoum_PS-RGB_img35.tif',\n",
       " 'SN3_roads_train_AOI_5_Khartoum_PS-RGB_img37.tif',\n",
       " 'SN3_roads_train_AOI_5_Khartoum_PS-RGB_img38.tif',\n",
       " 'SN3_roads_train_AOI_5_Khartoum_PS-RGB_img39.tif',\n",
       " 'SN3_roads_train_AOI_5_Khartoum_PS-RGB_img4.tif',\n",
       " 'SN3_roads_train_AOI_5_Khartoum_PS-RGB_img40.tif',\n",
       " 'SN3_roads_train_AOI_5_Khartoum_PS-RGB_img41.tif',\n",
       " 'SN3_roads_train_AOI_5_Khartoum_PS-RGB_img43.tif',\n",
       " 'SN3_roads_train_AOI_5_Khartoum_PS-RGB_img49.tif',\n",
       " 'SN3_roads_train_AOI_5_Khartoum_PS-RGB_img11.tif',\n",
       " 'SN3_roads_train_AOI_5_Khartoum_PS-RGB_img29.tif',\n",
       " 'SN3_roads_train_AOI_5_Khartoum_PS-RGB_img50.tif',\n",
       " 'SN3_roads_train_AOI_5_Khartoum_PS-RGB_img67.tif',\n",
       " 'SN3_roads_train_AOI_5_Khartoum_PS-RGB_img54.tif',\n",
       " 'SN3_roads_train_AOI_5_Khartoum_PS-RGB_img55.tif',\n",
       " 'SN3_roads_train_AOI_5_Khartoum_PS-RGB_img56.tif',\n",
       " 'SN3_roads_train_AOI_5_Khartoum_PS-RGB_img59.tif',\n",
       " 'SN3_roads_train_AOI_5_Khartoum_PS-RGB_img6.tif',\n",
       " 'SN3_roads_train_AOI_5_Khartoum_PS-RGB_img60.tif',\n",
       " 'SN3_roads_train_AOI_5_Khartoum_PS-RGB_img61.tif',\n",
       " 'SN3_roads_train_AOI_5_Khartoum_PS-RGB_img62.tif',\n",
       " 'SN3_roads_train_AOI_5_Khartoum_PS-RGB_img64.tif',\n",
       " 'SN3_roads_train_AOI_5_Khartoum_PS-RGB_img65.tif',\n",
       " 'SN3_roads_train_AOI_5_Khartoum_PS-RGB_img66.tif',\n",
       " 'SN3_roads_train_AOI_5_Khartoum_PS-RGB_img69.tif',\n",
       " 'SN3_roads_train_AOI_5_Khartoum_PS-RGB_img7.tif',\n",
       " 'SN3_roads_train_AOI_5_Khartoum_PS-RGB_img72.tif',\n",
       " 'SN3_roads_train_AOI_5_Khartoum_PS-RGB_img73.tif',\n",
       " 'SN3_roads_train_AOI_5_Khartoum_PS-RGB_img74.tif',\n",
       " 'SN3_roads_train_AOI_5_Khartoum_PS-RGB_img78.tif',\n",
       " 'SN3_roads_train_AOI_5_Khartoum_PS-RGB_img8.tif',\n",
       " 'SN3_roads_train_AOI_5_Khartoum_PS-RGB_img81.tif',\n",
       " 'SN3_roads_train_AOI_5_Khartoum_PS-RGB_img82.tif',\n",
       " 'SN3_roads_train_AOI_5_Khartoum_PS-RGB_img83.tif',\n",
       " 'SN3_roads_train_AOI_5_Khartoum_PS-RGB_img84.tif',\n",
       " 'SN3_roads_train_AOI_5_Khartoum_PS-RGB_img85.tif',\n",
       " 'SN3_roads_train_AOI_5_Khartoum_PS-RGB_img17.tif',\n",
       " 'SN3_roads_train_AOI_5_Khartoum_PS-RGB_img18.tif',\n",
       " 'SN3_roads_train_AOI_5_Khartoum_PS-RGB_img19.tif',\n",
       " 'SN3_roads_train_AOI_5_Khartoum_PS-RGB_img2.tif',\n",
       " 'SN3_roads_train_AOI_5_Khartoum_PS-RGB_img20.tif',\n",
       " 'SN3_roads_train_AOI_5_Khartoum_PS-RGB_img21.tif',\n",
       " 'SN3_roads_train_AOI_5_Khartoum_PS-RGB_img23.tif',\n",
       " 'SN3_roads_train_AOI_5_Khartoum_PS-RGB_img24.tif',\n",
       " 'SN3_roads_train_AOI_5_Khartoum_PS-RGB_img25.tif',\n",
       " 'SN3_roads_train_AOI_5_Khartoum_PS-RGB_img26.tif',\n",
       " 'SN3_roads_train_AOI_5_Khartoum_PS-RGB_img28.tif']"
      ]
     },
     "execution_count": 75,
     "metadata": {},
     "output_type": "execute_result"
    }
   ],
   "source": [
    "img_files "
   ]
  },
  {
   "cell_type": "code",
   "execution_count": 80,
   "metadata": {},
   "outputs": [
    {
     "name": "stdout",
     "output_type": "stream",
     "text": [
      "['SN3_roads_train_AOI_3_Paris_geojson_roads_img26.tif', 'SN3_roads_train_AOI_3_Paris_geojson_roads_img46.tif', 'SN3_roads_train_AOI_3_Paris_geojson_roads_img10.tif', 'SN3_roads_train_AOI_3_Paris_geojson_roads_img11.tif', 'SN3_roads_train_AOI_3_Paris_geojson_roads_img14.tif', 'SN3_roads_train_AOI_3_Paris_geojson_roads_img15.tif', 'SN3_roads_train_AOI_3_Paris_geojson_roads_img16.tif', 'SN3_roads_train_AOI_3_Paris_geojson_roads_img17.tif', 'SN3_roads_train_AOI_3_Paris_geojson_roads_img18.tif', 'SN3_roads_train_AOI_3_Paris_geojson_roads_img19.tif', 'SN3_roads_train_AOI_3_Paris_geojson_roads_img20.tif', 'SN3_roads_train_AOI_3_Paris_geojson_roads_img21.tif', 'SN3_roads_train_AOI_3_Paris_geojson_roads_img23.tif', 'SN3_roads_train_AOI_3_Paris_geojson_roads_img24.tif', 'SN3_roads_train_AOI_3_Paris_geojson_roads_img27.tif', 'SN3_roads_train_AOI_3_Paris_geojson_roads_img28.tif', 'SN3_roads_train_AOI_3_Paris_geojson_roads_img30.tif', 'SN3_roads_train_AOI_3_Paris_geojson_roads_img31.tif', 'SN3_roads_train_AOI_3_Paris_geojson_roads_img33.tif', 'SN3_roads_train_AOI_3_Paris_geojson_roads_img35.tif', 'SN3_roads_train_AOI_3_Paris_geojson_roads_img37.tif', 'SN3_roads_train_AOI_3_Paris_geojson_roads_img38.tif', 'SN3_roads_train_AOI_3_Paris_geojson_roads_img39.tif', 'SN3_roads_train_AOI_3_Paris_geojson_roads_img41.tif', 'SN3_roads_train_AOI_3_Paris_geojson_roads_img42.tif', 'SN3_roads_train_AOI_3_Paris_geojson_roads_img43.tif', 'SN3_roads_train_AOI_3_Paris_geojson_roads_img47.tif', 'SN3_roads_train_AOI_3_Paris_geojson_roads_img48.tif', 'SN3_roads_train_AOI_3_Paris_geojson_roads_img49.tif', 'SN3_roads_train_AOI_3_Paris_geojson_roads_img50.tif', 'SN3_roads_train_AOI_3_Paris_geojson_roads_img51.tif', 'SN3_roads_train_AOI_3_Paris_geojson_roads_img52.tif', 'SN3_roads_train_AOI_3_Paris_geojson_roads_img53.tif', 'SN3_roads_train_AOI_3_Paris_geojson_roads_img54.tif', 'SN3_roads_train_AOI_3_Paris_geojson_roads_img55.tif', 'SN3_roads_train_AOI_3_Paris_geojson_roads_img6.tif', 'SN3_roads_train_AOI_3_Paris_geojson_roads_img60.tif', 'SN3_roads_train_AOI_3_Paris_geojson_roads_img61.tif', 'SN3_roads_train_AOI_3_Paris_geojson_roads_img63.tif', 'SN3_roads_train_AOI_3_Paris_geojson_roads_img64.tif', 'SN3_roads_train_AOI_3_Paris_geojson_roads_img65.tif', 'SN3_roads_train_AOI_3_Paris_geojson_roads_img7.tif', 'SN3_roads_train_AOI_3_Paris_geojson_roads_img72.tif', 'SN3_roads_train_AOI_3_Paris_geojson_roads_img73.tif', 'SN3_roads_train_AOI_3_Paris_geojson_roads_img75.tif', 'SN3_roads_train_AOI_3_Paris_geojson_roads_img76.tif', 'SN3_roads_train_AOI_3_Paris_geojson_roads_img77.tif', 'SN3_roads_train_AOI_3_Paris_geojson_roads_img80.tif', 'SN3_roads_train_AOI_3_Paris_geojson_roads_img81.tif', 'SN3_roads_train_AOI_3_Paris_geojson_roads_img9.tif', 'SN3_roads_train_AOI_3_Paris_geojson_roads_img10.tif', 'SN3_roads_train_AOI_3_Paris_geojson_roads_img28.tif', 'SN3_roads_train_AOI_3_Paris_geojson_roads_img30.tif', 'SN3_roads_train_AOI_3_Paris_geojson_roads_img31.tif', 'SN3_roads_train_AOI_3_Paris_geojson_roads_img33.tif', 'SN3_roads_train_AOI_3_Paris_geojson_roads_img35.tif', 'SN3_roads_train_AOI_3_Paris_geojson_roads_img37.tif', 'SN3_roads_train_AOI_3_Paris_geojson_roads_img38.tif', 'SN3_roads_train_AOI_3_Paris_geojson_roads_img39.tif', 'SN3_roads_train_AOI_3_Paris_geojson_roads_img41.tif', 'SN3_roads_train_AOI_3_Paris_geojson_roads_img42.tif', 'SN3_roads_train_AOI_3_Paris_geojson_roads_img43.tif', 'SN3_roads_train_AOI_3_Paris_geojson_roads_img11.tif', 'SN3_roads_train_AOI_3_Paris_geojson_roads_img15.tif', 'SN3_roads_train_AOI_3_Paris_geojson_roads_img27.tif', 'SN3_roads_train_AOI_3_Paris_geojson_roads_img46.tif', 'SN3_roads_train_AOI_3_Paris_geojson_roads_img61.tif', 'SN3_roads_train_AOI_3_Paris_geojson_roads_img47.tif', 'SN3_roads_train_AOI_3_Paris_geojson_roads_img48.tif', 'SN3_roads_train_AOI_3_Paris_geojson_roads_img49.tif', 'SN3_roads_train_AOI_3_Paris_geojson_roads_img50.tif', 'SN3_roads_train_AOI_3_Paris_geojson_roads_img51.tif', 'SN3_roads_train_AOI_3_Paris_geojson_roads_img52.tif', 'SN3_roads_train_AOI_3_Paris_geojson_roads_img53.tif', 'SN3_roads_train_AOI_3_Paris_geojson_roads_img54.tif', 'SN3_roads_train_AOI_3_Paris_geojson_roads_img55.tif', 'SN3_roads_train_AOI_3_Paris_geojson_roads_img6.tif', 'SN3_roads_train_AOI_3_Paris_geojson_roads_img60.tif', 'SN3_roads_train_AOI_3_Paris_geojson_roads_img63.tif', 'SN3_roads_train_AOI_3_Paris_geojson_roads_img64.tif', 'SN3_roads_train_AOI_3_Paris_geojson_roads_img65.tif', 'SN3_roads_train_AOI_3_Paris_geojson_roads_img7.tif', 'SN3_roads_train_AOI_3_Paris_geojson_roads_img72.tif', 'SN3_roads_train_AOI_3_Paris_geojson_roads_img73.tif', 'SN3_roads_train_AOI_3_Paris_geojson_roads_img75.tif', 'SN3_roads_train_AOI_3_Paris_geojson_roads_img76.tif', 'SN3_roads_train_AOI_3_Paris_geojson_roads_img77.tif', 'SN3_roads_train_AOI_3_Paris_geojson_roads_img80.tif', 'SN3_roads_train_AOI_3_Paris_geojson_roads_img81.tif', 'SN3_roads_train_AOI_3_Paris_geojson_roads_img9.tif', 'SN3_roads_train_AOI_3_Paris_geojson_roads_img14.tif', 'SN3_roads_train_AOI_3_Paris_geojson_roads_img16.tif', 'SN3_roads_train_AOI_3_Paris_geojson_roads_img17.tif', 'SN3_roads_train_AOI_3_Paris_geojson_roads_img18.tif', 'SN3_roads_train_AOI_3_Paris_geojson_roads_img19.tif', 'SN3_roads_train_AOI_3_Paris_geojson_roads_img20.tif', 'SN3_roads_train_AOI_3_Paris_geojson_roads_img21.tif', 'SN3_roads_train_AOI_3_Paris_geojson_roads_img23.tif', 'SN3_roads_train_AOI_3_Paris_geojson_roads_img24.tif', 'SN3_roads_train_AOI_3_Paris_geojson_roads_img26.tif', 'SN3_roads_train_AOI_3_Paris_geojson_roads_img10.tif', 'SN3_roads_train_AOI_3_Paris_geojson_roads_img14.tif', 'SN3_roads_train_AOI_3_Paris_geojson_roads_img15.tif', 'SN3_roads_train_AOI_3_Paris_geojson_roads_img30.tif', 'SN3_roads_train_AOI_3_Paris_geojson_roads_img31.tif', 'SN3_roads_train_AOI_3_Paris_geojson_roads_img33.tif', 'SN3_roads_train_AOI_3_Paris_geojson_roads_img35.tif', 'SN3_roads_train_AOI_3_Paris_geojson_roads_img37.tif', 'SN3_roads_train_AOI_3_Paris_geojson_roads_img38.tif', 'SN3_roads_train_AOI_3_Paris_geojson_roads_img39.tif', 'SN3_roads_train_AOI_3_Paris_geojson_roads_img41.tif', 'SN3_roads_train_AOI_3_Paris_geojson_roads_img42.tif', 'SN3_roads_train_AOI_3_Paris_geojson_roads_img43.tif', 'SN3_roads_train_AOI_3_Paris_geojson_roads_img46.tif', 'SN3_roads_train_AOI_3_Paris_geojson_roads_img48.tif', 'SN3_roads_train_AOI_3_Paris_geojson_roads_img49.tif', 'SN3_roads_train_AOI_3_Paris_geojson_roads_img50.tif', 'SN3_roads_train_AOI_3_Paris_geojson_roads_img51.tif', 'SN3_roads_train_AOI_3_Paris_geojson_roads_img52.tif', 'SN3_roads_train_AOI_3_Paris_geojson_roads_img53.tif', 'SN3_roads_train_AOI_3_Paris_geojson_roads_img54.tif', 'SN3_roads_train_AOI_3_Paris_geojson_roads_img55.tif', 'SN3_roads_train_AOI_3_Paris_geojson_roads_img6.tif', 'SN3_roads_train_AOI_3_Paris_geojson_roads_img60.tif', 'SN3_roads_train_AOI_3_Paris_geojson_roads_img61.tif', 'SN3_roads_train_AOI_3_Paris_geojson_roads_img64.tif', 'SN3_roads_train_AOI_3_Paris_geojson_roads_img65.tif', 'SN3_roads_train_AOI_3_Paris_geojson_roads_img7.tif', 'SN3_roads_train_AOI_3_Paris_geojson_roads_img72.tif', 'SN3_roads_train_AOI_3_Paris_geojson_roads_img73.tif', 'SN3_roads_train_AOI_3_Paris_geojson_roads_img75.tif', 'SN3_roads_train_AOI_3_Paris_geojson_roads_img76.tif', 'SN3_roads_train_AOI_3_Paris_geojson_roads_img77.tif', 'SN3_roads_train_AOI_3_Paris_geojson_roads_img80.tif', 'SN3_roads_train_AOI_3_Paris_geojson_roads_img81.tif', 'SN3_roads_train_AOI_3_Paris_geojson_roads_img9.tif', 'SN3_roads_train_AOI_3_Paris_geojson_roads_img11.tif', 'SN3_roads_train_AOI_3_Paris_geojson_roads_img16.tif', 'SN3_roads_train_AOI_3_Paris_geojson_roads_img28.tif', 'SN3_roads_train_AOI_3_Paris_geojson_roads_img47.tif', 'SN3_roads_train_AOI_3_Paris_geojson_roads_img63.tif', 'SN3_roads_train_AOI_3_Paris_geojson_roads_img17.tif', 'SN3_roads_train_AOI_3_Paris_geojson_roads_img18.tif', 'SN3_roads_train_AOI_3_Paris_geojson_roads_img19.tif', 'SN3_roads_train_AOI_3_Paris_geojson_roads_img20.tif', 'SN3_roads_train_AOI_3_Paris_geojson_roads_img21.tif', 'SN3_roads_train_AOI_3_Paris_geojson_roads_img23.tif', 'SN3_roads_train_AOI_3_Paris_geojson_roads_img24.tif', 'SN3_roads_train_AOI_3_Paris_geojson_roads_img26.tif', 'SN3_roads_train_AOI_3_Paris_geojson_roads_img27.tif', 'SN3_roads_train_AOI_3_Paris_geojson_roads_img10.tif', 'SN3_roads_train_AOI_3_Paris_geojson_roads_img28.tif', 'SN3_roads_train_AOI_3_Paris_geojson_roads_img30.tif', 'SN3_roads_train_AOI_3_Paris_geojson_roads_img31.tif', 'SN3_roads_train_AOI_3_Paris_geojson_roads_img33.tif', 'SN3_roads_train_AOI_3_Paris_geojson_roads_img35.tif', 'SN3_roads_train_AOI_3_Paris_geojson_roads_img37.tif', 'SN3_roads_train_AOI_3_Paris_geojson_roads_img38.tif', 'SN3_roads_train_AOI_3_Paris_geojson_roads_img39.tif', 'SN3_roads_train_AOI_3_Paris_geojson_roads_img41.tif', 'SN3_roads_train_AOI_3_Paris_geojson_roads_img42.tif', 'SN3_roads_train_AOI_3_Paris_geojson_roads_img43.tif', 'SN3_roads_train_AOI_3_Paris_geojson_roads_img11.tif', 'SN3_roads_train_AOI_3_Paris_geojson_roads_img16.tif', 'SN3_roads_train_AOI_3_Paris_geojson_roads_img27.tif', 'SN3_roads_train_AOI_3_Paris_geojson_roads_img46.tif', 'SN3_roads_train_AOI_3_Paris_geojson_roads_img61.tif', 'SN3_roads_train_AOI_3_Paris_geojson_roads_img47.tif', 'SN3_roads_train_AOI_3_Paris_geojson_roads_img48.tif', 'SN3_roads_train_AOI_3_Paris_geojson_roads_img49.tif', 'SN3_roads_train_AOI_3_Paris_geojson_roads_img50.tif', 'SN3_roads_train_AOI_3_Paris_geojson_roads_img51.tif', 'SN3_roads_train_AOI_3_Paris_geojson_roads_img52.tif', 'SN3_roads_train_AOI_3_Paris_geojson_roads_img53.tif', 'SN3_roads_train_AOI_3_Paris_geojson_roads_img54.tif', 'SN3_roads_train_AOI_3_Paris_geojson_roads_img55.tif', 'SN3_roads_train_AOI_3_Paris_geojson_roads_img6.tif', 'SN3_roads_train_AOI_3_Paris_geojson_roads_img60.tif', 'SN3_roads_train_AOI_3_Paris_geojson_roads_img63.tif', 'SN3_roads_train_AOI_3_Paris_geojson_roads_img64.tif', 'SN3_roads_train_AOI_3_Paris_geojson_roads_img65.tif', 'SN3_roads_train_AOI_3_Paris_geojson_roads_img7.tif', 'SN3_roads_train_AOI_3_Paris_geojson_roads_img72.tif', 'SN3_roads_train_AOI_3_Paris_geojson_roads_img73.tif', 'SN3_roads_train_AOI_3_Paris_geojson_roads_img75.tif', 'SN3_roads_train_AOI_3_Paris_geojson_roads_img76.tif', 'SN3_roads_train_AOI_3_Paris_geojson_roads_img77.tif', 'SN3_roads_train_AOI_3_Paris_geojson_roads_img80.tif', 'SN3_roads_train_AOI_3_Paris_geojson_roads_img81.tif', 'SN3_roads_train_AOI_3_Paris_geojson_roads_img9.tif', 'SN3_roads_train_AOI_3_Paris_geojson_roads_img14.tif', 'SN3_roads_train_AOI_3_Paris_geojson_roads_img15.tif', 'SN3_roads_train_AOI_3_Paris_geojson_roads_img17.tif', 'SN3_roads_train_AOI_3_Paris_geojson_roads_img18.tif', 'SN3_roads_train_AOI_3_Paris_geojson_roads_img19.tif', 'SN3_roads_train_AOI_3_Paris_geojson_roads_img20.tif', 'SN3_roads_train_AOI_3_Paris_geojson_roads_img21.tif', 'SN3_roads_train_AOI_3_Paris_geojson_roads_img23.tif', 'SN3_roads_train_AOI_3_Paris_geojson_roads_img24.tif', 'SN3_roads_train_AOI_3_Paris_geojson_roads_img26.tif', 'SN3_roads_train_AOI_4_Shanghai_geojson_roads_img10.tif', 'SN3_roads_train_AOI_4_Shanghai_geojson_roads_img30.tif', 'SN3_roads_train_AOI_4_Shanghai_geojson_roads_img32.tif', 'SN3_roads_train_AOI_4_Shanghai_geojson_roads_img33.tif', 'SN3_roads_train_AOI_4_Shanghai_geojson_roads_img37.tif', 'SN3_roads_train_AOI_4_Shanghai_geojson_roads_img38.tif', 'SN3_roads_train_AOI_4_Shanghai_geojson_roads_img4.tif', 'SN3_roads_train_AOI_4_Shanghai_geojson_roads_img41.tif', 'SN3_roads_train_AOI_4_Shanghai_geojson_roads_img44.tif', 'SN3_roads_train_AOI_4_Shanghai_geojson_roads_img47.tif', 'SN3_roads_train_AOI_4_Shanghai_geojson_roads_img5.tif', 'SN3_roads_train_AOI_4_Shanghai_geojson_roads_img50.tif', 'SN3_roads_train_AOI_4_Shanghai_geojson_roads_img52.tif', 'SN3_roads_train_AOI_4_Shanghai_geojson_roads_img54.tif', 'SN3_roads_train_AOI_4_Shanghai_geojson_roads_img56.tif', 'SN3_roads_train_AOI_4_Shanghai_geojson_roads_img57.tif', 'SN3_roads_train_AOI_4_Shanghai_geojson_roads_img58.tif', 'SN3_roads_train_AOI_4_Shanghai_geojson_roads_img6.tif', 'SN3_roads_train_AOI_4_Shanghai_geojson_roads_img60.tif', 'SN3_roads_train_AOI_4_Shanghai_geojson_roads_img64.tif', 'SN3_roads_train_AOI_4_Shanghai_geojson_roads_img65.tif', 'SN3_roads_train_AOI_4_Shanghai_geojson_roads_img67.tif', 'SN3_roads_train_AOI_4_Shanghai_geojson_roads_img7.tif', 'SN3_roads_train_AOI_4_Shanghai_geojson_roads_img74.tif', 'SN3_roads_train_AOI_4_Shanghai_geojson_roads_img75.tif', 'SN3_roads_train_AOI_4_Shanghai_geojson_roads_img77.tif', 'SN3_roads_train_AOI_4_Shanghai_geojson_roads_img79.tif', 'SN3_roads_train_AOI_4_Shanghai_geojson_roads_img8.tif', 'SN3_roads_train_AOI_4_Shanghai_geojson_roads_img81.tif', 'SN3_roads_train_AOI_4_Shanghai_geojson_roads_img85.tif', 'SN3_roads_train_AOI_4_Shanghai_geojson_roads_img87.tif', 'SN3_roads_train_AOI_4_Shanghai_geojson_roads_img89.tif', 'SN3_roads_train_AOI_4_Shanghai_geojson_roads_img90.tif', 'SN3_roads_train_AOI_4_Shanghai_geojson_roads_img91.tif', 'SN3_roads_train_AOI_4_Shanghai_geojson_roads_img92.tif', 'SN3_roads_train_AOI_4_Shanghai_geojson_roads_img13.tif', 'SN3_roads_train_AOI_4_Shanghai_geojson_roads_img3.tif', 'SN3_roads_train_AOI_4_Shanghai_geojson_roads_img51.tif', 'SN3_roads_train_AOI_4_Shanghai_geojson_roads_img73.tif', 'SN3_roads_train_AOI_4_Shanghai_geojson_roads_img15.tif', 'SN3_roads_train_AOI_4_Shanghai_geojson_roads_img16.tif', 'SN3_roads_train_AOI_4_Shanghai_geojson_roads_img17.tif', 'SN3_roads_train_AOI_4_Shanghai_geojson_roads_img19.tif', 'SN3_roads_train_AOI_4_Shanghai_geojson_roads_img2.tif', 'SN3_roads_train_AOI_4_Shanghai_geojson_roads_img21.tif', 'SN3_roads_train_AOI_4_Shanghai_geojson_roads_img22.tif', 'SN3_roads_train_AOI_4_Shanghai_geojson_roads_img23.tif', 'SN3_roads_train_AOI_4_Shanghai_geojson_roads_img25.tif', 'SN3_roads_train_AOI_4_Shanghai_geojson_roads_img27.tif', 'SN3_roads_train_AOI_4_Shanghai_geojson_roads_img29.tif', 'SN3_roads_train_AOI_4_Shanghai_geojson_roads_img10.tif', 'SN3_roads_train_AOI_4_Shanghai_geojson_roads_img3.tif', 'SN3_roads_train_AOI_4_Shanghai_geojson_roads_img30.tif', 'SN3_roads_train_AOI_4_Shanghai_geojson_roads_img32.tif', 'SN3_roads_train_AOI_4_Shanghai_geojson_roads_img33.tif', 'SN3_roads_train_AOI_4_Shanghai_geojson_roads_img37.tif', 'SN3_roads_train_AOI_4_Shanghai_geojson_roads_img38.tif', 'SN3_roads_train_AOI_4_Shanghai_geojson_roads_img4.tif', 'SN3_roads_train_AOI_4_Shanghai_geojson_roads_img41.tif', 'SN3_roads_train_AOI_4_Shanghai_geojson_roads_img44.tif', 'SN3_roads_train_AOI_4_Shanghai_geojson_roads_img47.tif', 'SN3_roads_train_AOI_4_Shanghai_geojson_roads_img5.tif', 'SN3_roads_train_AOI_4_Shanghai_geojson_roads_img13.tif', 'SN3_roads_train_AOI_4_Shanghai_geojson_roads_img29.tif', 'SN3_roads_train_AOI_4_Shanghai_geojson_roads_img50.tif', 'SN3_roads_train_AOI_4_Shanghai_geojson_roads_img7.tif', 'SN3_roads_train_AOI_4_Shanghai_geojson_roads_img51.tif', 'SN3_roads_train_AOI_4_Shanghai_geojson_roads_img52.tif', 'SN3_roads_train_AOI_4_Shanghai_geojson_roads_img54.tif', 'SN3_roads_train_AOI_4_Shanghai_geojson_roads_img56.tif', 'SN3_roads_train_AOI_4_Shanghai_geojson_roads_img57.tif', 'SN3_roads_train_AOI_4_Shanghai_geojson_roads_img58.tif', 'SN3_roads_train_AOI_4_Shanghai_geojson_roads_img6.tif', 'SN3_roads_train_AOI_4_Shanghai_geojson_roads_img60.tif', 'SN3_roads_train_AOI_4_Shanghai_geojson_roads_img64.tif', 'SN3_roads_train_AOI_4_Shanghai_geojson_roads_img65.tif', 'SN3_roads_train_AOI_4_Shanghai_geojson_roads_img67.tif', 'SN3_roads_train_AOI_4_Shanghai_geojson_roads_img73.tif', 'SN3_roads_train_AOI_4_Shanghai_geojson_roads_img74.tif', 'SN3_roads_train_AOI_4_Shanghai_geojson_roads_img75.tif', 'SN3_roads_train_AOI_4_Shanghai_geojson_roads_img77.tif', 'SN3_roads_train_AOI_4_Shanghai_geojson_roads_img79.tif', 'SN3_roads_train_AOI_4_Shanghai_geojson_roads_img8.tif', 'SN3_roads_train_AOI_4_Shanghai_geojson_roads_img81.tif', 'SN3_roads_train_AOI_4_Shanghai_geojson_roads_img85.tif', 'SN3_roads_train_AOI_4_Shanghai_geojson_roads_img87.tif', 'SN3_roads_train_AOI_4_Shanghai_geojson_roads_img89.tif', 'SN3_roads_train_AOI_4_Shanghai_geojson_roads_img90.tif', 'SN3_roads_train_AOI_4_Shanghai_geojson_roads_img91.tif', 'SN3_roads_train_AOI_4_Shanghai_geojson_roads_img92.tif', 'SN3_roads_train_AOI_4_Shanghai_geojson_roads_img15.tif', 'SN3_roads_train_AOI_4_Shanghai_geojson_roads_img16.tif', 'SN3_roads_train_AOI_4_Shanghai_geojson_roads_img17.tif', 'SN3_roads_train_AOI_4_Shanghai_geojson_roads_img19.tif', 'SN3_roads_train_AOI_4_Shanghai_geojson_roads_img2.tif', 'SN3_roads_train_AOI_4_Shanghai_geojson_roads_img21.tif', 'SN3_roads_train_AOI_4_Shanghai_geojson_roads_img22.tif', 'SN3_roads_train_AOI_4_Shanghai_geojson_roads_img23.tif', 'SN3_roads_train_AOI_4_Shanghai_geojson_roads_img25.tif', 'SN3_roads_train_AOI_4_Shanghai_geojson_roads_img27.tif', 'SN3_roads_train_AOI_4_Shanghai_geojson_roads_img10.tif', 'SN3_roads_train_AOI_4_Shanghai_geojson_roads_img15.tif', 'SN3_roads_train_AOI_4_Shanghai_geojson_roads_img16.tif', 'SN3_roads_train_AOI_4_Shanghai_geojson_roads_img32.tif', 'SN3_roads_train_AOI_4_Shanghai_geojson_roads_img33.tif', 'SN3_roads_train_AOI_4_Shanghai_geojson_roads_img37.tif', 'SN3_roads_train_AOI_4_Shanghai_geojson_roads_img38.tif', 'SN3_roads_train_AOI_4_Shanghai_geojson_roads_img4.tif', 'SN3_roads_train_AOI_4_Shanghai_geojson_roads_img41.tif', 'SN3_roads_train_AOI_4_Shanghai_geojson_roads_img44.tif', 'SN3_roads_train_AOI_4_Shanghai_geojson_roads_img47.tif', 'SN3_roads_train_AOI_4_Shanghai_geojson_roads_img5.tif', 'SN3_roads_train_AOI_4_Shanghai_geojson_roads_img50.tif', 'SN3_roads_train_AOI_4_Shanghai_geojson_roads_img51.tif', 'SN3_roads_train_AOI_4_Shanghai_geojson_roads_img13.tif', 'SN3_roads_train_AOI_4_Shanghai_geojson_roads_img17.tif', 'SN3_roads_train_AOI_4_Shanghai_geojson_roads_img30.tif', 'SN3_roads_train_AOI_4_Shanghai_geojson_roads_img52.tif', 'SN3_roads_train_AOI_4_Shanghai_geojson_roads_img74.tif', 'SN3_roads_train_AOI_4_Shanghai_geojson_roads_img54.tif', 'SN3_roads_train_AOI_4_Shanghai_geojson_roads_img56.tif', 'SN3_roads_train_AOI_4_Shanghai_geojson_roads_img57.tif', 'SN3_roads_train_AOI_4_Shanghai_geojson_roads_img58.tif', 'SN3_roads_train_AOI_4_Shanghai_geojson_roads_img6.tif', 'SN3_roads_train_AOI_4_Shanghai_geojson_roads_img60.tif', 'SN3_roads_train_AOI_4_Shanghai_geojson_roads_img64.tif', 'SN3_roads_train_AOI_4_Shanghai_geojson_roads_img65.tif', 'SN3_roads_train_AOI_4_Shanghai_geojson_roads_img67.tif', 'SN3_roads_train_AOI_4_Shanghai_geojson_roads_img7.tif', 'SN3_roads_train_AOI_4_Shanghai_geojson_roads_img73.tif', 'SN3_roads_train_AOI_4_Shanghai_geojson_roads_img75.tif', 'SN3_roads_train_AOI_4_Shanghai_geojson_roads_img77.tif', 'SN3_roads_train_AOI_4_Shanghai_geojson_roads_img79.tif', 'SN3_roads_train_AOI_4_Shanghai_geojson_roads_img8.tif', 'SN3_roads_train_AOI_4_Shanghai_geojson_roads_img81.tif', 'SN3_roads_train_AOI_4_Shanghai_geojson_roads_img85.tif', 'SN3_roads_train_AOI_4_Shanghai_geojson_roads_img87.tif', 'SN3_roads_train_AOI_4_Shanghai_geojson_roads_img89.tif', 'SN3_roads_train_AOI_4_Shanghai_geojson_roads_img90.tif', 'SN3_roads_train_AOI_4_Shanghai_geojson_roads_img91.tif', 'SN3_roads_train_AOI_4_Shanghai_geojson_roads_img92.tif', 'SN3_roads_train_AOI_4_Shanghai_geojson_roads_img19.tif', 'SN3_roads_train_AOI_4_Shanghai_geojson_roads_img2.tif', 'SN3_roads_train_AOI_4_Shanghai_geojson_roads_img21.tif', 'SN3_roads_train_AOI_4_Shanghai_geojson_roads_img22.tif', 'SN3_roads_train_AOI_4_Shanghai_geojson_roads_img23.tif', 'SN3_roads_train_AOI_4_Shanghai_geojson_roads_img25.tif', 'SN3_roads_train_AOI_4_Shanghai_geojson_roads_img27.tif', 'SN3_roads_train_AOI_4_Shanghai_geojson_roads_img29.tif', 'SN3_roads_train_AOI_4_Shanghai_geojson_roads_img3.tif', 'SN3_roads_train_AOI_4_Shanghai_geojson_roads_img10.tif', 'SN3_roads_train_AOI_4_Shanghai_geojson_roads_img30.tif', 'SN3_roads_train_AOI_4_Shanghai_geojson_roads_img32.tif', 'SN3_roads_train_AOI_4_Shanghai_geojson_roads_img33.tif', 'SN3_roads_train_AOI_4_Shanghai_geojson_roads_img37.tif', 'SN3_roads_train_AOI_4_Shanghai_geojson_roads_img38.tif', 'SN3_roads_train_AOI_4_Shanghai_geojson_roads_img4.tif', 'SN3_roads_train_AOI_4_Shanghai_geojson_roads_img41.tif', 'SN3_roads_train_AOI_4_Shanghai_geojson_roads_img44.tif', 'SN3_roads_train_AOI_4_Shanghai_geojson_roads_img47.tif', 'SN3_roads_train_AOI_4_Shanghai_geojson_roads_img5.tif', 'SN3_roads_train_AOI_4_Shanghai_geojson_roads_img50.tif', 'SN3_roads_train_AOI_4_Shanghai_geojson_roads_img13.tif', 'SN3_roads_train_AOI_4_Shanghai_geojson_roads_img3.tif', 'SN3_roads_train_AOI_4_Shanghai_geojson_roads_img51.tif', 'SN3_roads_train_AOI_4_Shanghai_geojson_roads_img73.tif', 'SN3_roads_train_AOI_4_Shanghai_geojson_roads_img52.tif', 'SN3_roads_train_AOI_4_Shanghai_geojson_roads_img54.tif', 'SN3_roads_train_AOI_4_Shanghai_geojson_roads_img56.tif', 'SN3_roads_train_AOI_4_Shanghai_geojson_roads_img57.tif', 'SN3_roads_train_AOI_4_Shanghai_geojson_roads_img58.tif', 'SN3_roads_train_AOI_4_Shanghai_geojson_roads_img6.tif', 'SN3_roads_train_AOI_4_Shanghai_geojson_roads_img60.tif', 'SN3_roads_train_AOI_4_Shanghai_geojson_roads_img64.tif', 'SN3_roads_train_AOI_4_Shanghai_geojson_roads_img65.tif', 'SN3_roads_train_AOI_4_Shanghai_geojson_roads_img67.tif', 'SN3_roads_train_AOI_4_Shanghai_geojson_roads_img7.tif', 'SN3_roads_train_AOI_4_Shanghai_geojson_roads_img74.tif', 'SN3_roads_train_AOI_4_Shanghai_geojson_roads_img75.tif', 'SN3_roads_train_AOI_4_Shanghai_geojson_roads_img77.tif', 'SN3_roads_train_AOI_4_Shanghai_geojson_roads_img79.tif', 'SN3_roads_train_AOI_4_Shanghai_geojson_roads_img8.tif', 'SN3_roads_train_AOI_4_Shanghai_geojson_roads_img81.tif', 'SN3_roads_train_AOI_4_Shanghai_geojson_roads_img85.tif', 'SN3_roads_train_AOI_4_Shanghai_geojson_roads_img87.tif', 'SN3_roads_train_AOI_4_Shanghai_geojson_roads_img89.tif', 'SN3_roads_train_AOI_4_Shanghai_geojson_roads_img90.tif', 'SN3_roads_train_AOI_4_Shanghai_geojson_roads_img91.tif', 'SN3_roads_train_AOI_4_Shanghai_geojson_roads_img92.tif', 'SN3_roads_train_AOI_4_Shanghai_geojson_roads_img15.tif', 'SN3_roads_train_AOI_4_Shanghai_geojson_roads_img16.tif', 'SN3_roads_train_AOI_4_Shanghai_geojson_roads_img17.tif', 'SN3_roads_train_AOI_4_Shanghai_geojson_roads_img19.tif', 'SN3_roads_train_AOI_4_Shanghai_geojson_roads_img2.tif', 'SN3_roads_train_AOI_4_Shanghai_geojson_roads_img21.tif', 'SN3_roads_train_AOI_4_Shanghai_geojson_roads_img22.tif', 'SN3_roads_train_AOI_4_Shanghai_geojson_roads_img23.tif', 'SN3_roads_train_AOI_4_Shanghai_geojson_roads_img25.tif', 'SN3_roads_train_AOI_4_Shanghai_geojson_roads_img27.tif', 'SN3_roads_train_AOI_4_Shanghai_geojson_roads_img29.tif', 'SN3_roads_train_AOI_5_Khartoum_geojson_roads_img26.tif', 'SN3_roads_train_AOI_5_Khartoum_geojson_roads_img43.tif', 'SN3_roads_train_AOI_5_Khartoum_geojson_roads_img65.tif', 'SN3_roads_train_AOI_5_Khartoum_geojson_roads_img1.tif', 'SN3_roads_train_AOI_5_Khartoum_geojson_roads_img11.tif', 'SN3_roads_train_AOI_5_Khartoum_geojson_roads_img17.tif', 'SN3_roads_train_AOI_5_Khartoum_geojson_roads_img18.tif', 'SN3_roads_train_AOI_5_Khartoum_geojson_roads_img19.tif', 'SN3_roads_train_AOI_5_Khartoum_geojson_roads_img2.tif', 'SN3_roads_train_AOI_5_Khartoum_geojson_roads_img20.tif', 'SN3_roads_train_AOI_5_Khartoum_geojson_roads_img21.tif', 'SN3_roads_train_AOI_5_Khartoum_geojson_roads_img23.tif', 'SN3_roads_train_AOI_5_Khartoum_geojson_roads_img24.tif', 'SN3_roads_train_AOI_5_Khartoum_geojson_roads_img25.tif', 'SN3_roads_train_AOI_5_Khartoum_geojson_roads_img28.tif', 'SN3_roads_train_AOI_5_Khartoum_geojson_roads_img29.tif', 'SN3_roads_train_AOI_5_Khartoum_geojson_roads_img3.tif', 'SN3_roads_train_AOI_5_Khartoum_geojson_roads_img32.tif', 'SN3_roads_train_AOI_5_Khartoum_geojson_roads_img35.tif', 'SN3_roads_train_AOI_5_Khartoum_geojson_roads_img37.tif', 'SN3_roads_train_AOI_5_Khartoum_geojson_roads_img38.tif', 'SN3_roads_train_AOI_5_Khartoum_geojson_roads_img39.tif', 'SN3_roads_train_AOI_5_Khartoum_geojson_roads_img4.tif', 'SN3_roads_train_AOI_5_Khartoum_geojson_roads_img40.tif', 'SN3_roads_train_AOI_5_Khartoum_geojson_roads_img41.tif', 'SN3_roads_train_AOI_5_Khartoum_geojson_roads_img49.tif', 'SN3_roads_train_AOI_5_Khartoum_geojson_roads_img50.tif', 'SN3_roads_train_AOI_5_Khartoum_geojson_roads_img54.tif', 'SN3_roads_train_AOI_5_Khartoum_geojson_roads_img55.tif', 'SN3_roads_train_AOI_5_Khartoum_geojson_roads_img56.tif', 'SN3_roads_train_AOI_5_Khartoum_geojson_roads_img59.tif', 'SN3_roads_train_AOI_5_Khartoum_geojson_roads_img6.tif', 'SN3_roads_train_AOI_5_Khartoum_geojson_roads_img60.tif', 'SN3_roads_train_AOI_5_Khartoum_geojson_roads_img61.tif', 'SN3_roads_train_AOI_5_Khartoum_geojson_roads_img62.tif', 'SN3_roads_train_AOI_5_Khartoum_geojson_roads_img64.tif', 'SN3_roads_train_AOI_5_Khartoum_geojson_roads_img66.tif', 'SN3_roads_train_AOI_5_Khartoum_geojson_roads_img67.tif', 'SN3_roads_train_AOI_5_Khartoum_geojson_roads_img69.tif', 'SN3_roads_train_AOI_5_Khartoum_geojson_roads_img7.tif', 'SN3_roads_train_AOI_5_Khartoum_geojson_roads_img72.tif', 'SN3_roads_train_AOI_5_Khartoum_geojson_roads_img73.tif', 'SN3_roads_train_AOI_5_Khartoum_geojson_roads_img74.tif', 'SN3_roads_train_AOI_5_Khartoum_geojson_roads_img78.tif', 'SN3_roads_train_AOI_5_Khartoum_geojson_roads_img8.tif', 'SN3_roads_train_AOI_5_Khartoum_geojson_roads_img81.tif', 'SN3_roads_train_AOI_5_Khartoum_geojson_roads_img82.tif', 'SN3_roads_train_AOI_5_Khartoum_geojson_roads_img83.tif', 'SN3_roads_train_AOI_5_Khartoum_geojson_roads_img84.tif', 'SN3_roads_train_AOI_5_Khartoum_geojson_roads_img85.tif', 'SN3_roads_train_AOI_5_Khartoum_geojson_roads_img1.tif', 'SN3_roads_train_AOI_5_Khartoum_geojson_roads_img17.tif', 'SN3_roads_train_AOI_5_Khartoum_geojson_roads_img18.tif', 'SN3_roads_train_AOI_5_Khartoum_geojson_roads_img19.tif', 'SN3_roads_train_AOI_5_Khartoum_geojson_roads_img2.tif', 'SN3_roads_train_AOI_5_Khartoum_geojson_roads_img20.tif', 'SN3_roads_train_AOI_5_Khartoum_geojson_roads_img21.tif', 'SN3_roads_train_AOI_5_Khartoum_geojson_roads_img23.tif', 'SN3_roads_train_AOI_5_Khartoum_geojson_roads_img24.tif', 'SN3_roads_train_AOI_5_Khartoum_geojson_roads_img25.tif', 'SN3_roads_train_AOI_5_Khartoum_geojson_roads_img26.tif', 'SN3_roads_train_AOI_5_Khartoum_geojson_roads_img28.tif', 'SN3_roads_train_AOI_5_Khartoum_geojson_roads_img29.tif', 'SN3_roads_train_AOI_5_Khartoum_geojson_roads_img32.tif', 'SN3_roads_train_AOI_5_Khartoum_geojson_roads_img35.tif', 'SN3_roads_train_AOI_5_Khartoum_geojson_roads_img37.tif', 'SN3_roads_train_AOI_5_Khartoum_geojson_roads_img38.tif', 'SN3_roads_train_AOI_5_Khartoum_geojson_roads_img39.tif', 'SN3_roads_train_AOI_5_Khartoum_geojson_roads_img4.tif', 'SN3_roads_train_AOI_5_Khartoum_geojson_roads_img40.tif', 'SN3_roads_train_AOI_5_Khartoum_geojson_roads_img41.tif', 'SN3_roads_train_AOI_5_Khartoum_geojson_roads_img43.tif', 'SN3_roads_train_AOI_5_Khartoum_geojson_roads_img49.tif', 'SN3_roads_train_AOI_5_Khartoum_geojson_roads_img50.tif', 'SN3_roads_train_AOI_5_Khartoum_geojson_roads_img55.tif', 'SN3_roads_train_AOI_5_Khartoum_geojson_roads_img56.tif', 'SN3_roads_train_AOI_5_Khartoum_geojson_roads_img59.tif', 'SN3_roads_train_AOI_5_Khartoum_geojson_roads_img6.tif', 'SN3_roads_train_AOI_5_Khartoum_geojson_roads_img60.tif', 'SN3_roads_train_AOI_5_Khartoum_geojson_roads_img61.tif', 'SN3_roads_train_AOI_5_Khartoum_geojson_roads_img62.tif', 'SN3_roads_train_AOI_5_Khartoum_geojson_roads_img64.tif', 'SN3_roads_train_AOI_5_Khartoum_geojson_roads_img65.tif', 'SN3_roads_train_AOI_5_Khartoum_geojson_roads_img66.tif', 'SN3_roads_train_AOI_5_Khartoum_geojson_roads_img67.tif', 'SN3_roads_train_AOI_5_Khartoum_geojson_roads_img7.tif', 'SN3_roads_train_AOI_5_Khartoum_geojson_roads_img72.tif', 'SN3_roads_train_AOI_5_Khartoum_geojson_roads_img73.tif', 'SN3_roads_train_AOI_5_Khartoum_geojson_roads_img74.tif', 'SN3_roads_train_AOI_5_Khartoum_geojson_roads_img78.tif', 'SN3_roads_train_AOI_5_Khartoum_geojson_roads_img8.tif', 'SN3_roads_train_AOI_5_Khartoum_geojson_roads_img81.tif', 'SN3_roads_train_AOI_5_Khartoum_geojson_roads_img82.tif', 'SN3_roads_train_AOI_5_Khartoum_geojson_roads_img83.tif', 'SN3_roads_train_AOI_5_Khartoum_geojson_roads_img84.tif', 'SN3_roads_train_AOI_5_Khartoum_geojson_roads_img85.tif', 'SN3_roads_train_AOI_5_Khartoum_geojson_roads_img11.tif', 'SN3_roads_train_AOI_5_Khartoum_geojson_roads_img3.tif', 'SN3_roads_train_AOI_5_Khartoum_geojson_roads_img54.tif', 'SN3_roads_train_AOI_5_Khartoum_geojson_roads_img69.tif', 'SN3_roads_train_AOI_5_Khartoum_geojson_roads_img1.tif', 'SN3_roads_train_AOI_5_Khartoum_geojson_roads_img3.tif', 'SN3_roads_train_AOI_5_Khartoum_geojson_roads_img32.tif', 'SN3_roads_train_AOI_5_Khartoum_geojson_roads_img35.tif', 'SN3_roads_train_AOI_5_Khartoum_geojson_roads_img37.tif', 'SN3_roads_train_AOI_5_Khartoum_geojson_roads_img38.tif', 'SN3_roads_train_AOI_5_Khartoum_geojson_roads_img39.tif', 'SN3_roads_train_AOI_5_Khartoum_geojson_roads_img4.tif', 'SN3_roads_train_AOI_5_Khartoum_geojson_roads_img40.tif', 'SN3_roads_train_AOI_5_Khartoum_geojson_roads_img41.tif', 'SN3_roads_train_AOI_5_Khartoum_geojson_roads_img43.tif', 'SN3_roads_train_AOI_5_Khartoum_geojson_roads_img49.tif', 'SN3_roads_train_AOI_5_Khartoum_geojson_roads_img11.tif', 'SN3_roads_train_AOI_5_Khartoum_geojson_roads_img29.tif', 'SN3_roads_train_AOI_5_Khartoum_geojson_roads_img50.tif', 'SN3_roads_train_AOI_5_Khartoum_geojson_roads_img67.tif', 'SN3_roads_train_AOI_5_Khartoum_geojson_roads_img54.tif', 'SN3_roads_train_AOI_5_Khartoum_geojson_roads_img55.tif', 'SN3_roads_train_AOI_5_Khartoum_geojson_roads_img56.tif', 'SN3_roads_train_AOI_5_Khartoum_geojson_roads_img59.tif', 'SN3_roads_train_AOI_5_Khartoum_geojson_roads_img6.tif', 'SN3_roads_train_AOI_5_Khartoum_geojson_roads_img60.tif', 'SN3_roads_train_AOI_5_Khartoum_geojson_roads_img61.tif', 'SN3_roads_train_AOI_5_Khartoum_geojson_roads_img62.tif', 'SN3_roads_train_AOI_5_Khartoum_geojson_roads_img64.tif', 'SN3_roads_train_AOI_5_Khartoum_geojson_roads_img65.tif', 'SN3_roads_train_AOI_5_Khartoum_geojson_roads_img66.tif', 'SN3_roads_train_AOI_5_Khartoum_geojson_roads_img69.tif', 'SN3_roads_train_AOI_5_Khartoum_geojson_roads_img7.tif', 'SN3_roads_train_AOI_5_Khartoum_geojson_roads_img72.tif', 'SN3_roads_train_AOI_5_Khartoum_geojson_roads_img73.tif', 'SN3_roads_train_AOI_5_Khartoum_geojson_roads_img74.tif', 'SN3_roads_train_AOI_5_Khartoum_geojson_roads_img78.tif', 'SN3_roads_train_AOI_5_Khartoum_geojson_roads_img8.tif', 'SN3_roads_train_AOI_5_Khartoum_geojson_roads_img81.tif', 'SN3_roads_train_AOI_5_Khartoum_geojson_roads_img82.tif', 'SN3_roads_train_AOI_5_Khartoum_geojson_roads_img83.tif', 'SN3_roads_train_AOI_5_Khartoum_geojson_roads_img84.tif', 'SN3_roads_train_AOI_5_Khartoum_geojson_roads_img85.tif', 'SN3_roads_train_AOI_5_Khartoum_geojson_roads_img17.tif', 'SN3_roads_train_AOI_5_Khartoum_geojson_roads_img18.tif', 'SN3_roads_train_AOI_5_Khartoum_geojson_roads_img19.tif', 'SN3_roads_train_AOI_5_Khartoum_geojson_roads_img2.tif', 'SN3_roads_train_AOI_5_Khartoum_geojson_roads_img20.tif', 'SN3_roads_train_AOI_5_Khartoum_geojson_roads_img21.tif', 'SN3_roads_train_AOI_5_Khartoum_geojson_roads_img23.tif', 'SN3_roads_train_AOI_5_Khartoum_geojson_roads_img24.tif', 'SN3_roads_train_AOI_5_Khartoum_geojson_roads_img25.tif', 'SN3_roads_train_AOI_5_Khartoum_geojson_roads_img26.tif', 'SN3_roads_train_AOI_5_Khartoum_geojson_roads_img28.tif']\n"
     ]
    }
   ],
   "source": [
    "a2 ='SN3_roads_train_AOI_5_Khartoum_PS-RGB_img40.tif'\n",
    "a2.split('_')\n",
    "\n",
    "#SN3_roads_train_AOI_5_Khartoum_PS-RGB_img40.tif- original format\n",
    "# SN3_roads_train_AOI_3_Paris_geojson_roads_img46.geojson- make it in this format\n",
    " \n",
    "img_list_new =[]\n",
    "for it in img_files :\n",
    "    items = it.split('_')\n",
    "    #print(len(items))\n",
    "    img2_list2 = items[0]+ '_'+ items[1]+'_'+  items[2]+'_'+  items[3]+ '_'+ items[4]+ '_' + items[5] + '_' + 'geojson'+  '_' + 'roads' + '_'+ items[7]\n",
    "    img_list_new.append(img2_list2)\n",
    "print(img_list_new)"
   ]
  },
  {
   "cell_type": "code",
   "execution_count": 81,
   "metadata": {},
   "outputs": [
    {
     "data": {
      "text/plain": [
       "['SN3_roads_train_AOI_3_Paris_geojson_roads_img26.tif',\n",
       " 'SN3_roads_train_AOI_3_Paris_geojson_roads_img46.tif',\n",
       " 'SN3_roads_train_AOI_3_Paris_geojson_roads_img10.tif',\n",
       " 'SN3_roads_train_AOI_3_Paris_geojson_roads_img11.tif',\n",
       " 'SN3_roads_train_AOI_3_Paris_geojson_roads_img14.tif',\n",
       " 'SN3_roads_train_AOI_3_Paris_geojson_roads_img15.tif',\n",
       " 'SN3_roads_train_AOI_3_Paris_geojson_roads_img16.tif',\n",
       " 'SN3_roads_train_AOI_3_Paris_geojson_roads_img17.tif',\n",
       " 'SN3_roads_train_AOI_3_Paris_geojson_roads_img18.tif',\n",
       " 'SN3_roads_train_AOI_3_Paris_geojson_roads_img19.tif',\n",
       " 'SN3_roads_train_AOI_3_Paris_geojson_roads_img20.tif',\n",
       " 'SN3_roads_train_AOI_3_Paris_geojson_roads_img21.tif',\n",
       " 'SN3_roads_train_AOI_3_Paris_geojson_roads_img23.tif',\n",
       " 'SN3_roads_train_AOI_3_Paris_geojson_roads_img24.tif',\n",
       " 'SN3_roads_train_AOI_3_Paris_geojson_roads_img27.tif',\n",
       " 'SN3_roads_train_AOI_3_Paris_geojson_roads_img28.tif',\n",
       " 'SN3_roads_train_AOI_3_Paris_geojson_roads_img30.tif',\n",
       " 'SN3_roads_train_AOI_3_Paris_geojson_roads_img31.tif',\n",
       " 'SN3_roads_train_AOI_3_Paris_geojson_roads_img33.tif',\n",
       " 'SN3_roads_train_AOI_3_Paris_geojson_roads_img35.tif',\n",
       " 'SN3_roads_train_AOI_3_Paris_geojson_roads_img37.tif',\n",
       " 'SN3_roads_train_AOI_3_Paris_geojson_roads_img38.tif',\n",
       " 'SN3_roads_train_AOI_3_Paris_geojson_roads_img39.tif',\n",
       " 'SN3_roads_train_AOI_3_Paris_geojson_roads_img41.tif',\n",
       " 'SN3_roads_train_AOI_3_Paris_geojson_roads_img42.tif',\n",
       " 'SN3_roads_train_AOI_3_Paris_geojson_roads_img43.tif',\n",
       " 'SN3_roads_train_AOI_3_Paris_geojson_roads_img47.tif',\n",
       " 'SN3_roads_train_AOI_3_Paris_geojson_roads_img48.tif',\n",
       " 'SN3_roads_train_AOI_3_Paris_geojson_roads_img49.tif',\n",
       " 'SN3_roads_train_AOI_3_Paris_geojson_roads_img50.tif',\n",
       " 'SN3_roads_train_AOI_3_Paris_geojson_roads_img51.tif',\n",
       " 'SN3_roads_train_AOI_3_Paris_geojson_roads_img52.tif',\n",
       " 'SN3_roads_train_AOI_3_Paris_geojson_roads_img53.tif',\n",
       " 'SN3_roads_train_AOI_3_Paris_geojson_roads_img54.tif',\n",
       " 'SN3_roads_train_AOI_3_Paris_geojson_roads_img55.tif',\n",
       " 'SN3_roads_train_AOI_3_Paris_geojson_roads_img6.tif',\n",
       " 'SN3_roads_train_AOI_3_Paris_geojson_roads_img60.tif',\n",
       " 'SN3_roads_train_AOI_3_Paris_geojson_roads_img61.tif',\n",
       " 'SN3_roads_train_AOI_3_Paris_geojson_roads_img63.tif',\n",
       " 'SN3_roads_train_AOI_3_Paris_geojson_roads_img64.tif',\n",
       " 'SN3_roads_train_AOI_3_Paris_geojson_roads_img65.tif',\n",
       " 'SN3_roads_train_AOI_3_Paris_geojson_roads_img7.tif',\n",
       " 'SN3_roads_train_AOI_3_Paris_geojson_roads_img72.tif',\n",
       " 'SN3_roads_train_AOI_3_Paris_geojson_roads_img73.tif',\n",
       " 'SN3_roads_train_AOI_3_Paris_geojson_roads_img75.tif',\n",
       " 'SN3_roads_train_AOI_3_Paris_geojson_roads_img76.tif',\n",
       " 'SN3_roads_train_AOI_3_Paris_geojson_roads_img77.tif',\n",
       " 'SN3_roads_train_AOI_3_Paris_geojson_roads_img80.tif',\n",
       " 'SN3_roads_train_AOI_3_Paris_geojson_roads_img81.tif',\n",
       " 'SN3_roads_train_AOI_3_Paris_geojson_roads_img9.tif',\n",
       " 'SN3_roads_train_AOI_3_Paris_geojson_roads_img10.tif',\n",
       " 'SN3_roads_train_AOI_3_Paris_geojson_roads_img28.tif',\n",
       " 'SN3_roads_train_AOI_3_Paris_geojson_roads_img30.tif',\n",
       " 'SN3_roads_train_AOI_3_Paris_geojson_roads_img31.tif',\n",
       " 'SN3_roads_train_AOI_3_Paris_geojson_roads_img33.tif',\n",
       " 'SN3_roads_train_AOI_3_Paris_geojson_roads_img35.tif',\n",
       " 'SN3_roads_train_AOI_3_Paris_geojson_roads_img37.tif',\n",
       " 'SN3_roads_train_AOI_3_Paris_geojson_roads_img38.tif',\n",
       " 'SN3_roads_train_AOI_3_Paris_geojson_roads_img39.tif',\n",
       " 'SN3_roads_train_AOI_3_Paris_geojson_roads_img41.tif',\n",
       " 'SN3_roads_train_AOI_3_Paris_geojson_roads_img42.tif',\n",
       " 'SN3_roads_train_AOI_3_Paris_geojson_roads_img43.tif',\n",
       " 'SN3_roads_train_AOI_3_Paris_geojson_roads_img11.tif',\n",
       " 'SN3_roads_train_AOI_3_Paris_geojson_roads_img15.tif',\n",
       " 'SN3_roads_train_AOI_3_Paris_geojson_roads_img27.tif',\n",
       " 'SN3_roads_train_AOI_3_Paris_geojson_roads_img46.tif',\n",
       " 'SN3_roads_train_AOI_3_Paris_geojson_roads_img61.tif',\n",
       " 'SN3_roads_train_AOI_3_Paris_geojson_roads_img47.tif',\n",
       " 'SN3_roads_train_AOI_3_Paris_geojson_roads_img48.tif',\n",
       " 'SN3_roads_train_AOI_3_Paris_geojson_roads_img49.tif',\n",
       " 'SN3_roads_train_AOI_3_Paris_geojson_roads_img50.tif',\n",
       " 'SN3_roads_train_AOI_3_Paris_geojson_roads_img51.tif',\n",
       " 'SN3_roads_train_AOI_3_Paris_geojson_roads_img52.tif',\n",
       " 'SN3_roads_train_AOI_3_Paris_geojson_roads_img53.tif',\n",
       " 'SN3_roads_train_AOI_3_Paris_geojson_roads_img54.tif',\n",
       " 'SN3_roads_train_AOI_3_Paris_geojson_roads_img55.tif',\n",
       " 'SN3_roads_train_AOI_3_Paris_geojson_roads_img6.tif',\n",
       " 'SN3_roads_train_AOI_3_Paris_geojson_roads_img60.tif',\n",
       " 'SN3_roads_train_AOI_3_Paris_geojson_roads_img63.tif',\n",
       " 'SN3_roads_train_AOI_3_Paris_geojson_roads_img64.tif',\n",
       " 'SN3_roads_train_AOI_3_Paris_geojson_roads_img65.tif',\n",
       " 'SN3_roads_train_AOI_3_Paris_geojson_roads_img7.tif',\n",
       " 'SN3_roads_train_AOI_3_Paris_geojson_roads_img72.tif',\n",
       " 'SN3_roads_train_AOI_3_Paris_geojson_roads_img73.tif',\n",
       " 'SN3_roads_train_AOI_3_Paris_geojson_roads_img75.tif',\n",
       " 'SN3_roads_train_AOI_3_Paris_geojson_roads_img76.tif',\n",
       " 'SN3_roads_train_AOI_3_Paris_geojson_roads_img77.tif',\n",
       " 'SN3_roads_train_AOI_3_Paris_geojson_roads_img80.tif',\n",
       " 'SN3_roads_train_AOI_3_Paris_geojson_roads_img81.tif',\n",
       " 'SN3_roads_train_AOI_3_Paris_geojson_roads_img9.tif',\n",
       " 'SN3_roads_train_AOI_3_Paris_geojson_roads_img14.tif',\n",
       " 'SN3_roads_train_AOI_3_Paris_geojson_roads_img16.tif',\n",
       " 'SN3_roads_train_AOI_3_Paris_geojson_roads_img17.tif',\n",
       " 'SN3_roads_train_AOI_3_Paris_geojson_roads_img18.tif',\n",
       " 'SN3_roads_train_AOI_3_Paris_geojson_roads_img19.tif',\n",
       " 'SN3_roads_train_AOI_3_Paris_geojson_roads_img20.tif',\n",
       " 'SN3_roads_train_AOI_3_Paris_geojson_roads_img21.tif',\n",
       " 'SN3_roads_train_AOI_3_Paris_geojson_roads_img23.tif',\n",
       " 'SN3_roads_train_AOI_3_Paris_geojson_roads_img24.tif',\n",
       " 'SN3_roads_train_AOI_3_Paris_geojson_roads_img26.tif',\n",
       " 'SN3_roads_train_AOI_3_Paris_geojson_roads_img10.tif',\n",
       " 'SN3_roads_train_AOI_3_Paris_geojson_roads_img14.tif',\n",
       " 'SN3_roads_train_AOI_3_Paris_geojson_roads_img15.tif',\n",
       " 'SN3_roads_train_AOI_3_Paris_geojson_roads_img30.tif',\n",
       " 'SN3_roads_train_AOI_3_Paris_geojson_roads_img31.tif',\n",
       " 'SN3_roads_train_AOI_3_Paris_geojson_roads_img33.tif',\n",
       " 'SN3_roads_train_AOI_3_Paris_geojson_roads_img35.tif',\n",
       " 'SN3_roads_train_AOI_3_Paris_geojson_roads_img37.tif',\n",
       " 'SN3_roads_train_AOI_3_Paris_geojson_roads_img38.tif',\n",
       " 'SN3_roads_train_AOI_3_Paris_geojson_roads_img39.tif',\n",
       " 'SN3_roads_train_AOI_3_Paris_geojson_roads_img41.tif',\n",
       " 'SN3_roads_train_AOI_3_Paris_geojson_roads_img42.tif',\n",
       " 'SN3_roads_train_AOI_3_Paris_geojson_roads_img43.tif',\n",
       " 'SN3_roads_train_AOI_3_Paris_geojson_roads_img46.tif',\n",
       " 'SN3_roads_train_AOI_3_Paris_geojson_roads_img48.tif',\n",
       " 'SN3_roads_train_AOI_3_Paris_geojson_roads_img49.tif',\n",
       " 'SN3_roads_train_AOI_3_Paris_geojson_roads_img50.tif',\n",
       " 'SN3_roads_train_AOI_3_Paris_geojson_roads_img51.tif',\n",
       " 'SN3_roads_train_AOI_3_Paris_geojson_roads_img52.tif',\n",
       " 'SN3_roads_train_AOI_3_Paris_geojson_roads_img53.tif',\n",
       " 'SN3_roads_train_AOI_3_Paris_geojson_roads_img54.tif',\n",
       " 'SN3_roads_train_AOI_3_Paris_geojson_roads_img55.tif',\n",
       " 'SN3_roads_train_AOI_3_Paris_geojson_roads_img6.tif',\n",
       " 'SN3_roads_train_AOI_3_Paris_geojson_roads_img60.tif',\n",
       " 'SN3_roads_train_AOI_3_Paris_geojson_roads_img61.tif',\n",
       " 'SN3_roads_train_AOI_3_Paris_geojson_roads_img64.tif',\n",
       " 'SN3_roads_train_AOI_3_Paris_geojson_roads_img65.tif',\n",
       " 'SN3_roads_train_AOI_3_Paris_geojson_roads_img7.tif',\n",
       " 'SN3_roads_train_AOI_3_Paris_geojson_roads_img72.tif',\n",
       " 'SN3_roads_train_AOI_3_Paris_geojson_roads_img73.tif',\n",
       " 'SN3_roads_train_AOI_3_Paris_geojson_roads_img75.tif',\n",
       " 'SN3_roads_train_AOI_3_Paris_geojson_roads_img76.tif',\n",
       " 'SN3_roads_train_AOI_3_Paris_geojson_roads_img77.tif',\n",
       " 'SN3_roads_train_AOI_3_Paris_geojson_roads_img80.tif',\n",
       " 'SN3_roads_train_AOI_3_Paris_geojson_roads_img81.tif',\n",
       " 'SN3_roads_train_AOI_3_Paris_geojson_roads_img9.tif',\n",
       " 'SN3_roads_train_AOI_3_Paris_geojson_roads_img11.tif',\n",
       " 'SN3_roads_train_AOI_3_Paris_geojson_roads_img16.tif',\n",
       " 'SN3_roads_train_AOI_3_Paris_geojson_roads_img28.tif',\n",
       " 'SN3_roads_train_AOI_3_Paris_geojson_roads_img47.tif',\n",
       " 'SN3_roads_train_AOI_3_Paris_geojson_roads_img63.tif',\n",
       " 'SN3_roads_train_AOI_3_Paris_geojson_roads_img17.tif',\n",
       " 'SN3_roads_train_AOI_3_Paris_geojson_roads_img18.tif',\n",
       " 'SN3_roads_train_AOI_3_Paris_geojson_roads_img19.tif',\n",
       " 'SN3_roads_train_AOI_3_Paris_geojson_roads_img20.tif',\n",
       " 'SN3_roads_train_AOI_3_Paris_geojson_roads_img21.tif',\n",
       " 'SN3_roads_train_AOI_3_Paris_geojson_roads_img23.tif',\n",
       " 'SN3_roads_train_AOI_3_Paris_geojson_roads_img24.tif',\n",
       " 'SN3_roads_train_AOI_3_Paris_geojson_roads_img26.tif',\n",
       " 'SN3_roads_train_AOI_3_Paris_geojson_roads_img27.tif',\n",
       " 'SN3_roads_train_AOI_3_Paris_geojson_roads_img10.tif',\n",
       " 'SN3_roads_train_AOI_3_Paris_geojson_roads_img28.tif',\n",
       " 'SN3_roads_train_AOI_3_Paris_geojson_roads_img30.tif',\n",
       " 'SN3_roads_train_AOI_3_Paris_geojson_roads_img31.tif',\n",
       " 'SN3_roads_train_AOI_3_Paris_geojson_roads_img33.tif',\n",
       " 'SN3_roads_train_AOI_3_Paris_geojson_roads_img35.tif',\n",
       " 'SN3_roads_train_AOI_3_Paris_geojson_roads_img37.tif',\n",
       " 'SN3_roads_train_AOI_3_Paris_geojson_roads_img38.tif',\n",
       " 'SN3_roads_train_AOI_3_Paris_geojson_roads_img39.tif',\n",
       " 'SN3_roads_train_AOI_3_Paris_geojson_roads_img41.tif',\n",
       " 'SN3_roads_train_AOI_3_Paris_geojson_roads_img42.tif',\n",
       " 'SN3_roads_train_AOI_3_Paris_geojson_roads_img43.tif',\n",
       " 'SN3_roads_train_AOI_3_Paris_geojson_roads_img11.tif',\n",
       " 'SN3_roads_train_AOI_3_Paris_geojson_roads_img16.tif',\n",
       " 'SN3_roads_train_AOI_3_Paris_geojson_roads_img27.tif',\n",
       " 'SN3_roads_train_AOI_3_Paris_geojson_roads_img46.tif',\n",
       " 'SN3_roads_train_AOI_3_Paris_geojson_roads_img61.tif',\n",
       " 'SN3_roads_train_AOI_3_Paris_geojson_roads_img47.tif',\n",
       " 'SN3_roads_train_AOI_3_Paris_geojson_roads_img48.tif',\n",
       " 'SN3_roads_train_AOI_3_Paris_geojson_roads_img49.tif',\n",
       " 'SN3_roads_train_AOI_3_Paris_geojson_roads_img50.tif',\n",
       " 'SN3_roads_train_AOI_3_Paris_geojson_roads_img51.tif',\n",
       " 'SN3_roads_train_AOI_3_Paris_geojson_roads_img52.tif',\n",
       " 'SN3_roads_train_AOI_3_Paris_geojson_roads_img53.tif',\n",
       " 'SN3_roads_train_AOI_3_Paris_geojson_roads_img54.tif',\n",
       " 'SN3_roads_train_AOI_3_Paris_geojson_roads_img55.tif',\n",
       " 'SN3_roads_train_AOI_3_Paris_geojson_roads_img6.tif',\n",
       " 'SN3_roads_train_AOI_3_Paris_geojson_roads_img60.tif',\n",
       " 'SN3_roads_train_AOI_3_Paris_geojson_roads_img63.tif',\n",
       " 'SN3_roads_train_AOI_3_Paris_geojson_roads_img64.tif',\n",
       " 'SN3_roads_train_AOI_3_Paris_geojson_roads_img65.tif',\n",
       " 'SN3_roads_train_AOI_3_Paris_geojson_roads_img7.tif',\n",
       " 'SN3_roads_train_AOI_3_Paris_geojson_roads_img72.tif',\n",
       " 'SN3_roads_train_AOI_3_Paris_geojson_roads_img73.tif',\n",
       " 'SN3_roads_train_AOI_3_Paris_geojson_roads_img75.tif',\n",
       " 'SN3_roads_train_AOI_3_Paris_geojson_roads_img76.tif',\n",
       " 'SN3_roads_train_AOI_3_Paris_geojson_roads_img77.tif',\n",
       " 'SN3_roads_train_AOI_3_Paris_geojson_roads_img80.tif',\n",
       " 'SN3_roads_train_AOI_3_Paris_geojson_roads_img81.tif',\n",
       " 'SN3_roads_train_AOI_3_Paris_geojson_roads_img9.tif',\n",
       " 'SN3_roads_train_AOI_3_Paris_geojson_roads_img14.tif',\n",
       " 'SN3_roads_train_AOI_3_Paris_geojson_roads_img15.tif',\n",
       " 'SN3_roads_train_AOI_3_Paris_geojson_roads_img17.tif',\n",
       " 'SN3_roads_train_AOI_3_Paris_geojson_roads_img18.tif',\n",
       " 'SN3_roads_train_AOI_3_Paris_geojson_roads_img19.tif',\n",
       " 'SN3_roads_train_AOI_3_Paris_geojson_roads_img20.tif',\n",
       " 'SN3_roads_train_AOI_3_Paris_geojson_roads_img21.tif',\n",
       " 'SN3_roads_train_AOI_3_Paris_geojson_roads_img23.tif',\n",
       " 'SN3_roads_train_AOI_3_Paris_geojson_roads_img24.tif',\n",
       " 'SN3_roads_train_AOI_3_Paris_geojson_roads_img26.tif',\n",
       " 'SN3_roads_train_AOI_4_Shanghai_geojson_roads_img10.tif',\n",
       " 'SN3_roads_train_AOI_4_Shanghai_geojson_roads_img30.tif',\n",
       " 'SN3_roads_train_AOI_4_Shanghai_geojson_roads_img32.tif',\n",
       " 'SN3_roads_train_AOI_4_Shanghai_geojson_roads_img33.tif',\n",
       " 'SN3_roads_train_AOI_4_Shanghai_geojson_roads_img37.tif',\n",
       " 'SN3_roads_train_AOI_4_Shanghai_geojson_roads_img38.tif',\n",
       " 'SN3_roads_train_AOI_4_Shanghai_geojson_roads_img4.tif',\n",
       " 'SN3_roads_train_AOI_4_Shanghai_geojson_roads_img41.tif',\n",
       " 'SN3_roads_train_AOI_4_Shanghai_geojson_roads_img44.tif',\n",
       " 'SN3_roads_train_AOI_4_Shanghai_geojson_roads_img47.tif',\n",
       " 'SN3_roads_train_AOI_4_Shanghai_geojson_roads_img5.tif',\n",
       " 'SN3_roads_train_AOI_4_Shanghai_geojson_roads_img50.tif',\n",
       " 'SN3_roads_train_AOI_4_Shanghai_geojson_roads_img52.tif',\n",
       " 'SN3_roads_train_AOI_4_Shanghai_geojson_roads_img54.tif',\n",
       " 'SN3_roads_train_AOI_4_Shanghai_geojson_roads_img56.tif',\n",
       " 'SN3_roads_train_AOI_4_Shanghai_geojson_roads_img57.tif',\n",
       " 'SN3_roads_train_AOI_4_Shanghai_geojson_roads_img58.tif',\n",
       " 'SN3_roads_train_AOI_4_Shanghai_geojson_roads_img6.tif',\n",
       " 'SN3_roads_train_AOI_4_Shanghai_geojson_roads_img60.tif',\n",
       " 'SN3_roads_train_AOI_4_Shanghai_geojson_roads_img64.tif',\n",
       " 'SN3_roads_train_AOI_4_Shanghai_geojson_roads_img65.tif',\n",
       " 'SN3_roads_train_AOI_4_Shanghai_geojson_roads_img67.tif',\n",
       " 'SN3_roads_train_AOI_4_Shanghai_geojson_roads_img7.tif',\n",
       " 'SN3_roads_train_AOI_4_Shanghai_geojson_roads_img74.tif',\n",
       " 'SN3_roads_train_AOI_4_Shanghai_geojson_roads_img75.tif',\n",
       " 'SN3_roads_train_AOI_4_Shanghai_geojson_roads_img77.tif',\n",
       " 'SN3_roads_train_AOI_4_Shanghai_geojson_roads_img79.tif',\n",
       " 'SN3_roads_train_AOI_4_Shanghai_geojson_roads_img8.tif',\n",
       " 'SN3_roads_train_AOI_4_Shanghai_geojson_roads_img81.tif',\n",
       " 'SN3_roads_train_AOI_4_Shanghai_geojson_roads_img85.tif',\n",
       " 'SN3_roads_train_AOI_4_Shanghai_geojson_roads_img87.tif',\n",
       " 'SN3_roads_train_AOI_4_Shanghai_geojson_roads_img89.tif',\n",
       " 'SN3_roads_train_AOI_4_Shanghai_geojson_roads_img90.tif',\n",
       " 'SN3_roads_train_AOI_4_Shanghai_geojson_roads_img91.tif',\n",
       " 'SN3_roads_train_AOI_4_Shanghai_geojson_roads_img92.tif',\n",
       " 'SN3_roads_train_AOI_4_Shanghai_geojson_roads_img13.tif',\n",
       " 'SN3_roads_train_AOI_4_Shanghai_geojson_roads_img3.tif',\n",
       " 'SN3_roads_train_AOI_4_Shanghai_geojson_roads_img51.tif',\n",
       " 'SN3_roads_train_AOI_4_Shanghai_geojson_roads_img73.tif',\n",
       " 'SN3_roads_train_AOI_4_Shanghai_geojson_roads_img15.tif',\n",
       " 'SN3_roads_train_AOI_4_Shanghai_geojson_roads_img16.tif',\n",
       " 'SN3_roads_train_AOI_4_Shanghai_geojson_roads_img17.tif',\n",
       " 'SN3_roads_train_AOI_4_Shanghai_geojson_roads_img19.tif',\n",
       " 'SN3_roads_train_AOI_4_Shanghai_geojson_roads_img2.tif',\n",
       " 'SN3_roads_train_AOI_4_Shanghai_geojson_roads_img21.tif',\n",
       " 'SN3_roads_train_AOI_4_Shanghai_geojson_roads_img22.tif',\n",
       " 'SN3_roads_train_AOI_4_Shanghai_geojson_roads_img23.tif',\n",
       " 'SN3_roads_train_AOI_4_Shanghai_geojson_roads_img25.tif',\n",
       " 'SN3_roads_train_AOI_4_Shanghai_geojson_roads_img27.tif',\n",
       " 'SN3_roads_train_AOI_4_Shanghai_geojson_roads_img29.tif',\n",
       " 'SN3_roads_train_AOI_4_Shanghai_geojson_roads_img10.tif',\n",
       " 'SN3_roads_train_AOI_4_Shanghai_geojson_roads_img3.tif',\n",
       " 'SN3_roads_train_AOI_4_Shanghai_geojson_roads_img30.tif',\n",
       " 'SN3_roads_train_AOI_4_Shanghai_geojson_roads_img32.tif',\n",
       " 'SN3_roads_train_AOI_4_Shanghai_geojson_roads_img33.tif',\n",
       " 'SN3_roads_train_AOI_4_Shanghai_geojson_roads_img37.tif',\n",
       " 'SN3_roads_train_AOI_4_Shanghai_geojson_roads_img38.tif',\n",
       " 'SN3_roads_train_AOI_4_Shanghai_geojson_roads_img4.tif',\n",
       " 'SN3_roads_train_AOI_4_Shanghai_geojson_roads_img41.tif',\n",
       " 'SN3_roads_train_AOI_4_Shanghai_geojson_roads_img44.tif',\n",
       " 'SN3_roads_train_AOI_4_Shanghai_geojson_roads_img47.tif',\n",
       " 'SN3_roads_train_AOI_4_Shanghai_geojson_roads_img5.tif',\n",
       " 'SN3_roads_train_AOI_4_Shanghai_geojson_roads_img13.tif',\n",
       " 'SN3_roads_train_AOI_4_Shanghai_geojson_roads_img29.tif',\n",
       " 'SN3_roads_train_AOI_4_Shanghai_geojson_roads_img50.tif',\n",
       " 'SN3_roads_train_AOI_4_Shanghai_geojson_roads_img7.tif',\n",
       " 'SN3_roads_train_AOI_4_Shanghai_geojson_roads_img51.tif',\n",
       " 'SN3_roads_train_AOI_4_Shanghai_geojson_roads_img52.tif',\n",
       " 'SN3_roads_train_AOI_4_Shanghai_geojson_roads_img54.tif',\n",
       " 'SN3_roads_train_AOI_4_Shanghai_geojson_roads_img56.tif',\n",
       " 'SN3_roads_train_AOI_4_Shanghai_geojson_roads_img57.tif',\n",
       " 'SN3_roads_train_AOI_4_Shanghai_geojson_roads_img58.tif',\n",
       " 'SN3_roads_train_AOI_4_Shanghai_geojson_roads_img6.tif',\n",
       " 'SN3_roads_train_AOI_4_Shanghai_geojson_roads_img60.tif',\n",
       " 'SN3_roads_train_AOI_4_Shanghai_geojson_roads_img64.tif',\n",
       " 'SN3_roads_train_AOI_4_Shanghai_geojson_roads_img65.tif',\n",
       " 'SN3_roads_train_AOI_4_Shanghai_geojson_roads_img67.tif',\n",
       " 'SN3_roads_train_AOI_4_Shanghai_geojson_roads_img73.tif',\n",
       " 'SN3_roads_train_AOI_4_Shanghai_geojson_roads_img74.tif',\n",
       " 'SN3_roads_train_AOI_4_Shanghai_geojson_roads_img75.tif',\n",
       " 'SN3_roads_train_AOI_4_Shanghai_geojson_roads_img77.tif',\n",
       " 'SN3_roads_train_AOI_4_Shanghai_geojson_roads_img79.tif',\n",
       " 'SN3_roads_train_AOI_4_Shanghai_geojson_roads_img8.tif',\n",
       " 'SN3_roads_train_AOI_4_Shanghai_geojson_roads_img81.tif',\n",
       " 'SN3_roads_train_AOI_4_Shanghai_geojson_roads_img85.tif',\n",
       " 'SN3_roads_train_AOI_4_Shanghai_geojson_roads_img87.tif',\n",
       " 'SN3_roads_train_AOI_4_Shanghai_geojson_roads_img89.tif',\n",
       " 'SN3_roads_train_AOI_4_Shanghai_geojson_roads_img90.tif',\n",
       " 'SN3_roads_train_AOI_4_Shanghai_geojson_roads_img91.tif',\n",
       " 'SN3_roads_train_AOI_4_Shanghai_geojson_roads_img92.tif',\n",
       " 'SN3_roads_train_AOI_4_Shanghai_geojson_roads_img15.tif',\n",
       " 'SN3_roads_train_AOI_4_Shanghai_geojson_roads_img16.tif',\n",
       " 'SN3_roads_train_AOI_4_Shanghai_geojson_roads_img17.tif',\n",
       " 'SN3_roads_train_AOI_4_Shanghai_geojson_roads_img19.tif',\n",
       " 'SN3_roads_train_AOI_4_Shanghai_geojson_roads_img2.tif',\n",
       " 'SN3_roads_train_AOI_4_Shanghai_geojson_roads_img21.tif',\n",
       " 'SN3_roads_train_AOI_4_Shanghai_geojson_roads_img22.tif',\n",
       " 'SN3_roads_train_AOI_4_Shanghai_geojson_roads_img23.tif',\n",
       " 'SN3_roads_train_AOI_4_Shanghai_geojson_roads_img25.tif',\n",
       " 'SN3_roads_train_AOI_4_Shanghai_geojson_roads_img27.tif',\n",
       " 'SN3_roads_train_AOI_4_Shanghai_geojson_roads_img10.tif',\n",
       " 'SN3_roads_train_AOI_4_Shanghai_geojson_roads_img15.tif',\n",
       " 'SN3_roads_train_AOI_4_Shanghai_geojson_roads_img16.tif',\n",
       " 'SN3_roads_train_AOI_4_Shanghai_geojson_roads_img32.tif',\n",
       " 'SN3_roads_train_AOI_4_Shanghai_geojson_roads_img33.tif',\n",
       " 'SN3_roads_train_AOI_4_Shanghai_geojson_roads_img37.tif',\n",
       " 'SN3_roads_train_AOI_4_Shanghai_geojson_roads_img38.tif',\n",
       " 'SN3_roads_train_AOI_4_Shanghai_geojson_roads_img4.tif',\n",
       " 'SN3_roads_train_AOI_4_Shanghai_geojson_roads_img41.tif',\n",
       " 'SN3_roads_train_AOI_4_Shanghai_geojson_roads_img44.tif',\n",
       " 'SN3_roads_train_AOI_4_Shanghai_geojson_roads_img47.tif',\n",
       " 'SN3_roads_train_AOI_4_Shanghai_geojson_roads_img5.tif',\n",
       " 'SN3_roads_train_AOI_4_Shanghai_geojson_roads_img50.tif',\n",
       " 'SN3_roads_train_AOI_4_Shanghai_geojson_roads_img51.tif',\n",
       " 'SN3_roads_train_AOI_4_Shanghai_geojson_roads_img13.tif',\n",
       " 'SN3_roads_train_AOI_4_Shanghai_geojson_roads_img17.tif',\n",
       " 'SN3_roads_train_AOI_4_Shanghai_geojson_roads_img30.tif',\n",
       " 'SN3_roads_train_AOI_4_Shanghai_geojson_roads_img52.tif',\n",
       " 'SN3_roads_train_AOI_4_Shanghai_geojson_roads_img74.tif',\n",
       " 'SN3_roads_train_AOI_4_Shanghai_geojson_roads_img54.tif',\n",
       " 'SN3_roads_train_AOI_4_Shanghai_geojson_roads_img56.tif',\n",
       " 'SN3_roads_train_AOI_4_Shanghai_geojson_roads_img57.tif',\n",
       " 'SN3_roads_train_AOI_4_Shanghai_geojson_roads_img58.tif',\n",
       " 'SN3_roads_train_AOI_4_Shanghai_geojson_roads_img6.tif',\n",
       " 'SN3_roads_train_AOI_4_Shanghai_geojson_roads_img60.tif',\n",
       " 'SN3_roads_train_AOI_4_Shanghai_geojson_roads_img64.tif',\n",
       " 'SN3_roads_train_AOI_4_Shanghai_geojson_roads_img65.tif',\n",
       " 'SN3_roads_train_AOI_4_Shanghai_geojson_roads_img67.tif',\n",
       " 'SN3_roads_train_AOI_4_Shanghai_geojson_roads_img7.tif',\n",
       " 'SN3_roads_train_AOI_4_Shanghai_geojson_roads_img73.tif',\n",
       " 'SN3_roads_train_AOI_4_Shanghai_geojson_roads_img75.tif',\n",
       " 'SN3_roads_train_AOI_4_Shanghai_geojson_roads_img77.tif',\n",
       " 'SN3_roads_train_AOI_4_Shanghai_geojson_roads_img79.tif',\n",
       " 'SN3_roads_train_AOI_4_Shanghai_geojson_roads_img8.tif',\n",
       " 'SN3_roads_train_AOI_4_Shanghai_geojson_roads_img81.tif',\n",
       " 'SN3_roads_train_AOI_4_Shanghai_geojson_roads_img85.tif',\n",
       " 'SN3_roads_train_AOI_4_Shanghai_geojson_roads_img87.tif',\n",
       " 'SN3_roads_train_AOI_4_Shanghai_geojson_roads_img89.tif',\n",
       " 'SN3_roads_train_AOI_4_Shanghai_geojson_roads_img90.tif',\n",
       " 'SN3_roads_train_AOI_4_Shanghai_geojson_roads_img91.tif',\n",
       " 'SN3_roads_train_AOI_4_Shanghai_geojson_roads_img92.tif',\n",
       " 'SN3_roads_train_AOI_4_Shanghai_geojson_roads_img19.tif',\n",
       " 'SN3_roads_train_AOI_4_Shanghai_geojson_roads_img2.tif',\n",
       " 'SN3_roads_train_AOI_4_Shanghai_geojson_roads_img21.tif',\n",
       " 'SN3_roads_train_AOI_4_Shanghai_geojson_roads_img22.tif',\n",
       " 'SN3_roads_train_AOI_4_Shanghai_geojson_roads_img23.tif',\n",
       " 'SN3_roads_train_AOI_4_Shanghai_geojson_roads_img25.tif',\n",
       " 'SN3_roads_train_AOI_4_Shanghai_geojson_roads_img27.tif',\n",
       " 'SN3_roads_train_AOI_4_Shanghai_geojson_roads_img29.tif',\n",
       " 'SN3_roads_train_AOI_4_Shanghai_geojson_roads_img3.tif',\n",
       " 'SN3_roads_train_AOI_4_Shanghai_geojson_roads_img10.tif',\n",
       " 'SN3_roads_train_AOI_4_Shanghai_geojson_roads_img30.tif',\n",
       " 'SN3_roads_train_AOI_4_Shanghai_geojson_roads_img32.tif',\n",
       " 'SN3_roads_train_AOI_4_Shanghai_geojson_roads_img33.tif',\n",
       " 'SN3_roads_train_AOI_4_Shanghai_geojson_roads_img37.tif',\n",
       " 'SN3_roads_train_AOI_4_Shanghai_geojson_roads_img38.tif',\n",
       " 'SN3_roads_train_AOI_4_Shanghai_geojson_roads_img4.tif',\n",
       " 'SN3_roads_train_AOI_4_Shanghai_geojson_roads_img41.tif',\n",
       " 'SN3_roads_train_AOI_4_Shanghai_geojson_roads_img44.tif',\n",
       " 'SN3_roads_train_AOI_4_Shanghai_geojson_roads_img47.tif',\n",
       " 'SN3_roads_train_AOI_4_Shanghai_geojson_roads_img5.tif',\n",
       " 'SN3_roads_train_AOI_4_Shanghai_geojson_roads_img50.tif',\n",
       " 'SN3_roads_train_AOI_4_Shanghai_geojson_roads_img13.tif',\n",
       " 'SN3_roads_train_AOI_4_Shanghai_geojson_roads_img3.tif',\n",
       " 'SN3_roads_train_AOI_4_Shanghai_geojson_roads_img51.tif',\n",
       " 'SN3_roads_train_AOI_4_Shanghai_geojson_roads_img73.tif',\n",
       " 'SN3_roads_train_AOI_4_Shanghai_geojson_roads_img52.tif',\n",
       " 'SN3_roads_train_AOI_4_Shanghai_geojson_roads_img54.tif',\n",
       " 'SN3_roads_train_AOI_4_Shanghai_geojson_roads_img56.tif',\n",
       " 'SN3_roads_train_AOI_4_Shanghai_geojson_roads_img57.tif',\n",
       " 'SN3_roads_train_AOI_4_Shanghai_geojson_roads_img58.tif',\n",
       " 'SN3_roads_train_AOI_4_Shanghai_geojson_roads_img6.tif',\n",
       " 'SN3_roads_train_AOI_4_Shanghai_geojson_roads_img60.tif',\n",
       " 'SN3_roads_train_AOI_4_Shanghai_geojson_roads_img64.tif',\n",
       " 'SN3_roads_train_AOI_4_Shanghai_geojson_roads_img65.tif',\n",
       " 'SN3_roads_train_AOI_4_Shanghai_geojson_roads_img67.tif',\n",
       " 'SN3_roads_train_AOI_4_Shanghai_geojson_roads_img7.tif',\n",
       " 'SN3_roads_train_AOI_4_Shanghai_geojson_roads_img74.tif',\n",
       " 'SN3_roads_train_AOI_4_Shanghai_geojson_roads_img75.tif',\n",
       " 'SN3_roads_train_AOI_4_Shanghai_geojson_roads_img77.tif',\n",
       " 'SN3_roads_train_AOI_4_Shanghai_geojson_roads_img79.tif',\n",
       " 'SN3_roads_train_AOI_4_Shanghai_geojson_roads_img8.tif',\n",
       " 'SN3_roads_train_AOI_4_Shanghai_geojson_roads_img81.tif',\n",
       " 'SN3_roads_train_AOI_4_Shanghai_geojson_roads_img85.tif',\n",
       " 'SN3_roads_train_AOI_4_Shanghai_geojson_roads_img87.tif',\n",
       " 'SN3_roads_train_AOI_4_Shanghai_geojson_roads_img89.tif',\n",
       " 'SN3_roads_train_AOI_4_Shanghai_geojson_roads_img90.tif',\n",
       " 'SN3_roads_train_AOI_4_Shanghai_geojson_roads_img91.tif',\n",
       " 'SN3_roads_train_AOI_4_Shanghai_geojson_roads_img92.tif',\n",
       " 'SN3_roads_train_AOI_4_Shanghai_geojson_roads_img15.tif',\n",
       " 'SN3_roads_train_AOI_4_Shanghai_geojson_roads_img16.tif',\n",
       " 'SN3_roads_train_AOI_4_Shanghai_geojson_roads_img17.tif',\n",
       " 'SN3_roads_train_AOI_4_Shanghai_geojson_roads_img19.tif',\n",
       " 'SN3_roads_train_AOI_4_Shanghai_geojson_roads_img2.tif',\n",
       " 'SN3_roads_train_AOI_4_Shanghai_geojson_roads_img21.tif',\n",
       " 'SN3_roads_train_AOI_4_Shanghai_geojson_roads_img22.tif',\n",
       " 'SN3_roads_train_AOI_4_Shanghai_geojson_roads_img23.tif',\n",
       " 'SN3_roads_train_AOI_4_Shanghai_geojson_roads_img25.tif',\n",
       " 'SN3_roads_train_AOI_4_Shanghai_geojson_roads_img27.tif',\n",
       " 'SN3_roads_train_AOI_4_Shanghai_geojson_roads_img29.tif',\n",
       " 'SN3_roads_train_AOI_5_Khartoum_geojson_roads_img26.tif',\n",
       " 'SN3_roads_train_AOI_5_Khartoum_geojson_roads_img43.tif',\n",
       " 'SN3_roads_train_AOI_5_Khartoum_geojson_roads_img65.tif',\n",
       " 'SN3_roads_train_AOI_5_Khartoum_geojson_roads_img1.tif',\n",
       " 'SN3_roads_train_AOI_5_Khartoum_geojson_roads_img11.tif',\n",
       " 'SN3_roads_train_AOI_5_Khartoum_geojson_roads_img17.tif',\n",
       " 'SN3_roads_train_AOI_5_Khartoum_geojson_roads_img18.tif',\n",
       " 'SN3_roads_train_AOI_5_Khartoum_geojson_roads_img19.tif',\n",
       " 'SN3_roads_train_AOI_5_Khartoum_geojson_roads_img2.tif',\n",
       " 'SN3_roads_train_AOI_5_Khartoum_geojson_roads_img20.tif',\n",
       " 'SN3_roads_train_AOI_5_Khartoum_geojson_roads_img21.tif',\n",
       " 'SN3_roads_train_AOI_5_Khartoum_geojson_roads_img23.tif',\n",
       " 'SN3_roads_train_AOI_5_Khartoum_geojson_roads_img24.tif',\n",
       " 'SN3_roads_train_AOI_5_Khartoum_geojson_roads_img25.tif',\n",
       " 'SN3_roads_train_AOI_5_Khartoum_geojson_roads_img28.tif',\n",
       " 'SN3_roads_train_AOI_5_Khartoum_geojson_roads_img29.tif',\n",
       " 'SN3_roads_train_AOI_5_Khartoum_geojson_roads_img3.tif',\n",
       " 'SN3_roads_train_AOI_5_Khartoum_geojson_roads_img32.tif',\n",
       " 'SN3_roads_train_AOI_5_Khartoum_geojson_roads_img35.tif',\n",
       " 'SN3_roads_train_AOI_5_Khartoum_geojson_roads_img37.tif',\n",
       " 'SN3_roads_train_AOI_5_Khartoum_geojson_roads_img38.tif',\n",
       " 'SN3_roads_train_AOI_5_Khartoum_geojson_roads_img39.tif',\n",
       " 'SN3_roads_train_AOI_5_Khartoum_geojson_roads_img4.tif',\n",
       " 'SN3_roads_train_AOI_5_Khartoum_geojson_roads_img40.tif',\n",
       " 'SN3_roads_train_AOI_5_Khartoum_geojson_roads_img41.tif',\n",
       " 'SN3_roads_train_AOI_5_Khartoum_geojson_roads_img49.tif',\n",
       " 'SN3_roads_train_AOI_5_Khartoum_geojson_roads_img50.tif',\n",
       " 'SN3_roads_train_AOI_5_Khartoum_geojson_roads_img54.tif',\n",
       " 'SN3_roads_train_AOI_5_Khartoum_geojson_roads_img55.tif',\n",
       " 'SN3_roads_train_AOI_5_Khartoum_geojson_roads_img56.tif',\n",
       " 'SN3_roads_train_AOI_5_Khartoum_geojson_roads_img59.tif',\n",
       " 'SN3_roads_train_AOI_5_Khartoum_geojson_roads_img6.tif',\n",
       " 'SN3_roads_train_AOI_5_Khartoum_geojson_roads_img60.tif',\n",
       " 'SN3_roads_train_AOI_5_Khartoum_geojson_roads_img61.tif',\n",
       " 'SN3_roads_train_AOI_5_Khartoum_geojson_roads_img62.tif',\n",
       " 'SN3_roads_train_AOI_5_Khartoum_geojson_roads_img64.tif',\n",
       " 'SN3_roads_train_AOI_5_Khartoum_geojson_roads_img66.tif',\n",
       " 'SN3_roads_train_AOI_5_Khartoum_geojson_roads_img67.tif',\n",
       " 'SN3_roads_train_AOI_5_Khartoum_geojson_roads_img69.tif',\n",
       " 'SN3_roads_train_AOI_5_Khartoum_geojson_roads_img7.tif',\n",
       " 'SN3_roads_train_AOI_5_Khartoum_geojson_roads_img72.tif',\n",
       " 'SN3_roads_train_AOI_5_Khartoum_geojson_roads_img73.tif',\n",
       " 'SN3_roads_train_AOI_5_Khartoum_geojson_roads_img74.tif',\n",
       " 'SN3_roads_train_AOI_5_Khartoum_geojson_roads_img78.tif',\n",
       " 'SN3_roads_train_AOI_5_Khartoum_geojson_roads_img8.tif',\n",
       " 'SN3_roads_train_AOI_5_Khartoum_geojson_roads_img81.tif',\n",
       " 'SN3_roads_train_AOI_5_Khartoum_geojson_roads_img82.tif',\n",
       " 'SN3_roads_train_AOI_5_Khartoum_geojson_roads_img83.tif',\n",
       " 'SN3_roads_train_AOI_5_Khartoum_geojson_roads_img84.tif',\n",
       " 'SN3_roads_train_AOI_5_Khartoum_geojson_roads_img85.tif',\n",
       " 'SN3_roads_train_AOI_5_Khartoum_geojson_roads_img1.tif',\n",
       " 'SN3_roads_train_AOI_5_Khartoum_geojson_roads_img17.tif',\n",
       " 'SN3_roads_train_AOI_5_Khartoum_geojson_roads_img18.tif',\n",
       " 'SN3_roads_train_AOI_5_Khartoum_geojson_roads_img19.tif',\n",
       " 'SN3_roads_train_AOI_5_Khartoum_geojson_roads_img2.tif',\n",
       " 'SN3_roads_train_AOI_5_Khartoum_geojson_roads_img20.tif',\n",
       " 'SN3_roads_train_AOI_5_Khartoum_geojson_roads_img21.tif',\n",
       " 'SN3_roads_train_AOI_5_Khartoum_geojson_roads_img23.tif',\n",
       " 'SN3_roads_train_AOI_5_Khartoum_geojson_roads_img24.tif',\n",
       " 'SN3_roads_train_AOI_5_Khartoum_geojson_roads_img25.tif',\n",
       " 'SN3_roads_train_AOI_5_Khartoum_geojson_roads_img26.tif',\n",
       " 'SN3_roads_train_AOI_5_Khartoum_geojson_roads_img28.tif',\n",
       " 'SN3_roads_train_AOI_5_Khartoum_geojson_roads_img29.tif',\n",
       " 'SN3_roads_train_AOI_5_Khartoum_geojson_roads_img32.tif',\n",
       " 'SN3_roads_train_AOI_5_Khartoum_geojson_roads_img35.tif',\n",
       " 'SN3_roads_train_AOI_5_Khartoum_geojson_roads_img37.tif',\n",
       " 'SN3_roads_train_AOI_5_Khartoum_geojson_roads_img38.tif',\n",
       " 'SN3_roads_train_AOI_5_Khartoum_geojson_roads_img39.tif',\n",
       " 'SN3_roads_train_AOI_5_Khartoum_geojson_roads_img4.tif',\n",
       " 'SN3_roads_train_AOI_5_Khartoum_geojson_roads_img40.tif',\n",
       " 'SN3_roads_train_AOI_5_Khartoum_geojson_roads_img41.tif',\n",
       " 'SN3_roads_train_AOI_5_Khartoum_geojson_roads_img43.tif',\n",
       " 'SN3_roads_train_AOI_5_Khartoum_geojson_roads_img49.tif',\n",
       " 'SN3_roads_train_AOI_5_Khartoum_geojson_roads_img50.tif',\n",
       " 'SN3_roads_train_AOI_5_Khartoum_geojson_roads_img55.tif',\n",
       " 'SN3_roads_train_AOI_5_Khartoum_geojson_roads_img56.tif',\n",
       " 'SN3_roads_train_AOI_5_Khartoum_geojson_roads_img59.tif',\n",
       " 'SN3_roads_train_AOI_5_Khartoum_geojson_roads_img6.tif',\n",
       " 'SN3_roads_train_AOI_5_Khartoum_geojson_roads_img60.tif',\n",
       " 'SN3_roads_train_AOI_5_Khartoum_geojson_roads_img61.tif',\n",
       " 'SN3_roads_train_AOI_5_Khartoum_geojson_roads_img62.tif',\n",
       " 'SN3_roads_train_AOI_5_Khartoum_geojson_roads_img64.tif',\n",
       " 'SN3_roads_train_AOI_5_Khartoum_geojson_roads_img65.tif',\n",
       " 'SN3_roads_train_AOI_5_Khartoum_geojson_roads_img66.tif',\n",
       " 'SN3_roads_train_AOI_5_Khartoum_geojson_roads_img67.tif',\n",
       " 'SN3_roads_train_AOI_5_Khartoum_geojson_roads_img7.tif',\n",
       " 'SN3_roads_train_AOI_5_Khartoum_geojson_roads_img72.tif',\n",
       " 'SN3_roads_train_AOI_5_Khartoum_geojson_roads_img73.tif',\n",
       " 'SN3_roads_train_AOI_5_Khartoum_geojson_roads_img74.tif',\n",
       " 'SN3_roads_train_AOI_5_Khartoum_geojson_roads_img78.tif',\n",
       " 'SN3_roads_train_AOI_5_Khartoum_geojson_roads_img8.tif',\n",
       " 'SN3_roads_train_AOI_5_Khartoum_geojson_roads_img81.tif',\n",
       " 'SN3_roads_train_AOI_5_Khartoum_geojson_roads_img82.tif',\n",
       " 'SN3_roads_train_AOI_5_Khartoum_geojson_roads_img83.tif',\n",
       " 'SN3_roads_train_AOI_5_Khartoum_geojson_roads_img84.tif',\n",
       " 'SN3_roads_train_AOI_5_Khartoum_geojson_roads_img85.tif',\n",
       " 'SN3_roads_train_AOI_5_Khartoum_geojson_roads_img11.tif',\n",
       " 'SN3_roads_train_AOI_5_Khartoum_geojson_roads_img3.tif',\n",
       " 'SN3_roads_train_AOI_5_Khartoum_geojson_roads_img54.tif',\n",
       " 'SN3_roads_train_AOI_5_Khartoum_geojson_roads_img69.tif',\n",
       " 'SN3_roads_train_AOI_5_Khartoum_geojson_roads_img1.tif',\n",
       " 'SN3_roads_train_AOI_5_Khartoum_geojson_roads_img3.tif',\n",
       " 'SN3_roads_train_AOI_5_Khartoum_geojson_roads_img32.tif',\n",
       " 'SN3_roads_train_AOI_5_Khartoum_geojson_roads_img35.tif',\n",
       " 'SN3_roads_train_AOI_5_Khartoum_geojson_roads_img37.tif',\n",
       " 'SN3_roads_train_AOI_5_Khartoum_geojson_roads_img38.tif',\n",
       " 'SN3_roads_train_AOI_5_Khartoum_geojson_roads_img39.tif',\n",
       " 'SN3_roads_train_AOI_5_Khartoum_geojson_roads_img4.tif',\n",
       " 'SN3_roads_train_AOI_5_Khartoum_geojson_roads_img40.tif',\n",
       " 'SN3_roads_train_AOI_5_Khartoum_geojson_roads_img41.tif',\n",
       " 'SN3_roads_train_AOI_5_Khartoum_geojson_roads_img43.tif',\n",
       " 'SN3_roads_train_AOI_5_Khartoum_geojson_roads_img49.tif',\n",
       " 'SN3_roads_train_AOI_5_Khartoum_geojson_roads_img11.tif',\n",
       " 'SN3_roads_train_AOI_5_Khartoum_geojson_roads_img29.tif',\n",
       " 'SN3_roads_train_AOI_5_Khartoum_geojson_roads_img50.tif',\n",
       " 'SN3_roads_train_AOI_5_Khartoum_geojson_roads_img67.tif',\n",
       " 'SN3_roads_train_AOI_5_Khartoum_geojson_roads_img54.tif',\n",
       " 'SN3_roads_train_AOI_5_Khartoum_geojson_roads_img55.tif',\n",
       " 'SN3_roads_train_AOI_5_Khartoum_geojson_roads_img56.tif',\n",
       " 'SN3_roads_train_AOI_5_Khartoum_geojson_roads_img59.tif',\n",
       " 'SN3_roads_train_AOI_5_Khartoum_geojson_roads_img6.tif',\n",
       " 'SN3_roads_train_AOI_5_Khartoum_geojson_roads_img60.tif',\n",
       " 'SN3_roads_train_AOI_5_Khartoum_geojson_roads_img61.tif',\n",
       " 'SN3_roads_train_AOI_5_Khartoum_geojson_roads_img62.tif',\n",
       " 'SN3_roads_train_AOI_5_Khartoum_geojson_roads_img64.tif',\n",
       " 'SN3_roads_train_AOI_5_Khartoum_geojson_roads_img65.tif',\n",
       " 'SN3_roads_train_AOI_5_Khartoum_geojson_roads_img66.tif',\n",
       " 'SN3_roads_train_AOI_5_Khartoum_geojson_roads_img69.tif',\n",
       " 'SN3_roads_train_AOI_5_Khartoum_geojson_roads_img7.tif',\n",
       " 'SN3_roads_train_AOI_5_Khartoum_geojson_roads_img72.tif',\n",
       " 'SN3_roads_train_AOI_5_Khartoum_geojson_roads_img73.tif',\n",
       " 'SN3_roads_train_AOI_5_Khartoum_geojson_roads_img74.tif',\n",
       " 'SN3_roads_train_AOI_5_Khartoum_geojson_roads_img78.tif',\n",
       " 'SN3_roads_train_AOI_5_Khartoum_geojson_roads_img8.tif',\n",
       " 'SN3_roads_train_AOI_5_Khartoum_geojson_roads_img81.tif',\n",
       " 'SN3_roads_train_AOI_5_Khartoum_geojson_roads_img82.tif',\n",
       " 'SN3_roads_train_AOI_5_Khartoum_geojson_roads_img83.tif',\n",
       " 'SN3_roads_train_AOI_5_Khartoum_geojson_roads_img84.tif',\n",
       " 'SN3_roads_train_AOI_5_Khartoum_geojson_roads_img85.tif',\n",
       " 'SN3_roads_train_AOI_5_Khartoum_geojson_roads_img17.tif',\n",
       " 'SN3_roads_train_AOI_5_Khartoum_geojson_roads_img18.tif',\n",
       " 'SN3_roads_train_AOI_5_Khartoum_geojson_roads_img19.tif',\n",
       " 'SN3_roads_train_AOI_5_Khartoum_geojson_roads_img2.tif',\n",
       " 'SN3_roads_train_AOI_5_Khartoum_geojson_roads_img20.tif',\n",
       " 'SN3_roads_train_AOI_5_Khartoum_geojson_roads_img21.tif',\n",
       " 'SN3_roads_train_AOI_5_Khartoum_geojson_roads_img23.tif',\n",
       " 'SN3_roads_train_AOI_5_Khartoum_geojson_roads_img24.tif',\n",
       " 'SN3_roads_train_AOI_5_Khartoum_geojson_roads_img25.tif',\n",
       " 'SN3_roads_train_AOI_5_Khartoum_geojson_roads_img26.tif',\n",
       " 'SN3_roads_train_AOI_5_Khartoum_geojson_roads_img28.tif']"
      ]
     },
     "execution_count": 81,
     "metadata": {},
     "output_type": "execute_result"
    }
   ],
   "source": [
    "img_list_new"
   ]
  },
  {
   "cell_type": "code",
   "execution_count": 82,
   "metadata": {},
   "outputs": [],
   "source": [
    "def create_binary_mask(input_data):\n",
    "    img_path = input_data[0]  \n",
    "    img_folder = input_data[1]\n",
    "    img_subfolder = input_data[2]\n",
    "    img_file = input_data[3]\n",
    " \n",
    "    # create paths for masks and 8bit images\n",
    "    \n",
    "    # change format here to SN3                                                         #spacenetroads_AOI_2_Vegas_img1.geojson\n",
    "                                                                                        #MUL_AOI_2_Vegas_img1.tif\n",
    "        \n",
    "                                                                            # SN3_roads_train_AOI_3_Paris_geojson_roads_img9.geojson\n",
    "                                                                            #SN3_roads_train_AOI_3_Paris_MS_img9.tif\n",
    "                \n",
    "                                                                            # [:-3] or [0:-3] everything except the last 3 items - means .tif will be removed\n",
    "                \n",
    "                #data/AOI_5_Khartoum_Roads_Train/geojson/spacenetroads/SN3_roads_train_AOI_5_Khartoum_MS_img65.geojson: for [1][:-3]\n",
    "                \n",
    "                \n",
    "#                 data/AOI_5_Khartoum_Roads_Train/geojson/spacenetroads/SN3_roads_train_AOISN3_roads_trageojson: - for [0][0:-3]\n",
    "                \n",
    "    label_file = os.path.join(path_prefix,img_folder,'geojson/spacenetroads','SN3_roads_train_AOI'+img_file.split('AOI')[1][0:-3]+'geojson')\n",
    "#     print('print',label_file)\n",
    "    \n",
    "#     label_file = os.path.join(path_prefix,img_folder,'geojson/spacenetroads','spacenetroads_AOI'+img_file.split('AOI')[1][0:-3]+'geojson')\n",
    "    \n",
    "    bit8_folder = os.path.join(path_prefix,img_folder,img_subfolder+'_8bit')\n",
    "    bit8_path = os.path.join(bit8_folder,img_file)\n",
    "    mask_folder = os.path.join(path_prefix,img_folder,img_subfolder+'_mask')\n",
    "    mask_path = os.path.join(mask_folder,img_file[:-3])+'png'\n",
    "    vis_folder = os.path.join(path_prefix,img_folder,img_subfolder+'_vis')\n",
    "    vis_path = os.path.join(vis_folder,img_file[:-3])+'png'\n",
    "    \n",
    "    # print(label_file)\n",
    "    # create the necessary folders and remove the existing files\n",
    "    \n",
    "    if not os.path.exists(bit8_folder):\n",
    "        os.mkdir(bit8_folder)\n",
    "    if not os.path.exists(mask_folder):\n",
    "        os.mkdir(mask_folder)\n",
    "    if not os.path.exists(vis_folder):\n",
    "        os.mkdir(vis_folder)        \n",
    "    if os.path.isfile(vis_path):\n",
    "        os.remove(vis_path)\n",
    "    if os.path.isfile(bit8_path):\n",
    "        os.remove(bit8_path)        \n",
    "    if os.path.isfile(mask_path):\n",
    "        os.remove(mask_path)\n",
    "    if os.path.isfile(mask_path[:-3]+'jpg'):\n",
    "        os.remove(mask_path[:-3]+'jpg')               \n",
    "    \n",
    "    try:\n",
    "        # convert images to 8-bit\n",
    "        convert_to_8Bit(img_path, \n",
    "                        bit8_path,\n",
    "                        outputPixType='Byte',\n",
    "                        outputFormat='GTiff',\n",
    "                        rescale_type='rescale',\n",
    "                        percentiles=[2,98])\n",
    "\n",
    "        # create masks\n",
    "        # note that though the output raster file has .png extension\n",
    "        # in reality I delete this file and save only jpg version later\n",
    "\n",
    "        mask, gdf_buffer = get_road_buffer(geoJson = label_file,\n",
    "                                          im_vis_file = bit8_path, \n",
    "                                          output_raster = mask_path, \n",
    "                                          buffer_meters= buffer_meters, \n",
    "                                          burnValue= burnValue, \n",
    "                                          bufferRoundness=6, \n",
    "                                          plot_file=vis_path, # this indicates that no visualization plot is required \n",
    "                                          figsize= (6,6),\n",
    "                                          fontsize=8,\n",
    "                                          dpi=200,\n",
    "                                          show_plot=False, \n",
    "                                          verbose=False)\n",
    "\n",
    "        # read the png file, save it as jpeg and \n",
    "        mask = imread(mask_path)\n",
    "        imsave(fname=mask_path[:-3]+'jpg',arr = mask)\n",
    "        mask_max = np.max(mask) \n",
    "        del mask\n",
    "        # remove the png file, but keep the 8-bit mask\n",
    "        os.remove(mask_path)\n",
    "    except BaseException as e:\n",
    "        print(str(e))\n",
    "        mask_max = -1\n",
    "        \n",
    "    return [label_file,bit8_folder,bit8_path,mask_folder,mask_path[:-3]+'jpg',img_path,img_folder,img_subfolder,img_file,mask_max]\n"
   ]
  },
  {
   "cell_type": "code",
   "execution_count": 83,
   "metadata": {},
   "outputs": [],
   "source": [
    "# input_data"
   ]
  },
  {
   "cell_type": "code",
   "execution_count": 84,
   "metadata": {},
   "outputs": [],
   "source": [
    "def get_road_buffer(geoJson, im_vis_file, output_raster, \n",
    "                              buffer_meters=2, burnValue=1, \n",
    "                              bufferRoundness=6, \n",
    "                              plot_file='', figsize=(6,6), fontsize=6,\n",
    "                              dpi=800, show_plot=False, \n",
    "                              verbose=False):    \n",
    "    '''\n",
    "    Get buffer around roads defined by geojson and image files.\n",
    "    Calls create_buffer_geopandas() and gdf_to_array().\n",
    "    Assumes in_vis_file is an 8-bit RGB file.\n",
    "    Returns geodataframe and ouptut mask.\n",
    "    '''\n",
    "\n",
    "    gdf_buffer = create_buffer_geopandas(geoJson,\n",
    "                                         bufferDistanceMeters=buffer_meters,\n",
    "                                         bufferRoundness=bufferRoundness, \n",
    "                                         projectToUTM=True)    \n",
    "\n",
    "    \n",
    "    # create label image\n",
    "    if len(gdf_buffer) == 0:\n",
    "        mask_gray = np.zeros(cv2.imread(im_vis_file,0).shape)\n",
    "        cv2.imwrite(output_raster, mask_gray)        \n",
    "    else:\n",
    "        gdf_to_array(gdf_buffer, im_vis_file, output_raster, \n",
    "                                          burnValue=burnValue)\n",
    "    \n",
    "    # load mask\n",
    "    mask_gray = cv2.imread(output_raster, 0)\n",
    "    \n",
    "    # make plots\n",
    "    if plot_file:\n",
    "        # plot all in a line\n",
    "        if (figsize[0] != figsize[1]):\n",
    "            fig, (ax0, ax1, ax2, ax3) = plt.subplots(1,4, figsize=figsize)#(13,4))\n",
    "        # else, plot a 2 x 2 grid\n",
    "        else:\n",
    "            fig, ((ax0, ax1), (ax2, ax3)) = plt.subplots(2,2, figsize=figsize)\n",
    "    \n",
    "        # road lines\n",
    "        try:\n",
    "            gdfRoadLines = gpd.read_file(geoJson)\n",
    "            gdfRoadLines.plot(ax=ax0, marker='o', color='red')\n",
    "        except:\n",
    "            ax0.imshow(mask_gray)\n",
    "        ax0.axis('off')\n",
    "        ax0.set_aspect('equal')\n",
    "        ax0.set_title('Roads from GeoJson', fontsize=fontsize)\n",
    "                \n",
    "        # first show raw image\n",
    "        im_vis = cv2.imread(im_vis_file, 1)\n",
    "        img_mpl = cv2.cvtColor(im_vis, cv2.COLOR_BGR2RGB)\n",
    "        ax1.imshow(img_mpl)\n",
    "        ax1.axis('off')\n",
    "        ax1.set_title('8-bit RGB Image', fontsize=fontsize)\n",
    "        \n",
    "        # plot mask\n",
    "        ax2.imshow(mask_gray)\n",
    "        ax2.axis('off')\n",
    "        ax2.set_title('Roads Mask (' + str(np.round(buffer_meters)) \\\n",
    "                                   + ' meter buffer)', fontsize=fontsize)\n",
    "     \n",
    "        # plot combined\n",
    "        ax3.imshow(img_mpl)    \n",
    "        # overlay mask\n",
    "        # set zeros to nan\n",
    "        z = mask_gray.astype(float)\n",
    "        z[z==0] = np.nan\n",
    "        # change palette to orange\n",
    "        palette = plt.cm.gray\n",
    "        #palette.set_over('yellow', 0.9)\n",
    "        palette.set_over('lime', 0.9)\n",
    "        ax3.imshow(z, cmap=palette, alpha=0.66, \n",
    "                norm=matplotlib.colors.Normalize(vmin=0.5, vmax=0.9, clip=False))\n",
    "        ax3.set_title('8-bit RGB Image + Buffered Roads', fontsize=fontsize) \n",
    "        ax3.axis('off')\n",
    "        \n",
    "        #plt.axes().set_aspect('equal', 'datalim')\n",
    "\n",
    "        plt.tight_layout()\n",
    "        plt.savefig(plot_file, dpi=dpi)\n",
    "        if not show_plot:\n",
    "            plt.close()\n",
    "            \n",
    "    return mask_gray, gdf_buffer"
   ]
  },
  {
   "cell_type": "code",
   "execution_count": 85,
   "metadata": {},
   "outputs": [],
   "source": [
    "def create_buffer_geopandas(geoJsonFileName,\n",
    "                            bufferDistanceMeters=2, \n",
    "                            bufferRoundness=1,\n",
    "                            projectToUTM=True):\n",
    "    '''\n",
    "    Create a buffer around the lines of the geojson. \n",
    "    Return a geodataframe.\n",
    "    '''\n",
    "    \n",
    "    inGDF = gpd.read_file(geoJsonFileName)\n",
    "    \n",
    "    # set a few columns that we will need later\n",
    "    inGDF['type'] = inGDF['road_type'].values            \n",
    "    inGDF['class'] = 'highway'  \n",
    "    inGDF['highway'] = 'highway'  \n",
    "    \n",
    "    if len(inGDF) == 0:\n",
    "        return [], []\n",
    "\n",
    "    # Transform gdf Roadlines into UTM so that Buffer makes sense\n",
    "    if projectToUTM:\n",
    "        tmpGDF = ox.project_gdf(inGDF)\n",
    "    else:\n",
    "        tmpGDF = inGDF\n",
    "\n",
    "    gdf_utm_buffer = tmpGDF\n",
    "\n",
    "    # perform Buffer to produce polygons from Line Segments\n",
    "    gdf_utm_buffer['geometry'] = tmpGDF.buffer(bufferDistanceMeters,\n",
    "                                                bufferRoundness)\n",
    "\n",
    "    gdf_utm_dissolve = gdf_utm_buffer.dissolve(by='class')\n",
    "    gdf_utm_dissolve.crs = gdf_utm_buffer.crs\n",
    "\n",
    "    if projectToUTM:\n",
    "        gdf_buffer = gdf_utm_dissolve.to_crs(inGDF.crs)\n",
    "    else:\n",
    "        gdf_buffer = gdf_utm_dissolve\n",
    "\n",
    "    return gdf_buffer"
   ]
  },
  {
   "cell_type": "code",
   "execution_count": 86,
   "metadata": {},
   "outputs": [],
   "source": [
    "def gdf_to_array(gdf, im_file, output_raster, burnValue=150):\n",
    "    \n",
    "    '''\n",
    "    Turn geodataframe to array, save as image file with non-null pixels \n",
    "    set to burnValue\n",
    "    '''\n",
    "\n",
    "    NoData_value = 0      # -9999\n",
    "\n",
    "    gdata = gdal.Open(im_file)\n",
    "    \n",
    "    # set target info\n",
    "    target_ds = gdal.GetDriverByName('GTiff').Create(output_raster, \n",
    "                                                     gdata.RasterXSize, \n",
    "                                                     gdata.RasterYSize, 1, gdal.GDT_Byte)\n",
    "    target_ds.SetGeoTransform(gdata.GetGeoTransform())\n",
    "    \n",
    "    # set raster info\n",
    "    raster_srs = osr.SpatialReference()\n",
    "    raster_srs.ImportFromWkt(gdata.GetProjectionRef())\n",
    "    target_ds.SetProjection(raster_srs.ExportToWkt())\n",
    "    \n",
    "    band = target_ds.GetRasterBand(1)\n",
    "    band.SetNoDataValue(NoData_value)\n",
    "    \n",
    "    outdriver=ogr.GetDriverByName('MEMORY')\n",
    "    outDataSource=outdriver.CreateDataSource('memData')\n",
    "    tmp=outdriver.Open('memData',1)\n",
    "    outLayer = outDataSource.CreateLayer(\"states_extent\", raster_srs, \n",
    "                                         geom_type=ogr.wkbMultiPolygon)\n",
    "    # burn\n",
    "    burnField = \"burn\"\n",
    "    idField = ogr.FieldDefn(burnField, ogr.OFTInteger)\n",
    "    outLayer.CreateField(idField)\n",
    "    featureDefn = outLayer.GetLayerDefn()\n",
    "    for geomShape in gdf['geometry'].values:\n",
    "        \n",
    "        outFeature = ogr.Feature(featureDefn)\n",
    "        outFeature.SetGeometry(ogr.CreateGeometryFromWkt(geomShape.wkt))\n",
    "        outFeature.SetField(burnField, burnValue)\n",
    "        outLayer.CreateFeature(outFeature)\n",
    "        outFeature = 0\n",
    "    \n",
    "    gdal.RasterizeLayer(target_ds, [1], outLayer, burn_values=[burnValue])\n",
    "    outLayer = 0\n",
    "    outDatSource = 0\n",
    "    tmp = 0\n",
    "        \n",
    "    return \n"
   ]
  },
  {
   "cell_type": "code",
   "execution_count": 87,
   "metadata": {},
   "outputs": [],
   "source": [
    "def convert_to_8Bit(inputRaster, outputRaster,\n",
    "                           outputPixType='Byte',\n",
    "                           outputFormat='GTiff',\n",
    "                           rescale_type='rescale',\n",
    "                           percentiles=[2, 98]):\n",
    "    '''\n",
    "    Convert 16bit image to 8bit\n",
    "    rescale_type = [clip, rescale]\n",
    "        if clip, scaling is done strictly between 0 65535 \n",
    "        if rescale, each band is rescaled to a min and max \n",
    "        set by percentiles\n",
    "    '''\n",
    "\n",
    "    srcRaster = gdal.Open(inputRaster)\n",
    "    cmd = ['gdal_translate', '-ot', outputPixType, '-of', \n",
    "           outputFormat]\n",
    "    \n",
    "    # iterate through bands\n",
    "    for bandId in range(srcRaster.RasterCount):\n",
    "        bandId = bandId+1\n",
    "        band = srcRaster.GetRasterBand(bandId)\n",
    "        if rescale_type == 'rescale':\n",
    "            bmin = band.GetMinimum()        \n",
    "            bmax = band.GetMaximum()\n",
    "            # if not exist minimum and maximum values\n",
    "            if bmin is None or bmax is None:\n",
    "                (bmin, bmax) = band.ComputeRasterMinMax(1)\n",
    "            # else, rescale\n",
    "            band_arr_tmp = band.ReadAsArray()\n",
    "            bmin = np.percentile(band_arr_tmp.flatten(), \n",
    "                                 percentiles[0])\n",
    "            bmax= np.percentile(band_arr_tmp.flatten(), \n",
    "                                percentiles[1])\n",
    "\n",
    "        else:\n",
    "            bmin, bmax = 0, 65535\n",
    "\n",
    "        cmd.append('-scale_{}'.format(bandId))\n",
    "        cmd.append('{}'.format(bmin))\n",
    "        cmd.append('{}'.format(bmax))\n",
    "        cmd.append('{}'.format(0))\n",
    "        cmd.append('{}'.format(255))\n",
    "\n",
    "    cmd.append(inputRaster)\n",
    "    cmd.append(outputRaster)\n",
    "    # print(\"Conversin command:\", cmd)\n",
    "    subprocess.call(cmd)\n",
    "    \n",
    "    return\n"
   ]
  },
  {
   "cell_type": "code",
   "execution_count": 88,
   "metadata": {},
   "outputs": [
    {
     "name": "stderr",
     "output_type": "stream",
     "text": [
      "\n",
      "\n",
      "\n",
      "  0%|          | 0/550 [00:00<?, ?it/s]\u001b[A\u001b[A\u001b[A/home/prativa/anaconda3/envs/py36/lib/python3.6/site-packages/pyproj/crs/crs.py:53: FutureWarning: '+init=<authority>:<code>' syntax is deprecated. '<authority>:<code>' is the preferred initialization method. When making the change, be mindful of axis order changes: https://pyproj4.github.io/pyproj/stable/gotchas.html#axis-order-changes-in-proj-6\n",
      "  return _prepare_from_string(\" \".join(pjargs))\n",
      "/home/prativa/anaconda3/envs/py36/lib/python3.6/site-packages/pyproj/crs/crs.py:53: FutureWarning: '+init=<authority>:<code>' syntax is deprecated. '<authority>:<code>' is the preferred initialization method. When making the change, be mindful of axis order changes: https://pyproj4.github.io/pyproj/stable/gotchas.html#axis-order-changes-in-proj-6\n",
      "  return _prepare_from_string(\" \".join(pjargs))\n",
      "/home/prativa/anaconda3/envs/py36/lib/python3.6/site-packages/pyproj/crs/crs.py:53: FutureWarning: '+init=<authority>:<code>' syntax is deprecated. '<authority>:<code>' is the preferred initialization method. When making the change, be mindful of axis order changes: https://pyproj4.github.io/pyproj/stable/gotchas.html#axis-order-changes-in-proj-6\n",
      "  return _prepare_from_string(\" \".join(pjargs))\n",
      "/home/prativa/anaconda3/envs/py36/lib/python3.6/site-packages/pyproj/crs/crs.py:53: FutureWarning: '+init=<authority>:<code>' syntax is deprecated. '<authority>:<code>' is the preferred initialization method. When making the change, be mindful of axis order changes: https://pyproj4.github.io/pyproj/stable/gotchas.html#axis-order-changes-in-proj-6\n",
      "  return _prepare_from_string(\" \".join(pjargs))\n",
      "/home/prativa/anaconda3/envs/py36/lib/python3.6/site-packages/pyproj/crs/crs.py:53: FutureWarning: '+init=<authority>:<code>' syntax is deprecated. '<authority>:<code>' is the preferred initialization method. When making the change, be mindful of axis order changes: https://pyproj4.github.io/pyproj/stable/gotchas.html#axis-order-changes-in-proj-6\n",
      "  return _prepare_from_string(\" \".join(pjargs))\n",
      "/home/prativa/anaconda3/envs/py36/lib/python3.6/site-packages/pyproj/crs/crs.py:53: FutureWarning: '+init=<authority>:<code>' syntax is deprecated. '<authority>:<code>' is the preferred initialization method. When making the change, be mindful of axis order changes: https://pyproj4.github.io/pyproj/stable/gotchas.html#axis-order-changes-in-proj-6\n",
      "  return _prepare_from_string(\" \".join(pjargs))\n",
      "/home/prativa/anaconda3/envs/py36/lib/python3.6/site-packages/pyproj/crs/crs.py:53: FutureWarning: '+init=<authority>:<code>' syntax is deprecated. '<authority>:<code>' is the preferred initialization method. When making the change, be mindful of axis order changes: https://pyproj4.github.io/pyproj/stable/gotchas.html#axis-order-changes-in-proj-6\n",
      "  return _prepare_from_string(\" \".join(pjargs))\n",
      "/home/prativa/anaconda3/envs/py36/lib/python3.6/site-packages/pyproj/crs/crs.py:53: FutureWarning: '+init=<authority>:<code>' syntax is deprecated. '<authority>:<code>' is the preferred initialization method. When making the change, be mindful of axis order changes: https://pyproj4.github.io/pyproj/stable/gotchas.html#axis-order-changes-in-proj-6\n",
      "  return _prepare_from_string(\" \".join(pjargs))\n",
      "/home/prativa/anaconda3/envs/py36/lib/python3.6/site-packages/pyproj/crs/crs.py:53: FutureWarning: '+init=<authority>:<code>' syntax is deprecated. '<authority>:<code>' is the preferred initialization method. When making the change, be mindful of axis order changes: https://pyproj4.github.io/pyproj/stable/gotchas.html#axis-order-changes-in-proj-6\n",
      "  return _prepare_from_string(\" \".join(pjargs))\n",
      "/home/prativa/anaconda3/envs/py36/lib/python3.6/site-packages/pyproj/crs/crs.py:53: FutureWarning: '+init=<authority>:<code>' syntax is deprecated. '<authority>:<code>' is the preferred initialization method. When making the change, be mindful of axis order changes: https://pyproj4.github.io/pyproj/stable/gotchas.html#axis-order-changes-in-proj-6\n",
      "  return _prepare_from_string(\" \".join(pjargs))\n",
      "/home/prativa/anaconda3/envs/py36/lib/python3.6/site-packages/pyproj/crs/crs.py:53: FutureWarning: '+init=<authority>:<code>' syntax is deprecated. '<authority>:<code>' is the preferred initialization method. When making the change, be mindful of axis order changes: https://pyproj4.github.io/pyproj/stable/gotchas.html#axis-order-changes-in-proj-6\n",
      "  return _prepare_from_string(\" \".join(pjargs))\n",
      "/home/prativa/anaconda3/envs/py36/lib/python3.6/site-packages/pyproj/crs/crs.py:53: FutureWarning: '+init=<authority>:<code>' syntax is deprecated. '<authority>:<code>' is the preferred initialization method. When making the change, be mindful of axis order changes: https://pyproj4.github.io/pyproj/stable/gotchas.html#axis-order-changes-in-proj-6\n",
      "  return _prepare_from_string(\" \".join(pjargs))\n",
      "/home/prativa/anaconda3/envs/py36/lib/python3.6/site-packages/pyproj/crs/crs.py:53: FutureWarning: '+init=<authority>:<code>' syntax is deprecated. '<authority>:<code>' is the preferred initialization method. When making the change, be mindful of axis order changes: https://pyproj4.github.io/pyproj/stable/gotchas.html#axis-order-changes-in-proj-6\n",
      "  return _prepare_from_string(\" \".join(pjargs))\n",
      "/home/prativa/anaconda3/envs/py36/lib/python3.6/site-packages/pyproj/crs/crs.py:53: FutureWarning: '+init=<authority>:<code>' syntax is deprecated. '<authority>:<code>' is the preferred initialization method. When making the change, be mindful of axis order changes: https://pyproj4.github.io/pyproj/stable/gotchas.html#axis-order-changes-in-proj-6\n",
      "  return _prepare_from_string(\" \".join(pjargs))\n",
      "/home/prativa/anaconda3/envs/py36/lib/python3.6/site-packages/pyproj/crs/crs.py:53: FutureWarning: '+init=<authority>:<code>' syntax is deprecated. '<authority>:<code>' is the preferred initialization method. When making the change, be mindful of axis order changes: https://pyproj4.github.io/pyproj/stable/gotchas.html#axis-order-changes-in-proj-6\n",
      "  return _prepare_from_string(\" \".join(pjargs))\n",
      "/home/prativa/anaconda3/envs/py36/lib/python3.6/site-packages/pyproj/crs/crs.py:53: FutureWarning: '+init=<authority>:<code>' syntax is deprecated. '<authority>:<code>' is the preferred initialization method. When making the change, be mindful of axis order changes: https://pyproj4.github.io/pyproj/stable/gotchas.html#axis-order-changes-in-proj-6\n",
      "  return _prepare_from_string(\" \".join(pjargs))\n",
      "/home/prativa/anaconda3/envs/py36/lib/python3.6/site-packages/pyproj/crs/crs.py:53: FutureWarning: '+init=<authority>:<code>' syntax is deprecated. '<authority>:<code>' is the preferred initialization method. When making the change, be mindful of axis order changes: https://pyproj4.github.io/pyproj/stable/gotchas.html#axis-order-changes-in-proj-6\n",
      "  return _prepare_from_string(\" \".join(pjargs))\n",
      "/home/prativa/anaconda3/envs/py36/lib/python3.6/site-packages/pyproj/crs/crs.py:53: FutureWarning: '+init=<authority>:<code>' syntax is deprecated. '<authority>:<code>' is the preferred initialization method. When making the change, be mindful of axis order changes: https://pyproj4.github.io/pyproj/stable/gotchas.html#axis-order-changes-in-proj-6\n",
      "  return _prepare_from_string(\" \".join(pjargs))\n",
      "/home/prativa/anaconda3/envs/py36/lib/python3.6/site-packages/pyproj/crs/crs.py:53: FutureWarning: '+init=<authority>:<code>' syntax is deprecated. '<authority>:<code>' is the preferred initialization method. When making the change, be mindful of axis order changes: https://pyproj4.github.io/pyproj/stable/gotchas.html#axis-order-changes-in-proj-6\n",
      "  return _prepare_from_string(\" \".join(pjargs))\n",
      "/home/prativa/anaconda3/envs/py36/lib/python3.6/site-packages/pyproj/crs/crs.py:53: FutureWarning: '+init=<authority>:<code>' syntax is deprecated. '<authority>:<code>' is the preferred initialization method. When making the change, be mindful of axis order changes: https://pyproj4.github.io/pyproj/stable/gotchas.html#axis-order-changes-in-proj-6\n",
      "  return _prepare_from_string(\" \".join(pjargs))\n"
     ]
    },
    {
     "name": "stdout",
     "output_type": "stream",
     "text": [
      "OpenCV(4.1.0) /io/opencv/modules/imgproc/src/color.cpp:182: error: (-215:Assertion failed) !_src.empty() in function 'cvtColor'\n",
      "OpenCV(4.1.0) /io/opencv/modules/imgproc/src/color.cpp:182: error: (-215:Assertion failed) !_src.empty() in function 'cvtColor'\n",
      "OpenCV(4.1.0) /io/opencv/modules/imgproc/src/color.cpp:182: error: (-215:Assertion failed) !_src.empty() in function 'cvtColor'\n",
      "OpenCV(4.1.0) /io/opencv/modules/imgproc/src/color.cpp:182: error: (-215:Assertion failed) !_src.empty() in function 'cvtColor'\n",
      "OpenCV(4.1.0) /io/opencv/modules/imgproc/src/color.cpp:182: error: (-215:Assertion failed) !_src.empty() in function 'cvtColor'\n",
      "OpenCV(4.1.0) /io/opencv/modules/imgproc/src/color.cpp:182: error: (-215:Assertion failed) !_src.empty() in function 'cvtColor'\n",
      "OpenCV(4.1.0) /io/opencv/modules/imgproc/src/color.cpp:182: error: (-215:Assertion failed) !_src.empty() in function 'cvtColor'\n",
      "OpenCV(4.1.0) /io/opencv/modules/imgproc/src/color.cpp:182: error: (-215:Assertion failed) !_src.empty() in function 'cvtColor'\n",
      "\n",
      "OpenCV(4.1.0) /io/opencv/modules/imgproc/src/color.cpp:182: error: (-215:Assertion failed) !_src.empty() in function 'cvtColor'\n",
      "\n",
      "OpenCV(4.1.0) /io/opencv/modules/imgproc/src/color.cpp:182: error: (-215:Assertion failed) !_src.empty() in function 'cvtColor'\n",
      "\n",
      "\n"
     ]
    },
    {
     "name": "stderr",
     "output_type": "stream",
     "text": [
      "\n",
      "\n",
      "\n"
     ]
    },
    {
     "name": "stdout",
     "output_type": "stream",
     "text": [
      "\n",
      "\n",
      "\n",
      "\n"
     ]
    },
    {
     "name": "stderr",
     "output_type": "stream",
     "text": [
      "  0%|          | 1/550 [00:01<16:44,  1.83s/it]\u001b[A\u001b[A\u001b[A"
     ]
    },
    {
     "name": "stdout",
     "output_type": "stream",
     "text": [
      "\n",
      "\n"
     ]
    },
    {
     "name": "stderr",
     "output_type": "stream",
     "text": [
      "/home/prativa/anaconda3/envs/py36/lib/python3.6/site-packages/pyproj/crs/crs.py:53: FutureWarning: '+init=<authority>:<code>' syntax is deprecated. '<authority>:<code>' is the preferred initialization method. When making the change, be mindful of axis order changes: https://pyproj4.github.io/pyproj/stable/gotchas.html#axis-order-changes-in-proj-6\n",
      "  return _prepare_from_string(\" \".join(pjargs))\n",
      "/home/prativa/anaconda3/envs/py36/lib/python3.6/site-packages/pyproj/crs/crs.py:53: FutureWarning: '+init=<authority>:<code>' syntax is deprecated. '<authority>:<code>' is the preferred initialization method. When making the change, be mindful of axis order changes: https://pyproj4.github.io/pyproj/stable/gotchas.html#axis-order-changes-in-proj-6\n",
      "  return _prepare_from_string(\" \".join(pjargs))\n",
      "/home/prativa/anaconda3/envs/py36/lib/python3.6/site-packages/pyproj/crs/crs.py:53: FutureWarning: '+init=<authority>:<code>' syntax is deprecated. '<authority>:<code>' is the preferred initialization method. When making the change, be mindful of axis order changes: https://pyproj4.github.io/pyproj/stable/gotchas.html#axis-order-changes-in-proj-6\n",
      "  return _prepare_from_string(\" \".join(pjargs))\n",
      "/home/prativa/anaconda3/envs/py36/lib/python3.6/site-packages/pyproj/crs/crs.py:53: FutureWarning: '+init=<authority>:<code>' syntax is deprecated. '<authority>:<code>' is the preferred initialization method. When making the change, be mindful of axis order changes: https://pyproj4.github.io/pyproj/stable/gotchas.html#axis-order-changes-in-proj-6\n",
      "  return _prepare_from_string(\" \".join(pjargs))\n",
      "/home/prativa/anaconda3/envs/py36/lib/python3.6/site-packages/pyproj/crs/crs.py:53: FutureWarning: '+init=<authority>:<code>' syntax is deprecated. '<authority>:<code>' is the preferred initialization method. When making the change, be mindful of axis order changes: https://pyproj4.github.io/pyproj/stable/gotchas.html#axis-order-changes-in-proj-6\n",
      "  return _prepare_from_string(\" \".join(pjargs))\n",
      "/home/prativa/anaconda3/envs/py36/lib/python3.6/site-packages/pyproj/crs/crs.py:53: FutureWarning: '+init=<authority>:<code>' syntax is deprecated. '<authority>:<code>' is the preferred initialization method. When making the change, be mindful of axis order changes: https://pyproj4.github.io/pyproj/stable/gotchas.html#axis-order-changes-in-proj-6\n",
      "  return _prepare_from_string(\" \".join(pjargs))\n",
      "/home/prativa/anaconda3/envs/py36/lib/python3.6/site-packages/pyproj/crs/crs.py:53: FutureWarning: '+init=<authority>:<code>' syntax is deprecated. '<authority>:<code>' is the preferred initialization method. When making the change, be mindful of axis order changes: https://pyproj4.github.io/pyproj/stable/gotchas.html#axis-order-changes-in-proj-6\n",
      "  return _prepare_from_string(\" \".join(pjargs))\n",
      "/home/prativa/anaconda3/envs/py36/lib/python3.6/site-packages/pyproj/crs/crs.py:53: FutureWarning: '+init=<authority>:<code>' syntax is deprecated. '<authority>:<code>' is the preferred initialization method. When making the change, be mindful of axis order changes: https://pyproj4.github.io/pyproj/stable/gotchas.html#axis-order-changes-in-proj-6\n",
      "  return _prepare_from_string(\" \".join(pjargs))\n",
      "/home/prativa/anaconda3/envs/py36/lib/python3.6/site-packages/pyproj/crs/crs.py:53: FutureWarning: '+init=<authority>:<code>' syntax is deprecated. '<authority>:<code>' is the preferred initialization method. When making the change, be mindful of axis order changes: https://pyproj4.github.io/pyproj/stable/gotchas.html#axis-order-changes-in-proj-6\n",
      "  return _prepare_from_string(\" \".join(pjargs))\n",
      "/home/prativa/anaconda3/envs/py36/lib/python3.6/site-packages/pyproj/crs/crs.py:53: FutureWarning: '+init=<authority>:<code>' syntax is deprecated. '<authority>:<code>' is the preferred initialization method. When making the change, be mindful of axis order changes: https://pyproj4.github.io/pyproj/stable/gotchas.html#axis-order-changes-in-proj-6\n",
      "  return _prepare_from_string(\" \".join(pjargs))\n",
      "/home/prativa/anaconda3/envs/py36/lib/python3.6/site-packages/pyproj/crs/crs.py:53: FutureWarning: '+init=<authority>:<code>' syntax is deprecated. '<authority>:<code>' is the preferred initialization method. When making the change, be mindful of axis order changes: https://pyproj4.github.io/pyproj/stable/gotchas.html#axis-order-changes-in-proj-6\n",
      "  return _prepare_from_string(\" \".join(pjargs))\n",
      "/home/prativa/anaconda3/envs/py36/lib/python3.6/site-packages/pyproj/crs/crs.py:53: FutureWarning: '+init=<authority>:<code>' syntax is deprecated. '<authority>:<code>' is the preferred initialization method. When making the change, be mindful of axis order changes: https://pyproj4.github.io/pyproj/stable/gotchas.html#axis-order-changes-in-proj-6\n",
      "  return _prepare_from_string(\" \".join(pjargs))\n",
      "/home/prativa/anaconda3/envs/py36/lib/python3.6/site-packages/pyproj/crs/crs.py:53: FutureWarning: '+init=<authority>:<code>' syntax is deprecated. '<authority>:<code>' is the preferred initialization method. When making the change, be mindful of axis order changes: https://pyproj4.github.io/pyproj/stable/gotchas.html#axis-order-changes-in-proj-6\n",
      "  return _prepare_from_string(\" \".join(pjargs))\n",
      "/home/prativa/anaconda3/envs/py36/lib/python3.6/site-packages/pyproj/crs/crs.py:53: FutureWarning: '+init=<authority>:<code>' syntax is deprecated. '<authority>:<code>' is the preferred initialization method. When making the change, be mindful of axis order changes: https://pyproj4.github.io/pyproj/stable/gotchas.html#axis-order-changes-in-proj-6\n",
      "  return _prepare_from_string(\" \".join(pjargs))\n",
      "/home/prativa/anaconda3/envs/py36/lib/python3.6/site-packages/pyproj/crs/crs.py:53: FutureWarning: '+init=<authority>:<code>' syntax is deprecated. '<authority>:<code>' is the preferred initialization method. When making the change, be mindful of axis order changes: https://pyproj4.github.io/pyproj/stable/gotchas.html#axis-order-changes-in-proj-6\n",
      "  return _prepare_from_string(\" \".join(pjargs))\n",
      "/home/prativa/anaconda3/envs/py36/lib/python3.6/site-packages/pyproj/crs/crs.py:53: FutureWarning: '+init=<authority>:<code>' syntax is deprecated. '<authority>:<code>' is the preferred initialization method. When making the change, be mindful of axis order changes: https://pyproj4.github.io/pyproj/stable/gotchas.html#axis-order-changes-in-proj-6\n",
      "  return _prepare_from_string(\" \".join(pjargs))\n",
      "/home/prativa/anaconda3/envs/py36/lib/python3.6/site-packages/pyproj/crs/crs.py:53: FutureWarning: '+init=<authority>:<code>' syntax is deprecated. '<authority>:<code>' is the preferred initialization method. When making the change, be mindful of axis order changes: https://pyproj4.github.io/pyproj/stable/gotchas.html#axis-order-changes-in-proj-6\n",
      "  return _prepare_from_string(\" \".join(pjargs))\n",
      "/home/prativa/anaconda3/envs/py36/lib/python3.6/site-packages/pyproj/crs/crs.py:53: FutureWarning: '+init=<authority>:<code>' syntax is deprecated. '<authority>:<code>' is the preferred initialization method. When making the change, be mindful of axis order changes: https://pyproj4.github.io/pyproj/stable/gotchas.html#axis-order-changes-in-proj-6\n",
      "  return _prepare_from_string(\" \".join(pjargs))\n",
      "/home/prativa/anaconda3/envs/py36/lib/python3.6/site-packages/pyproj/crs/crs.py:53: FutureWarning: '+init=<authority>:<code>' syntax is deprecated. '<authority>:<code>' is the preferred initialization method. When making the change, be mindful of axis order changes: https://pyproj4.github.io/pyproj/stable/gotchas.html#axis-order-changes-in-proj-6\n",
      "  return _prepare_from_string(\" \".join(pjargs))\n",
      "/home/prativa/anaconda3/envs/py36/lib/python3.6/site-packages/pyproj/crs/crs.py:53: FutureWarning: '+init=<authority>:<code>' syntax is deprecated. '<authority>:<code>' is the preferred initialization method. When making the change, be mindful of axis order changes: https://pyproj4.github.io/pyproj/stable/gotchas.html#axis-order-changes-in-proj-6\n",
      "  return _prepare_from_string(\" \".join(pjargs))\n"
     ]
    },
    {
     "name": "stdout",
     "output_type": "stream",
     "text": [
      "OpenCV(4.1.0) /io/opencv/modules/imgproc/src/color.cpp:182: error: (-215:Assertion failed) !_src.empty() in function 'cvtColor'\n",
      "OpenCV(4.1.0) /io/opencv/modules/imgproc/src/color.cpp:182: error: (-215:Assertion failed) !_src.empty() in function 'cvtColor'\n",
      "\n",
      "OpenCV(4.1.0) /io/opencv/modules/imgproc/src/color.cpp:182: error: (-215:Assertion failed) !_src.empty() in function 'cvtColor'\n",
      "\n",
      "\n"
     ]
    },
    {
     "name": "stderr",
     "output_type": "stream",
     "text": [
      "\n",
      "\n",
      "\n",
      "  2%|▏         | 11/550 [00:02<11:43,  1.31s/it]\u001b[A\u001b[A\u001b[A"
     ]
    },
    {
     "name": "stdout",
     "output_type": "stream",
     "text": [
      "OpenCV(4.1.0) /io/opencv/modules/imgproc/src/color.cpp:182: error: (-215:Assertion failed) !_src.empty() in function 'cvtColor'\n",
      "OpenCV(4.1.0) /io/opencv/modules/imgproc/src/color.cpp:182: error: (-215:Assertion failed) !_src.empty() in function 'cvtColor'\n",
      "\n",
      "OpenCV(4.1.0) /io/opencv/modules/imgproc/src/color.cpp:182: error: (-215:Assertion failed) !_src.empty() in function 'cvtColor'\n",
      "\n",
      "\n",
      "OpenCV(4.1.0) /io/opencv/modules/imgproc/src/color.cpp:182: error: (-215:Assertion failed) !_src.empty() in function 'cvtColor'\n",
      "\n",
      "OpenCV(4.1.0) /io/opencv/modules/imgproc/src/color.cpp:182: error: (-215:Assertion failed) !_src.empty() in function 'cvtColor'\n",
      "OpenCV(4.1.0) /io/opencv/modules/imgproc/src/color.cpp:182: error: (-215:Assertion failed) !_src.empty() in function 'cvtColor'\n",
      "\n"
     ]
    },
    {
     "name": "stderr",
     "output_type": "stream",
     "text": [
      "\n",
      "\n",
      "\n",
      "  2%|▏         | 12/550 [00:02<08:36,  1.04it/s]\u001b[A\u001b[A\u001b[A"
     ]
    },
    {
     "name": "stdout",
     "output_type": "stream",
     "text": [
      "OpenCV(4.1.0) /io/opencv/modules/imgproc/src/color.cpp:182: error: (-215:Assertion failed) !_src.empty() in function 'cvtColor'\n"
     ]
    },
    {
     "name": "stderr",
     "output_type": "stream",
     "text": [
      "/home/prativa/anaconda3/envs/py36/lib/python3.6/site-packages/pyproj/crs/crs.py:53: FutureWarning: '+init=<authority>:<code>' syntax is deprecated. '<authority>:<code>' is the preferred initialization method. When making the change, be mindful of axis order changes: https://pyproj4.github.io/pyproj/stable/gotchas.html#axis-order-changes-in-proj-6\n",
      "  return _prepare_from_string(\" \".join(pjargs))\n"
     ]
    },
    {
     "name": "stdout",
     "output_type": "stream",
     "text": [
      "\n",
      "\n"
     ]
    },
    {
     "name": "stderr",
     "output_type": "stream",
     "text": [
      "/home/prativa/anaconda3/envs/py36/lib/python3.6/site-packages/pyproj/crs/crs.py:53: FutureWarning: '+init=<authority>:<code>' syntax is deprecated. '<authority>:<code>' is the preferred initialization method. When making the change, be mindful of axis order changes: https://pyproj4.github.io/pyproj/stable/gotchas.html#axis-order-changes-in-proj-6\n",
      "  return _prepare_from_string(\" \".join(pjargs))\n",
      "/home/prativa/anaconda3/envs/py36/lib/python3.6/site-packages/pyproj/crs/crs.py:53: FutureWarning: '+init=<authority>:<code>' syntax is deprecated. '<authority>:<code>' is the preferred initialization method. When making the change, be mindful of axis order changes: https://pyproj4.github.io/pyproj/stable/gotchas.html#axis-order-changes-in-proj-6\n",
      "  return _prepare_from_string(\" \".join(pjargs))\n",
      "/home/prativa/anaconda3/envs/py36/lib/python3.6/site-packages/pyproj/crs/crs.py:53: FutureWarning: '+init=<authority>:<code>' syntax is deprecated. '<authority>:<code>' is the preferred initialization method. When making the change, be mindful of axis order changes: https://pyproj4.github.io/pyproj/stable/gotchas.html#axis-order-changes-in-proj-6\n",
      "  return _prepare_from_string(\" \".join(pjargs))\n",
      "/home/prativa/anaconda3/envs/py36/lib/python3.6/site-packages/pyproj/crs/crs.py:53: FutureWarning: '+init=<authority>:<code>' syntax is deprecated. '<authority>:<code>' is the preferred initialization method. When making the change, be mindful of axis order changes: https://pyproj4.github.io/pyproj/stable/gotchas.html#axis-order-changes-in-proj-6\n",
      "  return _prepare_from_string(\" \".join(pjargs))\n",
      "/home/prativa/anaconda3/envs/py36/lib/python3.6/site-packages/pyproj/crs/crs.py:53: FutureWarning: '+init=<authority>:<code>' syntax is deprecated. '<authority>:<code>' is the preferred initialization method. When making the change, be mindful of axis order changes: https://pyproj4.github.io/pyproj/stable/gotchas.html#axis-order-changes-in-proj-6\n",
      "  return _prepare_from_string(\" \".join(pjargs))\n",
      "/home/prativa/anaconda3/envs/py36/lib/python3.6/site-packages/pyproj/crs/crs.py:53: FutureWarning: '+init=<authority>:<code>' syntax is deprecated. '<authority>:<code>' is the preferred initialization method. When making the change, be mindful of axis order changes: https://pyproj4.github.io/pyproj/stable/gotchas.html#axis-order-changes-in-proj-6\n",
      "  return _prepare_from_string(\" \".join(pjargs))\n",
      "/home/prativa/anaconda3/envs/py36/lib/python3.6/site-packages/pyproj/crs/crs.py:53: FutureWarning: '+init=<authority>:<code>' syntax is deprecated. '<authority>:<code>' is the preferred initialization method. When making the change, be mindful of axis order changes: https://pyproj4.github.io/pyproj/stable/gotchas.html#axis-order-changes-in-proj-6\n",
      "  return _prepare_from_string(\" \".join(pjargs))\n",
      "/home/prativa/anaconda3/envs/py36/lib/python3.6/site-packages/pyproj/crs/crs.py:53: FutureWarning: '+init=<authority>:<code>' syntax is deprecated. '<authority>:<code>' is the preferred initialization method. When making the change, be mindful of axis order changes: https://pyproj4.github.io/pyproj/stable/gotchas.html#axis-order-changes-in-proj-6\n",
      "  return _prepare_from_string(\" \".join(pjargs))\n",
      "/home/prativa/anaconda3/envs/py36/lib/python3.6/site-packages/pyproj/crs/crs.py:53: FutureWarning: '+init=<authority>:<code>' syntax is deprecated. '<authority>:<code>' is the preferred initialization method. When making the change, be mindful of axis order changes: https://pyproj4.github.io/pyproj/stable/gotchas.html#axis-order-changes-in-proj-6\n",
      "  return _prepare_from_string(\" \".join(pjargs))\n",
      "/home/prativa/anaconda3/envs/py36/lib/python3.6/site-packages/pyproj/crs/crs.py:53: FutureWarning: '+init=<authority>:<code>' syntax is deprecated. '<authority>:<code>' is the preferred initialization method. When making the change, be mindful of axis order changes: https://pyproj4.github.io/pyproj/stable/gotchas.html#axis-order-changes-in-proj-6\n",
      "  return _prepare_from_string(\" \".join(pjargs))\n",
      "/home/prativa/anaconda3/envs/py36/lib/python3.6/site-packages/pyproj/crs/crs.py:53: FutureWarning: '+init=<authority>:<code>' syntax is deprecated. '<authority>:<code>' is the preferred initialization method. When making the change, be mindful of axis order changes: https://pyproj4.github.io/pyproj/stable/gotchas.html#axis-order-changes-in-proj-6\n",
      "  return _prepare_from_string(\" \".join(pjargs))\n",
      "/home/prativa/anaconda3/envs/py36/lib/python3.6/site-packages/pyproj/crs/crs.py:53: FutureWarning: '+init=<authority>:<code>' syntax is deprecated. '<authority>:<code>' is the preferred initialization method. When making the change, be mindful of axis order changes: https://pyproj4.github.io/pyproj/stable/gotchas.html#axis-order-changes-in-proj-6\n",
      "  return _prepare_from_string(\" \".join(pjargs))\n",
      "/home/prativa/anaconda3/envs/py36/lib/python3.6/site-packages/pyproj/crs/crs.py:53: FutureWarning: '+init=<authority>:<code>' syntax is deprecated. '<authority>:<code>' is the preferred initialization method. When making the change, be mindful of axis order changes: https://pyproj4.github.io/pyproj/stable/gotchas.html#axis-order-changes-in-proj-6\n",
      "  return _prepare_from_string(\" \".join(pjargs))\n",
      "/home/prativa/anaconda3/envs/py36/lib/python3.6/site-packages/pyproj/crs/crs.py:53: FutureWarning: '+init=<authority>:<code>' syntax is deprecated. '<authority>:<code>' is the preferred initialization method. When making the change, be mindful of axis order changes: https://pyproj4.github.io/pyproj/stable/gotchas.html#axis-order-changes-in-proj-6\n",
      "  return _prepare_from_string(\" \".join(pjargs))\n",
      "/home/prativa/anaconda3/envs/py36/lib/python3.6/site-packages/pyproj/crs/crs.py:53: FutureWarning: '+init=<authority>:<code>' syntax is deprecated. '<authority>:<code>' is the preferred initialization method. When making the change, be mindful of axis order changes: https://pyproj4.github.io/pyproj/stable/gotchas.html#axis-order-changes-in-proj-6\n",
      "  return _prepare_from_string(\" \".join(pjargs))\n",
      "/home/prativa/anaconda3/envs/py36/lib/python3.6/site-packages/pyproj/crs/crs.py:53: FutureWarning: '+init=<authority>:<code>' syntax is deprecated. '<authority>:<code>' is the preferred initialization method. When making the change, be mindful of axis order changes: https://pyproj4.github.io/pyproj/stable/gotchas.html#axis-order-changes-in-proj-6\n",
      "  return _prepare_from_string(\" \".join(pjargs))\n",
      "/home/prativa/anaconda3/envs/py36/lib/python3.6/site-packages/pyproj/crs/crs.py:53: FutureWarning: '+init=<authority>:<code>' syntax is deprecated. '<authority>:<code>' is the preferred initialization method. When making the change, be mindful of axis order changes: https://pyproj4.github.io/pyproj/stable/gotchas.html#axis-order-changes-in-proj-6\n",
      "  return _prepare_from_string(\" \".join(pjargs))\n",
      "/home/prativa/anaconda3/envs/py36/lib/python3.6/site-packages/pyproj/crs/crs.py:53: FutureWarning: '+init=<authority>:<code>' syntax is deprecated. '<authority>:<code>' is the preferred initialization method. When making the change, be mindful of axis order changes: https://pyproj4.github.io/pyproj/stable/gotchas.html#axis-order-changes-in-proj-6\n",
      "  return _prepare_from_string(\" \".join(pjargs))\n",
      "/home/prativa/anaconda3/envs/py36/lib/python3.6/site-packages/pyproj/crs/crs.py:53: FutureWarning: '+init=<authority>:<code>' syntax is deprecated. '<authority>:<code>' is the preferred initialization method. When making the change, be mindful of axis order changes: https://pyproj4.github.io/pyproj/stable/gotchas.html#axis-order-changes-in-proj-6\n",
      "  return _prepare_from_string(\" \".join(pjargs))\n"
     ]
    },
    {
     "name": "stdout",
     "output_type": "stream",
     "text": [
      "OpenCV(4.1.0) /io/opencv/modules/imgproc/src/color.cpp:182: error: (-215:Assertion failed) !_src.empty() in function 'cvtColor'\n",
      "\n",
      "OpenCV(4.1.0) /io/opencv/modules/imgproc/src/color.cpp:182: error: (-215:Assertion failed) !_src.empty() in function 'cvtColor'\n",
      "OpenCV(4.1.0) /io/opencv/modules/imgproc/src/color.cpp:182: error: (-215:Assertion failed) !_src.empty() in function 'cvtColor'\n",
      "\n",
      "\n"
     ]
    },
    {
     "name": "stderr",
     "output_type": "stream",
     "text": [
      "\n",
      "\n",
      "\n",
      "  4%|▍         | 21/550 [00:03<06:12,  1.42it/s]\u001b[A\u001b[A\u001b[A"
     ]
    },
    {
     "name": "stdout",
     "output_type": "stream",
     "text": [
      "OpenCV(4.1.0) /io/opencv/modules/imgproc/src/color.cpp:182: error: (-215:Assertion failed) !_src.empty() in function 'cvtColor'\n",
      "\n",
      "OpenCV(4.1.0) /io/opencv/modules/imgproc/src/color.cpp:182: error: (-215:Assertion failed) !_src.empty() in function 'cvtColor'\n",
      "\n",
      "OpenCV(4.1.0) /io/opencv/modules/imgproc/src/color.cpp:182: error: (-215:Assertion failed) !_src.empty() in function 'cvtColor'\n",
      "OpenCV(4.1.0) /io/opencv/modules/imgproc/src/color.cpp:182: error: (-215:Assertion failed) !_src.empty() in function 'cvtColor'\n",
      "\n",
      "\n",
      "OpenCV(4.1.0) /io/opencv/modules/imgproc/src/color.cpp:182: error: (-215:Assertion failed) !_src.empty() in function 'cvtColor'\n"
     ]
    },
    {
     "name": "stderr",
     "output_type": "stream",
     "text": [
      "/home/prativa/anaconda3/envs/py36/lib/python3.6/site-packages/pyproj/crs/crs.py:53: FutureWarning: '+init=<authority>:<code>' syntax is deprecated. '<authority>:<code>' is the preferred initialization method. When making the change, be mindful of axis order changes: https://pyproj4.github.io/pyproj/stable/gotchas.html#axis-order-changes-in-proj-6\n",
      "  return _prepare_from_string(\" \".join(pjargs))\n"
     ]
    },
    {
     "name": "stdout",
     "output_type": "stream",
     "text": [
      "\n",
      "OpenCV(4.1.0) /io/opencv/modules/imgproc/src/color.cpp:182: error: (-215:Assertion failed) !_src.empty() in function 'cvtColor'\n",
      "\n"
     ]
    },
    {
     "name": "stderr",
     "output_type": "stream",
     "text": [
      "/home/prativa/anaconda3/envs/py36/lib/python3.6/site-packages/pyproj/crs/crs.py:53: FutureWarning: '+init=<authority>:<code>' syntax is deprecated. '<authority>:<code>' is the preferred initialization method. When making the change, be mindful of axis order changes: https://pyproj4.github.io/pyproj/stable/gotchas.html#axis-order-changes-in-proj-6\n",
      "  return _prepare_from_string(\" \".join(pjargs))\n",
      "\n",
      "\n",
      "\n",
      "  4%|▍         | 23/550 [00:04<04:33,  1.92it/s]\u001b[A\u001b[A\u001b[A"
     ]
    },
    {
     "name": "stdout",
     "output_type": "stream",
     "text": [
      "OpenCV(4.1.0) /io/opencv/modules/imgproc/src/color.cpp:182: error: (-215:Assertion failed) !_src.empty() in function 'cvtColor'\n",
      "\n"
     ]
    },
    {
     "name": "stderr",
     "output_type": "stream",
     "text": [
      "/home/prativa/anaconda3/envs/py36/lib/python3.6/site-packages/pyproj/crs/crs.py:53: FutureWarning: '+init=<authority>:<code>' syntax is deprecated. '<authority>:<code>' is the preferred initialization method. When making the change, be mindful of axis order changes: https://pyproj4.github.io/pyproj/stable/gotchas.html#axis-order-changes-in-proj-6\n",
      "  return _prepare_from_string(\" \".join(pjargs))\n",
      "/home/prativa/anaconda3/envs/py36/lib/python3.6/site-packages/pyproj/crs/crs.py:53: FutureWarning: '+init=<authority>:<code>' syntax is deprecated. '<authority>:<code>' is the preferred initialization method. When making the change, be mindful of axis order changes: https://pyproj4.github.io/pyproj/stable/gotchas.html#axis-order-changes-in-proj-6\n",
      "  return _prepare_from_string(\" \".join(pjargs))\n",
      "/home/prativa/anaconda3/envs/py36/lib/python3.6/site-packages/pyproj/crs/crs.py:53: FutureWarning: '+init=<authority>:<code>' syntax is deprecated. '<authority>:<code>' is the preferred initialization method. When making the change, be mindful of axis order changes: https://pyproj4.github.io/pyproj/stable/gotchas.html#axis-order-changes-in-proj-6\n",
      "  return _prepare_from_string(\" \".join(pjargs))\n",
      "/home/prativa/anaconda3/envs/py36/lib/python3.6/site-packages/pyproj/crs/crs.py:53: FutureWarning: '+init=<authority>:<code>' syntax is deprecated. '<authority>:<code>' is the preferred initialization method. When making the change, be mindful of axis order changes: https://pyproj4.github.io/pyproj/stable/gotchas.html#axis-order-changes-in-proj-6\n",
      "  return _prepare_from_string(\" \".join(pjargs))\n",
      "/home/prativa/anaconda3/envs/py36/lib/python3.6/site-packages/pyproj/crs/crs.py:53: FutureWarning: '+init=<authority>:<code>' syntax is deprecated. '<authority>:<code>' is the preferred initialization method. When making the change, be mindful of axis order changes: https://pyproj4.github.io/pyproj/stable/gotchas.html#axis-order-changes-in-proj-6\n",
      "  return _prepare_from_string(\" \".join(pjargs))\n",
      "/home/prativa/anaconda3/envs/py36/lib/python3.6/site-packages/pyproj/crs/crs.py:53: FutureWarning: '+init=<authority>:<code>' syntax is deprecated. '<authority>:<code>' is the preferred initialization method. When making the change, be mindful of axis order changes: https://pyproj4.github.io/pyproj/stable/gotchas.html#axis-order-changes-in-proj-6\n",
      "  return _prepare_from_string(\" \".join(pjargs))\n",
      "/home/prativa/anaconda3/envs/py36/lib/python3.6/site-packages/pyproj/crs/crs.py:53: FutureWarning: '+init=<authority>:<code>' syntax is deprecated. '<authority>:<code>' is the preferred initialization method. When making the change, be mindful of axis order changes: https://pyproj4.github.io/pyproj/stable/gotchas.html#axis-order-changes-in-proj-6\n",
      "  return _prepare_from_string(\" \".join(pjargs))\n",
      "/home/prativa/anaconda3/envs/py36/lib/python3.6/site-packages/pyproj/crs/crs.py:53: FutureWarning: '+init=<authority>:<code>' syntax is deprecated. '<authority>:<code>' is the preferred initialization method. When making the change, be mindful of axis order changes: https://pyproj4.github.io/pyproj/stable/gotchas.html#axis-order-changes-in-proj-6\n",
      "  return _prepare_from_string(\" \".join(pjargs))\n",
      "/home/prativa/anaconda3/envs/py36/lib/python3.6/site-packages/pyproj/crs/crs.py:53: FutureWarning: '+init=<authority>:<code>' syntax is deprecated. '<authority>:<code>' is the preferred initialization method. When making the change, be mindful of axis order changes: https://pyproj4.github.io/pyproj/stable/gotchas.html#axis-order-changes-in-proj-6\n",
      "  return _prepare_from_string(\" \".join(pjargs))\n",
      "/home/prativa/anaconda3/envs/py36/lib/python3.6/site-packages/pyproj/crs/crs.py:53: FutureWarning: '+init=<authority>:<code>' syntax is deprecated. '<authority>:<code>' is the preferred initialization method. When making the change, be mindful of axis order changes: https://pyproj4.github.io/pyproj/stable/gotchas.html#axis-order-changes-in-proj-6\n",
      "  return _prepare_from_string(\" \".join(pjargs))\n",
      "/home/prativa/anaconda3/envs/py36/lib/python3.6/site-packages/pyproj/crs/crs.py:53: FutureWarning: '+init=<authority>:<code>' syntax is deprecated. '<authority>:<code>' is the preferred initialization method. When making the change, be mindful of axis order changes: https://pyproj4.github.io/pyproj/stable/gotchas.html#axis-order-changes-in-proj-6\n",
      "  return _prepare_from_string(\" \".join(pjargs))\n",
      "/home/prativa/anaconda3/envs/py36/lib/python3.6/site-packages/pyproj/crs/crs.py:53: FutureWarning: '+init=<authority>:<code>' syntax is deprecated. '<authority>:<code>' is the preferred initialization method. When making the change, be mindful of axis order changes: https://pyproj4.github.io/pyproj/stable/gotchas.html#axis-order-changes-in-proj-6\n",
      "  return _prepare_from_string(\" \".join(pjargs))\n",
      "/home/prativa/anaconda3/envs/py36/lib/python3.6/site-packages/pyproj/crs/crs.py:53: FutureWarning: '+init=<authority>:<code>' syntax is deprecated. '<authority>:<code>' is the preferred initialization method. When making the change, be mindful of axis order changes: https://pyproj4.github.io/pyproj/stable/gotchas.html#axis-order-changes-in-proj-6\n",
      "  return _prepare_from_string(\" \".join(pjargs))\n",
      "/home/prativa/anaconda3/envs/py36/lib/python3.6/site-packages/pyproj/crs/crs.py:53: FutureWarning: '+init=<authority>:<code>' syntax is deprecated. '<authority>:<code>' is the preferred initialization method. When making the change, be mindful of axis order changes: https://pyproj4.github.io/pyproj/stable/gotchas.html#axis-order-changes-in-proj-6\n",
      "  return _prepare_from_string(\" \".join(pjargs))\n",
      "/home/prativa/anaconda3/envs/py36/lib/python3.6/site-packages/pyproj/crs/crs.py:53: FutureWarning: '+init=<authority>:<code>' syntax is deprecated. '<authority>:<code>' is the preferred initialization method. When making the change, be mindful of axis order changes: https://pyproj4.github.io/pyproj/stable/gotchas.html#axis-order-changes-in-proj-6\n",
      "  return _prepare_from_string(\" \".join(pjargs))\n",
      "/home/prativa/anaconda3/envs/py36/lib/python3.6/site-packages/pyproj/crs/crs.py:53: FutureWarning: '+init=<authority>:<code>' syntax is deprecated. '<authority>:<code>' is the preferred initialization method. When making the change, be mindful of axis order changes: https://pyproj4.github.io/pyproj/stable/gotchas.html#axis-order-changes-in-proj-6\n",
      "  return _prepare_from_string(\" \".join(pjargs))\n",
      "/home/prativa/anaconda3/envs/py36/lib/python3.6/site-packages/pyproj/crs/crs.py:53: FutureWarning: '+init=<authority>:<code>' syntax is deprecated. '<authority>:<code>' is the preferred initialization method. When making the change, be mindful of axis order changes: https://pyproj4.github.io/pyproj/stable/gotchas.html#axis-order-changes-in-proj-6\n",
      "  return _prepare_from_string(\" \".join(pjargs))\n",
      "/home/prativa/anaconda3/envs/py36/lib/python3.6/site-packages/pyproj/crs/crs.py:53: FutureWarning: '+init=<authority>:<code>' syntax is deprecated. '<authority>:<code>' is the preferred initialization method. When making the change, be mindful of axis order changes: https://pyproj4.github.io/pyproj/stable/gotchas.html#axis-order-changes-in-proj-6\n",
      "  return _prepare_from_string(\" \".join(pjargs))\n"
     ]
    },
    {
     "name": "stdout",
     "output_type": "stream",
     "text": [
      "OpenCV(4.1.0) /io/opencv/modules/imgproc/src/color.cpp:182: error: (-215:Assertion failed) !_src.empty() in function 'cvtColor'\n",
      "OpenCV(4.1.0) /io/opencv/modules/imgproc/src/color.cpp:182: error: (-215:Assertion failed) !_src.empty() in function 'cvtColor'\n",
      "\n",
      "OpenCV(4.1.0) /io/opencv/modules/imgproc/src/color.cpp:182: error: (-215:Assertion failed) !_src.empty() in function 'cvtColor'\n",
      "\n"
     ]
    },
    {
     "name": "stderr",
     "output_type": "stream",
     "text": [
      "\n",
      "\n",
      "\n",
      "  6%|▌         | 31/550 [00:04<03:21,  2.57it/s]\u001b[A\u001b[A\u001b[A"
     ]
    },
    {
     "name": "stdout",
     "output_type": "stream",
     "text": [
      "OpenCV(4.1.0) /io/opencv/modules/imgproc/src/color.cpp:182: error: (-215:Assertion failed) !_src.empty() in function 'cvtColor'\n",
      "\n",
      "\n",
      "OpenCV(4.1.0) /io/opencv/modules/imgproc/src/color.cpp:182: error: (-215:Assertion failed) !_src.empty() in function 'cvtColor'\n",
      "\n",
      "OpenCV(4.1.0) /io/opencv/modules/imgproc/src/color.cpp:182: error: (-215:Assertion failed) !_src.empty() in function 'cvtColor'\n",
      "\n",
      "OpenCV(4.1.0) /io/opencv/modules/imgproc/src/color.cpp:182: error: (-215:Assertion failed) !_src.empty() in function 'cvtColor'\n"
     ]
    },
    {
     "name": "stderr",
     "output_type": "stream",
     "text": [
      "\n",
      "\n",
      "\n",
      "  6%|▌         | 33/550 [00:04<02:30,  3.43it/s]\u001b[A\u001b[A\u001b[A"
     ]
    },
    {
     "name": "stdout",
     "output_type": "stream",
     "text": [
      "\n",
      "OpenCV(4.1.0) /io/opencv/modules/imgproc/src/color.cpp:182: error: (-215:Assertion failed) !_src.empty() in function 'cvtColor'\n",
      "\n"
     ]
    },
    {
     "name": "stderr",
     "output_type": "stream",
     "text": [
      "/home/prativa/anaconda3/envs/py36/lib/python3.6/site-packages/pyproj/crs/crs.py:53: FutureWarning: '+init=<authority>:<code>' syntax is deprecated. '<authority>:<code>' is the preferred initialization method. When making the change, be mindful of axis order changes: https://pyproj4.github.io/pyproj/stable/gotchas.html#axis-order-changes-in-proj-6\n",
      "  return _prepare_from_string(\" \".join(pjargs))\n",
      "/home/prativa/anaconda3/envs/py36/lib/python3.6/site-packages/pyproj/crs/crs.py:53: FutureWarning: '+init=<authority>:<code>' syntax is deprecated. '<authority>:<code>' is the preferred initialization method. When making the change, be mindful of axis order changes: https://pyproj4.github.io/pyproj/stable/gotchas.html#axis-order-changes-in-proj-6\n",
      "  return _prepare_from_string(\" \".join(pjargs))\n"
     ]
    },
    {
     "name": "stdout",
     "output_type": "stream",
     "text": [
      "data/AOI_3_Paris_Roads_Train/geojson/spacenetroads/SN3_roads_train_AOI_3_Paris_geojson_roads_img7.geojson: No such file or directory\n",
      "OpenCV(4.1.0) /io/opencv/modules/imgproc/src/color.cpp:182: error: (-215:Assertion failed) !_src.empty() in function 'cvtColor'\n",
      "\n"
     ]
    },
    {
     "name": "stderr",
     "output_type": "stream",
     "text": [
      "/home/prativa/anaconda3/envs/py36/lib/python3.6/site-packages/pyproj/crs/crs.py:53: FutureWarning: '+init=<authority>:<code>' syntax is deprecated. '<authority>:<code>' is the preferred initialization method. When making the change, be mindful of axis order changes: https://pyproj4.github.io/pyproj/stable/gotchas.html#axis-order-changes-in-proj-6\n",
      "  return _prepare_from_string(\" \".join(pjargs))\n",
      "/home/prativa/anaconda3/envs/py36/lib/python3.6/site-packages/pyproj/crs/crs.py:53: FutureWarning: '+init=<authority>:<code>' syntax is deprecated. '<authority>:<code>' is the preferred initialization method. When making the change, be mindful of axis order changes: https://pyproj4.github.io/pyproj/stable/gotchas.html#axis-order-changes-in-proj-6\n",
      "  return _prepare_from_string(\" \".join(pjargs))\n"
     ]
    },
    {
     "name": "stdout",
     "output_type": "stream",
     "text": [
      "OpenCV(4.1.0) /io/opencv/modules/imgproc/src/color.cpp:182: error: (-215:Assertion failed) !_src.empty() in function 'cvtColor'\n",
      "\n"
     ]
    },
    {
     "name": "stderr",
     "output_type": "stream",
     "text": [
      "/home/prativa/anaconda3/envs/py36/lib/python3.6/site-packages/pyproj/crs/crs.py:53: FutureWarning: '+init=<authority>:<code>' syntax is deprecated. '<authority>:<code>' is the preferred initialization method. When making the change, be mindful of axis order changes: https://pyproj4.github.io/pyproj/stable/gotchas.html#axis-order-changes-in-proj-6\n",
      "  return _prepare_from_string(\" \".join(pjargs))\n",
      "\n",
      "\n",
      "\n",
      "  7%|▋         | 40/550 [00:05<01:48,  4.71it/s]"
     ]
    },
    {
     "name": "stdout",
     "output_type": "stream",
     "text": [
      "data/AOI_3_Paris_Roads_Train/geojson/spacenetroads/SN3_roads_train_AOI_3_Paris_geojson_roads_img77.geojson: No such file or directory\n"
     ]
    },
    {
     "name": "stderr",
     "output_type": "stream",
     "text": [
      "\u001b[A\u001b[A\u001b[A/home/prativa/anaconda3/envs/py36/lib/python3.6/site-packages/pyproj/crs/crs.py:53: FutureWarning: '+init=<authority>:<code>' syntax is deprecated. '<authority>:<code>' is the preferred initialization method. When making the change, be mindful of axis order changes: https://pyproj4.github.io/pyproj/stable/gotchas.html#axis-order-changes-in-proj-6\n",
      "  return _prepare_from_string(\" \".join(pjargs))\n",
      "/home/prativa/anaconda3/envs/py36/lib/python3.6/site-packages/pyproj/crs/crs.py:53: FutureWarning: '+init=<authority>:<code>' syntax is deprecated. '<authority>:<code>' is the preferred initialization method. When making the change, be mindful of axis order changes: https://pyproj4.github.io/pyproj/stable/gotchas.html#axis-order-changes-in-proj-6\n",
      "  return _prepare_from_string(\" \".join(pjargs))\n",
      "/home/prativa/anaconda3/envs/py36/lib/python3.6/site-packages/pyproj/crs/crs.py:53: FutureWarning: '+init=<authority>:<code>' syntax is deprecated. '<authority>:<code>' is the preferred initialization method. When making the change, be mindful of axis order changes: https://pyproj4.github.io/pyproj/stable/gotchas.html#axis-order-changes-in-proj-6\n",
      "  return _prepare_from_string(\" \".join(pjargs))\n",
      "/home/prativa/anaconda3/envs/py36/lib/python3.6/site-packages/pyproj/crs/crs.py:53: FutureWarning: '+init=<authority>:<code>' syntax is deprecated. '<authority>:<code>' is the preferred initialization method. When making the change, be mindful of axis order changes: https://pyproj4.github.io/pyproj/stable/gotchas.html#axis-order-changes-in-proj-6\n",
      "  return _prepare_from_string(\" \".join(pjargs))\n",
      "/home/prativa/anaconda3/envs/py36/lib/python3.6/site-packages/pyproj/crs/crs.py:53: FutureWarning: '+init=<authority>:<code>' syntax is deprecated. '<authority>:<code>' is the preferred initialization method. When making the change, be mindful of axis order changes: https://pyproj4.github.io/pyproj/stable/gotchas.html#axis-order-changes-in-proj-6\n",
      "  return _prepare_from_string(\" \".join(pjargs))\n",
      "/home/prativa/anaconda3/envs/py36/lib/python3.6/site-packages/pyproj/crs/crs.py:53: FutureWarning: '+init=<authority>:<code>' syntax is deprecated. '<authority>:<code>' is the preferred initialization method. When making the change, be mindful of axis order changes: https://pyproj4.github.io/pyproj/stable/gotchas.html#axis-order-changes-in-proj-6\n",
      "  return _prepare_from_string(\" \".join(pjargs))\n",
      "/home/prativa/anaconda3/envs/py36/lib/python3.6/site-packages/pyproj/crs/crs.py:53: FutureWarning: '+init=<authority>:<code>' syntax is deprecated. '<authority>:<code>' is the preferred initialization method. When making the change, be mindful of axis order changes: https://pyproj4.github.io/pyproj/stable/gotchas.html#axis-order-changes-in-proj-6\n",
      "  return _prepare_from_string(\" \".join(pjargs))\n",
      "/home/prativa/anaconda3/envs/py36/lib/python3.6/site-packages/pyproj/crs/crs.py:53: FutureWarning: '+init=<authority>:<code>' syntax is deprecated. '<authority>:<code>' is the preferred initialization method. When making the change, be mindful of axis order changes: https://pyproj4.github.io/pyproj/stable/gotchas.html#axis-order-changes-in-proj-6\n",
      "  return _prepare_from_string(\" \".join(pjargs))\n",
      "/home/prativa/anaconda3/envs/py36/lib/python3.6/site-packages/pyproj/crs/crs.py:53: FutureWarning: '+init=<authority>:<code>' syntax is deprecated. '<authority>:<code>' is the preferred initialization method. When making the change, be mindful of axis order changes: https://pyproj4.github.io/pyproj/stable/gotchas.html#axis-order-changes-in-proj-6\n",
      "  return _prepare_from_string(\" \".join(pjargs))\n",
      "/home/prativa/anaconda3/envs/py36/lib/python3.6/site-packages/pyproj/crs/crs.py:53: FutureWarning: '+init=<authority>:<code>' syntax is deprecated. '<authority>:<code>' is the preferred initialization method. When making the change, be mindful of axis order changes: https://pyproj4.github.io/pyproj/stable/gotchas.html#axis-order-changes-in-proj-6\n",
      "  return _prepare_from_string(\" \".join(pjargs))\n",
      "/home/prativa/anaconda3/envs/py36/lib/python3.6/site-packages/pyproj/crs/crs.py:53: FutureWarning: '+init=<authority>:<code>' syntax is deprecated. '<authority>:<code>' is the preferred initialization method. When making the change, be mindful of axis order changes: https://pyproj4.github.io/pyproj/stable/gotchas.html#axis-order-changes-in-proj-6\n",
      "  return _prepare_from_string(\" \".join(pjargs))\n"
     ]
    },
    {
     "name": "stdout",
     "output_type": "stream",
     "text": [
      "OpenCV(4.1.0) /io/opencv/modules/imgproc/src/color.cpp:182: error: (-215:Assertion failed) !_src.empty() in function 'cvtColor'\n",
      "OpenCV(4.1.0) /io/opencv/modules/imgproc/src/color.cpp:182: error: (-215:Assertion failed) !_src.empty() in function 'cvtColor'\n",
      "\n",
      "OpenCV(4.1.0) /io/opencv/modules/imgproc/src/color.cpp:182: error: (-215:Assertion failed) !_src.empty() in function 'cvtColor'\n",
      "\n",
      "\n"
     ]
    },
    {
     "name": "stderr",
     "output_type": "stream",
     "text": [
      "\n",
      "\n",
      "\n",
      "  8%|▊         | 42/550 [00:05<01:58,  4.30it/s]\u001b[A\u001b[A\u001b[A"
     ]
    },
    {
     "name": "stdout",
     "output_type": "stream",
     "text": [
      "OpenCV(4.1.0) /io/opencv/modules/imgproc/src/color.cpp:182: error: (-215:Assertion failed) !_src.empty() in function 'cvtColor'\n",
      "\n",
      "OpenCV(4.1.0) /io/opencv/modules/imgproc/src/color.cpp:182: error: (-215:Assertion failed) !_src.empty() in function 'cvtColor'\n",
      "\n"
     ]
    },
    {
     "name": "stderr",
     "output_type": "stream",
     "text": [
      "\n",
      "\n",
      "\n",
      "  8%|▊         | 45/550 [00:05<01:31,  5.54it/s]\u001b[A\u001b[A\u001b[A"
     ]
    },
    {
     "name": "stdout",
     "output_type": "stream",
     "text": [
      "OpenCV(4.1.0) /io/opencv/modules/imgproc/src/color.cpp:182: error: (-215:Assertion failed) !_src.empty() in function 'cvtColor'\n",
      "\n",
      "OpenCV(4.1.0) /io/opencv/modules/imgproc/src/color.cpp:182: error: (-215:Assertion failed) !_src.empty() in function 'cvtColor'\n",
      "OpenCV(4.1.0) /io/opencv/modules/imgproc/src/color.cpp:182: error: (-215:Assertion failed) !_src.empty() in function 'cvtColor'\n",
      "\n",
      "\n"
     ]
    },
    {
     "name": "stderr",
     "output_type": "stream",
     "text": [
      "/home/prativa/anaconda3/envs/py36/lib/python3.6/site-packages/pyproj/crs/crs.py:53: FutureWarning: '+init=<authority>:<code>' syntax is deprecated. '<authority>:<code>' is the preferred initialization method. When making the change, be mindful of axis order changes: https://pyproj4.github.io/pyproj/stable/gotchas.html#axis-order-changes-in-proj-6\n",
      "  return _prepare_from_string(\" \".join(pjargs))\n",
      "/home/prativa/anaconda3/envs/py36/lib/python3.6/site-packages/pyproj/crs/crs.py:53: FutureWarning: '+init=<authority>:<code>' syntax is deprecated. '<authority>:<code>' is the preferred initialization method. When making the change, be mindful of axis order changes: https://pyproj4.github.io/pyproj/stable/gotchas.html#axis-order-changes-in-proj-6\n",
      "  return _prepare_from_string(\" \".join(pjargs))\n",
      "/home/prativa/anaconda3/envs/py36/lib/python3.6/site-packages/pyproj/crs/crs.py:53: FutureWarning: '+init=<authority>:<code>' syntax is deprecated. '<authority>:<code>' is the preferred initialization method. When making the change, be mindful of axis order changes: https://pyproj4.github.io/pyproj/stable/gotchas.html#axis-order-changes-in-proj-6\n",
      "  return _prepare_from_string(\" \".join(pjargs))\n",
      "/home/prativa/anaconda3/envs/py36/lib/python3.6/site-packages/pyproj/crs/crs.py:53: FutureWarning: '+init=<authority>:<code>' syntax is deprecated. '<authority>:<code>' is the preferred initialization method. When making the change, be mindful of axis order changes: https://pyproj4.github.io/pyproj/stable/gotchas.html#axis-order-changes-in-proj-6\n",
      "  return _prepare_from_string(\" \".join(pjargs))\n",
      "/home/prativa/anaconda3/envs/py36/lib/python3.6/site-packages/pyproj/crs/crs.py:53: FutureWarning: '+init=<authority>:<code>' syntax is deprecated. '<authority>:<code>' is the preferred initialization method. When making the change, be mindful of axis order changes: https://pyproj4.github.io/pyproj/stable/gotchas.html#axis-order-changes-in-proj-6\n",
      "  return _prepare_from_string(\" \".join(pjargs))\n",
      "/home/prativa/anaconda3/envs/py36/lib/python3.6/site-packages/pyproj/crs/crs.py:53: FutureWarning: '+init=<authority>:<code>' syntax is deprecated. '<authority>:<code>' is the preferred initialization method. When making the change, be mindful of axis order changes: https://pyproj4.github.io/pyproj/stable/gotchas.html#axis-order-changes-in-proj-6\n",
      "  return _prepare_from_string(\" \".join(pjargs))\n"
     ]
    },
    {
     "name": "stdout",
     "output_type": "stream",
     "text": [
      "OpenCV(4.1.0) /io/opencv/modules/imgproc/src/color.cpp:182: error: (-215:Assertion failed) !_src.empty() in function 'cvtColor'\n",
      "\n",
      "OpenCV(4.1.0) /io/opencv/modules/imgproc/src/color.cpp:182: error: (-215:Assertion failed) !_src.empty() in function 'cvtColor'\n",
      "\n"
     ]
    },
    {
     "name": "stderr",
     "output_type": "stream",
     "text": [
      "\n",
      "\n",
      "\n",
      "  9%|▉         | 51/550 [00:06<01:26,  5.78it/s]\u001b[A\u001b[A\u001b[A/home/prativa/anaconda3/envs/py36/lib/python3.6/site-packages/pyproj/crs/crs.py:53: FutureWarning: '+init=<authority>:<code>' syntax is deprecated. '<authority>:<code>' is the preferred initialization method. When making the change, be mindful of axis order changes: https://pyproj4.github.io/pyproj/stable/gotchas.html#axis-order-changes-in-proj-6\n",
      "  return _prepare_from_string(\" \".join(pjargs))\n",
      "/home/prativa/anaconda3/envs/py36/lib/python3.6/site-packages/pyproj/crs/crs.py:53: FutureWarning: '+init=<authority>:<code>' syntax is deprecated. '<authority>:<code>' is the preferred initialization method. When making the change, be mindful of axis order changes: https://pyproj4.github.io/pyproj/stable/gotchas.html#axis-order-changes-in-proj-6\n",
      "  return _prepare_from_string(\" \".join(pjargs))\n",
      "/home/prativa/anaconda3/envs/py36/lib/python3.6/site-packages/pyproj/crs/crs.py:53: FutureWarning: '+init=<authority>:<code>' syntax is deprecated. '<authority>:<code>' is the preferred initialization method. When making the change, be mindful of axis order changes: https://pyproj4.github.io/pyproj/stable/gotchas.html#axis-order-changes-in-proj-6\n",
      "  return _prepare_from_string(\" \".join(pjargs))\n",
      "/home/prativa/anaconda3/envs/py36/lib/python3.6/site-packages/pyproj/crs/crs.py:53: FutureWarning: '+init=<authority>:<code>' syntax is deprecated. '<authority>:<code>' is the preferred initialization method. When making the change, be mindful of axis order changes: https://pyproj4.github.io/pyproj/stable/gotchas.html#axis-order-changes-in-proj-6\n",
      "  return _prepare_from_string(\" \".join(pjargs))\n",
      "/home/prativa/anaconda3/envs/py36/lib/python3.6/site-packages/pyproj/crs/crs.py:53: FutureWarning: '+init=<authority>:<code>' syntax is deprecated. '<authority>:<code>' is the preferred initialization method. When making the change, be mindful of axis order changes: https://pyproj4.github.io/pyproj/stable/gotchas.html#axis-order-changes-in-proj-6\n",
      "  return _prepare_from_string(\" \".join(pjargs))\n",
      "/home/prativa/anaconda3/envs/py36/lib/python3.6/site-packages/pyproj/crs/crs.py:53: FutureWarning: '+init=<authority>:<code>' syntax is deprecated. '<authority>:<code>' is the preferred initialization method. When making the change, be mindful of axis order changes: https://pyproj4.github.io/pyproj/stable/gotchas.html#axis-order-changes-in-proj-6\n",
      "  return _prepare_from_string(\" \".join(pjargs))\n",
      "/home/prativa/anaconda3/envs/py36/lib/python3.6/site-packages/pyproj/crs/crs.py:53: FutureWarning: '+init=<authority>:<code>' syntax is deprecated. '<authority>:<code>' is the preferred initialization method. When making the change, be mindful of axis order changes: https://pyproj4.github.io/pyproj/stable/gotchas.html#axis-order-changes-in-proj-6\n",
      "  return _prepare_from_string(\" \".join(pjargs))\n",
      "/home/prativa/anaconda3/envs/py36/lib/python3.6/site-packages/pyproj/crs/crs.py:53: FutureWarning: '+init=<authority>:<code>' syntax is deprecated. '<authority>:<code>' is the preferred initialization method. When making the change, be mindful of axis order changes: https://pyproj4.github.io/pyproj/stable/gotchas.html#axis-order-changes-in-proj-6\n",
      "  return _prepare_from_string(\" \".join(pjargs))\n",
      "/home/prativa/anaconda3/envs/py36/lib/python3.6/site-packages/pyproj/crs/crs.py:53: FutureWarning: '+init=<authority>:<code>' syntax is deprecated. '<authority>:<code>' is the preferred initialization method. When making the change, be mindful of axis order changes: https://pyproj4.github.io/pyproj/stable/gotchas.html#axis-order-changes-in-proj-6\n",
      "  return _prepare_from_string(\" \".join(pjargs))\n",
      "/home/prativa/anaconda3/envs/py36/lib/python3.6/site-packages/pyproj/crs/crs.py:53: FutureWarning: '+init=<authority>:<code>' syntax is deprecated. '<authority>:<code>' is the preferred initialization method. When making the change, be mindful of axis order changes: https://pyproj4.github.io/pyproj/stable/gotchas.html#axis-order-changes-in-proj-6\n",
      "  return _prepare_from_string(\" \".join(pjargs))\n"
     ]
    },
    {
     "name": "stdout",
     "output_type": "stream",
     "text": [
      "OpenCV(4.1.0) /io/opencv/modules/imgproc/src/color.cpp:182: error: (-215:Assertion failed) !_src.empty() in function 'cvtColor'\n",
      "\n",
      "OpenCV(4.1.0) /io/opencv/modules/imgproc/src/color.cpp:182: error: (-215:Assertion failed) !_src.empty() in function 'cvtColor'\n",
      "\n"
     ]
    },
    {
     "name": "stderr",
     "output_type": "stream",
     "text": [
      "\n",
      "\n",
      "\n",
      " 10%|▉         | 53/550 [00:07<01:41,  4.92it/s]\u001b[A\u001b[A\u001b[A/home/prativa/anaconda3/envs/py36/lib/python3.6/site-packages/pyproj/crs/crs.py:53: FutureWarning: '+init=<authority>:<code>' syntax is deprecated. '<authority>:<code>' is the preferred initialization method. When making the change, be mindful of axis order changes: https://pyproj4.github.io/pyproj/stable/gotchas.html#axis-order-changes-in-proj-6\n",
      "  return _prepare_from_string(\" \".join(pjargs))\n",
      "/home/prativa/anaconda3/envs/py36/lib/python3.6/site-packages/pyproj/crs/crs.py:53: FutureWarning: '+init=<authority>:<code>' syntax is deprecated. '<authority>:<code>' is the preferred initialization method. When making the change, be mindful of axis order changes: https://pyproj4.github.io/pyproj/stable/gotchas.html#axis-order-changes-in-proj-6\n",
      "  return _prepare_from_string(\" \".join(pjargs))\n",
      "/home/prativa/anaconda3/envs/py36/lib/python3.6/site-packages/pyproj/crs/crs.py:53: FutureWarning: '+init=<authority>:<code>' syntax is deprecated. '<authority>:<code>' is the preferred initialization method. When making the change, be mindful of axis order changes: https://pyproj4.github.io/pyproj/stable/gotchas.html#axis-order-changes-in-proj-6\n",
      "  return _prepare_from_string(\" \".join(pjargs))\n"
     ]
    },
    {
     "name": "stdout",
     "output_type": "stream",
     "text": [
      "OpenCV(4.1.0) /io/opencv/modules/imgproc/src/color.cpp:182: error: (-215:Assertion failed) !_src.empty() in function 'cvtColor'\n",
      "\n",
      "OpenCV(4.1.0) /io/opencv/modules/imgproc/src/color.cpp:182: error: (-215:Assertion failed) !_src.empty() in function 'cvtColor'\n",
      "\n"
     ]
    },
    {
     "name": "stderr",
     "output_type": "stream",
     "text": [
      "\n",
      "\n",
      "\n",
      " 10%|▉         | 54/550 [00:07<01:45,  4.68it/s]\u001b[A\u001b[A\u001b[A/home/prativa/anaconda3/envs/py36/lib/python3.6/site-packages/pyproj/crs/crs.py:53: FutureWarning: '+init=<authority>:<code>' syntax is deprecated. '<authority>:<code>' is the preferred initialization method. When making the change, be mindful of axis order changes: https://pyproj4.github.io/pyproj/stable/gotchas.html#axis-order-changes-in-proj-6\n",
      "  return _prepare_from_string(\" \".join(pjargs))\n",
      "/home/prativa/anaconda3/envs/py36/lib/python3.6/site-packages/pyproj/crs/crs.py:53: FutureWarning: '+init=<authority>:<code>' syntax is deprecated. '<authority>:<code>' is the preferred initialization method. When making the change, be mindful of axis order changes: https://pyproj4.github.io/pyproj/stable/gotchas.html#axis-order-changes-in-proj-6\n",
      "  return _prepare_from_string(\" \".join(pjargs))\n"
     ]
    },
    {
     "name": "stdout",
     "output_type": "stream",
     "text": [
      "OpenCV(4.1.0) /io/opencv/modules/imgproc/src/color.cpp:182: error: (-215:Assertion failed) !_src.empty() in function 'cvtColor'\n"
     ]
    },
    {
     "name": "stderr",
     "output_type": "stream",
     "text": [
      "/home/prativa/anaconda3/envs/py36/lib/python3.6/site-packages/pyproj/crs/crs.py:53: FutureWarning: '+init=<authority>:<code>' syntax is deprecated. '<authority>:<code>' is the preferred initialization method. When making the change, be mindful of axis order changes: https://pyproj4.github.io/pyproj/stable/gotchas.html#axis-order-changes-in-proj-6\n",
      "  return _prepare_from_string(\" \".join(pjargs))\n"
     ]
    },
    {
     "name": "stdout",
     "output_type": "stream",
     "text": [
      "\n",
      "OpenCV(4.1.0) /io/opencv/modules/imgproc/src/color.cpp:182: error: (-215:Assertion failed) !_src.empty() in function 'cvtColor'\n",
      "\n",
      "OpenCV(4.1.0) /io/opencv/modules/imgproc/src/color.cpp:182: error: (-215:Assertion failed) !_src.empty() in function 'cvtColor'\n"
     ]
    },
    {
     "name": "stderr",
     "output_type": "stream",
     "text": [
      "/home/prativa/anaconda3/envs/py36/lib/python3.6/site-packages/pyproj/crs/crs.py:53: FutureWarning: '+init=<authority>:<code>' syntax is deprecated. '<authority>:<code>' is the preferred initialization method. When making the change, be mindful of axis order changes: https://pyproj4.github.io/pyproj/stable/gotchas.html#axis-order-changes-in-proj-6\n",
      "  return _prepare_from_string(\" \".join(pjargs))\n"
     ]
    },
    {
     "name": "stdout",
     "output_type": "stream",
     "text": [
      "\n",
      "OpenCV(4.1.0) /io/opencv/modules/imgproc/src/color.cpp:182: error: (-215:Assertion failed) !_src.empty() in function 'cvtColor'\n",
      "\n"
     ]
    },
    {
     "name": "stderr",
     "output_type": "stream",
     "text": [
      "\n",
      "\n",
      "\n",
      " 10%|█         | 56/550 [00:07<01:42,  4.82it/s]\u001b[A\u001b[A\u001b[A/home/prativa/anaconda3/envs/py36/lib/python3.6/site-packages/pyproj/crs/crs.py:53: FutureWarning: '+init=<authority>:<code>' syntax is deprecated. '<authority>:<code>' is the preferred initialization method. When making the change, be mindful of axis order changes: https://pyproj4.github.io/pyproj/stable/gotchas.html#axis-order-changes-in-proj-6\n",
      "  return _prepare_from_string(\" \".join(pjargs))\n",
      "/home/prativa/anaconda3/envs/py36/lib/python3.6/site-packages/pyproj/crs/crs.py:53: FutureWarning: '+init=<authority>:<code>' syntax is deprecated. '<authority>:<code>' is the preferred initialization method. When making the change, be mindful of axis order changes: https://pyproj4.github.io/pyproj/stable/gotchas.html#axis-order-changes-in-proj-6\n",
      "  return _prepare_from_string(\" \".join(pjargs))\n",
      "/home/prativa/anaconda3/envs/py36/lib/python3.6/site-packages/pyproj/crs/crs.py:53: FutureWarning: '+init=<authority>:<code>' syntax is deprecated. '<authority>:<code>' is the preferred initialization method. When making the change, be mindful of axis order changes: https://pyproj4.github.io/pyproj/stable/gotchas.html#axis-order-changes-in-proj-6\n",
      "  return _prepare_from_string(\" \".join(pjargs))\n",
      "/home/prativa/anaconda3/envs/py36/lib/python3.6/site-packages/pyproj/crs/crs.py:53: FutureWarning: '+init=<authority>:<code>' syntax is deprecated. '<authority>:<code>' is the preferred initialization method. When making the change, be mindful of axis order changes: https://pyproj4.github.io/pyproj/stable/gotchas.html#axis-order-changes-in-proj-6\n",
      "  return _prepare_from_string(\" \".join(pjargs))\n"
     ]
    },
    {
     "name": "stdout",
     "output_type": "stream",
     "text": [
      "OpenCV(4.1.0) /io/opencv/modules/imgproc/src/color.cpp:182: error: (-215:Assertion failed) !_src.empty() in function 'cvtColor'\n"
     ]
    },
    {
     "name": "stderr",
     "output_type": "stream",
     "text": [
      "/home/prativa/anaconda3/envs/py36/lib/python3.6/site-packages/pyproj/crs/crs.py:53: FutureWarning: '+init=<authority>:<code>' syntax is deprecated. '<authority>:<code>' is the preferred initialization method. When making the change, be mindful of axis order changes: https://pyproj4.github.io/pyproj/stable/gotchas.html#axis-order-changes-in-proj-6\n",
      "  return _prepare_from_string(\" \".join(pjargs))\n"
     ]
    },
    {
     "name": "stdout",
     "output_type": "stream",
     "text": [
      "\n"
     ]
    },
    {
     "name": "stderr",
     "output_type": "stream",
     "text": [
      "\n",
      "\n",
      "\n",
      " 11%|█         | 61/550 [00:08<01:23,  5.89it/s]\u001b[A\u001b[A\u001b[A/home/prativa/anaconda3/envs/py36/lib/python3.6/site-packages/pyproj/crs/crs.py:53: FutureWarning: '+init=<authority>:<code>' syntax is deprecated. '<authority>:<code>' is the preferred initialization method. When making the change, be mindful of axis order changes: https://pyproj4.github.io/pyproj/stable/gotchas.html#axis-order-changes-in-proj-6\n",
      "  return _prepare_from_string(\" \".join(pjargs))\n",
      "/home/prativa/anaconda3/envs/py36/lib/python3.6/site-packages/pyproj/crs/crs.py:53: FutureWarning: '+init=<authority>:<code>' syntax is deprecated. '<authority>:<code>' is the preferred initialization method. When making the change, be mindful of axis order changes: https://pyproj4.github.io/pyproj/stable/gotchas.html#axis-order-changes-in-proj-6\n",
      "  return _prepare_from_string(\" \".join(pjargs))\n"
     ]
    },
    {
     "name": "stdout",
     "output_type": "stream",
     "text": [
      "OpenCV(4.1.0) /io/opencv/modules/imgproc/src/color.cpp:182: error: (-215:Assertion failed) !_src.empty() in function 'cvtColor'\n",
      "\n"
     ]
    },
    {
     "name": "stderr",
     "output_type": "stream",
     "text": [
      "\n",
      "\n",
      "\n",
      " 11%|█▏        | 62/550 [00:08<01:21,  6.02it/s]\u001b[A\u001b[A\u001b[A/home/prativa/anaconda3/envs/py36/lib/python3.6/site-packages/pyproj/crs/crs.py:53: FutureWarning: '+init=<authority>:<code>' syntax is deprecated. '<authority>:<code>' is the preferred initialization method. When making the change, be mindful of axis order changes: https://pyproj4.github.io/pyproj/stable/gotchas.html#axis-order-changes-in-proj-6\n",
      "  return _prepare_from_string(\" \".join(pjargs))\n"
     ]
    },
    {
     "name": "stdout",
     "output_type": "stream",
     "text": [
      "OpenCV(4.1.0) /io/opencv/modules/imgproc/src/color.cpp:182: error: (-215:Assertion failed) !_src.empty() in function 'cvtColor'\n",
      "\n"
     ]
    },
    {
     "name": "stderr",
     "output_type": "stream",
     "text": [
      "\n",
      "\n",
      "\n",
      " 11%|█▏        | 63/550 [00:08<01:11,  6.77it/s]\u001b[A\u001b[A\u001b[A/home/prativa/anaconda3/envs/py36/lib/python3.6/site-packages/pyproj/crs/crs.py:53: FutureWarning: '+init=<authority>:<code>' syntax is deprecated. '<authority>:<code>' is the preferred initialization method. When making the change, be mindful of axis order changes: https://pyproj4.github.io/pyproj/stable/gotchas.html#axis-order-changes-in-proj-6\n",
      "  return _prepare_from_string(\" \".join(pjargs))\n",
      "/home/prativa/anaconda3/envs/py36/lib/python3.6/site-packages/pyproj/crs/crs.py:53: FutureWarning: '+init=<authority>:<code>' syntax is deprecated. '<authority>:<code>' is the preferred initialization method. When making the change, be mindful of axis order changes: https://pyproj4.github.io/pyproj/stable/gotchas.html#axis-order-changes-in-proj-6\n",
      "  return _prepare_from_string(\" \".join(pjargs))\n",
      "/home/prativa/anaconda3/envs/py36/lib/python3.6/site-packages/pyproj/crs/crs.py:53: FutureWarning: '+init=<authority>:<code>' syntax is deprecated. '<authority>:<code>' is the preferred initialization method. When making the change, be mindful of axis order changes: https://pyproj4.github.io/pyproj/stable/gotchas.html#axis-order-changes-in-proj-6\n",
      "  return _prepare_from_string(\" \".join(pjargs))\n",
      "/home/prativa/anaconda3/envs/py36/lib/python3.6/site-packages/pyproj/crs/crs.py:53: FutureWarning: '+init=<authority>:<code>' syntax is deprecated. '<authority>:<code>' is the preferred initialization method. When making the change, be mindful of axis order changes: https://pyproj4.github.io/pyproj/stable/gotchas.html#axis-order-changes-in-proj-6\n",
      "  return _prepare_from_string(\" \".join(pjargs))\n"
     ]
    },
    {
     "name": "stdout",
     "output_type": "stream",
     "text": [
      "OpenCV(4.1.0) /io/opencv/modules/imgproc/src/color.cpp:182: error: (-215:Assertion failed) !_src.empty() in function 'cvtColor'\n",
      "\n"
     ]
    },
    {
     "name": "stderr",
     "output_type": "stream",
     "text": [
      "\n",
      "\n",
      "\n",
      " 12%|█▏        | 64/550 [00:08<01:25,  5.69it/s]\u001b[A\u001b[A\u001b[A/home/prativa/anaconda3/envs/py36/lib/python3.6/site-packages/pyproj/crs/crs.py:53: FutureWarning: '+init=<authority>:<code>' syntax is deprecated. '<authority>:<code>' is the preferred initialization method. When making the change, be mindful of axis order changes: https://pyproj4.github.io/pyproj/stable/gotchas.html#axis-order-changes-in-proj-6\n",
      "  return _prepare_from_string(\" \".join(pjargs))\n",
      "/home/prativa/anaconda3/envs/py36/lib/python3.6/site-packages/pyproj/crs/crs.py:53: FutureWarning: '+init=<authority>:<code>' syntax is deprecated. '<authority>:<code>' is the preferred initialization method. When making the change, be mindful of axis order changes: https://pyproj4.github.io/pyproj/stable/gotchas.html#axis-order-changes-in-proj-6\n",
      "  return _prepare_from_string(\" \".join(pjargs))\n"
     ]
    },
    {
     "name": "stdout",
     "output_type": "stream",
     "text": [
      "OpenCV(4.1.0) /io/opencv/modules/imgproc/src/color.cpp:182: error: (-215:Assertion failed) !_src.empty() in function 'cvtColor'\n"
     ]
    },
    {
     "name": "stderr",
     "output_type": "stream",
     "text": [
      "/home/prativa/anaconda3/envs/py36/lib/python3.6/site-packages/pyproj/crs/crs.py:53: FutureWarning: '+init=<authority>:<code>' syntax is deprecated. '<authority>:<code>' is the preferred initialization method. When making the change, be mindful of axis order changes: https://pyproj4.github.io/pyproj/stable/gotchas.html#axis-order-changes-in-proj-6\n",
      "  return _prepare_from_string(\" \".join(pjargs))\n"
     ]
    },
    {
     "name": "stdout",
     "output_type": "stream",
     "text": [
      "\n"
     ]
    },
    {
     "name": "stderr",
     "output_type": "stream",
     "text": [
      "\n",
      "\n",
      "\n",
      " 12%|█▏        | 65/550 [00:08<01:16,  6.36it/s]\u001b[A\u001b[A\u001b[A/home/prativa/anaconda3/envs/py36/lib/python3.6/site-packages/pyproj/crs/crs.py:53: FutureWarning: '+init=<authority>:<code>' syntax is deprecated. '<authority>:<code>' is the preferred initialization method. When making the change, be mindful of axis order changes: https://pyproj4.github.io/pyproj/stable/gotchas.html#axis-order-changes-in-proj-6\n",
      "  return _prepare_from_string(\" \".join(pjargs))\n",
      "/home/prativa/anaconda3/envs/py36/lib/python3.6/site-packages/pyproj/crs/crs.py:53: FutureWarning: '+init=<authority>:<code>' syntax is deprecated. '<authority>:<code>' is the preferred initialization method. When making the change, be mindful of axis order changes: https://pyproj4.github.io/pyproj/stable/gotchas.html#axis-order-changes-in-proj-6\n",
      "  return _prepare_from_string(\" \".join(pjargs))\n"
     ]
    },
    {
     "name": "stdout",
     "output_type": "stream",
     "text": [
      "OpenCV(4.1.0) /io/opencv/modules/imgproc/src/color.cpp:182: error: (-215:Assertion failed) !_src.empty() in function 'cvtColor'\n",
      "\n"
     ]
    },
    {
     "name": "stderr",
     "output_type": "stream",
     "text": [
      "/home/prativa/anaconda3/envs/py36/lib/python3.6/site-packages/pyproj/crs/crs.py:53: FutureWarning: '+init=<authority>:<code>' syntax is deprecated. '<authority>:<code>' is the preferred initialization method. When making the change, be mindful of axis order changes: https://pyproj4.github.io/pyproj/stable/gotchas.html#axis-order-changes-in-proj-6\n",
      "  return _prepare_from_string(\" \".join(pjargs))\n"
     ]
    },
    {
     "name": "stdout",
     "output_type": "stream",
     "text": [
      "OpenCV(4.1.0) /io/opencv/modules/imgproc/src/color.cpp:182: error: (-215:Assertion failed) !_src.empty() in function 'cvtColor'\n",
      "\n"
     ]
    },
    {
     "name": "stderr",
     "output_type": "stream",
     "text": [
      "\n",
      "\n",
      "\n",
      " 12%|█▏        | 66/550 [00:09<01:51,  4.35it/s]\u001b[A\u001b[A\u001b[A"
     ]
    },
    {
     "name": "stdout",
     "output_type": "stream",
     "text": [
      "OpenCV(4.1.0) /io/opencv/modules/imgproc/src/color.cpp:182: error: (-215:Assertion failed) !_src.empty() in function 'cvtColor'\n",
      "OpenCV(4.1.0) /io/opencv/modules/imgproc/src/color.cpp:182: error: (-215:Assertion failed) !_src.empty() in function 'cvtColor'\n",
      "\n",
      "\n"
     ]
    },
    {
     "name": "stderr",
     "output_type": "stream",
     "text": [
      "/home/prativa/anaconda3/envs/py36/lib/python3.6/site-packages/pyproj/crs/crs.py:53: FutureWarning: '+init=<authority>:<code>' syntax is deprecated. '<authority>:<code>' is the preferred initialization method. When making the change, be mindful of axis order changes: https://pyproj4.github.io/pyproj/stable/gotchas.html#axis-order-changes-in-proj-6\n",
      "  return _prepare_from_string(\" \".join(pjargs))\n",
      "/home/prativa/anaconda3/envs/py36/lib/python3.6/site-packages/pyproj/crs/crs.py:53: FutureWarning: '+init=<authority>:<code>' syntax is deprecated. '<authority>:<code>' is the preferred initialization method. When making the change, be mindful of axis order changes: https://pyproj4.github.io/pyproj/stable/gotchas.html#axis-order-changes-in-proj-6\n",
      "  return _prepare_from_string(\" \".join(pjargs))\n"
     ]
    },
    {
     "name": "stdout",
     "output_type": "stream",
     "text": [
      "OpenCV(4.1.0) /io/opencv/modules/imgproc/src/color.cpp:182: error: (-215:Assertion failed) !_src.empty() in function 'cvtColor'\n",
      "\n"
     ]
    },
    {
     "name": "stderr",
     "output_type": "stream",
     "text": [
      "\n",
      "\n",
      "\n",
      " 13%|█▎        | 70/550 [00:09<01:26,  5.55it/s]\u001b[A\u001b[A\u001b[A/home/prativa/anaconda3/envs/py36/lib/python3.6/site-packages/pyproj/crs/crs.py:53: FutureWarning: '+init=<authority>:<code>' syntax is deprecated. '<authority>:<code>' is the preferred initialization method. When making the change, be mindful of axis order changes: https://pyproj4.github.io/pyproj/stable/gotchas.html#axis-order-changes-in-proj-6\n",
      "  return _prepare_from_string(\" \".join(pjargs))\n",
      "/home/prativa/anaconda3/envs/py36/lib/python3.6/site-packages/pyproj/crs/crs.py:53: FutureWarning: '+init=<authority>:<code>' syntax is deprecated. '<authority>:<code>' is the preferred initialization method. When making the change, be mindful of axis order changes: https://pyproj4.github.io/pyproj/stable/gotchas.html#axis-order-changes-in-proj-6\n",
      "  return _prepare_from_string(\" \".join(pjargs))\n"
     ]
    },
    {
     "name": "stdout",
     "output_type": "stream",
     "text": [
      "OpenCV(4.1.0) /io/opencv/modules/imgproc/src/color.cpp:182: error: (-215:Assertion failed) !_src.empty() in function 'cvtColor'\n",
      "\n"
     ]
    },
    {
     "name": "stderr",
     "output_type": "stream",
     "text": [
      "\n",
      "\n",
      "\n",
      " 13%|█▎        | 71/550 [00:09<01:31,  5.24it/s]\u001b[A\u001b[A\u001b[A/home/prativa/anaconda3/envs/py36/lib/python3.6/site-packages/pyproj/crs/crs.py:53: FutureWarning: '+init=<authority>:<code>' syntax is deprecated. '<authority>:<code>' is the preferred initialization method. When making the change, be mindful of axis order changes: https://pyproj4.github.io/pyproj/stable/gotchas.html#axis-order-changes-in-proj-6\n",
      "  return _prepare_from_string(\" \".join(pjargs))\n",
      "/home/prativa/anaconda3/envs/py36/lib/python3.6/site-packages/pyproj/crs/crs.py:53: FutureWarning: '+init=<authority>:<code>' syntax is deprecated. '<authority>:<code>' is the preferred initialization method. When making the change, be mindful of axis order changes: https://pyproj4.github.io/pyproj/stable/gotchas.html#axis-order-changes-in-proj-6\n",
      "  return _prepare_from_string(\" \".join(pjargs))\n",
      "/home/prativa/anaconda3/envs/py36/lib/python3.6/site-packages/pyproj/crs/crs.py:53: FutureWarning: '+init=<authority>:<code>' syntax is deprecated. '<authority>:<code>' is the preferred initialization method. When making the change, be mindful of axis order changes: https://pyproj4.github.io/pyproj/stable/gotchas.html#axis-order-changes-in-proj-6\n",
      "  return _prepare_from_string(\" \".join(pjargs))\n",
      "/home/prativa/anaconda3/envs/py36/lib/python3.6/site-packages/pyproj/crs/crs.py:53: FutureWarning: '+init=<authority>:<code>' syntax is deprecated. '<authority>:<code>' is the preferred initialization method. When making the change, be mindful of axis order changes: https://pyproj4.github.io/pyproj/stable/gotchas.html#axis-order-changes-in-proj-6\n",
      "  return _prepare_from_string(\" \".join(pjargs))\n",
      "/home/prativa/anaconda3/envs/py36/lib/python3.6/site-packages/pyproj/crs/crs.py:53: FutureWarning: '+init=<authority>:<code>' syntax is deprecated. '<authority>:<code>' is the preferred initialization method. When making the change, be mindful of axis order changes: https://pyproj4.github.io/pyproj/stable/gotchas.html#axis-order-changes-in-proj-6\n",
      "  return _prepare_from_string(\" \".join(pjargs))\n",
      "/home/prativa/anaconda3/envs/py36/lib/python3.6/site-packages/pyproj/crs/crs.py:53: FutureWarning: '+init=<authority>:<code>' syntax is deprecated. '<authority>:<code>' is the preferred initialization method. When making the change, be mindful of axis order changes: https://pyproj4.github.io/pyproj/stable/gotchas.html#axis-order-changes-in-proj-6\n",
      "  return _prepare_from_string(\" \".join(pjargs))\n",
      "/home/prativa/anaconda3/envs/py36/lib/python3.6/site-packages/pyproj/crs/crs.py:53: FutureWarning: '+init=<authority>:<code>' syntax is deprecated. '<authority>:<code>' is the preferred initialization method. When making the change, be mindful of axis order changes: https://pyproj4.github.io/pyproj/stable/gotchas.html#axis-order-changes-in-proj-6\n",
      "  return _prepare_from_string(\" \".join(pjargs))\n"
     ]
    },
    {
     "name": "stdout",
     "output_type": "stream",
     "text": [
      "OpenCV(4.1.0) /io/opencv/modules/imgproc/src/color.cpp:182: error: (-215:Assertion failed) !_src.empty() in function 'cvtColor'\n"
     ]
    },
    {
     "name": "stderr",
     "output_type": "stream",
     "text": [
      "/home/prativa/anaconda3/envs/py36/lib/python3.6/site-packages/pyproj/crs/crs.py:53: FutureWarning: '+init=<authority>:<code>' syntax is deprecated. '<authority>:<code>' is the preferred initialization method. When making the change, be mindful of axis order changes: https://pyproj4.github.io/pyproj/stable/gotchas.html#axis-order-changes-in-proj-6\n",
      "  return _prepare_from_string(\" \".join(pjargs))\n"
     ]
    },
    {
     "name": "stdout",
     "output_type": "stream",
     "text": [
      "\n"
     ]
    },
    {
     "name": "stderr",
     "output_type": "stream",
     "text": [
      "/home/prativa/anaconda3/envs/py36/lib/python3.6/site-packages/pyproj/crs/crs.py:53: FutureWarning: '+init=<authority>:<code>' syntax is deprecated. '<authority>:<code>' is the preferred initialization method. When making the change, be mindful of axis order changes: https://pyproj4.github.io/pyproj/stable/gotchas.html#axis-order-changes-in-proj-6\n",
      "  return _prepare_from_string(\" \".join(pjargs))\n",
      "/home/prativa/anaconda3/envs/py36/lib/python3.6/site-packages/pyproj/crs/crs.py:53: FutureWarning: '+init=<authority>:<code>' syntax is deprecated. '<authority>:<code>' is the preferred initialization method. When making the change, be mindful of axis order changes: https://pyproj4.github.io/pyproj/stable/gotchas.html#axis-order-changes-in-proj-6\n",
      "  return _prepare_from_string(\" \".join(pjargs))\n",
      "/home/prativa/anaconda3/envs/py36/lib/python3.6/site-packages/pyproj/crs/crs.py:53: FutureWarning: '+init=<authority>:<code>' syntax is deprecated. '<authority>:<code>' is the preferred initialization method. When making the change, be mindful of axis order changes: https://pyproj4.github.io/pyproj/stable/gotchas.html#axis-order-changes-in-proj-6\n",
      "  return _prepare_from_string(\" \".join(pjargs))\n"
     ]
    },
    {
     "name": "stdout",
     "output_type": "stream",
     "text": [
      "OpenCV(4.1.0) /io/opencv/modules/imgproc/src/color.cpp:182: error: (-215:Assertion failed) !_src.empty() in function 'cvtColor'\n",
      "\n",
      "OpenCV(4.1.0) /io/opencv/modules/imgproc/src/color.cpp:182: error: (-215:Assertion failed) !_src.empty() in function 'cvtColor'\n"
     ]
    },
    {
     "name": "stderr",
     "output_type": "stream",
     "text": [
      "\n",
      "\n",
      "\n",
      " 13%|█▎        | 72/550 [00:10<02:33,  3.12it/s]\u001b[A\u001b[A\u001b[A"
     ]
    },
    {
     "name": "stdout",
     "output_type": "stream",
     "text": [
      "\n"
     ]
    },
    {
     "name": "stderr",
     "output_type": "stream",
     "text": [
      "/home/prativa/anaconda3/envs/py36/lib/python3.6/site-packages/pyproj/crs/crs.py:53: FutureWarning: '+init=<authority>:<code>' syntax is deprecated. '<authority>:<code>' is the preferred initialization method. When making the change, be mindful of axis order changes: https://pyproj4.github.io/pyproj/stable/gotchas.html#axis-order-changes-in-proj-6\n",
      "  return _prepare_from_string(\" \".join(pjargs))\n",
      "/home/prativa/anaconda3/envs/py36/lib/python3.6/site-packages/pyproj/crs/crs.py:53: FutureWarning: '+init=<authority>:<code>' syntax is deprecated. '<authority>:<code>' is the preferred initialization method. When making the change, be mindful of axis order changes: https://pyproj4.github.io/pyproj/stable/gotchas.html#axis-order-changes-in-proj-6\n",
      "  return _prepare_from_string(\" \".join(pjargs))\n",
      "/home/prativa/anaconda3/envs/py36/lib/python3.6/site-packages/pyproj/crs/crs.py:53: FutureWarning: '+init=<authority>:<code>' syntax is deprecated. '<authority>:<code>' is the preferred initialization method. When making the change, be mindful of axis order changes: https://pyproj4.github.io/pyproj/stable/gotchas.html#axis-order-changes-in-proj-6\n",
      "  return _prepare_from_string(\" \".join(pjargs))\n",
      "/home/prativa/anaconda3/envs/py36/lib/python3.6/site-packages/pyproj/crs/crs.py:53: FutureWarning: '+init=<authority>:<code>' syntax is deprecated. '<authority>:<code>' is the preferred initialization method. When making the change, be mindful of axis order changes: https://pyproj4.github.io/pyproj/stable/gotchas.html#axis-order-changes-in-proj-6\n",
      "  return _prepare_from_string(\" \".join(pjargs))\n",
      "/home/prativa/anaconda3/envs/py36/lib/python3.6/site-packages/pyproj/crs/crs.py:53: FutureWarning: '+init=<authority>:<code>' syntax is deprecated. '<authority>:<code>' is the preferred initialization method. When making the change, be mindful of axis order changes: https://pyproj4.github.io/pyproj/stable/gotchas.html#axis-order-changes-in-proj-6\n",
      "  return _prepare_from_string(\" \".join(pjargs))\n"
     ]
    },
    {
     "name": "stdout",
     "output_type": "stream",
     "text": [
      "OpenCV(4.1.0) /io/opencv/modules/imgproc/src/color.cpp:182: error: (-215:Assertion failed) !_src.empty() in function 'cvtColor'\n",
      "\n"
     ]
    },
    {
     "name": "stderr",
     "output_type": "stream",
     "text": [
      "\n",
      "\n",
      "\n",
      " 14%|█▎        | 75/550 [00:10<02:03,  3.85it/s]"
     ]
    },
    {
     "name": "stdout",
     "output_type": "stream",
     "text": [
      "OpenCV(4.1.0) /io/opencv/modules/imgproc/src/color.cpp:182: error: (-215:Assertion failed) !_src.empty() in function 'cvtColor'\n"
     ]
    },
    {
     "name": "stderr",
     "output_type": "stream",
     "text": [
      "\u001b[A\u001b[A\u001b[A"
     ]
    },
    {
     "name": "stdout",
     "output_type": "stream",
     "text": [
      "\n",
      "OpenCV(4.1.0) /io/opencv/modules/imgproc/src/color.cpp:182: error: (-215:Assertion failed) !_src.empty() in function 'cvtColor'\n",
      "\n",
      "OpenCV(4.1.0) /io/opencv/modules/imgproc/src/color.cpp:182: error: (-215:Assertion failed) !_src.empty() in function 'cvtColor'\n",
      "OpenCV(4.1.0) /io/opencv/modules/imgproc/src/color.cpp:182: error: (-215:Assertion failed) !_src.empty() in function 'cvtColor'\n",
      "OpenCV(4.1.0) /io/opencv/modules/imgproc/src/color.cpp:182: error: (-215:Assertion failed) !_src.empty() in function 'cvtColor'\n",
      "\n",
      "\n"
     ]
    },
    {
     "name": "stderr",
     "output_type": "stream",
     "text": [
      "\n",
      "\n",
      "\n",
      " 14%|█▍        | 77/550 [00:10<01:40,  4.71it/s]\u001b[A\u001b[A\u001b[A"
     ]
    },
    {
     "name": "stdout",
     "output_type": "stream",
     "text": [
      "\n"
     ]
    },
    {
     "name": "stderr",
     "output_type": "stream",
     "text": [
      "/home/prativa/anaconda3/envs/py36/lib/python3.6/site-packages/pyproj/crs/crs.py:53: FutureWarning: '+init=<authority>:<code>' syntax is deprecated. '<authority>:<code>' is the preferred initialization method. When making the change, be mindful of axis order changes: https://pyproj4.github.io/pyproj/stable/gotchas.html#axis-order-changes-in-proj-6\n",
      "  return _prepare_from_string(\" \".join(pjargs))\n"
     ]
    },
    {
     "name": "stdout",
     "output_type": "stream",
     "text": [
      "data/AOI_3_Paris_Roads_Train/geojson/spacenetroads/SN3_roads_train_AOI_3_Paris_geojson_roads_img7.geojson: No such file or directory\n"
     ]
    },
    {
     "name": "stderr",
     "output_type": "stream",
     "text": [
      "/home/prativa/anaconda3/envs/py36/lib/python3.6/site-packages/pyproj/crs/crs.py:53: FutureWarning: '+init=<authority>:<code>' syntax is deprecated. '<authority>:<code>' is the preferred initialization method. When making the change, be mindful of axis order changes: https://pyproj4.github.io/pyproj/stable/gotchas.html#axis-order-changes-in-proj-6\n",
      "  return _prepare_from_string(\" \".join(pjargs))\n",
      "/home/prativa/anaconda3/envs/py36/lib/python3.6/site-packages/pyproj/crs/crs.py:53: FutureWarning: '+init=<authority>:<code>' syntax is deprecated. '<authority>:<code>' is the preferred initialization method. When making the change, be mindful of axis order changes: https://pyproj4.github.io/pyproj/stable/gotchas.html#axis-order-changes-in-proj-6\n",
      "  return _prepare_from_string(\" \".join(pjargs))\n",
      "/home/prativa/anaconda3/envs/py36/lib/python3.6/site-packages/pyproj/crs/crs.py:53: FutureWarning: '+init=<authority>:<code>' syntax is deprecated. '<authority>:<code>' is the preferred initialization method. When making the change, be mindful of axis order changes: https://pyproj4.github.io/pyproj/stable/gotchas.html#axis-order-changes-in-proj-6\n",
      "  return _prepare_from_string(\" \".join(pjargs))\n"
     ]
    },
    {
     "name": "stdout",
     "output_type": "stream",
     "text": [
      "OpenCV(4.1.0) /io/opencv/modules/imgproc/src/color.cpp:182: error: (-215:Assertion failed) !_src.empty() in function 'cvtColor'\n",
      "\n"
     ]
    },
    {
     "name": "stderr",
     "output_type": "stream",
     "text": [
      "\n",
      "\n",
      "\n",
      " 15%|█▍        | 81/550 [00:11<01:30,  5.16it/s]\u001b[A\u001b[A\u001b[A/home/prativa/anaconda3/envs/py36/lib/python3.6/site-packages/pyproj/crs/crs.py:53: FutureWarning: '+init=<authority>:<code>' syntax is deprecated. '<authority>:<code>' is the preferred initialization method. When making the change, be mindful of axis order changes: https://pyproj4.github.io/pyproj/stable/gotchas.html#axis-order-changes-in-proj-6\n",
      "  return _prepare_from_string(\" \".join(pjargs))\n",
      "/home/prativa/anaconda3/envs/py36/lib/python3.6/site-packages/pyproj/crs/crs.py:53: FutureWarning: '+init=<authority>:<code>' syntax is deprecated. '<authority>:<code>' is the preferred initialization method. When making the change, be mindful of axis order changes: https://pyproj4.github.io/pyproj/stable/gotchas.html#axis-order-changes-in-proj-6\n",
      "  return _prepare_from_string(\" \".join(pjargs))\n",
      "/home/prativa/anaconda3/envs/py36/lib/python3.6/site-packages/pyproj/crs/crs.py:53: FutureWarning: '+init=<authority>:<code>' syntax is deprecated. '<authority>:<code>' is the preferred initialization method. When making the change, be mindful of axis order changes: https://pyproj4.github.io/pyproj/stable/gotchas.html#axis-order-changes-in-proj-6\n",
      "  return _prepare_from_string(\" \".join(pjargs))\n"
     ]
    },
    {
     "name": "stdout",
     "output_type": "stream",
     "text": [
      "OpenCV(4.1.0) /io/opencv/modules/imgproc/src/color.cpp:182: error: (-215:Assertion failed) !_src.empty() in function 'cvtColor'\n",
      "\n"
     ]
    },
    {
     "name": "stderr",
     "output_type": "stream",
     "text": [
      "/home/prativa/anaconda3/envs/py36/lib/python3.6/site-packages/pyproj/crs/crs.py:53: FutureWarning: '+init=<authority>:<code>' syntax is deprecated. '<authority>:<code>' is the preferred initialization method. When making the change, be mindful of axis order changes: https://pyproj4.github.io/pyproj/stable/gotchas.html#axis-order-changes-in-proj-6\n",
      "  return _prepare_from_string(\" \".join(pjargs))\n"
     ]
    },
    {
     "name": "stdout",
     "output_type": "stream",
     "text": [
      "data/AOI_3_Paris_Roads_Train/geojson/spacenetroads/SN3_roads_train_AOI_3_Paris_geojson_roads_img77.geojson: No such file or directory\n"
     ]
    },
    {
     "name": "stderr",
     "output_type": "stream",
     "text": [
      "/home/prativa/anaconda3/envs/py36/lib/python3.6/site-packages/pyproj/crs/crs.py:53: FutureWarning: '+init=<authority>:<code>' syntax is deprecated. '<authority>:<code>' is the preferred initialization method. When making the change, be mindful of axis order changes: https://pyproj4.github.io/pyproj/stable/gotchas.html#axis-order-changes-in-proj-6\n",
      "  return _prepare_from_string(\" \".join(pjargs))\n"
     ]
    },
    {
     "name": "stdout",
     "output_type": "stream",
     "text": [
      "OpenCV(4.1.0) /io/opencv/modules/imgproc/src/color.cpp:182: error: (-215:Assertion failed) !_src.empty() in function 'cvtColor'\n"
     ]
    },
    {
     "name": "stderr",
     "output_type": "stream",
     "text": [
      "/home/prativa/anaconda3/envs/py36/lib/python3.6/site-packages/pyproj/crs/crs.py:53: FutureWarning: '+init=<authority>:<code>' syntax is deprecated. '<authority>:<code>' is the preferred initialization method. When making the change, be mindful of axis order changes: https://pyproj4.github.io/pyproj/stable/gotchas.html#axis-order-changes-in-proj-6\n",
      "  return _prepare_from_string(\" \".join(pjargs))\n"
     ]
    },
    {
     "name": "stdout",
     "output_type": "stream",
     "text": [
      "\n"
     ]
    },
    {
     "name": "stderr",
     "output_type": "stream",
     "text": [
      "\n",
      "\n",
      "\n",
      " 15%|█▌        | 83/550 [00:12<01:36,  4.82it/s]\u001b[A\u001b[A\u001b[A/home/prativa/anaconda3/envs/py36/lib/python3.6/site-packages/pyproj/crs/crs.py:53: FutureWarning: '+init=<authority>:<code>' syntax is deprecated. '<authority>:<code>' is the preferred initialization method. When making the change, be mindful of axis order changes: https://pyproj4.github.io/pyproj/stable/gotchas.html#axis-order-changes-in-proj-6\n",
      "  return _prepare_from_string(\" \".join(pjargs))\n",
      "/home/prativa/anaconda3/envs/py36/lib/python3.6/site-packages/pyproj/crs/crs.py:53: FutureWarning: '+init=<authority>:<code>' syntax is deprecated. '<authority>:<code>' is the preferred initialization method. When making the change, be mindful of axis order changes: https://pyproj4.github.io/pyproj/stable/gotchas.html#axis-order-changes-in-proj-6\n",
      "  return _prepare_from_string(\" \".join(pjargs))\n",
      "/home/prativa/anaconda3/envs/py36/lib/python3.6/site-packages/pyproj/crs/crs.py:53: FutureWarning: '+init=<authority>:<code>' syntax is deprecated. '<authority>:<code>' is the preferred initialization method. When making the change, be mindful of axis order changes: https://pyproj4.github.io/pyproj/stable/gotchas.html#axis-order-changes-in-proj-6\n",
      "  return _prepare_from_string(\" \".join(pjargs))\n"
     ]
    },
    {
     "name": "stdout",
     "output_type": "stream",
     "text": [
      "OpenCV(4.1.0) /io/opencv/modules/imgproc/src/color.cpp:182: error: (-215:Assertion failed) !_src.empty() in function 'cvtColor'\n",
      "\n"
     ]
    },
    {
     "name": "stderr",
     "output_type": "stream",
     "text": [
      "\n",
      "\n",
      "\n",
      " 15%|█▌        | 85/550 [00:12<01:22,  5.65it/s]\u001b[A\u001b[A\u001b[A/home/prativa/anaconda3/envs/py36/lib/python3.6/site-packages/pyproj/crs/crs.py:53: FutureWarning: '+init=<authority>:<code>' syntax is deprecated. '<authority>:<code>' is the preferred initialization method. When making the change, be mindful of axis order changes: https://pyproj4.github.io/pyproj/stable/gotchas.html#axis-order-changes-in-proj-6\n",
      "  return _prepare_from_string(\" \".join(pjargs))\n",
      "/home/prativa/anaconda3/envs/py36/lib/python3.6/site-packages/pyproj/crs/crs.py:53: FutureWarning: '+init=<authority>:<code>' syntax is deprecated. '<authority>:<code>' is the preferred initialization method. When making the change, be mindful of axis order changes: https://pyproj4.github.io/pyproj/stable/gotchas.html#axis-order-changes-in-proj-6\n",
      "  return _prepare_from_string(\" \".join(pjargs))\n"
     ]
    },
    {
     "name": "stdout",
     "output_type": "stream",
     "text": [
      "OpenCV(4.1.0) /io/opencv/modules/imgproc/src/color.cpp:182: error: (-215:Assertion failed) !_src.empty() in function 'cvtColor'\n",
      "\n"
     ]
    },
    {
     "name": "stderr",
     "output_type": "stream",
     "text": [
      "\n",
      "\n",
      "\n",
      " 16%|█▌        | 86/550 [00:12<01:13,  6.31it/s]\u001b[A\u001b[A\u001b[A/home/prativa/anaconda3/envs/py36/lib/python3.6/site-packages/pyproj/crs/crs.py:53: FutureWarning: '+init=<authority>:<code>' syntax is deprecated. '<authority>:<code>' is the preferred initialization method. When making the change, be mindful of axis order changes: https://pyproj4.github.io/pyproj/stable/gotchas.html#axis-order-changes-in-proj-6\n",
      "  return _prepare_from_string(\" \".join(pjargs))\n",
      "/home/prativa/anaconda3/envs/py36/lib/python3.6/site-packages/pyproj/crs/crs.py:53: FutureWarning: '+init=<authority>:<code>' syntax is deprecated. '<authority>:<code>' is the preferred initialization method. When making the change, be mindful of axis order changes: https://pyproj4.github.io/pyproj/stable/gotchas.html#axis-order-changes-in-proj-6\n",
      "  return _prepare_from_string(\" \".join(pjargs))\n",
      "/home/prativa/anaconda3/envs/py36/lib/python3.6/site-packages/pyproj/crs/crs.py:53: FutureWarning: '+init=<authority>:<code>' syntax is deprecated. '<authority>:<code>' is the preferred initialization method. When making the change, be mindful of axis order changes: https://pyproj4.github.io/pyproj/stable/gotchas.html#axis-order-changes-in-proj-6\n",
      "  return _prepare_from_string(\" \".join(pjargs))\n",
      "/home/prativa/anaconda3/envs/py36/lib/python3.6/site-packages/pyproj/crs/crs.py:53: FutureWarning: '+init=<authority>:<code>' syntax is deprecated. '<authority>:<code>' is the preferred initialization method. When making the change, be mindful of axis order changes: https://pyproj4.github.io/pyproj/stable/gotchas.html#axis-order-changes-in-proj-6\n",
      "  return _prepare_from_string(\" \".join(pjargs))\n",
      "/home/prativa/anaconda3/envs/py36/lib/python3.6/site-packages/pyproj/crs/crs.py:53: FutureWarning: '+init=<authority>:<code>' syntax is deprecated. '<authority>:<code>' is the preferred initialization method. When making the change, be mindful of axis order changes: https://pyproj4.github.io/pyproj/stable/gotchas.html#axis-order-changes-in-proj-6\n",
      "  return _prepare_from_string(\" \".join(pjargs))\n"
     ]
    },
    {
     "name": "stdout",
     "output_type": "stream",
     "text": [
      "OpenCV(4.1.0) /io/opencv/modules/imgproc/src/color.cpp:182: error: (-215:Assertion failed) !_src.empty() in function 'cvtColor'\n",
      "\n"
     ]
    },
    {
     "name": "stderr",
     "output_type": "stream",
     "text": [
      "\n",
      "\n",
      "\n",
      " 16%|█▌        | 88/550 [00:12<01:20,  5.75it/s]\u001b[A\u001b[A\u001b[A/home/prativa/anaconda3/envs/py36/lib/python3.6/site-packages/pyproj/crs/crs.py:53: FutureWarning: '+init=<authority>:<code>' syntax is deprecated. '<authority>:<code>' is the preferred initialization method. When making the change, be mindful of axis order changes: https://pyproj4.github.io/pyproj/stable/gotchas.html#axis-order-changes-in-proj-6\n",
      "  return _prepare_from_string(\" \".join(pjargs))\n"
     ]
    },
    {
     "name": "stdout",
     "output_type": "stream",
     "text": [
      "OpenCV(4.1.0) /io/opencv/modules/imgproc/src/color.cpp:182: error: (-215:Assertion failed) !_src.empty() in function 'cvtColor'\n",
      "\n"
     ]
    },
    {
     "name": "stderr",
     "output_type": "stream",
     "text": [
      "/home/prativa/anaconda3/envs/py36/lib/python3.6/site-packages/pyproj/crs/crs.py:53: FutureWarning: '+init=<authority>:<code>' syntax is deprecated. '<authority>:<code>' is the preferred initialization method. When making the change, be mindful of axis order changes: https://pyproj4.github.io/pyproj/stable/gotchas.html#axis-order-changes-in-proj-6\n",
      "  return _prepare_from_string(\" \".join(pjargs))\n"
     ]
    },
    {
     "name": "stdout",
     "output_type": "stream",
     "text": [
      "OpenCV(4.1.0) /io/opencv/modules/imgproc/src/color.cpp:182: error: (-215:Assertion failed) !_src.empty() in function 'cvtColor'\n",
      "\n"
     ]
    },
    {
     "name": "stderr",
     "output_type": "stream",
     "text": [
      "\n",
      "\n",
      "\n",
      " 16%|█▌        | 89/550 [00:12<01:15,  6.14it/s]\u001b[A\u001b[A\u001b[A"
     ]
    },
    {
     "name": "stdout",
     "output_type": "stream",
     "text": [
      "OpenCV(4.1.0) /io/opencv/modules/imgproc/src/color.cpp:182: error: (-215:Assertion failed) !_src.empty() in function 'cvtColor'\n",
      "\n",
      "OpenCV(4.1.0) /io/opencv/modules/imgproc/src/color.cpp:182: error: (-215:Assertion failed) !_src.empty() in function 'cvtColor'\n"
     ]
    },
    {
     "name": "stderr",
     "output_type": "stream",
     "text": [
      "/home/prativa/anaconda3/envs/py36/lib/python3.6/site-packages/pyproj/crs/crs.py:53: FutureWarning: '+init=<authority>:<code>' syntax is deprecated. '<authority>:<code>' is the preferred initialization method. When making the change, be mindful of axis order changes: https://pyproj4.github.io/pyproj/stable/gotchas.html#axis-order-changes-in-proj-6\n",
      "  return _prepare_from_string(\" \".join(pjargs))\n"
     ]
    },
    {
     "name": "stdout",
     "output_type": "stream",
     "text": [
      "\n"
     ]
    },
    {
     "name": "stderr",
     "output_type": "stream",
     "text": [
      "/home/prativa/anaconda3/envs/py36/lib/python3.6/site-packages/pyproj/crs/crs.py:53: FutureWarning: '+init=<authority>:<code>' syntax is deprecated. '<authority>:<code>' is the preferred initialization method. When making the change, be mindful of axis order changes: https://pyproj4.github.io/pyproj/stable/gotchas.html#axis-order-changes-in-proj-6\n",
      "  return _prepare_from_string(\" \".join(pjargs))\n",
      "/home/prativa/anaconda3/envs/py36/lib/python3.6/site-packages/pyproj/crs/crs.py:53: FutureWarning: '+init=<authority>:<code>' syntax is deprecated. '<authority>:<code>' is the preferred initialization method. When making the change, be mindful of axis order changes: https://pyproj4.github.io/pyproj/stable/gotchas.html#axis-order-changes-in-proj-6\n",
      "  return _prepare_from_string(\" \".join(pjargs))\n",
      "/home/prativa/anaconda3/envs/py36/lib/python3.6/site-packages/pyproj/crs/crs.py:53: FutureWarning: '+init=<authority>:<code>' syntax is deprecated. '<authority>:<code>' is the preferred initialization method. When making the change, be mindful of axis order changes: https://pyproj4.github.io/pyproj/stable/gotchas.html#axis-order-changes-in-proj-6\n",
      "  return _prepare_from_string(\" \".join(pjargs))\n"
     ]
    },
    {
     "name": "stdout",
     "output_type": "stream",
     "text": [
      "OpenCV(4.1.0) /io/opencv/modules/imgproc/src/color.cpp:182: error: (-215:Assertion failed) !_src.empty() in function 'cvtColor'\n",
      "\n"
     ]
    },
    {
     "name": "stderr",
     "output_type": "stream",
     "text": [
      "\n",
      "\n",
      "\n",
      " 17%|█▋        | 93/550 [00:13<01:03,  7.20it/s]\u001b[A\u001b[A\u001b[A/home/prativa/anaconda3/envs/py36/lib/python3.6/site-packages/pyproj/crs/crs.py:53: FutureWarning: '+init=<authority>:<code>' syntax is deprecated. '<authority>:<code>' is the preferred initialization method. When making the change, be mindful of axis order changes: https://pyproj4.github.io/pyproj/stable/gotchas.html#axis-order-changes-in-proj-6\n",
      "  return _prepare_from_string(\" \".join(pjargs))\n",
      "/home/prativa/anaconda3/envs/py36/lib/python3.6/site-packages/pyproj/crs/crs.py:53: FutureWarning: '+init=<authority>:<code>' syntax is deprecated. '<authority>:<code>' is the preferred initialization method. When making the change, be mindful of axis order changes: https://pyproj4.github.io/pyproj/stable/gotchas.html#axis-order-changes-in-proj-6\n",
      "  return _prepare_from_string(\" \".join(pjargs))\n",
      "/home/prativa/anaconda3/envs/py36/lib/python3.6/site-packages/pyproj/crs/crs.py:53: FutureWarning: '+init=<authority>:<code>' syntax is deprecated. '<authority>:<code>' is the preferred initialization method. When making the change, be mindful of axis order changes: https://pyproj4.github.io/pyproj/stable/gotchas.html#axis-order-changes-in-proj-6\n",
      "  return _prepare_from_string(\" \".join(pjargs))\n",
      "/home/prativa/anaconda3/envs/py36/lib/python3.6/site-packages/pyproj/crs/crs.py:53: FutureWarning: '+init=<authority>:<code>' syntax is deprecated. '<authority>:<code>' is the preferred initialization method. When making the change, be mindful of axis order changes: https://pyproj4.github.io/pyproj/stable/gotchas.html#axis-order-changes-in-proj-6\n",
      "  return _prepare_from_string(\" \".join(pjargs))\n",
      "/home/prativa/anaconda3/envs/py36/lib/python3.6/site-packages/pyproj/crs/crs.py:53: FutureWarning: '+init=<authority>:<code>' syntax is deprecated. '<authority>:<code>' is the preferred initialization method. When making the change, be mindful of axis order changes: https://pyproj4.github.io/pyproj/stable/gotchas.html#axis-order-changes-in-proj-6\n",
      "  return _prepare_from_string(\" \".join(pjargs))\n",
      "/home/prativa/anaconda3/envs/py36/lib/python3.6/site-packages/pyproj/crs/crs.py:53: FutureWarning: '+init=<authority>:<code>' syntax is deprecated. '<authority>:<code>' is the preferred initialization method. When making the change, be mindful of axis order changes: https://pyproj4.github.io/pyproj/stable/gotchas.html#axis-order-changes-in-proj-6\n",
      "  return _prepare_from_string(\" \".join(pjargs))\n",
      "/home/prativa/anaconda3/envs/py36/lib/python3.6/site-packages/pyproj/crs/crs.py:53: FutureWarning: '+init=<authority>:<code>' syntax is deprecated. '<authority>:<code>' is the preferred initialization method. When making the change, be mindful of axis order changes: https://pyproj4.github.io/pyproj/stable/gotchas.html#axis-order-changes-in-proj-6\n",
      "  return _prepare_from_string(\" \".join(pjargs))\n"
     ]
    },
    {
     "name": "stdout",
     "output_type": "stream",
     "text": [
      "OpenCV(4.1.0) /io/opencv/modules/imgproc/src/color.cpp:182: error: (-215:Assertion failed) !_src.empty() in function 'cvtColor'\n",
      "\n"
     ]
    },
    {
     "name": "stderr",
     "output_type": "stream",
     "text": [
      "\n",
      "\n",
      "\n",
      " 17%|█▋        | 94/550 [00:13<01:40,  4.53it/s]\u001b[A\u001b[A\u001b[A/home/prativa/anaconda3/envs/py36/lib/python3.6/site-packages/pyproj/crs/crs.py:53: FutureWarning: '+init=<authority>:<code>' syntax is deprecated. '<authority>:<code>' is the preferred initialization method. When making the change, be mindful of axis order changes: https://pyproj4.github.io/pyproj/stable/gotchas.html#axis-order-changes-in-proj-6\n",
      "  return _prepare_from_string(\" \".join(pjargs))\n"
     ]
    },
    {
     "name": "stdout",
     "output_type": "stream",
     "text": [
      "OpenCV(4.1.0) /io/opencv/modules/imgproc/src/color.cpp:182: error: (-215:Assertion failed) !_src.empty() in function 'cvtColor'\n",
      "\n"
     ]
    },
    {
     "name": "stderr",
     "output_type": "stream",
     "text": [
      "/home/prativa/anaconda3/envs/py36/lib/python3.6/site-packages/pyproj/crs/crs.py:53: FutureWarning: '+init=<authority>:<code>' syntax is deprecated. '<authority>:<code>' is the preferred initialization method. When making the change, be mindful of axis order changes: https://pyproj4.github.io/pyproj/stable/gotchas.html#axis-order-changes-in-proj-6\n",
      "  return _prepare_from_string(\" \".join(pjargs))\n",
      "/home/prativa/anaconda3/envs/py36/lib/python3.6/site-packages/pyproj/crs/crs.py:53: FutureWarning: '+init=<authority>:<code>' syntax is deprecated. '<authority>:<code>' is the preferred initialization method. When making the change, be mindful of axis order changes: https://pyproj4.github.io/pyproj/stable/gotchas.html#axis-order-changes-in-proj-6\n",
      "  return _prepare_from_string(\" \".join(pjargs))\n"
     ]
    },
    {
     "name": "stdout",
     "output_type": "stream",
     "text": [
      "OpenCV(4.1.0) /io/opencv/modules/imgproc/src/color.cpp:182: error: (-215:Assertion failed) !_src.empty() in function 'cvtColor'\n",
      "\n"
     ]
    },
    {
     "name": "stderr",
     "output_type": "stream",
     "text": [
      "\n",
      "\n",
      "\n",
      " 17%|█▋        | 96/550 [00:13<01:31,  4.98it/s]\u001b[A\u001b[A\u001b[A/home/prativa/anaconda3/envs/py36/lib/python3.6/site-packages/pyproj/crs/crs.py:53: FutureWarning: '+init=<authority>:<code>' syntax is deprecated. '<authority>:<code>' is the preferred initialization method. When making the change, be mindful of axis order changes: https://pyproj4.github.io/pyproj/stable/gotchas.html#axis-order-changes-in-proj-6\n",
      "  return _prepare_from_string(\" \".join(pjargs))\n",
      "/home/prativa/anaconda3/envs/py36/lib/python3.6/site-packages/pyproj/crs/crs.py:53: FutureWarning: '+init=<authority>:<code>' syntax is deprecated. '<authority>:<code>' is the preferred initialization method. When making the change, be mindful of axis order changes: https://pyproj4.github.io/pyproj/stable/gotchas.html#axis-order-changes-in-proj-6\n",
      "  return _prepare_from_string(\" \".join(pjargs))\n",
      "/home/prativa/anaconda3/envs/py36/lib/python3.6/site-packages/pyproj/crs/crs.py:53: FutureWarning: '+init=<authority>:<code>' syntax is deprecated. '<authority>:<code>' is the preferred initialization method. When making the change, be mindful of axis order changes: https://pyproj4.github.io/pyproj/stable/gotchas.html#axis-order-changes-in-proj-6\n",
      "  return _prepare_from_string(\" \".join(pjargs))\n",
      "/home/prativa/anaconda3/envs/py36/lib/python3.6/site-packages/ipykernel_launcher.py:72: MatplotlibDeprecationWarning: You are modifying the state of a globally registered colormap. In future versions, you will not be able to modify a registered colormap in-place. To remove this warning, you can make a copy of the colormap first. cmap = copy.copy(mpl.cm.get_cmap(\"gray\"))\n",
      "/home/prativa/anaconda3/envs/py36/lib/python3.6/site-packages/ipykernel_launcher.py:72: MatplotlibDeprecationWarning: You are modifying the state of a globally registered colormap. In future versions, you will not be able to modify a registered colormap in-place. To remove this warning, you can make a copy of the colormap first. cmap = copy.copy(mpl.cm.get_cmap(\"gray\"))\n"
     ]
    },
    {
     "name": "stdout",
     "output_type": "stream",
     "text": [
      "OpenCV(4.1.0) /io/opencv/modules/imgproc/src/color.cpp:182: error: (-215:Assertion failed) !_src.empty() in function 'cvtColor'\n"
     ]
    },
    {
     "name": "stderr",
     "output_type": "stream",
     "text": [
      "/home/prativa/anaconda3/envs/py36/lib/python3.6/site-packages/pyproj/crs/crs.py:53: FutureWarning: '+init=<authority>:<code>' syntax is deprecated. '<authority>:<code>' is the preferred initialization method. When making the change, be mindful of axis order changes: https://pyproj4.github.io/pyproj/stable/gotchas.html#axis-order-changes-in-proj-6\n",
      "  return _prepare_from_string(\" \".join(pjargs))\n"
     ]
    },
    {
     "name": "stdout",
     "output_type": "stream",
     "text": [
      "\n"
     ]
    },
    {
     "name": "stderr",
     "output_type": "stream",
     "text": [
      "\n",
      "\n",
      "\n",
      " 18%|█▊        | 97/550 [00:14<01:29,  5.05it/s]\u001b[A\u001b[A\u001b[A/home/prativa/anaconda3/envs/py36/lib/python3.6/site-packages/pyproj/crs/crs.py:53: FutureWarning: '+init=<authority>:<code>' syntax is deprecated. '<authority>:<code>' is the preferred initialization method. When making the change, be mindful of axis order changes: https://pyproj4.github.io/pyproj/stable/gotchas.html#axis-order-changes-in-proj-6\n",
      "  return _prepare_from_string(\" \".join(pjargs))\n",
      "/home/prativa/anaconda3/envs/py36/lib/python3.6/site-packages/pyproj/crs/crs.py:53: FutureWarning: '+init=<authority>:<code>' syntax is deprecated. '<authority>:<code>' is the preferred initialization method. When making the change, be mindful of axis order changes: https://pyproj4.github.io/pyproj/stable/gotchas.html#axis-order-changes-in-proj-6\n",
      "  return _prepare_from_string(\" \".join(pjargs))\n",
      "/home/prativa/anaconda3/envs/py36/lib/python3.6/site-packages/pyproj/crs/crs.py:53: FutureWarning: '+init=<authority>:<code>' syntax is deprecated. '<authority>:<code>' is the preferred initialization method. When making the change, be mindful of axis order changes: https://pyproj4.github.io/pyproj/stable/gotchas.html#axis-order-changes-in-proj-6\n",
      "  return _prepare_from_string(\" \".join(pjargs))\n",
      "/home/prativa/anaconda3/envs/py36/lib/python3.6/site-packages/ipykernel_launcher.py:72: MatplotlibDeprecationWarning: You are modifying the state of a globally registered colormap. In future versions, you will not be able to modify a registered colormap in-place. To remove this warning, you can make a copy of the colormap first. cmap = copy.copy(mpl.cm.get_cmap(\"gray\"))\n",
      "/home/prativa/anaconda3/envs/py36/lib/python3.6/site-packages/pyproj/crs/crs.py:53: FutureWarning: '+init=<authority>:<code>' syntax is deprecated. '<authority>:<code>' is the preferred initialization method. When making the change, be mindful of axis order changes: https://pyproj4.github.io/pyproj/stable/gotchas.html#axis-order-changes-in-proj-6\n",
      "  return _prepare_from_string(\" \".join(pjargs))\n",
      "/home/prativa/anaconda3/envs/py36/lib/python3.6/site-packages/pyproj/crs/crs.py:53: FutureWarning: '+init=<authority>:<code>' syntax is deprecated. '<authority>:<code>' is the preferred initialization method. When making the change, be mindful of axis order changes: https://pyproj4.github.io/pyproj/stable/gotchas.html#axis-order-changes-in-proj-6\n",
      "  return _prepare_from_string(\" \".join(pjargs))\n",
      "/home/prativa/anaconda3/envs/py36/lib/python3.6/site-packages/pyproj/crs/crs.py:53: FutureWarning: '+init=<authority>:<code>' syntax is deprecated. '<authority>:<code>' is the preferred initialization method. When making the change, be mindful of axis order changes: https://pyproj4.github.io/pyproj/stable/gotchas.html#axis-order-changes-in-proj-6\n",
      "  return _prepare_from_string(\" \".join(pjargs))\n",
      "/home/prativa/anaconda3/envs/py36/lib/python3.6/site-packages/pyproj/crs/crs.py:53: FutureWarning: '+init=<authority>:<code>' syntax is deprecated. '<authority>:<code>' is the preferred initialization method. When making the change, be mindful of axis order changes: https://pyproj4.github.io/pyproj/stable/gotchas.html#axis-order-changes-in-proj-6\n",
      "  return _prepare_from_string(\" \".join(pjargs))\n",
      "/home/prativa/anaconda3/envs/py36/lib/python3.6/site-packages/pyproj/crs/crs.py:53: FutureWarning: '+init=<authority>:<code>' syntax is deprecated. '<authority>:<code>' is the preferred initialization method. When making the change, be mindful of axis order changes: https://pyproj4.github.io/pyproj/stable/gotchas.html#axis-order-changes-in-proj-6\n",
      "  return _prepare_from_string(\" \".join(pjargs))\n",
      "/home/prativa/anaconda3/envs/py36/lib/python3.6/site-packages/ipykernel_launcher.py:72: MatplotlibDeprecationWarning: You are modifying the state of a globally registered colormap. In future versions, you will not be able to modify a registered colormap in-place. To remove this warning, you can make a copy of the colormap first. cmap = copy.copy(mpl.cm.get_cmap(\"gray\"))\n",
      "/home/prativa/anaconda3/envs/py36/lib/python3.6/site-packages/pyproj/crs/crs.py:53: FutureWarning: '+init=<authority>:<code>' syntax is deprecated. '<authority>:<code>' is the preferred initialization method. When making the change, be mindful of axis order changes: https://pyproj4.github.io/pyproj/stable/gotchas.html#axis-order-changes-in-proj-6\n",
      "  return _prepare_from_string(\" \".join(pjargs))\n"
     ]
    },
    {
     "name": "stdout",
     "output_type": "stream",
     "text": [
      "OpenCV(4.1.0) /io/opencv/modules/imgproc/src/color.cpp:182: error: (-215:Assertion failed) !_src.empty() in function 'cvtColor'\n",
      "OpenCV(4.1.0) /io/opencv/modules/imgproc/src/color.cpp:182: error: (-215:Assertion failed) !_src.empty() in function 'cvtColor'\n",
      "\n"
     ]
    },
    {
     "name": "stderr",
     "output_type": "stream",
     "text": [
      "\n",
      "\n",
      "\n"
     ]
    },
    {
     "name": "stdout",
     "output_type": "stream",
     "text": [
      "\n"
     ]
    },
    {
     "name": "stderr",
     "output_type": "stream",
     "text": [
      " 18%|█▊        | 98/550 [00:14<02:34,  2.92it/s]\u001b[A\u001b[A\u001b[A/home/prativa/anaconda3/envs/py36/lib/python3.6/site-packages/ipykernel_launcher.py:72: MatplotlibDeprecationWarning: You are modifying the state of a globally registered colormap. In future versions, you will not be able to modify a registered colormap in-place. To remove this warning, you can make a copy of the colormap first. cmap = copy.copy(mpl.cm.get_cmap(\"gray\"))\n"
     ]
    },
    {
     "name": "stdout",
     "output_type": "stream",
     "text": [
      "OpenCV(4.1.0) /io/opencv/modules/imgproc/src/color.cpp:182: error: (-215:Assertion failed) !_src.empty() in function 'cvtColor'\n",
      "\n"
     ]
    },
    {
     "name": "stderr",
     "output_type": "stream",
     "text": [
      "\n",
      "\n",
      "\n",
      " 18%|█▊        | 100/550 [00:15<02:01,  3.70it/s]\u001b[A\u001b[A\u001b[A/home/prativa/anaconda3/envs/py36/lib/python3.6/site-packages/pyproj/crs/crs.py:53: FutureWarning: '+init=<authority>:<code>' syntax is deprecated. '<authority>:<code>' is the preferred initialization method. When making the change, be mindful of axis order changes: https://pyproj4.github.io/pyproj/stable/gotchas.html#axis-order-changes-in-proj-6\n",
      "  return _prepare_from_string(\" \".join(pjargs))\n",
      "/home/prativa/anaconda3/envs/py36/lib/python3.6/site-packages/ipykernel_launcher.py:72: MatplotlibDeprecationWarning: You are modifying the state of a globally registered colormap. In future versions, you will not be able to modify a registered colormap in-place. To remove this warning, you can make a copy of the colormap first. cmap = copy.copy(mpl.cm.get_cmap(\"gray\"))\n",
      "/home/prativa/anaconda3/envs/py36/lib/python3.6/site-packages/pyproj/crs/crs.py:53: FutureWarning: '+init=<authority>:<code>' syntax is deprecated. '<authority>:<code>' is the preferred initialization method. When making the change, be mindful of axis order changes: https://pyproj4.github.io/pyproj/stable/gotchas.html#axis-order-changes-in-proj-6\n",
      "  return _prepare_from_string(\" \".join(pjargs))\n",
      "/home/prativa/anaconda3/envs/py36/lib/python3.6/site-packages/pyproj/crs/crs.py:53: FutureWarning: '+init=<authority>:<code>' syntax is deprecated. '<authority>:<code>' is the preferred initialization method. When making the change, be mindful of axis order changes: https://pyproj4.github.io/pyproj/stable/gotchas.html#axis-order-changes-in-proj-6\n",
      "  return _prepare_from_string(\" \".join(pjargs))\n",
      "/home/prativa/anaconda3/envs/py36/lib/python3.6/site-packages/pyproj/crs/crs.py:53: FutureWarning: '+init=<authority>:<code>' syntax is deprecated. '<authority>:<code>' is the preferred initialization method. When making the change, be mindful of axis order changes: https://pyproj4.github.io/pyproj/stable/gotchas.html#axis-order-changes-in-proj-6\n",
      "  return _prepare_from_string(\" \".join(pjargs))\n",
      "/home/prativa/anaconda3/envs/py36/lib/python3.6/site-packages/ipykernel_launcher.py:72: MatplotlibDeprecationWarning: You are modifying the state of a globally registered colormap. In future versions, you will not be able to modify a registered colormap in-place. To remove this warning, you can make a copy of the colormap first. cmap = copy.copy(mpl.cm.get_cmap(\"gray\"))\n",
      "/home/prativa/anaconda3/envs/py36/lib/python3.6/site-packages/pyproj/crs/crs.py:53: FutureWarning: '+init=<authority>:<code>' syntax is deprecated. '<authority>:<code>' is the preferred initialization method. When making the change, be mindful of axis order changes: https://pyproj4.github.io/pyproj/stable/gotchas.html#axis-order-changes-in-proj-6\n",
      "  return _prepare_from_string(\" \".join(pjargs))\n",
      "/home/prativa/anaconda3/envs/py36/lib/python3.6/site-packages/pyproj/crs/crs.py:53: FutureWarning: '+init=<authority>:<code>' syntax is deprecated. '<authority>:<code>' is the preferred initialization method. When making the change, be mindful of axis order changes: https://pyproj4.github.io/pyproj/stable/gotchas.html#axis-order-changes-in-proj-6\n",
      "  return _prepare_from_string(\" \".join(pjargs))\n",
      "/home/prativa/anaconda3/envs/py36/lib/python3.6/site-packages/ipykernel_launcher.py:72: MatplotlibDeprecationWarning: You are modifying the state of a globally registered colormap. In future versions, you will not be able to modify a registered colormap in-place. To remove this warning, you can make a copy of the colormap first. cmap = copy.copy(mpl.cm.get_cmap(\"gray\"))\n",
      "/home/prativa/anaconda3/envs/py36/lib/python3.6/site-packages/ipykernel_launcher.py:72: MatplotlibDeprecationWarning: You are modifying the state of a globally registered colormap. In future versions, you will not be able to modify a registered colormap in-place. To remove this warning, you can make a copy of the colormap first. cmap = copy.copy(mpl.cm.get_cmap(\"gray\"))\n",
      "/home/prativa/anaconda3/envs/py36/lib/python3.6/site-packages/ipykernel_launcher.py:72: MatplotlibDeprecationWarning: You are modifying the state of a globally registered colormap. In future versions, you will not be able to modify a registered colormap in-place. To remove this warning, you can make a copy of the colormap first. cmap = copy.copy(mpl.cm.get_cmap(\"gray\"))\n",
      "/home/prativa/anaconda3/envs/py36/lib/python3.6/site-packages/skimage/io/_io.py:141: UserWarning: data/AOI_3_Paris_Roads_Train/PAN_mask/SN3_roads_train_AOI_3_Paris_geojson_roads_img14.jpg is a low contrast image\n",
      "  warn('%s is a low contrast image' % fname)\n",
      "/home/prativa/anaconda3/envs/py36/lib/python3.6/site-packages/pyproj/crs/crs.py:53: FutureWarning: '+init=<authority>:<code>' syntax is deprecated. '<authority>:<code>' is the preferred initialization method. When making the change, be mindful of axis order changes: https://pyproj4.github.io/pyproj/stable/gotchas.html#axis-order-changes-in-proj-6\n",
      "  return _prepare_from_string(\" \".join(pjargs))\n",
      "/home/prativa/anaconda3/envs/py36/lib/python3.6/site-packages/pyproj/crs/crs.py:53: FutureWarning: '+init=<authority>:<code>' syntax is deprecated. '<authority>:<code>' is the preferred initialization method. When making the change, be mindful of axis order changes: https://pyproj4.github.io/pyproj/stable/gotchas.html#axis-order-changes-in-proj-6\n",
      "  return _prepare_from_string(\" \".join(pjargs))\n",
      "\n",
      "\n",
      "\n",
      " 18%|█▊        | 101/550 [00:16<04:54,  1.53it/s]\u001b[A\u001b[A\u001b[A/home/prativa/anaconda3/envs/py36/lib/python3.6/site-packages/pyproj/crs/crs.py:53: FutureWarning: '+init=<authority>:<code>' syntax is deprecated. '<authority>:<code>' is the preferred initialization method. When making the change, be mindful of axis order changes: https://pyproj4.github.io/pyproj/stable/gotchas.html#axis-order-changes-in-proj-6\n",
      "  return _prepare_from_string(\" \".join(pjargs))\n",
      "/home/prativa/anaconda3/envs/py36/lib/python3.6/site-packages/pyproj/crs/crs.py:53: FutureWarning: '+init=<authority>:<code>' syntax is deprecated. '<authority>:<code>' is the preferred initialization method. When making the change, be mindful of axis order changes: https://pyproj4.github.io/pyproj/stable/gotchas.html#axis-order-changes-in-proj-6\n",
      "  return _prepare_from_string(\" \".join(pjargs))\n",
      "/home/prativa/anaconda3/envs/py36/lib/python3.6/site-packages/pyproj/crs/crs.py:53: FutureWarning: '+init=<authority>:<code>' syntax is deprecated. '<authority>:<code>' is the preferred initialization method. When making the change, be mindful of axis order changes: https://pyproj4.github.io/pyproj/stable/gotchas.html#axis-order-changes-in-proj-6\n",
      "  return _prepare_from_string(\" \".join(pjargs))\n",
      "/home/prativa/anaconda3/envs/py36/lib/python3.6/site-packages/pyproj/crs/crs.py:53: FutureWarning: '+init=<authority>:<code>' syntax is deprecated. '<authority>:<code>' is the preferred initialization method. When making the change, be mindful of axis order changes: https://pyproj4.github.io/pyproj/stable/gotchas.html#axis-order-changes-in-proj-6\n",
      "  return _prepare_from_string(\" \".join(pjargs))\n",
      "\n",
      "\n",
      "\n",
      " 19%|█▉        | 104/550 [00:16<03:38,  2.04it/s]\u001b[A\u001b[A\u001b[A\n",
      "\n",
      "\n",
      " 19%|█▉        | 105/550 [00:16<02:48,  2.64it/s]\u001b[A\u001b[A\u001b[A/home/prativa/anaconda3/envs/py36/lib/python3.6/site-packages/pyproj/crs/crs.py:53: FutureWarning: '+init=<authority>:<code>' syntax is deprecated. '<authority>:<code>' is the preferred initialization method. When making the change, be mindful of axis order changes: https://pyproj4.github.io/pyproj/stable/gotchas.html#axis-order-changes-in-proj-6\n",
      "  return _prepare_from_string(\" \".join(pjargs))\n",
      "/home/prativa/anaconda3/envs/py36/lib/python3.6/site-packages/pyproj/crs/crs.py:53: FutureWarning: '+init=<authority>:<code>' syntax is deprecated. '<authority>:<code>' is the preferred initialization method. When making the change, be mindful of axis order changes: https://pyproj4.github.io/pyproj/stable/gotchas.html#axis-order-changes-in-proj-6\n",
      "  return _prepare_from_string(\" \".join(pjargs))\n",
      "/home/prativa/anaconda3/envs/py36/lib/python3.6/site-packages/pyproj/crs/crs.py:53: FutureWarning: '+init=<authority>:<code>' syntax is deprecated. '<authority>:<code>' is the preferred initialization method. When making the change, be mindful of axis order changes: https://pyproj4.github.io/pyproj/stable/gotchas.html#axis-order-changes-in-proj-6\n",
      "  return _prepare_from_string(\" \".join(pjargs))\n"
     ]
    },
    {
     "name": "stderr",
     "output_type": "stream",
     "text": [
      "/home/prativa/anaconda3/envs/py36/lib/python3.6/site-packages/ipykernel_launcher.py:72: MatplotlibDeprecationWarning: You are modifying the state of a globally registered colormap. In future versions, you will not be able to modify a registered colormap in-place. To remove this warning, you can make a copy of the colormap first. cmap = copy.copy(mpl.cm.get_cmap(\"gray\"))\n",
      "/home/prativa/anaconda3/envs/py36/lib/python3.6/site-packages/ipykernel_launcher.py:72: MatplotlibDeprecationWarning: You are modifying the state of a globally registered colormap. In future versions, you will not be able to modify a registered colormap in-place. To remove this warning, you can make a copy of the colormap first. cmap = copy.copy(mpl.cm.get_cmap(\"gray\"))\n",
      "/home/prativa/anaconda3/envs/py36/lib/python3.6/site-packages/pyproj/crs/crs.py:53: FutureWarning: '+init=<authority>:<code>' syntax is deprecated. '<authority>:<code>' is the preferred initialization method. When making the change, be mindful of axis order changes: https://pyproj4.github.io/pyproj/stable/gotchas.html#axis-order-changes-in-proj-6\n",
      "  return _prepare_from_string(\" \".join(pjargs))\n",
      "\n",
      "\n",
      "\n",
      " 19%|█▉        | 107/550 [00:17<02:20,  3.15it/s]\u001b[A\u001b[A\u001b[A/home/prativa/anaconda3/envs/py36/lib/python3.6/site-packages/ipykernel_launcher.py:72: MatplotlibDeprecationWarning: You are modifying the state of a globally registered colormap. In future versions, you will not be able to modify a registered colormap in-place. To remove this warning, you can make a copy of the colormap first. cmap = copy.copy(mpl.cm.get_cmap(\"gray\"))\n",
      "/home/prativa/anaconda3/envs/py36/lib/python3.6/site-packages/pyproj/crs/crs.py:53: FutureWarning: '+init=<authority>:<code>' syntax is deprecated. '<authority>:<code>' is the preferred initialization method. When making the change, be mindful of axis order changes: https://pyproj4.github.io/pyproj/stable/gotchas.html#axis-order-changes-in-proj-6\n",
      "  return _prepare_from_string(\" \".join(pjargs))\n",
      "/home/prativa/anaconda3/envs/py36/lib/python3.6/site-packages/pyproj/crs/crs.py:53: FutureWarning: '+init=<authority>:<code>' syntax is deprecated. '<authority>:<code>' is the preferred initialization method. When making the change, be mindful of axis order changes: https://pyproj4.github.io/pyproj/stable/gotchas.html#axis-order-changes-in-proj-6\n",
      "  return _prepare_from_string(\" \".join(pjargs))\n",
      "/home/prativa/anaconda3/envs/py36/lib/python3.6/site-packages/ipykernel_launcher.py:72: MatplotlibDeprecationWarning: You are modifying the state of a globally registered colormap. In future versions, you will not be able to modify a registered colormap in-place. To remove this warning, you can make a copy of the colormap first. cmap = copy.copy(mpl.cm.get_cmap(\"gray\"))\n",
      "/home/prativa/anaconda3/envs/py36/lib/python3.6/site-packages/pyproj/crs/crs.py:53: FutureWarning: '+init=<authority>:<code>' syntax is deprecated. '<authority>:<code>' is the preferred initialization method. When making the change, be mindful of axis order changes: https://pyproj4.github.io/pyproj/stable/gotchas.html#axis-order-changes-in-proj-6\n",
      "  return _prepare_from_string(\" \".join(pjargs))\n",
      "/home/prativa/anaconda3/envs/py36/lib/python3.6/site-packages/pyproj/crs/crs.py:53: FutureWarning: '+init=<authority>:<code>' syntax is deprecated. '<authority>:<code>' is the preferred initialization method. When making the change, be mindful of axis order changes: https://pyproj4.github.io/pyproj/stable/gotchas.html#axis-order-changes-in-proj-6\n",
      "  return _prepare_from_string(\" \".join(pjargs))\n",
      "/home/prativa/anaconda3/envs/py36/lib/python3.6/site-packages/skimage/io/_io.py:141: UserWarning: data/AOI_3_Paris_Roads_Train/PAN_mask/SN3_roads_train_AOI_3_Paris_geojson_roads_img39.jpg is a low contrast image\n",
      "  warn('%s is a low contrast image' % fname)\n",
      "/home/prativa/anaconda3/envs/py36/lib/python3.6/site-packages/pyproj/crs/crs.py:53: FutureWarning: '+init=<authority>:<code>' syntax is deprecated. '<authority>:<code>' is the preferred initialization method. When making the change, be mindful of axis order changes: https://pyproj4.github.io/pyproj/stable/gotchas.html#axis-order-changes-in-proj-6\n",
      "  return _prepare_from_string(\" \".join(pjargs))\n",
      "\n",
      "\n",
      "\n",
      " 20%|█▉        | 108/550 [00:18<03:17,  2.24it/s]\u001b[A\u001b[A\u001b[A/home/prativa/anaconda3/envs/py36/lib/python3.6/site-packages/pyproj/crs/crs.py:53: FutureWarning: '+init=<authority>:<code>' syntax is deprecated. '<authority>:<code>' is the preferred initialization method. When making the change, be mindful of axis order changes: https://pyproj4.github.io/pyproj/stable/gotchas.html#axis-order-changes-in-proj-6\n",
      "  return _prepare_from_string(\" \".join(pjargs))\n",
      "/home/prativa/anaconda3/envs/py36/lib/python3.6/site-packages/ipykernel_launcher.py:72: MatplotlibDeprecationWarning: You are modifying the state of a globally registered colormap. In future versions, you will not be able to modify a registered colormap in-place. To remove this warning, you can make a copy of the colormap first. cmap = copy.copy(mpl.cm.get_cmap(\"gray\"))\n",
      "/home/prativa/anaconda3/envs/py36/lib/python3.6/site-packages/ipykernel_launcher.py:72: MatplotlibDeprecationWarning: You are modifying the state of a globally registered colormap. In future versions, you will not be able to modify a registered colormap in-place. To remove this warning, you can make a copy of the colormap first. cmap = copy.copy(mpl.cm.get_cmap(\"gray\"))\n",
      "/home/prativa/anaconda3/envs/py36/lib/python3.6/site-packages/pyproj/crs/crs.py:53: FutureWarning: '+init=<authority>:<code>' syntax is deprecated. '<authority>:<code>' is the preferred initialization method. When making the change, be mindful of axis order changes: https://pyproj4.github.io/pyproj/stable/gotchas.html#axis-order-changes-in-proj-6\n",
      "  return _prepare_from_string(\" \".join(pjargs))\n",
      "/home/prativa/anaconda3/envs/py36/lib/python3.6/site-packages/pyproj/crs/crs.py:53: FutureWarning: '+init=<authority>:<code>' syntax is deprecated. '<authority>:<code>' is the preferred initialization method. When making the change, be mindful of axis order changes: https://pyproj4.github.io/pyproj/stable/gotchas.html#axis-order-changes-in-proj-6\n",
      "  return _prepare_from_string(\" \".join(pjargs))\n",
      "/home/prativa/anaconda3/envs/py36/lib/python3.6/site-packages/pyproj/crs/crs.py:53: FutureWarning: '+init=<authority>:<code>' syntax is deprecated. '<authority>:<code>' is the preferred initialization method. When making the change, be mindful of axis order changes: https://pyproj4.github.io/pyproj/stable/gotchas.html#axis-order-changes-in-proj-6\n",
      "  return _prepare_from_string(\" \".join(pjargs))\n",
      "/home/prativa/anaconda3/envs/py36/lib/python3.6/site-packages/ipykernel_launcher.py:72: MatplotlibDeprecationWarning: You are modifying the state of a globally registered colormap. In future versions, you will not be able to modify a registered colormap in-place. To remove this warning, you can make a copy of the colormap first. cmap = copy.copy(mpl.cm.get_cmap(\"gray\"))\n",
      "/home/prativa/anaconda3/envs/py36/lib/python3.6/site-packages/ipykernel_launcher.py:72: MatplotlibDeprecationWarning: You are modifying the state of a globally registered colormap. In future versions, you will not be able to modify a registered colormap in-place. To remove this warning, you can make a copy of the colormap first. cmap = copy.copy(mpl.cm.get_cmap(\"gray\"))\n",
      "/home/prativa/anaconda3/envs/py36/lib/python3.6/site-packages/skimage/io/_io.py:141: UserWarning: data/AOI_3_Paris_Roads_Train/PAN_mask/SN3_roads_train_AOI_3_Paris_geojson_roads_img46.jpg is a low contrast image\n",
      "  warn('%s is a low contrast image' % fname)\n",
      "/home/prativa/anaconda3/envs/py36/lib/python3.6/site-packages/pyproj/crs/crs.py:53: FutureWarning: '+init=<authority>:<code>' syntax is deprecated. '<authority>:<code>' is the preferred initialization method. When making the change, be mindful of axis order changes: https://pyproj4.github.io/pyproj/stable/gotchas.html#axis-order-changes-in-proj-6\n",
      "  return _prepare_from_string(\" \".join(pjargs))\n",
      "\n",
      "\n",
      "\n",
      " 20%|██        | 111/550 [00:19<02:57,  2.48it/s]\u001b[A\u001b[A\u001b[A/home/prativa/anaconda3/envs/py36/lib/python3.6/site-packages/ipykernel_launcher.py:72: MatplotlibDeprecationWarning: You are modifying the state of a globally registered colormap. In future versions, you will not be able to modify a registered colormap in-place. To remove this warning, you can make a copy of the colormap first. cmap = copy.copy(mpl.cm.get_cmap(\"gray\"))\n"
     ]
    },
    {
     "name": "stderr",
     "output_type": "stream",
     "text": [
      "/home/prativa/anaconda3/envs/py36/lib/python3.6/site-packages/pyproj/crs/crs.py:53: FutureWarning: '+init=<authority>:<code>' syntax is deprecated. '<authority>:<code>' is the preferred initialization method. When making the change, be mindful of axis order changes: https://pyproj4.github.io/pyproj/stable/gotchas.html#axis-order-changes-in-proj-6\n",
      "  return _prepare_from_string(\" \".join(pjargs))\n",
      "\n",
      "\n",
      "\n",
      " 20%|██        | 112/550 [00:19<02:35,  2.82it/s]\u001b[A\u001b[A\u001b[A/home/prativa/anaconda3/envs/py36/lib/python3.6/site-packages/pyproj/crs/crs.py:53: FutureWarning: '+init=<authority>:<code>' syntax is deprecated. '<authority>:<code>' is the preferred initialization method. When making the change, be mindful of axis order changes: https://pyproj4.github.io/pyproj/stable/gotchas.html#axis-order-changes-in-proj-6\n",
      "  return _prepare_from_string(\" \".join(pjargs))\n",
      "/home/prativa/anaconda3/envs/py36/lib/python3.6/site-packages/ipykernel_launcher.py:72: MatplotlibDeprecationWarning: You are modifying the state of a globally registered colormap. In future versions, you will not be able to modify a registered colormap in-place. To remove this warning, you can make a copy of the colormap first. cmap = copy.copy(mpl.cm.get_cmap(\"gray\"))\n",
      "/home/prativa/anaconda3/envs/py36/lib/python3.6/site-packages/pyproj/crs/crs.py:53: FutureWarning: '+init=<authority>:<code>' syntax is deprecated. '<authority>:<code>' is the preferred initialization method. When making the change, be mindful of axis order changes: https://pyproj4.github.io/pyproj/stable/gotchas.html#axis-order-changes-in-proj-6\n",
      "  return _prepare_from_string(\" \".join(pjargs))\n",
      "/home/prativa/anaconda3/envs/py36/lib/python3.6/site-packages/pyproj/crs/crs.py:53: FutureWarning: '+init=<authority>:<code>' syntax is deprecated. '<authority>:<code>' is the preferred initialization method. When making the change, be mindful of axis order changes: https://pyproj4.github.io/pyproj/stable/gotchas.html#axis-order-changes-in-proj-6\n",
      "  return _prepare_from_string(\" \".join(pjargs))\n",
      "/home/prativa/anaconda3/envs/py36/lib/python3.6/site-packages/pyproj/crs/crs.py:53: FutureWarning: '+init=<authority>:<code>' syntax is deprecated. '<authority>:<code>' is the preferred initialization method. When making the change, be mindful of axis order changes: https://pyproj4.github.io/pyproj/stable/gotchas.html#axis-order-changes-in-proj-6\n",
      "  return _prepare_from_string(\" \".join(pjargs))\n",
      "\n",
      "\n",
      "\n",
      " 21%|██        | 113/550 [00:19<02:28,  2.95it/s]\u001b[A\u001b[A\u001b[A/home/prativa/anaconda3/envs/py36/lib/python3.6/site-packages/pyproj/crs/crs.py:53: FutureWarning: '+init=<authority>:<code>' syntax is deprecated. '<authority>:<code>' is the preferred initialization method. When making the change, be mindful of axis order changes: https://pyproj4.github.io/pyproj/stable/gotchas.html#axis-order-changes-in-proj-6\n",
      "  return _prepare_from_string(\" \".join(pjargs))\n",
      "/home/prativa/anaconda3/envs/py36/lib/python3.6/site-packages/pyproj/crs/crs.py:53: FutureWarning: '+init=<authority>:<code>' syntax is deprecated. '<authority>:<code>' is the preferred initialization method. When making the change, be mindful of axis order changes: https://pyproj4.github.io/pyproj/stable/gotchas.html#axis-order-changes-in-proj-6\n",
      "  return _prepare_from_string(\" \".join(pjargs))\n",
      "/home/prativa/anaconda3/envs/py36/lib/python3.6/site-packages/ipykernel_launcher.py:72: MatplotlibDeprecationWarning: You are modifying the state of a globally registered colormap. In future versions, you will not be able to modify a registered colormap in-place. To remove this warning, you can make a copy of the colormap first. cmap = copy.copy(mpl.cm.get_cmap(\"gray\"))\n",
      "/home/prativa/anaconda3/envs/py36/lib/python3.6/site-packages/ipykernel_launcher.py:72: MatplotlibDeprecationWarning: You are modifying the state of a globally registered colormap. In future versions, you will not be able to modify a registered colormap in-place. To remove this warning, you can make a copy of the colormap first. cmap = copy.copy(mpl.cm.get_cmap(\"gray\"))\n",
      "/home/prativa/anaconda3/envs/py36/lib/python3.6/site-packages/pyproj/crs/crs.py:53: FutureWarning: '+init=<authority>:<code>' syntax is deprecated. '<authority>:<code>' is the preferred initialization method. When making the change, be mindful of axis order changes: https://pyproj4.github.io/pyproj/stable/gotchas.html#axis-order-changes-in-proj-6\n",
      "  return _prepare_from_string(\" \".join(pjargs))\n",
      "\n",
      "\n",
      "\n",
      " 21%|██        | 115/550 [00:20<02:24,  3.00it/s]\u001b[A\u001b[A\u001b[A/home/prativa/anaconda3/envs/py36/lib/python3.6/site-packages/ipykernel_launcher.py:72: MatplotlibDeprecationWarning: You are modifying the state of a globally registered colormap. In future versions, you will not be able to modify a registered colormap in-place. To remove this warning, you can make a copy of the colormap first. cmap = copy.copy(mpl.cm.get_cmap(\"gray\"))\n",
      "/home/prativa/anaconda3/envs/py36/lib/python3.6/site-packages/pyproj/crs/crs.py:53: FutureWarning: '+init=<authority>:<code>' syntax is deprecated. '<authority>:<code>' is the preferred initialization method. When making the change, be mindful of axis order changes: https://pyproj4.github.io/pyproj/stable/gotchas.html#axis-order-changes-in-proj-6\n",
      "  return _prepare_from_string(\" \".join(pjargs))\n",
      "/home/prativa/anaconda3/envs/py36/lib/python3.6/site-packages/pyproj/crs/crs.py:53: FutureWarning: '+init=<authority>:<code>' syntax is deprecated. '<authority>:<code>' is the preferred initialization method. When making the change, be mindful of axis order changes: https://pyproj4.github.io/pyproj/stable/gotchas.html#axis-order-changes-in-proj-6\n",
      "  return _prepare_from_string(\" \".join(pjargs))\n",
      "\n",
      "\n",
      "\n",
      " 21%|██▏       | 117/550 [00:20<02:02,  3.54it/s]\u001b[A\u001b[A\u001b[A/home/prativa/anaconda3/envs/py36/lib/python3.6/site-packages/ipykernel_launcher.py:72: MatplotlibDeprecationWarning: You are modifying the state of a globally registered colormap. In future versions, you will not be able to modify a registered colormap in-place. To remove this warning, you can make a copy of the colormap first. cmap = copy.copy(mpl.cm.get_cmap(\"gray\"))\n",
      "/home/prativa/anaconda3/envs/py36/lib/python3.6/site-packages/pyproj/crs/crs.py:53: FutureWarning: '+init=<authority>:<code>' syntax is deprecated. '<authority>:<code>' is the preferred initialization method. When making the change, be mindful of axis order changes: https://pyproj4.github.io/pyproj/stable/gotchas.html#axis-order-changes-in-proj-6\n",
      "  return _prepare_from_string(\" \".join(pjargs))\n",
      "/home/prativa/anaconda3/envs/py36/lib/python3.6/site-packages/pyproj/crs/crs.py:53: FutureWarning: '+init=<authority>:<code>' syntax is deprecated. '<authority>:<code>' is the preferred initialization method. When making the change, be mindful of axis order changes: https://pyproj4.github.io/pyproj/stable/gotchas.html#axis-order-changes-in-proj-6\n",
      "  return _prepare_from_string(\" \".join(pjargs))\n",
      "/home/prativa/anaconda3/envs/py36/lib/python3.6/site-packages/pyproj/crs/crs.py:53: FutureWarning: '+init=<authority>:<code>' syntax is deprecated. '<authority>:<code>' is the preferred initialization method. When making the change, be mindful of axis order changes: https://pyproj4.github.io/pyproj/stable/gotchas.html#axis-order-changes-in-proj-6\n",
      "  return _prepare_from_string(\" \".join(pjargs))\n"
     ]
    },
    {
     "name": "stdout",
     "output_type": "stream",
     "text": [
      "data/AOI_3_Paris_Roads_Train/geojson/spacenetroads/SN3_roads_train_AOI_3_Paris_geojson_roads_img7.geojson: No such file or directory\n"
     ]
    },
    {
     "name": "stderr",
     "output_type": "stream",
     "text": [
      "\n",
      "\n",
      "\n",
      " 22%|██▏       | 119/550 [00:21<01:57,  3.67it/s]\u001b[A\u001b[A\u001b[A/home/prativa/anaconda3/envs/py36/lib/python3.6/site-packages/pyproj/crs/crs.py:53: FutureWarning: '+init=<authority>:<code>' syntax is deprecated. '<authority>:<code>' is the preferred initialization method. When making the change, be mindful of axis order changes: https://pyproj4.github.io/pyproj/stable/gotchas.html#axis-order-changes-in-proj-6\n",
      "  return _prepare_from_string(\" \".join(pjargs))\n",
      "/home/prativa/anaconda3/envs/py36/lib/python3.6/site-packages/ipykernel_launcher.py:72: MatplotlibDeprecationWarning: You are modifying the state of a globally registered colormap. In future versions, you will not be able to modify a registered colormap in-place. To remove this warning, you can make a copy of the colormap first. cmap = copy.copy(mpl.cm.get_cmap(\"gray\"))\n",
      "/home/prativa/anaconda3/envs/py36/lib/python3.6/site-packages/pyproj/crs/crs.py:53: FutureWarning: '+init=<authority>:<code>' syntax is deprecated. '<authority>:<code>' is the preferred initialization method. When making the change, be mindful of axis order changes: https://pyproj4.github.io/pyproj/stable/gotchas.html#axis-order-changes-in-proj-6\n",
      "  return _prepare_from_string(\" \".join(pjargs))\n",
      "\n",
      "\n",
      "\n",
      " 22%|██▏       | 120/550 [00:21<01:35,  4.52it/s]\u001b[A\u001b[A\u001b[A/home/prativa/anaconda3/envs/py36/lib/python3.6/site-packages/ipykernel_launcher.py:72: MatplotlibDeprecationWarning: You are modifying the state of a globally registered colormap. In future versions, you will not be able to modify a registered colormap in-place. To remove this warning, you can make a copy of the colormap first. cmap = copy.copy(mpl.cm.get_cmap(\"gray\"))\n",
      "/home/prativa/anaconda3/envs/py36/lib/python3.6/site-packages/pyproj/crs/crs.py:53: FutureWarning: '+init=<authority>:<code>' syntax is deprecated. '<authority>:<code>' is the preferred initialization method. When making the change, be mindful of axis order changes: https://pyproj4.github.io/pyproj/stable/gotchas.html#axis-order-changes-in-proj-6\n",
      "  return _prepare_from_string(\" \".join(pjargs))\n",
      "/home/prativa/anaconda3/envs/py36/lib/python3.6/site-packages/pyproj/crs/crs.py:53: FutureWarning: '+init=<authority>:<code>' syntax is deprecated. '<authority>:<code>' is the preferred initialization method. When making the change, be mindful of axis order changes: https://pyproj4.github.io/pyproj/stable/gotchas.html#axis-order-changes-in-proj-6\n",
      "  return _prepare_from_string(\" \".join(pjargs))\n",
      "/home/prativa/anaconda3/envs/py36/lib/python3.6/site-packages/pyproj/crs/crs.py:53: FutureWarning: '+init=<authority>:<code>' syntax is deprecated. '<authority>:<code>' is the preferred initialization method. When making the change, be mindful of axis order changes: https://pyproj4.github.io/pyproj/stable/gotchas.html#axis-order-changes-in-proj-6\n",
      "  return _prepare_from_string(\" \".join(pjargs))\n",
      "/home/prativa/anaconda3/envs/py36/lib/python3.6/site-packages/pyproj/crs/crs.py:53: FutureWarning: '+init=<authority>:<code>' syntax is deprecated. '<authority>:<code>' is the preferred initialization method. When making the change, be mindful of axis order changes: https://pyproj4.github.io/pyproj/stable/gotchas.html#axis-order-changes-in-proj-6\n",
      "  return _prepare_from_string(\" \".join(pjargs))\n",
      "/home/prativa/anaconda3/envs/py36/lib/python3.6/site-packages/pyproj/crs/crs.py:53: FutureWarning: '+init=<authority>:<code>' syntax is deprecated. '<authority>:<code>' is the preferred initialization method. When making the change, be mindful of axis order changes: https://pyproj4.github.io/pyproj/stable/gotchas.html#axis-order-changes-in-proj-6\n",
      "  return _prepare_from_string(\" \".join(pjargs))\n",
      "/home/prativa/anaconda3/envs/py36/lib/python3.6/site-packages/ipykernel_launcher.py:72: MatplotlibDeprecationWarning: You are modifying the state of a globally registered colormap. In future versions, you will not be able to modify a registered colormap in-place. To remove this warning, you can make a copy of the colormap first. cmap = copy.copy(mpl.cm.get_cmap(\"gray\"))\n",
      "\n",
      "\n",
      "\n",
      " 22%|██▏       | 121/550 [00:21<02:13,  3.21it/s]\u001b[A\u001b[A\u001b[A/home/prativa/anaconda3/envs/py36/lib/python3.6/site-packages/pyproj/crs/crs.py:53: FutureWarning: '+init=<authority>:<code>' syntax is deprecated. '<authority>:<code>' is the preferred initialization method. When making the change, be mindful of axis order changes: https://pyproj4.github.io/pyproj/stable/gotchas.html#axis-order-changes-in-proj-6\n",
      "  return _prepare_from_string(\" \".join(pjargs))\n",
      "/home/prativa/anaconda3/envs/py36/lib/python3.6/site-packages/skimage/io/_io.py:141: UserWarning: data/AOI_3_Paris_Roads_Train/PAN_mask/SN3_roads_train_AOI_3_Paris_geojson_roads_img6.jpg is a low contrast image\n",
      "  warn('%s is a low contrast image' % fname)\n"
     ]
    },
    {
     "name": "stdout",
     "output_type": "stream",
     "text": [
      "data/AOI_3_Paris_Roads_Train/geojson/spacenetroads/SN3_roads_train_AOI_3_Paris_geojson_roads_img77.geojson: No such file or directory\n"
     ]
    },
    {
     "name": "stderr",
     "output_type": "stream",
     "text": [
      "\n",
      "\n",
      "\n",
      " 22%|██▏       | 123/550 [00:21<01:47,  3.96it/s]\u001b[A\u001b[A\u001b[A/home/prativa/anaconda3/envs/py36/lib/python3.6/site-packages/pyproj/crs/crs.py:53: FutureWarning: '+init=<authority>:<code>' syntax is deprecated. '<authority>:<code>' is the preferred initialization method. When making the change, be mindful of axis order changes: https://pyproj4.github.io/pyproj/stable/gotchas.html#axis-order-changes-in-proj-6\n",
      "  return _prepare_from_string(\" \".join(pjargs))\n",
      "/home/prativa/anaconda3/envs/py36/lib/python3.6/site-packages/ipykernel_launcher.py:72: MatplotlibDeprecationWarning: You are modifying the state of a globally registered colormap. In future versions, you will not be able to modify a registered colormap in-place. To remove this warning, you can make a copy of the colormap first. cmap = copy.copy(mpl.cm.get_cmap(\"gray\"))\n",
      "/home/prativa/anaconda3/envs/py36/lib/python3.6/site-packages/ipykernel_launcher.py:72: MatplotlibDeprecationWarning: You are modifying the state of a globally registered colormap. In future versions, you will not be able to modify a registered colormap in-place. To remove this warning, you can make a copy of the colormap first. cmap = copy.copy(mpl.cm.get_cmap(\"gray\"))\n",
      "/home/prativa/anaconda3/envs/py36/lib/python3.6/site-packages/pyproj/crs/crs.py:53: FutureWarning: '+init=<authority>:<code>' syntax is deprecated. '<authority>:<code>' is the preferred initialization method. When making the change, be mindful of axis order changes: https://pyproj4.github.io/pyproj/stable/gotchas.html#axis-order-changes-in-proj-6\n",
      "  return _prepare_from_string(\" \".join(pjargs))\n",
      "/home/prativa/anaconda3/envs/py36/lib/python3.6/site-packages/pyproj/crs/crs.py:53: FutureWarning: '+init=<authority>:<code>' syntax is deprecated. '<authority>:<code>' is the preferred initialization method. When making the change, be mindful of axis order changes: https://pyproj4.github.io/pyproj/stable/gotchas.html#axis-order-changes-in-proj-6\n",
      "  return _prepare_from_string(\" \".join(pjargs))\n",
      "/home/prativa/anaconda3/envs/py36/lib/python3.6/site-packages/ipykernel_launcher.py:72: MatplotlibDeprecationWarning: You are modifying the state of a globally registered colormap. In future versions, you will not be able to modify a registered colormap in-place. To remove this warning, you can make a copy of the colormap first. cmap = copy.copy(mpl.cm.get_cmap(\"gray\"))\n",
      "/home/prativa/anaconda3/envs/py36/lib/python3.6/site-packages/pyproj/crs/crs.py:53: FutureWarning: '+init=<authority>:<code>' syntax is deprecated. '<authority>:<code>' is the preferred initialization method. When making the change, be mindful of axis order changes: https://pyproj4.github.io/pyproj/stable/gotchas.html#axis-order-changes-in-proj-6\n",
      "  return _prepare_from_string(\" \".join(pjargs))\n",
      "/home/prativa/anaconda3/envs/py36/lib/python3.6/site-packages/pyproj/crs/crs.py:53: FutureWarning: '+init=<authority>:<code>' syntax is deprecated. '<authority>:<code>' is the preferred initialization method. When making the change, be mindful of axis order changes: https://pyproj4.github.io/pyproj/stable/gotchas.html#axis-order-changes-in-proj-6\n",
      "  return _prepare_from_string(\" \".join(pjargs))\n",
      "/home/prativa/anaconda3/envs/py36/lib/python3.6/site-packages/ipykernel_launcher.py:72: MatplotlibDeprecationWarning: You are modifying the state of a globally registered colormap. In future versions, you will not be able to modify a registered colormap in-place. To remove this warning, you can make a copy of the colormap first. cmap = copy.copy(mpl.cm.get_cmap(\"gray\"))\n",
      "\n",
      "\n",
      "\n",
      " 23%|██▎       | 124/550 [00:22<02:46,  2.55it/s]\u001b[A\u001b[A\u001b[A/home/prativa/anaconda3/envs/py36/lib/python3.6/site-packages/skimage/io/_io.py:141: UserWarning: data/AOI_3_Paris_Roads_Train/PAN_mask/SN3_roads_train_AOI_3_Paris_geojson_roads_img64.jpg is a low contrast image\n",
      "  warn('%s is a low contrast image' % fname)\n",
      "/home/prativa/anaconda3/envs/py36/lib/python3.6/site-packages/pyproj/crs/crs.py:53: FutureWarning: '+init=<authority>:<code>' syntax is deprecated. '<authority>:<code>' is the preferred initialization method. When making the change, be mindful of axis order changes: https://pyproj4.github.io/pyproj/stable/gotchas.html#axis-order-changes-in-proj-6\n",
      "  return _prepare_from_string(\" \".join(pjargs))\n",
      "/home/prativa/anaconda3/envs/py36/lib/python3.6/site-packages/ipykernel_launcher.py:72: MatplotlibDeprecationWarning: You are modifying the state of a globally registered colormap. In future versions, you will not be able to modify a registered colormap in-place. To remove this warning, you can make a copy of the colormap first. cmap = copy.copy(mpl.cm.get_cmap(\"gray\"))\n",
      "\n",
      "\n",
      "\n",
      " 23%|██▎       | 125/550 [00:22<02:33,  2.77it/s]\u001b[A\u001b[A\u001b[A/home/prativa/anaconda3/envs/py36/lib/python3.6/site-packages/pyproj/crs/crs.py:53: FutureWarning: '+init=<authority>:<code>' syntax is deprecated. '<authority>:<code>' is the preferred initialization method. When making the change, be mindful of axis order changes: https://pyproj4.github.io/pyproj/stable/gotchas.html#axis-order-changes-in-proj-6\n",
      "  return _prepare_from_string(\" \".join(pjargs))\n",
      "/home/prativa/anaconda3/envs/py36/lib/python3.6/site-packages/pyproj/crs/crs.py:53: FutureWarning: '+init=<authority>:<code>' syntax is deprecated. '<authority>:<code>' is the preferred initialization method. When making the change, be mindful of axis order changes: https://pyproj4.github.io/pyproj/stable/gotchas.html#axis-order-changes-in-proj-6\n",
      "  return _prepare_from_string(\" \".join(pjargs))\n",
      "/home/prativa/anaconda3/envs/py36/lib/python3.6/site-packages/pyproj/crs/crs.py:53: FutureWarning: '+init=<authority>:<code>' syntax is deprecated. '<authority>:<code>' is the preferred initialization method. When making the change, be mindful of axis order changes: https://pyproj4.github.io/pyproj/stable/gotchas.html#axis-order-changes-in-proj-6\n",
      "  return _prepare_from_string(\" \".join(pjargs))\n",
      "/home/prativa/anaconda3/envs/py36/lib/python3.6/site-packages/ipykernel_launcher.py:72: MatplotlibDeprecationWarning: You are modifying the state of a globally registered colormap. In future versions, you will not be able to modify a registered colormap in-place. To remove this warning, you can make a copy of the colormap first. cmap = copy.copy(mpl.cm.get_cmap(\"gray\"))\n",
      "/home/prativa/anaconda3/envs/py36/lib/python3.6/site-packages/pyproj/crs/crs.py:53: FutureWarning: '+init=<authority>:<code>' syntax is deprecated. '<authority>:<code>' is the preferred initialization method. When making the change, be mindful of axis order changes: https://pyproj4.github.io/pyproj/stable/gotchas.html#axis-order-changes-in-proj-6\n",
      "  return _prepare_from_string(\" \".join(pjargs))\n",
      "/home/prativa/anaconda3/envs/py36/lib/python3.6/site-packages/pyproj/crs/crs.py:53: FutureWarning: '+init=<authority>:<code>' syntax is deprecated. '<authority>:<code>' is the preferred initialization method. When making the change, be mindful of axis order changes: https://pyproj4.github.io/pyproj/stable/gotchas.html#axis-order-changes-in-proj-6\n",
      "  return _prepare_from_string(\" \".join(pjargs))\n",
      "\n",
      "\n",
      "\n",
      " 23%|██▎       | 127/550 [00:23<02:21,  2.98it/s]\u001b[A\u001b[A\u001b[A/home/prativa/anaconda3/envs/py36/lib/python3.6/site-packages/ipykernel_launcher.py:72: MatplotlibDeprecationWarning: You are modifying the state of a globally registered colormap. In future versions, you will not be able to modify a registered colormap in-place. To remove this warning, you can make a copy of the colormap first. cmap = copy.copy(mpl.cm.get_cmap(\"gray\"))\n",
      "/home/prativa/anaconda3/envs/py36/lib/python3.6/site-packages/pyproj/crs/crs.py:53: FutureWarning: '+init=<authority>:<code>' syntax is deprecated. '<authority>:<code>' is the preferred initialization method. When making the change, be mindful of axis order changes: https://pyproj4.github.io/pyproj/stable/gotchas.html#axis-order-changes-in-proj-6\n",
      "  return _prepare_from_string(\" \".join(pjargs))\n",
      "/home/prativa/anaconda3/envs/py36/lib/python3.6/site-packages/ipykernel_launcher.py:72: MatplotlibDeprecationWarning: You are modifying the state of a globally registered colormap. In future versions, you will not be able to modify a registered colormap in-place. To remove this warning, you can make a copy of the colormap first. cmap = copy.copy(mpl.cm.get_cmap(\"gray\"))\n"
     ]
    },
    {
     "name": "stderr",
     "output_type": "stream",
     "text": [
      "\n",
      "\n",
      "\n",
      " 23%|██▎       | 129/550 [00:23<02:05,  3.35it/s]\u001b[A\u001b[A\u001b[A/home/prativa/anaconda3/envs/py36/lib/python3.6/site-packages/pyproj/crs/crs.py:53: FutureWarning: '+init=<authority>:<code>' syntax is deprecated. '<authority>:<code>' is the preferred initialization method. When making the change, be mindful of axis order changes: https://pyproj4.github.io/pyproj/stable/gotchas.html#axis-order-changes-in-proj-6\n",
      "  return _prepare_from_string(\" \".join(pjargs))\n",
      "/home/prativa/anaconda3/envs/py36/lib/python3.6/site-packages/ipykernel_launcher.py:72: MatplotlibDeprecationWarning: You are modifying the state of a globally registered colormap. In future versions, you will not be able to modify a registered colormap in-place. To remove this warning, you can make a copy of the colormap first. cmap = copy.copy(mpl.cm.get_cmap(\"gray\"))\n",
      "/home/prativa/anaconda3/envs/py36/lib/python3.6/site-packages/pyproj/crs/crs.py:53: FutureWarning: '+init=<authority>:<code>' syntax is deprecated. '<authority>:<code>' is the preferred initialization method. When making the change, be mindful of axis order changes: https://pyproj4.github.io/pyproj/stable/gotchas.html#axis-order-changes-in-proj-6\n",
      "  return _prepare_from_string(\" \".join(pjargs))\n",
      "\n",
      "\n",
      "\n",
      " 24%|██▎       | 130/550 [00:24<02:17,  3.05it/s]\u001b[A\u001b[A\u001b[A/home/prativa/anaconda3/envs/py36/lib/python3.6/site-packages/pyproj/crs/crs.py:53: FutureWarning: '+init=<authority>:<code>' syntax is deprecated. '<authority>:<code>' is the preferred initialization method. When making the change, be mindful of axis order changes: https://pyproj4.github.io/pyproj/stable/gotchas.html#axis-order-changes-in-proj-6\n",
      "  return _prepare_from_string(\" \".join(pjargs))\n",
      "/home/prativa/anaconda3/envs/py36/lib/python3.6/site-packages/pyproj/crs/crs.py:53: FutureWarning: '+init=<authority>:<code>' syntax is deprecated. '<authority>:<code>' is the preferred initialization method. When making the change, be mindful of axis order changes: https://pyproj4.github.io/pyproj/stable/gotchas.html#axis-order-changes-in-proj-6\n",
      "  return _prepare_from_string(\" \".join(pjargs))\n",
      "/home/prativa/anaconda3/envs/py36/lib/python3.6/site-packages/pyproj/crs/crs.py:53: FutureWarning: '+init=<authority>:<code>' syntax is deprecated. '<authority>:<code>' is the preferred initialization method. When making the change, be mindful of axis order changes: https://pyproj4.github.io/pyproj/stable/gotchas.html#axis-order-changes-in-proj-6\n",
      "  return _prepare_from_string(\" \".join(pjargs))\n",
      "/home/prativa/anaconda3/envs/py36/lib/python3.6/site-packages/ipykernel_launcher.py:72: MatplotlibDeprecationWarning: You are modifying the state of a globally registered colormap. In future versions, you will not be able to modify a registered colormap in-place. To remove this warning, you can make a copy of the colormap first. cmap = copy.copy(mpl.cm.get_cmap(\"gray\"))\n",
      "\n",
      "\n",
      "\n",
      " 24%|██▍       | 132/550 [00:24<02:00,  3.48it/s]\u001b[A\u001b[A\u001b[A/home/prativa/anaconda3/envs/py36/lib/python3.6/site-packages/pyproj/crs/crs.py:53: FutureWarning: '+init=<authority>:<code>' syntax is deprecated. '<authority>:<code>' is the preferred initialization method. When making the change, be mindful of axis order changes: https://pyproj4.github.io/pyproj/stable/gotchas.html#axis-order-changes-in-proj-6\n",
      "  return _prepare_from_string(\" \".join(pjargs))\n",
      "/home/prativa/anaconda3/envs/py36/lib/python3.6/site-packages/pyproj/crs/crs.py:53: FutureWarning: '+init=<authority>:<code>' syntax is deprecated. '<authority>:<code>' is the preferred initialization method. When making the change, be mindful of axis order changes: https://pyproj4.github.io/pyproj/stable/gotchas.html#axis-order-changes-in-proj-6\n",
      "  return _prepare_from_string(\" \".join(pjargs))\n",
      "/home/prativa/anaconda3/envs/py36/lib/python3.6/site-packages/pyproj/crs/crs.py:53: FutureWarning: '+init=<authority>:<code>' syntax is deprecated. '<authority>:<code>' is the preferred initialization method. When making the change, be mindful of axis order changes: https://pyproj4.github.io/pyproj/stable/gotchas.html#axis-order-changes-in-proj-6\n",
      "  return _prepare_from_string(\" \".join(pjargs))\n",
      "\n",
      "\n",
      "\n",
      " 24%|██▍       | 134/550 [00:24<01:39,  4.20it/s]\u001b[A\u001b[A\u001b[A/home/prativa/anaconda3/envs/py36/lib/python3.6/site-packages/pyproj/crs/crs.py:53: FutureWarning: '+init=<authority>:<code>' syntax is deprecated. '<authority>:<code>' is the preferred initialization method. When making the change, be mindful of axis order changes: https://pyproj4.github.io/pyproj/stable/gotchas.html#axis-order-changes-in-proj-6\n",
      "  return _prepare_from_string(\" \".join(pjargs))\n",
      "/home/prativa/anaconda3/envs/py36/lib/python3.6/site-packages/pyproj/crs/crs.py:53: FutureWarning: '+init=<authority>:<code>' syntax is deprecated. '<authority>:<code>' is the preferred initialization method. When making the change, be mindful of axis order changes: https://pyproj4.github.io/pyproj/stable/gotchas.html#axis-order-changes-in-proj-6\n",
      "  return _prepare_from_string(\" \".join(pjargs))\n",
      "/home/prativa/anaconda3/envs/py36/lib/python3.6/site-packages/ipykernel_launcher.py:72: MatplotlibDeprecationWarning: You are modifying the state of a globally registered colormap. In future versions, you will not be able to modify a registered colormap in-place. To remove this warning, you can make a copy of the colormap first. cmap = copy.copy(mpl.cm.get_cmap(\"gray\"))\n",
      "/home/prativa/anaconda3/envs/py36/lib/python3.6/site-packages/pyproj/crs/crs.py:53: FutureWarning: '+init=<authority>:<code>' syntax is deprecated. '<authority>:<code>' is the preferred initialization method. When making the change, be mindful of axis order changes: https://pyproj4.github.io/pyproj/stable/gotchas.html#axis-order-changes-in-proj-6\n",
      "  return _prepare_from_string(\" \".join(pjargs))\n",
      "/home/prativa/anaconda3/envs/py36/lib/python3.6/site-packages/pyproj/crs/crs.py:53: FutureWarning: '+init=<authority>:<code>' syntax is deprecated. '<authority>:<code>' is the preferred initialization method. When making the change, be mindful of axis order changes: https://pyproj4.github.io/pyproj/stable/gotchas.html#axis-order-changes-in-proj-6\n",
      "  return _prepare_from_string(\" \".join(pjargs))\n",
      "/home/prativa/anaconda3/envs/py36/lib/python3.6/site-packages/ipykernel_launcher.py:72: MatplotlibDeprecationWarning: You are modifying the state of a globally registered colormap. In future versions, you will not be able to modify a registered colormap in-place. To remove this warning, you can make a copy of the colormap first. cmap = copy.copy(mpl.cm.get_cmap(\"gray\"))\n",
      "\n",
      "\n",
      "\n",
      " 25%|██▍       | 136/550 [00:25<01:41,  4.08it/s]\u001b[A\u001b[A\u001b[A/home/prativa/anaconda3/envs/py36/lib/python3.6/site-packages/pyproj/crs/crs.py:53: FutureWarning: '+init=<authority>:<code>' syntax is deprecated. '<authority>:<code>' is the preferred initialization method. When making the change, be mindful of axis order changes: https://pyproj4.github.io/pyproj/stable/gotchas.html#axis-order-changes-in-proj-6\n",
      "  return _prepare_from_string(\" \".join(pjargs))\n",
      "/home/prativa/anaconda3/envs/py36/lib/python3.6/site-packages/ipykernel_launcher.py:72: MatplotlibDeprecationWarning: You are modifying the state of a globally registered colormap. In future versions, you will not be able to modify a registered colormap in-place. To remove this warning, you can make a copy of the colormap first. cmap = copy.copy(mpl.cm.get_cmap(\"gray\"))\n",
      "/home/prativa/anaconda3/envs/py36/lib/python3.6/site-packages/pyproj/crs/crs.py:53: FutureWarning: '+init=<authority>:<code>' syntax is deprecated. '<authority>:<code>' is the preferred initialization method. When making the change, be mindful of axis order changes: https://pyproj4.github.io/pyproj/stable/gotchas.html#axis-order-changes-in-proj-6\n",
      "  return _prepare_from_string(\" \".join(pjargs))\n",
      "/home/prativa/anaconda3/envs/py36/lib/python3.6/site-packages/pyproj/crs/crs.py:53: FutureWarning: '+init=<authority>:<code>' syntax is deprecated. '<authority>:<code>' is the preferred initialization method. When making the change, be mindful of axis order changes: https://pyproj4.github.io/pyproj/stable/gotchas.html#axis-order-changes-in-proj-6\n",
      "  return _prepare_from_string(\" \".join(pjargs))\n",
      "\n",
      "\n",
      "\n",
      " 25%|██▌       | 138/550 [00:25<01:23,  4.91it/s]\u001b[A\u001b[A\u001b[A/home/prativa/anaconda3/envs/py36/lib/python3.6/site-packages/ipykernel_launcher.py:72: MatplotlibDeprecationWarning: You are modifying the state of a globally registered colormap. In future versions, you will not be able to modify a registered colormap in-place. To remove this warning, you can make a copy of the colormap first. cmap = copy.copy(mpl.cm.get_cmap(\"gray\"))\n"
     ]
    },
    {
     "name": "stderr",
     "output_type": "stream",
     "text": [
      "/home/prativa/anaconda3/envs/py36/lib/python3.6/site-packages/ipykernel_launcher.py:72: MatplotlibDeprecationWarning: You are modifying the state of a globally registered colormap. In future versions, you will not be able to modify a registered colormap in-place. To remove this warning, you can make a copy of the colormap first. cmap = copy.copy(mpl.cm.get_cmap(\"gray\"))\n",
      "/home/prativa/anaconda3/envs/py36/lib/python3.6/site-packages/pyproj/crs/crs.py:53: FutureWarning: '+init=<authority>:<code>' syntax is deprecated. '<authority>:<code>' is the preferred initialization method. When making the change, be mindful of axis order changes: https://pyproj4.github.io/pyproj/stable/gotchas.html#axis-order-changes-in-proj-6\n",
      "  return _prepare_from_string(\" \".join(pjargs))\n",
      "/home/prativa/anaconda3/envs/py36/lib/python3.6/site-packages/pyproj/crs/crs.py:53: FutureWarning: '+init=<authority>:<code>' syntax is deprecated. '<authority>:<code>' is the preferred initialization method. When making the change, be mindful of axis order changes: https://pyproj4.github.io/pyproj/stable/gotchas.html#axis-order-changes-in-proj-6\n",
      "  return _prepare_from_string(\" \".join(pjargs))\n",
      "/home/prativa/anaconda3/envs/py36/lib/python3.6/site-packages/ipykernel_launcher.py:72: MatplotlibDeprecationWarning: You are modifying the state of a globally registered colormap. In future versions, you will not be able to modify a registered colormap in-place. To remove this warning, you can make a copy of the colormap first. cmap = copy.copy(mpl.cm.get_cmap(\"gray\"))\n",
      "/home/prativa/anaconda3/envs/py36/lib/python3.6/site-packages/pyproj/crs/crs.py:53: FutureWarning: '+init=<authority>:<code>' syntax is deprecated. '<authority>:<code>' is the preferred initialization method. When making the change, be mindful of axis order changes: https://pyproj4.github.io/pyproj/stable/gotchas.html#axis-order-changes-in-proj-6\n",
      "  return _prepare_from_string(\" \".join(pjargs))\n",
      "/home/prativa/anaconda3/envs/py36/lib/python3.6/site-packages/pyproj/crs/crs.py:53: FutureWarning: '+init=<authority>:<code>' syntax is deprecated. '<authority>:<code>' is the preferred initialization method. When making the change, be mindful of axis order changes: https://pyproj4.github.io/pyproj/stable/gotchas.html#axis-order-changes-in-proj-6\n",
      "  return _prepare_from_string(\" \".join(pjargs))\n",
      "\n",
      "\n",
      "\n",
      " 25%|██▌       | 139/550 [00:26<02:18,  2.97it/s]\u001b[A\u001b[A\u001b[A/home/prativa/anaconda3/envs/py36/lib/python3.6/site-packages/pyproj/crs/crs.py:53: FutureWarning: '+init=<authority>:<code>' syntax is deprecated. '<authority>:<code>' is the preferred initialization method. When making the change, be mindful of axis order changes: https://pyproj4.github.io/pyproj/stable/gotchas.html#axis-order-changes-in-proj-6\n",
      "  return _prepare_from_string(\" \".join(pjargs))\n",
      "/home/prativa/anaconda3/envs/py36/lib/python3.6/site-packages/skimage/io/_io.py:141: UserWarning: data/AOI_3_Paris_Roads_Train/PAN_mask/SN3_roads_train_AOI_3_Paris_geojson_roads_img47.jpg is a low contrast image\n",
      "  warn('%s is a low contrast image' % fname)\n",
      "/home/prativa/anaconda3/envs/py36/lib/python3.6/site-packages/ipykernel_launcher.py:72: MatplotlibDeprecationWarning: You are modifying the state of a globally registered colormap. In future versions, you will not be able to modify a registered colormap in-place. To remove this warning, you can make a copy of the colormap first. cmap = copy.copy(mpl.cm.get_cmap(\"gray\"))\n",
      "\n",
      "\n",
      "\n",
      " 25%|██▌       | 140/550 [00:26<02:14,  3.04it/s]\u001b[A\u001b[A\u001b[A/home/prativa/anaconda3/envs/py36/lib/python3.6/site-packages/ipykernel_launcher.py:72: MatplotlibDeprecationWarning: You are modifying the state of a globally registered colormap. In future versions, you will not be able to modify a registered colormap in-place. To remove this warning, you can make a copy of the colormap first. cmap = copy.copy(mpl.cm.get_cmap(\"gray\"))\n",
      "/home/prativa/anaconda3/envs/py36/lib/python3.6/site-packages/pyproj/crs/crs.py:53: FutureWarning: '+init=<authority>:<code>' syntax is deprecated. '<authority>:<code>' is the preferred initialization method. When making the change, be mindful of axis order changes: https://pyproj4.github.io/pyproj/stable/gotchas.html#axis-order-changes-in-proj-6\n",
      "  return _prepare_from_string(\" \".join(pjargs))\n",
      "/home/prativa/anaconda3/envs/py36/lib/python3.6/site-packages/skimage/io/_io.py:141: UserWarning: data/AOI_3_Paris_Roads_Train/PAN_mask/SN3_roads_train_AOI_3_Paris_geojson_roads_img17.jpg is a low contrast image\n",
      "  warn('%s is a low contrast image' % fname)\n",
      "/home/prativa/anaconda3/envs/py36/lib/python3.6/site-packages/pyproj/crs/crs.py:53: FutureWarning: '+init=<authority>:<code>' syntax is deprecated. '<authority>:<code>' is the preferred initialization method. When making the change, be mindful of axis order changes: https://pyproj4.github.io/pyproj/stable/gotchas.html#axis-order-changes-in-proj-6\n",
      "  return _prepare_from_string(\" \".join(pjargs))\n",
      "/home/prativa/anaconda3/envs/py36/lib/python3.6/site-packages/ipykernel_launcher.py:72: MatplotlibDeprecationWarning: You are modifying the state of a globally registered colormap. In future versions, you will not be able to modify a registered colormap in-place. To remove this warning, you can make a copy of the colormap first. cmap = copy.copy(mpl.cm.get_cmap(\"gray\"))\n",
      "/home/prativa/anaconda3/envs/py36/lib/python3.6/site-packages/pyproj/crs/crs.py:53: FutureWarning: '+init=<authority>:<code>' syntax is deprecated. '<authority>:<code>' is the preferred initialization method. When making the change, be mindful of axis order changes: https://pyproj4.github.io/pyproj/stable/gotchas.html#axis-order-changes-in-proj-6\n",
      "  return _prepare_from_string(\" \".join(pjargs))\n",
      "/home/prativa/anaconda3/envs/py36/lib/python3.6/site-packages/pyproj/crs/crs.py:53: FutureWarning: '+init=<authority>:<code>' syntax is deprecated. '<authority>:<code>' is the preferred initialization method. When making the change, be mindful of axis order changes: https://pyproj4.github.io/pyproj/stable/gotchas.html#axis-order-changes-in-proj-6\n",
      "  return _prepare_from_string(\" \".join(pjargs))\n",
      "\n",
      "\n",
      "\n",
      " 26%|██▌       | 141/550 [00:27<02:41,  2.53it/s]\u001b[A\u001b[A\u001b[A/home/prativa/anaconda3/envs/py36/lib/python3.6/site-packages/skimage/io/_io.py:141: UserWarning: data/AOI_3_Paris_Roads_Train/PAN_mask/SN3_roads_train_AOI_3_Paris_geojson_roads_img18.jpg is a low contrast image\n",
      "  warn('%s is a low contrast image' % fname)\n",
      "/home/prativa/anaconda3/envs/py36/lib/python3.6/site-packages/ipykernel_launcher.py:72: MatplotlibDeprecationWarning: You are modifying the state of a globally registered colormap. In future versions, you will not be able to modify a registered colormap in-place. To remove this warning, you can make a copy of the colormap first. cmap = copy.copy(mpl.cm.get_cmap(\"gray\"))\n",
      "\n",
      "\n",
      "\n",
      " 26%|██▌       | 144/550 [00:27<02:02,  3.32it/s]\u001b[A\u001b[A\u001b[A/home/prativa/anaconda3/envs/py36/lib/python3.6/site-packages/pyproj/crs/crs.py:53: FutureWarning: '+init=<authority>:<code>' syntax is deprecated. '<authority>:<code>' is the preferred initialization method. When making the change, be mindful of axis order changes: https://pyproj4.github.io/pyproj/stable/gotchas.html#axis-order-changes-in-proj-6\n",
      "  return _prepare_from_string(\" \".join(pjargs))\n",
      "/home/prativa/anaconda3/envs/py36/lib/python3.6/site-packages/pyproj/crs/crs.py:53: FutureWarning: '+init=<authority>:<code>' syntax is deprecated. '<authority>:<code>' is the preferred initialization method. When making the change, be mindful of axis order changes: https://pyproj4.github.io/pyproj/stable/gotchas.html#axis-order-changes-in-proj-6\n",
      "  return _prepare_from_string(\" \".join(pjargs))\n",
      "/home/prativa/anaconda3/envs/py36/lib/python3.6/site-packages/ipykernel_launcher.py:72: MatplotlibDeprecationWarning: You are modifying the state of a globally registered colormap. In future versions, you will not be able to modify a registered colormap in-place. To remove this warning, you can make a copy of the colormap first. cmap = copy.copy(mpl.cm.get_cmap(\"gray\"))\n",
      "/home/prativa/anaconda3/envs/py36/lib/python3.6/site-packages/pyproj/crs/crs.py:53: FutureWarning: '+init=<authority>:<code>' syntax is deprecated. '<authority>:<code>' is the preferred initialization method. When making the change, be mindful of axis order changes: https://pyproj4.github.io/pyproj/stable/gotchas.html#axis-order-changes-in-proj-6\n",
      "  return _prepare_from_string(\" \".join(pjargs))\n"
     ]
    },
    {
     "name": "stderr",
     "output_type": "stream",
     "text": [
      "/home/prativa/anaconda3/envs/py36/lib/python3.6/site-packages/pyproj/crs/crs.py:53: FutureWarning: '+init=<authority>:<code>' syntax is deprecated. '<authority>:<code>' is the preferred initialization method. When making the change, be mindful of axis order changes: https://pyproj4.github.io/pyproj/stable/gotchas.html#axis-order-changes-in-proj-6\n",
      "  return _prepare_from_string(\" \".join(pjargs))\n",
      "/home/prativa/anaconda3/envs/py36/lib/python3.6/site-packages/ipykernel_launcher.py:72: MatplotlibDeprecationWarning: You are modifying the state of a globally registered colormap. In future versions, you will not be able to modify a registered colormap in-place. To remove this warning, you can make a copy of the colormap first. cmap = copy.copy(mpl.cm.get_cmap(\"gray\"))\n",
      "/home/prativa/anaconda3/envs/py36/lib/python3.6/site-packages/pyproj/crs/crs.py:53: FutureWarning: '+init=<authority>:<code>' syntax is deprecated. '<authority>:<code>' is the preferred initialization method. When making the change, be mindful of axis order changes: https://pyproj4.github.io/pyproj/stable/gotchas.html#axis-order-changes-in-proj-6\n",
      "  return _prepare_from_string(\" \".join(pjargs))\n",
      "\n",
      "\n",
      "\n",
      " 26%|██▋       | 145/550 [00:28<02:44,  2.46it/s]\u001b[A\u001b[A\u001b[A/home/prativa/anaconda3/envs/py36/lib/python3.6/site-packages/pyproj/crs/crs.py:53: FutureWarning: '+init=<authority>:<code>' syntax is deprecated. '<authority>:<code>' is the preferred initialization method. When making the change, be mindful of axis order changes: https://pyproj4.github.io/pyproj/stable/gotchas.html#axis-order-changes-in-proj-6\n",
      "  return _prepare_from_string(\" \".join(pjargs))\n",
      "/home/prativa/anaconda3/envs/py36/lib/python3.6/site-packages/pyproj/crs/crs.py:53: FutureWarning: '+init=<authority>:<code>' syntax is deprecated. '<authority>:<code>' is the preferred initialization method. When making the change, be mindful of axis order changes: https://pyproj4.github.io/pyproj/stable/gotchas.html#axis-order-changes-in-proj-6\n",
      "  return _prepare_from_string(\" \".join(pjargs))\n",
      "/home/prativa/anaconda3/envs/py36/lib/python3.6/site-packages/pyproj/crs/crs.py:53: FutureWarning: '+init=<authority>:<code>' syntax is deprecated. '<authority>:<code>' is the preferred initialization method. When making the change, be mindful of axis order changes: https://pyproj4.github.io/pyproj/stable/gotchas.html#axis-order-changes-in-proj-6\n",
      "  return _prepare_from_string(\" \".join(pjargs))\n",
      "/home/prativa/anaconda3/envs/py36/lib/python3.6/site-packages/ipykernel_launcher.py:72: MatplotlibDeprecationWarning: You are modifying the state of a globally registered colormap. In future versions, you will not be able to modify a registered colormap in-place. To remove this warning, you can make a copy of the colormap first. cmap = copy.copy(mpl.cm.get_cmap(\"gray\"))\n",
      "/home/prativa/anaconda3/envs/py36/lib/python3.6/site-packages/ipykernel_launcher.py:72: MatplotlibDeprecationWarning: You are modifying the state of a globally registered colormap. In future versions, you will not be able to modify a registered colormap in-place. To remove this warning, you can make a copy of the colormap first. cmap = copy.copy(mpl.cm.get_cmap(\"gray\"))\n",
      "/home/prativa/anaconda3/envs/py36/lib/python3.6/site-packages/ipykernel_launcher.py:72: MatplotlibDeprecationWarning: You are modifying the state of a globally registered colormap. In future versions, you will not be able to modify a registered colormap in-place. To remove this warning, you can make a copy of the colormap first. cmap = copy.copy(mpl.cm.get_cmap(\"gray\"))\n",
      "/home/prativa/anaconda3/envs/py36/lib/python3.6/site-packages/pyproj/crs/crs.py:53: FutureWarning: '+init=<authority>:<code>' syntax is deprecated. '<authority>:<code>' is the preferred initialization method. When making the change, be mindful of axis order changes: https://pyproj4.github.io/pyproj/stable/gotchas.html#axis-order-changes-in-proj-6\n",
      "  return _prepare_from_string(\" \".join(pjargs))\n",
      "/home/prativa/anaconda3/envs/py36/lib/python3.6/site-packages/pyproj/crs/crs.py:53: FutureWarning: '+init=<authority>:<code>' syntax is deprecated. '<authority>:<code>' is the preferred initialization method. When making the change, be mindful of axis order changes: https://pyproj4.github.io/pyproj/stable/gotchas.html#axis-order-changes-in-proj-6\n",
      "  return _prepare_from_string(\" \".join(pjargs))\n",
      "\n",
      "\n",
      "\n",
      " 27%|██▋       | 146/550 [00:28<03:25,  1.96it/s]\u001b[A\u001b[A\u001b[A/home/prativa/anaconda3/envs/py36/lib/python3.6/site-packages/pyproj/crs/crs.py:53: FutureWarning: '+init=<authority>:<code>' syntax is deprecated. '<authority>:<code>' is the preferred initialization method. When making the change, be mindful of axis order changes: https://pyproj4.github.io/pyproj/stable/gotchas.html#axis-order-changes-in-proj-6\n",
      "  return _prepare_from_string(\" \".join(pjargs))\n",
      "\n",
      "\n",
      "\n",
      " 27%|██▋       | 149/550 [00:29<02:38,  2.53it/s]\u001b[A\u001b[A\u001b[A/home/prativa/anaconda3/envs/py36/lib/python3.6/site-packages/pyproj/crs/crs.py:53: FutureWarning: '+init=<authority>:<code>' syntax is deprecated. '<authority>:<code>' is the preferred initialization method. When making the change, be mindful of axis order changes: https://pyproj4.github.io/pyproj/stable/gotchas.html#axis-order-changes-in-proj-6\n",
      "  return _prepare_from_string(\" \".join(pjargs))\n",
      "/home/prativa/anaconda3/envs/py36/lib/python3.6/site-packages/ipykernel_launcher.py:72: MatplotlibDeprecationWarning: You are modifying the state of a globally registered colormap. In future versions, you will not be able to modify a registered colormap in-place. To remove this warning, you can make a copy of the colormap first. cmap = copy.copy(mpl.cm.get_cmap(\"gray\"))\n",
      "/home/prativa/anaconda3/envs/py36/lib/python3.6/site-packages/pyproj/crs/crs.py:53: FutureWarning: '+init=<authority>:<code>' syntax is deprecated. '<authority>:<code>' is the preferred initialization method. When making the change, be mindful of axis order changes: https://pyproj4.github.io/pyproj/stable/gotchas.html#axis-order-changes-in-proj-6\n",
      "  return _prepare_from_string(\" \".join(pjargs))\n",
      "/home/prativa/anaconda3/envs/py36/lib/python3.6/site-packages/ipykernel_launcher.py:72: MatplotlibDeprecationWarning: You are modifying the state of a globally registered colormap. In future versions, you will not be able to modify a registered colormap in-place. To remove this warning, you can make a copy of the colormap first. cmap = copy.copy(mpl.cm.get_cmap(\"gray\"))\n",
      "/home/prativa/anaconda3/envs/py36/lib/python3.6/site-packages/pyproj/crs/crs.py:53: FutureWarning: '+init=<authority>:<code>' syntax is deprecated. '<authority>:<code>' is the preferred initialization method. When making the change, be mindful of axis order changes: https://pyproj4.github.io/pyproj/stable/gotchas.html#axis-order-changes-in-proj-6\n",
      "  return _prepare_from_string(\" \".join(pjargs))\n",
      "/home/prativa/anaconda3/envs/py36/lib/python3.6/site-packages/pyproj/crs/crs.py:53: FutureWarning: '+init=<authority>:<code>' syntax is deprecated. '<authority>:<code>' is the preferred initialization method. When making the change, be mindful of axis order changes: https://pyproj4.github.io/pyproj/stable/gotchas.html#axis-order-changes-in-proj-6\n",
      "  return _prepare_from_string(\" \".join(pjargs))\n",
      "/home/prativa/anaconda3/envs/py36/lib/python3.6/site-packages/pyproj/crs/crs.py:53: FutureWarning: '+init=<authority>:<code>' syntax is deprecated. '<authority>:<code>' is the preferred initialization method. When making the change, be mindful of axis order changes: https://pyproj4.github.io/pyproj/stable/gotchas.html#axis-order-changes-in-proj-6\n",
      "  return _prepare_from_string(\" \".join(pjargs))\n",
      "/home/prativa/anaconda3/envs/py36/lib/python3.6/site-packages/pyproj/crs/crs.py:53: FutureWarning: '+init=<authority>:<code>' syntax is deprecated. '<authority>:<code>' is the preferred initialization method. When making the change, be mindful of axis order changes: https://pyproj4.github.io/pyproj/stable/gotchas.html#axis-order-changes-in-proj-6\n",
      "  return _prepare_from_string(\" \".join(pjargs))\n",
      "/home/prativa/anaconda3/envs/py36/lib/python3.6/site-packages/pyproj/crs/crs.py:53: FutureWarning: '+init=<authority>:<code>' syntax is deprecated. '<authority>:<code>' is the preferred initialization method. When making the change, be mindful of axis order changes: https://pyproj4.github.io/pyproj/stable/gotchas.html#axis-order-changes-in-proj-6\n",
      "  return _prepare_from_string(\" \".join(pjargs))\n"
     ]
    },
    {
     "name": "stderr",
     "output_type": "stream",
     "text": [
      "/home/prativa/anaconda3/envs/py36/lib/python3.6/site-packages/pyproj/crs/crs.py:53: FutureWarning: '+init=<authority>:<code>' syntax is deprecated. '<authority>:<code>' is the preferred initialization method. When making the change, be mindful of axis order changes: https://pyproj4.github.io/pyproj/stable/gotchas.html#axis-order-changes-in-proj-6\n",
      "  return _prepare_from_string(\" \".join(pjargs))\n",
      "/home/prativa/anaconda3/envs/py36/lib/python3.6/site-packages/ipykernel_launcher.py:72: MatplotlibDeprecationWarning: You are modifying the state of a globally registered colormap. In future versions, you will not be able to modify a registered colormap in-place. To remove this warning, you can make a copy of the colormap first. cmap = copy.copy(mpl.cm.get_cmap(\"gray\"))\n",
      "\n",
      "\n",
      "\n",
      " 27%|██▋       | 151/550 [00:30<02:41,  2.48it/s]\u001b[A\u001b[A\u001b[A/home/prativa/anaconda3/envs/py36/lib/python3.6/site-packages/ipykernel_launcher.py:72: MatplotlibDeprecationWarning: You are modifying the state of a globally registered colormap. In future versions, you will not be able to modify a registered colormap in-place. To remove this warning, you can make a copy of the colormap first. cmap = copy.copy(mpl.cm.get_cmap(\"gray\"))\n",
      "\n",
      "\n",
      "\n",
      " 28%|██▊       | 152/550 [00:30<02:11,  3.04it/s]\u001b[A\u001b[A\u001b[A/home/prativa/anaconda3/envs/py36/lib/python3.6/site-packages/pyproj/crs/crs.py:53: FutureWarning: '+init=<authority>:<code>' syntax is deprecated. '<authority>:<code>' is the preferred initialization method. When making the change, be mindful of axis order changes: https://pyproj4.github.io/pyproj/stable/gotchas.html#axis-order-changes-in-proj-6\n",
      "  return _prepare_from_string(\" \".join(pjargs))\n",
      "\n",
      "\n",
      "\n",
      " 28%|██▊       | 153/550 [00:30<02:03,  3.20it/s]\u001b[A\u001b[A\u001b[A/home/prativa/anaconda3/envs/py36/lib/python3.6/site-packages/ipykernel_launcher.py:72: MatplotlibDeprecationWarning: You are modifying the state of a globally registered colormap. In future versions, you will not be able to modify a registered colormap in-place. To remove this warning, you can make a copy of the colormap first. cmap = copy.copy(mpl.cm.get_cmap(\"gray\"))\n",
      "/home/prativa/anaconda3/envs/py36/lib/python3.6/site-packages/ipykernel_launcher.py:72: MatplotlibDeprecationWarning: You are modifying the state of a globally registered colormap. In future versions, you will not be able to modify a registered colormap in-place. To remove this warning, you can make a copy of the colormap first. cmap = copy.copy(mpl.cm.get_cmap(\"gray\"))\n",
      "/home/prativa/anaconda3/envs/py36/lib/python3.6/site-packages/pyproj/crs/crs.py:53: FutureWarning: '+init=<authority>:<code>' syntax is deprecated. '<authority>:<code>' is the preferred initialization method. When making the change, be mindful of axis order changes: https://pyproj4.github.io/pyproj/stable/gotchas.html#axis-order-changes-in-proj-6\n",
      "  return _prepare_from_string(\" \".join(pjargs))\n",
      "\n",
      "\n",
      "\n",
      " 28%|██▊       | 154/550 [00:30<01:58,  3.35it/s]\u001b[A\u001b[A\u001b[A/home/prativa/anaconda3/envs/py36/lib/python3.6/site-packages/pyproj/crs/crs.py:53: FutureWarning: '+init=<authority>:<code>' syntax is deprecated. '<authority>:<code>' is the preferred initialization method. When making the change, be mindful of axis order changes: https://pyproj4.github.io/pyproj/stable/gotchas.html#axis-order-changes-in-proj-6\n",
      "  return _prepare_from_string(\" \".join(pjargs))\n",
      "/home/prativa/anaconda3/envs/py36/lib/python3.6/site-packages/pyproj/crs/crs.py:53: FutureWarning: '+init=<authority>:<code>' syntax is deprecated. '<authority>:<code>' is the preferred initialization method. When making the change, be mindful of axis order changes: https://pyproj4.github.io/pyproj/stable/gotchas.html#axis-order-changes-in-proj-6\n",
      "  return _prepare_from_string(\" \".join(pjargs))\n",
      "/home/prativa/anaconda3/envs/py36/lib/python3.6/site-packages/pyproj/crs/crs.py:53: FutureWarning: '+init=<authority>:<code>' syntax is deprecated. '<authority>:<code>' is the preferred initialization method. When making the change, be mindful of axis order changes: https://pyproj4.github.io/pyproj/stable/gotchas.html#axis-order-changes-in-proj-6\n",
      "  return _prepare_from_string(\" \".join(pjargs))\n",
      "/home/prativa/anaconda3/envs/py36/lib/python3.6/site-packages/pyproj/crs/crs.py:53: FutureWarning: '+init=<authority>:<code>' syntax is deprecated. '<authority>:<code>' is the preferred initialization method. When making the change, be mindful of axis order changes: https://pyproj4.github.io/pyproj/stable/gotchas.html#axis-order-changes-in-proj-6\n",
      "  return _prepare_from_string(\" \".join(pjargs))\n",
      "/home/prativa/anaconda3/envs/py36/lib/python3.6/site-packages/pyproj/crs/crs.py:53: FutureWarning: '+init=<authority>:<code>' syntax is deprecated. '<authority>:<code>' is the preferred initialization method. When making the change, be mindful of axis order changes: https://pyproj4.github.io/pyproj/stable/gotchas.html#axis-order-changes-in-proj-6\n",
      "  return _prepare_from_string(\" \".join(pjargs))\n",
      "/home/prativa/anaconda3/envs/py36/lib/python3.6/site-packages/pyproj/crs/crs.py:53: FutureWarning: '+init=<authority>:<code>' syntax is deprecated. '<authority>:<code>' is the preferred initialization method. When making the change, be mindful of axis order changes: https://pyproj4.github.io/pyproj/stable/gotchas.html#axis-order-changes-in-proj-6\n",
      "  return _prepare_from_string(\" \".join(pjargs))\n",
      "/home/prativa/anaconda3/envs/py36/lib/python3.6/site-packages/ipykernel_launcher.py:72: MatplotlibDeprecationWarning: You are modifying the state of a globally registered colormap. In future versions, you will not be able to modify a registered colormap in-place. To remove this warning, you can make a copy of the colormap first. cmap = copy.copy(mpl.cm.get_cmap(\"gray\"))\n",
      "/home/prativa/anaconda3/envs/py36/lib/python3.6/site-packages/pyproj/crs/crs.py:53: FutureWarning: '+init=<authority>:<code>' syntax is deprecated. '<authority>:<code>' is the preferred initialization method. When making the change, be mindful of axis order changes: https://pyproj4.github.io/pyproj/stable/gotchas.html#axis-order-changes-in-proj-6\n",
      "  return _prepare_from_string(\" \".join(pjargs))\n",
      "/home/prativa/anaconda3/envs/py36/lib/python3.6/site-packages/pyproj/crs/crs.py:53: FutureWarning: '+init=<authority>:<code>' syntax is deprecated. '<authority>:<code>' is the preferred initialization method. When making the change, be mindful of axis order changes: https://pyproj4.github.io/pyproj/stable/gotchas.html#axis-order-changes-in-proj-6\n",
      "  return _prepare_from_string(\" \".join(pjargs))\n",
      "/home/prativa/anaconda3/envs/py36/lib/python3.6/site-packages/ipykernel_launcher.py:72: MatplotlibDeprecationWarning: You are modifying the state of a globally registered colormap. In future versions, you will not be able to modify a registered colormap in-place. To remove this warning, you can make a copy of the colormap first. cmap = copy.copy(mpl.cm.get_cmap(\"gray\"))\n",
      "\n",
      "\n",
      "\n",
      " 28%|██▊       | 156/550 [00:31<02:16,  2.88it/s]\u001b[A\u001b[A\u001b[A/home/prativa/anaconda3/envs/py36/lib/python3.6/site-packages/ipykernel_launcher.py:72: MatplotlibDeprecationWarning: You are modifying the state of a globally registered colormap. In future versions, you will not be able to modify a registered colormap in-place. To remove this warning, you can make a copy of the colormap first. cmap = copy.copy(mpl.cm.get_cmap(\"gray\"))\n",
      "/home/prativa/anaconda3/envs/py36/lib/python3.6/site-packages/ipykernel_launcher.py:72: MatplotlibDeprecationWarning: You are modifying the state of a globally registered colormap. In future versions, you will not be able to modify a registered colormap in-place. To remove this warning, you can make a copy of the colormap first. cmap = copy.copy(mpl.cm.get_cmap(\"gray\"))\n",
      "/home/prativa/anaconda3/envs/py36/lib/python3.6/site-packages/ipykernel_launcher.py:72: MatplotlibDeprecationWarning: You are modifying the state of a globally registered colormap. In future versions, you will not be able to modify a registered colormap in-place. To remove this warning, you can make a copy of the colormap first. cmap = copy.copy(mpl.cm.get_cmap(\"gray\"))\n",
      "/home/prativa/anaconda3/envs/py36/lib/python3.6/site-packages/skimage/io/_io.py:141: UserWarning: data/AOI_3_Paris_Roads_Train/RGB-PanSharpen_mask/SN3_roads_train_AOI_3_Paris_geojson_roads_img39.jpg is a low contrast image\n",
      "  warn('%s is a low contrast image' % fname)\n"
     ]
    },
    {
     "name": "stderr",
     "output_type": "stream",
     "text": [
      "/home/prativa/anaconda3/envs/py36/lib/python3.6/site-packages/pyproj/crs/crs.py:53: FutureWarning: '+init=<authority>:<code>' syntax is deprecated. '<authority>:<code>' is the preferred initialization method. When making the change, be mindful of axis order changes: https://pyproj4.github.io/pyproj/stable/gotchas.html#axis-order-changes-in-proj-6\n",
      "  return _prepare_from_string(\" \".join(pjargs))\n",
      "\n",
      "\n",
      "\n",
      " 29%|██▊       | 157/550 [00:32<02:35,  2.52it/s]\u001b[A\u001b[A\u001b[A/home/prativa/anaconda3/envs/py36/lib/python3.6/site-packages/pyproj/crs/crs.py:53: FutureWarning: '+init=<authority>:<code>' syntax is deprecated. '<authority>:<code>' is the preferred initialization method. When making the change, be mindful of axis order changes: https://pyproj4.github.io/pyproj/stable/gotchas.html#axis-order-changes-in-proj-6\n",
      "  return _prepare_from_string(\" \".join(pjargs))\n",
      "/home/prativa/anaconda3/envs/py36/lib/python3.6/site-packages/pyproj/crs/crs.py:53: FutureWarning: '+init=<authority>:<code>' syntax is deprecated. '<authority>:<code>' is the preferred initialization method. When making the change, be mindful of axis order changes: https://pyproj4.github.io/pyproj/stable/gotchas.html#axis-order-changes-in-proj-6\n",
      "  return _prepare_from_string(\" \".join(pjargs))\n",
      "/home/prativa/anaconda3/envs/py36/lib/python3.6/site-packages/pyproj/crs/crs.py:53: FutureWarning: '+init=<authority>:<code>' syntax is deprecated. '<authority>:<code>' is the preferred initialization method. When making the change, be mindful of axis order changes: https://pyproj4.github.io/pyproj/stable/gotchas.html#axis-order-changes-in-proj-6\n",
      "  return _prepare_from_string(\" \".join(pjargs))\n",
      "/home/prativa/anaconda3/envs/py36/lib/python3.6/site-packages/pyproj/crs/crs.py:53: FutureWarning: '+init=<authority>:<code>' syntax is deprecated. '<authority>:<code>' is the preferred initialization method. When making the change, be mindful of axis order changes: https://pyproj4.github.io/pyproj/stable/gotchas.html#axis-order-changes-in-proj-6\n",
      "  return _prepare_from_string(\" \".join(pjargs))\n",
      "/home/prativa/anaconda3/envs/py36/lib/python3.6/site-packages/pyproj/crs/crs.py:53: FutureWarning: '+init=<authority>:<code>' syntax is deprecated. '<authority>:<code>' is the preferred initialization method. When making the change, be mindful of axis order changes: https://pyproj4.github.io/pyproj/stable/gotchas.html#axis-order-changes-in-proj-6\n",
      "  return _prepare_from_string(\" \".join(pjargs))\n",
      "\n",
      "\n",
      "\n",
      " 29%|██▉       | 160/550 [00:32<02:08,  3.04it/s]\u001b[A\u001b[A\u001b[A/home/prativa/anaconda3/envs/py36/lib/python3.6/site-packages/pyproj/crs/crs.py:53: FutureWarning: '+init=<authority>:<code>' syntax is deprecated. '<authority>:<code>' is the preferred initialization method. When making the change, be mindful of axis order changes: https://pyproj4.github.io/pyproj/stable/gotchas.html#axis-order-changes-in-proj-6\n",
      "  return _prepare_from_string(\" \".join(pjargs))\n",
      "/home/prativa/anaconda3/envs/py36/lib/python3.6/site-packages/ipykernel_launcher.py:72: MatplotlibDeprecationWarning: You are modifying the state of a globally registered colormap. In future versions, you will not be able to modify a registered colormap in-place. To remove this warning, you can make a copy of the colormap first. cmap = copy.copy(mpl.cm.get_cmap(\"gray\"))\n",
      "/home/prativa/anaconda3/envs/py36/lib/python3.6/site-packages/pyproj/crs/crs.py:53: FutureWarning: '+init=<authority>:<code>' syntax is deprecated. '<authority>:<code>' is the preferred initialization method. When making the change, be mindful of axis order changes: https://pyproj4.github.io/pyproj/stable/gotchas.html#axis-order-changes-in-proj-6\n",
      "  return _prepare_from_string(\" \".join(pjargs))\n",
      "/home/prativa/anaconda3/envs/py36/lib/python3.6/site-packages/ipykernel_launcher.py:72: MatplotlibDeprecationWarning: You are modifying the state of a globally registered colormap. In future versions, you will not be able to modify a registered colormap in-place. To remove this warning, you can make a copy of the colormap first. cmap = copy.copy(mpl.cm.get_cmap(\"gray\"))\n",
      "/home/prativa/anaconda3/envs/py36/lib/python3.6/site-packages/pyproj/crs/crs.py:53: FutureWarning: '+init=<authority>:<code>' syntax is deprecated. '<authority>:<code>' is the preferred initialization method. When making the change, be mindful of axis order changes: https://pyproj4.github.io/pyproj/stable/gotchas.html#axis-order-changes-in-proj-6\n",
      "  return _prepare_from_string(\" \".join(pjargs))\n",
      "/home/prativa/anaconda3/envs/py36/lib/python3.6/site-packages/ipykernel_launcher.py:72: MatplotlibDeprecationWarning: You are modifying the state of a globally registered colormap. In future versions, you will not be able to modify a registered colormap in-place. To remove this warning, you can make a copy of the colormap first. cmap = copy.copy(mpl.cm.get_cmap(\"gray\"))\n",
      "/home/prativa/anaconda3/envs/py36/lib/python3.6/site-packages/ipykernel_launcher.py:72: MatplotlibDeprecationWarning: You are modifying the state of a globally registered colormap. In future versions, you will not be able to modify a registered colormap in-place. To remove this warning, you can make a copy of the colormap first. cmap = copy.copy(mpl.cm.get_cmap(\"gray\"))\n",
      "\n",
      "\n",
      "\n",
      " 29%|██▉       | 161/550 [00:33<02:57,  2.19it/s]\u001b[A\u001b[A\u001b[A/home/prativa/anaconda3/envs/py36/lib/python3.6/site-packages/pyproj/crs/crs.py:53: FutureWarning: '+init=<authority>:<code>' syntax is deprecated. '<authority>:<code>' is the preferred initialization method. When making the change, be mindful of axis order changes: https://pyproj4.github.io/pyproj/stable/gotchas.html#axis-order-changes-in-proj-6\n",
      "  return _prepare_from_string(\" \".join(pjargs))\n",
      "\n",
      "\n",
      "\n",
      " 29%|██▉       | 162/550 [00:33<02:33,  2.53it/s]\u001b[A\u001b[A\u001b[A/home/prativa/anaconda3/envs/py36/lib/python3.6/site-packages/ipykernel_launcher.py:72: MatplotlibDeprecationWarning: You are modifying the state of a globally registered colormap. In future versions, you will not be able to modify a registered colormap in-place. To remove this warning, you can make a copy of the colormap first. cmap = copy.copy(mpl.cm.get_cmap(\"gray\"))\n",
      "/home/prativa/anaconda3/envs/py36/lib/python3.6/site-packages/pyproj/crs/crs.py:53: FutureWarning: '+init=<authority>:<code>' syntax is deprecated. '<authority>:<code>' is the preferred initialization method. When making the change, be mindful of axis order changes: https://pyproj4.github.io/pyproj/stable/gotchas.html#axis-order-changes-in-proj-6\n",
      "  return _prepare_from_string(\" \".join(pjargs))\n",
      "/home/prativa/anaconda3/envs/py36/lib/python3.6/site-packages/pyproj/crs/crs.py:53: FutureWarning: '+init=<authority>:<code>' syntax is deprecated. '<authority>:<code>' is the preferred initialization method. When making the change, be mindful of axis order changes: https://pyproj4.github.io/pyproj/stable/gotchas.html#axis-order-changes-in-proj-6\n",
      "  return _prepare_from_string(\" \".join(pjargs))\n",
      "/home/prativa/anaconda3/envs/py36/lib/python3.6/site-packages/pyproj/crs/crs.py:53: FutureWarning: '+init=<authority>:<code>' syntax is deprecated. '<authority>:<code>' is the preferred initialization method. When making the change, be mindful of axis order changes: https://pyproj4.github.io/pyproj/stable/gotchas.html#axis-order-changes-in-proj-6\n",
      "  return _prepare_from_string(\" \".join(pjargs))\n",
      "/home/prativa/anaconda3/envs/py36/lib/python3.6/site-packages/pyproj/crs/crs.py:53: FutureWarning: '+init=<authority>:<code>' syntax is deprecated. '<authority>:<code>' is the preferred initialization method. When making the change, be mindful of axis order changes: https://pyproj4.github.io/pyproj/stable/gotchas.html#axis-order-changes-in-proj-6\n",
      "  return _prepare_from_string(\" \".join(pjargs))\n",
      "/home/prativa/anaconda3/envs/py36/lib/python3.6/site-packages/pyproj/crs/crs.py:53: FutureWarning: '+init=<authority>:<code>' syntax is deprecated. '<authority>:<code>' is the preferred initialization method. When making the change, be mindful of axis order changes: https://pyproj4.github.io/pyproj/stable/gotchas.html#axis-order-changes-in-proj-6\n",
      "  return _prepare_from_string(\" \".join(pjargs))\n",
      "/home/prativa/anaconda3/envs/py36/lib/python3.6/site-packages/pyproj/crs/crs.py:53: FutureWarning: '+init=<authority>:<code>' syntax is deprecated. '<authority>:<code>' is the preferred initialization method. When making the change, be mindful of axis order changes: https://pyproj4.github.io/pyproj/stable/gotchas.html#axis-order-changes-in-proj-6\n",
      "  return _prepare_from_string(\" \".join(pjargs))\n"
     ]
    },
    {
     "name": "stderr",
     "output_type": "stream",
     "text": [
      "/home/prativa/anaconda3/envs/py36/lib/python3.6/site-packages/pyproj/crs/crs.py:53: FutureWarning: '+init=<authority>:<code>' syntax is deprecated. '<authority>:<code>' is the preferred initialization method. When making the change, be mindful of axis order changes: https://pyproj4.github.io/pyproj/stable/gotchas.html#axis-order-changes-in-proj-6\n",
      "  return _prepare_from_string(\" \".join(pjargs))\n",
      "/home/prativa/anaconda3/envs/py36/lib/python3.6/site-packages/skimage/io/_io.py:141: UserWarning: data/AOI_3_Paris_Roads_Train/RGB-PanSharpen_mask/SN3_roads_train_AOI_3_Paris_geojson_roads_img46.jpg is a low contrast image\n",
      "  warn('%s is a low contrast image' % fname)\n",
      "/home/prativa/anaconda3/envs/py36/lib/python3.6/site-packages/pyproj/crs/crs.py:53: FutureWarning: '+init=<authority>:<code>' syntax is deprecated. '<authority>:<code>' is the preferred initialization method. When making the change, be mindful of axis order changes: https://pyproj4.github.io/pyproj/stable/gotchas.html#axis-order-changes-in-proj-6\n",
      "  return _prepare_from_string(\" \".join(pjargs))\n",
      "\n",
      "\n",
      "\n",
      " 30%|███       | 166/550 [00:34<02:04,  3.08it/s]\u001b[A\u001b[A\u001b[A/home/prativa/anaconda3/envs/py36/lib/python3.6/site-packages/pyproj/crs/crs.py:53: FutureWarning: '+init=<authority>:<code>' syntax is deprecated. '<authority>:<code>' is the preferred initialization method. When making the change, be mindful of axis order changes: https://pyproj4.github.io/pyproj/stable/gotchas.html#axis-order-changes-in-proj-6\n",
      "  return _prepare_from_string(\" \".join(pjargs))\n",
      "/home/prativa/anaconda3/envs/py36/lib/python3.6/site-packages/pyproj/crs/crs.py:53: FutureWarning: '+init=<authority>:<code>' syntax is deprecated. '<authority>:<code>' is the preferred initialization method. When making the change, be mindful of axis order changes: https://pyproj4.github.io/pyproj/stable/gotchas.html#axis-order-changes-in-proj-6\n",
      "  return _prepare_from_string(\" \".join(pjargs))\n",
      "\n",
      "\n",
      "\n",
      " 30%|███       | 167/550 [00:34<01:44,  3.68it/s]\u001b[A\u001b[A\u001b[A/home/prativa/anaconda3/envs/py36/lib/python3.6/site-packages/skimage/io/_io.py:141: UserWarning: data/AOI_3_Paris_Roads_Train/RGB-PanSharpen_mask/SN3_roads_train_AOI_3_Paris_geojson_roads_img47.jpg is a low contrast image\n",
      "  warn('%s is a low contrast image' % fname)\n",
      "\n",
      "\n",
      "\n",
      " 31%|███       | 168/550 [00:34<01:24,  4.53it/s]\u001b[A\u001b[A\u001b[A/home/prativa/anaconda3/envs/py36/lib/python3.6/site-packages/ipykernel_launcher.py:72: MatplotlibDeprecationWarning: You are modifying the state of a globally registered colormap. In future versions, you will not be able to modify a registered colormap in-place. To remove this warning, you can make a copy of the colormap first. cmap = copy.copy(mpl.cm.get_cmap(\"gray\"))\n",
      "/home/prativa/anaconda3/envs/py36/lib/python3.6/site-packages/pyproj/crs/crs.py:53: FutureWarning: '+init=<authority>:<code>' syntax is deprecated. '<authority>:<code>' is the preferred initialization method. When making the change, be mindful of axis order changes: https://pyproj4.github.io/pyproj/stable/gotchas.html#axis-order-changes-in-proj-6\n",
      "  return _prepare_from_string(\" \".join(pjargs))\n",
      "/home/prativa/anaconda3/envs/py36/lib/python3.6/site-packages/ipykernel_launcher.py:72: MatplotlibDeprecationWarning: You are modifying the state of a globally registered colormap. In future versions, you will not be able to modify a registered colormap in-place. To remove this warning, you can make a copy of the colormap first. cmap = copy.copy(mpl.cm.get_cmap(\"gray\"))\n",
      "/home/prativa/anaconda3/envs/py36/lib/python3.6/site-packages/pyproj/crs/crs.py:53: FutureWarning: '+init=<authority>:<code>' syntax is deprecated. '<authority>:<code>' is the preferred initialization method. When making the change, be mindful of axis order changes: https://pyproj4.github.io/pyproj/stable/gotchas.html#axis-order-changes-in-proj-6\n",
      "  return _prepare_from_string(\" \".join(pjargs))\n",
      "/home/prativa/anaconda3/envs/py36/lib/python3.6/site-packages/ipykernel_launcher.py:72: MatplotlibDeprecationWarning: You are modifying the state of a globally registered colormap. In future versions, you will not be able to modify a registered colormap in-place. To remove this warning, you can make a copy of the colormap first. cmap = copy.copy(mpl.cm.get_cmap(\"gray\"))\n",
      "/home/prativa/anaconda3/envs/py36/lib/python3.6/site-packages/ipykernel_launcher.py:72: MatplotlibDeprecationWarning: You are modifying the state of a globally registered colormap. In future versions, you will not be able to modify a registered colormap in-place. To remove this warning, you can make a copy of the colormap first. cmap = copy.copy(mpl.cm.get_cmap(\"gray\"))\n",
      "/home/prativa/anaconda3/envs/py36/lib/python3.6/site-packages/pyproj/crs/crs.py:53: FutureWarning: '+init=<authority>:<code>' syntax is deprecated. '<authority>:<code>' is the preferred initialization method. When making the change, be mindful of axis order changes: https://pyproj4.github.io/pyproj/stable/gotchas.html#axis-order-changes-in-proj-6\n",
      "  return _prepare_from_string(\" \".join(pjargs))\n",
      "/home/prativa/anaconda3/envs/py36/lib/python3.6/site-packages/ipykernel_launcher.py:72: MatplotlibDeprecationWarning: You are modifying the state of a globally registered colormap. In future versions, you will not be able to modify a registered colormap in-place. To remove this warning, you can make a copy of the colormap first. cmap = copy.copy(mpl.cm.get_cmap(\"gray\"))\n",
      "/home/prativa/anaconda3/envs/py36/lib/python3.6/site-packages/pyproj/crs/crs.py:53: FutureWarning: '+init=<authority>:<code>' syntax is deprecated. '<authority>:<code>' is the preferred initialization method. When making the change, be mindful of axis order changes: https://pyproj4.github.io/pyproj/stable/gotchas.html#axis-order-changes-in-proj-6\n",
      "  return _prepare_from_string(\" \".join(pjargs))\n",
      "/home/prativa/anaconda3/envs/py36/lib/python3.6/site-packages/pyproj/crs/crs.py:53: FutureWarning: '+init=<authority>:<code>' syntax is deprecated. '<authority>:<code>' is the preferred initialization method. When making the change, be mindful of axis order changes: https://pyproj4.github.io/pyproj/stable/gotchas.html#axis-order-changes-in-proj-6\n",
      "  return _prepare_from_string(\" \".join(pjargs))\n",
      "/home/prativa/anaconda3/envs/py36/lib/python3.6/site-packages/pyproj/crs/crs.py:53: FutureWarning: '+init=<authority>:<code>' syntax is deprecated. '<authority>:<code>' is the preferred initialization method. When making the change, be mindful of axis order changes: https://pyproj4.github.io/pyproj/stable/gotchas.html#axis-order-changes-in-proj-6\n",
      "  return _prepare_from_string(\" \".join(pjargs))\n",
      "\n",
      "\n",
      "\n",
      " 31%|███       | 169/550 [00:35<02:35,  2.46it/s]\u001b[A\u001b[A\u001b[A/home/prativa/anaconda3/envs/py36/lib/python3.6/site-packages/ipykernel_launcher.py:72: MatplotlibDeprecationWarning: You are modifying the state of a globally registered colormap. In future versions, you will not be able to modify a registered colormap in-place. To remove this warning, you can make a copy of the colormap first. cmap = copy.copy(mpl.cm.get_cmap(\"gray\"))\n",
      "/home/prativa/anaconda3/envs/py36/lib/python3.6/site-packages/pyproj/crs/crs.py:53: FutureWarning: '+init=<authority>:<code>' syntax is deprecated. '<authority>:<code>' is the preferred initialization method. When making the change, be mindful of axis order changes: https://pyproj4.github.io/pyproj/stable/gotchas.html#axis-order-changes-in-proj-6\n",
      "  return _prepare_from_string(\" \".join(pjargs))\n",
      "/home/prativa/anaconda3/envs/py36/lib/python3.6/site-packages/ipykernel_launcher.py:72: MatplotlibDeprecationWarning: You are modifying the state of a globally registered colormap. In future versions, you will not be able to modify a registered colormap in-place. To remove this warning, you can make a copy of the colormap first. cmap = copy.copy(mpl.cm.get_cmap(\"gray\"))\n",
      "/home/prativa/anaconda3/envs/py36/lib/python3.6/site-packages/ipykernel_launcher.py:72: MatplotlibDeprecationWarning: You are modifying the state of a globally registered colormap. In future versions, you will not be able to modify a registered colormap in-place. To remove this warning, you can make a copy of the colormap first. cmap = copy.copy(mpl.cm.get_cmap(\"gray\"))\n",
      "/home/prativa/anaconda3/envs/py36/lib/python3.6/site-packages/pyproj/crs/crs.py:53: FutureWarning: '+init=<authority>:<code>' syntax is deprecated. '<authority>:<code>' is the preferred initialization method. When making the change, be mindful of axis order changes: https://pyproj4.github.io/pyproj/stable/gotchas.html#axis-order-changes-in-proj-6\n",
      "  return _prepare_from_string(\" \".join(pjargs))\n"
     ]
    },
    {
     "name": "stderr",
     "output_type": "stream",
     "text": [
      "\n",
      "\n",
      "\n",
      " 31%|███       | 170/550 [00:36<03:04,  2.06it/s]\u001b[A\u001b[A\u001b[A/home/prativa/anaconda3/envs/py36/lib/python3.6/site-packages/pyproj/crs/crs.py:53: FutureWarning: '+init=<authority>:<code>' syntax is deprecated. '<authority>:<code>' is the preferred initialization method. When making the change, be mindful of axis order changes: https://pyproj4.github.io/pyproj/stable/gotchas.html#axis-order-changes-in-proj-6\n",
      "  return _prepare_from_string(\" \".join(pjargs))\n",
      "/home/prativa/anaconda3/envs/py36/lib/python3.6/site-packages/ipykernel_launcher.py:72: MatplotlibDeprecationWarning: You are modifying the state of a globally registered colormap. In future versions, you will not be able to modify a registered colormap in-place. To remove this warning, you can make a copy of the colormap first. cmap = copy.copy(mpl.cm.get_cmap(\"gray\"))\n",
      "/home/prativa/anaconda3/envs/py36/lib/python3.6/site-packages/pyproj/crs/crs.py:53: FutureWarning: '+init=<authority>:<code>' syntax is deprecated. '<authority>:<code>' is the preferred initialization method. When making the change, be mindful of axis order changes: https://pyproj4.github.io/pyproj/stable/gotchas.html#axis-order-changes-in-proj-6\n",
      "  return _prepare_from_string(\" \".join(pjargs))\n",
      "\n",
      "\n",
      "\n",
      " 31%|███       | 171/550 [00:36<03:23,  1.86it/s]\u001b[A\u001b[A\u001b[A/home/prativa/anaconda3/envs/py36/lib/python3.6/site-packages/pyproj/crs/crs.py:53: FutureWarning: '+init=<authority>:<code>' syntax is deprecated. '<authority>:<code>' is the preferred initialization method. When making the change, be mindful of axis order changes: https://pyproj4.github.io/pyproj/stable/gotchas.html#axis-order-changes-in-proj-6\n",
      "  return _prepare_from_string(\" \".join(pjargs))\n",
      "/home/prativa/anaconda3/envs/py36/lib/python3.6/site-packages/ipykernel_launcher.py:72: MatplotlibDeprecationWarning: You are modifying the state of a globally registered colormap. In future versions, you will not be able to modify a registered colormap in-place. To remove this warning, you can make a copy of the colormap first. cmap = copy.copy(mpl.cm.get_cmap(\"gray\"))\n",
      "\n",
      "\n",
      "\n",
      " 31%|███▏      | 172/550 [00:37<03:02,  2.07it/s]\u001b[A\u001b[A\u001b[A"
     ]
    },
    {
     "name": "stdout",
     "output_type": "stream",
     "text": [
      "data/AOI_3_Paris_Roads_Train/geojson/spacenetroads/SN3_roads_train_AOI_3_Paris_geojson_roads_img7.geojson: No such file or directory\n"
     ]
    },
    {
     "name": "stderr",
     "output_type": "stream",
     "text": [
      "\n",
      "\n",
      "\n",
      " 32%|███▏      | 174/550 [00:37<02:14,  2.80it/s]\u001b[A\u001b[A\u001b[A/home/prativa/anaconda3/envs/py36/lib/python3.6/site-packages/skimage/io/_io.py:141: UserWarning: data/AOI_3_Paris_Roads_Train/RGB-PanSharpen_mask/SN3_roads_train_AOI_3_Paris_geojson_roads_img6.jpg is a low contrast image\n",
      "  warn('%s is a low contrast image' % fname)\n",
      "/home/prativa/anaconda3/envs/py36/lib/python3.6/site-packages/pyproj/crs/crs.py:53: FutureWarning: '+init=<authority>:<code>' syntax is deprecated. '<authority>:<code>' is the preferred initialization method. When making the change, be mindful of axis order changes: https://pyproj4.github.io/pyproj/stable/gotchas.html#axis-order-changes-in-proj-6\n",
      "  return _prepare_from_string(\" \".join(pjargs))\n",
      "/home/prativa/anaconda3/envs/py36/lib/python3.6/site-packages/pyproj/crs/crs.py:53: FutureWarning: '+init=<authority>:<code>' syntax is deprecated. '<authority>:<code>' is the preferred initialization method. When making the change, be mindful of axis order changes: https://pyproj4.github.io/pyproj/stable/gotchas.html#axis-order-changes-in-proj-6\n",
      "  return _prepare_from_string(\" \".join(pjargs))\n",
      "/home/prativa/anaconda3/envs/py36/lib/python3.6/site-packages/pyproj/crs/crs.py:53: FutureWarning: '+init=<authority>:<code>' syntax is deprecated. '<authority>:<code>' is the preferred initialization method. When making the change, be mindful of axis order changes: https://pyproj4.github.io/pyproj/stable/gotchas.html#axis-order-changes-in-proj-6\n",
      "  return _prepare_from_string(\" \".join(pjargs))\n",
      "\n",
      "\n",
      "\n",
      " 32%|███▏      | 176/550 [00:37<01:52,  3.32it/s]\u001b[A\u001b[A\u001b[A/home/prativa/anaconda3/envs/py36/lib/python3.6/site-packages/pyproj/crs/crs.py:53: FutureWarning: '+init=<authority>:<code>' syntax is deprecated. '<authority>:<code>' is the preferred initialization method. When making the change, be mindful of axis order changes: https://pyproj4.github.io/pyproj/stable/gotchas.html#axis-order-changes-in-proj-6\n",
      "  return _prepare_from_string(\" \".join(pjargs))\n"
     ]
    },
    {
     "name": "stdout",
     "output_type": "stream",
     "text": [
      "data/AOI_3_Paris_Roads_Train/geojson/spacenetroads/SN3_roads_train_AOI_3_Paris_geojson_roads_img77.geojson: No such file or directory\n"
     ]
    },
    {
     "name": "stderr",
     "output_type": "stream",
     "text": [
      "/home/prativa/anaconda3/envs/py36/lib/python3.6/site-packages/pyproj/crs/crs.py:53: FutureWarning: '+init=<authority>:<code>' syntax is deprecated. '<authority>:<code>' is the preferred initialization method. When making the change, be mindful of axis order changes: https://pyproj4.github.io/pyproj/stable/gotchas.html#axis-order-changes-in-proj-6\n",
      "  return _prepare_from_string(\" \".join(pjargs))\n",
      "/home/prativa/anaconda3/envs/py36/lib/python3.6/site-packages/pyproj/crs/crs.py:53: FutureWarning: '+init=<authority>:<code>' syntax is deprecated. '<authority>:<code>' is the preferred initialization method. When making the change, be mindful of axis order changes: https://pyproj4.github.io/pyproj/stable/gotchas.html#axis-order-changes-in-proj-6\n",
      "  return _prepare_from_string(\" \".join(pjargs))\n",
      "/home/prativa/anaconda3/envs/py36/lib/python3.6/site-packages/ipykernel_launcher.py:72: MatplotlibDeprecationWarning: You are modifying the state of a globally registered colormap. In future versions, you will not be able to modify a registered colormap in-place. To remove this warning, you can make a copy of the colormap first. cmap = copy.copy(mpl.cm.get_cmap(\"gray\"))\n",
      "/home/prativa/anaconda3/envs/py36/lib/python3.6/site-packages/pyproj/crs/crs.py:53: FutureWarning: '+init=<authority>:<code>' syntax is deprecated. '<authority>:<code>' is the preferred initialization method. When making the change, be mindful of axis order changes: https://pyproj4.github.io/pyproj/stable/gotchas.html#axis-order-changes-in-proj-6\n",
      "  return _prepare_from_string(\" \".join(pjargs))\n",
      "\n",
      "\n",
      "\n",
      " 32%|███▏      | 178/550 [00:37<01:36,  3.85it/s]\u001b[A\u001b[A\u001b[A/home/prativa/anaconda3/envs/py36/lib/python3.6/site-packages/pyproj/crs/crs.py:53: FutureWarning: '+init=<authority>:<code>' syntax is deprecated. '<authority>:<code>' is the preferred initialization method. When making the change, be mindful of axis order changes: https://pyproj4.github.io/pyproj/stable/gotchas.html#axis-order-changes-in-proj-6\n",
      "  return _prepare_from_string(\" \".join(pjargs))\n",
      "/home/prativa/anaconda3/envs/py36/lib/python3.6/site-packages/pyproj/crs/crs.py:53: FutureWarning: '+init=<authority>:<code>' syntax is deprecated. '<authority>:<code>' is the preferred initialization method. When making the change, be mindful of axis order changes: https://pyproj4.github.io/pyproj/stable/gotchas.html#axis-order-changes-in-proj-6\n",
      "  return _prepare_from_string(\" \".join(pjargs))\n",
      "/home/prativa/anaconda3/envs/py36/lib/python3.6/site-packages/pyproj/crs/crs.py:53: FutureWarning: '+init=<authority>:<code>' syntax is deprecated. '<authority>:<code>' is the preferred initialization method. When making the change, be mindful of axis order changes: https://pyproj4.github.io/pyproj/stable/gotchas.html#axis-order-changes-in-proj-6\n",
      "  return _prepare_from_string(\" \".join(pjargs))\n",
      "/home/prativa/anaconda3/envs/py36/lib/python3.6/site-packages/pyproj/crs/crs.py:53: FutureWarning: '+init=<authority>:<code>' syntax is deprecated. '<authority>:<code>' is the preferred initialization method. When making the change, be mindful of axis order changes: https://pyproj4.github.io/pyproj/stable/gotchas.html#axis-order-changes-in-proj-6\n",
      "  return _prepare_from_string(\" \".join(pjargs))\n",
      "/home/prativa/anaconda3/envs/py36/lib/python3.6/site-packages/ipykernel_launcher.py:72: MatplotlibDeprecationWarning: You are modifying the state of a globally registered colormap. In future versions, you will not be able to modify a registered colormap in-place. To remove this warning, you can make a copy of the colormap first. cmap = copy.copy(mpl.cm.get_cmap(\"gray\"))\n",
      "/home/prativa/anaconda3/envs/py36/lib/python3.6/site-packages/skimage/io/_io.py:141: UserWarning: data/AOI_3_Paris_Roads_Train/RGB-PanSharpen_mask/SN3_roads_train_AOI_3_Paris_geojson_roads_img64.jpg is a low contrast image\n",
      "  warn('%s is a low contrast image' % fname)\n",
      "/home/prativa/anaconda3/envs/py36/lib/python3.6/site-packages/pyproj/crs/crs.py:53: FutureWarning: '+init=<authority>:<code>' syntax is deprecated. '<authority>:<code>' is the preferred initialization method. When making the change, be mindful of axis order changes: https://pyproj4.github.io/pyproj/stable/gotchas.html#axis-order-changes-in-proj-6\n",
      "  return _prepare_from_string(\" \".join(pjargs))\n",
      "\n",
      "\n",
      "\n",
      " 33%|███▎      | 180/550 [00:38<01:30,  4.10it/s]\u001b[A\u001b[A\u001b[A/home/prativa/anaconda3/envs/py36/lib/python3.6/site-packages/ipykernel_launcher.py:72: MatplotlibDeprecationWarning: You are modifying the state of a globally registered colormap. In future versions, you will not be able to modify a registered colormap in-place. To remove this warning, you can make a copy of the colormap first. cmap = copy.copy(mpl.cm.get_cmap(\"gray\"))\n",
      "/home/prativa/anaconda3/envs/py36/lib/python3.6/site-packages/pyproj/crs/crs.py:53: FutureWarning: '+init=<authority>:<code>' syntax is deprecated. '<authority>:<code>' is the preferred initialization method. When making the change, be mindful of axis order changes: https://pyproj4.github.io/pyproj/stable/gotchas.html#axis-order-changes-in-proj-6\n",
      "  return _prepare_from_string(\" \".join(pjargs))\n",
      "/home/prativa/anaconda3/envs/py36/lib/python3.6/site-packages/pyproj/crs/crs.py:53: FutureWarning: '+init=<authority>:<code>' syntax is deprecated. '<authority>:<code>' is the preferred initialization method. When making the change, be mindful of axis order changes: https://pyproj4.github.io/pyproj/stable/gotchas.html#axis-order-changes-in-proj-6\n",
      "  return _prepare_from_string(\" \".join(pjargs))\n",
      "/home/prativa/anaconda3/envs/py36/lib/python3.6/site-packages/pyproj/crs/crs.py:53: FutureWarning: '+init=<authority>:<code>' syntax is deprecated. '<authority>:<code>' is the preferred initialization method. When making the change, be mindful of axis order changes: https://pyproj4.github.io/pyproj/stable/gotchas.html#axis-order-changes-in-proj-6\n",
      "  return _prepare_from_string(\" \".join(pjargs))\n",
      "/home/prativa/anaconda3/envs/py36/lib/python3.6/site-packages/pyproj/crs/crs.py:53: FutureWarning: '+init=<authority>:<code>' syntax is deprecated. '<authority>:<code>' is the preferred initialization method. When making the change, be mindful of axis order changes: https://pyproj4.github.io/pyproj/stable/gotchas.html#axis-order-changes-in-proj-6\n",
      "  return _prepare_from_string(\" \".join(pjargs))\n",
      "/home/prativa/anaconda3/envs/py36/lib/python3.6/site-packages/ipykernel_launcher.py:72: MatplotlibDeprecationWarning: You are modifying the state of a globally registered colormap. In future versions, you will not be able to modify a registered colormap in-place. To remove this warning, you can make a copy of the colormap first. cmap = copy.copy(mpl.cm.get_cmap(\"gray\"))\n",
      "/home/prativa/anaconda3/envs/py36/lib/python3.6/site-packages/pyproj/crs/crs.py:53: FutureWarning: '+init=<authority>:<code>' syntax is deprecated. '<authority>:<code>' is the preferred initialization method. When making the change, be mindful of axis order changes: https://pyproj4.github.io/pyproj/stable/gotchas.html#axis-order-changes-in-proj-6\n",
      "  return _prepare_from_string(\" \".join(pjargs))\n",
      "/home/prativa/anaconda3/envs/py36/lib/python3.6/site-packages/ipykernel_launcher.py:72: MatplotlibDeprecationWarning: You are modifying the state of a globally registered colormap. In future versions, you will not be able to modify a registered colormap in-place. To remove this warning, you can make a copy of the colormap first. cmap = copy.copy(mpl.cm.get_cmap(\"gray\"))\n",
      "/home/prativa/anaconda3/envs/py36/lib/python3.6/site-packages/pyproj/crs/crs.py:53: FutureWarning: '+init=<authority>:<code>' syntax is deprecated. '<authority>:<code>' is the preferred initialization method. When making the change, be mindful of axis order changes: https://pyproj4.github.io/pyproj/stable/gotchas.html#axis-order-changes-in-proj-6\n",
      "  return _prepare_from_string(\" \".join(pjargs))\n",
      "/home/prativa/anaconda3/envs/py36/lib/python3.6/site-packages/ipykernel_launcher.py:72: MatplotlibDeprecationWarning: You are modifying the state of a globally registered colormap. In future versions, you will not be able to modify a registered colormap in-place. To remove this warning, you can make a copy of the colormap first. cmap = copy.copy(mpl.cm.get_cmap(\"gray\"))\n",
      "/home/prativa/anaconda3/envs/py36/lib/python3.6/site-packages/pyproj/crs/crs.py:53: FutureWarning: '+init=<authority>:<code>' syntax is deprecated. '<authority>:<code>' is the preferred initialization method. When making the change, be mindful of axis order changes: https://pyproj4.github.io/pyproj/stable/gotchas.html#axis-order-changes-in-proj-6\n",
      "  return _prepare_from_string(\" \".join(pjargs))\n"
     ]
    },
    {
     "name": "stderr",
     "output_type": "stream",
     "text": [
      "/home/prativa/anaconda3/envs/py36/lib/python3.6/site-packages/ipykernel_launcher.py:72: MatplotlibDeprecationWarning: You are modifying the state of a globally registered colormap. In future versions, you will not be able to modify a registered colormap in-place. To remove this warning, you can make a copy of the colormap first. cmap = copy.copy(mpl.cm.get_cmap(\"gray\"))\n",
      "/home/prativa/anaconda3/envs/py36/lib/python3.6/site-packages/ipykernel_launcher.py:72: MatplotlibDeprecationWarning: You are modifying the state of a globally registered colormap. In future versions, you will not be able to modify a registered colormap in-place. To remove this warning, you can make a copy of the colormap first. cmap = copy.copy(mpl.cm.get_cmap(\"gray\"))\n",
      "/home/prativa/anaconda3/envs/py36/lib/python3.6/site-packages/ipykernel_launcher.py:72: MatplotlibDeprecationWarning: You are modifying the state of a globally registered colormap. In future versions, you will not be able to modify a registered colormap in-place. To remove this warning, you can make a copy of the colormap first. cmap = copy.copy(mpl.cm.get_cmap(\"gray\"))\n",
      "/home/prativa/anaconda3/envs/py36/lib/python3.6/site-packages/ipykernel_launcher.py:72: MatplotlibDeprecationWarning: You are modifying the state of a globally registered colormap. In future versions, you will not be able to modify a registered colormap in-place. To remove this warning, you can make a copy of the colormap first. cmap = copy.copy(mpl.cm.get_cmap(\"gray\"))\n",
      "\n",
      "\n",
      "\n",
      " 33%|███▎      | 181/550 [00:39<03:23,  1.81it/s]\u001b[A\u001b[A\u001b[A/home/prativa/anaconda3/envs/py36/lib/python3.6/site-packages/pyproj/crs/crs.py:53: FutureWarning: '+init=<authority>:<code>' syntax is deprecated. '<authority>:<code>' is the preferred initialization method. When making the change, be mindful of axis order changes: https://pyproj4.github.io/pyproj/stable/gotchas.html#axis-order-changes-in-proj-6\n",
      "  return _prepare_from_string(\" \".join(pjargs))\n",
      "/home/prativa/anaconda3/envs/py36/lib/python3.6/site-packages/pyproj/crs/crs.py:53: FutureWarning: '+init=<authority>:<code>' syntax is deprecated. '<authority>:<code>' is the preferred initialization method. When making the change, be mindful of axis order changes: https://pyproj4.github.io/pyproj/stable/gotchas.html#axis-order-changes-in-proj-6\n",
      "  return _prepare_from_string(\" \".join(pjargs))\n",
      "\n",
      "\n",
      "\n",
      " 33%|███▎      | 183/550 [00:40<03:14,  1.89it/s]\u001b[A\u001b[A\u001b[A/home/prativa/anaconda3/envs/py36/lib/python3.6/site-packages/ipykernel_launcher.py:72: MatplotlibDeprecationWarning: You are modifying the state of a globally registered colormap. In future versions, you will not be able to modify a registered colormap in-place. To remove this warning, you can make a copy of the colormap first. cmap = copy.copy(mpl.cm.get_cmap(\"gray\"))\n",
      "\n",
      "\n",
      "\n",
      " 33%|███▎      | 184/550 [00:40<02:37,  2.32it/s]\u001b[A\u001b[A\u001b[A/home/prativa/anaconda3/envs/py36/lib/python3.6/site-packages/pyproj/crs/crs.py:53: FutureWarning: '+init=<authority>:<code>' syntax is deprecated. '<authority>:<code>' is the preferred initialization method. When making the change, be mindful of axis order changes: https://pyproj4.github.io/pyproj/stable/gotchas.html#axis-order-changes-in-proj-6\n",
      "  return _prepare_from_string(\" \".join(pjargs))\n",
      "/home/prativa/anaconda3/envs/py36/lib/python3.6/site-packages/pyproj/crs/crs.py:53: FutureWarning: '+init=<authority>:<code>' syntax is deprecated. '<authority>:<code>' is the preferred initialization method. When making the change, be mindful of axis order changes: https://pyproj4.github.io/pyproj/stable/gotchas.html#axis-order-changes-in-proj-6\n",
      "  return _prepare_from_string(\" \".join(pjargs))\n",
      "/home/prativa/anaconda3/envs/py36/lib/python3.6/site-packages/pyproj/crs/crs.py:53: FutureWarning: '+init=<authority>:<code>' syntax is deprecated. '<authority>:<code>' is the preferred initialization method. When making the change, be mindful of axis order changes: https://pyproj4.github.io/pyproj/stable/gotchas.html#axis-order-changes-in-proj-6\n",
      "  return _prepare_from_string(\" \".join(pjargs))\n",
      "/home/prativa/anaconda3/envs/py36/lib/python3.6/site-packages/pyproj/crs/crs.py:53: FutureWarning: '+init=<authority>:<code>' syntax is deprecated. '<authority>:<code>' is the preferred initialization method. When making the change, be mindful of axis order changes: https://pyproj4.github.io/pyproj/stable/gotchas.html#axis-order-changes-in-proj-6\n",
      "  return _prepare_from_string(\" \".join(pjargs))\n",
      "/home/prativa/anaconda3/envs/py36/lib/python3.6/site-packages/pyproj/crs/crs.py:53: FutureWarning: '+init=<authority>:<code>' syntax is deprecated. '<authority>:<code>' is the preferred initialization method. When making the change, be mindful of axis order changes: https://pyproj4.github.io/pyproj/stable/gotchas.html#axis-order-changes-in-proj-6\n",
      "  return _prepare_from_string(\" \".join(pjargs))\n",
      "/home/prativa/anaconda3/envs/py36/lib/python3.6/site-packages/pyproj/crs/crs.py:53: FutureWarning: '+init=<authority>:<code>' syntax is deprecated. '<authority>:<code>' is the preferred initialization method. When making the change, be mindful of axis order changes: https://pyproj4.github.io/pyproj/stable/gotchas.html#axis-order-changes-in-proj-6\n",
      "  return _prepare_from_string(\" \".join(pjargs))\n",
      "\n",
      "\n",
      "\n",
      " 35%|███▍      | 190/550 [00:41<01:56,  3.10it/s]\u001b[A\u001b[A\u001b[A/home/prativa/anaconda3/envs/py36/lib/python3.6/site-packages/pyproj/crs/crs.py:53: FutureWarning: '+init=<authority>:<code>' syntax is deprecated. '<authority>:<code>' is the preferred initialization method. When making the change, be mindful of axis order changes: https://pyproj4.github.io/pyproj/stable/gotchas.html#axis-order-changes-in-proj-6\n",
      "  return _prepare_from_string(\" \".join(pjargs))\n",
      "/home/prativa/anaconda3/envs/py36/lib/python3.6/site-packages/skimage/io/_io.py:141: UserWarning: data/AOI_3_Paris_Roads_Train/RGB-PanSharpen_mask/SN3_roads_train_AOI_3_Paris_geojson_roads_img14.jpg is a low contrast image\n",
      "  warn('%s is a low contrast image' % fname)\n",
      "/home/prativa/anaconda3/envs/py36/lib/python3.6/site-packages/pyproj/crs/crs.py:53: FutureWarning: '+init=<authority>:<code>' syntax is deprecated. '<authority>:<code>' is the preferred initialization method. When making the change, be mindful of axis order changes: https://pyproj4.github.io/pyproj/stable/gotchas.html#axis-order-changes-in-proj-6\n",
      "  return _prepare_from_string(\" \".join(pjargs))\n",
      "\n",
      "\n",
      "\n",
      " 35%|███▍      | 191/550 [00:41<01:38,  3.65it/s]\u001b[A\u001b[A\u001b[A/home/prativa/anaconda3/envs/py36/lib/python3.6/site-packages/pyproj/crs/crs.py:53: FutureWarning: '+init=<authority>:<code>' syntax is deprecated. '<authority>:<code>' is the preferred initialization method. When making the change, be mindful of axis order changes: https://pyproj4.github.io/pyproj/stable/gotchas.html#axis-order-changes-in-proj-6\n",
      "  return _prepare_from_string(\" \".join(pjargs))\n",
      "/home/prativa/anaconda3/envs/py36/lib/python3.6/site-packages/pyproj/crs/crs.py:53: FutureWarning: '+init=<authority>:<code>' syntax is deprecated. '<authority>:<code>' is the preferred initialization method. When making the change, be mindful of axis order changes: https://pyproj4.github.io/pyproj/stable/gotchas.html#axis-order-changes-in-proj-6\n",
      "  return _prepare_from_string(\" \".join(pjargs))\n",
      "/home/prativa/anaconda3/envs/py36/lib/python3.6/site-packages/pyproj/crs/crs.py:53: FutureWarning: '+init=<authority>:<code>' syntax is deprecated. '<authority>:<code>' is the preferred initialization method. When making the change, be mindful of axis order changes: https://pyproj4.github.io/pyproj/stable/gotchas.html#axis-order-changes-in-proj-6\n",
      "  return _prepare_from_string(\" \".join(pjargs))\n",
      "/home/prativa/anaconda3/envs/py36/lib/python3.6/site-packages/pyproj/crs/crs.py:53: FutureWarning: '+init=<authority>:<code>' syntax is deprecated. '<authority>:<code>' is the preferred initialization method. When making the change, be mindful of axis order changes: https://pyproj4.github.io/pyproj/stable/gotchas.html#axis-order-changes-in-proj-6\n",
      "  return _prepare_from_string(\" \".join(pjargs))\n",
      "/home/prativa/anaconda3/envs/py36/lib/python3.6/site-packages/pyproj/crs/crs.py:53: FutureWarning: '+init=<authority>:<code>' syntax is deprecated. '<authority>:<code>' is the preferred initialization method. When making the change, be mindful of axis order changes: https://pyproj4.github.io/pyproj/stable/gotchas.html#axis-order-changes-in-proj-6\n",
      "  return _prepare_from_string(\" \".join(pjargs))\n"
     ]
    },
    {
     "name": "stderr",
     "output_type": "stream",
     "text": [
      "/home/prativa/anaconda3/envs/py36/lib/python3.6/site-packages/pyproj/crs/crs.py:53: FutureWarning: '+init=<authority>:<code>' syntax is deprecated. '<authority>:<code>' is the preferred initialization method. When making the change, be mindful of axis order changes: https://pyproj4.github.io/pyproj/stable/gotchas.html#axis-order-changes-in-proj-6\n",
      "  return _prepare_from_string(\" \".join(pjargs))\n",
      "/home/prativa/anaconda3/envs/py36/lib/python3.6/site-packages/pyproj/crs/crs.py:53: FutureWarning: '+init=<authority>:<code>' syntax is deprecated. '<authority>:<code>' is the preferred initialization method. When making the change, be mindful of axis order changes: https://pyproj4.github.io/pyproj/stable/gotchas.html#axis-order-changes-in-proj-6\n",
      "  return _prepare_from_string(\" \".join(pjargs))\n",
      "/home/prativa/anaconda3/envs/py36/lib/python3.6/site-packages/ipykernel_launcher.py:72: MatplotlibDeprecationWarning: You are modifying the state of a globally registered colormap. In future versions, you will not be able to modify a registered colormap in-place. To remove this warning, you can make a copy of the colormap first. cmap = copy.copy(mpl.cm.get_cmap(\"gray\"))\n",
      "/home/prativa/anaconda3/envs/py36/lib/python3.6/site-packages/ipykernel_launcher.py:72: MatplotlibDeprecationWarning: You are modifying the state of a globally registered colormap. In future versions, you will not be able to modify a registered colormap in-place. To remove this warning, you can make a copy of the colormap first. cmap = copy.copy(mpl.cm.get_cmap(\"gray\"))\n",
      "/home/prativa/anaconda3/envs/py36/lib/python3.6/site-packages/pyproj/crs/crs.py:53: FutureWarning: '+init=<authority>:<code>' syntax is deprecated. '<authority>:<code>' is the preferred initialization method. When making the change, be mindful of axis order changes: https://pyproj4.github.io/pyproj/stable/gotchas.html#axis-order-changes-in-proj-6\n",
      "  return _prepare_from_string(\" \".join(pjargs))\n",
      "/home/prativa/anaconda3/envs/py36/lib/python3.6/site-packages/ipykernel_launcher.py:72: MatplotlibDeprecationWarning: You are modifying the state of a globally registered colormap. In future versions, you will not be able to modify a registered colormap in-place. To remove this warning, you can make a copy of the colormap first. cmap = copy.copy(mpl.cm.get_cmap(\"gray\"))\n",
      "/home/prativa/anaconda3/envs/py36/lib/python3.6/site-packages/pyproj/crs/crs.py:53: FutureWarning: '+init=<authority>:<code>' syntax is deprecated. '<authority>:<code>' is the preferred initialization method. When making the change, be mindful of axis order changes: https://pyproj4.github.io/pyproj/stable/gotchas.html#axis-order-changes-in-proj-6\n",
      "  return _prepare_from_string(\" \".join(pjargs))\n",
      "/home/prativa/anaconda3/envs/py36/lib/python3.6/site-packages/pyproj/crs/crs.py:53: FutureWarning: '+init=<authority>:<code>' syntax is deprecated. '<authority>:<code>' is the preferred initialization method. When making the change, be mindful of axis order changes: https://pyproj4.github.io/pyproj/stable/gotchas.html#axis-order-changes-in-proj-6\n",
      "  return _prepare_from_string(\" \".join(pjargs))\n",
      "/home/prativa/anaconda3/envs/py36/lib/python3.6/site-packages/skimage/io/_io.py:141: UserWarning: data/AOI_3_Paris_Roads_Train/RGB-PanSharpen_mask/SN3_roads_train_AOI_3_Paris_geojson_roads_img17.jpg is a low contrast image\n",
      "  warn('%s is a low contrast image' % fname)\n",
      "\n",
      "\n",
      "\n",
      " 35%|███▌      | 193/550 [00:41<01:42,  3.49it/s]\u001b[A\u001b[A\u001b[A/home/prativa/anaconda3/envs/py36/lib/python3.6/site-packages/ipykernel_launcher.py:72: MatplotlibDeprecationWarning: You are modifying the state of a globally registered colormap. In future versions, you will not be able to modify a registered colormap in-place. To remove this warning, you can make a copy of the colormap first. cmap = copy.copy(mpl.cm.get_cmap(\"gray\"))\n",
      "/home/prativa/anaconda3/envs/py36/lib/python3.6/site-packages/ipykernel_launcher.py:72: MatplotlibDeprecationWarning: You are modifying the state of a globally registered colormap. In future versions, you will not be able to modify a registered colormap in-place. To remove this warning, you can make a copy of the colormap first. cmap = copy.copy(mpl.cm.get_cmap(\"gray\"))\n",
      "/home/prativa/anaconda3/envs/py36/lib/python3.6/site-packages/ipykernel_launcher.py:72: MatplotlibDeprecationWarning: You are modifying the state of a globally registered colormap. In future versions, you will not be able to modify a registered colormap in-place. To remove this warning, you can make a copy of the colormap first. cmap = copy.copy(mpl.cm.get_cmap(\"gray\"))\n"
     ]
    },
    {
     "name": "stdout",
     "output_type": "stream",
     "text": [
      "OpenCV(4.1.0) /io/opencv/modules/imgproc/src/color.cpp:182: error: (-215:Assertion failed) !_src.empty() in function 'cvtColor'\n",
      "\n"
     ]
    },
    {
     "name": "stderr",
     "output_type": "stream",
     "text": [
      "/home/prativa/anaconda3/envs/py36/lib/python3.6/site-packages/pyproj/crs/crs.py:53: FutureWarning: '+init=<authority>:<code>' syntax is deprecated. '<authority>:<code>' is the preferred initialization method. When making the change, be mindful of axis order changes: https://pyproj4.github.io/pyproj/stable/gotchas.html#axis-order-changes-in-proj-6\n",
      "  return _prepare_from_string(\" \".join(pjargs))\n"
     ]
    },
    {
     "name": "stdout",
     "output_type": "stream",
     "text": [
      "OpenCV(4.1.0) /io/opencv/modules/imgproc/src/color.cpp:182: error: (-215:Assertion failed) !_src.empty() in function 'cvtColor'\n",
      "\n"
     ]
    },
    {
     "name": "stderr",
     "output_type": "stream",
     "text": [
      "/home/prativa/anaconda3/envs/py36/lib/python3.6/site-packages/ipykernel_launcher.py:72: MatplotlibDeprecationWarning: You are modifying the state of a globally registered colormap. In future versions, you will not be able to modify a registered colormap in-place. To remove this warning, you can make a copy of the colormap first. cmap = copy.copy(mpl.cm.get_cmap(\"gray\"))\n",
      "/home/prativa/anaconda3/envs/py36/lib/python3.6/site-packages/pyproj/crs/crs.py:53: FutureWarning: '+init=<authority>:<code>' syntax is deprecated. '<authority>:<code>' is the preferred initialization method. When making the change, be mindful of axis order changes: https://pyproj4.github.io/pyproj/stable/gotchas.html#axis-order-changes-in-proj-6\n",
      "  return _prepare_from_string(\" \".join(pjargs))\n",
      "/home/prativa/anaconda3/envs/py36/lib/python3.6/site-packages/pyproj/crs/crs.py:53: FutureWarning: '+init=<authority>:<code>' syntax is deprecated. '<authority>:<code>' is the preferred initialization method. When making the change, be mindful of axis order changes: https://pyproj4.github.io/pyproj/stable/gotchas.html#axis-order-changes-in-proj-6\n",
      "  return _prepare_from_string(\" \".join(pjargs))\n",
      "/home/prativa/anaconda3/envs/py36/lib/python3.6/site-packages/pyproj/crs/crs.py:53: FutureWarning: '+init=<authority>:<code>' syntax is deprecated. '<authority>:<code>' is the preferred initialization method. When making the change, be mindful of axis order changes: https://pyproj4.github.io/pyproj/stable/gotchas.html#axis-order-changes-in-proj-6\n",
      "  return _prepare_from_string(\" \".join(pjargs))\n",
      "/home/prativa/anaconda3/envs/py36/lib/python3.6/site-packages/pyproj/crs/crs.py:53: FutureWarning: '+init=<authority>:<code>' syntax is deprecated. '<authority>:<code>' is the preferred initialization method. When making the change, be mindful of axis order changes: https://pyproj4.github.io/pyproj/stable/gotchas.html#axis-order-changes-in-proj-6\n",
      "  return _prepare_from_string(\" \".join(pjargs))\n"
     ]
    },
    {
     "name": "stdout",
     "output_type": "stream",
     "text": [
      "OpenCV(4.1.0) /io/opencv/modules/imgproc/src/color.cpp:182: error: (-215:Assertion failed) !_src.empty() in function 'cvtColor'\n",
      "\n"
     ]
    },
    {
     "name": "stderr",
     "output_type": "stream",
     "text": [
      "/home/prativa/anaconda3/envs/py36/lib/python3.6/site-packages/pyproj/crs/crs.py:53: FutureWarning: '+init=<authority>:<code>' syntax is deprecated. '<authority>:<code>' is the preferred initialization method. When making the change, be mindful of axis order changes: https://pyproj4.github.io/pyproj/stable/gotchas.html#axis-order-changes-in-proj-6\n",
      "  return _prepare_from_string(\" \".join(pjargs))\n",
      "/home/prativa/anaconda3/envs/py36/lib/python3.6/site-packages/pyproj/crs/crs.py:53: FutureWarning: '+init=<authority>:<code>' syntax is deprecated. '<authority>:<code>' is the preferred initialization method. When making the change, be mindful of axis order changes: https://pyproj4.github.io/pyproj/stable/gotchas.html#axis-order-changes-in-proj-6\n",
      "  return _prepare_from_string(\" \".join(pjargs))\n"
     ]
    },
    {
     "name": "stdout",
     "output_type": "stream",
     "text": [
      "OpenCV(4.1.0) /io/opencv/modules/imgproc/src/color.cpp:182: error: (-215:Assertion failed) !_src.empty() in function 'cvtColor'\n",
      "\n",
      "OpenCV(4.1.0) /io/opencv/modules/imgproc/src/color.cpp:182: error: (-215:Assertion failed) !_src.empty() in function 'cvtColor'\n",
      "\n"
     ]
    },
    {
     "name": "stderr",
     "output_type": "stream",
     "text": [
      "/home/prativa/anaconda3/envs/py36/lib/python3.6/site-packages/pyproj/crs/crs.py:53: FutureWarning: '+init=<authority>:<code>' syntax is deprecated. '<authority>:<code>' is the preferred initialization method. When making the change, be mindful of axis order changes: https://pyproj4.github.io/pyproj/stable/gotchas.html#axis-order-changes-in-proj-6\n",
      "  return _prepare_from_string(\" \".join(pjargs))\n",
      "/home/prativa/anaconda3/envs/py36/lib/python3.6/site-packages/skimage/io/_io.py:141: UserWarning: data/AOI_3_Paris_Roads_Train/RGB-PanSharpen_mask/SN3_roads_train_AOI_3_Paris_geojson_roads_img18.jpg is a low contrast image\n",
      "  warn('%s is a low contrast image' % fname)\n",
      "/home/prativa/anaconda3/envs/py36/lib/python3.6/site-packages/pyproj/crs/crs.py:53: FutureWarning: '+init=<authority>:<code>' syntax is deprecated. '<authority>:<code>' is the preferred initialization method. When making the change, be mindful of axis order changes: https://pyproj4.github.io/pyproj/stable/gotchas.html#axis-order-changes-in-proj-6\n",
      "  return _prepare_from_string(\" \".join(pjargs))\n",
      "\n",
      "\n",
      "\n",
      " 35%|███▌      | 194/550 [00:43<03:43,  1.59it/s]\u001b[A\u001b[A\u001b[A/home/prativa/anaconda3/envs/py36/lib/python3.6/site-packages/pyproj/crs/crs.py:53: FutureWarning: '+init=<authority>:<code>' syntax is deprecated. '<authority>:<code>' is the preferred initialization method. When making the change, be mindful of axis order changes: https://pyproj4.github.io/pyproj/stable/gotchas.html#axis-order-changes-in-proj-6\n",
      "  return _prepare_from_string(\" \".join(pjargs))\n",
      "/home/prativa/anaconda3/envs/py36/lib/python3.6/site-packages/pyproj/crs/crs.py:53: FutureWarning: '+init=<authority>:<code>' syntax is deprecated. '<authority>:<code>' is the preferred initialization method. When making the change, be mindful of axis order changes: https://pyproj4.github.io/pyproj/stable/gotchas.html#axis-order-changes-in-proj-6\n",
      "  return _prepare_from_string(\" \".join(pjargs))\n",
      "/home/prativa/anaconda3/envs/py36/lib/python3.6/site-packages/pyproj/crs/crs.py:53: FutureWarning: '+init=<authority>:<code>' syntax is deprecated. '<authority>:<code>' is the preferred initialization method. When making the change, be mindful of axis order changes: https://pyproj4.github.io/pyproj/stable/gotchas.html#axis-order-changes-in-proj-6\n",
      "  return _prepare_from_string(\" \".join(pjargs))\n"
     ]
    },
    {
     "name": "stdout",
     "output_type": "stream",
     "text": [
      "OpenCV(4.1.0) /io/opencv/modules/imgproc/src/color.cpp:182: error: (-215:Assertion failed) !_src.empty() in function 'cvtColor'\n"
     ]
    },
    {
     "name": "stderr",
     "output_type": "stream",
     "text": [
      "\n",
      "\n",
      "\n",
      " 35%|███▌      | 195/550 [00:43<03:07,  1.89it/s]\u001b[A\u001b[A\u001b[A"
     ]
    },
    {
     "name": "stdout",
     "output_type": "stream",
     "text": [
      "\n"
     ]
    },
    {
     "name": "stderr",
     "output_type": "stream",
     "text": [
      "/home/prativa/anaconda3/envs/py36/lib/python3.6/site-packages/pyproj/crs/crs.py:53: FutureWarning: '+init=<authority>:<code>' syntax is deprecated. '<authority>:<code>' is the preferred initialization method. When making the change, be mindful of axis order changes: https://pyproj4.github.io/pyproj/stable/gotchas.html#axis-order-changes-in-proj-6\n",
      "  return _prepare_from_string(\" \".join(pjargs))\n",
      "/home/prativa/anaconda3/envs/py36/lib/python3.6/site-packages/pyproj/crs/crs.py:53: FutureWarning: '+init=<authority>:<code>' syntax is deprecated. '<authority>:<code>' is the preferred initialization method. When making the change, be mindful of axis order changes: https://pyproj4.github.io/pyproj/stable/gotchas.html#axis-order-changes-in-proj-6\n",
      "  return _prepare_from_string(\" \".join(pjargs))\n",
      "/home/prativa/anaconda3/envs/py36/lib/python3.6/site-packages/pyproj/crs/crs.py:53: FutureWarning: '+init=<authority>:<code>' syntax is deprecated. '<authority>:<code>' is the preferred initialization method. When making the change, be mindful of axis order changes: https://pyproj4.github.io/pyproj/stable/gotchas.html#axis-order-changes-in-proj-6\n",
      "  return _prepare_from_string(\" \".join(pjargs))\n"
     ]
    },
    {
     "name": "stdout",
     "output_type": "stream",
     "text": [
      "OpenCV(4.1.0) /io/opencv/modules/imgproc/src/color.cpp:182: error: (-215:Assertion failed) !_src.empty() in function 'cvtColor'\n"
     ]
    },
    {
     "name": "stderr",
     "output_type": "stream",
     "text": [
      "/home/prativa/anaconda3/envs/py36/lib/python3.6/site-packages/pyproj/crs/crs.py:53: FutureWarning: '+init=<authority>:<code>' syntax is deprecated. '<authority>:<code>' is the preferred initialization method. When making the change, be mindful of axis order changes: https://pyproj4.github.io/pyproj/stable/gotchas.html#axis-order-changes-in-proj-6\n",
      "  return _prepare_from_string(\" \".join(pjargs))\n"
     ]
    },
    {
     "name": "stdout",
     "output_type": "stream",
     "text": [
      "\n"
     ]
    },
    {
     "name": "stderr",
     "output_type": "stream",
     "text": [
      "/home/prativa/anaconda3/envs/py36/lib/python3.6/site-packages/pyproj/crs/crs.py:53: FutureWarning: '+init=<authority>:<code>' syntax is deprecated. '<authority>:<code>' is the preferred initialization method. When making the change, be mindful of axis order changes: https://pyproj4.github.io/pyproj/stable/gotchas.html#axis-order-changes-in-proj-6\n",
      "  return _prepare_from_string(\" \".join(pjargs))\n",
      "/home/prativa/anaconda3/envs/py36/lib/python3.6/site-packages/pyproj/crs/crs.py:53: FutureWarning: '+init=<authority>:<code>' syntax is deprecated. '<authority>:<code>' is the preferred initialization method. When making the change, be mindful of axis order changes: https://pyproj4.github.io/pyproj/stable/gotchas.html#axis-order-changes-in-proj-6\n",
      "  return _prepare_from_string(\" \".join(pjargs))\n",
      "/home/prativa/anaconda3/envs/py36/lib/python3.6/site-packages/pyproj/crs/crs.py:53: FutureWarning: '+init=<authority>:<code>' syntax is deprecated. '<authority>:<code>' is the preferred initialization method. When making the change, be mindful of axis order changes: https://pyproj4.github.io/pyproj/stable/gotchas.html#axis-order-changes-in-proj-6\n",
      "  return _prepare_from_string(\" \".join(pjargs))\n",
      "\n",
      "\n",
      "\n",
      " 36%|███▌      | 196/550 [00:44<02:58,  1.98it/s]\u001b[A\u001b[A\u001b[A/home/prativa/anaconda3/envs/py36/lib/python3.6/site-packages/pyproj/crs/crs.py:53: FutureWarning: '+init=<authority>:<code>' syntax is deprecated. '<authority>:<code>' is the preferred initialization method. When making the change, be mindful of axis order changes: https://pyproj4.github.io/pyproj/stable/gotchas.html#axis-order-changes-in-proj-6\n",
      "  return _prepare_from_string(\" \".join(pjargs))\n",
      "/home/prativa/anaconda3/envs/py36/lib/python3.6/site-packages/pyproj/crs/crs.py:53: FutureWarning: '+init=<authority>:<code>' syntax is deprecated. '<authority>:<code>' is the preferred initialization method. When making the change, be mindful of axis order changes: https://pyproj4.github.io/pyproj/stable/gotchas.html#axis-order-changes-in-proj-6\n",
      "  return _prepare_from_string(\" \".join(pjargs))\n"
     ]
    },
    {
     "name": "stdout",
     "output_type": "stream",
     "text": [
      "OpenCV(4.1.0) /io/opencv/modules/imgproc/src/color.cpp:182: error: (-215:Assertion failed) !_src.empty() in function 'cvtColor'\n",
      "\n"
     ]
    },
    {
     "name": "stderr",
     "output_type": "stream",
     "text": [
      "/home/prativa/anaconda3/envs/py36/lib/python3.6/site-packages/pyproj/crs/crs.py:53: FutureWarning: '+init=<authority>:<code>' syntax is deprecated. '<authority>:<code>' is the preferred initialization method. When making the change, be mindful of axis order changes: https://pyproj4.github.io/pyproj/stable/gotchas.html#axis-order-changes-in-proj-6\n",
      "  return _prepare_from_string(\" \".join(pjargs))\n"
     ]
    },
    {
     "name": "stdout",
     "output_type": "stream",
     "text": [
      "OpenCV(4.1.0) /io/opencv/modules/imgproc/src/color.cpp:182: error: (-215:Assertion failed) !_src.empty() in function 'cvtColor'\n",
      "\n"
     ]
    },
    {
     "name": "stderr",
     "output_type": "stream",
     "text": [
      "/home/prativa/anaconda3/envs/py36/lib/python3.6/site-packages/pyproj/crs/crs.py:53: FutureWarning: '+init=<authority>:<code>' syntax is deprecated. '<authority>:<code>' is the preferred initialization method. When making the change, be mindful of axis order changes: https://pyproj4.github.io/pyproj/stable/gotchas.html#axis-order-changes-in-proj-6\n",
      "  return _prepare_from_string(\" \".join(pjargs))\n"
     ]
    },
    {
     "name": "stdout",
     "output_type": "stream",
     "text": [
      "OpenCV(4.1.0) /io/opencv/modules/imgproc/src/color.cpp:182: error: (-215:Assertion failed) !_src.empty() in function 'cvtColor'\n"
     ]
    },
    {
     "name": "stderr",
     "output_type": "stream",
     "text": [
      "/home/prativa/anaconda3/envs/py36/lib/python3.6/site-packages/pyproj/crs/crs.py:53: FutureWarning: '+init=<authority>:<code>' syntax is deprecated. '<authority>:<code>' is the preferred initialization method. When making the change, be mindful of axis order changes: https://pyproj4.github.io/pyproj/stable/gotchas.html#axis-order-changes-in-proj-6\n",
      "  return _prepare_from_string(\" \".join(pjargs))\n"
     ]
    },
    {
     "name": "stdout",
     "output_type": "stream",
     "text": [
      "\n"
     ]
    },
    {
     "name": "stderr",
     "output_type": "stream",
     "text": [
      "\n",
      "\n",
      "\n",
      " 36%|███▋      | 200/550 [00:44<02:10,  2.69it/s]\u001b[A\u001b[A\u001b[A/home/prativa/anaconda3/envs/py36/lib/python3.6/site-packages/pyproj/crs/crs.py:53: FutureWarning: '+init=<authority>:<code>' syntax is deprecated. '<authority>:<code>' is the preferred initialization method. When making the change, be mindful of axis order changes: https://pyproj4.github.io/pyproj/stable/gotchas.html#axis-order-changes-in-proj-6\n",
      "  return _prepare_from_string(\" \".join(pjargs))\n",
      "/home/prativa/anaconda3/envs/py36/lib/python3.6/site-packages/pyproj/crs/crs.py:53: FutureWarning: '+init=<authority>:<code>' syntax is deprecated. '<authority>:<code>' is the preferred initialization method. When making the change, be mindful of axis order changes: https://pyproj4.github.io/pyproj/stable/gotchas.html#axis-order-changes-in-proj-6\n",
      "  return _prepare_from_string(\" \".join(pjargs))\n",
      "/home/prativa/anaconda3/envs/py36/lib/python3.6/site-packages/pyproj/crs/crs.py:53: FutureWarning: '+init=<authority>:<code>' syntax is deprecated. '<authority>:<code>' is the preferred initialization method. When making the change, be mindful of axis order changes: https://pyproj4.github.io/pyproj/stable/gotchas.html#axis-order-changes-in-proj-6\n",
      "  return _prepare_from_string(\" \".join(pjargs))\n",
      "/home/prativa/anaconda3/envs/py36/lib/python3.6/site-packages/pyproj/crs/crs.py:53: FutureWarning: '+init=<authority>:<code>' syntax is deprecated. '<authority>:<code>' is the preferred initialization method. When making the change, be mindful of axis order changes: https://pyproj4.github.io/pyproj/stable/gotchas.html#axis-order-changes-in-proj-6\n",
      "  return _prepare_from_string(\" \".join(pjargs))\n"
     ]
    },
    {
     "name": "stdout",
     "output_type": "stream",
     "text": [
      "OpenCV(4.1.0) /io/opencv/modules/imgproc/src/color.cpp:182: error: (-215:Assertion failed) !_src.empty() in function 'cvtColor'\n",
      "\n"
     ]
    },
    {
     "name": "stderr",
     "output_type": "stream",
     "text": [
      "/home/prativa/anaconda3/envs/py36/lib/python3.6/site-packages/pyproj/crs/crs.py:53: FutureWarning: '+init=<authority>:<code>' syntax is deprecated. '<authority>:<code>' is the preferred initialization method. When making the change, be mindful of axis order changes: https://pyproj4.github.io/pyproj/stable/gotchas.html#axis-order-changes-in-proj-6\n",
      "  return _prepare_from_string(\" \".join(pjargs))\n",
      "/home/prativa/anaconda3/envs/py36/lib/python3.6/site-packages/pyproj/crs/crs.py:53: FutureWarning: '+init=<authority>:<code>' syntax is deprecated. '<authority>:<code>' is the preferred initialization method. When making the change, be mindful of axis order changes: https://pyproj4.github.io/pyproj/stable/gotchas.html#axis-order-changes-in-proj-6\n",
      "  return _prepare_from_string(\" \".join(pjargs))\n"
     ]
    },
    {
     "name": "stdout",
     "output_type": "stream",
     "text": [
      "OpenCV(4.1.0) /io/opencv/modules/imgproc/src/color.cpp:182: error: (-215:Assertion failed) !_src.empty() in function 'cvtColor'\n"
     ]
    },
    {
     "name": "stderr",
     "output_type": "stream",
     "text": [
      "/home/prativa/anaconda3/envs/py36/lib/python3.6/site-packages/pyproj/crs/crs.py:53: FutureWarning: '+init=<authority>:<code>' syntax is deprecated. '<authority>:<code>' is the preferred initialization method. When making the change, be mindful of axis order changes: https://pyproj4.github.io/pyproj/stable/gotchas.html#axis-order-changes-in-proj-6\n",
      "  return _prepare_from_string(\" \".join(pjargs))\n"
     ]
    },
    {
     "name": "stdout",
     "output_type": "stream",
     "text": [
      "\n"
     ]
    },
    {
     "name": "stderr",
     "output_type": "stream",
     "text": [
      "\n",
      "\n",
      "\n",
      " 38%|███▊      | 211/550 [00:44<01:30,  3.74it/s]\u001b[A\u001b[A\u001b[A"
     ]
    },
    {
     "name": "stdout",
     "output_type": "stream",
     "text": [
      "OpenCV(4.1.0) /io/opencv/modules/imgproc/src/color.cpp:182: error: (-215:Assertion failed) !_src.empty() in function 'cvtColor'\n",
      "\n"
     ]
    },
    {
     "name": "stderr",
     "output_type": "stream",
     "text": [
      "/home/prativa/anaconda3/envs/py36/lib/python3.6/site-packages/pyproj/crs/crs.py:53: FutureWarning: '+init=<authority>:<code>' syntax is deprecated. '<authority>:<code>' is the preferred initialization method. When making the change, be mindful of axis order changes: https://pyproj4.github.io/pyproj/stable/gotchas.html#axis-order-changes-in-proj-6\n",
      "  return _prepare_from_string(\" \".join(pjargs))\n",
      "/home/prativa/anaconda3/envs/py36/lib/python3.6/site-packages/pyproj/crs/crs.py:53: FutureWarning: '+init=<authority>:<code>' syntax is deprecated. '<authority>:<code>' is the preferred initialization method. When making the change, be mindful of axis order changes: https://pyproj4.github.io/pyproj/stable/gotchas.html#axis-order-changes-in-proj-6\n",
      "  return _prepare_from_string(\" \".join(pjargs))\n",
      "/home/prativa/anaconda3/envs/py36/lib/python3.6/site-packages/pyproj/crs/crs.py:53: FutureWarning: '+init=<authority>:<code>' syntax is deprecated. '<authority>:<code>' is the preferred initialization method. When making the change, be mindful of axis order changes: https://pyproj4.github.io/pyproj/stable/gotchas.html#axis-order-changes-in-proj-6\n",
      "  return _prepare_from_string(\" \".join(pjargs))\n",
      "/home/prativa/anaconda3/envs/py36/lib/python3.6/site-packages/pyproj/crs/crs.py:53: FutureWarning: '+init=<authority>:<code>' syntax is deprecated. '<authority>:<code>' is the preferred initialization method. When making the change, be mindful of axis order changes: https://pyproj4.github.io/pyproj/stable/gotchas.html#axis-order-changes-in-proj-6\n",
      "  return _prepare_from_string(\" \".join(pjargs))\n",
      "/home/prativa/anaconda3/envs/py36/lib/python3.6/site-packages/pyproj/crs/crs.py:53: FutureWarning: '+init=<authority>:<code>' syntax is deprecated. '<authority>:<code>' is the preferred initialization method. When making the change, be mindful of axis order changes: https://pyproj4.github.io/pyproj/stable/gotchas.html#axis-order-changes-in-proj-6\n",
      "  return _prepare_from_string(\" \".join(pjargs))\n"
     ]
    },
    {
     "name": "stdout",
     "output_type": "stream",
     "text": [
      "OpenCV(4.1.0) /io/opencv/modules/imgproc/src/color.cpp:182: error: (-215:Assertion failed) !_src.empty() in function 'cvtColor'\n",
      "\n"
     ]
    },
    {
     "name": "stderr",
     "output_type": "stream",
     "text": [
      "\n",
      "\n",
      "\n",
      " 39%|███▉      | 214/550 [00:44<01:10,  4.79it/s]/home/prativa/anaconda3/envs/py36/lib/python3.6/site-packages/pyproj/crs/crs.py:53: FutureWarning: '+init=<authority>:<code>' syntax is deprecated. '<authority>:<code>' is the preferred initialization method. When making the change, be mindful of axis order changes: https://pyproj4.github.io/pyproj/stable/gotchas.html#axis-order-changes-in-proj-6\n",
      "  return _prepare_from_string(\" \".join(pjargs))\n",
      "\u001b[A\u001b[A\u001b[A/home/prativa/anaconda3/envs/py36/lib/python3.6/site-packages/pyproj/crs/crs.py:53: FutureWarning: '+init=<authority>:<code>' syntax is deprecated. '<authority>:<code>' is the preferred initialization method. When making the change, be mindful of axis order changes: https://pyproj4.github.io/pyproj/stable/gotchas.html#axis-order-changes-in-proj-6\n",
      "  return _prepare_from_string(\" \".join(pjargs))\n"
     ]
    },
    {
     "name": "stdout",
     "output_type": "stream",
     "text": [
      "OpenCV(4.1.0) /io/opencv/modules/imgproc/src/color.cpp:182: error: (-215:Assertion failed) !_src.empty() in function 'cvtColor'\n",
      "\n"
     ]
    },
    {
     "name": "stderr",
     "output_type": "stream",
     "text": [
      "/home/prativa/anaconda3/envs/py36/lib/python3.6/site-packages/pyproj/crs/crs.py:53: FutureWarning: '+init=<authority>:<code>' syntax is deprecated. '<authority>:<code>' is the preferred initialization method. When making the change, be mindful of axis order changes: https://pyproj4.github.io/pyproj/stable/gotchas.html#axis-order-changes-in-proj-6\n",
      "  return _prepare_from_string(\" \".join(pjargs))\n",
      "/home/prativa/anaconda3/envs/py36/lib/python3.6/site-packages/pyproj/crs/crs.py:53: FutureWarning: '+init=<authority>:<code>' syntax is deprecated. '<authority>:<code>' is the preferred initialization method. When making the change, be mindful of axis order changes: https://pyproj4.github.io/pyproj/stable/gotchas.html#axis-order-changes-in-proj-6\n",
      "  return _prepare_from_string(\" \".join(pjargs))\n"
     ]
    },
    {
     "name": "stdout",
     "output_type": "stream",
     "text": [
      "OpenCV(4.1.0) /io/opencv/modules/imgproc/src/color.cpp:182: error: (-215:Assertion failed) !_src.empty() in function 'cvtColor'\n",
      "\n",
      "OpenCV(4.1.0) /io/opencv/modules/imgproc/src/color.cpp:182: error: (-215:Assertion failed) !_src.empty() in function 'cvtColor'\n"
     ]
    },
    {
     "name": "stderr",
     "output_type": "stream",
     "text": [
      "/home/prativa/anaconda3/envs/py36/lib/python3.6/site-packages/pyproj/crs/crs.py:53: FutureWarning: '+init=<authority>:<code>' syntax is deprecated. '<authority>:<code>' is the preferred initialization method. When making the change, be mindful of axis order changes: https://pyproj4.github.io/pyproj/stable/gotchas.html#axis-order-changes-in-proj-6\n",
      "  return _prepare_from_string(\" \".join(pjargs))\n",
      "/home/prativa/anaconda3/envs/py36/lib/python3.6/site-packages/pyproj/crs/crs.py:53: FutureWarning: '+init=<authority>:<code>' syntax is deprecated. '<authority>:<code>' is the preferred initialization method. When making the change, be mindful of axis order changes: https://pyproj4.github.io/pyproj/stable/gotchas.html#axis-order-changes-in-proj-6\n",
      "  return _prepare_from_string(\" \".join(pjargs))\n"
     ]
    },
    {
     "name": "stdout",
     "output_type": "stream",
     "text": [
      "OpenCV(4.1.0) /io/opencv/modules/imgproc/src/color.cpp:182: error: (-215:Assertion failed) !_src.empty() in function 'cvtColor'\n",
      "\n",
      "\n"
     ]
    },
    {
     "name": "stderr",
     "output_type": "stream",
     "text": [
      "\n",
      "\n",
      "\n",
      " 39%|███▉      | 216/550 [00:45<01:06,  5.04it/s]\u001b[A\u001b[A\u001b[A/home/prativa/anaconda3/envs/py36/lib/python3.6/site-packages/pyproj/crs/crs.py:53: FutureWarning: '+init=<authority>:<code>' syntax is deprecated. '<authority>:<code>' is the preferred initialization method. When making the change, be mindful of axis order changes: https://pyproj4.github.io/pyproj/stable/gotchas.html#axis-order-changes-in-proj-6\n",
      "  return _prepare_from_string(\" \".join(pjargs))\n",
      "/home/prativa/anaconda3/envs/py36/lib/python3.6/site-packages/pyproj/crs/crs.py:53: FutureWarning: '+init=<authority>:<code>' syntax is deprecated. '<authority>:<code>' is the preferred initialization method. When making the change, be mindful of axis order changes: https://pyproj4.github.io/pyproj/stable/gotchas.html#axis-order-changes-in-proj-6\n",
      "  return _prepare_from_string(\" \".join(pjargs))\n",
      "/home/prativa/anaconda3/envs/py36/lib/python3.6/site-packages/pyproj/crs/crs.py:53: FutureWarning: '+init=<authority>:<code>' syntax is deprecated. '<authority>:<code>' is the preferred initialization method. When making the change, be mindful of axis order changes: https://pyproj4.github.io/pyproj/stable/gotchas.html#axis-order-changes-in-proj-6\n",
      "  return _prepare_from_string(\" \".join(pjargs))\n"
     ]
    },
    {
     "name": "stdout",
     "output_type": "stream",
     "text": [
      "OpenCV(4.1.0) /io/opencv/modules/imgproc/src/color.cpp:182: error: (-215:Assertion failed) !_src.empty() in function 'cvtColor'\n",
      "OpenCV(4.1.0) /io/opencv/modules/imgproc/src/color.cpp:182: error: (-215:Assertion failed) !_src.empty() in function 'cvtColor'\n",
      "\n"
     ]
    },
    {
     "name": "stderr",
     "output_type": "stream",
     "text": [
      "\n",
      "\n",
      "\n",
      " 40%|███▉      | 218/550 [00:45<00:53,  6.20it/s]\u001b[A\u001b[A\u001b[A"
     ]
    },
    {
     "name": "stdout",
     "output_type": "stream",
     "text": [
      "\n",
      "OpenCV(4.1.0) /io/opencv/modules/imgproc/src/color.cpp:182: error: (-215:Assertion failed) !_src.empty() in function 'cvtColor'\n",
      "\n"
     ]
    },
    {
     "name": "stderr",
     "output_type": "stream",
     "text": [
      "/home/prativa/anaconda3/envs/py36/lib/python3.6/site-packages/pyproj/crs/crs.py:53: FutureWarning: '+init=<authority>:<code>' syntax is deprecated. '<authority>:<code>' is the preferred initialization method. When making the change, be mindful of axis order changes: https://pyproj4.github.io/pyproj/stable/gotchas.html#axis-order-changes-in-proj-6\n",
      "  return _prepare_from_string(\" \".join(pjargs))\n",
      "/home/prativa/anaconda3/envs/py36/lib/python3.6/site-packages/pyproj/crs/crs.py:53: FutureWarning: '+init=<authority>:<code>' syntax is deprecated. '<authority>:<code>' is the preferred initialization method. When making the change, be mindful of axis order changes: https://pyproj4.github.io/pyproj/stable/gotchas.html#axis-order-changes-in-proj-6\n",
      "  return _prepare_from_string(\" \".join(pjargs))\n",
      "/home/prativa/anaconda3/envs/py36/lib/python3.6/site-packages/pyproj/crs/crs.py:53: FutureWarning: '+init=<authority>:<code>' syntax is deprecated. '<authority>:<code>' is the preferred initialization method. When making the change, be mindful of axis order changes: https://pyproj4.github.io/pyproj/stable/gotchas.html#axis-order-changes-in-proj-6\n",
      "  return _prepare_from_string(\" \".join(pjargs))\n"
     ]
    },
    {
     "name": "stdout",
     "output_type": "stream",
     "text": [
      "OpenCV(4.1.0) /io/opencv/modules/imgproc/src/color.cpp:182: error: (-215:Assertion failed) !_src.empty() in function 'cvtColor'\n"
     ]
    },
    {
     "name": "stderr",
     "output_type": "stream",
     "text": [
      "/home/prativa/anaconda3/envs/py36/lib/python3.6/site-packages/pyproj/crs/crs.py:53: FutureWarning: '+init=<authority>:<code>' syntax is deprecated. '<authority>:<code>' is the preferred initialization method. When making the change, be mindful of axis order changes: https://pyproj4.github.io/pyproj/stable/gotchas.html#axis-order-changes-in-proj-6\n",
      "  return _prepare_from_string(\" \".join(pjargs))\n"
     ]
    },
    {
     "name": "stdout",
     "output_type": "stream",
     "text": [
      "\n"
     ]
    },
    {
     "name": "stderr",
     "output_type": "stream",
     "text": [
      "\n",
      "\n",
      "\n",
      " 40%|████      | 222/550 [00:45<00:42,  7.77it/s]\u001b[A\u001b[A\u001b[A/home/prativa/anaconda3/envs/py36/lib/python3.6/site-packages/pyproj/crs/crs.py:53: FutureWarning: '+init=<authority>:<code>' syntax is deprecated. '<authority>:<code>' is the preferred initialization method. When making the change, be mindful of axis order changes: https://pyproj4.github.io/pyproj/stable/gotchas.html#axis-order-changes-in-proj-6\n",
      "  return _prepare_from_string(\" \".join(pjargs))\n",
      "/home/prativa/anaconda3/envs/py36/lib/python3.6/site-packages/pyproj/crs/crs.py:53: FutureWarning: '+init=<authority>:<code>' syntax is deprecated. '<authority>:<code>' is the preferred initialization method. When making the change, be mindful of axis order changes: https://pyproj4.github.io/pyproj/stable/gotchas.html#axis-order-changes-in-proj-6\n",
      "  return _prepare_from_string(\" \".join(pjargs))\n",
      "/home/prativa/anaconda3/envs/py36/lib/python3.6/site-packages/pyproj/crs/crs.py:53: FutureWarning: '+init=<authority>:<code>' syntax is deprecated. '<authority>:<code>' is the preferred initialization method. When making the change, be mindful of axis order changes: https://pyproj4.github.io/pyproj/stable/gotchas.html#axis-order-changes-in-proj-6\n",
      "  return _prepare_from_string(\" \".join(pjargs))\n"
     ]
    },
    {
     "name": "stdout",
     "output_type": "stream",
     "text": [
      "OpenCV(4.1.0) /io/opencv/modules/imgproc/src/color.cpp:182: error: (-215:Assertion failed) !_src.empty() in function 'cvtColor'\n"
     ]
    },
    {
     "name": "stderr",
     "output_type": "stream",
     "text": [
      "/home/prativa/anaconda3/envs/py36/lib/python3.6/site-packages/pyproj/crs/crs.py:53: FutureWarning: '+init=<authority>:<code>' syntax is deprecated. '<authority>:<code>' is the preferred initialization method. When making the change, be mindful of axis order changes: https://pyproj4.github.io/pyproj/stable/gotchas.html#axis-order-changes-in-proj-6\n",
      "  return _prepare_from_string(\" \".join(pjargs))\n"
     ]
    },
    {
     "name": "stdout",
     "output_type": "stream",
     "text": [
      "\n"
     ]
    },
    {
     "name": "stderr",
     "output_type": "stream",
     "text": [
      "/home/prativa/anaconda3/envs/py36/lib/python3.6/site-packages/pyproj/crs/crs.py:53: FutureWarning: '+init=<authority>:<code>' syntax is deprecated. '<authority>:<code>' is the preferred initialization method. When making the change, be mindful of axis order changes: https://pyproj4.github.io/pyproj/stable/gotchas.html#axis-order-changes-in-proj-6\n",
      "  return _prepare_from_string(\" \".join(pjargs))\n",
      "/home/prativa/anaconda3/envs/py36/lib/python3.6/site-packages/pyproj/crs/crs.py:53: FutureWarning: '+init=<authority>:<code>' syntax is deprecated. '<authority>:<code>' is the preferred initialization method. When making the change, be mindful of axis order changes: https://pyproj4.github.io/pyproj/stable/gotchas.html#axis-order-changes-in-proj-6\n",
      "  return _prepare_from_string(\" \".join(pjargs))\n",
      "/home/prativa/anaconda3/envs/py36/lib/python3.6/site-packages/pyproj/crs/crs.py:53: FutureWarning: '+init=<authority>:<code>' syntax is deprecated. '<authority>:<code>' is the preferred initialization method. When making the change, be mindful of axis order changes: https://pyproj4.github.io/pyproj/stable/gotchas.html#axis-order-changes-in-proj-6\n",
      "  return _prepare_from_string(\" \".join(pjargs))\n"
     ]
    },
    {
     "name": "stdout",
     "output_type": "stream",
     "text": [
      "OpenCV(4.1.0) /io/opencv/modules/imgproc/src/color.cpp:182: error: (-215:Assertion failed) !_src.empty() in function 'cvtColor'\n",
      "\n"
     ]
    },
    {
     "name": "stderr",
     "output_type": "stream",
     "text": [
      "\n",
      "\n",
      "\n",
      " 41%|████      | 224/550 [00:45<00:42,  7.63it/s]\u001b[A\u001b[A\u001b[A"
     ]
    },
    {
     "name": "stdout",
     "output_type": "stream",
     "text": [
      "OpenCV(4.1.0) /io/opencv/modules/imgproc/src/color.cpp:182: error: (-215:Assertion failed) !_src.empty() in function 'cvtColor'\n",
      "\n"
     ]
    },
    {
     "name": "stderr",
     "output_type": "stream",
     "text": [
      "/home/prativa/anaconda3/envs/py36/lib/python3.6/site-packages/pyproj/crs/crs.py:53: FutureWarning: '+init=<authority>:<code>' syntax is deprecated. '<authority>:<code>' is the preferred initialization method. When making the change, be mindful of axis order changes: https://pyproj4.github.io/pyproj/stable/gotchas.html#axis-order-changes-in-proj-6\n",
      "  return _prepare_from_string(\" \".join(pjargs))\n",
      "/home/prativa/anaconda3/envs/py36/lib/python3.6/site-packages/pyproj/crs/crs.py:53: FutureWarning: '+init=<authority>:<code>' syntax is deprecated. '<authority>:<code>' is the preferred initialization method. When making the change, be mindful of axis order changes: https://pyproj4.github.io/pyproj/stable/gotchas.html#axis-order-changes-in-proj-6\n",
      "  return _prepare_from_string(\" \".join(pjargs))\n",
      "/home/prativa/anaconda3/envs/py36/lib/python3.6/site-packages/pyproj/crs/crs.py:53: FutureWarning: '+init=<authority>:<code>' syntax is deprecated. '<authority>:<code>' is the preferred initialization method. When making the change, be mindful of axis order changes: https://pyproj4.github.io/pyproj/stable/gotchas.html#axis-order-changes-in-proj-6\n",
      "  return _prepare_from_string(\" \".join(pjargs))\n",
      "/home/prativa/anaconda3/envs/py36/lib/python3.6/site-packages/pyproj/crs/crs.py:53: FutureWarning: '+init=<authority>:<code>' syntax is deprecated. '<authority>:<code>' is the preferred initialization method. When making the change, be mindful of axis order changes: https://pyproj4.github.io/pyproj/stable/gotchas.html#axis-order-changes-in-proj-6\n",
      "  return _prepare_from_string(\" \".join(pjargs))\n"
     ]
    },
    {
     "name": "stdout",
     "output_type": "stream",
     "text": [
      "OpenCV(4.1.0) /io/opencv/modules/imgproc/src/color.cpp:182: error: (-215:Assertion failed) !_src.empty() in function 'cvtColor'\n",
      "\n"
     ]
    },
    {
     "name": "stderr",
     "output_type": "stream",
     "text": [
      "\n",
      "\n",
      "\n",
      " 41%|████      | 226/550 [00:45<00:38,  8.39it/s]\u001b[A\u001b[A\u001b[A"
     ]
    },
    {
     "name": "stdout",
     "output_type": "stream",
     "text": [
      "OpenCV(4.1.0) /io/opencv/modules/imgproc/src/color.cpp:182: error: (-215:Assertion failed) !_src.empty() in function 'cvtColor'\n"
     ]
    },
    {
     "name": "stderr",
     "output_type": "stream",
     "text": [
      "/home/prativa/anaconda3/envs/py36/lib/python3.6/site-packages/pyproj/crs/crs.py:53: FutureWarning: '+init=<authority>:<code>' syntax is deprecated. '<authority>:<code>' is the preferred initialization method. When making the change, be mindful of axis order changes: https://pyproj4.github.io/pyproj/stable/gotchas.html#axis-order-changes-in-proj-6\n",
      "  return _prepare_from_string(\" \".join(pjargs))\n",
      "/home/prativa/anaconda3/envs/py36/lib/python3.6/site-packages/pyproj/crs/crs.py:53: FutureWarning: '+init=<authority>:<code>' syntax is deprecated. '<authority>:<code>' is the preferred initialization method. When making the change, be mindful of axis order changes: https://pyproj4.github.io/pyproj/stable/gotchas.html#axis-order-changes-in-proj-6\n",
      "  return _prepare_from_string(\" \".join(pjargs))\n"
     ]
    },
    {
     "name": "stdout",
     "output_type": "stream",
     "text": [
      "\n"
     ]
    },
    {
     "name": "stderr",
     "output_type": "stream",
     "text": [
      "/home/prativa/anaconda3/envs/py36/lib/python3.6/site-packages/pyproj/crs/crs.py:53: FutureWarning: '+init=<authority>:<code>' syntax is deprecated. '<authority>:<code>' is the preferred initialization method. When making the change, be mindful of axis order changes: https://pyproj4.github.io/pyproj/stable/gotchas.html#axis-order-changes-in-proj-6\n",
      "  return _prepare_from_string(\" \".join(pjargs))\n",
      "/home/prativa/anaconda3/envs/py36/lib/python3.6/site-packages/pyproj/crs/crs.py:53: FutureWarning: '+init=<authority>:<code>' syntax is deprecated. '<authority>:<code>' is the preferred initialization method. When making the change, be mindful of axis order changes: https://pyproj4.github.io/pyproj/stable/gotchas.html#axis-order-changes-in-proj-6\n",
      "  return _prepare_from_string(\" \".join(pjargs))\n"
     ]
    },
    {
     "name": "stdout",
     "output_type": "stream",
     "text": [
      "OpenCV(4.1.0) /io/opencv/modules/imgproc/src/color.cpp:182: error: (-215:Assertion failed) !_src.empty() in function 'cvtColor'\n",
      "\n"
     ]
    },
    {
     "name": "stderr",
     "output_type": "stream",
     "text": [
      "\n",
      "\n",
      "\n",
      " 41%|████▏     | 228/550 [00:46<00:35,  9.04it/s]\u001b[A\u001b[A\u001b[A"
     ]
    },
    {
     "name": "stdout",
     "output_type": "stream",
     "text": [
      "OpenCV(4.1.0) /io/opencv/modules/imgproc/src/color.cpp:182: error: (-215:Assertion failed) !_src.empty() in function 'cvtColor'\n"
     ]
    },
    {
     "name": "stderr",
     "output_type": "stream",
     "text": [
      "/home/prativa/anaconda3/envs/py36/lib/python3.6/site-packages/pyproj/crs/crs.py:53: FutureWarning: '+init=<authority>:<code>' syntax is deprecated. '<authority>:<code>' is the preferred initialization method. When making the change, be mindful of axis order changes: https://pyproj4.github.io/pyproj/stable/gotchas.html#axis-order-changes-in-proj-6\n",
      "  return _prepare_from_string(\" \".join(pjargs))\n"
     ]
    },
    {
     "name": "stdout",
     "output_type": "stream",
     "text": [
      "\n"
     ]
    },
    {
     "name": "stderr",
     "output_type": "stream",
     "text": [
      "/home/prativa/anaconda3/envs/py36/lib/python3.6/site-packages/pyproj/crs/crs.py:53: FutureWarning: '+init=<authority>:<code>' syntax is deprecated. '<authority>:<code>' is the preferred initialization method. When making the change, be mindful of axis order changes: https://pyproj4.github.io/pyproj/stable/gotchas.html#axis-order-changes-in-proj-6\n",
      "  return _prepare_from_string(\" \".join(pjargs))\n"
     ]
    },
    {
     "name": "stdout",
     "output_type": "stream",
     "text": [
      "OpenCV(4.1.0) /io/opencv/modules/imgproc/src/color.cpp:182: error: (-215:Assertion failed) !_src.empty() in function 'cvtColor'\n"
     ]
    },
    {
     "name": "stderr",
     "output_type": "stream",
     "text": [
      "/home/prativa/anaconda3/envs/py36/lib/python3.6/site-packages/pyproj/crs/crs.py:53: FutureWarning: '+init=<authority>:<code>' syntax is deprecated. '<authority>:<code>' is the preferred initialization method. When making the change, be mindful of axis order changes: https://pyproj4.github.io/pyproj/stable/gotchas.html#axis-order-changes-in-proj-6\n",
      "  return _prepare_from_string(\" \".join(pjargs))\n"
     ]
    },
    {
     "name": "stdout",
     "output_type": "stream",
     "text": [
      "OpenCV(4.1.0) /io/opencv/modules/imgproc/src/color.cpp:182: error: (-215:Assertion failed) !_src.empty() in function 'cvtColor'\n",
      "\n",
      "\n"
     ]
    },
    {
     "name": "stderr",
     "output_type": "stream",
     "text": [
      "\n",
      "\n",
      "\n",
      " 42%|████▏     | 230/550 [00:46<00:32,  9.96it/s]\u001b[A\u001b[A\u001b[A/home/prativa/anaconda3/envs/py36/lib/python3.6/site-packages/pyproj/crs/crs.py:53: FutureWarning: '+init=<authority>:<code>' syntax is deprecated. '<authority>:<code>' is the preferred initialization method. When making the change, be mindful of axis order changes: https://pyproj4.github.io/pyproj/stable/gotchas.html#axis-order-changes-in-proj-6\n",
      "  return _prepare_from_string(\" \".join(pjargs))\n",
      "/home/prativa/anaconda3/envs/py36/lib/python3.6/site-packages/pyproj/crs/crs.py:53: FutureWarning: '+init=<authority>:<code>' syntax is deprecated. '<authority>:<code>' is the preferred initialization method. When making the change, be mindful of axis order changes: https://pyproj4.github.io/pyproj/stable/gotchas.html#axis-order-changes-in-proj-6\n",
      "  return _prepare_from_string(\" \".join(pjargs))\n"
     ]
    },
    {
     "name": "stdout",
     "output_type": "stream",
     "text": [
      "OpenCV(4.1.0) /io/opencv/modules/imgproc/src/color.cpp:182: error: (-215:Assertion failed) !_src.empty() in function 'cvtColor'\n"
     ]
    },
    {
     "name": "stderr",
     "output_type": "stream",
     "text": [
      "/home/prativa/anaconda3/envs/py36/lib/python3.6/site-packages/pyproj/crs/crs.py:53: FutureWarning: '+init=<authority>:<code>' syntax is deprecated. '<authority>:<code>' is the preferred initialization method. When making the change, be mindful of axis order changes: https://pyproj4.github.io/pyproj/stable/gotchas.html#axis-order-changes-in-proj-6\n",
      "  return _prepare_from_string(\" \".join(pjargs))\n"
     ]
    },
    {
     "name": "stdout",
     "output_type": "stream",
     "text": [
      "\n"
     ]
    },
    {
     "name": "stderr",
     "output_type": "stream",
     "text": [
      "\n",
      "\n",
      "\n",
      " 42%|████▏     | 232/550 [00:46<00:29, 10.79it/s]\u001b[A\u001b[A\u001b[A/home/prativa/anaconda3/envs/py36/lib/python3.6/site-packages/pyproj/crs/crs.py:53: FutureWarning: '+init=<authority>:<code>' syntax is deprecated. '<authority>:<code>' is the preferred initialization method. When making the change, be mindful of axis order changes: https://pyproj4.github.io/pyproj/stable/gotchas.html#axis-order-changes-in-proj-6\n",
      "  return _prepare_from_string(\" \".join(pjargs))\n",
      "/home/prativa/anaconda3/envs/py36/lib/python3.6/site-packages/pyproj/crs/crs.py:53: FutureWarning: '+init=<authority>:<code>' syntax is deprecated. '<authority>:<code>' is the preferred initialization method. When making the change, be mindful of axis order changes: https://pyproj4.github.io/pyproj/stable/gotchas.html#axis-order-changes-in-proj-6\n",
      "  return _prepare_from_string(\" \".join(pjargs))\n",
      "/home/prativa/anaconda3/envs/py36/lib/python3.6/site-packages/pyproj/crs/crs.py:53: FutureWarning: '+init=<authority>:<code>' syntax is deprecated. '<authority>:<code>' is the preferred initialization method. When making the change, be mindful of axis order changes: https://pyproj4.github.io/pyproj/stable/gotchas.html#axis-order-changes-in-proj-6\n",
      "  return _prepare_from_string(\" \".join(pjargs))\n"
     ]
    },
    {
     "name": "stdout",
     "output_type": "stream",
     "text": [
      "OpenCV(4.1.0) /io/opencv/modules/imgproc/src/color.cpp:182: error: (-215:Assertion failed) !_src.empty() in function 'cvtColor'\n",
      "\n"
     ]
    },
    {
     "name": "stderr",
     "output_type": "stream",
     "text": [
      "/home/prativa/anaconda3/envs/py36/lib/python3.6/site-packages/pyproj/crs/crs.py:53: FutureWarning: '+init=<authority>:<code>' syntax is deprecated. '<authority>:<code>' is the preferred initialization method. When making the change, be mindful of axis order changes: https://pyproj4.github.io/pyproj/stable/gotchas.html#axis-order-changes-in-proj-6\n",
      "  return _prepare_from_string(\" \".join(pjargs))\n"
     ]
    },
    {
     "name": "stdout",
     "output_type": "stream",
     "text": [
      "OpenCV(4.1.0) /io/opencv/modules/imgproc/src/color.cpp:182: error: (-215:Assertion failed) !_src.empty() in function 'cvtColor'\n",
      "\n"
     ]
    },
    {
     "name": "stderr",
     "output_type": "stream",
     "text": [
      "\n",
      "\n",
      "\n",
      " 43%|████▎     | 234/550 [00:46<00:27, 11.39it/s]\u001b[A\u001b[A\u001b[A/home/prativa/anaconda3/envs/py36/lib/python3.6/site-packages/pyproj/crs/crs.py:53: FutureWarning: '+init=<authority>:<code>' syntax is deprecated. '<authority>:<code>' is the preferred initialization method. When making the change, be mindful of axis order changes: https://pyproj4.github.io/pyproj/stable/gotchas.html#axis-order-changes-in-proj-6\n",
      "  return _prepare_from_string(\" \".join(pjargs))\n",
      "/home/prativa/anaconda3/envs/py36/lib/python3.6/site-packages/pyproj/crs/crs.py:53: FutureWarning: '+init=<authority>:<code>' syntax is deprecated. '<authority>:<code>' is the preferred initialization method. When making the change, be mindful of axis order changes: https://pyproj4.github.io/pyproj/stable/gotchas.html#axis-order-changes-in-proj-6\n",
      "  return _prepare_from_string(\" \".join(pjargs))\n"
     ]
    },
    {
     "name": "stdout",
     "output_type": "stream",
     "text": [
      "OpenCV(4.1.0) /io/opencv/modules/imgproc/src/color.cpp:182: error: (-215:Assertion failed) !_src.empty() in function 'cvtColor'\n",
      "\n"
     ]
    },
    {
     "name": "stderr",
     "output_type": "stream",
     "text": [
      "/home/prativa/anaconda3/envs/py36/lib/python3.6/site-packages/pyproj/crs/crs.py:53: FutureWarning: '+init=<authority>:<code>' syntax is deprecated. '<authority>:<code>' is the preferred initialization method. When making the change, be mindful of axis order changes: https://pyproj4.github.io/pyproj/stable/gotchas.html#axis-order-changes-in-proj-6\n",
      "  return _prepare_from_string(\" \".join(pjargs))\n",
      "/home/prativa/anaconda3/envs/py36/lib/python3.6/site-packages/pyproj/crs/crs.py:53: FutureWarning: '+init=<authority>:<code>' syntax is deprecated. '<authority>:<code>' is the preferred initialization method. When making the change, be mindful of axis order changes: https://pyproj4.github.io/pyproj/stable/gotchas.html#axis-order-changes-in-proj-6\n",
      "  return _prepare_from_string(\" \".join(pjargs))\n",
      "/home/prativa/anaconda3/envs/py36/lib/python3.6/site-packages/pyproj/crs/crs.py:53: FutureWarning: '+init=<authority>:<code>' syntax is deprecated. '<authority>:<code>' is the preferred initialization method. When making the change, be mindful of axis order changes: https://pyproj4.github.io/pyproj/stable/gotchas.html#axis-order-changes-in-proj-6\n",
      "  return _prepare_from_string(\" \".join(pjargs))\n"
     ]
    },
    {
     "name": "stdout",
     "output_type": "stream",
     "text": [
      "OpenCV(4.1.0) /io/opencv/modules/imgproc/src/color.cpp:182: error: (-215:Assertion failed) !_src.empty() in function 'cvtColor'\n"
     ]
    },
    {
     "name": "stderr",
     "output_type": "stream",
     "text": [
      "/home/prativa/anaconda3/envs/py36/lib/python3.6/site-packages/pyproj/crs/crs.py:53: FutureWarning: '+init=<authority>:<code>' syntax is deprecated. '<authority>:<code>' is the preferred initialization method. When making the change, be mindful of axis order changes: https://pyproj4.github.io/pyproj/stable/gotchas.html#axis-order-changes-in-proj-6\n",
      "  return _prepare_from_string(\" \".join(pjargs))\n",
      "/home/prativa/anaconda3/envs/py36/lib/python3.6/site-packages/pyproj/crs/crs.py:53: FutureWarning: '+init=<authority>:<code>' syntax is deprecated. '<authority>:<code>' is the preferred initialization method. When making the change, be mindful of axis order changes: https://pyproj4.github.io/pyproj/stable/gotchas.html#axis-order-changes-in-proj-6\n",
      "  return _prepare_from_string(\" \".join(pjargs))\n"
     ]
    },
    {
     "name": "stdout",
     "output_type": "stream",
     "text": [
      "\n",
      "OpenCV(4.1.0) /io/opencv/modules/imgproc/src/color.cpp:182: error: (-215:Assertion failed) !_src.empty() in function 'cvtColor'\n"
     ]
    },
    {
     "name": "stderr",
     "output_type": "stream",
     "text": [
      "/home/prativa/anaconda3/envs/py36/lib/python3.6/site-packages/pyproj/crs/crs.py:53: FutureWarning: '+init=<authority>:<code>' syntax is deprecated. '<authority>:<code>' is the preferred initialization method. When making the change, be mindful of axis order changes: https://pyproj4.github.io/pyproj/stable/gotchas.html#axis-order-changes-in-proj-6\n",
      "  return _prepare_from_string(\" \".join(pjargs))\n"
     ]
    },
    {
     "name": "stdout",
     "output_type": "stream",
     "text": [
      "\n"
     ]
    },
    {
     "name": "stderr",
     "output_type": "stream",
     "text": [
      "\n",
      "\n",
      "\n",
      " 43%|████▎     | 236/550 [00:46<00:33,  9.24it/s]\u001b[A\u001b[A\u001b[A/home/prativa/anaconda3/envs/py36/lib/python3.6/site-packages/pyproj/crs/crs.py:53: FutureWarning: '+init=<authority>:<code>' syntax is deprecated. '<authority>:<code>' is the preferred initialization method. When making the change, be mindful of axis order changes: https://pyproj4.github.io/pyproj/stable/gotchas.html#axis-order-changes-in-proj-6\n",
      "  return _prepare_from_string(\" \".join(pjargs))\n"
     ]
    },
    {
     "name": "stdout",
     "output_type": "stream",
     "text": [
      "OpenCV(4.1.0) /io/opencv/modules/imgproc/src/color.cpp:182: error: (-215:Assertion failed) !_src.empty() in function 'cvtColor'\n",
      "\n"
     ]
    },
    {
     "name": "stderr",
     "output_type": "stream",
     "text": [
      "/home/prativa/anaconda3/envs/py36/lib/python3.6/site-packages/pyproj/crs/crs.py:53: FutureWarning: '+init=<authority>:<code>' syntax is deprecated. '<authority>:<code>' is the preferred initialization method. When making the change, be mindful of axis order changes: https://pyproj4.github.io/pyproj/stable/gotchas.html#axis-order-changes-in-proj-6\n",
      "  return _prepare_from_string(\" \".join(pjargs))\n"
     ]
    },
    {
     "name": "stdout",
     "output_type": "stream",
     "text": [
      "OpenCV(4.1.0) /io/opencv/modules/imgproc/src/color.cpp:182: error: (-215:Assertion failed) !_src.empty() in function 'cvtColor'\n",
      "\n"
     ]
    },
    {
     "name": "stderr",
     "output_type": "stream",
     "text": [
      "/home/prativa/anaconda3/envs/py36/lib/python3.6/site-packages/pyproj/crs/crs.py:53: FutureWarning: '+init=<authority>:<code>' syntax is deprecated. '<authority>:<code>' is the preferred initialization method. When making the change, be mindful of axis order changes: https://pyproj4.github.io/pyproj/stable/gotchas.html#axis-order-changes-in-proj-6\n",
      "  return _prepare_from_string(\" \".join(pjargs))\n",
      "\n",
      "\n",
      "\n",
      " 43%|████▎     | 239/550 [00:47<00:29, 10.56it/s]\u001b[A\u001b[A\u001b[A/home/prativa/anaconda3/envs/py36/lib/python3.6/site-packages/pyproj/crs/crs.py:53: FutureWarning: '+init=<authority>:<code>' syntax is deprecated. '<authority>:<code>' is the preferred initialization method. When making the change, be mindful of axis order changes: https://pyproj4.github.io/pyproj/stable/gotchas.html#axis-order-changes-in-proj-6\n",
      "  return _prepare_from_string(\" \".join(pjargs))\n",
      "/home/prativa/anaconda3/envs/py36/lib/python3.6/site-packages/pyproj/crs/crs.py:53: FutureWarning: '+init=<authority>:<code>' syntax is deprecated. '<authority>:<code>' is the preferred initialization method. When making the change, be mindful of axis order changes: https://pyproj4.github.io/pyproj/stable/gotchas.html#axis-order-changes-in-proj-6\n",
      "  return _prepare_from_string(\" \".join(pjargs))\n",
      "/home/prativa/anaconda3/envs/py36/lib/python3.6/site-packages/pyproj/crs/crs.py:53: FutureWarning: '+init=<authority>:<code>' syntax is deprecated. '<authority>:<code>' is the preferred initialization method. When making the change, be mindful of axis order changes: https://pyproj4.github.io/pyproj/stable/gotchas.html#axis-order-changes-in-proj-6\n",
      "  return _prepare_from_string(\" \".join(pjargs))\n",
      "/home/prativa/anaconda3/envs/py36/lib/python3.6/site-packages/pyproj/crs/crs.py:53: FutureWarning: '+init=<authority>:<code>' syntax is deprecated. '<authority>:<code>' is the preferred initialization method. When making the change, be mindful of axis order changes: https://pyproj4.github.io/pyproj/stable/gotchas.html#axis-order-changes-in-proj-6\n",
      "  return _prepare_from_string(\" \".join(pjargs))\n"
     ]
    },
    {
     "name": "stdout",
     "output_type": "stream",
     "text": [
      "OpenCV(4.1.0) /io/opencv/modules/imgproc/src/color.cpp:182: error: (-215:Assertion failed) !_src.empty() in function 'cvtColor'\n",
      "OpenCV(4.1.0) /io/opencv/modules/imgproc/src/color.cpp:182: error: (-215:Assertion failed) !_src.empty() in function 'cvtColor'\n",
      "\n",
      "OpenCV(4.1.0) /io/opencv/modules/imgproc/src/color.cpp:182: error: (-215:Assertion failed) !_src.empty() in function 'cvtColor'\n",
      "\n",
      "\n"
     ]
    },
    {
     "name": "stderr",
     "output_type": "stream",
     "text": [
      "\n",
      "\n",
      "\n",
      " 44%|████▍     | 241/550 [00:47<00:29, 10.59it/s]\u001b[A\u001b[A\u001b[A/home/prativa/anaconda3/envs/py36/lib/python3.6/site-packages/pyproj/crs/crs.py:53: FutureWarning: '+init=<authority>:<code>' syntax is deprecated. '<authority>:<code>' is the preferred initialization method. When making the change, be mindful of axis order changes: https://pyproj4.github.io/pyproj/stable/gotchas.html#axis-order-changes-in-proj-6\n",
      "  return _prepare_from_string(\" \".join(pjargs))\n",
      "/home/prativa/anaconda3/envs/py36/lib/python3.6/site-packages/pyproj/crs/crs.py:53: FutureWarning: '+init=<authority>:<code>' syntax is deprecated. '<authority>:<code>' is the preferred initialization method. When making the change, be mindful of axis order changes: https://pyproj4.github.io/pyproj/stable/gotchas.html#axis-order-changes-in-proj-6\n",
      "  return _prepare_from_string(\" \".join(pjargs))\n"
     ]
    },
    {
     "name": "stdout",
     "output_type": "stream",
     "text": [
      "OpenCV(4.1.0) /io/opencv/modules/imgproc/src/color.cpp:182: error: (-215:Assertion failed) !_src.empty() in function 'cvtColor'\n",
      "\n"
     ]
    },
    {
     "name": "stderr",
     "output_type": "stream",
     "text": [
      "/home/prativa/anaconda3/envs/py36/lib/python3.6/site-packages/pyproj/crs/crs.py:53: FutureWarning: '+init=<authority>:<code>' syntax is deprecated. '<authority>:<code>' is the preferred initialization method. When making the change, be mindful of axis order changes: https://pyproj4.github.io/pyproj/stable/gotchas.html#axis-order-changes-in-proj-6\n",
      "  return _prepare_from_string(\" \".join(pjargs))\n"
     ]
    },
    {
     "name": "stdout",
     "output_type": "stream",
     "text": [
      "OpenCV(4.1.0) /io/opencv/modules/imgproc/src/color.cpp:182: error: (-215:Assertion failed) !_src.empty() in function 'cvtColor'\n"
     ]
    },
    {
     "name": "stderr",
     "output_type": "stream",
     "text": [
      "/home/prativa/anaconda3/envs/py36/lib/python3.6/site-packages/pyproj/crs/crs.py:53: FutureWarning: '+init=<authority>:<code>' syntax is deprecated. '<authority>:<code>' is the preferred initialization method. When making the change, be mindful of axis order changes: https://pyproj4.github.io/pyproj/stable/gotchas.html#axis-order-changes-in-proj-6\n",
      "  return _prepare_from_string(\" \".join(pjargs))\n"
     ]
    },
    {
     "name": "stdout",
     "output_type": "stream",
     "text": [
      "\n"
     ]
    },
    {
     "name": "stderr",
     "output_type": "stream",
     "text": [
      "\n",
      "\n",
      "\n",
      " 44%|████▍     | 244/550 [00:47<00:26, 11.58it/s]\u001b[A\u001b[A\u001b[A/home/prativa/anaconda3/envs/py36/lib/python3.6/site-packages/pyproj/crs/crs.py:53: FutureWarning: '+init=<authority>:<code>' syntax is deprecated. '<authority>:<code>' is the preferred initialization method. When making the change, be mindful of axis order changes: https://pyproj4.github.io/pyproj/stable/gotchas.html#axis-order-changes-in-proj-6\n",
      "  return _prepare_from_string(\" \".join(pjargs))\n"
     ]
    },
    {
     "name": "stdout",
     "output_type": "stream",
     "text": [
      "OpenCV(4.1.0) /io/opencv/modules/imgproc/src/color.cpp:182: error: (-215:Assertion failed) !_src.empty() in function 'cvtColor'\n",
      "\n",
      "OpenCV(4.1.0) /io/opencv/modules/imgproc/src/color.cpp:182: error: (-215:Assertion failed) !_src.empty() in function 'cvtColor'\n",
      "\n"
     ]
    },
    {
     "name": "stderr",
     "output_type": "stream",
     "text": [
      "/home/prativa/anaconda3/envs/py36/lib/python3.6/site-packages/pyproj/crs/crs.py:53: FutureWarning: '+init=<authority>:<code>' syntax is deprecated. '<authority>:<code>' is the preferred initialization method. When making the change, be mindful of axis order changes: https://pyproj4.github.io/pyproj/stable/gotchas.html#axis-order-changes-in-proj-6\n",
      "  return _prepare_from_string(\" \".join(pjargs))\n",
      "\n",
      "\n",
      "\n",
      " 45%|████▍     | 246/550 [00:47<00:28, 10.61it/s]\u001b[A\u001b[A\u001b[A/home/prativa/anaconda3/envs/py36/lib/python3.6/site-packages/pyproj/crs/crs.py:53: FutureWarning: '+init=<authority>:<code>' syntax is deprecated. '<authority>:<code>' is the preferred initialization method. When making the change, be mindful of axis order changes: https://pyproj4.github.io/pyproj/stable/gotchas.html#axis-order-changes-in-proj-6\n",
      "  return _prepare_from_string(\" \".join(pjargs))\n"
     ]
    },
    {
     "name": "stdout",
     "output_type": "stream",
     "text": [
      "OpenCV(4.1.0) /io/opencv/modules/imgproc/src/color.cpp:182: error: (-215:Assertion failed) !_src.empty() in function 'cvtColor'\n",
      "\n",
      "OpenCV(4.1.0) /io/opencv/modules/imgproc/src/color.cpp:182: error: (-215:Assertion failed) !_src.empty() in function 'cvtColor'\n",
      "\n"
     ]
    },
    {
     "name": "stderr",
     "output_type": "stream",
     "text": [
      "\n",
      "\n",
      "\n",
      " 45%|████▌     | 248/550 [00:47<00:31,  9.49it/s]\u001b[A\u001b[A\u001b[A"
     ]
    },
    {
     "name": "stdout",
     "output_type": "stream",
     "text": [
      "OpenCV(4.1.0) /io/opencv/modules/imgproc/src/color.cpp:182: error: (-215:Assertion failed) !_src.empty() in function 'cvtColor'\n",
      "\n",
      "OpenCV(4.1.0) /io/opencv/modules/imgproc/src/color.cpp:182: error: (-215:Assertion failed) !_src.empty() in function 'cvtColor'\n",
      "\n"
     ]
    },
    {
     "name": "stderr",
     "output_type": "stream",
     "text": [
      "\n",
      "\n",
      "\n",
      " 45%|████▌     | 250/550 [00:48<00:28, 10.61it/s]\u001b[A\u001b[A\u001b[A/home/prativa/anaconda3/envs/py36/lib/python3.6/site-packages/pyproj/crs/crs.py:53: FutureWarning: '+init=<authority>:<code>' syntax is deprecated. '<authority>:<code>' is the preferred initialization method. When making the change, be mindful of axis order changes: https://pyproj4.github.io/pyproj/stable/gotchas.html#axis-order-changes-in-proj-6\n",
      "  return _prepare_from_string(\" \".join(pjargs))\n",
      "/home/prativa/anaconda3/envs/py36/lib/python3.6/site-packages/pyproj/crs/crs.py:53: FutureWarning: '+init=<authority>:<code>' syntax is deprecated. '<authority>:<code>' is the preferred initialization method. When making the change, be mindful of axis order changes: https://pyproj4.github.io/pyproj/stable/gotchas.html#axis-order-changes-in-proj-6\n",
      "  return _prepare_from_string(\" \".join(pjargs))\n",
      "/home/prativa/anaconda3/envs/py36/lib/python3.6/site-packages/pyproj/crs/crs.py:53: FutureWarning: '+init=<authority>:<code>' syntax is deprecated. '<authority>:<code>' is the preferred initialization method. When making the change, be mindful of axis order changes: https://pyproj4.github.io/pyproj/stable/gotchas.html#axis-order-changes-in-proj-6\n",
      "  return _prepare_from_string(\" \".join(pjargs))\n",
      "/home/prativa/anaconda3/envs/py36/lib/python3.6/site-packages/pyproj/crs/crs.py:53: FutureWarning: '+init=<authority>:<code>' syntax is deprecated. '<authority>:<code>' is the preferred initialization method. When making the change, be mindful of axis order changes: https://pyproj4.github.io/pyproj/stable/gotchas.html#axis-order-changes-in-proj-6\n",
      "  return _prepare_from_string(\" \".join(pjargs))\n",
      "/home/prativa/anaconda3/envs/py36/lib/python3.6/site-packages/pyproj/crs/crs.py:53: FutureWarning: '+init=<authority>:<code>' syntax is deprecated. '<authority>:<code>' is the preferred initialization method. When making the change, be mindful of axis order changes: https://pyproj4.github.io/pyproj/stable/gotchas.html#axis-order-changes-in-proj-6\n",
      "  return _prepare_from_string(\" \".join(pjargs))\n",
      "/home/prativa/anaconda3/envs/py36/lib/python3.6/site-packages/pyproj/crs/crs.py:53: FutureWarning: '+init=<authority>:<code>' syntax is deprecated. '<authority>:<code>' is the preferred initialization method. When making the change, be mindful of axis order changes: https://pyproj4.github.io/pyproj/stable/gotchas.html#axis-order-changes-in-proj-6\n",
      "  return _prepare_from_string(\" \".join(pjargs))\n",
      "/home/prativa/anaconda3/envs/py36/lib/python3.6/site-packages/pyproj/crs/crs.py:53: FutureWarning: '+init=<authority>:<code>' syntax is deprecated. '<authority>:<code>' is the preferred initialization method. When making the change, be mindful of axis order changes: https://pyproj4.github.io/pyproj/stable/gotchas.html#axis-order-changes-in-proj-6\n",
      "  return _prepare_from_string(\" \".join(pjargs))\n",
      "/home/prativa/anaconda3/envs/py36/lib/python3.6/site-packages/pyproj/crs/crs.py:53: FutureWarning: '+init=<authority>:<code>' syntax is deprecated. '<authority>:<code>' is the preferred initialization method. When making the change, be mindful of axis order changes: https://pyproj4.github.io/pyproj/stable/gotchas.html#axis-order-changes-in-proj-6\n",
      "  return _prepare_from_string(\" \".join(pjargs))\n",
      "/home/prativa/anaconda3/envs/py36/lib/python3.6/site-packages/pyproj/crs/crs.py:53: FutureWarning: '+init=<authority>:<code>' syntax is deprecated. '<authority>:<code>' is the preferred initialization method. When making the change, be mindful of axis order changes: https://pyproj4.github.io/pyproj/stable/gotchas.html#axis-order-changes-in-proj-6\n",
      "  return _prepare_from_string(\" \".join(pjargs))\n",
      "/home/prativa/anaconda3/envs/py36/lib/python3.6/site-packages/pyproj/crs/crs.py:53: FutureWarning: '+init=<authority>:<code>' syntax is deprecated. '<authority>:<code>' is the preferred initialization method. When making the change, be mindful of axis order changes: https://pyproj4.github.io/pyproj/stable/gotchas.html#axis-order-changes-in-proj-6\n",
      "  return _prepare_from_string(\" \".join(pjargs))\n",
      "/home/prativa/anaconda3/envs/py36/lib/python3.6/site-packages/pyproj/crs/crs.py:53: FutureWarning: '+init=<authority>:<code>' syntax is deprecated. '<authority>:<code>' is the preferred initialization method. When making the change, be mindful of axis order changes: https://pyproj4.github.io/pyproj/stable/gotchas.html#axis-order-changes-in-proj-6\n",
      "  return _prepare_from_string(\" \".join(pjargs))\n",
      "/home/prativa/anaconda3/envs/py36/lib/python3.6/site-packages/pyproj/crs/crs.py:53: FutureWarning: '+init=<authority>:<code>' syntax is deprecated. '<authority>:<code>' is the preferred initialization method. When making the change, be mindful of axis order changes: https://pyproj4.github.io/pyproj/stable/gotchas.html#axis-order-changes-in-proj-6\n",
      "  return _prepare_from_string(\" \".join(pjargs))\n"
     ]
    },
    {
     "name": "stdout",
     "output_type": "stream",
     "text": [
      "OpenCV(4.1.0) /io/opencv/modules/imgproc/src/color.cpp:182: error: (-215:Assertion failed) !_src.empty() in function 'cvtColor'\n"
     ]
    },
    {
     "name": "stderr",
     "output_type": "stream",
     "text": [
      "/home/prativa/anaconda3/envs/py36/lib/python3.6/site-packages/pyproj/crs/crs.py:53: FutureWarning: '+init=<authority>:<code>' syntax is deprecated. '<authority>:<code>' is the preferred initialization method. When making the change, be mindful of axis order changes: https://pyproj4.github.io/pyproj/stable/gotchas.html#axis-order-changes-in-proj-6\n",
      "  return _prepare_from_string(\" \".join(pjargs))\n"
     ]
    },
    {
     "name": "stdout",
     "output_type": "stream",
     "text": [
      "\n",
      "OpenCV(4.1.0) /io/opencv/modules/imgproc/src/color.cpp:182: error: (-215:Assertion failed) !_src.empty() in function 'cvtColor'\n",
      "\n"
     ]
    },
    {
     "name": "stderr",
     "output_type": "stream",
     "text": [
      "/home/prativa/anaconda3/envs/py36/lib/python3.6/site-packages/pyproj/crs/crs.py:53: FutureWarning: '+init=<authority>:<code>' syntax is deprecated. '<authority>:<code>' is the preferred initialization method. When making the change, be mindful of axis order changes: https://pyproj4.github.io/pyproj/stable/gotchas.html#axis-order-changes-in-proj-6\n",
      "  return _prepare_from_string(\" \".join(pjargs))\n",
      "/home/prativa/anaconda3/envs/py36/lib/python3.6/site-packages/pyproj/crs/crs.py:53: FutureWarning: '+init=<authority>:<code>' syntax is deprecated. '<authority>:<code>' is the preferred initialization method. When making the change, be mindful of axis order changes: https://pyproj4.github.io/pyproj/stable/gotchas.html#axis-order-changes-in-proj-6\n",
      "  return _prepare_from_string(\" \".join(pjargs))\n"
     ]
    },
    {
     "name": "stdout",
     "output_type": "stream",
     "text": [
      "OpenCV(4.1.0) /io/opencv/modules/imgproc/src/color.cpp:182: error: (-215:Assertion failed) !_src.empty() in function 'cvtColor'\n"
     ]
    },
    {
     "name": "stderr",
     "output_type": "stream",
     "text": [
      "/home/prativa/anaconda3/envs/py36/lib/python3.6/site-packages/pyproj/crs/crs.py:53: FutureWarning: '+init=<authority>:<code>' syntax is deprecated. '<authority>:<code>' is the preferred initialization method. When making the change, be mindful of axis order changes: https://pyproj4.github.io/pyproj/stable/gotchas.html#axis-order-changes-in-proj-6\n",
      "  return _prepare_from_string(\" \".join(pjargs))\n"
     ]
    },
    {
     "name": "stdout",
     "output_type": "stream",
     "text": [
      "\n"
     ]
    },
    {
     "name": "stderr",
     "output_type": "stream",
     "text": [
      "\n",
      "\n",
      "\n",
      " 46%|████▌     | 252/550 [00:49<01:03,  4.71it/s]\u001b[A\u001b[A\u001b[A/home/prativa/anaconda3/envs/py36/lib/python3.6/site-packages/pyproj/crs/crs.py:53: FutureWarning: '+init=<authority>:<code>' syntax is deprecated. '<authority>:<code>' is the preferred initialization method. When making the change, be mindful of axis order changes: https://pyproj4.github.io/pyproj/stable/gotchas.html#axis-order-changes-in-proj-6\n",
      "  return _prepare_from_string(\" \".join(pjargs))\n",
      "/home/prativa/anaconda3/envs/py36/lib/python3.6/site-packages/pyproj/crs/crs.py:53: FutureWarning: '+init=<authority>:<code>' syntax is deprecated. '<authority>:<code>' is the preferred initialization method. When making the change, be mindful of axis order changes: https://pyproj4.github.io/pyproj/stable/gotchas.html#axis-order-changes-in-proj-6\n",
      "  return _prepare_from_string(\" \".join(pjargs))\n"
     ]
    },
    {
     "name": "stdout",
     "output_type": "stream",
     "text": [
      "OpenCV(4.1.0) /io/opencv/modules/imgproc/src/color.cpp:182: error: (-215:Assertion failed) !_src.empty() in function 'cvtColor'\n",
      "\n"
     ]
    },
    {
     "name": "stderr",
     "output_type": "stream",
     "text": [
      "\n",
      "\n",
      "\n",
      " 46%|████▌     | 254/550 [00:49<00:50,  5.91it/s]\u001b[A\u001b[A\u001b[A"
     ]
    },
    {
     "name": "stdout",
     "output_type": "stream",
     "text": [
      "OpenCV(4.1.0) /io/opencv/modules/imgproc/src/color.cpp:182: error: (-215:Assertion failed) !_src.empty() in function 'cvtColor'\n",
      "\n"
     ]
    },
    {
     "name": "stderr",
     "output_type": "stream",
     "text": [
      "/home/prativa/anaconda3/envs/py36/lib/python3.6/site-packages/pyproj/crs/crs.py:53: FutureWarning: '+init=<authority>:<code>' syntax is deprecated. '<authority>:<code>' is the preferred initialization method. When making the change, be mindful of axis order changes: https://pyproj4.github.io/pyproj/stable/gotchas.html#axis-order-changes-in-proj-6\n",
      "  return _prepare_from_string(\" \".join(pjargs))\n",
      "/home/prativa/anaconda3/envs/py36/lib/python3.6/site-packages/pyproj/crs/crs.py:53: FutureWarning: '+init=<authority>:<code>' syntax is deprecated. '<authority>:<code>' is the preferred initialization method. When making the change, be mindful of axis order changes: https://pyproj4.github.io/pyproj/stable/gotchas.html#axis-order-changes-in-proj-6\n",
      "  return _prepare_from_string(\" \".join(pjargs))\n"
     ]
    },
    {
     "name": "stdout",
     "output_type": "stream",
     "text": [
      "OpenCV(4.1.0) /io/opencv/modules/imgproc/src/color.cpp:182: error: (-215:Assertion failed) !_src.empty() in function 'cvtColor'\n",
      "\n",
      "OpenCV(4.1.0) /io/opencv/modules/imgproc/src/color.cpp:182: error: (-215:Assertion failed) !_src.empty() in function 'cvtColor'\n",
      "OpenCV(4.1.0) /io/opencv/modules/imgproc/src/color.cpp:182: error: (-215:Assertion failed) !_src.empty() in function 'cvtColor'\n",
      "\n"
     ]
    },
    {
     "name": "stderr",
     "output_type": "stream",
     "text": [
      "\n",
      "\n",
      "\n",
      " 47%|████▋     | 256/550 [00:49<00:51,  5.67it/s]\u001b[A\u001b[A\u001b[A"
     ]
    },
    {
     "name": "stdout",
     "output_type": "stream",
     "text": [
      "\n",
      "OpenCV(4.1.0) /io/opencv/modules/imgproc/src/color.cpp:182: error: (-215:Assertion failed) !_src.empty() in function 'cvtColor'\n",
      "\n",
      "OpenCV(4.1.0) /io/opencv/modules/imgproc/src/color.cpp:182: error: (-215:Assertion failed) !_src.empty() in function 'cvtColor'\n",
      "\n"
     ]
    },
    {
     "name": "stderr",
     "output_type": "stream",
     "text": [
      "\n",
      "\n",
      "\n",
      " 47%|████▋     | 259/550 [00:49<00:44,  6.60it/s]\u001b[A\u001b[A\u001b[A/home/prativa/anaconda3/envs/py36/lib/python3.6/site-packages/pyproj/crs/crs.py:53: FutureWarning: '+init=<authority>:<code>' syntax is deprecated. '<authority>:<code>' is the preferred initialization method. When making the change, be mindful of axis order changes: https://pyproj4.github.io/pyproj/stable/gotchas.html#axis-order-changes-in-proj-6\n",
      "  return _prepare_from_string(\" \".join(pjargs))\n",
      "/home/prativa/anaconda3/envs/py36/lib/python3.6/site-packages/pyproj/crs/crs.py:53: FutureWarning: '+init=<authority>:<code>' syntax is deprecated. '<authority>:<code>' is the preferred initialization method. When making the change, be mindful of axis order changes: https://pyproj4.github.io/pyproj/stable/gotchas.html#axis-order-changes-in-proj-6\n",
      "  return _prepare_from_string(\" \".join(pjargs))\n",
      "/home/prativa/anaconda3/envs/py36/lib/python3.6/site-packages/pyproj/crs/crs.py:53: FutureWarning: '+init=<authority>:<code>' syntax is deprecated. '<authority>:<code>' is the preferred initialization method. When making the change, be mindful of axis order changes: https://pyproj4.github.io/pyproj/stable/gotchas.html#axis-order-changes-in-proj-6\n",
      "  return _prepare_from_string(\" \".join(pjargs))\n",
      "/home/prativa/anaconda3/envs/py36/lib/python3.6/site-packages/pyproj/crs/crs.py:53: FutureWarning: '+init=<authority>:<code>' syntax is deprecated. '<authority>:<code>' is the preferred initialization method. When making the change, be mindful of axis order changes: https://pyproj4.github.io/pyproj/stable/gotchas.html#axis-order-changes-in-proj-6\n",
      "  return _prepare_from_string(\" \".join(pjargs))\n",
      "/home/prativa/anaconda3/envs/py36/lib/python3.6/site-packages/pyproj/crs/crs.py:53: FutureWarning: '+init=<authority>:<code>' syntax is deprecated. '<authority>:<code>' is the preferred initialization method. When making the change, be mindful of axis order changes: https://pyproj4.github.io/pyproj/stable/gotchas.html#axis-order-changes-in-proj-6\n",
      "  return _prepare_from_string(\" \".join(pjargs))\n",
      "/home/prativa/anaconda3/envs/py36/lib/python3.6/site-packages/pyproj/crs/crs.py:53: FutureWarning: '+init=<authority>:<code>' syntax is deprecated. '<authority>:<code>' is the preferred initialization method. When making the change, be mindful of axis order changes: https://pyproj4.github.io/pyproj/stable/gotchas.html#axis-order-changes-in-proj-6\n",
      "  return _prepare_from_string(\" \".join(pjargs))\n",
      "/home/prativa/anaconda3/envs/py36/lib/python3.6/site-packages/pyproj/crs/crs.py:53: FutureWarning: '+init=<authority>:<code>' syntax is deprecated. '<authority>:<code>' is the preferred initialization method. When making the change, be mindful of axis order changes: https://pyproj4.github.io/pyproj/stable/gotchas.html#axis-order-changes-in-proj-6\n",
      "  return _prepare_from_string(\" \".join(pjargs))\n",
      "/home/prativa/anaconda3/envs/py36/lib/python3.6/site-packages/pyproj/crs/crs.py:53: FutureWarning: '+init=<authority>:<code>' syntax is deprecated. '<authority>:<code>' is the preferred initialization method. When making the change, be mindful of axis order changes: https://pyproj4.github.io/pyproj/stable/gotchas.html#axis-order-changes-in-proj-6\n",
      "  return _prepare_from_string(\" \".join(pjargs))\n",
      "/home/prativa/anaconda3/envs/py36/lib/python3.6/site-packages/pyproj/crs/crs.py:53: FutureWarning: '+init=<authority>:<code>' syntax is deprecated. '<authority>:<code>' is the preferred initialization method. When making the change, be mindful of axis order changes: https://pyproj4.github.io/pyproj/stable/gotchas.html#axis-order-changes-in-proj-6\n",
      "  return _prepare_from_string(\" \".join(pjargs))\n",
      "/home/prativa/anaconda3/envs/py36/lib/python3.6/site-packages/pyproj/crs/crs.py:53: FutureWarning: '+init=<authority>:<code>' syntax is deprecated. '<authority>:<code>' is the preferred initialization method. When making the change, be mindful of axis order changes: https://pyproj4.github.io/pyproj/stable/gotchas.html#axis-order-changes-in-proj-6\n",
      "  return _prepare_from_string(\" \".join(pjargs))\n",
      "/home/prativa/anaconda3/envs/py36/lib/python3.6/site-packages/pyproj/crs/crs.py:53: FutureWarning: '+init=<authority>:<code>' syntax is deprecated. '<authority>:<code>' is the preferred initialization method. When making the change, be mindful of axis order changes: https://pyproj4.github.io/pyproj/stable/gotchas.html#axis-order-changes-in-proj-6\n",
      "  return _prepare_from_string(\" \".join(pjargs))\n",
      "/home/prativa/anaconda3/envs/py36/lib/python3.6/site-packages/pyproj/crs/crs.py:53: FutureWarning: '+init=<authority>:<code>' syntax is deprecated. '<authority>:<code>' is the preferred initialization method. When making the change, be mindful of axis order changes: https://pyproj4.github.io/pyproj/stable/gotchas.html#axis-order-changes-in-proj-6\n",
      "  return _prepare_from_string(\" \".join(pjargs))\n",
      "/home/prativa/anaconda3/envs/py36/lib/python3.6/site-packages/pyproj/crs/crs.py:53: FutureWarning: '+init=<authority>:<code>' syntax is deprecated. '<authority>:<code>' is the preferred initialization method. When making the change, be mindful of axis order changes: https://pyproj4.github.io/pyproj/stable/gotchas.html#axis-order-changes-in-proj-6\n",
      "  return _prepare_from_string(\" \".join(pjargs))\n",
      "/home/prativa/anaconda3/envs/py36/lib/python3.6/site-packages/pyproj/crs/crs.py:53: FutureWarning: '+init=<authority>:<code>' syntax is deprecated. '<authority>:<code>' is the preferred initialization method. When making the change, be mindful of axis order changes: https://pyproj4.github.io/pyproj/stable/gotchas.html#axis-order-changes-in-proj-6\n",
      "  return _prepare_from_string(\" \".join(pjargs))\n"
     ]
    },
    {
     "name": "stdout",
     "output_type": "stream",
     "text": [
      "OpenCV(4.1.0) /io/opencv/modules/imgproc/src/color.cpp:182: error: (-215:Assertion failed) !_src.empty() in function 'cvtColor'\n",
      "\n"
     ]
    },
    {
     "name": "stderr",
     "output_type": "stream",
     "text": [
      "\n",
      "\n",
      "\n",
      " 47%|████▋     | 261/550 [00:50<01:06,  4.34it/s]\u001b[A\u001b[A\u001b[A/home/prativa/anaconda3/envs/py36/lib/python3.6/site-packages/pyproj/crs/crs.py:53: FutureWarning: '+init=<authority>:<code>' syntax is deprecated. '<authority>:<code>' is the preferred initialization method. When making the change, be mindful of axis order changes: https://pyproj4.github.io/pyproj/stable/gotchas.html#axis-order-changes-in-proj-6\n",
      "  return _prepare_from_string(\" \".join(pjargs))\n",
      "/home/prativa/anaconda3/envs/py36/lib/python3.6/site-packages/pyproj/crs/crs.py:53: FutureWarning: '+init=<authority>:<code>' syntax is deprecated. '<authority>:<code>' is the preferred initialization method. When making the change, be mindful of axis order changes: https://pyproj4.github.io/pyproj/stable/gotchas.html#axis-order-changes-in-proj-6\n",
      "  return _prepare_from_string(\" \".join(pjargs))\n"
     ]
    },
    {
     "name": "stdout",
     "output_type": "stream",
     "text": [
      "OpenCV(4.1.0) /io/opencv/modules/imgproc/src/color.cpp:182: error: (-215:Assertion failed) !_src.empty() in function 'cvtColor'\n",
      "\n"
     ]
    },
    {
     "name": "stderr",
     "output_type": "stream",
     "text": [
      "/home/prativa/anaconda3/envs/py36/lib/python3.6/site-packages/pyproj/crs/crs.py:53: FutureWarning: '+init=<authority>:<code>' syntax is deprecated. '<authority>:<code>' is the preferred initialization method. When making the change, be mindful of axis order changes: https://pyproj4.github.io/pyproj/stable/gotchas.html#axis-order-changes-in-proj-6\n",
      "  return _prepare_from_string(\" \".join(pjargs))\n"
     ]
    },
    {
     "name": "stdout",
     "output_type": "stream",
     "text": [
      "OpenCV(4.1.0) /io/opencv/modules/imgproc/src/color.cpp:182: error: (-215:Assertion failed) !_src.empty() in function 'cvtColor'\n",
      "\n"
     ]
    },
    {
     "name": "stderr",
     "output_type": "stream",
     "text": [
      "/home/prativa/anaconda3/envs/py36/lib/python3.6/site-packages/pyproj/crs/crs.py:53: FutureWarning: '+init=<authority>:<code>' syntax is deprecated. '<authority>:<code>' is the preferred initialization method. When making the change, be mindful of axis order changes: https://pyproj4.github.io/pyproj/stable/gotchas.html#axis-order-changes-in-proj-6\n",
      "  return _prepare_from_string(\" \".join(pjargs))\n"
     ]
    },
    {
     "name": "stdout",
     "output_type": "stream",
     "text": [
      "OpenCV(4.1.0) /io/opencv/modules/imgproc/src/color.cpp:182: error: (-215:Assertion failed) !_src.empty() in function 'cvtColor'\n",
      "\n"
     ]
    },
    {
     "name": "stderr",
     "output_type": "stream",
     "text": [
      "\n",
      "\n",
      "\n",
      " 48%|████▊     | 262/550 [00:50<01:04,  4.45it/s]\u001b[A\u001b[A\u001b[A"
     ]
    },
    {
     "name": "stdout",
     "output_type": "stream",
     "text": [
      "OpenCV(4.1.0) /io/opencv/modules/imgproc/src/color.cpp:182: error: (-215:Assertion failed) !_src.empty() in function 'cvtColor'\n",
      "\n",
      "OpenCV(4.1.0) /io/opencv/modules/imgproc/src/color.cpp:182: error: (-215:Assertion failed) !_src.empty() in function 'cvtColor'\n",
      "\n"
     ]
    },
    {
     "name": "stderr",
     "output_type": "stream",
     "text": [
      "/home/prativa/anaconda3/envs/py36/lib/python3.6/site-packages/pyproj/crs/crs.py:53: FutureWarning: '+init=<authority>:<code>' syntax is deprecated. '<authority>:<code>' is the preferred initialization method. When making the change, be mindful of axis order changes: https://pyproj4.github.io/pyproj/stable/gotchas.html#axis-order-changes-in-proj-6\n",
      "  return _prepare_from_string(\" \".join(pjargs))\n",
      "/home/prativa/anaconda3/envs/py36/lib/python3.6/site-packages/pyproj/crs/crs.py:53: FutureWarning: '+init=<authority>:<code>' syntax is deprecated. '<authority>:<code>' is the preferred initialization method. When making the change, be mindful of axis order changes: https://pyproj4.github.io/pyproj/stable/gotchas.html#axis-order-changes-in-proj-6\n",
      "  return _prepare_from_string(\" \".join(pjargs))\n",
      "\n",
      "\n",
      "\n",
      " 48%|████▊     | 266/550 [00:51<00:48,  5.83it/s]\u001b[A\u001b[A\u001b[A"
     ]
    },
    {
     "name": "stdout",
     "output_type": "stream",
     "text": [
      "OpenCV(4.1.0) /io/opencv/modules/imgproc/src/color.cpp:182: error: (-215:Assertion failed) !_src.empty() in function 'cvtColor'\n",
      "\n",
      "OpenCV(4.1.0) /io/opencv/modules/imgproc/src/color.cpp:182: error: (-215:Assertion failed) !_src.empty() in function 'cvtColor'\n",
      "\n"
     ]
    },
    {
     "name": "stderr",
     "output_type": "stream",
     "text": [
      "\n",
      "\n",
      "\n",
      " 49%|████▊     | 268/550 [00:51<00:40,  6.95it/s]\u001b[A\u001b[A\u001b[A"
     ]
    },
    {
     "name": "stdout",
     "output_type": "stream",
     "text": [
      "OpenCV(4.1.0) /io/opencv/modules/imgproc/src/color.cpp:182: error: (-215:Assertion failed) !_src.empty() in function 'cvtColor'\n",
      "\n"
     ]
    },
    {
     "name": "stderr",
     "output_type": "stream",
     "text": [
      "/home/prativa/anaconda3/envs/py36/lib/python3.6/site-packages/pyproj/crs/crs.py:53: FutureWarning: '+init=<authority>:<code>' syntax is deprecated. '<authority>:<code>' is the preferred initialization method. When making the change, be mindful of axis order changes: https://pyproj4.github.io/pyproj/stable/gotchas.html#axis-order-changes-in-proj-6\n",
      "  return _prepare_from_string(\" \".join(pjargs))\n",
      "/home/prativa/anaconda3/envs/py36/lib/python3.6/site-packages/pyproj/crs/crs.py:53: FutureWarning: '+init=<authority>:<code>' syntax is deprecated. '<authority>:<code>' is the preferred initialization method. When making the change, be mindful of axis order changes: https://pyproj4.github.io/pyproj/stable/gotchas.html#axis-order-changes-in-proj-6\n",
      "  return _prepare_from_string(\" \".join(pjargs))\n"
     ]
    },
    {
     "name": "stdout",
     "output_type": "stream",
     "text": [
      "OpenCV(4.1.0) /io/opencv/modules/imgproc/src/color.cpp:182: error: (-215:Assertion failed) !_src.empty() in function 'cvtColor'\n",
      "\n"
     ]
    },
    {
     "name": "stderr",
     "output_type": "stream",
     "text": [
      "\n",
      "\n",
      "\n",
      " 49%|████▉     | 270/550 [00:51<00:52,  5.29it/s]\u001b[A\u001b[A\u001b[A/home/prativa/anaconda3/envs/py36/lib/python3.6/site-packages/pyproj/crs/crs.py:53: FutureWarning: '+init=<authority>:<code>' syntax is deprecated. '<authority>:<code>' is the preferred initialization method. When making the change, be mindful of axis order changes: https://pyproj4.github.io/pyproj/stable/gotchas.html#axis-order-changes-in-proj-6\n",
      "  return _prepare_from_string(\" \".join(pjargs))\n",
      "/home/prativa/anaconda3/envs/py36/lib/python3.6/site-packages/pyproj/crs/crs.py:53: FutureWarning: '+init=<authority>:<code>' syntax is deprecated. '<authority>:<code>' is the preferred initialization method. When making the change, be mindful of axis order changes: https://pyproj4.github.io/pyproj/stable/gotchas.html#axis-order-changes-in-proj-6\n",
      "  return _prepare_from_string(\" \".join(pjargs))\n",
      "/home/prativa/anaconda3/envs/py36/lib/python3.6/site-packages/pyproj/crs/crs.py:53: FutureWarning: '+init=<authority>:<code>' syntax is deprecated. '<authority>:<code>' is the preferred initialization method. When making the change, be mindful of axis order changes: https://pyproj4.github.io/pyproj/stable/gotchas.html#axis-order-changes-in-proj-6\n",
      "  return _prepare_from_string(\" \".join(pjargs))\n",
      "/home/prativa/anaconda3/envs/py36/lib/python3.6/site-packages/pyproj/crs/crs.py:53: FutureWarning: '+init=<authority>:<code>' syntax is deprecated. '<authority>:<code>' is the preferred initialization method. When making the change, be mindful of axis order changes: https://pyproj4.github.io/pyproj/stable/gotchas.html#axis-order-changes-in-proj-6\n",
      "  return _prepare_from_string(\" \".join(pjargs))\n",
      "/home/prativa/anaconda3/envs/py36/lib/python3.6/site-packages/pyproj/crs/crs.py:53: FutureWarning: '+init=<authority>:<code>' syntax is deprecated. '<authority>:<code>' is the preferred initialization method. When making the change, be mindful of axis order changes: https://pyproj4.github.io/pyproj/stable/gotchas.html#axis-order-changes-in-proj-6\n",
      "  return _prepare_from_string(\" \".join(pjargs))\n",
      "/home/prativa/anaconda3/envs/py36/lib/python3.6/site-packages/pyproj/crs/crs.py:53: FutureWarning: '+init=<authority>:<code>' syntax is deprecated. '<authority>:<code>' is the preferred initialization method. When making the change, be mindful of axis order changes: https://pyproj4.github.io/pyproj/stable/gotchas.html#axis-order-changes-in-proj-6\n",
      "  return _prepare_from_string(\" \".join(pjargs))\n",
      "/home/prativa/anaconda3/envs/py36/lib/python3.6/site-packages/pyproj/crs/crs.py:53: FutureWarning: '+init=<authority>:<code>' syntax is deprecated. '<authority>:<code>' is the preferred initialization method. When making the change, be mindful of axis order changes: https://pyproj4.github.io/pyproj/stable/gotchas.html#axis-order-changes-in-proj-6\n",
      "  return _prepare_from_string(\" \".join(pjargs))\n"
     ]
    },
    {
     "name": "stdout",
     "output_type": "stream",
     "text": [
      "OpenCV(4.1.0) /io/opencv/modules/imgproc/src/color.cpp:182: error: (-215:Assertion failed) !_src.empty() in function 'cvtColor'\n",
      "\n"
     ]
    },
    {
     "name": "stderr",
     "output_type": "stream",
     "text": [
      "\n",
      "\n",
      "\n",
      " 49%|████▉     | 271/550 [00:52<01:14,  3.74it/s]\u001b[A\u001b[A\u001b[A/home/prativa/anaconda3/envs/py36/lib/python3.6/site-packages/pyproj/crs/crs.py:53: FutureWarning: '+init=<authority>:<code>' syntax is deprecated. '<authority>:<code>' is the preferred initialization method. When making the change, be mindful of axis order changes: https://pyproj4.github.io/pyproj/stable/gotchas.html#axis-order-changes-in-proj-6\n",
      "  return _prepare_from_string(\" \".join(pjargs))\n",
      "/home/prativa/anaconda3/envs/py36/lib/python3.6/site-packages/pyproj/crs/crs.py:53: FutureWarning: '+init=<authority>:<code>' syntax is deprecated. '<authority>:<code>' is the preferred initialization method. When making the change, be mindful of axis order changes: https://pyproj4.github.io/pyproj/stable/gotchas.html#axis-order-changes-in-proj-6\n",
      "  return _prepare_from_string(\" \".join(pjargs))\n",
      "/home/prativa/anaconda3/envs/py36/lib/python3.6/site-packages/pyproj/crs/crs.py:53: FutureWarning: '+init=<authority>:<code>' syntax is deprecated. '<authority>:<code>' is the preferred initialization method. When making the change, be mindful of axis order changes: https://pyproj4.github.io/pyproj/stable/gotchas.html#axis-order-changes-in-proj-6\n",
      "  return _prepare_from_string(\" \".join(pjargs))\n",
      "/home/prativa/anaconda3/envs/py36/lib/python3.6/site-packages/pyproj/crs/crs.py:53: FutureWarning: '+init=<authority>:<code>' syntax is deprecated. '<authority>:<code>' is the preferred initialization method. When making the change, be mindful of axis order changes: https://pyproj4.github.io/pyproj/stable/gotchas.html#axis-order-changes-in-proj-6\n",
      "  return _prepare_from_string(\" \".join(pjargs))\n"
     ]
    },
    {
     "name": "stdout",
     "output_type": "stream",
     "text": [
      "OpenCV(4.1.0) /io/opencv/modules/imgproc/src/color.cpp:182: error: (-215:Assertion failed) !_src.empty() in function 'cvtColor'\n",
      "\n"
     ]
    },
    {
     "name": "stderr",
     "output_type": "stream",
     "text": [
      "\n",
      "\n",
      "\n",
      " 49%|████▉     | 272/550 [00:52<01:02,  4.42it/s]\u001b[A\u001b[A\u001b[A/home/prativa/anaconda3/envs/py36/lib/python3.6/site-packages/pyproj/crs/crs.py:53: FutureWarning: '+init=<authority>:<code>' syntax is deprecated. '<authority>:<code>' is the preferred initialization method. When making the change, be mindful of axis order changes: https://pyproj4.github.io/pyproj/stable/gotchas.html#axis-order-changes-in-proj-6\n",
      "  return _prepare_from_string(\" \".join(pjargs))\n",
      "/home/prativa/anaconda3/envs/py36/lib/python3.6/site-packages/pyproj/crs/crs.py:53: FutureWarning: '+init=<authority>:<code>' syntax is deprecated. '<authority>:<code>' is the preferred initialization method. When making the change, be mindful of axis order changes: https://pyproj4.github.io/pyproj/stable/gotchas.html#axis-order-changes-in-proj-6\n",
      "  return _prepare_from_string(\" \".join(pjargs))\n",
      "/home/prativa/anaconda3/envs/py36/lib/python3.6/site-packages/pyproj/crs/crs.py:53: FutureWarning: '+init=<authority>:<code>' syntax is deprecated. '<authority>:<code>' is the preferred initialization method. When making the change, be mindful of axis order changes: https://pyproj4.github.io/pyproj/stable/gotchas.html#axis-order-changes-in-proj-6\n",
      "  return _prepare_from_string(\" \".join(pjargs))\n"
     ]
    },
    {
     "name": "stdout",
     "output_type": "stream",
     "text": [
      "OpenCV(4.1.0) /io/opencv/modules/imgproc/src/color.cpp:182: error: (-215:Assertion failed) !_src.empty() in function 'cvtColor'\n"
     ]
    },
    {
     "name": "stderr",
     "output_type": "stream",
     "text": [
      "/home/prativa/anaconda3/envs/py36/lib/python3.6/site-packages/pyproj/crs/crs.py:53: FutureWarning: '+init=<authority>:<code>' syntax is deprecated. '<authority>:<code>' is the preferred initialization method. When making the change, be mindful of axis order changes: https://pyproj4.github.io/pyproj/stable/gotchas.html#axis-order-changes-in-proj-6\n",
      "  return _prepare_from_string(\" \".join(pjargs))\n"
     ]
    },
    {
     "name": "stdout",
     "output_type": "stream",
     "text": [
      "\n"
     ]
    },
    {
     "name": "stderr",
     "output_type": "stream",
     "text": [
      "\n",
      "\n",
      "\n",
      " 50%|████▉     | 273/550 [00:52<01:05,  4.22it/s]\u001b[A\u001b[A\u001b[A/home/prativa/anaconda3/envs/py36/lib/python3.6/site-packages/pyproj/crs/crs.py:53: FutureWarning: '+init=<authority>:<code>' syntax is deprecated. '<authority>:<code>' is the preferred initialization method. When making the change, be mindful of axis order changes: https://pyproj4.github.io/pyproj/stable/gotchas.html#axis-order-changes-in-proj-6\n",
      "  return _prepare_from_string(\" \".join(pjargs))\n"
     ]
    },
    {
     "name": "stdout",
     "output_type": "stream",
     "text": [
      "OpenCV(4.1.0) /io/opencv/modules/imgproc/src/color.cpp:182: error: (-215:Assertion failed) !_src.empty() in function 'cvtColor'\n",
      "\n"
     ]
    },
    {
     "name": "stderr",
     "output_type": "stream",
     "text": [
      "/home/prativa/anaconda3/envs/py36/lib/python3.6/site-packages/pyproj/crs/crs.py:53: FutureWarning: '+init=<authority>:<code>' syntax is deprecated. '<authority>:<code>' is the preferred initialization method. When making the change, be mindful of axis order changes: https://pyproj4.github.io/pyproj/stable/gotchas.html#axis-order-changes-in-proj-6\n",
      "  return _prepare_from_string(\" \".join(pjargs))\n",
      "/home/prativa/anaconda3/envs/py36/lib/python3.6/site-packages/pyproj/crs/crs.py:53: FutureWarning: '+init=<authority>:<code>' syntax is deprecated. '<authority>:<code>' is the preferred initialization method. When making the change, be mindful of axis order changes: https://pyproj4.github.io/pyproj/stable/gotchas.html#axis-order-changes-in-proj-6\n",
      "  return _prepare_from_string(\" \".join(pjargs))\n"
     ]
    },
    {
     "name": "stdout",
     "output_type": "stream",
     "text": [
      "OpenCV(4.1.0) /io/opencv/modules/imgproc/src/color.cpp:182: error: (-215:Assertion failed) !_src.empty() in function 'cvtColor'\n",
      "\n",
      "OpenCV(4.1.0) /io/opencv/modules/imgproc/src/color.cpp:182: error: (-215:Assertion failed) !_src.empty() in function 'cvtColor'\n",
      "OpenCV(4.1.0) /io/opencv/modules/imgproc/src/color.cpp:182: error: (-215:Assertion failed) !_src.empty() in function 'cvtColor'\n",
      "\n"
     ]
    },
    {
     "name": "stderr",
     "output_type": "stream",
     "text": [
      "\n",
      "\n",
      "\n",
      " 50%|████▉     | 274/550 [00:53<01:21,  3.38it/s]\u001b[A\u001b[A\u001b[A"
     ]
    },
    {
     "name": "stdout",
     "output_type": "stream",
     "text": [
      "\n",
      "OpenCV(4.1.0) /io/opencv/modules/imgproc/src/color.cpp:182: error: (-215:Assertion failed) !_src.empty() in function 'cvtColor'\n",
      "\n"
     ]
    },
    {
     "name": "stderr",
     "output_type": "stream",
     "text": [
      "/home/prativa/anaconda3/envs/py36/lib/python3.6/site-packages/pyproj/crs/crs.py:53: FutureWarning: '+init=<authority>:<code>' syntax is deprecated. '<authority>:<code>' is the preferred initialization method. When making the change, be mindful of axis order changes: https://pyproj4.github.io/pyproj/stable/gotchas.html#axis-order-changes-in-proj-6\n",
      "  return _prepare_from_string(\" \".join(pjargs))\n",
      "/home/prativa/anaconda3/envs/py36/lib/python3.6/site-packages/pyproj/crs/crs.py:53: FutureWarning: '+init=<authority>:<code>' syntax is deprecated. '<authority>:<code>' is the preferred initialization method. When making the change, be mindful of axis order changes: https://pyproj4.github.io/pyproj/stable/gotchas.html#axis-order-changes-in-proj-6\n",
      "  return _prepare_from_string(\" \".join(pjargs))\n"
     ]
    },
    {
     "name": "stdout",
     "output_type": "stream",
     "text": [
      "OpenCV(4.1.0) /io/opencv/modules/imgproc/src/color.cpp:182: error: (-215:Assertion failed) !_src.empty() in function 'cvtColor'\n",
      "\n"
     ]
    },
    {
     "name": "stderr",
     "output_type": "stream",
     "text": [
      "/home/prativa/anaconda3/envs/py36/lib/python3.6/site-packages/pyproj/crs/crs.py:53: FutureWarning: '+init=<authority>:<code>' syntax is deprecated. '<authority>:<code>' is the preferred initialization method. When making the change, be mindful of axis order changes: https://pyproj4.github.io/pyproj/stable/gotchas.html#axis-order-changes-in-proj-6\n",
      "  return _prepare_from_string(\" \".join(pjargs))\n",
      "/home/prativa/anaconda3/envs/py36/lib/python3.6/site-packages/pyproj/crs/crs.py:53: FutureWarning: '+init=<authority>:<code>' syntax is deprecated. '<authority>:<code>' is the preferred initialization method. When making the change, be mindful of axis order changes: https://pyproj4.github.io/pyproj/stable/gotchas.html#axis-order-changes-in-proj-6\n",
      "  return _prepare_from_string(\" \".join(pjargs))\n",
      "/home/prativa/anaconda3/envs/py36/lib/python3.6/site-packages/pyproj/crs/crs.py:53: FutureWarning: '+init=<authority>:<code>' syntax is deprecated. '<authority>:<code>' is the preferred initialization method. When making the change, be mindful of axis order changes: https://pyproj4.github.io/pyproj/stable/gotchas.html#axis-order-changes-in-proj-6\n",
      "  return _prepare_from_string(\" \".join(pjargs))\n"
     ]
    },
    {
     "name": "stdout",
     "output_type": "stream",
     "text": [
      "OpenCV(4.1.0) /io/opencv/modules/imgproc/src/color.cpp:182: error: (-215:Assertion failed) !_src.empty() in function 'cvtColor'\n",
      "\n"
     ]
    },
    {
     "name": "stderr",
     "output_type": "stream",
     "text": [
      "\n",
      "\n",
      "\n",
      " 51%|█████     | 279/550 [00:53<01:05,  4.12it/s]\u001b[A\u001b[A\u001b[A/home/prativa/anaconda3/envs/py36/lib/python3.6/site-packages/pyproj/crs/crs.py:53: FutureWarning: '+init=<authority>:<code>' syntax is deprecated. '<authority>:<code>' is the preferred initialization method. When making the change, be mindful of axis order changes: https://pyproj4.github.io/pyproj/stable/gotchas.html#axis-order-changes-in-proj-6\n",
      "  return _prepare_from_string(\" \".join(pjargs))\n",
      "/home/prativa/anaconda3/envs/py36/lib/python3.6/site-packages/pyproj/crs/crs.py:53: FutureWarning: '+init=<authority>:<code>' syntax is deprecated. '<authority>:<code>' is the preferred initialization method. When making the change, be mindful of axis order changes: https://pyproj4.github.io/pyproj/stable/gotchas.html#axis-order-changes-in-proj-6\n",
      "  return _prepare_from_string(\" \".join(pjargs))\n",
      "/home/prativa/anaconda3/envs/py36/lib/python3.6/site-packages/pyproj/crs/crs.py:53: FutureWarning: '+init=<authority>:<code>' syntax is deprecated. '<authority>:<code>' is the preferred initialization method. When making the change, be mindful of axis order changes: https://pyproj4.github.io/pyproj/stable/gotchas.html#axis-order-changes-in-proj-6\n",
      "  return _prepare_from_string(\" \".join(pjargs))\n",
      "/home/prativa/anaconda3/envs/py36/lib/python3.6/site-packages/pyproj/crs/crs.py:53: FutureWarning: '+init=<authority>:<code>' syntax is deprecated. '<authority>:<code>' is the preferred initialization method. When making the change, be mindful of axis order changes: https://pyproj4.github.io/pyproj/stable/gotchas.html#axis-order-changes-in-proj-6\n",
      "  return _prepare_from_string(\" \".join(pjargs))\n"
     ]
    },
    {
     "name": "stdout",
     "output_type": "stream",
     "text": [
      "OpenCV(4.1.0) /io/opencv/modules/imgproc/src/color.cpp:182: error: (-215:Assertion failed) !_src.empty() in function 'cvtColor'\n",
      "\n",
      "OpenCV(4.1.0) /io/opencv/modules/imgproc/src/color.cpp:182: error: (-215:Assertion failed) !_src.empty() in function 'cvtColor'\n",
      "\n"
     ]
    },
    {
     "name": "stderr",
     "output_type": "stream",
     "text": [
      "/home/prativa/anaconda3/envs/py36/lib/python3.6/site-packages/pyproj/crs/crs.py:53: FutureWarning: '+init=<authority>:<code>' syntax is deprecated. '<authority>:<code>' is the preferred initialization method. When making the change, be mindful of axis order changes: https://pyproj4.github.io/pyproj/stable/gotchas.html#axis-order-changes-in-proj-6\n",
      "  return _prepare_from_string(\" \".join(pjargs))\n",
      "/home/prativa/anaconda3/envs/py36/lib/python3.6/site-packages/ipykernel_launcher.py:38: RuntimeWarning: More than 20 figures have been opened. Figures created through the pyplot interface (`matplotlib.pyplot.figure`) are retained until explicitly closed and may consume too much memory. (To control this warning, see the rcParam `figure.max_open_warning`).\n",
      "\n",
      "\n",
      "\n",
      " 51%|█████     | 281/550 [00:54<01:02,  4.30it/s]\u001b[A\u001b[A\u001b[A/home/prativa/anaconda3/envs/py36/lib/python3.6/site-packages/pyproj/crs/crs.py:53: FutureWarning: '+init=<authority>:<code>' syntax is deprecated. '<authority>:<code>' is the preferred initialization method. When making the change, be mindful of axis order changes: https://pyproj4.github.io/pyproj/stable/gotchas.html#axis-order-changes-in-proj-6\n",
      "  return _prepare_from_string(\" \".join(pjargs))\n"
     ]
    },
    {
     "name": "stdout",
     "output_type": "stream",
     "text": [
      "OpenCV(4.1.0) /io/opencv/modules/imgproc/src/color.cpp:182: error: (-215:Assertion failed) !_src.empty() in function 'cvtColor'\n",
      "\n"
     ]
    },
    {
     "name": "stderr",
     "output_type": "stream",
     "text": [
      "/home/prativa/anaconda3/envs/py36/lib/python3.6/site-packages/pyproj/crs/crs.py:53: FutureWarning: '+init=<authority>:<code>' syntax is deprecated. '<authority>:<code>' is the preferred initialization method. When making the change, be mindful of axis order changes: https://pyproj4.github.io/pyproj/stable/gotchas.html#axis-order-changes-in-proj-6\n",
      "  return _prepare_from_string(\" \".join(pjargs))\n",
      "\n",
      "\n",
      "\n",
      " 51%|█████▏    | 283/550 [00:54<00:49,  5.37it/s]\u001b[A\u001b[A\u001b[A/home/prativa/anaconda3/envs/py36/lib/python3.6/site-packages/pyproj/crs/crs.py:53: FutureWarning: '+init=<authority>:<code>' syntax is deprecated. '<authority>:<code>' is the preferred initialization method. When making the change, be mindful of axis order changes: https://pyproj4.github.io/pyproj/stable/gotchas.html#axis-order-changes-in-proj-6\n",
      "  return _prepare_from_string(\" \".join(pjargs))\n",
      "/home/prativa/anaconda3/envs/py36/lib/python3.6/site-packages/pyproj/crs/crs.py:53: FutureWarning: '+init=<authority>:<code>' syntax is deprecated. '<authority>:<code>' is the preferred initialization method. When making the change, be mindful of axis order changes: https://pyproj4.github.io/pyproj/stable/gotchas.html#axis-order-changes-in-proj-6\n",
      "  return _prepare_from_string(\" \".join(pjargs))\n",
      "/home/prativa/anaconda3/envs/py36/lib/python3.6/site-packages/pyproj/crs/crs.py:53: FutureWarning: '+init=<authority>:<code>' syntax is deprecated. '<authority>:<code>' is the preferred initialization method. When making the change, be mindful of axis order changes: https://pyproj4.github.io/pyproj/stable/gotchas.html#axis-order-changes-in-proj-6\n",
      "  return _prepare_from_string(\" \".join(pjargs))\n",
      "/home/prativa/anaconda3/envs/py36/lib/python3.6/site-packages/pyproj/crs/crs.py:53: FutureWarning: '+init=<authority>:<code>' syntax is deprecated. '<authority>:<code>' is the preferred initialization method. When making the change, be mindful of axis order changes: https://pyproj4.github.io/pyproj/stable/gotchas.html#axis-order-changes-in-proj-6\n",
      "  return _prepare_from_string(\" \".join(pjargs))\n",
      "/home/prativa/anaconda3/envs/py36/lib/python3.6/site-packages/pyproj/crs/crs.py:53: FutureWarning: '+init=<authority>:<code>' syntax is deprecated. '<authority>:<code>' is the preferred initialization method. When making the change, be mindful of axis order changes: https://pyproj4.github.io/pyproj/stable/gotchas.html#axis-order-changes-in-proj-6\n",
      "  return _prepare_from_string(\" \".join(pjargs))\n"
     ]
    },
    {
     "name": "stdout",
     "output_type": "stream",
     "text": [
      "OpenCV(4.1.0) /io/opencv/modules/imgproc/src/color.cpp:182: error: (-215:Assertion failed) !_src.empty() in function 'cvtColor'\n",
      "\n"
     ]
    },
    {
     "name": "stderr",
     "output_type": "stream",
     "text": [
      "\n",
      "\n",
      "\n",
      " 52%|█████▏    | 284/550 [00:54<00:58,  4.51it/s]\u001b[A\u001b[A\u001b[A/home/prativa/anaconda3/envs/py36/lib/python3.6/site-packages/pyproj/crs/crs.py:53: FutureWarning: '+init=<authority>:<code>' syntax is deprecated. '<authority>:<code>' is the preferred initialization method. When making the change, be mindful of axis order changes: https://pyproj4.github.io/pyproj/stable/gotchas.html#axis-order-changes-in-proj-6\n",
      "  return _prepare_from_string(\" \".join(pjargs))\n"
     ]
    },
    {
     "name": "stdout",
     "output_type": "stream",
     "text": [
      "OpenCV(4.1.0) /io/opencv/modules/imgproc/src/color.cpp:182: error: (-215:Assertion failed) !_src.empty() in function 'cvtColor'\n",
      "\n"
     ]
    },
    {
     "name": "stderr",
     "output_type": "stream",
     "text": [
      "\n",
      "\n",
      "\n"
     ]
    },
    {
     "name": "stdout",
     "output_type": "stream",
     "text": [
      "OpenCV(4.1.0) /io/opencv/modules/imgproc/src/color.cpp:182: error: (-215:Assertion failed) !_src.empty() in function 'cvtColor'\n"
     ]
    },
    {
     "name": "stderr",
     "output_type": "stream",
     "text": [
      " 52%|█████▏    | 285/550 [00:54<00:51,  5.10it/s]\u001b[A\u001b[A\u001b[A"
     ]
    },
    {
     "name": "stdout",
     "output_type": "stream",
     "text": [
      "\n"
     ]
    },
    {
     "name": "stderr",
     "output_type": "stream",
     "text": [
      "/home/prativa/anaconda3/envs/py36/lib/python3.6/site-packages/pyproj/crs/crs.py:53: FutureWarning: '+init=<authority>:<code>' syntax is deprecated. '<authority>:<code>' is the preferred initialization method. When making the change, be mindful of axis order changes: https://pyproj4.github.io/pyproj/stable/gotchas.html#axis-order-changes-in-proj-6\n",
      "  return _prepare_from_string(\" \".join(pjargs))\n",
      "/home/prativa/anaconda3/envs/py36/lib/python3.6/site-packages/pyproj/crs/crs.py:53: FutureWarning: '+init=<authority>:<code>' syntax is deprecated. '<authority>:<code>' is the preferred initialization method. When making the change, be mindful of axis order changes: https://pyproj4.github.io/pyproj/stable/gotchas.html#axis-order-changes-in-proj-6\n",
      "  return _prepare_from_string(\" \".join(pjargs))\n",
      "/home/prativa/anaconda3/envs/py36/lib/python3.6/site-packages/pyproj/crs/crs.py:53: FutureWarning: '+init=<authority>:<code>' syntax is deprecated. '<authority>:<code>' is the preferred initialization method. When making the change, be mindful of axis order changes: https://pyproj4.github.io/pyproj/stable/gotchas.html#axis-order-changes-in-proj-6\n",
      "  return _prepare_from_string(\" \".join(pjargs))\n"
     ]
    },
    {
     "name": "stdout",
     "output_type": "stream",
     "text": [
      "OpenCV(4.1.0) /io/opencv/modules/imgproc/src/color.cpp:182: error: (-215:Assertion failed) !_src.empty() in function 'cvtColor'\n",
      "\n"
     ]
    },
    {
     "name": "stderr",
     "output_type": "stream",
     "text": [
      "/home/prativa/anaconda3/envs/py36/lib/python3.6/site-packages/pyproj/crs/crs.py:53: FutureWarning: '+init=<authority>:<code>' syntax is deprecated. '<authority>:<code>' is the preferred initialization method. When making the change, be mindful of axis order changes: https://pyproj4.github.io/pyproj/stable/gotchas.html#axis-order-changes-in-proj-6\n",
      "  return _prepare_from_string(\" \".join(pjargs))\n"
     ]
    },
    {
     "name": "stdout",
     "output_type": "stream",
     "text": [
      "OpenCV(4.1.0) /io/opencv/modules/imgproc/src/color.cpp:182: error: (-215:Assertion failed) !_src.empty() in function 'cvtColor'\n",
      "\n"
     ]
    },
    {
     "name": "stderr",
     "output_type": "stream",
     "text": [
      "\n",
      "\n",
      "\n",
      " 52%|█████▏    | 286/550 [00:55<01:06,  3.99it/s]\u001b[A\u001b[A\u001b[A/home/prativa/anaconda3/envs/py36/lib/python3.6/site-packages/pyproj/crs/crs.py:53: FutureWarning: '+init=<authority>:<code>' syntax is deprecated. '<authority>:<code>' is the preferred initialization method. When making the change, be mindful of axis order changes: https://pyproj4.github.io/pyproj/stable/gotchas.html#axis-order-changes-in-proj-6\n",
      "  return _prepare_from_string(\" \".join(pjargs))\n"
     ]
    },
    {
     "name": "stdout",
     "output_type": "stream",
     "text": [
      "OpenCV(4.1.0) /io/opencv/modules/imgproc/src/color.cpp:182: error: (-215:Assertion failed) !_src.empty() in function 'cvtColor'\n",
      "OpenCV(4.1.0) /io/opencv/modules/imgproc/src/color.cpp:182: error: (-215:Assertion failed) !_src.empty() in function 'cvtColor'\n",
      "\n",
      "\n"
     ]
    },
    {
     "name": "stderr",
     "output_type": "stream",
     "text": [
      "\n",
      "\n",
      "\n",
      " 53%|█████▎    | 289/550 [00:55<00:50,  5.12it/s]\u001b[A\u001b[A\u001b[A/home/prativa/anaconda3/envs/py36/lib/python3.6/site-packages/pyproj/crs/crs.py:53: FutureWarning: '+init=<authority>:<code>' syntax is deprecated. '<authority>:<code>' is the preferred initialization method. When making the change, be mindful of axis order changes: https://pyproj4.github.io/pyproj/stable/gotchas.html#axis-order-changes-in-proj-6\n",
      "  return _prepare_from_string(\" \".join(pjargs))\n",
      "/home/prativa/anaconda3/envs/py36/lib/python3.6/site-packages/pyproj/crs/crs.py:53: FutureWarning: '+init=<authority>:<code>' syntax is deprecated. '<authority>:<code>' is the preferred initialization method. When making the change, be mindful of axis order changes: https://pyproj4.github.io/pyproj/stable/gotchas.html#axis-order-changes-in-proj-6\n",
      "  return _prepare_from_string(\" \".join(pjargs))\n",
      "/home/prativa/anaconda3/envs/py36/lib/python3.6/site-packages/pyproj/crs/crs.py:53: FutureWarning: '+init=<authority>:<code>' syntax is deprecated. '<authority>:<code>' is the preferred initialization method. When making the change, be mindful of axis order changes: https://pyproj4.github.io/pyproj/stable/gotchas.html#axis-order-changes-in-proj-6\n",
      "  return _prepare_from_string(\" \".join(pjargs))\n",
      "/home/prativa/anaconda3/envs/py36/lib/python3.6/site-packages/pyproj/crs/crs.py:53: FutureWarning: '+init=<authority>:<code>' syntax is deprecated. '<authority>:<code>' is the preferred initialization method. When making the change, be mindful of axis order changes: https://pyproj4.github.io/pyproj/stable/gotchas.html#axis-order-changes-in-proj-6\n",
      "  return _prepare_from_string(\" \".join(pjargs))\n",
      "/home/prativa/anaconda3/envs/py36/lib/python3.6/site-packages/ipykernel_launcher.py:38: RuntimeWarning: More than 20 figures have been opened. Figures created through the pyplot interface (`matplotlib.pyplot.figure`) are retained until explicitly closed and may consume too much memory. (To control this warning, see the rcParam `figure.max_open_warning`).\n",
      "/home/prativa/anaconda3/envs/py36/lib/python3.6/site-packages/pyproj/crs/crs.py:53: FutureWarning: '+init=<authority>:<code>' syntax is deprecated. '<authority>:<code>' is the preferred initialization method. When making the change, be mindful of axis order changes: https://pyproj4.github.io/pyproj/stable/gotchas.html#axis-order-changes-in-proj-6\n",
      "  return _prepare_from_string(\" \".join(pjargs))\n",
      "/home/prativa/anaconda3/envs/py36/lib/python3.6/site-packages/pyproj/crs/crs.py:53: FutureWarning: '+init=<authority>:<code>' syntax is deprecated. '<authority>:<code>' is the preferred initialization method. When making the change, be mindful of axis order changes: https://pyproj4.github.io/pyproj/stable/gotchas.html#axis-order-changes-in-proj-6\n",
      "  return _prepare_from_string(\" \".join(pjargs))\n",
      "/home/prativa/anaconda3/envs/py36/lib/python3.6/site-packages/pyproj/crs/crs.py:53: FutureWarning: '+init=<authority>:<code>' syntax is deprecated. '<authority>:<code>' is the preferred initialization method. When making the change, be mindful of axis order changes: https://pyproj4.github.io/pyproj/stable/gotchas.html#axis-order-changes-in-proj-6\n",
      "  return _prepare_from_string(\" \".join(pjargs))\n"
     ]
    },
    {
     "name": "stdout",
     "output_type": "stream",
     "text": [
      "OpenCV(4.1.0) /io/opencv/modules/imgproc/src/color.cpp:182: error: (-215:Assertion failed) !_src.empty() in function 'cvtColor'\n",
      "\n"
     ]
    },
    {
     "name": "stderr",
     "output_type": "stream",
     "text": [
      "\n",
      "\n",
      "\n",
      " 53%|█████▎    | 291/550 [00:55<00:54,  4.78it/s]\u001b[A\u001b[A\u001b[A"
     ]
    },
    {
     "name": "stdout",
     "output_type": "stream",
     "text": [
      "OpenCV(4.1.0) /io/opencv/modules/imgproc/src/color.cpp:182: error: (-215:Assertion failed) !_src.empty() in function 'cvtColor'\n",
      "\n"
     ]
    },
    {
     "name": "stderr",
     "output_type": "stream",
     "text": [
      "/home/prativa/anaconda3/envs/py36/lib/python3.6/site-packages/pyproj/crs/crs.py:53: FutureWarning: '+init=<authority>:<code>' syntax is deprecated. '<authority>:<code>' is the preferred initialization method. When making the change, be mindful of axis order changes: https://pyproj4.github.io/pyproj/stable/gotchas.html#axis-order-changes-in-proj-6\n",
      "  return _prepare_from_string(\" \".join(pjargs))\n"
     ]
    },
    {
     "name": "stdout",
     "output_type": "stream",
     "text": [
      "OpenCV(4.1.0) /io/opencv/modules/imgproc/src/color.cpp:182: error: (-215:Assertion failed) !_src.empty() in function 'cvtColor'\n",
      "\n"
     ]
    },
    {
     "name": "stderr",
     "output_type": "stream",
     "text": [
      "\n",
      "\n",
      "\n",
      " 53%|█████▎    | 293/550 [00:56<00:45,  5.70it/s]\u001b[A\u001b[A\u001b[A/home/prativa/anaconda3/envs/py36/lib/python3.6/site-packages/pyproj/crs/crs.py:53: FutureWarning: '+init=<authority>:<code>' syntax is deprecated. '<authority>:<code>' is the preferred initialization method. When making the change, be mindful of axis order changes: https://pyproj4.github.io/pyproj/stable/gotchas.html#axis-order-changes-in-proj-6\n",
      "  return _prepare_from_string(\" \".join(pjargs))\n",
      "/home/prativa/anaconda3/envs/py36/lib/python3.6/site-packages/pyproj/crs/crs.py:53: FutureWarning: '+init=<authority>:<code>' syntax is deprecated. '<authority>:<code>' is the preferred initialization method. When making the change, be mindful of axis order changes: https://pyproj4.github.io/pyproj/stable/gotchas.html#axis-order-changes-in-proj-6\n",
      "  return _prepare_from_string(\" \".join(pjargs))\n",
      "/home/prativa/anaconda3/envs/py36/lib/python3.6/site-packages/pyproj/crs/crs.py:53: FutureWarning: '+init=<authority>:<code>' syntax is deprecated. '<authority>:<code>' is the preferred initialization method. When making the change, be mindful of axis order changes: https://pyproj4.github.io/pyproj/stable/gotchas.html#axis-order-changes-in-proj-6\n",
      "  return _prepare_from_string(\" \".join(pjargs))\n",
      "/home/prativa/anaconda3/envs/py36/lib/python3.6/site-packages/pyproj/crs/crs.py:53: FutureWarning: '+init=<authority>:<code>' syntax is deprecated. '<authority>:<code>' is the preferred initialization method. When making the change, be mindful of axis order changes: https://pyproj4.github.io/pyproj/stable/gotchas.html#axis-order-changes-in-proj-6\n",
      "  return _prepare_from_string(\" \".join(pjargs))\n"
     ]
    },
    {
     "name": "stdout",
     "output_type": "stream",
     "text": [
      "OpenCV(4.1.0) /io/opencv/modules/imgproc/src/color.cpp:182: error: (-215:Assertion failed) !_src.empty() in function 'cvtColor'\n",
      "\n"
     ]
    },
    {
     "name": "stderr",
     "output_type": "stream",
     "text": [
      "/home/prativa/anaconda3/envs/py36/lib/python3.6/site-packages/pyproj/crs/crs.py:53: FutureWarning: '+init=<authority>:<code>' syntax is deprecated. '<authority>:<code>' is the preferred initialization method. When making the change, be mindful of axis order changes: https://pyproj4.github.io/pyproj/stable/gotchas.html#axis-order-changes-in-proj-6\n",
      "  return _prepare_from_string(\" \".join(pjargs))\n",
      "\n",
      "\n",
      "\n",
      " 53%|█████▎    | 294/550 [00:56<00:43,  5.94it/s]\u001b[A\u001b[A\u001b[A/home/prativa/anaconda3/envs/py36/lib/python3.6/site-packages/pyproj/crs/crs.py:53: FutureWarning: '+init=<authority>:<code>' syntax is deprecated. '<authority>:<code>' is the preferred initialization method. When making the change, be mindful of axis order changes: https://pyproj4.github.io/pyproj/stable/gotchas.html#axis-order-changes-in-proj-6\n",
      "  return _prepare_from_string(\" \".join(pjargs))\n",
      "/home/prativa/anaconda3/envs/py36/lib/python3.6/site-packages/pyproj/crs/crs.py:53: FutureWarning: '+init=<authority>:<code>' syntax is deprecated. '<authority>:<code>' is the preferred initialization method. When making the change, be mindful of axis order changes: https://pyproj4.github.io/pyproj/stable/gotchas.html#axis-order-changes-in-proj-6\n",
      "  return _prepare_from_string(\" \".join(pjargs))\n",
      "/home/prativa/anaconda3/envs/py36/lib/python3.6/site-packages/pyproj/crs/crs.py:53: FutureWarning: '+init=<authority>:<code>' syntax is deprecated. '<authority>:<code>' is the preferred initialization method. When making the change, be mindful of axis order changes: https://pyproj4.github.io/pyproj/stable/gotchas.html#axis-order-changes-in-proj-6\n",
      "  return _prepare_from_string(\" \".join(pjargs))\n",
      "/home/prativa/anaconda3/envs/py36/lib/python3.6/site-packages/pyproj/crs/crs.py:53: FutureWarning: '+init=<authority>:<code>' syntax is deprecated. '<authority>:<code>' is the preferred initialization method. When making the change, be mindful of axis order changes: https://pyproj4.github.io/pyproj/stable/gotchas.html#axis-order-changes-in-proj-6\n",
      "  return _prepare_from_string(\" \".join(pjargs))\n",
      "/home/prativa/anaconda3/envs/py36/lib/python3.6/site-packages/pyproj/crs/crs.py:53: FutureWarning: '+init=<authority>:<code>' syntax is deprecated. '<authority>:<code>' is the preferred initialization method. When making the change, be mindful of axis order changes: https://pyproj4.github.io/pyproj/stable/gotchas.html#axis-order-changes-in-proj-6\n",
      "  return _prepare_from_string(\" \".join(pjargs))\n"
     ]
    },
    {
     "name": "stdout",
     "output_type": "stream",
     "text": [
      "OpenCV(4.1.0) /io/opencv/modules/imgproc/src/color.cpp:182: error: (-215:Assertion failed) !_src.empty() in function 'cvtColor'\n",
      "\n"
     ]
    },
    {
     "name": "stderr",
     "output_type": "stream",
     "text": [
      "/home/prativa/anaconda3/envs/py36/lib/python3.6/site-packages/pyproj/crs/crs.py:53: FutureWarning: '+init=<authority>:<code>' syntax is deprecated. '<authority>:<code>' is the preferred initialization method. When making the change, be mindful of axis order changes: https://pyproj4.github.io/pyproj/stable/gotchas.html#axis-order-changes-in-proj-6\n",
      "  return _prepare_from_string(\" \".join(pjargs))\n"
     ]
    },
    {
     "name": "stdout",
     "output_type": "stream",
     "text": [
      "OpenCV(4.1.0) /io/opencv/modules/imgproc/src/color.cpp:182: error: (-215:Assertion failed) !_src.empty() in function 'cvtColor'\n",
      "\n"
     ]
    },
    {
     "name": "stderr",
     "output_type": "stream",
     "text": [
      "\n",
      "\n",
      "\n",
      " 54%|█████▎    | 295/550 [00:56<00:49,  5.17it/s]\u001b[A\u001b[A\u001b[A/home/prativa/anaconda3/envs/py36/lib/python3.6/site-packages/pyproj/crs/crs.py:53: FutureWarning: '+init=<authority>:<code>' syntax is deprecated. '<authority>:<code>' is the preferred initialization method. When making the change, be mindful of axis order changes: https://pyproj4.github.io/pyproj/stable/gotchas.html#axis-order-changes-in-proj-6\n",
      "  return _prepare_from_string(\" \".join(pjargs))\n",
      "/home/prativa/anaconda3/envs/py36/lib/python3.6/site-packages/pyproj/crs/crs.py:53: FutureWarning: '+init=<authority>:<code>' syntax is deprecated. '<authority>:<code>' is the preferred initialization method. When making the change, be mindful of axis order changes: https://pyproj4.github.io/pyproj/stable/gotchas.html#axis-order-changes-in-proj-6\n",
      "  return _prepare_from_string(\" \".join(pjargs))\n",
      "/home/prativa/anaconda3/envs/py36/lib/python3.6/site-packages/pyproj/crs/crs.py:53: FutureWarning: '+init=<authority>:<code>' syntax is deprecated. '<authority>:<code>' is the preferred initialization method. When making the change, be mindful of axis order changes: https://pyproj4.github.io/pyproj/stable/gotchas.html#axis-order-changes-in-proj-6\n",
      "  return _prepare_from_string(\" \".join(pjargs))\n",
      "/home/prativa/anaconda3/envs/py36/lib/python3.6/site-packages/pyproj/crs/crs.py:53: FutureWarning: '+init=<authority>:<code>' syntax is deprecated. '<authority>:<code>' is the preferred initialization method. When making the change, be mindful of axis order changes: https://pyproj4.github.io/pyproj/stable/gotchas.html#axis-order-changes-in-proj-6\n",
      "  return _prepare_from_string(\" \".join(pjargs))\n",
      "/home/prativa/anaconda3/envs/py36/lib/python3.6/site-packages/pyproj/crs/crs.py:53: FutureWarning: '+init=<authority>:<code>' syntax is deprecated. '<authority>:<code>' is the preferred initialization method. When making the change, be mindful of axis order changes: https://pyproj4.github.io/pyproj/stable/gotchas.html#axis-order-changes-in-proj-6\n",
      "  return _prepare_from_string(\" \".join(pjargs))\n",
      "/home/prativa/anaconda3/envs/py36/lib/python3.6/site-packages/pyproj/crs/crs.py:53: FutureWarning: '+init=<authority>:<code>' syntax is deprecated. '<authority>:<code>' is the preferred initialization method. When making the change, be mindful of axis order changes: https://pyproj4.github.io/pyproj/stable/gotchas.html#axis-order-changes-in-proj-6\n",
      "  return _prepare_from_string(\" \".join(pjargs))\n"
     ]
    },
    {
     "name": "stdout",
     "output_type": "stream",
     "text": [
      "OpenCV(4.1.0) /io/opencv/modules/imgproc/src/color.cpp:182: error: (-215:Assertion failed) !_src.empty() in function 'cvtColor'\n",
      "\n"
     ]
    },
    {
     "name": "stderr",
     "output_type": "stream",
     "text": [
      "/home/prativa/anaconda3/envs/py36/lib/python3.6/site-packages/pyproj/crs/crs.py:53: FutureWarning: '+init=<authority>:<code>' syntax is deprecated. '<authority>:<code>' is the preferred initialization method. When making the change, be mindful of axis order changes: https://pyproj4.github.io/pyproj/stable/gotchas.html#axis-order-changes-in-proj-6\n",
      "  return _prepare_from_string(\" \".join(pjargs))\n",
      "/home/prativa/anaconda3/envs/py36/lib/python3.6/site-packages/pyproj/crs/crs.py:53: FutureWarning: '+init=<authority>:<code>' syntax is deprecated. '<authority>:<code>' is the preferred initialization method. When making the change, be mindful of axis order changes: https://pyproj4.github.io/pyproj/stable/gotchas.html#axis-order-changes-in-proj-6\n",
      "  return _prepare_from_string(\" \".join(pjargs))\n",
      "/home/prativa/anaconda3/envs/py36/lib/python3.6/site-packages/ipykernel_launcher.py:72: MatplotlibDeprecationWarning: You are modifying the state of a globally registered colormap. In future versions, you will not be able to modify a registered colormap in-place. To remove this warning, you can make a copy of the colormap first. cmap = copy.copy(mpl.cm.get_cmap(\"gray\"))\n",
      "/home/prativa/anaconda3/envs/py36/lib/python3.6/site-packages/ipykernel_launcher.py:38: RuntimeWarning: More than 20 figures have been opened. Figures created through the pyplot interface (`matplotlib.pyplot.figure`) are retained until explicitly closed and may consume too much memory. (To control this warning, see the rcParam `figure.max_open_warning`).\n",
      "/home/prativa/anaconda3/envs/py36/lib/python3.6/site-packages/ipykernel_launcher.py:72: MatplotlibDeprecationWarning: You are modifying the state of a globally registered colormap. In future versions, you will not be able to modify a registered colormap in-place. To remove this warning, you can make a copy of the colormap first. cmap = copy.copy(mpl.cm.get_cmap(\"gray\"))\n",
      "/home/prativa/anaconda3/envs/py36/lib/python3.6/site-packages/pyproj/crs/crs.py:53: FutureWarning: '+init=<authority>:<code>' syntax is deprecated. '<authority>:<code>' is the preferred initialization method. When making the change, be mindful of axis order changes: https://pyproj4.github.io/pyproj/stable/gotchas.html#axis-order-changes-in-proj-6\n",
      "  return _prepare_from_string(\" \".join(pjargs))\n",
      "/home/prativa/anaconda3/envs/py36/lib/python3.6/site-packages/pyproj/crs/crs.py:53: FutureWarning: '+init=<authority>:<code>' syntax is deprecated. '<authority>:<code>' is the preferred initialization method. When making the change, be mindful of axis order changes: https://pyproj4.github.io/pyproj/stable/gotchas.html#axis-order-changes-in-proj-6\n",
      "  return _prepare_from_string(\" \".join(pjargs))\n"
     ]
    },
    {
     "name": "stdout",
     "output_type": "stream",
     "text": [
      "OpenCV(4.1.0) /io/opencv/modules/imgproc/src/color.cpp:182: error: (-215:Assertion failed) !_src.empty() in function 'cvtColor'\n",
      "OpenCV(4.1.0) /io/opencv/modules/imgproc/src/color.cpp:182: error: (-215:Assertion failed) !_src.empty() in function 'cvtColor'\n",
      "\n",
      "\n"
     ]
    },
    {
     "name": "stderr",
     "output_type": "stream",
     "text": [
      "\n",
      "\n",
      "\n",
      " 54%|█████▍    | 297/550 [00:57<00:56,  4.46it/s]\u001b[A\u001b[A\u001b[A/home/prativa/anaconda3/envs/py36/lib/python3.6/site-packages/pyproj/crs/crs.py:53: FutureWarning: '+init=<authority>:<code>' syntax is deprecated. '<authority>:<code>' is the preferred initialization method. When making the change, be mindful of axis order changes: https://pyproj4.github.io/pyproj/stable/gotchas.html#axis-order-changes-in-proj-6\n",
      "  return _prepare_from_string(\" \".join(pjargs))\n"
     ]
    },
    {
     "name": "stdout",
     "output_type": "stream",
     "text": [
      "OpenCV(4.1.0) /io/opencv/modules/imgproc/src/color.cpp:182: error: (-215:Assertion failed) !_src.empty() in function 'cvtColor'\n",
      "\n"
     ]
    },
    {
     "name": "stderr",
     "output_type": "stream",
     "text": [
      "/home/prativa/anaconda3/envs/py36/lib/python3.6/site-packages/ipykernel_launcher.py:38: RuntimeWarning: More than 20 figures have been opened. Figures created through the pyplot interface (`matplotlib.pyplot.figure`) are retained until explicitly closed and may consume too much memory. (To control this warning, see the rcParam `figure.max_open_warning`).\n",
      "/home/prativa/anaconda3/envs/py36/lib/python3.6/site-packages/ipykernel_launcher.py:72: MatplotlibDeprecationWarning: You are modifying the state of a globally registered colormap. In future versions, you will not be able to modify a registered colormap in-place. To remove this warning, you can make a copy of the colormap first. cmap = copy.copy(mpl.cm.get_cmap(\"gray\"))\n",
      "/home/prativa/anaconda3/envs/py36/lib/python3.6/site-packages/pyproj/crs/crs.py:53: FutureWarning: '+init=<authority>:<code>' syntax is deprecated. '<authority>:<code>' is the preferred initialization method. When making the change, be mindful of axis order changes: https://pyproj4.github.io/pyproj/stable/gotchas.html#axis-order-changes-in-proj-6\n",
      "  return _prepare_from_string(\" \".join(pjargs))\n",
      "/home/prativa/anaconda3/envs/py36/lib/python3.6/site-packages/pyproj/crs/crs.py:53: FutureWarning: '+init=<authority>:<code>' syntax is deprecated. '<authority>:<code>' is the preferred initialization method. When making the change, be mindful of axis order changes: https://pyproj4.github.io/pyproj/stable/gotchas.html#axis-order-changes-in-proj-6\n",
      "  return _prepare_from_string(\" \".join(pjargs))\n",
      "/home/prativa/anaconda3/envs/py36/lib/python3.6/site-packages/pyproj/crs/crs.py:53: FutureWarning: '+init=<authority>:<code>' syntax is deprecated. '<authority>:<code>' is the preferred initialization method. When making the change, be mindful of axis order changes: https://pyproj4.github.io/pyproj/stable/gotchas.html#axis-order-changes-in-proj-6\n",
      "  return _prepare_from_string(\" \".join(pjargs))\n",
      "/home/prativa/anaconda3/envs/py36/lib/python3.6/site-packages/ipykernel_launcher.py:72: MatplotlibDeprecationWarning: You are modifying the state of a globally registered colormap. In future versions, you will not be able to modify a registered colormap in-place. To remove this warning, you can make a copy of the colormap first. cmap = copy.copy(mpl.cm.get_cmap(\"gray\"))\n",
      "/home/prativa/anaconda3/envs/py36/lib/python3.6/site-packages/pyproj/crs/crs.py:53: FutureWarning: '+init=<authority>:<code>' syntax is deprecated. '<authority>:<code>' is the preferred initialization method. When making the change, be mindful of axis order changes: https://pyproj4.github.io/pyproj/stable/gotchas.html#axis-order-changes-in-proj-6\n",
      "  return _prepare_from_string(\" \".join(pjargs))\n",
      "/home/prativa/anaconda3/envs/py36/lib/python3.6/site-packages/ipykernel_launcher.py:72: MatplotlibDeprecationWarning: You are modifying the state of a globally registered colormap. In future versions, you will not be able to modify a registered colormap in-place. To remove this warning, you can make a copy of the colormap first. cmap = copy.copy(mpl.cm.get_cmap(\"gray\"))\n",
      "/home/prativa/anaconda3/envs/py36/lib/python3.6/site-packages/ipykernel_launcher.py:72: MatplotlibDeprecationWarning: You are modifying the state of a globally registered colormap. In future versions, you will not be able to modify a registered colormap in-place. To remove this warning, you can make a copy of the colormap first. cmap = copy.copy(mpl.cm.get_cmap(\"gray\"))\n",
      "/home/prativa/anaconda3/envs/py36/lib/python3.6/site-packages/pyproj/crs/crs.py:53: FutureWarning: '+init=<authority>:<code>' syntax is deprecated. '<authority>:<code>' is the preferred initialization method. When making the change, be mindful of axis order changes: https://pyproj4.github.io/pyproj/stable/gotchas.html#axis-order-changes-in-proj-6\n",
      "  return _prepare_from_string(\" \".join(pjargs))\n",
      "/home/prativa/anaconda3/envs/py36/lib/python3.6/site-packages/pyproj/crs/crs.py:53: FutureWarning: '+init=<authority>:<code>' syntax is deprecated. '<authority>:<code>' is the preferred initialization method. When making the change, be mindful of axis order changes: https://pyproj4.github.io/pyproj/stable/gotchas.html#axis-order-changes-in-proj-6\n",
      "  return _prepare_from_string(\" \".join(pjargs))\n",
      "/home/prativa/anaconda3/envs/py36/lib/python3.6/site-packages/ipykernel_launcher.py:72: MatplotlibDeprecationWarning: You are modifying the state of a globally registered colormap. In future versions, you will not be able to modify a registered colormap in-place. To remove this warning, you can make a copy of the colormap first. cmap = copy.copy(mpl.cm.get_cmap(\"gray\"))\n",
      "/home/prativa/anaconda3/envs/py36/lib/python3.6/site-packages/pyproj/crs/crs.py:53: FutureWarning: '+init=<authority>:<code>' syntax is deprecated. '<authority>:<code>' is the preferred initialization method. When making the change, be mindful of axis order changes: https://pyproj4.github.io/pyproj/stable/gotchas.html#axis-order-changes-in-proj-6\n",
      "  return _prepare_from_string(\" \".join(pjargs))\n",
      "/home/prativa/anaconda3/envs/py36/lib/python3.6/site-packages/ipykernel_launcher.py:72: MatplotlibDeprecationWarning: You are modifying the state of a globally registered colormap. In future versions, you will not be able to modify a registered colormap in-place. To remove this warning, you can make a copy of the colormap first. cmap = copy.copy(mpl.cm.get_cmap(\"gray\"))\n",
      "/home/prativa/anaconda3/envs/py36/lib/python3.6/site-packages/ipykernel_launcher.py:72: MatplotlibDeprecationWarning: You are modifying the state of a globally registered colormap. In future versions, you will not be able to modify a registered colormap in-place. To remove this warning, you can make a copy of the colormap first. cmap = copy.copy(mpl.cm.get_cmap(\"gray\"))\n",
      "/home/prativa/anaconda3/envs/py36/lib/python3.6/site-packages/ipykernel_launcher.py:72: MatplotlibDeprecationWarning: You are modifying the state of a globally registered colormap. In future versions, you will not be able to modify a registered colormap in-place. To remove this warning, you can make a copy of the colormap first. cmap = copy.copy(mpl.cm.get_cmap(\"gray\"))\n",
      "\n",
      "\n",
      "\n",
      " 55%|█████▍    | 301/550 [00:58<01:14,  3.34it/s]\u001b[A\u001b[A\u001b[A\n",
      "\n",
      "\n",
      " 55%|█████▍    | 302/550 [00:59<01:00,  4.12it/s]\u001b[A\u001b[A\u001b[A/home/prativa/anaconda3/envs/py36/lib/python3.6/site-packages/pyproj/crs/crs.py:53: FutureWarning: '+init=<authority>:<code>' syntax is deprecated. '<authority>:<code>' is the preferred initialization method. When making the change, be mindful of axis order changes: https://pyproj4.github.io/pyproj/stable/gotchas.html#axis-order-changes-in-proj-6\n",
      "  return _prepare_from_string(\" \".join(pjargs))\n",
      "/home/prativa/anaconda3/envs/py36/lib/python3.6/site-packages/pyproj/crs/crs.py:53: FutureWarning: '+init=<authority>:<code>' syntax is deprecated. '<authority>:<code>' is the preferred initialization method. When making the change, be mindful of axis order changes: https://pyproj4.github.io/pyproj/stable/gotchas.html#axis-order-changes-in-proj-6\n",
      "  return _prepare_from_string(\" \".join(pjargs))\n",
      "\n",
      "\n",
      "\n",
      " 55%|█████▌    | 304/550 [00:59<00:50,  4.91it/s]\u001b[A\u001b[A\u001b[A/home/prativa/anaconda3/envs/py36/lib/python3.6/site-packages/pyproj/crs/crs.py:53: FutureWarning: '+init=<authority>:<code>' syntax is deprecated. '<authority>:<code>' is the preferred initialization method. When making the change, be mindful of axis order changes: https://pyproj4.github.io/pyproj/stable/gotchas.html#axis-order-changes-in-proj-6\n",
      "  return _prepare_from_string(\" \".join(pjargs))\n",
      "/home/prativa/anaconda3/envs/py36/lib/python3.6/site-packages/pyproj/crs/crs.py:53: FutureWarning: '+init=<authority>:<code>' syntax is deprecated. '<authority>:<code>' is the preferred initialization method. When making the change, be mindful of axis order changes: https://pyproj4.github.io/pyproj/stable/gotchas.html#axis-order-changes-in-proj-6\n",
      "  return _prepare_from_string(\" \".join(pjargs))\n",
      "\n",
      "\n",
      "\n",
      " 56%|█████▌    | 306/550 [00:59<00:40,  6.01it/s]\u001b[A\u001b[A\u001b[A/home/prativa/anaconda3/envs/py36/lib/python3.6/site-packages/pyproj/crs/crs.py:53: FutureWarning: '+init=<authority>:<code>' syntax is deprecated. '<authority>:<code>' is the preferred initialization method. When making the change, be mindful of axis order changes: https://pyproj4.github.io/pyproj/stable/gotchas.html#axis-order-changes-in-proj-6\n",
      "  return _prepare_from_string(\" \".join(pjargs))\n"
     ]
    },
    {
     "name": "stderr",
     "output_type": "stream",
     "text": [
      "/home/prativa/anaconda3/envs/py36/lib/python3.6/site-packages/pyproj/crs/crs.py:53: FutureWarning: '+init=<authority>:<code>' syntax is deprecated. '<authority>:<code>' is the preferred initialization method. When making the change, be mindful of axis order changes: https://pyproj4.github.io/pyproj/stable/gotchas.html#axis-order-changes-in-proj-6\n",
      "  return _prepare_from_string(\" \".join(pjargs))\n",
      "/home/prativa/anaconda3/envs/py36/lib/python3.6/site-packages/pyproj/crs/crs.py:53: FutureWarning: '+init=<authority>:<code>' syntax is deprecated. '<authority>:<code>' is the preferred initialization method. When making the change, be mindful of axis order changes: https://pyproj4.github.io/pyproj/stable/gotchas.html#axis-order-changes-in-proj-6\n",
      "  return _prepare_from_string(\" \".join(pjargs))\n",
      "/home/prativa/anaconda3/envs/py36/lib/python3.6/site-packages/pyproj/crs/crs.py:53: FutureWarning: '+init=<authority>:<code>' syntax is deprecated. '<authority>:<code>' is the preferred initialization method. When making the change, be mindful of axis order changes: https://pyproj4.github.io/pyproj/stable/gotchas.html#axis-order-changes-in-proj-6\n",
      "  return _prepare_from_string(\" \".join(pjargs))\n",
      "/home/prativa/anaconda3/envs/py36/lib/python3.6/site-packages/pyproj/crs/crs.py:53: FutureWarning: '+init=<authority>:<code>' syntax is deprecated. '<authority>:<code>' is the preferred initialization method. When making the change, be mindful of axis order changes: https://pyproj4.github.io/pyproj/stable/gotchas.html#axis-order-changes-in-proj-6\n",
      "  return _prepare_from_string(\" \".join(pjargs))\n",
      "/home/prativa/anaconda3/envs/py36/lib/python3.6/site-packages/pyproj/crs/crs.py:53: FutureWarning: '+init=<authority>:<code>' syntax is deprecated. '<authority>:<code>' is the preferred initialization method. When making the change, be mindful of axis order changes: https://pyproj4.github.io/pyproj/stable/gotchas.html#axis-order-changes-in-proj-6\n",
      "  return _prepare_from_string(\" \".join(pjargs))\n",
      "/home/prativa/anaconda3/envs/py36/lib/python3.6/site-packages/pyproj/crs/crs.py:53: FutureWarning: '+init=<authority>:<code>' syntax is deprecated. '<authority>:<code>' is the preferred initialization method. When making the change, be mindful of axis order changes: https://pyproj4.github.io/pyproj/stable/gotchas.html#axis-order-changes-in-proj-6\n",
      "  return _prepare_from_string(\" \".join(pjargs))\n",
      "/home/prativa/anaconda3/envs/py36/lib/python3.6/site-packages/ipykernel_launcher.py:72: MatplotlibDeprecationWarning: You are modifying the state of a globally registered colormap. In future versions, you will not be able to modify a registered colormap in-place. To remove this warning, you can make a copy of the colormap first. cmap = copy.copy(mpl.cm.get_cmap(\"gray\"))\n",
      "/home/prativa/anaconda3/envs/py36/lib/python3.6/site-packages/pyproj/crs/crs.py:53: FutureWarning: '+init=<authority>:<code>' syntax is deprecated. '<authority>:<code>' is the preferred initialization method. When making the change, be mindful of axis order changes: https://pyproj4.github.io/pyproj/stable/gotchas.html#axis-order-changes-in-proj-6\n",
      "  return _prepare_from_string(\" \".join(pjargs))\n",
      "/home/prativa/anaconda3/envs/py36/lib/python3.6/site-packages/pyproj/crs/crs.py:53: FutureWarning: '+init=<authority>:<code>' syntax is deprecated. '<authority>:<code>' is the preferred initialization method. When making the change, be mindful of axis order changes: https://pyproj4.github.io/pyproj/stable/gotchas.html#axis-order-changes-in-proj-6\n",
      "  return _prepare_from_string(\" \".join(pjargs))\n",
      "/home/prativa/anaconda3/envs/py36/lib/python3.6/site-packages/ipykernel_launcher.py:72: MatplotlibDeprecationWarning: You are modifying the state of a globally registered colormap. In future versions, you will not be able to modify a registered colormap in-place. To remove this warning, you can make a copy of the colormap first. cmap = copy.copy(mpl.cm.get_cmap(\"gray\"))\n",
      "/home/prativa/anaconda3/envs/py36/lib/python3.6/site-packages/ipykernel_launcher.py:38: RuntimeWarning: More than 20 figures have been opened. Figures created through the pyplot interface (`matplotlib.pyplot.figure`) are retained until explicitly closed and may consume too much memory. (To control this warning, see the rcParam `figure.max_open_warning`).\n",
      "\n",
      "\n",
      "\n",
      " 56%|█████▌    | 307/550 [01:00<01:18,  3.10it/s]\u001b[A\u001b[A\u001b[A/home/prativa/anaconda3/envs/py36/lib/python3.6/site-packages/ipykernel_launcher.py:72: MatplotlibDeprecationWarning: You are modifying the state of a globally registered colormap. In future versions, you will not be able to modify a registered colormap in-place. To remove this warning, you can make a copy of the colormap first. cmap = copy.copy(mpl.cm.get_cmap(\"gray\"))\n",
      "/home/prativa/anaconda3/envs/py36/lib/python3.6/site-packages/pyproj/crs/crs.py:53: FutureWarning: '+init=<authority>:<code>' syntax is deprecated. '<authority>:<code>' is the preferred initialization method. When making the change, be mindful of axis order changes: https://pyproj4.github.io/pyproj/stable/gotchas.html#axis-order-changes-in-proj-6\n",
      "  return _prepare_from_string(\" \".join(pjargs))\n",
      "\n",
      "\n",
      "\n",
      " 56%|█████▌    | 309/550 [01:00<01:05,  3.69it/s]\u001b[A\u001b[A\u001b[A/home/prativa/anaconda3/envs/py36/lib/python3.6/site-packages/ipykernel_launcher.py:72: MatplotlibDeprecationWarning: You are modifying the state of a globally registered colormap. In future versions, you will not be able to modify a registered colormap in-place. To remove this warning, you can make a copy of the colormap first. cmap = copy.copy(mpl.cm.get_cmap(\"gray\"))\n",
      "/home/prativa/anaconda3/envs/py36/lib/python3.6/site-packages/ipykernel_launcher.py:72: MatplotlibDeprecationWarning: You are modifying the state of a globally registered colormap. In future versions, you will not be able to modify a registered colormap in-place. To remove this warning, you can make a copy of the colormap first. cmap = copy.copy(mpl.cm.get_cmap(\"gray\"))\n",
      "/home/prativa/anaconda3/envs/py36/lib/python3.6/site-packages/pyproj/crs/crs.py:53: FutureWarning: '+init=<authority>:<code>' syntax is deprecated. '<authority>:<code>' is the preferred initialization method. When making the change, be mindful of axis order changes: https://pyproj4.github.io/pyproj/stable/gotchas.html#axis-order-changes-in-proj-6\n",
      "  return _prepare_from_string(\" \".join(pjargs))\n",
      "\n",
      "\n",
      "\n",
      " 56%|█████▋    | 310/550 [01:00<00:56,  4.23it/s]\u001b[A\u001b[A\u001b[A/home/prativa/anaconda3/envs/py36/lib/python3.6/site-packages/ipykernel_launcher.py:72: MatplotlibDeprecationWarning: You are modifying the state of a globally registered colormap. In future versions, you will not be able to modify a registered colormap in-place. To remove this warning, you can make a copy of the colormap first. cmap = copy.copy(mpl.cm.get_cmap(\"gray\"))\n",
      "/home/prativa/anaconda3/envs/py36/lib/python3.6/site-packages/pyproj/crs/crs.py:53: FutureWarning: '+init=<authority>:<code>' syntax is deprecated. '<authority>:<code>' is the preferred initialization method. When making the change, be mindful of axis order changes: https://pyproj4.github.io/pyproj/stable/gotchas.html#axis-order-changes-in-proj-6\n",
      "  return _prepare_from_string(\" \".join(pjargs))\n",
      "/home/prativa/anaconda3/envs/py36/lib/python3.6/site-packages/pyproj/crs/crs.py:53: FutureWarning: '+init=<authority>:<code>' syntax is deprecated. '<authority>:<code>' is the preferred initialization method. When making the change, be mindful of axis order changes: https://pyproj4.github.io/pyproj/stable/gotchas.html#axis-order-changes-in-proj-6\n",
      "  return _prepare_from_string(\" \".join(pjargs))\n",
      "/home/prativa/anaconda3/envs/py36/lib/python3.6/site-packages/pyproj/crs/crs.py:53: FutureWarning: '+init=<authority>:<code>' syntax is deprecated. '<authority>:<code>' is the preferred initialization method. When making the change, be mindful of axis order changes: https://pyproj4.github.io/pyproj/stable/gotchas.html#axis-order-changes-in-proj-6\n",
      "  return _prepare_from_string(\" \".join(pjargs))\n",
      "/home/prativa/anaconda3/envs/py36/lib/python3.6/site-packages/pyproj/crs/crs.py:53: FutureWarning: '+init=<authority>:<code>' syntax is deprecated. '<authority>:<code>' is the preferred initialization method. When making the change, be mindful of axis order changes: https://pyproj4.github.io/pyproj/stable/gotchas.html#axis-order-changes-in-proj-6\n",
      "  return _prepare_from_string(\" \".join(pjargs))\n"
     ]
    },
    {
     "name": "stderr",
     "output_type": "stream",
     "text": [
      "/home/prativa/anaconda3/envs/py36/lib/python3.6/site-packages/ipykernel_launcher.py:72: MatplotlibDeprecationWarning: You are modifying the state of a globally registered colormap. In future versions, you will not be able to modify a registered colormap in-place. To remove this warning, you can make a copy of the colormap first. cmap = copy.copy(mpl.cm.get_cmap(\"gray\"))\n",
      "/home/prativa/anaconda3/envs/py36/lib/python3.6/site-packages/pyproj/crs/crs.py:53: FutureWarning: '+init=<authority>:<code>' syntax is deprecated. '<authority>:<code>' is the preferred initialization method. When making the change, be mindful of axis order changes: https://pyproj4.github.io/pyproj/stable/gotchas.html#axis-order-changes-in-proj-6\n",
      "  return _prepare_from_string(\" \".join(pjargs))\n",
      "/home/prativa/anaconda3/envs/py36/lib/python3.6/site-packages/ipykernel_launcher.py:72: MatplotlibDeprecationWarning: You are modifying the state of a globally registered colormap. In future versions, you will not be able to modify a registered colormap in-place. To remove this warning, you can make a copy of the colormap first. cmap = copy.copy(mpl.cm.get_cmap(\"gray\"))\n",
      "/home/prativa/anaconda3/envs/py36/lib/python3.6/site-packages/ipykernel_launcher.py:72: MatplotlibDeprecationWarning: You are modifying the state of a globally registered colormap. In future versions, you will not be able to modify a registered colormap in-place. To remove this warning, you can make a copy of the colormap first. cmap = copy.copy(mpl.cm.get_cmap(\"gray\"))\n",
      "\n",
      "\n",
      "\n",
      " 57%|█████▋    | 311/550 [01:01<02:08,  1.86it/s]\u001b[A\u001b[A\u001b[A/home/prativa/anaconda3/envs/py36/lib/python3.6/site-packages/ipykernel_launcher.py:72: MatplotlibDeprecationWarning: You are modifying the state of a globally registered colormap. In future versions, you will not be able to modify a registered colormap in-place. To remove this warning, you can make a copy of the colormap first. cmap = copy.copy(mpl.cm.get_cmap(\"gray\"))\n",
      "\n",
      "\n",
      "\n",
      " 57%|█████▋    | 312/550 [01:02<01:47,  2.21it/s]\u001b[A\u001b[A\u001b[A/home/prativa/anaconda3/envs/py36/lib/python3.6/site-packages/pyproj/crs/crs.py:53: FutureWarning: '+init=<authority>:<code>' syntax is deprecated. '<authority>:<code>' is the preferred initialization method. When making the change, be mindful of axis order changes: https://pyproj4.github.io/pyproj/stable/gotchas.html#axis-order-changes-in-proj-6\n",
      "  return _prepare_from_string(\" \".join(pjargs))\n",
      "\n",
      "\n",
      "\n",
      " 57%|█████▋    | 313/550 [01:02<01:30,  2.61it/s]\u001b[A\u001b[A\u001b[A/home/prativa/anaconda3/envs/py36/lib/python3.6/site-packages/pyproj/crs/crs.py:53: FutureWarning: '+init=<authority>:<code>' syntax is deprecated. '<authority>:<code>' is the preferred initialization method. When making the change, be mindful of axis order changes: https://pyproj4.github.io/pyproj/stable/gotchas.html#axis-order-changes-in-proj-6\n",
      "  return _prepare_from_string(\" \".join(pjargs))\n",
      "/home/prativa/anaconda3/envs/py36/lib/python3.6/site-packages/pyproj/crs/crs.py:53: FutureWarning: '+init=<authority>:<code>' syntax is deprecated. '<authority>:<code>' is the preferred initialization method. When making the change, be mindful of axis order changes: https://pyproj4.github.io/pyproj/stable/gotchas.html#axis-order-changes-in-proj-6\n",
      "  return _prepare_from_string(\" \".join(pjargs))\n",
      "/home/prativa/anaconda3/envs/py36/lib/python3.6/site-packages/pyproj/crs/crs.py:53: FutureWarning: '+init=<authority>:<code>' syntax is deprecated. '<authority>:<code>' is the preferred initialization method. When making the change, be mindful of axis order changes: https://pyproj4.github.io/pyproj/stable/gotchas.html#axis-order-changes-in-proj-6\n",
      "  return _prepare_from_string(\" \".join(pjargs))\n",
      "/home/prativa/anaconda3/envs/py36/lib/python3.6/site-packages/pyproj/crs/crs.py:53: FutureWarning: '+init=<authority>:<code>' syntax is deprecated. '<authority>:<code>' is the preferred initialization method. When making the change, be mindful of axis order changes: https://pyproj4.github.io/pyproj/stable/gotchas.html#axis-order-changes-in-proj-6\n",
      "  return _prepare_from_string(\" \".join(pjargs))\n",
      "/home/prativa/anaconda3/envs/py36/lib/python3.6/site-packages/pyproj/crs/crs.py:53: FutureWarning: '+init=<authority>:<code>' syntax is deprecated. '<authority>:<code>' is the preferred initialization method. When making the change, be mindful of axis order changes: https://pyproj4.github.io/pyproj/stable/gotchas.html#axis-order-changes-in-proj-6\n",
      "  return _prepare_from_string(\" \".join(pjargs))\n",
      "/home/prativa/anaconda3/envs/py36/lib/python3.6/site-packages/pyproj/crs/crs.py:53: FutureWarning: '+init=<authority>:<code>' syntax is deprecated. '<authority>:<code>' is the preferred initialization method. When making the change, be mindful of axis order changes: https://pyproj4.github.io/pyproj/stable/gotchas.html#axis-order-changes-in-proj-6\n",
      "  return _prepare_from_string(\" \".join(pjargs))\n",
      "\n",
      "\n",
      "\n",
      " 57%|█████▋    | 314/550 [01:02<01:33,  2.51it/s]\u001b[A\u001b[A\u001b[A/home/prativa/anaconda3/envs/py36/lib/python3.6/site-packages/pyproj/crs/crs.py:53: FutureWarning: '+init=<authority>:<code>' syntax is deprecated. '<authority>:<code>' is the preferred initialization method. When making the change, be mindful of axis order changes: https://pyproj4.github.io/pyproj/stable/gotchas.html#axis-order-changes-in-proj-6\n",
      "  return _prepare_from_string(\" \".join(pjargs))\n",
      "/home/prativa/anaconda3/envs/py36/lib/python3.6/site-packages/ipykernel_launcher.py:72: MatplotlibDeprecationWarning: You are modifying the state of a globally registered colormap. In future versions, you will not be able to modify a registered colormap in-place. To remove this warning, you can make a copy of the colormap first. cmap = copy.copy(mpl.cm.get_cmap(\"gray\"))\n",
      "/home/prativa/anaconda3/envs/py36/lib/python3.6/site-packages/pyproj/crs/crs.py:53: FutureWarning: '+init=<authority>:<code>' syntax is deprecated. '<authority>:<code>' is the preferred initialization method. When making the change, be mindful of axis order changes: https://pyproj4.github.io/pyproj/stable/gotchas.html#axis-order-changes-in-proj-6\n",
      "  return _prepare_from_string(\" \".join(pjargs))\n",
      "\n",
      "\n",
      "\n",
      " 58%|█████▊    | 318/550 [01:02<01:09,  3.35it/s]\u001b[A\u001b[A\u001b[A/home/prativa/anaconda3/envs/py36/lib/python3.6/site-packages/pyproj/crs/crs.py:53: FutureWarning: '+init=<authority>:<code>' syntax is deprecated. '<authority>:<code>' is the preferred initialization method. When making the change, be mindful of axis order changes: https://pyproj4.github.io/pyproj/stable/gotchas.html#axis-order-changes-in-proj-6\n",
      "  return _prepare_from_string(\" \".join(pjargs))\n",
      "/home/prativa/anaconda3/envs/py36/lib/python3.6/site-packages/pyproj/crs/crs.py:53: FutureWarning: '+init=<authority>:<code>' syntax is deprecated. '<authority>:<code>' is the preferred initialization method. When making the change, be mindful of axis order changes: https://pyproj4.github.io/pyproj/stable/gotchas.html#axis-order-changes-in-proj-6\n",
      "  return _prepare_from_string(\" \".join(pjargs))\n",
      "/home/prativa/anaconda3/envs/py36/lib/python3.6/site-packages/pyproj/crs/crs.py:53: FutureWarning: '+init=<authority>:<code>' syntax is deprecated. '<authority>:<code>' is the preferred initialization method. When making the change, be mindful of axis order changes: https://pyproj4.github.io/pyproj/stable/gotchas.html#axis-order-changes-in-proj-6\n",
      "  return _prepare_from_string(\" \".join(pjargs))\n",
      "/home/prativa/anaconda3/envs/py36/lib/python3.6/site-packages/ipykernel_launcher.py:72: MatplotlibDeprecationWarning: You are modifying the state of a globally registered colormap. In future versions, you will not be able to modify a registered colormap in-place. To remove this warning, you can make a copy of the colormap first. cmap = copy.copy(mpl.cm.get_cmap(\"gray\"))\n",
      "/home/prativa/anaconda3/envs/py36/lib/python3.6/site-packages/ipykernel_launcher.py:72: MatplotlibDeprecationWarning: You are modifying the state of a globally registered colormap. In future versions, you will not be able to modify a registered colormap in-place. To remove this warning, you can make a copy of the colormap first. cmap = copy.copy(mpl.cm.get_cmap(\"gray\"))\n",
      "/home/prativa/anaconda3/envs/py36/lib/python3.6/site-packages/pyproj/crs/crs.py:53: FutureWarning: '+init=<authority>:<code>' syntax is deprecated. '<authority>:<code>' is the preferred initialization method. When making the change, be mindful of axis order changes: https://pyproj4.github.io/pyproj/stable/gotchas.html#axis-order-changes-in-proj-6\n",
      "  return _prepare_from_string(\" \".join(pjargs))\n"
     ]
    },
    {
     "name": "stderr",
     "output_type": "stream",
     "text": [
      "/home/prativa/anaconda3/envs/py36/lib/python3.6/site-packages/pyproj/crs/crs.py:53: FutureWarning: '+init=<authority>:<code>' syntax is deprecated. '<authority>:<code>' is the preferred initialization method. When making the change, be mindful of axis order changes: https://pyproj4.github.io/pyproj/stable/gotchas.html#axis-order-changes-in-proj-6\n",
      "  return _prepare_from_string(\" \".join(pjargs))\n",
      "\n",
      "\n",
      "\n",
      " 58%|█████▊    | 319/550 [01:03<01:08,  3.38it/s]\u001b[A\u001b[A\u001b[A/home/prativa/anaconda3/envs/py36/lib/python3.6/site-packages/pyproj/crs/crs.py:53: FutureWarning: '+init=<authority>:<code>' syntax is deprecated. '<authority>:<code>' is the preferred initialization method. When making the change, be mindful of axis order changes: https://pyproj4.github.io/pyproj/stable/gotchas.html#axis-order-changes-in-proj-6\n",
      "  return _prepare_from_string(\" \".join(pjargs))\n",
      "/home/prativa/anaconda3/envs/py36/lib/python3.6/site-packages/ipykernel_launcher.py:72: MatplotlibDeprecationWarning: You are modifying the state of a globally registered colormap. In future versions, you will not be able to modify a registered colormap in-place. To remove this warning, you can make a copy of the colormap first. cmap = copy.copy(mpl.cm.get_cmap(\"gray\"))\n",
      "/home/prativa/anaconda3/envs/py36/lib/python3.6/site-packages/pyproj/crs/crs.py:53: FutureWarning: '+init=<authority>:<code>' syntax is deprecated. '<authority>:<code>' is the preferred initialization method. When making the change, be mindful of axis order changes: https://pyproj4.github.io/pyproj/stable/gotchas.html#axis-order-changes-in-proj-6\n",
      "  return _prepare_from_string(\" \".join(pjargs))\n",
      "/home/prativa/anaconda3/envs/py36/lib/python3.6/site-packages/pyproj/crs/crs.py:53: FutureWarning: '+init=<authority>:<code>' syntax is deprecated. '<authority>:<code>' is the preferred initialization method. When making the change, be mindful of axis order changes: https://pyproj4.github.io/pyproj/stable/gotchas.html#axis-order-changes-in-proj-6\n",
      "  return _prepare_from_string(\" \".join(pjargs))\n",
      "/home/prativa/anaconda3/envs/py36/lib/python3.6/site-packages/ipykernel_launcher.py:38: RuntimeWarning: More than 20 figures have been opened. Figures created through the pyplot interface (`matplotlib.pyplot.figure`) are retained until explicitly closed and may consume too much memory. (To control this warning, see the rcParam `figure.max_open_warning`).\n",
      "/home/prativa/anaconda3/envs/py36/lib/python3.6/site-packages/ipykernel_launcher.py:72: MatplotlibDeprecationWarning: You are modifying the state of a globally registered colormap. In future versions, you will not be able to modify a registered colormap in-place. To remove this warning, you can make a copy of the colormap first. cmap = copy.copy(mpl.cm.get_cmap(\"gray\"))\n",
      "/home/prativa/anaconda3/envs/py36/lib/python3.6/site-packages/pyproj/crs/crs.py:53: FutureWarning: '+init=<authority>:<code>' syntax is deprecated. '<authority>:<code>' is the preferred initialization method. When making the change, be mindful of axis order changes: https://pyproj4.github.io/pyproj/stable/gotchas.html#axis-order-changes-in-proj-6\n",
      "  return _prepare_from_string(\" \".join(pjargs))\n",
      "\n",
      "\n",
      "\n",
      " 58%|█████▊    | 320/550 [01:03<01:30,  2.53it/s]\u001b[A\u001b[A\u001b[A/home/prativa/anaconda3/envs/py36/lib/python3.6/site-packages/ipykernel_launcher.py:72: MatplotlibDeprecationWarning: You are modifying the state of a globally registered colormap. In future versions, you will not be able to modify a registered colormap in-place. To remove this warning, you can make a copy of the colormap first. cmap = copy.copy(mpl.cm.get_cmap(\"gray\"))\n",
      "/home/prativa/anaconda3/envs/py36/lib/python3.6/site-packages/ipykernel_launcher.py:72: MatplotlibDeprecationWarning: You are modifying the state of a globally registered colormap. In future versions, you will not be able to modify a registered colormap in-place. To remove this warning, you can make a copy of the colormap first. cmap = copy.copy(mpl.cm.get_cmap(\"gray\"))\n",
      "/home/prativa/anaconda3/envs/py36/lib/python3.6/site-packages/ipykernel_launcher.py:72: MatplotlibDeprecationWarning: You are modifying the state of a globally registered colormap. In future versions, you will not be able to modify a registered colormap in-place. To remove this warning, you can make a copy of the colormap first. cmap = copy.copy(mpl.cm.get_cmap(\"gray\"))\n",
      "/home/prativa/anaconda3/envs/py36/lib/python3.6/site-packages/pyproj/crs/crs.py:53: FutureWarning: '+init=<authority>:<code>' syntax is deprecated. '<authority>:<code>' is the preferred initialization method. When making the change, be mindful of axis order changes: https://pyproj4.github.io/pyproj/stable/gotchas.html#axis-order-changes-in-proj-6\n",
      "  return _prepare_from_string(\" \".join(pjargs))\n",
      "/home/prativa/anaconda3/envs/py36/lib/python3.6/site-packages/ipykernel_launcher.py:72: MatplotlibDeprecationWarning: You are modifying the state of a globally registered colormap. In future versions, you will not be able to modify a registered colormap in-place. To remove this warning, you can make a copy of the colormap first. cmap = copy.copy(mpl.cm.get_cmap(\"gray\"))\n",
      "/home/prativa/anaconda3/envs/py36/lib/python3.6/site-packages/pyproj/crs/crs.py:53: FutureWarning: '+init=<authority>:<code>' syntax is deprecated. '<authority>:<code>' is the preferred initialization method. When making the change, be mindful of axis order changes: https://pyproj4.github.io/pyproj/stable/gotchas.html#axis-order-changes-in-proj-6\n",
      "  return _prepare_from_string(\" \".join(pjargs))\n",
      "\n",
      "\n",
      "\n",
      " 58%|█████▊    | 321/550 [01:04<02:14,  1.70it/s]\u001b[A\u001b[A\u001b[A/home/prativa/anaconda3/envs/py36/lib/python3.6/site-packages/ipykernel_launcher.py:72: MatplotlibDeprecationWarning: You are modifying the state of a globally registered colormap. In future versions, you will not be able to modify a registered colormap in-place. To remove this warning, you can make a copy of the colormap first. cmap = copy.copy(mpl.cm.get_cmap(\"gray\"))\n",
      "\n",
      "\n",
      "\n",
      " 59%|█████▊    | 322/550 [01:05<01:48,  2.10it/s]\u001b[A\u001b[A\u001b[A/home/prativa/anaconda3/envs/py36/lib/python3.6/site-packages/pyproj/crs/crs.py:53: FutureWarning: '+init=<authority>:<code>' syntax is deprecated. '<authority>:<code>' is the preferred initialization method. When making the change, be mindful of axis order changes: https://pyproj4.github.io/pyproj/stable/gotchas.html#axis-order-changes-in-proj-6\n",
      "  return _prepare_from_string(\" \".join(pjargs))\n",
      "/home/prativa/anaconda3/envs/py36/lib/python3.6/site-packages/pyproj/crs/crs.py:53: FutureWarning: '+init=<authority>:<code>' syntax is deprecated. '<authority>:<code>' is the preferred initialization method. When making the change, be mindful of axis order changes: https://pyproj4.github.io/pyproj/stable/gotchas.html#axis-order-changes-in-proj-6\n",
      "  return _prepare_from_string(\" \".join(pjargs))\n",
      "/home/prativa/anaconda3/envs/py36/lib/python3.6/site-packages/pyproj/crs/crs.py:53: FutureWarning: '+init=<authority>:<code>' syntax is deprecated. '<authority>:<code>' is the preferred initialization method. When making the change, be mindful of axis order changes: https://pyproj4.github.io/pyproj/stable/gotchas.html#axis-order-changes-in-proj-6\n",
      "  return _prepare_from_string(\" \".join(pjargs))\n",
      "/home/prativa/anaconda3/envs/py36/lib/python3.6/site-packages/pyproj/crs/crs.py:53: FutureWarning: '+init=<authority>:<code>' syntax is deprecated. '<authority>:<code>' is the preferred initialization method. When making the change, be mindful of axis order changes: https://pyproj4.github.io/pyproj/stable/gotchas.html#axis-order-changes-in-proj-6\n",
      "  return _prepare_from_string(\" \".join(pjargs))\n",
      "\n",
      "\n",
      "\n",
      " 59%|█████▉    | 324/550 [01:05<01:29,  2.52it/s]\u001b[A\u001b[A\u001b[A/home/prativa/anaconda3/envs/py36/lib/python3.6/site-packages/pyproj/crs/crs.py:53: FutureWarning: '+init=<authority>:<code>' syntax is deprecated. '<authority>:<code>' is the preferred initialization method. When making the change, be mindful of axis order changes: https://pyproj4.github.io/pyproj/stable/gotchas.html#axis-order-changes-in-proj-6\n",
      "  return _prepare_from_string(\" \".join(pjargs))\n",
      "/home/prativa/anaconda3/envs/py36/lib/python3.6/site-packages/pyproj/crs/crs.py:53: FutureWarning: '+init=<authority>:<code>' syntax is deprecated. '<authority>:<code>' is the preferred initialization method. When making the change, be mindful of axis order changes: https://pyproj4.github.io/pyproj/stable/gotchas.html#axis-order-changes-in-proj-6\n",
      "  return _prepare_from_string(\" \".join(pjargs))\n"
     ]
    },
    {
     "name": "stderr",
     "output_type": "stream",
     "text": [
      "/home/prativa/anaconda3/envs/py36/lib/python3.6/site-packages/skimage/io/_io.py:141: UserWarning: data/AOI_4_Shanghai_Roads_Train/PAN_mask/SN3_roads_train_AOI_4_Shanghai_geojson_roads_img67.jpg is a low contrast image\n",
      "  warn('%s is a low contrast image' % fname)\n",
      "\n",
      "\n",
      "\n",
      " 59%|█████▉    | 325/550 [01:05<01:22,  2.74it/s]\u001b[A\u001b[A\u001b[A/home/prativa/anaconda3/envs/py36/lib/python3.6/site-packages/ipykernel_launcher.py:72: MatplotlibDeprecationWarning: You are modifying the state of a globally registered colormap. In future versions, you will not be able to modify a registered colormap in-place. To remove this warning, you can make a copy of the colormap first. cmap = copy.copy(mpl.cm.get_cmap(\"gray\"))\n",
      "/home/prativa/anaconda3/envs/py36/lib/python3.6/site-packages/pyproj/crs/crs.py:53: FutureWarning: '+init=<authority>:<code>' syntax is deprecated. '<authority>:<code>' is the preferred initialization method. When making the change, be mindful of axis order changes: https://pyproj4.github.io/pyproj/stable/gotchas.html#axis-order-changes-in-proj-6\n",
      "  return _prepare_from_string(\" \".join(pjargs))\n",
      "/home/prativa/anaconda3/envs/py36/lib/python3.6/site-packages/pyproj/crs/crs.py:53: FutureWarning: '+init=<authority>:<code>' syntax is deprecated. '<authority>:<code>' is the preferred initialization method. When making the change, be mindful of axis order changes: https://pyproj4.github.io/pyproj/stable/gotchas.html#axis-order-changes-in-proj-6\n",
      "  return _prepare_from_string(\" \".join(pjargs))\n",
      "/home/prativa/anaconda3/envs/py36/lib/python3.6/site-packages/ipykernel_launcher.py:72: MatplotlibDeprecationWarning: You are modifying the state of a globally registered colormap. In future versions, you will not be able to modify a registered colormap in-place. To remove this warning, you can make a copy of the colormap first. cmap = copy.copy(mpl.cm.get_cmap(\"gray\"))\n",
      "/home/prativa/anaconda3/envs/py36/lib/python3.6/site-packages/pyproj/crs/crs.py:53: FutureWarning: '+init=<authority>:<code>' syntax is deprecated. '<authority>:<code>' is the preferred initialization method. When making the change, be mindful of axis order changes: https://pyproj4.github.io/pyproj/stable/gotchas.html#axis-order-changes-in-proj-6\n",
      "  return _prepare_from_string(\" \".join(pjargs))\n",
      "/home/prativa/anaconda3/envs/py36/lib/python3.6/site-packages/pyproj/crs/crs.py:53: FutureWarning: '+init=<authority>:<code>' syntax is deprecated. '<authority>:<code>' is the preferred initialization method. When making the change, be mindful of axis order changes: https://pyproj4.github.io/pyproj/stable/gotchas.html#axis-order-changes-in-proj-6\n",
      "  return _prepare_from_string(\" \".join(pjargs))\n",
      "\n",
      "\n",
      "\n",
      " 60%|█████▉    | 329/550 [01:06<01:01,  3.57it/s]\u001b[A\u001b[A\u001b[A/home/prativa/anaconda3/envs/py36/lib/python3.6/site-packages/pyproj/crs/crs.py:53: FutureWarning: '+init=<authority>:<code>' syntax is deprecated. '<authority>:<code>' is the preferred initialization method. When making the change, be mindful of axis order changes: https://pyproj4.github.io/pyproj/stable/gotchas.html#axis-order-changes-in-proj-6\n",
      "  return _prepare_from_string(\" \".join(pjargs))\n",
      "/home/prativa/anaconda3/envs/py36/lib/python3.6/site-packages/pyproj/crs/crs.py:53: FutureWarning: '+init=<authority>:<code>' syntax is deprecated. '<authority>:<code>' is the preferred initialization method. When making the change, be mindful of axis order changes: https://pyproj4.github.io/pyproj/stable/gotchas.html#axis-order-changes-in-proj-6\n",
      "  return _prepare_from_string(\" \".join(pjargs))\n",
      "/home/prativa/anaconda3/envs/py36/lib/python3.6/site-packages/pyproj/crs/crs.py:53: FutureWarning: '+init=<authority>:<code>' syntax is deprecated. '<authority>:<code>' is the preferred initialization method. When making the change, be mindful of axis order changes: https://pyproj4.github.io/pyproj/stable/gotchas.html#axis-order-changes-in-proj-6\n",
      "  return _prepare_from_string(\" \".join(pjargs))\n",
      "/home/prativa/anaconda3/envs/py36/lib/python3.6/site-packages/pyproj/crs/crs.py:53: FutureWarning: '+init=<authority>:<code>' syntax is deprecated. '<authority>:<code>' is the preferred initialization method. When making the change, be mindful of axis order changes: https://pyproj4.github.io/pyproj/stable/gotchas.html#axis-order-changes-in-proj-6\n",
      "  return _prepare_from_string(\" \".join(pjargs))\n",
      "/home/prativa/anaconda3/envs/py36/lib/python3.6/site-packages/pyproj/crs/crs.py:53: FutureWarning: '+init=<authority>:<code>' syntax is deprecated. '<authority>:<code>' is the preferred initialization method. When making the change, be mindful of axis order changes: https://pyproj4.github.io/pyproj/stable/gotchas.html#axis-order-changes-in-proj-6\n",
      "  return _prepare_from_string(\" \".join(pjargs))\n",
      "/home/prativa/anaconda3/envs/py36/lib/python3.6/site-packages/ipykernel_launcher.py:72: MatplotlibDeprecationWarning: You are modifying the state of a globally registered colormap. In future versions, you will not be able to modify a registered colormap in-place. To remove this warning, you can make a copy of the colormap first. cmap = copy.copy(mpl.cm.get_cmap(\"gray\"))\n",
      "/home/prativa/anaconda3/envs/py36/lib/python3.6/site-packages/pyproj/crs/crs.py:53: FutureWarning: '+init=<authority>:<code>' syntax is deprecated. '<authority>:<code>' is the preferred initialization method. When making the change, be mindful of axis order changes: https://pyproj4.github.io/pyproj/stable/gotchas.html#axis-order-changes-in-proj-6\n",
      "  return _prepare_from_string(\" \".join(pjargs))\n",
      "/home/prativa/anaconda3/envs/py36/lib/python3.6/site-packages/pyproj/crs/crs.py:53: FutureWarning: '+init=<authority>:<code>' syntax is deprecated. '<authority>:<code>' is the preferred initialization method. When making the change, be mindful of axis order changes: https://pyproj4.github.io/pyproj/stable/gotchas.html#axis-order-changes-in-proj-6\n",
      "  return _prepare_from_string(\" \".join(pjargs))\n",
      "/home/prativa/anaconda3/envs/py36/lib/python3.6/site-packages/ipykernel_launcher.py:72: MatplotlibDeprecationWarning: You are modifying the state of a globally registered colormap. In future versions, you will not be able to modify a registered colormap in-place. To remove this warning, you can make a copy of the colormap first. cmap = copy.copy(mpl.cm.get_cmap(\"gray\"))\n",
      "/home/prativa/anaconda3/envs/py36/lib/python3.6/site-packages/pyproj/crs/crs.py:53: FutureWarning: '+init=<authority>:<code>' syntax is deprecated. '<authority>:<code>' is the preferred initialization method. When making the change, be mindful of axis order changes: https://pyproj4.github.io/pyproj/stable/gotchas.html#axis-order-changes-in-proj-6\n",
      "  return _prepare_from_string(\" \".join(pjargs))\n",
      "\n",
      "\n",
      "\n",
      " 60%|██████    | 330/550 [01:06<01:22,  2.67it/s]\u001b[A\u001b[A\u001b[A/home/prativa/anaconda3/envs/py36/lib/python3.6/site-packages/ipykernel_launcher.py:38: RuntimeWarning: More than 20 figures have been opened. Figures created through the pyplot interface (`matplotlib.pyplot.figure`) are retained until explicitly closed and may consume too much memory. (To control this warning, see the rcParam `figure.max_open_warning`).\n",
      "/home/prativa/anaconda3/envs/py36/lib/python3.6/site-packages/ipykernel_launcher.py:72: MatplotlibDeprecationWarning: You are modifying the state of a globally registered colormap. In future versions, you will not be able to modify a registered colormap in-place. To remove this warning, you can make a copy of the colormap first. cmap = copy.copy(mpl.cm.get_cmap(\"gray\"))\n",
      "/home/prativa/anaconda3/envs/py36/lib/python3.6/site-packages/ipykernel_launcher.py:72: MatplotlibDeprecationWarning: You are modifying the state of a globally registered colormap. In future versions, you will not be able to modify a registered colormap in-place. To remove this warning, you can make a copy of the colormap first. cmap = copy.copy(mpl.cm.get_cmap(\"gray\"))\n",
      "/home/prativa/anaconda3/envs/py36/lib/python3.6/site-packages/pyproj/crs/crs.py:53: FutureWarning: '+init=<authority>:<code>' syntax is deprecated. '<authority>:<code>' is the preferred initialization method. When making the change, be mindful of axis order changes: https://pyproj4.github.io/pyproj/stable/gotchas.html#axis-order-changes-in-proj-6\n",
      "  return _prepare_from_string(\" \".join(pjargs))\n"
     ]
    },
    {
     "name": "stderr",
     "output_type": "stream",
     "text": [
      "/home/prativa/anaconda3/envs/py36/lib/python3.6/site-packages/ipykernel_launcher.py:72: MatplotlibDeprecationWarning: You are modifying the state of a globally registered colormap. In future versions, you will not be able to modify a registered colormap in-place. To remove this warning, you can make a copy of the colormap first. cmap = copy.copy(mpl.cm.get_cmap(\"gray\"))\n",
      "/home/prativa/anaconda3/envs/py36/lib/python3.6/site-packages/ipykernel_launcher.py:72: MatplotlibDeprecationWarning: You are modifying the state of a globally registered colormap. In future versions, you will not be able to modify a registered colormap in-place. To remove this warning, you can make a copy of the colormap first. cmap = copy.copy(mpl.cm.get_cmap(\"gray\"))\n",
      "/home/prativa/anaconda3/envs/py36/lib/python3.6/site-packages/ipykernel_launcher.py:72: MatplotlibDeprecationWarning: You are modifying the state of a globally registered colormap. In future versions, you will not be able to modify a registered colormap in-place. To remove this warning, you can make a copy of the colormap first. cmap = copy.copy(mpl.cm.get_cmap(\"gray\"))\n",
      "/home/prativa/anaconda3/envs/py36/lib/python3.6/site-packages/pyproj/crs/crs.py:53: FutureWarning: '+init=<authority>:<code>' syntax is deprecated. '<authority>:<code>' is the preferred initialization method. When making the change, be mindful of axis order changes: https://pyproj4.github.io/pyproj/stable/gotchas.html#axis-order-changes-in-proj-6\n",
      "  return _prepare_from_string(\" \".join(pjargs))\n",
      "\n",
      "\n",
      "\n",
      " 60%|██████    | 331/550 [01:07<02:15,  1.62it/s]\u001b[A\u001b[A\u001b[A/home/prativa/anaconda3/envs/py36/lib/python3.6/site-packages/ipykernel_launcher.py:72: MatplotlibDeprecationWarning: You are modifying the state of a globally registered colormap. In future versions, you will not be able to modify a registered colormap in-place. To remove this warning, you can make a copy of the colormap first. cmap = copy.copy(mpl.cm.get_cmap(\"gray\"))\n",
      "\n",
      "\n",
      "\n",
      " 60%|██████    | 332/550 [01:08<01:43,  2.11it/s]\u001b[A\u001b[A\u001b[A/home/prativa/anaconda3/envs/py36/lib/python3.6/site-packages/pyproj/crs/crs.py:53: FutureWarning: '+init=<authority>:<code>' syntax is deprecated. '<authority>:<code>' is the preferred initialization method. When making the change, be mindful of axis order changes: https://pyproj4.github.io/pyproj/stable/gotchas.html#axis-order-changes-in-proj-6\n",
      "  return _prepare_from_string(\" \".join(pjargs))\n",
      "\n",
      "\n",
      "\n",
      " 61%|██████    | 333/550 [01:08<01:25,  2.54it/s]\u001b[A\u001b[A\u001b[A/home/prativa/anaconda3/envs/py36/lib/python3.6/site-packages/pyproj/crs/crs.py:53: FutureWarning: '+init=<authority>:<code>' syntax is deprecated. '<authority>:<code>' is the preferred initialization method. When making the change, be mindful of axis order changes: https://pyproj4.github.io/pyproj/stable/gotchas.html#axis-order-changes-in-proj-6\n",
      "  return _prepare_from_string(\" \".join(pjargs))\n",
      "/home/prativa/anaconda3/envs/py36/lib/python3.6/site-packages/pyproj/crs/crs.py:53: FutureWarning: '+init=<authority>:<code>' syntax is deprecated. '<authority>:<code>' is the preferred initialization method. When making the change, be mindful of axis order changes: https://pyproj4.github.io/pyproj/stable/gotchas.html#axis-order-changes-in-proj-6\n",
      "  return _prepare_from_string(\" \".join(pjargs))\n",
      "/home/prativa/anaconda3/envs/py36/lib/python3.6/site-packages/pyproj/crs/crs.py:53: FutureWarning: '+init=<authority>:<code>' syntax is deprecated. '<authority>:<code>' is the preferred initialization method. When making the change, be mindful of axis order changes: https://pyproj4.github.io/pyproj/stable/gotchas.html#axis-order-changes-in-proj-6\n",
      "  return _prepare_from_string(\" \".join(pjargs))\n",
      "\n",
      "\n",
      "\n",
      " 61%|██████    | 334/550 [01:08<01:29,  2.42it/s]\u001b[A\u001b[A\u001b[A/home/prativa/anaconda3/envs/py36/lib/python3.6/site-packages/pyproj/crs/crs.py:53: FutureWarning: '+init=<authority>:<code>' syntax is deprecated. '<authority>:<code>' is the preferred initialization method. When making the change, be mindful of axis order changes: https://pyproj4.github.io/pyproj/stable/gotchas.html#axis-order-changes-in-proj-6\n",
      "  return _prepare_from_string(\" \".join(pjargs))\n",
      "/home/prativa/anaconda3/envs/py36/lib/python3.6/site-packages/pyproj/crs/crs.py:53: FutureWarning: '+init=<authority>:<code>' syntax is deprecated. '<authority>:<code>' is the preferred initialization method. When making the change, be mindful of axis order changes: https://pyproj4.github.io/pyproj/stable/gotchas.html#axis-order-changes-in-proj-6\n",
      "  return _prepare_from_string(\" \".join(pjargs))\n",
      "/home/prativa/anaconda3/envs/py36/lib/python3.6/site-packages/pyproj/crs/crs.py:53: FutureWarning: '+init=<authority>:<code>' syntax is deprecated. '<authority>:<code>' is the preferred initialization method. When making the change, be mindful of axis order changes: https://pyproj4.github.io/pyproj/stable/gotchas.html#axis-order-changes-in-proj-6\n",
      "  return _prepare_from_string(\" \".join(pjargs))\n",
      "/home/prativa/anaconda3/envs/py36/lib/python3.6/site-packages/pyproj/crs/crs.py:53: FutureWarning: '+init=<authority>:<code>' syntax is deprecated. '<authority>:<code>' is the preferred initialization method. When making the change, be mindful of axis order changes: https://pyproj4.github.io/pyproj/stable/gotchas.html#axis-order-changes-in-proj-6\n",
      "  return _prepare_from_string(\" \".join(pjargs))\n",
      "/home/prativa/anaconda3/envs/py36/lib/python3.6/site-packages/ipykernel_launcher.py:72: MatplotlibDeprecationWarning: You are modifying the state of a globally registered colormap. In future versions, you will not be able to modify a registered colormap in-place. To remove this warning, you can make a copy of the colormap first. cmap = copy.copy(mpl.cm.get_cmap(\"gray\"))\n",
      "/home/prativa/anaconda3/envs/py36/lib/python3.6/site-packages/pyproj/crs/crs.py:53: FutureWarning: '+init=<authority>:<code>' syntax is deprecated. '<authority>:<code>' is the preferred initialization method. When making the change, be mindful of axis order changes: https://pyproj4.github.io/pyproj/stable/gotchas.html#axis-order-changes-in-proj-6\n",
      "  return _prepare_from_string(\" \".join(pjargs))\n",
      "/home/prativa/anaconda3/envs/py36/lib/python3.6/site-packages/pyproj/crs/crs.py:53: FutureWarning: '+init=<authority>:<code>' syntax is deprecated. '<authority>:<code>' is the preferred initialization method. When making the change, be mindful of axis order changes: https://pyproj4.github.io/pyproj/stable/gotchas.html#axis-order-changes-in-proj-6\n",
      "  return _prepare_from_string(\" \".join(pjargs))\n",
      "\n",
      "\n",
      "\n",
      " 61%|██████    | 336/550 [01:09<01:15,  2.83it/s]\u001b[A\u001b[A\u001b[A/home/prativa/anaconda3/envs/py36/lib/python3.6/site-packages/pyproj/crs/crs.py:53: FutureWarning: '+init=<authority>:<code>' syntax is deprecated. '<authority>:<code>' is the preferred initialization method. When making the change, be mindful of axis order changes: https://pyproj4.github.io/pyproj/stable/gotchas.html#axis-order-changes-in-proj-6\n",
      "  return _prepare_from_string(\" \".join(pjargs))\n",
      "/home/prativa/anaconda3/envs/py36/lib/python3.6/site-packages/pyproj/crs/crs.py:53: FutureWarning: '+init=<authority>:<code>' syntax is deprecated. '<authority>:<code>' is the preferred initialization method. When making the change, be mindful of axis order changes: https://pyproj4.github.io/pyproj/stable/gotchas.html#axis-order-changes-in-proj-6\n",
      "  return _prepare_from_string(\" \".join(pjargs))\n",
      "/home/prativa/anaconda3/envs/py36/lib/python3.6/site-packages/ipykernel_launcher.py:72: MatplotlibDeprecationWarning: You are modifying the state of a globally registered colormap. In future versions, you will not be able to modify a registered colormap in-place. To remove this warning, you can make a copy of the colormap first. cmap = copy.copy(mpl.cm.get_cmap(\"gray\"))\n",
      "/home/prativa/anaconda3/envs/py36/lib/python3.6/site-packages/pyproj/crs/crs.py:53: FutureWarning: '+init=<authority>:<code>' syntax is deprecated. '<authority>:<code>' is the preferred initialization method. When making the change, be mindful of axis order changes: https://pyproj4.github.io/pyproj/stable/gotchas.html#axis-order-changes-in-proj-6\n",
      "  return _prepare_from_string(\" \".join(pjargs))\n",
      "/home/prativa/anaconda3/envs/py36/lib/python3.6/site-packages/ipykernel_launcher.py:72: MatplotlibDeprecationWarning: You are modifying the state of a globally registered colormap. In future versions, you will not be able to modify a registered colormap in-place. To remove this warning, you can make a copy of the colormap first. cmap = copy.copy(mpl.cm.get_cmap(\"gray\"))\n"
     ]
    },
    {
     "name": "stderr",
     "output_type": "stream",
     "text": [
      "/home/prativa/anaconda3/envs/py36/lib/python3.6/site-packages/pyproj/crs/crs.py:53: FutureWarning: '+init=<authority>:<code>' syntax is deprecated. '<authority>:<code>' is the preferred initialization method. When making the change, be mindful of axis order changes: https://pyproj4.github.io/pyproj/stable/gotchas.html#axis-order-changes-in-proj-6\n",
      "  return _prepare_from_string(\" \".join(pjargs))\n",
      "/home/prativa/anaconda3/envs/py36/lib/python3.6/site-packages/pyproj/crs/crs.py:53: FutureWarning: '+init=<authority>:<code>' syntax is deprecated. '<authority>:<code>' is the preferred initialization method. When making the change, be mindful of axis order changes: https://pyproj4.github.io/pyproj/stable/gotchas.html#axis-order-changes-in-proj-6\n",
      "  return _prepare_from_string(\" \".join(pjargs))\n",
      "/home/prativa/anaconda3/envs/py36/lib/python3.6/site-packages/ipykernel_launcher.py:72: MatplotlibDeprecationWarning: You are modifying the state of a globally registered colormap. In future versions, you will not be able to modify a registered colormap in-place. To remove this warning, you can make a copy of the colormap first. cmap = copy.copy(mpl.cm.get_cmap(\"gray\"))\n",
      "/home/prativa/anaconda3/envs/py36/lib/python3.6/site-packages/pyproj/crs/crs.py:53: FutureWarning: '+init=<authority>:<code>' syntax is deprecated. '<authority>:<code>' is the preferred initialization method. When making the change, be mindful of axis order changes: https://pyproj4.github.io/pyproj/stable/gotchas.html#axis-order-changes-in-proj-6\n",
      "  return _prepare_from_string(\" \".join(pjargs))\n",
      "/home/prativa/anaconda3/envs/py36/lib/python3.6/site-packages/pyproj/crs/crs.py:53: FutureWarning: '+init=<authority>:<code>' syntax is deprecated. '<authority>:<code>' is the preferred initialization method. When making the change, be mindful of axis order changes: https://pyproj4.github.io/pyproj/stable/gotchas.html#axis-order-changes-in-proj-6\n",
      "  return _prepare_from_string(\" \".join(pjargs))\n",
      "/home/prativa/anaconda3/envs/py36/lib/python3.6/site-packages/ipykernel_launcher.py:72: MatplotlibDeprecationWarning: You are modifying the state of a globally registered colormap. In future versions, you will not be able to modify a registered colormap in-place. To remove this warning, you can make a copy of the colormap first. cmap = copy.copy(mpl.cm.get_cmap(\"gray\"))\n",
      "/home/prativa/anaconda3/envs/py36/lib/python3.6/site-packages/pyproj/crs/crs.py:53: FutureWarning: '+init=<authority>:<code>' syntax is deprecated. '<authority>:<code>' is the preferred initialization method. When making the change, be mindful of axis order changes: https://pyproj4.github.io/pyproj/stable/gotchas.html#axis-order-changes-in-proj-6\n",
      "  return _prepare_from_string(\" \".join(pjargs))\n",
      "/home/prativa/anaconda3/envs/py36/lib/python3.6/site-packages/ipykernel_launcher.py:38: RuntimeWarning: More than 20 figures have been opened. Figures created through the pyplot interface (`matplotlib.pyplot.figure`) are retained until explicitly closed and may consume too much memory. (To control this warning, see the rcParam `figure.max_open_warning`).\n",
      "\n",
      "\n",
      "\n",
      " 62%|██████▏   | 340/550 [01:10<01:05,  3.19it/s]\u001b[A\u001b[A\u001b[A/home/prativa/anaconda3/envs/py36/lib/python3.6/site-packages/ipykernel_launcher.py:72: MatplotlibDeprecationWarning: You are modifying the state of a globally registered colormap. In future versions, you will not be able to modify a registered colormap in-place. To remove this warning, you can make a copy of the colormap first. cmap = copy.copy(mpl.cm.get_cmap(\"gray\"))\n",
      "/home/prativa/anaconda3/envs/py36/lib/python3.6/site-packages/ipykernel_launcher.py:72: MatplotlibDeprecationWarning: You are modifying the state of a globally registered colormap. In future versions, you will not be able to modify a registered colormap in-place. To remove this warning, you can make a copy of the colormap first. cmap = copy.copy(mpl.cm.get_cmap(\"gray\"))\n",
      "/home/prativa/anaconda3/envs/py36/lib/python3.6/site-packages/pyproj/crs/crs.py:53: FutureWarning: '+init=<authority>:<code>' syntax is deprecated. '<authority>:<code>' is the preferred initialization method. When making the change, be mindful of axis order changes: https://pyproj4.github.io/pyproj/stable/gotchas.html#axis-order-changes-in-proj-6\n",
      "  return _prepare_from_string(\" \".join(pjargs))\n",
      "/home/prativa/anaconda3/envs/py36/lib/python3.6/site-packages/ipykernel_launcher.py:72: MatplotlibDeprecationWarning: You are modifying the state of a globally registered colormap. In future versions, you will not be able to modify a registered colormap in-place. To remove this warning, you can make a copy of the colormap first. cmap = copy.copy(mpl.cm.get_cmap(\"gray\"))\n",
      "/home/prativa/anaconda3/envs/py36/lib/python3.6/site-packages/ipykernel_launcher.py:72: MatplotlibDeprecationWarning: You are modifying the state of a globally registered colormap. In future versions, you will not be able to modify a registered colormap in-place. To remove this warning, you can make a copy of the colormap first. cmap = copy.copy(mpl.cm.get_cmap(\"gray\"))\n",
      "/home/prativa/anaconda3/envs/py36/lib/python3.6/site-packages/pyproj/crs/crs.py:53: FutureWarning: '+init=<authority>:<code>' syntax is deprecated. '<authority>:<code>' is the preferred initialization method. When making the change, be mindful of axis order changes: https://pyproj4.github.io/pyproj/stable/gotchas.html#axis-order-changes-in-proj-6\n",
      "  return _prepare_from_string(\" \".join(pjargs))\n",
      "/home/prativa/anaconda3/envs/py36/lib/python3.6/site-packages/ipykernel_launcher.py:72: MatplotlibDeprecationWarning: You are modifying the state of a globally registered colormap. In future versions, you will not be able to modify a registered colormap in-place. To remove this warning, you can make a copy of the colormap first. cmap = copy.copy(mpl.cm.get_cmap(\"gray\"))\n",
      "\n",
      "\n",
      "\n",
      " 62%|██████▏   | 341/550 [01:11<02:09,  1.61it/s]\u001b[A\u001b[A\u001b[A/home/prativa/anaconda3/envs/py36/lib/python3.6/site-packages/pyproj/crs/crs.py:53: FutureWarning: '+init=<authority>:<code>' syntax is deprecated. '<authority>:<code>' is the preferred initialization method. When making the change, be mindful of axis order changes: https://pyproj4.github.io/pyproj/stable/gotchas.html#axis-order-changes-in-proj-6\n",
      "  return _prepare_from_string(\" \".join(pjargs))\n",
      "\n",
      "\n",
      "\n",
      " 62%|██████▏   | 343/550 [01:11<01:34,  2.20it/s]\u001b[A\u001b[A\u001b[A\n",
      "\n",
      "\n",
      " 63%|██████▎   | 345/550 [01:11<01:08,  2.97it/s]\u001b[A\u001b[A\u001b[A/home/prativa/anaconda3/envs/py36/lib/python3.6/site-packages/pyproj/crs/crs.py:53: FutureWarning: '+init=<authority>:<code>' syntax is deprecated. '<authority>:<code>' is the preferred initialization method. When making the change, be mindful of axis order changes: https://pyproj4.github.io/pyproj/stable/gotchas.html#axis-order-changes-in-proj-6\n",
      "  return _prepare_from_string(\" \".join(pjargs))\n",
      "/home/prativa/anaconda3/envs/py36/lib/python3.6/site-packages/pyproj/crs/crs.py:53: FutureWarning: '+init=<authority>:<code>' syntax is deprecated. '<authority>:<code>' is the preferred initialization method. When making the change, be mindful of axis order changes: https://pyproj4.github.io/pyproj/stable/gotchas.html#axis-order-changes-in-proj-6\n",
      "  return _prepare_from_string(\" \".join(pjargs))\n",
      "/home/prativa/anaconda3/envs/py36/lib/python3.6/site-packages/pyproj/crs/crs.py:53: FutureWarning: '+init=<authority>:<code>' syntax is deprecated. '<authority>:<code>' is the preferred initialization method. When making the change, be mindful of axis order changes: https://pyproj4.github.io/pyproj/stable/gotchas.html#axis-order-changes-in-proj-6\n",
      "  return _prepare_from_string(\" \".join(pjargs))\n",
      "\n",
      "\n",
      "\n",
      " 63%|██████▎   | 346/550 [01:12<01:12,  2.82it/s]\u001b[A\u001b[A\u001b[A/home/prativa/anaconda3/envs/py36/lib/python3.6/site-packages/pyproj/crs/crs.py:53: FutureWarning: '+init=<authority>:<code>' syntax is deprecated. '<authority>:<code>' is the preferred initialization method. When making the change, be mindful of axis order changes: https://pyproj4.github.io/pyproj/stable/gotchas.html#axis-order-changes-in-proj-6\n",
      "  return _prepare_from_string(\" \".join(pjargs))\n",
      "/home/prativa/anaconda3/envs/py36/lib/python3.6/site-packages/pyproj/crs/crs.py:53: FutureWarning: '+init=<authority>:<code>' syntax is deprecated. '<authority>:<code>' is the preferred initialization method. When making the change, be mindful of axis order changes: https://pyproj4.github.io/pyproj/stable/gotchas.html#axis-order-changes-in-proj-6\n",
      "  return _prepare_from_string(\" \".join(pjargs))\n"
     ]
    },
    {
     "name": "stderr",
     "output_type": "stream",
     "text": [
      "/home/prativa/anaconda3/envs/py36/lib/python3.6/site-packages/pyproj/crs/crs.py:53: FutureWarning: '+init=<authority>:<code>' syntax is deprecated. '<authority>:<code>' is the preferred initialization method. When making the change, be mindful of axis order changes: https://pyproj4.github.io/pyproj/stable/gotchas.html#axis-order-changes-in-proj-6\n",
      "  return _prepare_from_string(\" \".join(pjargs))\n",
      "/home/prativa/anaconda3/envs/py36/lib/python3.6/site-packages/pyproj/crs/crs.py:53: FutureWarning: '+init=<authority>:<code>' syntax is deprecated. '<authority>:<code>' is the preferred initialization method. When making the change, be mindful of axis order changes: https://pyproj4.github.io/pyproj/stable/gotchas.html#axis-order-changes-in-proj-6\n",
      "  return _prepare_from_string(\" \".join(pjargs))\n",
      "/home/prativa/anaconda3/envs/py36/lib/python3.6/site-packages/pyproj/crs/crs.py:53: FutureWarning: '+init=<authority>:<code>' syntax is deprecated. '<authority>:<code>' is the preferred initialization method. When making the change, be mindful of axis order changes: https://pyproj4.github.io/pyproj/stable/gotchas.html#axis-order-changes-in-proj-6\n",
      "  return _prepare_from_string(\" \".join(pjargs))\n",
      "/home/prativa/anaconda3/envs/py36/lib/python3.6/site-packages/ipykernel_launcher.py:72: MatplotlibDeprecationWarning: You are modifying the state of a globally registered colormap. In future versions, you will not be able to modify a registered colormap in-place. To remove this warning, you can make a copy of the colormap first. cmap = copy.copy(mpl.cm.get_cmap(\"gray\"))\n",
      "/home/prativa/anaconda3/envs/py36/lib/python3.6/site-packages/pyproj/crs/crs.py:53: FutureWarning: '+init=<authority>:<code>' syntax is deprecated. '<authority>:<code>' is the preferred initialization method. When making the change, be mindful of axis order changes: https://pyproj4.github.io/pyproj/stable/gotchas.html#axis-order-changes-in-proj-6\n",
      "  return _prepare_from_string(\" \".join(pjargs))\n",
      "/home/prativa/anaconda3/envs/py36/lib/python3.6/site-packages/pyproj/crs/crs.py:53: FutureWarning: '+init=<authority>:<code>' syntax is deprecated. '<authority>:<code>' is the preferred initialization method. When making the change, be mindful of axis order changes: https://pyproj4.github.io/pyproj/stable/gotchas.html#axis-order-changes-in-proj-6\n",
      "  return _prepare_from_string(\" \".join(pjargs))\n",
      "/home/prativa/anaconda3/envs/py36/lib/python3.6/site-packages/pyproj/crs/crs.py:53: FutureWarning: '+init=<authority>:<code>' syntax is deprecated. '<authority>:<code>' is the preferred initialization method. When making the change, be mindful of axis order changes: https://pyproj4.github.io/pyproj/stable/gotchas.html#axis-order-changes-in-proj-6\n",
      "  return _prepare_from_string(\" \".join(pjargs))\n",
      "/home/prativa/anaconda3/envs/py36/lib/python3.6/site-packages/pyproj/crs/crs.py:53: FutureWarning: '+init=<authority>:<code>' syntax is deprecated. '<authority>:<code>' is the preferred initialization method. When making the change, be mindful of axis order changes: https://pyproj4.github.io/pyproj/stable/gotchas.html#axis-order-changes-in-proj-6\n",
      "  return _prepare_from_string(\" \".join(pjargs))\n",
      "/home/prativa/anaconda3/envs/py36/lib/python3.6/site-packages/pyproj/crs/crs.py:53: FutureWarning: '+init=<authority>:<code>' syntax is deprecated. '<authority>:<code>' is the preferred initialization method. When making the change, be mindful of axis order changes: https://pyproj4.github.io/pyproj/stable/gotchas.html#axis-order-changes-in-proj-6\n",
      "  return _prepare_from_string(\" \".join(pjargs))\n",
      "/home/prativa/anaconda3/envs/py36/lib/python3.6/site-packages/pyproj/crs/crs.py:53: FutureWarning: '+init=<authority>:<code>' syntax is deprecated. '<authority>:<code>' is the preferred initialization method. When making the change, be mindful of axis order changes: https://pyproj4.github.io/pyproj/stable/gotchas.html#axis-order-changes-in-proj-6\n",
      "  return _prepare_from_string(\" \".join(pjargs))\n",
      "/home/prativa/anaconda3/envs/py36/lib/python3.6/site-packages/pyproj/crs/crs.py:53: FutureWarning: '+init=<authority>:<code>' syntax is deprecated. '<authority>:<code>' is the preferred initialization method. When making the change, be mindful of axis order changes: https://pyproj4.github.io/pyproj/stable/gotchas.html#axis-order-changes-in-proj-6\n",
      "  return _prepare_from_string(\" \".join(pjargs))\n",
      "/home/prativa/anaconda3/envs/py36/lib/python3.6/site-packages/ipykernel_launcher.py:72: MatplotlibDeprecationWarning: You are modifying the state of a globally registered colormap. In future versions, you will not be able to modify a registered colormap in-place. To remove this warning, you can make a copy of the colormap first. cmap = copy.copy(mpl.cm.get_cmap(\"gray\"))\n",
      "/home/prativa/anaconda3/envs/py36/lib/python3.6/site-packages/ipykernel_launcher.py:72: MatplotlibDeprecationWarning: You are modifying the state of a globally registered colormap. In future versions, you will not be able to modify a registered colormap in-place. To remove this warning, you can make a copy of the colormap first. cmap = copy.copy(mpl.cm.get_cmap(\"gray\"))\n",
      "/home/prativa/anaconda3/envs/py36/lib/python3.6/site-packages/ipykernel_launcher.py:72: MatplotlibDeprecationWarning: You are modifying the state of a globally registered colormap. In future versions, you will not be able to modify a registered colormap in-place. To remove this warning, you can make a copy of the colormap first. cmap = copy.copy(mpl.cm.get_cmap(\"gray\"))\n",
      "/home/prativa/anaconda3/envs/py36/lib/python3.6/site-packages/pyproj/crs/crs.py:53: FutureWarning: '+init=<authority>:<code>' syntax is deprecated. '<authority>:<code>' is the preferred initialization method. When making the change, be mindful of axis order changes: https://pyproj4.github.io/pyproj/stable/gotchas.html#axis-order-changes-in-proj-6\n",
      "  return _prepare_from_string(\" \".join(pjargs))\n",
      "/home/prativa/anaconda3/envs/py36/lib/python3.6/site-packages/pyproj/crs/crs.py:53: FutureWarning: '+init=<authority>:<code>' syntax is deprecated. '<authority>:<code>' is the preferred initialization method. When making the change, be mindful of axis order changes: https://pyproj4.github.io/pyproj/stable/gotchas.html#axis-order-changes-in-proj-6\n",
      "  return _prepare_from_string(\" \".join(pjargs))\n",
      "\n",
      "\n",
      "\n",
      " 64%|██████▎   | 350/550 [01:13<01:04,  3.11it/s]\u001b[A\u001b[A\u001b[A/home/prativa/anaconda3/envs/py36/lib/python3.6/site-packages/ipykernel_launcher.py:38: RuntimeWarning: More than 20 figures have been opened. Figures created through the pyplot interface (`matplotlib.pyplot.figure`) are retained until explicitly closed and may consume too much memory. (To control this warning, see the rcParam `figure.max_open_warning`).\n",
      "/home/prativa/anaconda3/envs/py36/lib/python3.6/site-packages/ipykernel_launcher.py:72: MatplotlibDeprecationWarning: You are modifying the state of a globally registered colormap. In future versions, you will not be able to modify a registered colormap in-place. To remove this warning, you can make a copy of the colormap first. cmap = copy.copy(mpl.cm.get_cmap(\"gray\"))\n",
      "/home/prativa/anaconda3/envs/py36/lib/python3.6/site-packages/ipykernel_launcher.py:72: MatplotlibDeprecationWarning: You are modifying the state of a globally registered colormap. In future versions, you will not be able to modify a registered colormap in-place. To remove this warning, you can make a copy of the colormap first. cmap = copy.copy(mpl.cm.get_cmap(\"gray\"))\n",
      "/home/prativa/anaconda3/envs/py36/lib/python3.6/site-packages/ipykernel_launcher.py:72: MatplotlibDeprecationWarning: You are modifying the state of a globally registered colormap. In future versions, you will not be able to modify a registered colormap in-place. To remove this warning, you can make a copy of the colormap first. cmap = copy.copy(mpl.cm.get_cmap(\"gray\"))\n",
      "/home/prativa/anaconda3/envs/py36/lib/python3.6/site-packages/ipykernel_launcher.py:72: MatplotlibDeprecationWarning: You are modifying the state of a globally registered colormap. In future versions, you will not be able to modify a registered colormap in-place. To remove this warning, you can make a copy of the colormap first. cmap = copy.copy(mpl.cm.get_cmap(\"gray\"))\n",
      "/home/prativa/anaconda3/envs/py36/lib/python3.6/site-packages/pyproj/crs/crs.py:53: FutureWarning: '+init=<authority>:<code>' syntax is deprecated. '<authority>:<code>' is the preferred initialization method. When making the change, be mindful of axis order changes: https://pyproj4.github.io/pyproj/stable/gotchas.html#axis-order-changes-in-proj-6\n",
      "  return _prepare_from_string(\" \".join(pjargs))\n"
     ]
    },
    {
     "name": "stderr",
     "output_type": "stream",
     "text": [
      "/home/prativa/anaconda3/envs/py36/lib/python3.6/site-packages/ipykernel_launcher.py:72: MatplotlibDeprecationWarning: You are modifying the state of a globally registered colormap. In future versions, you will not be able to modify a registered colormap in-place. To remove this warning, you can make a copy of the colormap first. cmap = copy.copy(mpl.cm.get_cmap(\"gray\"))\n",
      "/home/prativa/anaconda3/envs/py36/lib/python3.6/site-packages/pyproj/crs/crs.py:53: FutureWarning: '+init=<authority>:<code>' syntax is deprecated. '<authority>:<code>' is the preferred initialization method. When making the change, be mindful of axis order changes: https://pyproj4.github.io/pyproj/stable/gotchas.html#axis-order-changes-in-proj-6\n",
      "  return _prepare_from_string(\" \".join(pjargs))\n",
      "/home/prativa/anaconda3/envs/py36/lib/python3.6/site-packages/ipykernel_launcher.py:72: MatplotlibDeprecationWarning: You are modifying the state of a globally registered colormap. In future versions, you will not be able to modify a registered colormap in-place. To remove this warning, you can make a copy of the colormap first. cmap = copy.copy(mpl.cm.get_cmap(\"gray\"))\n",
      "\n",
      "\n",
      "\n",
      " 64%|██████▍   | 351/550 [01:14<02:00,  1.66it/s]\u001b[A\u001b[A\u001b[A\n",
      "\n",
      "\n",
      " 64%|██████▍   | 352/550 [01:14<01:44,  1.90it/s]\u001b[A\u001b[A\u001b[A/home/prativa/anaconda3/envs/py36/lib/python3.6/site-packages/pyproj/crs/crs.py:53: FutureWarning: '+init=<authority>:<code>' syntax is deprecated. '<authority>:<code>' is the preferred initialization method. When making the change, be mindful of axis order changes: https://pyproj4.github.io/pyproj/stable/gotchas.html#axis-order-changes-in-proj-6\n",
      "  return _prepare_from_string(\" \".join(pjargs))\n",
      "/home/prativa/anaconda3/envs/py36/lib/python3.6/site-packages/pyproj/crs/crs.py:53: FutureWarning: '+init=<authority>:<code>' syntax is deprecated. '<authority>:<code>' is the preferred initialization method. When making the change, be mindful of axis order changes: https://pyproj4.github.io/pyproj/stable/gotchas.html#axis-order-changes-in-proj-6\n",
      "  return _prepare_from_string(\" \".join(pjargs))\n",
      "/home/prativa/anaconda3/envs/py36/lib/python3.6/site-packages/pyproj/crs/crs.py:53: FutureWarning: '+init=<authority>:<code>' syntax is deprecated. '<authority>:<code>' is the preferred initialization method. When making the change, be mindful of axis order changes: https://pyproj4.github.io/pyproj/stable/gotchas.html#axis-order-changes-in-proj-6\n",
      "  return _prepare_from_string(\" \".join(pjargs))\n",
      "/home/prativa/anaconda3/envs/py36/lib/python3.6/site-packages/pyproj/crs/crs.py:53: FutureWarning: '+init=<authority>:<code>' syntax is deprecated. '<authority>:<code>' is the preferred initialization method. When making the change, be mindful of axis order changes: https://pyproj4.github.io/pyproj/stable/gotchas.html#axis-order-changes-in-proj-6\n",
      "  return _prepare_from_string(\" \".join(pjargs))\n",
      "/home/prativa/anaconda3/envs/py36/lib/python3.6/site-packages/pyproj/crs/crs.py:53: FutureWarning: '+init=<authority>:<code>' syntax is deprecated. '<authority>:<code>' is the preferred initialization method. When making the change, be mindful of axis order changes: https://pyproj4.github.io/pyproj/stable/gotchas.html#axis-order-changes-in-proj-6\n",
      "  return _prepare_from_string(\" \".join(pjargs))\n",
      "/home/prativa/anaconda3/envs/py36/lib/python3.6/site-packages/pyproj/crs/crs.py:53: FutureWarning: '+init=<authority>:<code>' syntax is deprecated. '<authority>:<code>' is the preferred initialization method. When making the change, be mindful of axis order changes: https://pyproj4.github.io/pyproj/stable/gotchas.html#axis-order-changes-in-proj-6\n",
      "  return _prepare_from_string(\" \".join(pjargs))\n",
      "\n",
      "\n",
      "\n",
      " 65%|██████▍   | 355/550 [01:15<01:23,  2.35it/s]\u001b[A\u001b[A\u001b[A\n",
      "\n",
      "\n",
      " 65%|██████▍   | 356/550 [01:15<01:03,  3.03it/s]\u001b[A\u001b[A\u001b[A/home/prativa/anaconda3/envs/py36/lib/python3.6/site-packages/pyproj/crs/crs.py:53: FutureWarning: '+init=<authority>:<code>' syntax is deprecated. '<authority>:<code>' is the preferred initialization method. When making the change, be mindful of axis order changes: https://pyproj4.github.io/pyproj/stable/gotchas.html#axis-order-changes-in-proj-6\n",
      "  return _prepare_from_string(\" \".join(pjargs))\n",
      "/home/prativa/anaconda3/envs/py36/lib/python3.6/site-packages/ipykernel_launcher.py:72: MatplotlibDeprecationWarning: You are modifying the state of a globally registered colormap. In future versions, you will not be able to modify a registered colormap in-place. To remove this warning, you can make a copy of the colormap first. cmap = copy.copy(mpl.cm.get_cmap(\"gray\"))\n",
      "/home/prativa/anaconda3/envs/py36/lib/python3.6/site-packages/pyproj/crs/crs.py:53: FutureWarning: '+init=<authority>:<code>' syntax is deprecated. '<authority>:<code>' is the preferred initialization method. When making the change, be mindful of axis order changes: https://pyproj4.github.io/pyproj/stable/gotchas.html#axis-order-changes-in-proj-6\n",
      "  return _prepare_from_string(\" \".join(pjargs))\n",
      "\n",
      "\n",
      "\n",
      " 65%|██████▍   | 357/550 [01:15<00:57,  3.34it/s]\u001b[A\u001b[A\u001b[A/home/prativa/anaconda3/envs/py36/lib/python3.6/site-packages/pyproj/crs/crs.py:53: FutureWarning: '+init=<authority>:<code>' syntax is deprecated. '<authority>:<code>' is the preferred initialization method. When making the change, be mindful of axis order changes: https://pyproj4.github.io/pyproj/stable/gotchas.html#axis-order-changes-in-proj-6\n",
      "  return _prepare_from_string(\" \".join(pjargs))\n",
      "/home/prativa/anaconda3/envs/py36/lib/python3.6/site-packages/pyproj/crs/crs.py:53: FutureWarning: '+init=<authority>:<code>' syntax is deprecated. '<authority>:<code>' is the preferred initialization method. When making the change, be mindful of axis order changes: https://pyproj4.github.io/pyproj/stable/gotchas.html#axis-order-changes-in-proj-6\n",
      "  return _prepare_from_string(\" \".join(pjargs))\n",
      "/home/prativa/anaconda3/envs/py36/lib/python3.6/site-packages/ipykernel_launcher.py:72: MatplotlibDeprecationWarning: You are modifying the state of a globally registered colormap. In future versions, you will not be able to modify a registered colormap in-place. To remove this warning, you can make a copy of the colormap first. cmap = copy.copy(mpl.cm.get_cmap(\"gray\"))\n",
      "/home/prativa/anaconda3/envs/py36/lib/python3.6/site-packages/pyproj/crs/crs.py:53: FutureWarning: '+init=<authority>:<code>' syntax is deprecated. '<authority>:<code>' is the preferred initialization method. When making the change, be mindful of axis order changes: https://pyproj4.github.io/pyproj/stable/gotchas.html#axis-order-changes-in-proj-6\n",
      "  return _prepare_from_string(\" \".join(pjargs))\n",
      "/home/prativa/anaconda3/envs/py36/lib/python3.6/site-packages/pyproj/crs/crs.py:53: FutureWarning: '+init=<authority>:<code>' syntax is deprecated. '<authority>:<code>' is the preferred initialization method. When making the change, be mindful of axis order changes: https://pyproj4.github.io/pyproj/stable/gotchas.html#axis-order-changes-in-proj-6\n",
      "  return _prepare_from_string(\" \".join(pjargs))\n",
      "/home/prativa/anaconda3/envs/py36/lib/python3.6/site-packages/pyproj/crs/crs.py:53: FutureWarning: '+init=<authority>:<code>' syntax is deprecated. '<authority>:<code>' is the preferred initialization method. When making the change, be mindful of axis order changes: https://pyproj4.github.io/pyproj/stable/gotchas.html#axis-order-changes-in-proj-6\n",
      "  return _prepare_from_string(\" \".join(pjargs))\n",
      "/home/prativa/anaconda3/envs/py36/lib/python3.6/site-packages/ipykernel_launcher.py:72: MatplotlibDeprecationWarning: You are modifying the state of a globally registered colormap. In future versions, you will not be able to modify a registered colormap in-place. To remove this warning, you can make a copy of the colormap first. cmap = copy.copy(mpl.cm.get_cmap(\"gray\"))\n",
      "/home/prativa/anaconda3/envs/py36/lib/python3.6/site-packages/pyproj/crs/crs.py:53: FutureWarning: '+init=<authority>:<code>' syntax is deprecated. '<authority>:<code>' is the preferred initialization method. When making the change, be mindful of axis order changes: https://pyproj4.github.io/pyproj/stable/gotchas.html#axis-order-changes-in-proj-6\n",
      "  return _prepare_from_string(\" \".join(pjargs))\n",
      "/home/prativa/anaconda3/envs/py36/lib/python3.6/site-packages/ipykernel_launcher.py:72: MatplotlibDeprecationWarning: You are modifying the state of a globally registered colormap. In future versions, you will not be able to modify a registered colormap in-place. To remove this warning, you can make a copy of the colormap first. cmap = copy.copy(mpl.cm.get_cmap(\"gray\"))\n"
     ]
    },
    {
     "name": "stderr",
     "output_type": "stream",
     "text": [
      "/home/prativa/anaconda3/envs/py36/lib/python3.6/site-packages/pyproj/crs/crs.py:53: FutureWarning: '+init=<authority>:<code>' syntax is deprecated. '<authority>:<code>' is the preferred initialization method. When making the change, be mindful of axis order changes: https://pyproj4.github.io/pyproj/stable/gotchas.html#axis-order-changes-in-proj-6\n",
      "  return _prepare_from_string(\" \".join(pjargs))\n",
      "/home/prativa/anaconda3/envs/py36/lib/python3.6/site-packages/pyproj/crs/crs.py:53: FutureWarning: '+init=<authority>:<code>' syntax is deprecated. '<authority>:<code>' is the preferred initialization method. When making the change, be mindful of axis order changes: https://pyproj4.github.io/pyproj/stable/gotchas.html#axis-order-changes-in-proj-6\n",
      "  return _prepare_from_string(\" \".join(pjargs))\n",
      "\n",
      "\n",
      "\n",
      " 65%|██████▌   | 360/550 [01:16<00:52,  3.65it/s]\u001b[A\u001b[A\u001b[A/home/prativa/anaconda3/envs/py36/lib/python3.6/site-packages/ipykernel_launcher.py:38: RuntimeWarning: More than 20 figures have been opened. Figures created through the pyplot interface (`matplotlib.pyplot.figure`) are retained until explicitly closed and may consume too much memory. (To control this warning, see the rcParam `figure.max_open_warning`).\n",
      "/home/prativa/anaconda3/envs/py36/lib/python3.6/site-packages/pyproj/crs/crs.py:53: FutureWarning: '+init=<authority>:<code>' syntax is deprecated. '<authority>:<code>' is the preferred initialization method. When making the change, be mindful of axis order changes: https://pyproj4.github.io/pyproj/stable/gotchas.html#axis-order-changes-in-proj-6\n",
      "  return _prepare_from_string(\" \".join(pjargs))\n",
      "/home/prativa/anaconda3/envs/py36/lib/python3.6/site-packages/pyproj/crs/crs.py:53: FutureWarning: '+init=<authority>:<code>' syntax is deprecated. '<authority>:<code>' is the preferred initialization method. When making the change, be mindful of axis order changes: https://pyproj4.github.io/pyproj/stable/gotchas.html#axis-order-changes-in-proj-6\n",
      "  return _prepare_from_string(\" \".join(pjargs))\n",
      "/home/prativa/anaconda3/envs/py36/lib/python3.6/site-packages/ipykernel_launcher.py:72: MatplotlibDeprecationWarning: You are modifying the state of a globally registered colormap. In future versions, you will not be able to modify a registered colormap in-place. To remove this warning, you can make a copy of the colormap first. cmap = copy.copy(mpl.cm.get_cmap(\"gray\"))\n",
      "/home/prativa/anaconda3/envs/py36/lib/python3.6/site-packages/pyproj/crs/crs.py:53: FutureWarning: '+init=<authority>:<code>' syntax is deprecated. '<authority>:<code>' is the preferred initialization method. When making the change, be mindful of axis order changes: https://pyproj4.github.io/pyproj/stable/gotchas.html#axis-order-changes-in-proj-6\n",
      "  return _prepare_from_string(\" \".join(pjargs))\n",
      "/home/prativa/anaconda3/envs/py36/lib/python3.6/site-packages/ipykernel_launcher.py:72: MatplotlibDeprecationWarning: You are modifying the state of a globally registered colormap. In future versions, you will not be able to modify a registered colormap in-place. To remove this warning, you can make a copy of the colormap first. cmap = copy.copy(mpl.cm.get_cmap(\"gray\"))\n",
      "/home/prativa/anaconda3/envs/py36/lib/python3.6/site-packages/ipykernel_launcher.py:72: MatplotlibDeprecationWarning: You are modifying the state of a globally registered colormap. In future versions, you will not be able to modify a registered colormap in-place. To remove this warning, you can make a copy of the colormap first. cmap = copy.copy(mpl.cm.get_cmap(\"gray\"))\n",
      "/home/prativa/anaconda3/envs/py36/lib/python3.6/site-packages/ipykernel_launcher.py:72: MatplotlibDeprecationWarning: You are modifying the state of a globally registered colormap. In future versions, you will not be able to modify a registered colormap in-place. To remove this warning, you can make a copy of the colormap first. cmap = copy.copy(mpl.cm.get_cmap(\"gray\"))\n",
      "/home/prativa/anaconda3/envs/py36/lib/python3.6/site-packages/ipykernel_launcher.py:72: MatplotlibDeprecationWarning: You are modifying the state of a globally registered colormap. In future versions, you will not be able to modify a registered colormap in-place. To remove this warning, you can make a copy of the colormap first. cmap = copy.copy(mpl.cm.get_cmap(\"gray\"))\n",
      "/home/prativa/anaconda3/envs/py36/lib/python3.6/site-packages/pyproj/crs/crs.py:53: FutureWarning: '+init=<authority>:<code>' syntax is deprecated. '<authority>:<code>' is the preferred initialization method. When making the change, be mindful of axis order changes: https://pyproj4.github.io/pyproj/stable/gotchas.html#axis-order-changes-in-proj-6\n",
      "  return _prepare_from_string(\" \".join(pjargs))\n",
      "\n",
      "\n",
      "\n",
      " 66%|██████▌   | 361/550 [01:17<01:45,  1.80it/s]\u001b[A\u001b[A\u001b[A/home/prativa/anaconda3/envs/py36/lib/python3.6/site-packages/ipykernel_launcher.py:72: MatplotlibDeprecationWarning: You are modifying the state of a globally registered colormap. In future versions, you will not be able to modify a registered colormap in-place. To remove this warning, you can make a copy of the colormap first. cmap = copy.copy(mpl.cm.get_cmap(\"gray\"))\n",
      "\n",
      "\n",
      "\n",
      " 66%|██████▌   | 362/550 [01:17<01:35,  1.97it/s]\u001b[A\u001b[A\u001b[A/home/prativa/anaconda3/envs/py36/lib/python3.6/site-packages/pyproj/crs/crs.py:53: FutureWarning: '+init=<authority>:<code>' syntax is deprecated. '<authority>:<code>' is the preferred initialization method. When making the change, be mindful of axis order changes: https://pyproj4.github.io/pyproj/stable/gotchas.html#axis-order-changes-in-proj-6\n",
      "  return _prepare_from_string(\" \".join(pjargs))\n",
      "\n",
      "\n",
      "\n",
      " 66%|██████▌   | 364/550 [01:17<01:10,  2.64it/s]\u001b[A\u001b[A\u001b[A/home/prativa/anaconda3/envs/py36/lib/python3.6/site-packages/pyproj/crs/crs.py:53: FutureWarning: '+init=<authority>:<code>' syntax is deprecated. '<authority>:<code>' is the preferred initialization method. When making the change, be mindful of axis order changes: https://pyproj4.github.io/pyproj/stable/gotchas.html#axis-order-changes-in-proj-6\n",
      "  return _prepare_from_string(\" \".join(pjargs))\n",
      "/home/prativa/anaconda3/envs/py36/lib/python3.6/site-packages/pyproj/crs/crs.py:53: FutureWarning: '+init=<authority>:<code>' syntax is deprecated. '<authority>:<code>' is the preferred initialization method. When making the change, be mindful of axis order changes: https://pyproj4.github.io/pyproj/stable/gotchas.html#axis-order-changes-in-proj-6\n",
      "  return _prepare_from_string(\" \".join(pjargs))\n",
      "/home/prativa/anaconda3/envs/py36/lib/python3.6/site-packages/pyproj/crs/crs.py:53: FutureWarning: '+init=<authority>:<code>' syntax is deprecated. '<authority>:<code>' is the preferred initialization method. When making the change, be mindful of axis order changes: https://pyproj4.github.io/pyproj/stable/gotchas.html#axis-order-changes-in-proj-6\n",
      "  return _prepare_from_string(\" \".join(pjargs))\n",
      "/home/prativa/anaconda3/envs/py36/lib/python3.6/site-packages/pyproj/crs/crs.py:53: FutureWarning: '+init=<authority>:<code>' syntax is deprecated. '<authority>:<code>' is the preferred initialization method. When making the change, be mindful of axis order changes: https://pyproj4.github.io/pyproj/stable/gotchas.html#axis-order-changes-in-proj-6\n",
      "  return _prepare_from_string(\" \".join(pjargs))\n",
      "/home/prativa/anaconda3/envs/py36/lib/python3.6/site-packages/pyproj/crs/crs.py:53: FutureWarning: '+init=<authority>:<code>' syntax is deprecated. '<authority>:<code>' is the preferred initialization method. When making the change, be mindful of axis order changes: https://pyproj4.github.io/pyproj/stable/gotchas.html#axis-order-changes-in-proj-6\n",
      "  return _prepare_from_string(\" \".join(pjargs))\n",
      "\n",
      "\n",
      "\n",
      " 66%|██████▋   | 365/550 [01:18<01:29,  2.07it/s]\u001b[A\u001b[A\u001b[A/home/prativa/anaconda3/envs/py36/lib/python3.6/site-packages/pyproj/crs/crs.py:53: FutureWarning: '+init=<authority>:<code>' syntax is deprecated. '<authority>:<code>' is the preferred initialization method. When making the change, be mindful of axis order changes: https://pyproj4.github.io/pyproj/stable/gotchas.html#axis-order-changes-in-proj-6\n",
      "  return _prepare_from_string(\" \".join(pjargs))\n",
      "/home/prativa/anaconda3/envs/py36/lib/python3.6/site-packages/pyproj/crs/crs.py:53: FutureWarning: '+init=<authority>:<code>' syntax is deprecated. '<authority>:<code>' is the preferred initialization method. When making the change, be mindful of axis order changes: https://pyproj4.github.io/pyproj/stable/gotchas.html#axis-order-changes-in-proj-6\n",
      "  return _prepare_from_string(\" \".join(pjargs))\n"
     ]
    },
    {
     "name": "stderr",
     "output_type": "stream",
     "text": [
      "/home/prativa/anaconda3/envs/py36/lib/python3.6/site-packages/ipykernel_launcher.py:72: MatplotlibDeprecationWarning: You are modifying the state of a globally registered colormap. In future versions, you will not be able to modify a registered colormap in-place. To remove this warning, you can make a copy of the colormap first. cmap = copy.copy(mpl.cm.get_cmap(\"gray\"))\n",
      "\n",
      "\n",
      "\n",
      " 67%|██████▋   | 366/550 [01:18<01:12,  2.55it/s]\u001b[A\u001b[A\u001b[A\n",
      "\n",
      "\n",
      " 67%|██████▋   | 369/550 [01:18<00:51,  3.49it/s]\u001b[A\u001b[A\u001b[A/home/prativa/anaconda3/envs/py36/lib/python3.6/site-packages/pyproj/crs/crs.py:53: FutureWarning: '+init=<authority>:<code>' syntax is deprecated. '<authority>:<code>' is the preferred initialization method. When making the change, be mindful of axis order changes: https://pyproj4.github.io/pyproj/stable/gotchas.html#axis-order-changes-in-proj-6\n",
      "  return _prepare_from_string(\" \".join(pjargs))\n",
      "/home/prativa/anaconda3/envs/py36/lib/python3.6/site-packages/ipykernel_launcher.py:72: MatplotlibDeprecationWarning: You are modifying the state of a globally registered colormap. In future versions, you will not be able to modify a registered colormap in-place. To remove this warning, you can make a copy of the colormap first. cmap = copy.copy(mpl.cm.get_cmap(\"gray\"))\n",
      "/home/prativa/anaconda3/envs/py36/lib/python3.6/site-packages/pyproj/crs/crs.py:53: FutureWarning: '+init=<authority>:<code>' syntax is deprecated. '<authority>:<code>' is the preferred initialization method. When making the change, be mindful of axis order changes: https://pyproj4.github.io/pyproj/stable/gotchas.html#axis-order-changes-in-proj-6\n",
      "  return _prepare_from_string(\" \".join(pjargs))\n",
      "/home/prativa/anaconda3/envs/py36/lib/python3.6/site-packages/pyproj/crs/crs.py:53: FutureWarning: '+init=<authority>:<code>' syntax is deprecated. '<authority>:<code>' is the preferred initialization method. When making the change, be mindful of axis order changes: https://pyproj4.github.io/pyproj/stable/gotchas.html#axis-order-changes-in-proj-6\n",
      "  return _prepare_from_string(\" \".join(pjargs))\n",
      "/home/prativa/anaconda3/envs/py36/lib/python3.6/site-packages/ipykernel_launcher.py:72: MatplotlibDeprecationWarning: You are modifying the state of a globally registered colormap. In future versions, you will not be able to modify a registered colormap in-place. To remove this warning, you can make a copy of the colormap first. cmap = copy.copy(mpl.cm.get_cmap(\"gray\"))\n",
      "/home/prativa/anaconda3/envs/py36/lib/python3.6/site-packages/ipykernel_launcher.py:72: MatplotlibDeprecationWarning: You are modifying the state of a globally registered colormap. In future versions, you will not be able to modify a registered colormap in-place. To remove this warning, you can make a copy of the colormap first. cmap = copy.copy(mpl.cm.get_cmap(\"gray\"))\n",
      "/home/prativa/anaconda3/envs/py36/lib/python3.6/site-packages/pyproj/crs/crs.py:53: FutureWarning: '+init=<authority>:<code>' syntax is deprecated. '<authority>:<code>' is the preferred initialization method. When making the change, be mindful of axis order changes: https://pyproj4.github.io/pyproj/stable/gotchas.html#axis-order-changes-in-proj-6\n",
      "  return _prepare_from_string(\" \".join(pjargs))\n",
      "/home/prativa/anaconda3/envs/py36/lib/python3.6/site-packages/pyproj/crs/crs.py:53: FutureWarning: '+init=<authority>:<code>' syntax is deprecated. '<authority>:<code>' is the preferred initialization method. When making the change, be mindful of axis order changes: https://pyproj4.github.io/pyproj/stable/gotchas.html#axis-order-changes-in-proj-6\n",
      "  return _prepare_from_string(\" \".join(pjargs))\n",
      "/home/prativa/anaconda3/envs/py36/lib/python3.6/site-packages/pyproj/crs/crs.py:53: FutureWarning: '+init=<authority>:<code>' syntax is deprecated. '<authority>:<code>' is the preferred initialization method. When making the change, be mindful of axis order changes: https://pyproj4.github.io/pyproj/stable/gotchas.html#axis-order-changes-in-proj-6\n",
      "  return _prepare_from_string(\" \".join(pjargs))\n",
      "/home/prativa/anaconda3/envs/py36/lib/python3.6/site-packages/pyproj/crs/crs.py:53: FutureWarning: '+init=<authority>:<code>' syntax is deprecated. '<authority>:<code>' is the preferred initialization method. When making the change, be mindful of axis order changes: https://pyproj4.github.io/pyproj/stable/gotchas.html#axis-order-changes-in-proj-6\n",
      "  return _prepare_from_string(\" \".join(pjargs))\n",
      "/home/prativa/anaconda3/envs/py36/lib/python3.6/site-packages/pyproj/crs/crs.py:53: FutureWarning: '+init=<authority>:<code>' syntax is deprecated. '<authority>:<code>' is the preferred initialization method. When making the change, be mindful of axis order changes: https://pyproj4.github.io/pyproj/stable/gotchas.html#axis-order-changes-in-proj-6\n",
      "  return _prepare_from_string(\" \".join(pjargs))\n",
      "/home/prativa/anaconda3/envs/py36/lib/python3.6/site-packages/pyproj/crs/crs.py:53: FutureWarning: '+init=<authority>:<code>' syntax is deprecated. '<authority>:<code>' is the preferred initialization method. When making the change, be mindful of axis order changes: https://pyproj4.github.io/pyproj/stable/gotchas.html#axis-order-changes-in-proj-6\n",
      "  return _prepare_from_string(\" \".join(pjargs))\n",
      "/home/prativa/anaconda3/envs/py36/lib/python3.6/site-packages/pyproj/crs/crs.py:53: FutureWarning: '+init=<authority>:<code>' syntax is deprecated. '<authority>:<code>' is the preferred initialization method. When making the change, be mindful of axis order changes: https://pyproj4.github.io/pyproj/stable/gotchas.html#axis-order-changes-in-proj-6\n",
      "  return _prepare_from_string(\" \".join(pjargs))\n",
      "/home/prativa/anaconda3/envs/py36/lib/python3.6/site-packages/ipykernel_launcher.py:72: MatplotlibDeprecationWarning: You are modifying the state of a globally registered colormap. In future versions, you will not be able to modify a registered colormap in-place. To remove this warning, you can make a copy of the colormap first. cmap = copy.copy(mpl.cm.get_cmap(\"gray\"))\n",
      "/home/prativa/anaconda3/envs/py36/lib/python3.6/site-packages/pyproj/crs/crs.py:53: FutureWarning: '+init=<authority>:<code>' syntax is deprecated. '<authority>:<code>' is the preferred initialization method. When making the change, be mindful of axis order changes: https://pyproj4.github.io/pyproj/stable/gotchas.html#axis-order-changes-in-proj-6\n",
      "  return _prepare_from_string(\" \".join(pjargs))\n",
      "/home/prativa/anaconda3/envs/py36/lib/python3.6/site-packages/ipykernel_launcher.py:38: RuntimeWarning: More than 20 figures have been opened. Figures created through the pyplot interface (`matplotlib.pyplot.figure`) are retained until explicitly closed and may consume too much memory. (To control this warning, see the rcParam `figure.max_open_warning`).\n",
      "/home/prativa/anaconda3/envs/py36/lib/python3.6/site-packages/pyproj/crs/crs.py:53: FutureWarning: '+init=<authority>:<code>' syntax is deprecated. '<authority>:<code>' is the preferred initialization method. When making the change, be mindful of axis order changes: https://pyproj4.github.io/pyproj/stable/gotchas.html#axis-order-changes-in-proj-6\n",
      "  return _prepare_from_string(\" \".join(pjargs))\n",
      "/home/prativa/anaconda3/envs/py36/lib/python3.6/site-packages/ipykernel_launcher.py:72: MatplotlibDeprecationWarning: You are modifying the state of a globally registered colormap. In future versions, you will not be able to modify a registered colormap in-place. To remove this warning, you can make a copy of the colormap first. cmap = copy.copy(mpl.cm.get_cmap(\"gray\"))\n",
      "/home/prativa/anaconda3/envs/py36/lib/python3.6/site-packages/ipykernel_launcher.py:72: MatplotlibDeprecationWarning: You are modifying the state of a globally registered colormap. In future versions, you will not be able to modify a registered colormap in-place. To remove this warning, you can make a copy of the colormap first. cmap = copy.copy(mpl.cm.get_cmap(\"gray\"))\n",
      "/home/prativa/anaconda3/envs/py36/lib/python3.6/site-packages/ipykernel_launcher.py:72: MatplotlibDeprecationWarning: You are modifying the state of a globally registered colormap. In future versions, you will not be able to modify a registered colormap in-place. To remove this warning, you can make a copy of the colormap first. cmap = copy.copy(mpl.cm.get_cmap(\"gray\"))\n"
     ]
    },
    {
     "name": "stderr",
     "output_type": "stream",
     "text": [
      "/home/prativa/anaconda3/envs/py36/lib/python3.6/site-packages/ipykernel_launcher.py:72: MatplotlibDeprecationWarning: You are modifying the state of a globally registered colormap. In future versions, you will not be able to modify a registered colormap in-place. To remove this warning, you can make a copy of the colormap first. cmap = copy.copy(mpl.cm.get_cmap(\"gray\"))\n",
      "/home/prativa/anaconda3/envs/py36/lib/python3.6/site-packages/ipykernel_launcher.py:72: MatplotlibDeprecationWarning: You are modifying the state of a globally registered colormap. In future versions, you will not be able to modify a registered colormap in-place. To remove this warning, you can make a copy of the colormap first. cmap = copy.copy(mpl.cm.get_cmap(\"gray\"))\n",
      "\n",
      "\n",
      "\n",
      " 67%|██████▋   | 371/550 [01:21<01:40,  1.78it/s]\u001b[A\u001b[A\u001b[A\n",
      "\n",
      "\n",
      " 68%|██████▊   | 373/550 [01:21<01:14,  2.38it/s]\u001b[A\u001b[A\u001b[A/home/prativa/anaconda3/envs/py36/lib/python3.6/site-packages/pyproj/crs/crs.py:53: FutureWarning: '+init=<authority>:<code>' syntax is deprecated. '<authority>:<code>' is the preferred initialization method. When making the change, be mindful of axis order changes: https://pyproj4.github.io/pyproj/stable/gotchas.html#axis-order-changes-in-proj-6\n",
      "  return _prepare_from_string(\" \".join(pjargs))\n",
      "/home/prativa/anaconda3/envs/py36/lib/python3.6/site-packages/pyproj/crs/crs.py:53: FutureWarning: '+init=<authority>:<code>' syntax is deprecated. '<authority>:<code>' is the preferred initialization method. When making the change, be mindful of axis order changes: https://pyproj4.github.io/pyproj/stable/gotchas.html#axis-order-changes-in-proj-6\n",
      "  return _prepare_from_string(\" \".join(pjargs))\n",
      "/home/prativa/anaconda3/envs/py36/lib/python3.6/site-packages/pyproj/crs/crs.py:53: FutureWarning: '+init=<authority>:<code>' syntax is deprecated. '<authority>:<code>' is the preferred initialization method. When making the change, be mindful of axis order changes: https://pyproj4.github.io/pyproj/stable/gotchas.html#axis-order-changes-in-proj-6\n",
      "  return _prepare_from_string(\" \".join(pjargs))\n",
      "/home/prativa/anaconda3/envs/py36/lib/python3.6/site-packages/pyproj/crs/crs.py:53: FutureWarning: '+init=<authority>:<code>' syntax is deprecated. '<authority>:<code>' is the preferred initialization method. When making the change, be mindful of axis order changes: https://pyproj4.github.io/pyproj/stable/gotchas.html#axis-order-changes-in-proj-6\n",
      "  return _prepare_from_string(\" \".join(pjargs))\n",
      "\n",
      "\n",
      "\n",
      " 68%|██████▊   | 375/550 [01:22<01:03,  2.74it/s]\u001b[A\u001b[A\u001b[A/home/prativa/anaconda3/envs/py36/lib/python3.6/site-packages/pyproj/crs/crs.py:53: FutureWarning: '+init=<authority>:<code>' syntax is deprecated. '<authority>:<code>' is the preferred initialization method. When making the change, be mindful of axis order changes: https://pyproj4.github.io/pyproj/stable/gotchas.html#axis-order-changes-in-proj-6\n",
      "  return _prepare_from_string(\" \".join(pjargs))\n",
      "/home/prativa/anaconda3/envs/py36/lib/python3.6/site-packages/pyproj/crs/crs.py:53: FutureWarning: '+init=<authority>:<code>' syntax is deprecated. '<authority>:<code>' is the preferred initialization method. When making the change, be mindful of axis order changes: https://pyproj4.github.io/pyproj/stable/gotchas.html#axis-order-changes-in-proj-6\n",
      "  return _prepare_from_string(\" \".join(pjargs))\n",
      "/home/prativa/anaconda3/envs/py36/lib/python3.6/site-packages/pyproj/crs/crs.py:53: FutureWarning: '+init=<authority>:<code>' syntax is deprecated. '<authority>:<code>' is the preferred initialization method. When making the change, be mindful of axis order changes: https://pyproj4.github.io/pyproj/stable/gotchas.html#axis-order-changes-in-proj-6\n",
      "  return _prepare_from_string(\" \".join(pjargs))\n",
      "/home/prativa/anaconda3/envs/py36/lib/python3.6/site-packages/skimage/io/_io.py:141: UserWarning: data/AOI_4_Shanghai_Roads_Train/RGB-PanSharpen_mask/SN3_roads_train_AOI_4_Shanghai_geojson_roads_img67.jpg is a low contrast image\n",
      "  warn('%s is a low contrast image' % fname)\n",
      "\n",
      "\n",
      "\n",
      " 68%|██████▊   | 376/550 [01:22<00:59,  2.95it/s]\u001b[A\u001b[A\u001b[A/home/prativa/anaconda3/envs/py36/lib/python3.6/site-packages/pyproj/crs/crs.py:53: FutureWarning: '+init=<authority>:<code>' syntax is deprecated. '<authority>:<code>' is the preferred initialization method. When making the change, be mindful of axis order changes: https://pyproj4.github.io/pyproj/stable/gotchas.html#axis-order-changes-in-proj-6\n",
      "  return _prepare_from_string(\" \".join(pjargs))\n",
      "/home/prativa/anaconda3/envs/py36/lib/python3.6/site-packages/pyproj/crs/crs.py:53: FutureWarning: '+init=<authority>:<code>' syntax is deprecated. '<authority>:<code>' is the preferred initialization method. When making the change, be mindful of axis order changes: https://pyproj4.github.io/pyproj/stable/gotchas.html#axis-order-changes-in-proj-6\n",
      "  return _prepare_from_string(\" \".join(pjargs))\n",
      "\n",
      "\n",
      "\n",
      " 69%|██████▉   | 379/550 [01:22<00:46,  3.71it/s]\u001b[A\u001b[A\u001b[A/home/prativa/anaconda3/envs/py36/lib/python3.6/site-packages/ipykernel_launcher.py:72: MatplotlibDeprecationWarning: You are modifying the state of a globally registered colormap. In future versions, you will not be able to modify a registered colormap in-place. To remove this warning, you can make a copy of the colormap first. cmap = copy.copy(mpl.cm.get_cmap(\"gray\"))\n",
      "/home/prativa/anaconda3/envs/py36/lib/python3.6/site-packages/ipykernel_launcher.py:72: MatplotlibDeprecationWarning: You are modifying the state of a globally registered colormap. In future versions, you will not be able to modify a registered colormap in-place. To remove this warning, you can make a copy of the colormap first. cmap = copy.copy(mpl.cm.get_cmap(\"gray\"))\n",
      "/home/prativa/anaconda3/envs/py36/lib/python3.6/site-packages/pyproj/crs/crs.py:53: FutureWarning: '+init=<authority>:<code>' syntax is deprecated. '<authority>:<code>' is the preferred initialization method. When making the change, be mindful of axis order changes: https://pyproj4.github.io/pyproj/stable/gotchas.html#axis-order-changes-in-proj-6\n",
      "  return _prepare_from_string(\" \".join(pjargs))\n",
      "/home/prativa/anaconda3/envs/py36/lib/python3.6/site-packages/pyproj/crs/crs.py:53: FutureWarning: '+init=<authority>:<code>' syntax is deprecated. '<authority>:<code>' is the preferred initialization method. When making the change, be mindful of axis order changes: https://pyproj4.github.io/pyproj/stable/gotchas.html#axis-order-changes-in-proj-6\n",
      "  return _prepare_from_string(\" \".join(pjargs))\n",
      "/home/prativa/anaconda3/envs/py36/lib/python3.6/site-packages/pyproj/crs/crs.py:53: FutureWarning: '+init=<authority>:<code>' syntax is deprecated. '<authority>:<code>' is the preferred initialization method. When making the change, be mindful of axis order changes: https://pyproj4.github.io/pyproj/stable/gotchas.html#axis-order-changes-in-proj-6\n",
      "  return _prepare_from_string(\" \".join(pjargs))\n",
      "/home/prativa/anaconda3/envs/py36/lib/python3.6/site-packages/ipykernel_launcher.py:72: MatplotlibDeprecationWarning: You are modifying the state of a globally registered colormap. In future versions, you will not be able to modify a registered colormap in-place. To remove this warning, you can make a copy of the colormap first. cmap = copy.copy(mpl.cm.get_cmap(\"gray\"))\n",
      "/home/prativa/anaconda3/envs/py36/lib/python3.6/site-packages/ipykernel_launcher.py:72: MatplotlibDeprecationWarning: You are modifying the state of a globally registered colormap. In future versions, you will not be able to modify a registered colormap in-place. To remove this warning, you can make a copy of the colormap first. cmap = copy.copy(mpl.cm.get_cmap(\"gray\"))\n",
      "/home/prativa/anaconda3/envs/py36/lib/python3.6/site-packages/pyproj/crs/crs.py:53: FutureWarning: '+init=<authority>:<code>' syntax is deprecated. '<authority>:<code>' is the preferred initialization method. When making the change, be mindful of axis order changes: https://pyproj4.github.io/pyproj/stable/gotchas.html#axis-order-changes-in-proj-6\n",
      "  return _prepare_from_string(\" \".join(pjargs))\n",
      "/home/prativa/anaconda3/envs/py36/lib/python3.6/site-packages/pyproj/crs/crs.py:53: FutureWarning: '+init=<authority>:<code>' syntax is deprecated. '<authority>:<code>' is the preferred initialization method. When making the change, be mindful of axis order changes: https://pyproj4.github.io/pyproj/stable/gotchas.html#axis-order-changes-in-proj-6\n",
      "  return _prepare_from_string(\" \".join(pjargs))\n"
     ]
    },
    {
     "name": "stderr",
     "output_type": "stream",
     "text": [
      "/home/prativa/anaconda3/envs/py36/lib/python3.6/site-packages/pyproj/crs/crs.py:53: FutureWarning: '+init=<authority>:<code>' syntax is deprecated. '<authority>:<code>' is the preferred initialization method. When making the change, be mindful of axis order changes: https://pyproj4.github.io/pyproj/stable/gotchas.html#axis-order-changes-in-proj-6\n",
      "  return _prepare_from_string(\" \".join(pjargs))\n",
      "/home/prativa/anaconda3/envs/py36/lib/python3.6/site-packages/pyproj/crs/crs.py:53: FutureWarning: '+init=<authority>:<code>' syntax is deprecated. '<authority>:<code>' is the preferred initialization method. When making the change, be mindful of axis order changes: https://pyproj4.github.io/pyproj/stable/gotchas.html#axis-order-changes-in-proj-6\n",
      "  return _prepare_from_string(\" \".join(pjargs))\n",
      "/home/prativa/anaconda3/envs/py36/lib/python3.6/site-packages/pyproj/crs/crs.py:53: FutureWarning: '+init=<authority>:<code>' syntax is deprecated. '<authority>:<code>' is the preferred initialization method. When making the change, be mindful of axis order changes: https://pyproj4.github.io/pyproj/stable/gotchas.html#axis-order-changes-in-proj-6\n",
      "  return _prepare_from_string(\" \".join(pjargs))\n",
      "/home/prativa/anaconda3/envs/py36/lib/python3.6/site-packages/pyproj/crs/crs.py:53: FutureWarning: '+init=<authority>:<code>' syntax is deprecated. '<authority>:<code>' is the preferred initialization method. When making the change, be mindful of axis order changes: https://pyproj4.github.io/pyproj/stable/gotchas.html#axis-order-changes-in-proj-6\n",
      "  return _prepare_from_string(\" \".join(pjargs))\n",
      "/home/prativa/anaconda3/envs/py36/lib/python3.6/site-packages/ipykernel_launcher.py:38: RuntimeWarning: More than 20 figures have been opened. Figures created through the pyplot interface (`matplotlib.pyplot.figure`) are retained until explicitly closed and may consume too much memory. (To control this warning, see the rcParam `figure.max_open_warning`).\n",
      "/home/prativa/anaconda3/envs/py36/lib/python3.6/site-packages/pyproj/crs/crs.py:53: FutureWarning: '+init=<authority>:<code>' syntax is deprecated. '<authority>:<code>' is the preferred initialization method. When making the change, be mindful of axis order changes: https://pyproj4.github.io/pyproj/stable/gotchas.html#axis-order-changes-in-proj-6\n",
      "  return _prepare_from_string(\" \".join(pjargs))\n",
      "/home/prativa/anaconda3/envs/py36/lib/python3.6/site-packages/pyproj/crs/crs.py:53: FutureWarning: '+init=<authority>:<code>' syntax is deprecated. '<authority>:<code>' is the preferred initialization method. When making the change, be mindful of axis order changes: https://pyproj4.github.io/pyproj/stable/gotchas.html#axis-order-changes-in-proj-6\n",
      "  return _prepare_from_string(\" \".join(pjargs))\n",
      "/home/prativa/anaconda3/envs/py36/lib/python3.6/site-packages/ipykernel_launcher.py:72: MatplotlibDeprecationWarning: You are modifying the state of a globally registered colormap. In future versions, you will not be able to modify a registered colormap in-place. To remove this warning, you can make a copy of the colormap first. cmap = copy.copy(mpl.cm.get_cmap(\"gray\"))\n",
      "/home/prativa/anaconda3/envs/py36/lib/python3.6/site-packages/ipykernel_launcher.py:72: MatplotlibDeprecationWarning: You are modifying the state of a globally registered colormap. In future versions, you will not be able to modify a registered colormap in-place. To remove this warning, you can make a copy of the colormap first. cmap = copy.copy(mpl.cm.get_cmap(\"gray\"))\n",
      "/home/prativa/anaconda3/envs/py36/lib/python3.6/site-packages/ipykernel_launcher.py:72: MatplotlibDeprecationWarning: You are modifying the state of a globally registered colormap. In future versions, you will not be able to modify a registered colormap in-place. To remove this warning, you can make a copy of the colormap first. cmap = copy.copy(mpl.cm.get_cmap(\"gray\"))\n",
      "/home/prativa/anaconda3/envs/py36/lib/python3.6/site-packages/ipykernel_launcher.py:72: MatplotlibDeprecationWarning: You are modifying the state of a globally registered colormap. In future versions, you will not be able to modify a registered colormap in-place. To remove this warning, you can make a copy of the colormap first. cmap = copy.copy(mpl.cm.get_cmap(\"gray\"))\n",
      "/home/prativa/anaconda3/envs/py36/lib/python3.6/site-packages/ipykernel_launcher.py:72: MatplotlibDeprecationWarning: You are modifying the state of a globally registered colormap. In future versions, you will not be able to modify a registered colormap in-place. To remove this warning, you can make a copy of the colormap first. cmap = copy.copy(mpl.cm.get_cmap(\"gray\"))\n",
      "/home/prativa/anaconda3/envs/py36/lib/python3.6/site-packages/ipykernel_launcher.py:72: MatplotlibDeprecationWarning: You are modifying the state of a globally registered colormap. In future versions, you will not be able to modify a registered colormap in-place. To remove this warning, you can make a copy of the colormap first. cmap = copy.copy(mpl.cm.get_cmap(\"gray\"))\n",
      "\n",
      "\n",
      "\n",
      " 69%|██████▉   | 381/550 [01:24<01:27,  1.93it/s]\u001b[A\u001b[A\u001b[A/home/prativa/anaconda3/envs/py36/lib/python3.6/site-packages/pyproj/crs/crs.py:53: FutureWarning: '+init=<authority>:<code>' syntax is deprecated. '<authority>:<code>' is the preferred initialization method. When making the change, be mindful of axis order changes: https://pyproj4.github.io/pyproj/stable/gotchas.html#axis-order-changes-in-proj-6\n",
      "  return _prepare_from_string(\" \".join(pjargs))\n",
      "\n",
      "\n",
      "\n",
      " 70%|██████▉   | 383/550 [01:25<01:07,  2.46it/s]\u001b[A\u001b[A\u001b[A/home/prativa/anaconda3/envs/py36/lib/python3.6/site-packages/pyproj/crs/crs.py:53: FutureWarning: '+init=<authority>:<code>' syntax is deprecated. '<authority>:<code>' is the preferred initialization method. When making the change, be mindful of axis order changes: https://pyproj4.github.io/pyproj/stable/gotchas.html#axis-order-changes-in-proj-6\n",
      "  return _prepare_from_string(\" \".join(pjargs))\n",
      "/home/prativa/anaconda3/envs/py36/lib/python3.6/site-packages/pyproj/crs/crs.py:53: FutureWarning: '+init=<authority>:<code>' syntax is deprecated. '<authority>:<code>' is the preferred initialization method. When making the change, be mindful of axis order changes: https://pyproj4.github.io/pyproj/stable/gotchas.html#axis-order-changes-in-proj-6\n",
      "  return _prepare_from_string(\" \".join(pjargs))\n",
      "/home/prativa/anaconda3/envs/py36/lib/python3.6/site-packages/pyproj/crs/crs.py:53: FutureWarning: '+init=<authority>:<code>' syntax is deprecated. '<authority>:<code>' is the preferred initialization method. When making the change, be mindful of axis order changes: https://pyproj4.github.io/pyproj/stable/gotchas.html#axis-order-changes-in-proj-6\n",
      "  return _prepare_from_string(\" \".join(pjargs))\n",
      "\n",
      "\n",
      "\n",
      " 70%|███████   | 385/550 [01:25<00:54,  3.05it/s]\u001b[A\u001b[A\u001b[A/home/prativa/anaconda3/envs/py36/lib/python3.6/site-packages/pyproj/crs/crs.py:53: FutureWarning: '+init=<authority>:<code>' syntax is deprecated. '<authority>:<code>' is the preferred initialization method. When making the change, be mindful of axis order changes: https://pyproj4.github.io/pyproj/stable/gotchas.html#axis-order-changes-in-proj-6\n",
      "  return _prepare_from_string(\" \".join(pjargs))\n",
      "/home/prativa/anaconda3/envs/py36/lib/python3.6/site-packages/pyproj/crs/crs.py:53: FutureWarning: '+init=<authority>:<code>' syntax is deprecated. '<authority>:<code>' is the preferred initialization method. When making the change, be mindful of axis order changes: https://pyproj4.github.io/pyproj/stable/gotchas.html#axis-order-changes-in-proj-6\n",
      "  return _prepare_from_string(\" \".join(pjargs))\n",
      "/home/prativa/anaconda3/envs/py36/lib/python3.6/site-packages/pyproj/crs/crs.py:53: FutureWarning: '+init=<authority>:<code>' syntax is deprecated. '<authority>:<code>' is the preferred initialization method. When making the change, be mindful of axis order changes: https://pyproj4.github.io/pyproj/stable/gotchas.html#axis-order-changes-in-proj-6\n",
      "  return _prepare_from_string(\" \".join(pjargs))\n",
      "/home/prativa/anaconda3/envs/py36/lib/python3.6/site-packages/ipykernel_launcher.py:72: MatplotlibDeprecationWarning: You are modifying the state of a globally registered colormap. In future versions, you will not be able to modify a registered colormap in-place. To remove this warning, you can make a copy of the colormap first. cmap = copy.copy(mpl.cm.get_cmap(\"gray\"))\n"
     ]
    },
    {
     "name": "stderr",
     "output_type": "stream",
     "text": [
      "\n",
      "\n",
      "\n",
      " 70%|███████   | 386/550 [01:25<00:52,  3.14it/s]/home/prativa/anaconda3/envs/py36/lib/python3.6/site-packages/pyproj/crs/crs.py:53: FutureWarning: '+init=<authority>:<code>' syntax is deprecated. '<authority>:<code>' is the preferred initialization method. When making the change, be mindful of axis order changes: https://pyproj4.github.io/pyproj/stable/gotchas.html#axis-order-changes-in-proj-6\n",
      "  return _prepare_from_string(\" \".join(pjargs))\n",
      "\u001b[A\u001b[A\u001b[A\n",
      "\n",
      "\n",
      " 70%|███████   | 387/550 [01:25<00:45,  3.60it/s]\u001b[A\u001b[A\u001b[A/home/prativa/anaconda3/envs/py36/lib/python3.6/site-packages/pyproj/crs/crs.py:53: FutureWarning: '+init=<authority>:<code>' syntax is deprecated. '<authority>:<code>' is the preferred initialization method. When making the change, be mindful of axis order changes: https://pyproj4.github.io/pyproj/stable/gotchas.html#axis-order-changes-in-proj-6\n",
      "  return _prepare_from_string(\" \".join(pjargs))\n",
      "/home/prativa/anaconda3/envs/py36/lib/python3.6/site-packages/ipykernel_launcher.py:72: MatplotlibDeprecationWarning: You are modifying the state of a globally registered colormap. In future versions, you will not be able to modify a registered colormap in-place. To remove this warning, you can make a copy of the colormap first. cmap = copy.copy(mpl.cm.get_cmap(\"gray\"))\n",
      "/home/prativa/anaconda3/envs/py36/lib/python3.6/site-packages/pyproj/crs/crs.py:53: FutureWarning: '+init=<authority>:<code>' syntax is deprecated. '<authority>:<code>' is the preferred initialization method. When making the change, be mindful of axis order changes: https://pyproj4.github.io/pyproj/stable/gotchas.html#axis-order-changes-in-proj-6\n",
      "  return _prepare_from_string(\" \".join(pjargs))\n",
      "/home/prativa/anaconda3/envs/py36/lib/python3.6/site-packages/pyproj/crs/crs.py:53: FutureWarning: '+init=<authority>:<code>' syntax is deprecated. '<authority>:<code>' is the preferred initialization method. When making the change, be mindful of axis order changes: https://pyproj4.github.io/pyproj/stable/gotchas.html#axis-order-changes-in-proj-6\n",
      "  return _prepare_from_string(\" \".join(pjargs))\n",
      "/home/prativa/anaconda3/envs/py36/lib/python3.6/site-packages/ipykernel_launcher.py:72: MatplotlibDeprecationWarning: You are modifying the state of a globally registered colormap. In future versions, you will not be able to modify a registered colormap in-place. To remove this warning, you can make a copy of the colormap first. cmap = copy.copy(mpl.cm.get_cmap(\"gray\"))\n",
      "/home/prativa/anaconda3/envs/py36/lib/python3.6/site-packages/pyproj/crs/crs.py:53: FutureWarning: '+init=<authority>:<code>' syntax is deprecated. '<authority>:<code>' is the preferred initialization method. When making the change, be mindful of axis order changes: https://pyproj4.github.io/pyproj/stable/gotchas.html#axis-order-changes-in-proj-6\n",
      "  return _prepare_from_string(\" \".join(pjargs))\n",
      "/home/prativa/anaconda3/envs/py36/lib/python3.6/site-packages/pyproj/crs/crs.py:53: FutureWarning: '+init=<authority>:<code>' syntax is deprecated. '<authority>:<code>' is the preferred initialization method. When making the change, be mindful of axis order changes: https://pyproj4.github.io/pyproj/stable/gotchas.html#axis-order-changes-in-proj-6\n",
      "  return _prepare_from_string(\" \".join(pjargs))\n",
      "\n",
      "\n",
      "\n",
      " 71%|███████   | 389/550 [01:26<00:42,  3.76it/s]\u001b[A\u001b[A\u001b[A/home/prativa/anaconda3/envs/py36/lib/python3.6/site-packages/pyproj/crs/crs.py:53: FutureWarning: '+init=<authority>:<code>' syntax is deprecated. '<authority>:<code>' is the preferred initialization method. When making the change, be mindful of axis order changes: https://pyproj4.github.io/pyproj/stable/gotchas.html#axis-order-changes-in-proj-6\n",
      "  return _prepare_from_string(\" \".join(pjargs))\n",
      "/home/prativa/anaconda3/envs/py36/lib/python3.6/site-packages/ipykernel_launcher.py:72: MatplotlibDeprecationWarning: You are modifying the state of a globally registered colormap. In future versions, you will not be able to modify a registered colormap in-place. To remove this warning, you can make a copy of the colormap first. cmap = copy.copy(mpl.cm.get_cmap(\"gray\"))\n",
      "/home/prativa/anaconda3/envs/py36/lib/python3.6/site-packages/pyproj/crs/crs.py:53: FutureWarning: '+init=<authority>:<code>' syntax is deprecated. '<authority>:<code>' is the preferred initialization method. When making the change, be mindful of axis order changes: https://pyproj4.github.io/pyproj/stable/gotchas.html#axis-order-changes-in-proj-6\n",
      "  return _prepare_from_string(\" \".join(pjargs))\n",
      "/home/prativa/anaconda3/envs/py36/lib/python3.6/site-packages/pyproj/crs/crs.py:53: FutureWarning: '+init=<authority>:<code>' syntax is deprecated. '<authority>:<code>' is the preferred initialization method. When making the change, be mindful of axis order changes: https://pyproj4.github.io/pyproj/stable/gotchas.html#axis-order-changes-in-proj-6\n",
      "  return _prepare_from_string(\" \".join(pjargs))\n",
      "/home/prativa/anaconda3/envs/py36/lib/python3.6/site-packages/pyproj/crs/crs.py:53: FutureWarning: '+init=<authority>:<code>' syntax is deprecated. '<authority>:<code>' is the preferred initialization method. When making the change, be mindful of axis order changes: https://pyproj4.github.io/pyproj/stable/gotchas.html#axis-order-changes-in-proj-6\n",
      "  return _prepare_from_string(\" \".join(pjargs))\n",
      "/home/prativa/anaconda3/envs/py36/lib/python3.6/site-packages/ipykernel_launcher.py:72: MatplotlibDeprecationWarning: You are modifying the state of a globally registered colormap. In future versions, you will not be able to modify a registered colormap in-place. To remove this warning, you can make a copy of the colormap first. cmap = copy.copy(mpl.cm.get_cmap(\"gray\"))\n",
      "/home/prativa/anaconda3/envs/py36/lib/python3.6/site-packages/pyproj/crs/crs.py:53: FutureWarning: '+init=<authority>:<code>' syntax is deprecated. '<authority>:<code>' is the preferred initialization method. When making the change, be mindful of axis order changes: https://pyproj4.github.io/pyproj/stable/gotchas.html#axis-order-changes-in-proj-6\n",
      "  return _prepare_from_string(\" \".join(pjargs))\n",
      "/home/prativa/anaconda3/envs/py36/lib/python3.6/site-packages/ipykernel_launcher.py:38: RuntimeWarning: More than 20 figures have been opened. Figures created through the pyplot interface (`matplotlib.pyplot.figure`) are retained until explicitly closed and may consume too much memory. (To control this warning, see the rcParam `figure.max_open_warning`).\n",
      "/home/prativa/anaconda3/envs/py36/lib/python3.6/site-packages/pyproj/crs/crs.py:53: FutureWarning: '+init=<authority>:<code>' syntax is deprecated. '<authority>:<code>' is the preferred initialization method. When making the change, be mindful of axis order changes: https://pyproj4.github.io/pyproj/stable/gotchas.html#axis-order-changes-in-proj-6\n",
      "  return _prepare_from_string(\" \".join(pjargs))\n",
      "/home/prativa/anaconda3/envs/py36/lib/python3.6/site-packages/ipykernel_launcher.py:72: MatplotlibDeprecationWarning: You are modifying the state of a globally registered colormap. In future versions, you will not be able to modify a registered colormap in-place. To remove this warning, you can make a copy of the colormap first. cmap = copy.copy(mpl.cm.get_cmap(\"gray\"))\n",
      "/home/prativa/anaconda3/envs/py36/lib/python3.6/site-packages/ipykernel_launcher.py:72: MatplotlibDeprecationWarning: You are modifying the state of a globally registered colormap. In future versions, you will not be able to modify a registered colormap in-place. To remove this warning, you can make a copy of the colormap first. cmap = copy.copy(mpl.cm.get_cmap(\"gray\"))\n",
      "/home/prativa/anaconda3/envs/py36/lib/python3.6/site-packages/ipykernel_launcher.py:72: MatplotlibDeprecationWarning: You are modifying the state of a globally registered colormap. In future versions, you will not be able to modify a registered colormap in-place. To remove this warning, you can make a copy of the colormap first. cmap = copy.copy(mpl.cm.get_cmap(\"gray\"))\n",
      "/home/prativa/anaconda3/envs/py36/lib/python3.6/site-packages/pyproj/crs/crs.py:53: FutureWarning: '+init=<authority>:<code>' syntax is deprecated. '<authority>:<code>' is the preferred initialization method. When making the change, be mindful of axis order changes: https://pyproj4.github.io/pyproj/stable/gotchas.html#axis-order-changes-in-proj-6\n",
      "  return _prepare_from_string(\" \".join(pjargs))\n"
     ]
    },
    {
     "name": "stderr",
     "output_type": "stream",
     "text": [
      "/home/prativa/anaconda3/envs/py36/lib/python3.6/site-packages/ipykernel_launcher.py:72: MatplotlibDeprecationWarning: You are modifying the state of a globally registered colormap. In future versions, you will not be able to modify a registered colormap in-place. To remove this warning, you can make a copy of the colormap first. cmap = copy.copy(mpl.cm.get_cmap(\"gray\"))\n",
      "\n",
      "\n",
      "\n",
      " 71%|███████   | 391/550 [01:27<01:00,  2.62it/s]\u001b[A\u001b[A\u001b[A/home/prativa/anaconda3/envs/py36/lib/python3.6/site-packages/ipykernel_launcher.py:72: MatplotlibDeprecationWarning: You are modifying the state of a globally registered colormap. In future versions, you will not be able to modify a registered colormap in-place. To remove this warning, you can make a copy of the colormap first. cmap = copy.copy(mpl.cm.get_cmap(\"gray\"))\n",
      "/home/prativa/anaconda3/envs/py36/lib/python3.6/site-packages/pyproj/crs/crs.py:53: FutureWarning: '+init=<authority>:<code>' syntax is deprecated. '<authority>:<code>' is the preferred initialization method. When making the change, be mindful of axis order changes: https://pyproj4.github.io/pyproj/stable/gotchas.html#axis-order-changes-in-proj-6\n",
      "  return _prepare_from_string(\" \".join(pjargs))\n",
      "\n",
      "\n",
      "\n",
      " 71%|███████▏  | 392/550 [01:28<01:04,  2.46it/s]\u001b[A\u001b[A\u001b[A/home/prativa/anaconda3/envs/py36/lib/python3.6/site-packages/pyproj/crs/crs.py:53: FutureWarning: '+init=<authority>:<code>' syntax is deprecated. '<authority>:<code>' is the preferred initialization method. When making the change, be mindful of axis order changes: https://pyproj4.github.io/pyproj/stable/gotchas.html#axis-order-changes-in-proj-6\n",
      "  return _prepare_from_string(\" \".join(pjargs))\n",
      "/home/prativa/anaconda3/envs/py36/lib/python3.6/site-packages/pyproj/crs/crs.py:53: FutureWarning: '+init=<authority>:<code>' syntax is deprecated. '<authority>:<code>' is the preferred initialization method. When making the change, be mindful of axis order changes: https://pyproj4.github.io/pyproj/stable/gotchas.html#axis-order-changes-in-proj-6\n",
      "  return _prepare_from_string(\" \".join(pjargs))\n",
      "\n",
      "\n",
      "\n",
      " 71%|███████▏  | 393/550 [01:28<00:56,  2.77it/s]\u001b[A\u001b[A\u001b[A/home/prativa/anaconda3/envs/py36/lib/python3.6/site-packages/pyproj/crs/crs.py:53: FutureWarning: '+init=<authority>:<code>' syntax is deprecated. '<authority>:<code>' is the preferred initialization method. When making the change, be mindful of axis order changes: https://pyproj4.github.io/pyproj/stable/gotchas.html#axis-order-changes-in-proj-6\n",
      "  return _prepare_from_string(\" \".join(pjargs))\n",
      "\n",
      "\n",
      "\n",
      " 72%|███████▏  | 394/550 [01:28<00:49,  3.16it/s]\u001b[A\u001b[A\u001b[A/home/prativa/anaconda3/envs/py36/lib/python3.6/site-packages/pyproj/crs/crs.py:53: FutureWarning: '+init=<authority>:<code>' syntax is deprecated. '<authority>:<code>' is the preferred initialization method. When making the change, be mindful of axis order changes: https://pyproj4.github.io/pyproj/stable/gotchas.html#axis-order-changes-in-proj-6\n",
      "  return _prepare_from_string(\" \".join(pjargs))\n",
      "/home/prativa/anaconda3/envs/py36/lib/python3.6/site-packages/pyproj/crs/crs.py:53: FutureWarning: '+init=<authority>:<code>' syntax is deprecated. '<authority>:<code>' is the preferred initialization method. When making the change, be mindful of axis order changes: https://pyproj4.github.io/pyproj/stable/gotchas.html#axis-order-changes-in-proj-6\n",
      "  return _prepare_from_string(\" \".join(pjargs))\n"
     ]
    },
    {
     "name": "stdout",
     "output_type": "stream",
     "text": [
      "OpenCV(4.1.0) /io/opencv/modules/imgproc/src/color.cpp:182: error: (-215:Assertion failed) !_src.empty() in function 'cvtColor'\n",
      "\n"
     ]
    },
    {
     "name": "stderr",
     "output_type": "stream",
     "text": [
      "\n",
      "\n",
      "\n",
      " 72%|███████▏  | 396/550 [01:28<00:40,  3.85it/s]\u001b[A\u001b[A\u001b[A/home/prativa/anaconda3/envs/py36/lib/python3.6/site-packages/pyproj/crs/crs.py:53: FutureWarning: '+init=<authority>:<code>' syntax is deprecated. '<authority>:<code>' is the preferred initialization method. When making the change, be mindful of axis order changes: https://pyproj4.github.io/pyproj/stable/gotchas.html#axis-order-changes-in-proj-6\n",
      "  return _prepare_from_string(\" \".join(pjargs))\n",
      "/home/prativa/anaconda3/envs/py36/lib/python3.6/site-packages/pyproj/crs/crs.py:53: FutureWarning: '+init=<authority>:<code>' syntax is deprecated. '<authority>:<code>' is the preferred initialization method. When making the change, be mindful of axis order changes: https://pyproj4.github.io/pyproj/stable/gotchas.html#axis-order-changes-in-proj-6\n",
      "  return _prepare_from_string(\" \".join(pjargs))\n",
      "/home/prativa/anaconda3/envs/py36/lib/python3.6/site-packages/pyproj/crs/crs.py:53: FutureWarning: '+init=<authority>:<code>' syntax is deprecated. '<authority>:<code>' is the preferred initialization method. When making the change, be mindful of axis order changes: https://pyproj4.github.io/pyproj/stable/gotchas.html#axis-order-changes-in-proj-6\n",
      "  return _prepare_from_string(\" \".join(pjargs))\n",
      "/home/prativa/anaconda3/envs/py36/lib/python3.6/site-packages/pyproj/crs/crs.py:53: FutureWarning: '+init=<authority>:<code>' syntax is deprecated. '<authority>:<code>' is the preferred initialization method. When making the change, be mindful of axis order changes: https://pyproj4.github.io/pyproj/stable/gotchas.html#axis-order-changes-in-proj-6\n",
      "  return _prepare_from_string(\" \".join(pjargs))\n"
     ]
    },
    {
     "name": "stdout",
     "output_type": "stream",
     "text": [
      "OpenCV(4.1.0) /io/opencv/modules/imgproc/src/color.cpp:182: error: (-215:Assertion failed) !_src.empty() in function 'cvtColor'\n",
      "\n"
     ]
    },
    {
     "name": "stderr",
     "output_type": "stream",
     "text": [
      "/home/prativa/anaconda3/envs/py36/lib/python3.6/site-packages/pyproj/crs/crs.py:53: FutureWarning: '+init=<authority>:<code>' syntax is deprecated. '<authority>:<code>' is the preferred initialization method. When making the change, be mindful of axis order changes: https://pyproj4.github.io/pyproj/stable/gotchas.html#axis-order-changes-in-proj-6\n",
      "  return _prepare_from_string(\" \".join(pjargs))\n"
     ]
    },
    {
     "name": "stdout",
     "output_type": "stream",
     "text": [
      "OpenCV(4.1.0) /io/opencv/modules/imgproc/src/color.cpp:182: error: (-215:Assertion failed) !_src.empty() in function 'cvtColor'\n",
      "OpenCV(4.1.0) /io/opencv/modules/imgproc/src/color.cpp:182: error: (-215:Assertion failed) !_src.empty() in function 'cvtColor'\n"
     ]
    },
    {
     "name": "stderr",
     "output_type": "stream",
     "text": [
      "/home/prativa/anaconda3/envs/py36/lib/python3.6/site-packages/pyproj/crs/crs.py:53: FutureWarning: '+init=<authority>:<code>' syntax is deprecated. '<authority>:<code>' is the preferred initialization method. When making the change, be mindful of axis order changes: https://pyproj4.github.io/pyproj/stable/gotchas.html#axis-order-changes-in-proj-6\n",
      "  return _prepare_from_string(\" \".join(pjargs))\n",
      "/home/prativa/anaconda3/envs/py36/lib/python3.6/site-packages/pyproj/crs/crs.py:53: FutureWarning: '+init=<authority>:<code>' syntax is deprecated. '<authority>:<code>' is the preferred initialization method. When making the change, be mindful of axis order changes: https://pyproj4.github.io/pyproj/stable/gotchas.html#axis-order-changes-in-proj-6\n",
      "  return _prepare_from_string(\" \".join(pjargs))\n"
     ]
    },
    {
     "name": "stdout",
     "output_type": "stream",
     "text": [
      "\n",
      "\n"
     ]
    },
    {
     "name": "stderr",
     "output_type": "stream",
     "text": [
      "/home/prativa/anaconda3/envs/py36/lib/python3.6/site-packages/pyproj/crs/crs.py:53: FutureWarning: '+init=<authority>:<code>' syntax is deprecated. '<authority>:<code>' is the preferred initialization method. When making the change, be mindful of axis order changes: https://pyproj4.github.io/pyproj/stable/gotchas.html#axis-order-changes-in-proj-6\n",
      "  return _prepare_from_string(\" \".join(pjargs))\n",
      "/home/prativa/anaconda3/envs/py36/lib/python3.6/site-packages/pyproj/crs/crs.py:53: FutureWarning: '+init=<authority>:<code>' syntax is deprecated. '<authority>:<code>' is the preferred initialization method. When making the change, be mindful of axis order changes: https://pyproj4.github.io/pyproj/stable/gotchas.html#axis-order-changes-in-proj-6\n",
      "  return _prepare_from_string(\" \".join(pjargs))\n",
      "\n",
      "\n",
      "\n",
      " 72%|███████▏  | 397/550 [01:29<00:49,  3.09it/s]\u001b[A\u001b[A\u001b[A/home/prativa/anaconda3/envs/py36/lib/python3.6/site-packages/pyproj/crs/crs.py:53: FutureWarning: '+init=<authority>:<code>' syntax is deprecated. '<authority>:<code>' is the preferred initialization method. When making the change, be mindful of axis order changes: https://pyproj4.github.io/pyproj/stable/gotchas.html#axis-order-changes-in-proj-6\n",
      "  return _prepare_from_string(\" \".join(pjargs))\n",
      "/home/prativa/anaconda3/envs/py36/lib/python3.6/site-packages/pyproj/crs/crs.py:53: FutureWarning: '+init=<authority>:<code>' syntax is deprecated. '<authority>:<code>' is the preferred initialization method. When making the change, be mindful of axis order changes: https://pyproj4.github.io/pyproj/stable/gotchas.html#axis-order-changes-in-proj-6\n",
      "  return _prepare_from_string(\" \".join(pjargs))\n",
      "\n",
      "\n",
      "\n",
      " 73%|███████▎  | 400/550 [01:29<00:35,  4.19it/s]\u001b[A\u001b[A\u001b[A/home/prativa/anaconda3/envs/py36/lib/python3.6/site-packages/pyproj/crs/crs.py:53: FutureWarning: '+init=<authority>:<code>' syntax is deprecated. '<authority>:<code>' is the preferred initialization method. When making the change, be mindful of axis order changes: https://pyproj4.github.io/pyproj/stable/gotchas.html#axis-order-changes-in-proj-6\n",
      "  return _prepare_from_string(\" \".join(pjargs))\n",
      "/home/prativa/anaconda3/envs/py36/lib/python3.6/site-packages/pyproj/crs/crs.py:53: FutureWarning: '+init=<authority>:<code>' syntax is deprecated. '<authority>:<code>' is the preferred initialization method. When making the change, be mindful of axis order changes: https://pyproj4.github.io/pyproj/stable/gotchas.html#axis-order-changes-in-proj-6\n",
      "  return _prepare_from_string(\" \".join(pjargs))\n",
      "/home/prativa/anaconda3/envs/py36/lib/python3.6/site-packages/pyproj/crs/crs.py:53: FutureWarning: '+init=<authority>:<code>' syntax is deprecated. '<authority>:<code>' is the preferred initialization method. When making the change, be mindful of axis order changes: https://pyproj4.github.io/pyproj/stable/gotchas.html#axis-order-changes-in-proj-6\n",
      "  return _prepare_from_string(\" \".join(pjargs))\n"
     ]
    },
    {
     "name": "stdout",
     "output_type": "stream",
     "text": [
      "OpenCV(4.1.0) /io/opencv/modules/imgproc/src/color.cpp:182: error: (-215:Assertion failed) !_src.empty() in function 'cvtColor'\n"
     ]
    },
    {
     "name": "stderr",
     "output_type": "stream",
     "text": [
      "/home/prativa/anaconda3/envs/py36/lib/python3.6/site-packages/pyproj/crs/crs.py:53: FutureWarning: '+init=<authority>:<code>' syntax is deprecated. '<authority>:<code>' is the preferred initialization method. When making the change, be mindful of axis order changes: https://pyproj4.github.io/pyproj/stable/gotchas.html#axis-order-changes-in-proj-6\n",
      "  return _prepare_from_string(\" \".join(pjargs))\n"
     ]
    },
    {
     "name": "stdout",
     "output_type": "stream",
     "text": [
      "\n"
     ]
    },
    {
     "name": "stderr",
     "output_type": "stream",
     "text": [
      "\n",
      "\n",
      "\n",
      " 74%|███████▎  | 405/550 [01:29<00:25,  5.67it/s]\u001b[A\u001b[A\u001b[A"
     ]
    },
    {
     "name": "stdout",
     "output_type": "stream",
     "text": [
      "OpenCV(4.1.0) /io/opencv/modules/imgproc/src/color.cpp:182: error: (-215:Assertion failed) !_src.empty() in function 'cvtColor'\n",
      "\n"
     ]
    },
    {
     "name": "stderr",
     "output_type": "stream",
     "text": [
      "/home/prativa/anaconda3/envs/py36/lib/python3.6/site-packages/pyproj/crs/crs.py:53: FutureWarning: '+init=<authority>:<code>' syntax is deprecated. '<authority>:<code>' is the preferred initialization method. When making the change, be mindful of axis order changes: https://pyproj4.github.io/pyproj/stable/gotchas.html#axis-order-changes-in-proj-6\n",
      "  return _prepare_from_string(\" \".join(pjargs))\n",
      "/home/prativa/anaconda3/envs/py36/lib/python3.6/site-packages/pyproj/crs/crs.py:53: FutureWarning: '+init=<authority>:<code>' syntax is deprecated. '<authority>:<code>' is the preferred initialization method. When making the change, be mindful of axis order changes: https://pyproj4.github.io/pyproj/stable/gotchas.html#axis-order-changes-in-proj-6\n",
      "  return _prepare_from_string(\" \".join(pjargs))\n",
      "/home/prativa/anaconda3/envs/py36/lib/python3.6/site-packages/pyproj/crs/crs.py:53: FutureWarning: '+init=<authority>:<code>' syntax is deprecated. '<authority>:<code>' is the preferred initialization method. When making the change, be mindful of axis order changes: https://pyproj4.github.io/pyproj/stable/gotchas.html#axis-order-changes-in-proj-6\n",
      "  return _prepare_from_string(\" \".join(pjargs))\n",
      "/home/prativa/anaconda3/envs/py36/lib/python3.6/site-packages/pyproj/crs/crs.py:53: FutureWarning: '+init=<authority>:<code>' syntax is deprecated. '<authority>:<code>' is the preferred initialization method. When making the change, be mindful of axis order changes: https://pyproj4.github.io/pyproj/stable/gotchas.html#axis-order-changes-in-proj-6\n",
      "  return _prepare_from_string(\" \".join(pjargs))\n"
     ]
    },
    {
     "name": "stdout",
     "output_type": "stream",
     "text": [
      "OpenCV(4.1.0) /io/opencv/modules/imgproc/src/color.cpp:182: error: (-215:Assertion failed) !_src.empty() in function 'cvtColor'\n"
     ]
    },
    {
     "name": "stderr",
     "output_type": "stream",
     "text": [
      "/home/prativa/anaconda3/envs/py36/lib/python3.6/site-packages/ipykernel_launcher.py:38: RuntimeWarning: More than 20 figures have been opened. Figures created through the pyplot interface (`matplotlib.pyplot.figure`) are retained until explicitly closed and may consume too much memory. (To control this warning, see the rcParam `figure.max_open_warning`).\n"
     ]
    },
    {
     "name": "stdout",
     "output_type": "stream",
     "text": [
      "\n"
     ]
    },
    {
     "name": "stderr",
     "output_type": "stream",
     "text": [
      "\n",
      "\n",
      "\n",
      " 74%|███████▍  | 407/550 [01:29<00:21,  6.59it/s]\u001b[A\u001b[A\u001b[A/home/prativa/anaconda3/envs/py36/lib/python3.6/site-packages/pyproj/crs/crs.py:53: FutureWarning: '+init=<authority>:<code>' syntax is deprecated. '<authority>:<code>' is the preferred initialization method. When making the change, be mindful of axis order changes: https://pyproj4.github.io/pyproj/stable/gotchas.html#axis-order-changes-in-proj-6\n",
      "  return _prepare_from_string(\" \".join(pjargs))\n"
     ]
    },
    {
     "name": "stdout",
     "output_type": "stream",
     "text": [
      "OpenCV(4.1.0) /io/opencv/modules/imgproc/src/color.cpp:182: error: (-215:Assertion failed) !_src.empty() in function 'cvtColor'\n",
      "\n"
     ]
    },
    {
     "name": "stderr",
     "output_type": "stream",
     "text": [
      "/home/prativa/anaconda3/envs/py36/lib/python3.6/site-packages/pyproj/crs/crs.py:53: FutureWarning: '+init=<authority>:<code>' syntax is deprecated. '<authority>:<code>' is the preferred initialization method. When making the change, be mindful of axis order changes: https://pyproj4.github.io/pyproj/stable/gotchas.html#axis-order-changes-in-proj-6\n",
      "  return _prepare_from_string(\" \".join(pjargs))\n",
      "/home/prativa/anaconda3/envs/py36/lib/python3.6/site-packages/pyproj/crs/crs.py:53: FutureWarning: '+init=<authority>:<code>' syntax is deprecated. '<authority>:<code>' is the preferred initialization method. When making the change, be mindful of axis order changes: https://pyproj4.github.io/pyproj/stable/gotchas.html#axis-order-changes-in-proj-6\n",
      "  return _prepare_from_string(\" \".join(pjargs))\n",
      "/home/prativa/anaconda3/envs/py36/lib/python3.6/site-packages/pyproj/crs/crs.py:53: FutureWarning: '+init=<authority>:<code>' syntax is deprecated. '<authority>:<code>' is the preferred initialization method. When making the change, be mindful of axis order changes: https://pyproj4.github.io/pyproj/stable/gotchas.html#axis-order-changes-in-proj-6\n",
      "  return _prepare_from_string(\" \".join(pjargs))\n",
      "/home/prativa/anaconda3/envs/py36/lib/python3.6/site-packages/ipykernel_launcher.py:38: RuntimeWarning: More than 20 figures have been opened. Figures created through the pyplot interface (`matplotlib.pyplot.figure`) are retained until explicitly closed and may consume too much memory. (To control this warning, see the rcParam `figure.max_open_warning`).\n",
      "/home/prativa/anaconda3/envs/py36/lib/python3.6/site-packages/pyproj/crs/crs.py:53: FutureWarning: '+init=<authority>:<code>' syntax is deprecated. '<authority>:<code>' is the preferred initialization method. When making the change, be mindful of axis order changes: https://pyproj4.github.io/pyproj/stable/gotchas.html#axis-order-changes-in-proj-6\n",
      "  return _prepare_from_string(\" \".join(pjargs))\n",
      "/home/prativa/anaconda3/envs/py36/lib/python3.6/site-packages/ipykernel_launcher.py:38: RuntimeWarning: More than 20 figures have been opened. Figures created through the pyplot interface (`matplotlib.pyplot.figure`) are retained until explicitly closed and may consume too much memory. (To control this warning, see the rcParam `figure.max_open_warning`).\n"
     ]
    },
    {
     "name": "stdout",
     "output_type": "stream",
     "text": [
      "OpenCV(4.1.0) /io/opencv/modules/imgproc/src/color.cpp:182: error: (-215:Assertion failed) !_src.empty() in function 'cvtColor'\n",
      "\n"
     ]
    },
    {
     "name": "stderr",
     "output_type": "stream",
     "text": [
      "\n",
      "\n",
      "\n",
      " 74%|███████▍  | 409/550 [01:30<00:20,  6.95it/s]\u001b[A\u001b[A\u001b[A/home/prativa/anaconda3/envs/py36/lib/python3.6/site-packages/pyproj/crs/crs.py:53: FutureWarning: '+init=<authority>:<code>' syntax is deprecated. '<authority>:<code>' is the preferred initialization method. When making the change, be mindful of axis order changes: https://pyproj4.github.io/pyproj/stable/gotchas.html#axis-order-changes-in-proj-6\n",
      "  return _prepare_from_string(\" \".join(pjargs))\n"
     ]
    },
    {
     "name": "stdout",
     "output_type": "stream",
     "text": [
      "OpenCV(4.1.0) /io/opencv/modules/imgproc/src/color.cpp:182: error: (-215:Assertion failed) !_src.empty() in function 'cvtColor'\n",
      "\n"
     ]
    },
    {
     "name": "stderr",
     "output_type": "stream",
     "text": [
      "/home/prativa/anaconda3/envs/py36/lib/python3.6/site-packages/pyproj/crs/crs.py:53: FutureWarning: '+init=<authority>:<code>' syntax is deprecated. '<authority>:<code>' is the preferred initialization method. When making the change, be mindful of axis order changes: https://pyproj4.github.io/pyproj/stable/gotchas.html#axis-order-changes-in-proj-6\n",
      "  return _prepare_from_string(\" \".join(pjargs))\n"
     ]
    },
    {
     "name": "stdout",
     "output_type": "stream",
     "text": [
      "OpenCV(4.1.0) /io/opencv/modules/imgproc/src/color.cpp:182: error: (-215:Assertion failed) !_src.empty() in function 'cvtColor'\n"
     ]
    },
    {
     "name": "stderr",
     "output_type": "stream",
     "text": [
      "/home/prativa/anaconda3/envs/py36/lib/python3.6/site-packages/pyproj/crs/crs.py:53: FutureWarning: '+init=<authority>:<code>' syntax is deprecated. '<authority>:<code>' is the preferred initialization method. When making the change, be mindful of axis order changes: https://pyproj4.github.io/pyproj/stable/gotchas.html#axis-order-changes-in-proj-6\n",
      "  return _prepare_from_string(\" \".join(pjargs))\n",
      "/home/prativa/anaconda3/envs/py36/lib/python3.6/site-packages/pyproj/crs/crs.py:53: FutureWarning: '+init=<authority>:<code>' syntax is deprecated. '<authority>:<code>' is the preferred initialization method. When making the change, be mindful of axis order changes: https://pyproj4.github.io/pyproj/stable/gotchas.html#axis-order-changes-in-proj-6\n",
      "  return _prepare_from_string(\" \".join(pjargs))\n"
     ]
    },
    {
     "name": "stdout",
     "output_type": "stream",
     "text": [
      "\n"
     ]
    },
    {
     "name": "stderr",
     "output_type": "stream",
     "text": [
      "\n",
      "\n",
      "\n",
      " 75%|███████▍  | 411/550 [01:30<00:17,  7.81it/s]\u001b[A\u001b[A\u001b[A"
     ]
    },
    {
     "name": "stdout",
     "output_type": "stream",
     "text": [
      "OpenCV(4.1.0) /io/opencv/modules/imgproc/src/color.cpp:182: error: (-215:Assertion failed) !_src.empty() in function 'cvtColor'\n",
      "\n"
     ]
    },
    {
     "name": "stderr",
     "output_type": "stream",
     "text": [
      "/home/prativa/anaconda3/envs/py36/lib/python3.6/site-packages/ipykernel_launcher.py:38: RuntimeWarning: More than 20 figures have been opened. Figures created through the pyplot interface (`matplotlib.pyplot.figure`) are retained until explicitly closed and may consume too much memory. (To control this warning, see the rcParam `figure.max_open_warning`).\n"
     ]
    },
    {
     "name": "stdout",
     "output_type": "stream",
     "text": [
      "OpenCV(4.1.0) /io/opencv/modules/imgproc/src/color.cpp:182: error: (-215:Assertion failed) !_src.empty() in function 'cvtColor'\n"
     ]
    },
    {
     "name": "stderr",
     "output_type": "stream",
     "text": [
      "/home/prativa/anaconda3/envs/py36/lib/python3.6/site-packages/pyproj/crs/crs.py:53: FutureWarning: '+init=<authority>:<code>' syntax is deprecated. '<authority>:<code>' is the preferred initialization method. When making the change, be mindful of axis order changes: https://pyproj4.github.io/pyproj/stable/gotchas.html#axis-order-changes-in-proj-6\n",
      "  return _prepare_from_string(\" \".join(pjargs))\n"
     ]
    },
    {
     "name": "stdout",
     "output_type": "stream",
     "text": [
      "\n"
     ]
    },
    {
     "name": "stderr",
     "output_type": "stream",
     "text": [
      "/home/prativa/anaconda3/envs/py36/lib/python3.6/site-packages/pyproj/crs/crs.py:53: FutureWarning: '+init=<authority>:<code>' syntax is deprecated. '<authority>:<code>' is the preferred initialization method. When making the change, be mindful of axis order changes: https://pyproj4.github.io/pyproj/stable/gotchas.html#axis-order-changes-in-proj-6\n",
      "  return _prepare_from_string(\" \".join(pjargs))\n",
      "/home/prativa/anaconda3/envs/py36/lib/python3.6/site-packages/pyproj/crs/crs.py:53: FutureWarning: '+init=<authority>:<code>' syntax is deprecated. '<authority>:<code>' is the preferred initialization method. When making the change, be mindful of axis order changes: https://pyproj4.github.io/pyproj/stable/gotchas.html#axis-order-changes-in-proj-6\n",
      "  return _prepare_from_string(\" \".join(pjargs))\n",
      "/home/prativa/anaconda3/envs/py36/lib/python3.6/site-packages/pyproj/crs/crs.py:53: FutureWarning: '+init=<authority>:<code>' syntax is deprecated. '<authority>:<code>' is the preferred initialization method. When making the change, be mindful of axis order changes: https://pyproj4.github.io/pyproj/stable/gotchas.html#axis-order-changes-in-proj-6\n",
      "  return _prepare_from_string(\" \".join(pjargs))\n"
     ]
    },
    {
     "name": "stdout",
     "output_type": "stream",
     "text": [
      "OpenCV(4.1.0) /io/opencv/modules/imgproc/src/color.cpp:182: error: (-215:Assertion failed) !_src.empty() in function 'cvtColor'\n",
      "\n"
     ]
    },
    {
     "name": "stderr",
     "output_type": "stream",
     "text": [
      "\n",
      "\n",
      "\n",
      " 75%|███████▌  | 413/550 [01:30<00:17,  8.03it/s]\u001b[A\u001b[A\u001b[A/home/prativa/anaconda3/envs/py36/lib/python3.6/site-packages/pyproj/crs/crs.py:53: FutureWarning: '+init=<authority>:<code>' syntax is deprecated. '<authority>:<code>' is the preferred initialization method. When making the change, be mindful of axis order changes: https://pyproj4.github.io/pyproj/stable/gotchas.html#axis-order-changes-in-proj-6\n",
      "  return _prepare_from_string(\" \".join(pjargs))\n",
      "/home/prativa/anaconda3/envs/py36/lib/python3.6/site-packages/pyproj/crs/crs.py:53: FutureWarning: '+init=<authority>:<code>' syntax is deprecated. '<authority>:<code>' is the preferred initialization method. When making the change, be mindful of axis order changes: https://pyproj4.github.io/pyproj/stable/gotchas.html#axis-order-changes-in-proj-6\n",
      "  return _prepare_from_string(\" \".join(pjargs))\n"
     ]
    },
    {
     "name": "stdout",
     "output_type": "stream",
     "text": [
      "OpenCV(4.1.0) /io/opencv/modules/imgproc/src/color.cpp:182: error: (-215:Assertion failed) !_src.empty() in function 'cvtColor'\n",
      "\n"
     ]
    },
    {
     "name": "stderr",
     "output_type": "stream",
     "text": [
      "/home/prativa/anaconda3/envs/py36/lib/python3.6/site-packages/pyproj/crs/crs.py:53: FutureWarning: '+init=<authority>:<code>' syntax is deprecated. '<authority>:<code>' is the preferred initialization method. When making the change, be mindful of axis order changes: https://pyproj4.github.io/pyproj/stable/gotchas.html#axis-order-changes-in-proj-6\n",
      "  return _prepare_from_string(\" \".join(pjargs))\n",
      "/home/prativa/anaconda3/envs/py36/lib/python3.6/site-packages/pyproj/crs/crs.py:53: FutureWarning: '+init=<authority>:<code>' syntax is deprecated. '<authority>:<code>' is the preferred initialization method. When making the change, be mindful of axis order changes: https://pyproj4.github.io/pyproj/stable/gotchas.html#axis-order-changes-in-proj-6\n",
      "  return _prepare_from_string(\" \".join(pjargs))\n"
     ]
    },
    {
     "name": "stdout",
     "output_type": "stream",
     "text": [
      "OpenCV(4.1.0) /io/opencv/modules/imgproc/src/color.cpp:182: error: (-215:Assertion failed) !_src.empty() in function 'cvtColor'\n",
      "\n",
      "OpenCV(4.1.0) /io/opencv/modules/imgproc/src/color.cpp:182: error: (-215:Assertion failed) !_src.empty() in function 'cvtColor'\n",
      "\n"
     ]
    },
    {
     "name": "stderr",
     "output_type": "stream",
     "text": [
      "\n",
      "\n",
      "\n",
      " 76%|███████▌  | 416/550 [01:30<00:15,  8.70it/s]\u001b[A\u001b[A\u001b[A/home/prativa/anaconda3/envs/py36/lib/python3.6/site-packages/pyproj/crs/crs.py:53: FutureWarning: '+init=<authority>:<code>' syntax is deprecated. '<authority>:<code>' is the preferred initialization method. When making the change, be mindful of axis order changes: https://pyproj4.github.io/pyproj/stable/gotchas.html#axis-order-changes-in-proj-6\n",
      "  return _prepare_from_string(\" \".join(pjargs))\n",
      "/home/prativa/anaconda3/envs/py36/lib/python3.6/site-packages/pyproj/crs/crs.py:53: FutureWarning: '+init=<authority>:<code>' syntax is deprecated. '<authority>:<code>' is the preferred initialization method. When making the change, be mindful of axis order changes: https://pyproj4.github.io/pyproj/stable/gotchas.html#axis-order-changes-in-proj-6\n",
      "  return _prepare_from_string(\" \".join(pjargs))\n",
      "/home/prativa/anaconda3/envs/py36/lib/python3.6/site-packages/pyproj/crs/crs.py:53: FutureWarning: '+init=<authority>:<code>' syntax is deprecated. '<authority>:<code>' is the preferred initialization method. When making the change, be mindful of axis order changes: https://pyproj4.github.io/pyproj/stable/gotchas.html#axis-order-changes-in-proj-6\n",
      "  return _prepare_from_string(\" \".join(pjargs))\n",
      "/home/prativa/anaconda3/envs/py36/lib/python3.6/site-packages/pyproj/crs/crs.py:53: FutureWarning: '+init=<authority>:<code>' syntax is deprecated. '<authority>:<code>' is the preferred initialization method. When making the change, be mindful of axis order changes: https://pyproj4.github.io/pyproj/stable/gotchas.html#axis-order-changes-in-proj-6\n",
      "  return _prepare_from_string(\" \".join(pjargs))\n"
     ]
    },
    {
     "name": "stdout",
     "output_type": "stream",
     "text": [
      "OpenCV(4.1.0) /io/opencv/modules/imgproc/src/color.cpp:182: error: (-215:Assertion failed) !_src.empty() in function 'cvtColor'\n"
     ]
    },
    {
     "name": "stderr",
     "output_type": "stream",
     "text": [
      "/home/prativa/anaconda3/envs/py36/lib/python3.6/site-packages/pyproj/crs/crs.py:53: FutureWarning: '+init=<authority>:<code>' syntax is deprecated. '<authority>:<code>' is the preferred initialization method. When making the change, be mindful of axis order changes: https://pyproj4.github.io/pyproj/stable/gotchas.html#axis-order-changes-in-proj-6\n",
      "  return _prepare_from_string(\" \".join(pjargs))\n"
     ]
    },
    {
     "name": "stdout",
     "output_type": "stream",
     "text": [
      "\n"
     ]
    },
    {
     "name": "stderr",
     "output_type": "stream",
     "text": [
      "\n",
      "\n",
      "\n",
      " 76%|███████▌  | 418/550 [01:30<00:13, 10.07it/s]\u001b[A\u001b[A\u001b[A/home/prativa/anaconda3/envs/py36/lib/python3.6/site-packages/pyproj/crs/crs.py:53: FutureWarning: '+init=<authority>:<code>' syntax is deprecated. '<authority>:<code>' is the preferred initialization method. When making the change, be mindful of axis order changes: https://pyproj4.github.io/pyproj/stable/gotchas.html#axis-order-changes-in-proj-6\n",
      "  return _prepare_from_string(\" \".join(pjargs))\n"
     ]
    },
    {
     "name": "stdout",
     "output_type": "stream",
     "text": [
      "OpenCV(4.1.0) /io/opencv/modules/imgproc/src/color.cpp:182: error: (-215:Assertion failed) !_src.empty() in function 'cvtColor'\n",
      "\n"
     ]
    },
    {
     "name": "stderr",
     "output_type": "stream",
     "text": [
      "/home/prativa/anaconda3/envs/py36/lib/python3.6/site-packages/pyproj/crs/crs.py:53: FutureWarning: '+init=<authority>:<code>' syntax is deprecated. '<authority>:<code>' is the preferred initialization method. When making the change, be mindful of axis order changes: https://pyproj4.github.io/pyproj/stable/gotchas.html#axis-order-changes-in-proj-6\n",
      "  return _prepare_from_string(\" \".join(pjargs))\n",
      "/home/prativa/anaconda3/envs/py36/lib/python3.6/site-packages/pyproj/crs/crs.py:53: FutureWarning: '+init=<authority>:<code>' syntax is deprecated. '<authority>:<code>' is the preferred initialization method. When making the change, be mindful of axis order changes: https://pyproj4.github.io/pyproj/stable/gotchas.html#axis-order-changes-in-proj-6\n",
      "  return _prepare_from_string(\" \".join(pjargs))\n",
      "/home/prativa/anaconda3/envs/py36/lib/python3.6/site-packages/pyproj/crs/crs.py:53: FutureWarning: '+init=<authority>:<code>' syntax is deprecated. '<authority>:<code>' is the preferred initialization method. When making the change, be mindful of axis order changes: https://pyproj4.github.io/pyproj/stable/gotchas.html#axis-order-changes-in-proj-6\n",
      "  return _prepare_from_string(\" \".join(pjargs))\n",
      "/home/prativa/anaconda3/envs/py36/lib/python3.6/site-packages/pyproj/crs/crs.py:53: FutureWarning: '+init=<authority>:<code>' syntax is deprecated. '<authority>:<code>' is the preferred initialization method. When making the change, be mindful of axis order changes: https://pyproj4.github.io/pyproj/stable/gotchas.html#axis-order-changes-in-proj-6\n",
      "  return _prepare_from_string(\" \".join(pjargs))\n"
     ]
    },
    {
     "name": "stdout",
     "output_type": "stream",
     "text": [
      "OpenCV(4.1.0) /io/opencv/modules/imgproc/src/color.cpp:182: error: (-215:Assertion failed) !_src.empty() in function 'cvtColor'\n",
      "\n",
      "OpenCV(4.1.0) /io/opencv/modules/imgproc/src/color.cpp:182: error: (-215:Assertion failed) !_src.empty() in function 'cvtColor'\n"
     ]
    },
    {
     "name": "stderr",
     "output_type": "stream",
     "text": [
      "/home/prativa/anaconda3/envs/py36/lib/python3.6/site-packages/pyproj/crs/crs.py:53: FutureWarning: '+init=<authority>:<code>' syntax is deprecated. '<authority>:<code>' is the preferred initialization method. When making the change, be mindful of axis order changes: https://pyproj4.github.io/pyproj/stable/gotchas.html#axis-order-changes-in-proj-6\n",
      "  return _prepare_from_string(\" \".join(pjargs))\n"
     ]
    },
    {
     "name": "stdout",
     "output_type": "stream",
     "text": [
      "\n"
     ]
    },
    {
     "name": "stderr",
     "output_type": "stream",
     "text": [
      "\n",
      "\n",
      "\n",
      " 76%|███████▋  | 420/550 [01:31<00:15,  8.53it/s]\u001b[A\u001b[A\u001b[A/home/prativa/anaconda3/envs/py36/lib/python3.6/site-packages/pyproj/crs/crs.py:53: FutureWarning: '+init=<authority>:<code>' syntax is deprecated. '<authority>:<code>' is the preferred initialization method. When making the change, be mindful of axis order changes: https://pyproj4.github.io/pyproj/stable/gotchas.html#axis-order-changes-in-proj-6\n",
      "  return _prepare_from_string(\" \".join(pjargs))\n",
      "/home/prativa/anaconda3/envs/py36/lib/python3.6/site-packages/ipykernel_launcher.py:38: RuntimeWarning: More than 20 figures have been opened. Figures created through the pyplot interface (`matplotlib.pyplot.figure`) are retained until explicitly closed and may consume too much memory. (To control this warning, see the rcParam `figure.max_open_warning`).\n",
      "/home/prativa/anaconda3/envs/py36/lib/python3.6/site-packages/pyproj/crs/crs.py:53: FutureWarning: '+init=<authority>:<code>' syntax is deprecated. '<authority>:<code>' is the preferred initialization method. When making the change, be mindful of axis order changes: https://pyproj4.github.io/pyproj/stable/gotchas.html#axis-order-changes-in-proj-6\n",
      "  return _prepare_from_string(\" \".join(pjargs))\n"
     ]
    },
    {
     "name": "stdout",
     "output_type": "stream",
     "text": [
      "OpenCV(4.1.0) /io/opencv/modules/imgproc/src/color.cpp:182: error: (-215:Assertion failed) !_src.empty() in function 'cvtColor'\n",
      "\n"
     ]
    },
    {
     "name": "stderr",
     "output_type": "stream",
     "text": [
      "/home/prativa/anaconda3/envs/py36/lib/python3.6/site-packages/pyproj/crs/crs.py:53: FutureWarning: '+init=<authority>:<code>' syntax is deprecated. '<authority>:<code>' is the preferred initialization method. When making the change, be mindful of axis order changes: https://pyproj4.github.io/pyproj/stable/gotchas.html#axis-order-changes-in-proj-6\n",
      "  return _prepare_from_string(\" \".join(pjargs))\n"
     ]
    },
    {
     "name": "stdout",
     "output_type": "stream",
     "text": [
      "OpenCV(4.1.0) /io/opencv/modules/imgproc/src/color.cpp:182: error: (-215:Assertion failed) !_src.empty() in function 'cvtColor'\n"
     ]
    },
    {
     "name": "stderr",
     "output_type": "stream",
     "text": [
      "/home/prativa/anaconda3/envs/py36/lib/python3.6/site-packages/ipykernel_launcher.py:38: RuntimeWarning: More than 20 figures have been opened. Figures created through the pyplot interface (`matplotlib.pyplot.figure`) are retained until explicitly closed and may consume too much memory. (To control this warning, see the rcParam `figure.max_open_warning`).\n"
     ]
    },
    {
     "name": "stdout",
     "output_type": "stream",
     "text": [
      "\n"
     ]
    },
    {
     "name": "stderr",
     "output_type": "stream",
     "text": [
      "\n",
      "\n",
      "\n",
      " 77%|███████▋  | 423/550 [01:31<00:13,  9.67it/s]\u001b[A\u001b[A\u001b[A/home/prativa/anaconda3/envs/py36/lib/python3.6/site-packages/pyproj/crs/crs.py:53: FutureWarning: '+init=<authority>:<code>' syntax is deprecated. '<authority>:<code>' is the preferred initialization method. When making the change, be mindful of axis order changes: https://pyproj4.github.io/pyproj/stable/gotchas.html#axis-order-changes-in-proj-6\n",
      "  return _prepare_from_string(\" \".join(pjargs))\n"
     ]
    },
    {
     "name": "stdout",
     "output_type": "stream",
     "text": [
      "OpenCV(4.1.0) /io/opencv/modules/imgproc/src/color.cpp:182: error: (-215:Assertion failed) !_src.empty() in function 'cvtColor'\n"
     ]
    },
    {
     "name": "stderr",
     "output_type": "stream",
     "text": [
      "/home/prativa/anaconda3/envs/py36/lib/python3.6/site-packages/ipykernel_launcher.py:38: RuntimeWarning: More than 20 figures have been opened. Figures created through the pyplot interface (`matplotlib.pyplot.figure`) are retained until explicitly closed and may consume too much memory. (To control this warning, see the rcParam `figure.max_open_warning`).\n",
      "/home/prativa/anaconda3/envs/py36/lib/python3.6/site-packages/pyproj/crs/crs.py:53: FutureWarning: '+init=<authority>:<code>' syntax is deprecated. '<authority>:<code>' is the preferred initialization method. When making the change, be mindful of axis order changes: https://pyproj4.github.io/pyproj/stable/gotchas.html#axis-order-changes-in-proj-6\n",
      "  return _prepare_from_string(\" \".join(pjargs))\n"
     ]
    },
    {
     "name": "stdout",
     "output_type": "stream",
     "text": [
      "\n"
     ]
    },
    {
     "name": "stderr",
     "output_type": "stream",
     "text": [
      "/home/prativa/anaconda3/envs/py36/lib/python3.6/site-packages/pyproj/crs/crs.py:53: FutureWarning: '+init=<authority>:<code>' syntax is deprecated. '<authority>:<code>' is the preferred initialization method. When making the change, be mindful of axis order changes: https://pyproj4.github.io/pyproj/stable/gotchas.html#axis-order-changes-in-proj-6\n",
      "  return _prepare_from_string(\" \".join(pjargs))\n",
      "/home/prativa/anaconda3/envs/py36/lib/python3.6/site-packages/pyproj/crs/crs.py:53: FutureWarning: '+init=<authority>:<code>' syntax is deprecated. '<authority>:<code>' is the preferred initialization method. When making the change, be mindful of axis order changes: https://pyproj4.github.io/pyproj/stable/gotchas.html#axis-order-changes-in-proj-6\n",
      "  return _prepare_from_string(\" \".join(pjargs))\n",
      "/home/prativa/anaconda3/envs/py36/lib/python3.6/site-packages/pyproj/crs/crs.py:53: FutureWarning: '+init=<authority>:<code>' syntax is deprecated. '<authority>:<code>' is the preferred initialization method. When making the change, be mindful of axis order changes: https://pyproj4.github.io/pyproj/stable/gotchas.html#axis-order-changes-in-proj-6\n",
      "  return _prepare_from_string(\" \".join(pjargs))\n"
     ]
    },
    {
     "name": "stdout",
     "output_type": "stream",
     "text": [
      "OpenCV(4.1.0) /io/opencv/modules/imgproc/src/color.cpp:182: error: (-215:Assertion failed) !_src.empty() in function 'cvtColor'\n",
      "\n"
     ]
    },
    {
     "name": "stderr",
     "output_type": "stream",
     "text": [
      "\n",
      "\n",
      "\n",
      " 77%|███████▋  | 425/550 [01:31<00:12, 10.13it/s]\u001b[A\u001b[A\u001b[A"
     ]
    },
    {
     "name": "stdout",
     "output_type": "stream",
     "text": [
      "OpenCV(4.1.0) /io/opencv/modules/imgproc/src/color.cpp:182: error: (-215:Assertion failed) !_src.empty() in function 'cvtColor'\n",
      "OpenCV(4.1.0) /io/opencv/modules/imgproc/src/color.cpp:182: error: (-215:Assertion failed) !_src.empty() in function 'cvtColor'\n",
      "\n"
     ]
    },
    {
     "name": "stderr",
     "output_type": "stream",
     "text": [
      "/home/prativa/anaconda3/envs/py36/lib/python3.6/site-packages/pyproj/crs/crs.py:53: FutureWarning: '+init=<authority>:<code>' syntax is deprecated. '<authority>:<code>' is the preferred initialization method. When making the change, be mindful of axis order changes: https://pyproj4.github.io/pyproj/stable/gotchas.html#axis-order-changes-in-proj-6\n",
      "  return _prepare_from_string(\" \".join(pjargs))\n"
     ]
    },
    {
     "name": "stdout",
     "output_type": "stream",
     "text": [
      "\n"
     ]
    },
    {
     "name": "stderr",
     "output_type": "stream",
     "text": [
      "\n",
      "\n",
      "\n",
      " 78%|███████▊  | 427/550 [01:31<00:10, 11.71it/s]\u001b[A\u001b[A\u001b[A/home/prativa/anaconda3/envs/py36/lib/python3.6/site-packages/pyproj/crs/crs.py:53: FutureWarning: '+init=<authority>:<code>' syntax is deprecated. '<authority>:<code>' is the preferred initialization method. When making the change, be mindful of axis order changes: https://pyproj4.github.io/pyproj/stable/gotchas.html#axis-order-changes-in-proj-6\n",
      "  return _prepare_from_string(\" \".join(pjargs))\n",
      "/home/prativa/anaconda3/envs/py36/lib/python3.6/site-packages/pyproj/crs/crs.py:53: FutureWarning: '+init=<authority>:<code>' syntax is deprecated. '<authority>:<code>' is the preferred initialization method. When making the change, be mindful of axis order changes: https://pyproj4.github.io/pyproj/stable/gotchas.html#axis-order-changes-in-proj-6\n",
      "  return _prepare_from_string(\" \".join(pjargs))\n",
      "/home/prativa/anaconda3/envs/py36/lib/python3.6/site-packages/pyproj/crs/crs.py:53: FutureWarning: '+init=<authority>:<code>' syntax is deprecated. '<authority>:<code>' is the preferred initialization method. When making the change, be mindful of axis order changes: https://pyproj4.github.io/pyproj/stable/gotchas.html#axis-order-changes-in-proj-6\n",
      "  return _prepare_from_string(\" \".join(pjargs))\n",
      "/home/prativa/anaconda3/envs/py36/lib/python3.6/site-packages/pyproj/crs/crs.py:53: FutureWarning: '+init=<authority>:<code>' syntax is deprecated. '<authority>:<code>' is the preferred initialization method. When making the change, be mindful of axis order changes: https://pyproj4.github.io/pyproj/stable/gotchas.html#axis-order-changes-in-proj-6\n",
      "  return _prepare_from_string(\" \".join(pjargs))\n",
      "/home/prativa/anaconda3/envs/py36/lib/python3.6/site-packages/pyproj/crs/crs.py:53: FutureWarning: '+init=<authority>:<code>' syntax is deprecated. '<authority>:<code>' is the preferred initialization method. When making the change, be mindful of axis order changes: https://pyproj4.github.io/pyproj/stable/gotchas.html#axis-order-changes-in-proj-6\n",
      "  return _prepare_from_string(\" \".join(pjargs))\n"
     ]
    },
    {
     "name": "stdout",
     "output_type": "stream",
     "text": [
      "OpenCV(4.1.0) /io/opencv/modules/imgproc/src/color.cpp:182: error: (-215:Assertion failed) !_src.empty() in function 'cvtColor'\n",
      "OpenCV(4.1.0) /io/opencv/modules/imgproc/src/color.cpp:182: error: (-215:Assertion failed) !_src.empty() in function 'cvtColor'\n",
      "\n",
      "\n"
     ]
    },
    {
     "name": "stderr",
     "output_type": "stream",
     "text": [
      "\n",
      "\n",
      "\n",
      " 78%|███████▊  | 429/550 [01:31<00:11, 10.60it/s]\u001b[A\u001b[A\u001b[A/home/prativa/anaconda3/envs/py36/lib/python3.6/site-packages/pyproj/crs/crs.py:53: FutureWarning: '+init=<authority>:<code>' syntax is deprecated. '<authority>:<code>' is the preferred initialization method. When making the change, be mindful of axis order changes: https://pyproj4.github.io/pyproj/stable/gotchas.html#axis-order-changes-in-proj-6\n",
      "  return _prepare_from_string(\" \".join(pjargs))\n",
      "/home/prativa/anaconda3/envs/py36/lib/python3.6/site-packages/pyproj/crs/crs.py:53: FutureWarning: '+init=<authority>:<code>' syntax is deprecated. '<authority>:<code>' is the preferred initialization method. When making the change, be mindful of axis order changes: https://pyproj4.github.io/pyproj/stable/gotchas.html#axis-order-changes-in-proj-6\n",
      "  return _prepare_from_string(\" \".join(pjargs))\n",
      "/home/prativa/anaconda3/envs/py36/lib/python3.6/site-packages/pyproj/crs/crs.py:53: FutureWarning: '+init=<authority>:<code>' syntax is deprecated. '<authority>:<code>' is the preferred initialization method. When making the change, be mindful of axis order changes: https://pyproj4.github.io/pyproj/stable/gotchas.html#axis-order-changes-in-proj-6\n",
      "  return _prepare_from_string(\" \".join(pjargs))\n",
      "/home/prativa/anaconda3/envs/py36/lib/python3.6/site-packages/pyproj/crs/crs.py:53: FutureWarning: '+init=<authority>:<code>' syntax is deprecated. '<authority>:<code>' is the preferred initialization method. When making the change, be mindful of axis order changes: https://pyproj4.github.io/pyproj/stable/gotchas.html#axis-order-changes-in-proj-6\n",
      "  return _prepare_from_string(\" \".join(pjargs))\n"
     ]
    },
    {
     "name": "stdout",
     "output_type": "stream",
     "text": [
      "OpenCV(4.1.0) /io/opencv/modules/imgproc/src/color.cpp:182: error: (-215:Assertion failed) !_src.empty() in function 'cvtColor'\n",
      "OpenCV(4.1.0) /io/opencv/modules/imgproc/src/color.cpp:182: error: (-215:Assertion failed) !_src.empty() in function 'cvtColor'\n",
      "\n"
     ]
    },
    {
     "name": "stderr",
     "output_type": "stream",
     "text": [
      "/home/prativa/anaconda3/envs/py36/lib/python3.6/site-packages/pyproj/crs/crs.py:53: FutureWarning: '+init=<authority>:<code>' syntax is deprecated. '<authority>:<code>' is the preferred initialization method. When making the change, be mindful of axis order changes: https://pyproj4.github.io/pyproj/stable/gotchas.html#axis-order-changes-in-proj-6\n",
      "  return _prepare_from_string(\" \".join(pjargs))\n",
      "/home/prativa/anaconda3/envs/py36/lib/python3.6/site-packages/pyproj/crs/crs.py:53: FutureWarning: '+init=<authority>:<code>' syntax is deprecated. '<authority>:<code>' is the preferred initialization method. When making the change, be mindful of axis order changes: https://pyproj4.github.io/pyproj/stable/gotchas.html#axis-order-changes-in-proj-6\n",
      "  return _prepare_from_string(\" \".join(pjargs))\n"
     ]
    },
    {
     "name": "stdout",
     "output_type": "stream",
     "text": [
      "OpenCV(4.1.0) /io/opencv/modules/imgproc/src/color.cpp:182: error: (-215:Assertion failed) !_src.empty() in function 'cvtColor'\n",
      "\n"
     ]
    },
    {
     "name": "stderr",
     "output_type": "stream",
     "text": [
      "\n",
      "\n",
      "\n"
     ]
    },
    {
     "name": "stdout",
     "output_type": "stream",
     "text": [
      "\n"
     ]
    },
    {
     "name": "stderr",
     "output_type": "stream",
     "text": [
      " 78%|███████▊  | 431/550 [01:32<00:12,  9.69it/s]\u001b[A\u001b[A\u001b[A/home/prativa/anaconda3/envs/py36/lib/python3.6/site-packages/pyproj/crs/crs.py:53: FutureWarning: '+init=<authority>:<code>' syntax is deprecated. '<authority>:<code>' is the preferred initialization method. When making the change, be mindful of axis order changes: https://pyproj4.github.io/pyproj/stable/gotchas.html#axis-order-changes-in-proj-6\n",
      "  return _prepare_from_string(\" \".join(pjargs))\n",
      "/home/prativa/anaconda3/envs/py36/lib/python3.6/site-packages/pyproj/crs/crs.py:53: FutureWarning: '+init=<authority>:<code>' syntax is deprecated. '<authority>:<code>' is the preferred initialization method. When making the change, be mindful of axis order changes: https://pyproj4.github.io/pyproj/stable/gotchas.html#axis-order-changes-in-proj-6\n",
      "  return _prepare_from_string(\" \".join(pjargs))\n"
     ]
    },
    {
     "name": "stdout",
     "output_type": "stream",
     "text": [
      "OpenCV(4.1.0) /io/opencv/modules/imgproc/src/color.cpp:182: error: (-215:Assertion failed) !_src.empty() in function 'cvtColor'\n",
      "\n"
     ]
    },
    {
     "name": "stderr",
     "output_type": "stream",
     "text": [
      "/home/prativa/anaconda3/envs/py36/lib/python3.6/site-packages/pyproj/crs/crs.py:53: FutureWarning: '+init=<authority>:<code>' syntax is deprecated. '<authority>:<code>' is the preferred initialization method. When making the change, be mindful of axis order changes: https://pyproj4.github.io/pyproj/stable/gotchas.html#axis-order-changes-in-proj-6\n",
      "  return _prepare_from_string(\" \".join(pjargs))\n",
      "/home/prativa/anaconda3/envs/py36/lib/python3.6/site-packages/pyproj/crs/crs.py:53: FutureWarning: '+init=<authority>:<code>' syntax is deprecated. '<authority>:<code>' is the preferred initialization method. When making the change, be mindful of axis order changes: https://pyproj4.github.io/pyproj/stable/gotchas.html#axis-order-changes-in-proj-6\n",
      "  return _prepare_from_string(\" \".join(pjargs))\n",
      "/home/prativa/anaconda3/envs/py36/lib/python3.6/site-packages/pyproj/crs/crs.py:53: FutureWarning: '+init=<authority>:<code>' syntax is deprecated. '<authority>:<code>' is the preferred initialization method. When making the change, be mindful of axis order changes: https://pyproj4.github.io/pyproj/stable/gotchas.html#axis-order-changes-in-proj-6\n",
      "  return _prepare_from_string(\" \".join(pjargs))\n",
      "/home/prativa/anaconda3/envs/py36/lib/python3.6/site-packages/pyproj/crs/crs.py:53: FutureWarning: '+init=<authority>:<code>' syntax is deprecated. '<authority>:<code>' is the preferred initialization method. When making the change, be mindful of axis order changes: https://pyproj4.github.io/pyproj/stable/gotchas.html#axis-order-changes-in-proj-6\n",
      "  return _prepare_from_string(\" \".join(pjargs))\n",
      "/home/prativa/anaconda3/envs/py36/lib/python3.6/site-packages/pyproj/crs/crs.py:53: FutureWarning: '+init=<authority>:<code>' syntax is deprecated. '<authority>:<code>' is the preferred initialization method. When making the change, be mindful of axis order changes: https://pyproj4.github.io/pyproj/stable/gotchas.html#axis-order-changes-in-proj-6\n",
      "  return _prepare_from_string(\" \".join(pjargs))\n"
     ]
    },
    {
     "name": "stdout",
     "output_type": "stream",
     "text": [
      "OpenCV(4.1.0) /io/opencv/modules/imgproc/src/color.cpp:182: error: (-215:Assertion failed) !_src.empty() in function 'cvtColor'\n"
     ]
    },
    {
     "name": "stderr",
     "output_type": "stream",
     "text": [
      "/home/prativa/anaconda3/envs/py36/lib/python3.6/site-packages/pyproj/crs/crs.py:53: FutureWarning: '+init=<authority>:<code>' syntax is deprecated. '<authority>:<code>' is the preferred initialization method. When making the change, be mindful of axis order changes: https://pyproj4.github.io/pyproj/stable/gotchas.html#axis-order-changes-in-proj-6\n",
      "  return _prepare_from_string(\" \".join(pjargs))\n"
     ]
    },
    {
     "name": "stdout",
     "output_type": "stream",
     "text": [
      "\n"
     ]
    },
    {
     "name": "stderr",
     "output_type": "stream",
     "text": [
      "\n",
      "\n",
      "\n",
      " 79%|███████▉  | 434/550 [01:32<00:11,  9.88it/s]\u001b[A\u001b[A\u001b[A/home/prativa/anaconda3/envs/py36/lib/python3.6/site-packages/pyproj/crs/crs.py:53: FutureWarning: '+init=<authority>:<code>' syntax is deprecated. '<authority>:<code>' is the preferred initialization method. When making the change, be mindful of axis order changes: https://pyproj4.github.io/pyproj/stable/gotchas.html#axis-order-changes-in-proj-6\n",
      "  return _prepare_from_string(\" \".join(pjargs))\n"
     ]
    },
    {
     "name": "stdout",
     "output_type": "stream",
     "text": [
      "OpenCV(4.1.0) /io/opencv/modules/imgproc/src/color.cpp:182: error: (-215:Assertion failed) !_src.empty() in function 'cvtColor'\n",
      "\n",
      "OpenCV(4.1.0) /io/opencv/modules/imgproc/src/color.cpp:182: error: (-215:Assertion failed) !_src.empty() in function 'cvtColor'\n",
      "OpenCV(4.1.0) /io/opencv/modules/imgproc/src/color.cpp:182: error: (-215:Assertion failed) !_src.empty() in function 'cvtColor'\n",
      "\n"
     ]
    },
    {
     "name": "stderr",
     "output_type": "stream",
     "text": [
      "/home/prativa/anaconda3/envs/py36/lib/python3.6/site-packages/pyproj/crs/crs.py:53: FutureWarning: '+init=<authority>:<code>' syntax is deprecated. '<authority>:<code>' is the preferred initialization method. When making the change, be mindful of axis order changes: https://pyproj4.github.io/pyproj/stable/gotchas.html#axis-order-changes-in-proj-6\n",
      "  return _prepare_from_string(\" \".join(pjargs))\n",
      "/home/prativa/anaconda3/envs/py36/lib/python3.6/site-packages/pyproj/crs/crs.py:53: FutureWarning: '+init=<authority>:<code>' syntax is deprecated. '<authority>:<code>' is the preferred initialization method. When making the change, be mindful of axis order changes: https://pyproj4.github.io/pyproj/stable/gotchas.html#axis-order-changes-in-proj-6\n",
      "  return _prepare_from_string(\" \".join(pjargs))\n"
     ]
    },
    {
     "name": "stdout",
     "output_type": "stream",
     "text": [
      "\n"
     ]
    },
    {
     "name": "stderr",
     "output_type": "stream",
     "text": [
      "/home/prativa/anaconda3/envs/py36/lib/python3.6/site-packages/pyproj/crs/crs.py:53: FutureWarning: '+init=<authority>:<code>' syntax is deprecated. '<authority>:<code>' is the preferred initialization method. When making the change, be mindful of axis order changes: https://pyproj4.github.io/pyproj/stable/gotchas.html#axis-order-changes-in-proj-6\n",
      "  return _prepare_from_string(\" \".join(pjargs))\n",
      "\n",
      "\n",
      "\n",
      " 79%|███████▉  | 436/550 [01:32<00:12,  9.08it/s]\u001b[A\u001b[A\u001b[A/home/prativa/anaconda3/envs/py36/lib/python3.6/site-packages/pyproj/crs/crs.py:53: FutureWarning: '+init=<authority>:<code>' syntax is deprecated. '<authority>:<code>' is the preferred initialization method. When making the change, be mindful of axis order changes: https://pyproj4.github.io/pyproj/stable/gotchas.html#axis-order-changes-in-proj-6\n",
      "  return _prepare_from_string(\" \".join(pjargs))\n",
      "/home/prativa/anaconda3/envs/py36/lib/python3.6/site-packages/pyproj/crs/crs.py:53: FutureWarning: '+init=<authority>:<code>' syntax is deprecated. '<authority>:<code>' is the preferred initialization method. When making the change, be mindful of axis order changes: https://pyproj4.github.io/pyproj/stable/gotchas.html#axis-order-changes-in-proj-6\n",
      "  return _prepare_from_string(\" \".join(pjargs))\n",
      "/home/prativa/anaconda3/envs/py36/lib/python3.6/site-packages/pyproj/crs/crs.py:53: FutureWarning: '+init=<authority>:<code>' syntax is deprecated. '<authority>:<code>' is the preferred initialization method. When making the change, be mindful of axis order changes: https://pyproj4.github.io/pyproj/stable/gotchas.html#axis-order-changes-in-proj-6\n",
      "  return _prepare_from_string(\" \".join(pjargs))\n",
      "/home/prativa/anaconda3/envs/py36/lib/python3.6/site-packages/pyproj/crs/crs.py:53: FutureWarning: '+init=<authority>:<code>' syntax is deprecated. '<authority>:<code>' is the preferred initialization method. When making the change, be mindful of axis order changes: https://pyproj4.github.io/pyproj/stable/gotchas.html#axis-order-changes-in-proj-6\n",
      "  return _prepare_from_string(\" \".join(pjargs))\n",
      "/home/prativa/anaconda3/envs/py36/lib/python3.6/site-packages/pyproj/crs/crs.py:53: FutureWarning: '+init=<authority>:<code>' syntax is deprecated. '<authority>:<code>' is the preferred initialization method. When making the change, be mindful of axis order changes: https://pyproj4.github.io/pyproj/stable/gotchas.html#axis-order-changes-in-proj-6\n",
      "  return _prepare_from_string(\" \".join(pjargs))\n"
     ]
    },
    {
     "name": "stdout",
     "output_type": "stream",
     "text": [
      "OpenCV(4.1.0) /io/opencv/modules/imgproc/src/color.cpp:182: error: (-215:Assertion failed) !_src.empty() in function 'cvtColor'\n",
      "\n"
     ]
    },
    {
     "name": "stderr",
     "output_type": "stream",
     "text": [
      "\n",
      "\n",
      "\n",
      " 80%|███████▉  | 438/550 [01:33<00:13,  8.35it/s]\u001b[A\u001b[A\u001b[A"
     ]
    },
    {
     "name": "stdout",
     "output_type": "stream",
     "text": [
      "OpenCV(4.1.0) /io/opencv/modules/imgproc/src/color.cpp:182: error: (-215:Assertion failed) !_src.empty() in function 'cvtColor'\n"
     ]
    },
    {
     "name": "stderr",
     "output_type": "stream",
     "text": [
      "/home/prativa/anaconda3/envs/py36/lib/python3.6/site-packages/pyproj/crs/crs.py:53: FutureWarning: '+init=<authority>:<code>' syntax is deprecated. '<authority>:<code>' is the preferred initialization method. When making the change, be mindful of axis order changes: https://pyproj4.github.io/pyproj/stable/gotchas.html#axis-order-changes-in-proj-6\n",
      "  return _prepare_from_string(\" \".join(pjargs))\n"
     ]
    },
    {
     "name": "stdout",
     "output_type": "stream",
     "text": [
      "\n"
     ]
    },
    {
     "name": "stderr",
     "output_type": "stream",
     "text": [
      "/home/prativa/anaconda3/envs/py36/lib/python3.6/site-packages/pyproj/crs/crs.py:53: FutureWarning: '+init=<authority>:<code>' syntax is deprecated. '<authority>:<code>' is the preferred initialization method. When making the change, be mindful of axis order changes: https://pyproj4.github.io/pyproj/stable/gotchas.html#axis-order-changes-in-proj-6\n",
      "  return _prepare_from_string(\" \".join(pjargs))\n"
     ]
    },
    {
     "name": "stdout",
     "output_type": "stream",
     "text": [
      "OpenCV(4.1.0) /io/opencv/modules/imgproc/src/color.cpp:182: error: (-215:Assertion failed) !_src.empty() in function 'cvtColor'\n",
      "\n"
     ]
    },
    {
     "name": "stderr",
     "output_type": "stream",
     "text": [
      "\n",
      "\n",
      "\n",
      " 80%|███████▉  | 439/550 [01:33<00:16,  6.76it/s]\u001b[A\u001b[A\u001b[A/home/prativa/anaconda3/envs/py36/lib/python3.6/site-packages/pyproj/crs/crs.py:53: FutureWarning: '+init=<authority>:<code>' syntax is deprecated. '<authority>:<code>' is the preferred initialization method. When making the change, be mindful of axis order changes: https://pyproj4.github.io/pyproj/stable/gotchas.html#axis-order-changes-in-proj-6\n",
      "  return _prepare_from_string(\" \".join(pjargs))\n",
      "/home/prativa/anaconda3/envs/py36/lib/python3.6/site-packages/pyproj/crs/crs.py:53: FutureWarning: '+init=<authority>:<code>' syntax is deprecated. '<authority>:<code>' is the preferred initialization method. When making the change, be mindful of axis order changes: https://pyproj4.github.io/pyproj/stable/gotchas.html#axis-order-changes-in-proj-6\n",
      "  return _prepare_from_string(\" \".join(pjargs))\n",
      "/home/prativa/anaconda3/envs/py36/lib/python3.6/site-packages/pyproj/crs/crs.py:53: FutureWarning: '+init=<authority>:<code>' syntax is deprecated. '<authority>:<code>' is the preferred initialization method. When making the change, be mindful of axis order changes: https://pyproj4.github.io/pyproj/stable/gotchas.html#axis-order-changes-in-proj-6\n",
      "  return _prepare_from_string(\" \".join(pjargs))\n"
     ]
    },
    {
     "name": "stdout",
     "output_type": "stream",
     "text": [
      "OpenCV(4.1.0) /io/opencv/modules/imgproc/src/color.cpp:182: error: (-215:Assertion failed) !_src.empty() in function 'cvtColor'\n"
     ]
    },
    {
     "name": "stderr",
     "output_type": "stream",
     "text": [
      "/home/prativa/anaconda3/envs/py36/lib/python3.6/site-packages/pyproj/crs/crs.py:53: FutureWarning: '+init=<authority>:<code>' syntax is deprecated. '<authority>:<code>' is the preferred initialization method. When making the change, be mindful of axis order changes: https://pyproj4.github.io/pyproj/stable/gotchas.html#axis-order-changes-in-proj-6\n",
      "  return _prepare_from_string(\" \".join(pjargs))\n"
     ]
    },
    {
     "name": "stdout",
     "output_type": "stream",
     "text": [
      "\n"
     ]
    },
    {
     "name": "stderr",
     "output_type": "stream",
     "text": [
      "\n",
      "\n",
      "\n",
      " 80%|████████  | 440/550 [01:33<00:16,  6.66it/s]\u001b[A\u001b[A\u001b[A"
     ]
    },
    {
     "name": "stdout",
     "output_type": "stream",
     "text": [
      "OpenCV(4.1.0) /io/opencv/modules/imgproc/src/color.cpp:182: error: (-215:Assertion failed) !_src.empty() in function 'cvtColor'\n",
      "\n"
     ]
    },
    {
     "name": "stderr",
     "output_type": "stream",
     "text": [
      "/home/prativa/anaconda3/envs/py36/lib/python3.6/site-packages/pyproj/crs/crs.py:53: FutureWarning: '+init=<authority>:<code>' syntax is deprecated. '<authority>:<code>' is the preferred initialization method. When making the change, be mindful of axis order changes: https://pyproj4.github.io/pyproj/stable/gotchas.html#axis-order-changes-in-proj-6\n",
      "  return _prepare_from_string(\" \".join(pjargs))\n"
     ]
    },
    {
     "name": "stdout",
     "output_type": "stream",
     "text": [
      "OpenCV(4.1.0) /io/opencv/modules/imgproc/src/color.cpp:182: error: (-215:Assertion failed) !_src.empty() in function 'cvtColor'\n",
      "\n"
     ]
    },
    {
     "name": "stderr",
     "output_type": "stream",
     "text": [
      "/home/prativa/anaconda3/envs/py36/lib/python3.6/site-packages/pyproj/crs/crs.py:53: FutureWarning: '+init=<authority>:<code>' syntax is deprecated. '<authority>:<code>' is the preferred initialization method. When making the change, be mindful of axis order changes: https://pyproj4.github.io/pyproj/stable/gotchas.html#axis-order-changes-in-proj-6\n",
      "  return _prepare_from_string(\" \".join(pjargs))\n"
     ]
    },
    {
     "name": "stdout",
     "output_type": "stream",
     "text": [
      "OpenCV(4.1.0) /io/opencv/modules/imgproc/src/color.cpp:182: error: (-215:Assertion failed) !_src.empty() in function 'cvtColor'\n",
      "OpenCV(4.1.0) /io/opencv/modules/imgproc/src/color.cpp:182: error: (-215:Assertion failed) !_src.empty() in function 'cvtColor'\n",
      "\n",
      "\n"
     ]
    },
    {
     "name": "stderr",
     "output_type": "stream",
     "text": [
      "\n",
      "\n",
      "\n",
      " 81%|████████  | 444/550 [01:33<00:12,  8.48it/s]\u001b[A\u001b[A\u001b[A/home/prativa/anaconda3/envs/py36/lib/python3.6/site-packages/pyproj/crs/crs.py:53: FutureWarning: '+init=<authority>:<code>' syntax is deprecated. '<authority>:<code>' is the preferred initialization method. When making the change, be mindful of axis order changes: https://pyproj4.github.io/pyproj/stable/gotchas.html#axis-order-changes-in-proj-6\n",
      "  return _prepare_from_string(\" \".join(pjargs))\n",
      "/home/prativa/anaconda3/envs/py36/lib/python3.6/site-packages/pyproj/crs/crs.py:53: FutureWarning: '+init=<authority>:<code>' syntax is deprecated. '<authority>:<code>' is the preferred initialization method. When making the change, be mindful of axis order changes: https://pyproj4.github.io/pyproj/stable/gotchas.html#axis-order-changes-in-proj-6\n",
      "  return _prepare_from_string(\" \".join(pjargs))\n"
     ]
    },
    {
     "name": "stdout",
     "output_type": "stream",
     "text": [
      "OpenCV(4.1.0) /io/opencv/modules/imgproc/src/color.cpp:182: error: (-215:Assertion failed) !_src.empty() in function 'cvtColor'\n",
      "\n",
      "OpenCV(4.1.0) /io/opencv/modules/imgproc/src/color.cpp:182: error: (-215:Assertion failed) !_src.empty() in function 'cvtColor'\n"
     ]
    },
    {
     "name": "stderr",
     "output_type": "stream",
     "text": [
      "/home/prativa/anaconda3/envs/py36/lib/python3.6/site-packages/pyproj/crs/crs.py:53: FutureWarning: '+init=<authority>:<code>' syntax is deprecated. '<authority>:<code>' is the preferred initialization method. When making the change, be mindful of axis order changes: https://pyproj4.github.io/pyproj/stable/gotchas.html#axis-order-changes-in-proj-6\n",
      "  return _prepare_from_string(\" \".join(pjargs))\n",
      "/home/prativa/anaconda3/envs/py36/lib/python3.6/site-packages/pyproj/crs/crs.py:53: FutureWarning: '+init=<authority>:<code>' syntax is deprecated. '<authority>:<code>' is the preferred initialization method. When making the change, be mindful of axis order changes: https://pyproj4.github.io/pyproj/stable/gotchas.html#axis-order-changes-in-proj-6\n",
      "  return _prepare_from_string(\" \".join(pjargs))\n",
      "/home/prativa/anaconda3/envs/py36/lib/python3.6/site-packages/pyproj/crs/crs.py:53: FutureWarning: '+init=<authority>:<code>' syntax is deprecated. '<authority>:<code>' is the preferred initialization method. When making the change, be mindful of axis order changes: https://pyproj4.github.io/pyproj/stable/gotchas.html#axis-order-changes-in-proj-6\n",
      "  return _prepare_from_string(\" \".join(pjargs))\n"
     ]
    },
    {
     "name": "stdout",
     "output_type": "stream",
     "text": [
      "\n"
     ]
    },
    {
     "name": "stderr",
     "output_type": "stream",
     "text": [
      "\n",
      "\n",
      "\n",
      " 81%|████████  | 446/550 [01:33<00:11,  8.98it/s]\u001b[A\u001b[A\u001b[A"
     ]
    },
    {
     "name": "stdout",
     "output_type": "stream",
     "text": [
      "OpenCV(4.1.0) /io/opencv/modules/imgproc/src/color.cpp:182: error: (-215:Assertion failed) !_src.empty() in function 'cvtColor'\n"
     ]
    },
    {
     "name": "stderr",
     "output_type": "stream",
     "text": [
      "/home/prativa/anaconda3/envs/py36/lib/python3.6/site-packages/pyproj/crs/crs.py:53: FutureWarning: '+init=<authority>:<code>' syntax is deprecated. '<authority>:<code>' is the preferred initialization method. When making the change, be mindful of axis order changes: https://pyproj4.github.io/pyproj/stable/gotchas.html#axis-order-changes-in-proj-6\n",
      "  return _prepare_from_string(\" \".join(pjargs))\n",
      "/home/prativa/anaconda3/envs/py36/lib/python3.6/site-packages/pyproj/crs/crs.py:53: FutureWarning: '+init=<authority>:<code>' syntax is deprecated. '<authority>:<code>' is the preferred initialization method. When making the change, be mindful of axis order changes: https://pyproj4.github.io/pyproj/stable/gotchas.html#axis-order-changes-in-proj-6\n",
      "  return _prepare_from_string(\" \".join(pjargs))\n"
     ]
    },
    {
     "name": "stdout",
     "output_type": "stream",
     "text": [
      "\n"
     ]
    },
    {
     "name": "stderr",
     "output_type": "stream",
     "text": [
      "/home/prativa/anaconda3/envs/py36/lib/python3.6/site-packages/pyproj/crs/crs.py:53: FutureWarning: '+init=<authority>:<code>' syntax is deprecated. '<authority>:<code>' is the preferred initialization method. When making the change, be mindful of axis order changes: https://pyproj4.github.io/pyproj/stable/gotchas.html#axis-order-changes-in-proj-6\n",
      "  return _prepare_from_string(\" \".join(pjargs))\n",
      "/home/prativa/anaconda3/envs/py36/lib/python3.6/site-packages/pyproj/crs/crs.py:53: FutureWarning: '+init=<authority>:<code>' syntax is deprecated. '<authority>:<code>' is the preferred initialization method. When making the change, be mindful of axis order changes: https://pyproj4.github.io/pyproj/stable/gotchas.html#axis-order-changes-in-proj-6\n",
      "  return _prepare_from_string(\" \".join(pjargs))\n",
      "/home/prativa/anaconda3/envs/py36/lib/python3.6/site-packages/pyproj/crs/crs.py:53: FutureWarning: '+init=<authority>:<code>' syntax is deprecated. '<authority>:<code>' is the preferred initialization method. When making the change, be mindful of axis order changes: https://pyproj4.github.io/pyproj/stable/gotchas.html#axis-order-changes-in-proj-6\n",
      "  return _prepare_from_string(\" \".join(pjargs))\n",
      "/home/prativa/anaconda3/envs/py36/lib/python3.6/site-packages/pyproj/crs/crs.py:53: FutureWarning: '+init=<authority>:<code>' syntax is deprecated. '<authority>:<code>' is the preferred initialization method. When making the change, be mindful of axis order changes: https://pyproj4.github.io/pyproj/stable/gotchas.html#axis-order-changes-in-proj-6\n",
      "  return _prepare_from_string(\" \".join(pjargs))\n",
      "/home/prativa/anaconda3/envs/py36/lib/python3.6/site-packages/pyproj/crs/crs.py:53: FutureWarning: '+init=<authority>:<code>' syntax is deprecated. '<authority>:<code>' is the preferred initialization method. When making the change, be mindful of axis order changes: https://pyproj4.github.io/pyproj/stable/gotchas.html#axis-order-changes-in-proj-6\n",
      "  return _prepare_from_string(\" \".join(pjargs))\n",
      "/home/prativa/anaconda3/envs/py36/lib/python3.6/site-packages/pyproj/crs/crs.py:53: FutureWarning: '+init=<authority>:<code>' syntax is deprecated. '<authority>:<code>' is the preferred initialization method. When making the change, be mindful of axis order changes: https://pyproj4.github.io/pyproj/stable/gotchas.html#axis-order-changes-in-proj-6\n",
      "  return _prepare_from_string(\" \".join(pjargs))\n",
      "/home/prativa/anaconda3/envs/py36/lib/python3.6/site-packages/pyproj/crs/crs.py:53: FutureWarning: '+init=<authority>:<code>' syntax is deprecated. '<authority>:<code>' is the preferred initialization method. When making the change, be mindful of axis order changes: https://pyproj4.github.io/pyproj/stable/gotchas.html#axis-order-changes-in-proj-6\n",
      "  return _prepare_from_string(\" \".join(pjargs))\n"
     ]
    },
    {
     "name": "stdout",
     "output_type": "stream",
     "text": [
      "OpenCV(4.1.0) /io/opencv/modules/imgproc/src/color.cpp:182: error: (-215:Assertion failed) !_src.empty() in function 'cvtColor'\n"
     ]
    },
    {
     "name": "stderr",
     "output_type": "stream",
     "text": [
      "/home/prativa/anaconda3/envs/py36/lib/python3.6/site-packages/pyproj/crs/crs.py:53: FutureWarning: '+init=<authority>:<code>' syntax is deprecated. '<authority>:<code>' is the preferred initialization method. When making the change, be mindful of axis order changes: https://pyproj4.github.io/pyproj/stable/gotchas.html#axis-order-changes-in-proj-6\n",
      "  return _prepare_from_string(\" \".join(pjargs))\n"
     ]
    },
    {
     "name": "stdout",
     "output_type": "stream",
     "text": [
      "\n"
     ]
    },
    {
     "name": "stderr",
     "output_type": "stream",
     "text": [
      "/home/prativa/anaconda3/envs/py36/lib/python3.6/site-packages/pyproj/crs/crs.py:53: FutureWarning: '+init=<authority>:<code>' syntax is deprecated. '<authority>:<code>' is the preferred initialization method. When making the change, be mindful of axis order changes: https://pyproj4.github.io/pyproj/stable/gotchas.html#axis-order-changes-in-proj-6\n",
      "  return _prepare_from_string(\" \".join(pjargs))\n"
     ]
    },
    {
     "name": "stdout",
     "output_type": "stream",
     "text": [
      "OpenCV(4.1.0) /io/opencv/modules/imgproc/src/color.cpp:182: error: (-215:Assertion failed) !_src.empty() in function 'cvtColor'\n"
     ]
    },
    {
     "name": "stderr",
     "output_type": "stream",
     "text": [
      "/home/prativa/anaconda3/envs/py36/lib/python3.6/site-packages/pyproj/crs/crs.py:53: FutureWarning: '+init=<authority>:<code>' syntax is deprecated. '<authority>:<code>' is the preferred initialization method. When making the change, be mindful of axis order changes: https://pyproj4.github.io/pyproj/stable/gotchas.html#axis-order-changes-in-proj-6\n",
      "  return _prepare_from_string(\" \".join(pjargs))\n"
     ]
    },
    {
     "name": "stdout",
     "output_type": "stream",
     "text": [
      "\n"
     ]
    },
    {
     "name": "stderr",
     "output_type": "stream",
     "text": [
      "\n",
      "\n",
      "\n",
      " 82%|████████▏ | 449/550 [01:34<00:13,  7.46it/s]\u001b[A\u001b[A\u001b[A/home/prativa/anaconda3/envs/py36/lib/python3.6/site-packages/ipykernel_launcher.py:72: MatplotlibDeprecationWarning: You are modifying the state of a globally registered colormap. In future versions, you will not be able to modify a registered colormap in-place. To remove this warning, you can make a copy of the colormap first. cmap = copy.copy(mpl.cm.get_cmap(\"gray\"))\n",
      "/home/prativa/anaconda3/envs/py36/lib/python3.6/site-packages/pyproj/crs/crs.py:53: FutureWarning: '+init=<authority>:<code>' syntax is deprecated. '<authority>:<code>' is the preferred initialization method. When making the change, be mindful of axis order changes: https://pyproj4.github.io/pyproj/stable/gotchas.html#axis-order-changes-in-proj-6\n",
      "  return _prepare_from_string(\" \".join(pjargs))\n",
      "/home/prativa/anaconda3/envs/py36/lib/python3.6/site-packages/ipykernel_launcher.py:72: MatplotlibDeprecationWarning: You are modifying the state of a globally registered colormap. In future versions, you will not be able to modify a registered colormap in-place. To remove this warning, you can make a copy of the colormap first. cmap = copy.copy(mpl.cm.get_cmap(\"gray\"))\n",
      "/home/prativa/anaconda3/envs/py36/lib/python3.6/site-packages/pyproj/crs/crs.py:53: FutureWarning: '+init=<authority>:<code>' syntax is deprecated. '<authority>:<code>' is the preferred initialization method. When making the change, be mindful of axis order changes: https://pyproj4.github.io/pyproj/stable/gotchas.html#axis-order-changes-in-proj-6\n",
      "  return _prepare_from_string(\" \".join(pjargs))\n",
      "/home/prativa/anaconda3/envs/py36/lib/python3.6/site-packages/pyproj/crs/crs.py:53: FutureWarning: '+init=<authority>:<code>' syntax is deprecated. '<authority>:<code>' is the preferred initialization method. When making the change, be mindful of axis order changes: https://pyproj4.github.io/pyproj/stable/gotchas.html#axis-order-changes-in-proj-6\n",
      "  return _prepare_from_string(\" \".join(pjargs))\n",
      "/home/prativa/anaconda3/envs/py36/lib/python3.6/site-packages/ipykernel_launcher.py:72: MatplotlibDeprecationWarning: You are modifying the state of a globally registered colormap. In future versions, you will not be able to modify a registered colormap in-place. To remove this warning, you can make a copy of the colormap first. cmap = copy.copy(mpl.cm.get_cmap(\"gray\"))\n",
      "/home/prativa/anaconda3/envs/py36/lib/python3.6/site-packages/ipykernel_launcher.py:72: MatplotlibDeprecationWarning: You are modifying the state of a globally registered colormap. In future versions, you will not be able to modify a registered colormap in-place. To remove this warning, you can make a copy of the colormap first. cmap = copy.copy(mpl.cm.get_cmap(\"gray\"))\n",
      "/home/prativa/anaconda3/envs/py36/lib/python3.6/site-packages/pyproj/crs/crs.py:53: FutureWarning: '+init=<authority>:<code>' syntax is deprecated. '<authority>:<code>' is the preferred initialization method. When making the change, be mindful of axis order changes: https://pyproj4.github.io/pyproj/stable/gotchas.html#axis-order-changes-in-proj-6\n",
      "  return _prepare_from_string(\" \".join(pjargs))\n",
      "/home/prativa/anaconda3/envs/py36/lib/python3.6/site-packages/ipykernel_launcher.py:72: MatplotlibDeprecationWarning: You are modifying the state of a globally registered colormap. In future versions, you will not be able to modify a registered colormap in-place. To remove this warning, you can make a copy of the colormap first. cmap = copy.copy(mpl.cm.get_cmap(\"gray\"))\n",
      "/home/prativa/anaconda3/envs/py36/lib/python3.6/site-packages/pyproj/crs/crs.py:53: FutureWarning: '+init=<authority>:<code>' syntax is deprecated. '<authority>:<code>' is the preferred initialization method. When making the change, be mindful of axis order changes: https://pyproj4.github.io/pyproj/stable/gotchas.html#axis-order-changes-in-proj-6\n",
      "  return _prepare_from_string(\" \".join(pjargs))\n",
      "/home/prativa/anaconda3/envs/py36/lib/python3.6/site-packages/ipykernel_launcher.py:72: MatplotlibDeprecationWarning: You are modifying the state of a globally registered colormap. In future versions, you will not be able to modify a registered colormap in-place. To remove this warning, you can make a copy of the colormap first. cmap = copy.copy(mpl.cm.get_cmap(\"gray\"))\n",
      "/home/prativa/anaconda3/envs/py36/lib/python3.6/site-packages/ipykernel_launcher.py:72: MatplotlibDeprecationWarning: You are modifying the state of a globally registered colormap. In future versions, you will not be able to modify a registered colormap in-place. To remove this warning, you can make a copy of the colormap first. cmap = copy.copy(mpl.cm.get_cmap(\"gray\"))\n",
      "/home/prativa/anaconda3/envs/py36/lib/python3.6/site-packages/ipykernel_launcher.py:72: MatplotlibDeprecationWarning: You are modifying the state of a globally registered colormap. In future versions, you will not be able to modify a registered colormap in-place. To remove this warning, you can make a copy of the colormap first. cmap = copy.copy(mpl.cm.get_cmap(\"gray\"))\n",
      "/home/prativa/anaconda3/envs/py36/lib/python3.6/site-packages/ipykernel_launcher.py:72: MatplotlibDeprecationWarning: You are modifying the state of a globally registered colormap. In future versions, you will not be able to modify a registered colormap in-place. To remove this warning, you can make a copy of the colormap first. cmap = copy.copy(mpl.cm.get_cmap(\"gray\"))\n",
      "/home/prativa/anaconda3/envs/py36/lib/python3.6/site-packages/ipykernel_launcher.py:72: MatplotlibDeprecationWarning: You are modifying the state of a globally registered colormap. In future versions, you will not be able to modify a registered colormap in-place. To remove this warning, you can make a copy of the colormap first. cmap = copy.copy(mpl.cm.get_cmap(\"gray\"))\n",
      "\n",
      "\n",
      "\n",
      " 82%|████████▏ | 451/550 [01:36<00:38,  2.55it/s]\u001b[A\u001b[A\u001b[A/home/prativa/anaconda3/envs/py36/lib/python3.6/site-packages/pyproj/crs/crs.py:53: FutureWarning: '+init=<authority>:<code>' syntax is deprecated. '<authority>:<code>' is the preferred initialization method. When making the change, be mindful of axis order changes: https://pyproj4.github.io/pyproj/stable/gotchas.html#axis-order-changes-in-proj-6\n",
      "  return _prepare_from_string(\" \".join(pjargs))\n",
      "/home/prativa/anaconda3/envs/py36/lib/python3.6/site-packages/pyproj/crs/crs.py:53: FutureWarning: '+init=<authority>:<code>' syntax is deprecated. '<authority>:<code>' is the preferred initialization method. When making the change, be mindful of axis order changes: https://pyproj4.github.io/pyproj/stable/gotchas.html#axis-order-changes-in-proj-6\n",
      "  return _prepare_from_string(\" \".join(pjargs))\n",
      "/home/prativa/anaconda3/envs/py36/lib/python3.6/site-packages/pyproj/crs/crs.py:53: FutureWarning: '+init=<authority>:<code>' syntax is deprecated. '<authority>:<code>' is the preferred initialization method. When making the change, be mindful of axis order changes: https://pyproj4.github.io/pyproj/stable/gotchas.html#axis-order-changes-in-proj-6\n",
      "  return _prepare_from_string(\" \".join(pjargs))\n",
      "\n",
      "\n",
      "\n",
      " 83%|████████▎ | 454/550 [01:36<00:28,  3.33it/s]\u001b[A\u001b[A\u001b[A/home/prativa/anaconda3/envs/py36/lib/python3.6/site-packages/pyproj/crs/crs.py:53: FutureWarning: '+init=<authority>:<code>' syntax is deprecated. '<authority>:<code>' is the preferred initialization method. When making the change, be mindful of axis order changes: https://pyproj4.github.io/pyproj/stable/gotchas.html#axis-order-changes-in-proj-6\n",
      "  return _prepare_from_string(\" \".join(pjargs))\n",
      "/home/prativa/anaconda3/envs/py36/lib/python3.6/site-packages/pyproj/crs/crs.py:53: FutureWarning: '+init=<authority>:<code>' syntax is deprecated. '<authority>:<code>' is the preferred initialization method. When making the change, be mindful of axis order changes: https://pyproj4.github.io/pyproj/stable/gotchas.html#axis-order-changes-in-proj-6\n",
      "  return _prepare_from_string(\" \".join(pjargs))\n",
      "/home/prativa/anaconda3/envs/py36/lib/python3.6/site-packages/pyproj/crs/crs.py:53: FutureWarning: '+init=<authority>:<code>' syntax is deprecated. '<authority>:<code>' is the preferred initialization method. When making the change, be mindful of axis order changes: https://pyproj4.github.io/pyproj/stable/gotchas.html#axis-order-changes-in-proj-6\n",
      "  return _prepare_from_string(\" \".join(pjargs))\n"
     ]
    },
    {
     "name": "stderr",
     "output_type": "stream",
     "text": [
      "/home/prativa/anaconda3/envs/py36/lib/python3.6/site-packages/pyproj/crs/crs.py:53: FutureWarning: '+init=<authority>:<code>' syntax is deprecated. '<authority>:<code>' is the preferred initialization method. When making the change, be mindful of axis order changes: https://pyproj4.github.io/pyproj/stable/gotchas.html#axis-order-changes-in-proj-6\n",
      "  return _prepare_from_string(\" \".join(pjargs))\n",
      "/home/prativa/anaconda3/envs/py36/lib/python3.6/site-packages/pyproj/crs/crs.py:53: FutureWarning: '+init=<authority>:<code>' syntax is deprecated. '<authority>:<code>' is the preferred initialization method. When making the change, be mindful of axis order changes: https://pyproj4.github.io/pyproj/stable/gotchas.html#axis-order-changes-in-proj-6\n",
      "  return _prepare_from_string(\" \".join(pjargs))\n",
      "\n",
      "\n",
      "\n",
      " 83%|████████▎ | 455/550 [01:36<00:32,  2.94it/s]\u001b[A\u001b[A\u001b[A\n",
      "\n",
      "\n",
      " 83%|████████▎ | 456/550 [01:37<00:25,  3.66it/s]\u001b[A\u001b[A\u001b[A/home/prativa/anaconda3/envs/py36/lib/python3.6/site-packages/pyproj/crs/crs.py:53: FutureWarning: '+init=<authority>:<code>' syntax is deprecated. '<authority>:<code>' is the preferred initialization method. When making the change, be mindful of axis order changes: https://pyproj4.github.io/pyproj/stable/gotchas.html#axis-order-changes-in-proj-6\n",
      "  return _prepare_from_string(\" \".join(pjargs))\n",
      "/home/prativa/anaconda3/envs/py36/lib/python3.6/site-packages/ipykernel_launcher.py:72: MatplotlibDeprecationWarning: You are modifying the state of a globally registered colormap. In future versions, you will not be able to modify a registered colormap in-place. To remove this warning, you can make a copy of the colormap first. cmap = copy.copy(mpl.cm.get_cmap(\"gray\"))\n",
      "/home/prativa/anaconda3/envs/py36/lib/python3.6/site-packages/ipykernel_launcher.py:72: MatplotlibDeprecationWarning: You are modifying the state of a globally registered colormap. In future versions, you will not be able to modify a registered colormap in-place. To remove this warning, you can make a copy of the colormap first. cmap = copy.copy(mpl.cm.get_cmap(\"gray\"))\n",
      "/home/prativa/anaconda3/envs/py36/lib/python3.6/site-packages/pyproj/crs/crs.py:53: FutureWarning: '+init=<authority>:<code>' syntax is deprecated. '<authority>:<code>' is the preferred initialization method. When making the change, be mindful of axis order changes: https://pyproj4.github.io/pyproj/stable/gotchas.html#axis-order-changes-in-proj-6\n",
      "  return _prepare_from_string(\" \".join(pjargs))\n",
      "/home/prativa/anaconda3/envs/py36/lib/python3.6/site-packages/pyproj/crs/crs.py:53: FutureWarning: '+init=<authority>:<code>' syntax is deprecated. '<authority>:<code>' is the preferred initialization method. When making the change, be mindful of axis order changes: https://pyproj4.github.io/pyproj/stable/gotchas.html#axis-order-changes-in-proj-6\n",
      "  return _prepare_from_string(\" \".join(pjargs))\n",
      "/home/prativa/anaconda3/envs/py36/lib/python3.6/site-packages/pyproj/crs/crs.py:53: FutureWarning: '+init=<authority>:<code>' syntax is deprecated. '<authority>:<code>' is the preferred initialization method. When making the change, be mindful of axis order changes: https://pyproj4.github.io/pyproj/stable/gotchas.html#axis-order-changes-in-proj-6\n",
      "  return _prepare_from_string(\" \".join(pjargs))\n",
      "/home/prativa/anaconda3/envs/py36/lib/python3.6/site-packages/ipykernel_launcher.py:72: MatplotlibDeprecationWarning: You are modifying the state of a globally registered colormap. In future versions, you will not be able to modify a registered colormap in-place. To remove this warning, you can make a copy of the colormap first. cmap = copy.copy(mpl.cm.get_cmap(\"gray\"))\n",
      "\n",
      "\n",
      "\n",
      " 83%|████████▎ | 459/550 [01:37<00:20,  4.42it/s]\u001b[A\u001b[A\u001b[A/home/prativa/anaconda3/envs/py36/lib/python3.6/site-packages/pyproj/crs/crs.py:53: FutureWarning: '+init=<authority>:<code>' syntax is deprecated. '<authority>:<code>' is the preferred initialization method. When making the change, be mindful of axis order changes: https://pyproj4.github.io/pyproj/stable/gotchas.html#axis-order-changes-in-proj-6\n",
      "  return _prepare_from_string(\" \".join(pjargs))\n",
      "/home/prativa/anaconda3/envs/py36/lib/python3.6/site-packages/pyproj/crs/crs.py:53: FutureWarning: '+init=<authority>:<code>' syntax is deprecated. '<authority>:<code>' is the preferred initialization method. When making the change, be mindful of axis order changes: https://pyproj4.github.io/pyproj/stable/gotchas.html#axis-order-changes-in-proj-6\n",
      "  return _prepare_from_string(\" \".join(pjargs))\n",
      "/home/prativa/anaconda3/envs/py36/lib/python3.6/site-packages/pyproj/crs/crs.py:53: FutureWarning: '+init=<authority>:<code>' syntax is deprecated. '<authority>:<code>' is the preferred initialization method. When making the change, be mindful of axis order changes: https://pyproj4.github.io/pyproj/stable/gotchas.html#axis-order-changes-in-proj-6\n",
      "  return _prepare_from_string(\" \".join(pjargs))\n",
      "/home/prativa/anaconda3/envs/py36/lib/python3.6/site-packages/ipykernel_launcher.py:72: MatplotlibDeprecationWarning: You are modifying the state of a globally registered colormap. In future versions, you will not be able to modify a registered colormap in-place. To remove this warning, you can make a copy of the colormap first. cmap = copy.copy(mpl.cm.get_cmap(\"gray\"))\n",
      "/home/prativa/anaconda3/envs/py36/lib/python3.6/site-packages/pyproj/crs/crs.py:53: FutureWarning: '+init=<authority>:<code>' syntax is deprecated. '<authority>:<code>' is the preferred initialization method. When making the change, be mindful of axis order changes: https://pyproj4.github.io/pyproj/stable/gotchas.html#axis-order-changes-in-proj-6\n",
      "  return _prepare_from_string(\" \".join(pjargs))\n",
      "/home/prativa/anaconda3/envs/py36/lib/python3.6/site-packages/pyproj/crs/crs.py:53: FutureWarning: '+init=<authority>:<code>' syntax is deprecated. '<authority>:<code>' is the preferred initialization method. When making the change, be mindful of axis order changes: https://pyproj4.github.io/pyproj/stable/gotchas.html#axis-order-changes-in-proj-6\n",
      "  return _prepare_from_string(\" \".join(pjargs))\n",
      "/home/prativa/anaconda3/envs/py36/lib/python3.6/site-packages/pyproj/crs/crs.py:53: FutureWarning: '+init=<authority>:<code>' syntax is deprecated. '<authority>:<code>' is the preferred initialization method. When making the change, be mindful of axis order changes: https://pyproj4.github.io/pyproj/stable/gotchas.html#axis-order-changes-in-proj-6\n",
      "  return _prepare_from_string(\" \".join(pjargs))\n",
      "/home/prativa/anaconda3/envs/py36/lib/python3.6/site-packages/pyproj/crs/crs.py:53: FutureWarning: '+init=<authority>:<code>' syntax is deprecated. '<authority>:<code>' is the preferred initialization method. When making the change, be mindful of axis order changes: https://pyproj4.github.io/pyproj/stable/gotchas.html#axis-order-changes-in-proj-6\n",
      "  return _prepare_from_string(\" \".join(pjargs))\n",
      "/home/prativa/anaconda3/envs/py36/lib/python3.6/site-packages/ipykernel_launcher.py:72: MatplotlibDeprecationWarning: You are modifying the state of a globally registered colormap. In future versions, you will not be able to modify a registered colormap in-place. To remove this warning, you can make a copy of the colormap first. cmap = copy.copy(mpl.cm.get_cmap(\"gray\"))\n",
      "/home/prativa/anaconda3/envs/py36/lib/python3.6/site-packages/pyproj/crs/crs.py:53: FutureWarning: '+init=<authority>:<code>' syntax is deprecated. '<authority>:<code>' is the preferred initialization method. When making the change, be mindful of axis order changes: https://pyproj4.github.io/pyproj/stable/gotchas.html#axis-order-changes-in-proj-6\n",
      "  return _prepare_from_string(\" \".join(pjargs))\n",
      "/home/prativa/anaconda3/envs/py36/lib/python3.6/site-packages/ipykernel_launcher.py:72: MatplotlibDeprecationWarning: You are modifying the state of a globally registered colormap. In future versions, you will not be able to modify a registered colormap in-place. To remove this warning, you can make a copy of the colormap first. cmap = copy.copy(mpl.cm.get_cmap(\"gray\"))\n",
      "/home/prativa/anaconda3/envs/py36/lib/python3.6/site-packages/ipykernel_launcher.py:72: MatplotlibDeprecationWarning: You are modifying the state of a globally registered colormap. In future versions, you will not be able to modify a registered colormap in-place. To remove this warning, you can make a copy of the colormap first. cmap = copy.copy(mpl.cm.get_cmap(\"gray\"))\n"
     ]
    },
    {
     "name": "stderr",
     "output_type": "stream",
     "text": [
      "/home/prativa/anaconda3/envs/py36/lib/python3.6/site-packages/ipykernel_launcher.py:72: MatplotlibDeprecationWarning: You are modifying the state of a globally registered colormap. In future versions, you will not be able to modify a registered colormap in-place. To remove this warning, you can make a copy of the colormap first. cmap = copy.copy(mpl.cm.get_cmap(\"gray\"))\n",
      "/home/prativa/anaconda3/envs/py36/lib/python3.6/site-packages/ipykernel_launcher.py:72: MatplotlibDeprecationWarning: You are modifying the state of a globally registered colormap. In future versions, you will not be able to modify a registered colormap in-place. To remove this warning, you can make a copy of the colormap first. cmap = copy.copy(mpl.cm.get_cmap(\"gray\"))\n",
      "/home/prativa/anaconda3/envs/py36/lib/python3.6/site-packages/ipykernel_launcher.py:72: MatplotlibDeprecationWarning: You are modifying the state of a globally registered colormap. In future versions, you will not be able to modify a registered colormap in-place. To remove this warning, you can make a copy of the colormap first. cmap = copy.copy(mpl.cm.get_cmap(\"gray\"))\n",
      "\n",
      "\n",
      "\n",
      " 84%|████████▍ | 461/550 [01:38<00:33,  2.66it/s]\u001b[A\u001b[A\u001b[A/home/prativa/anaconda3/envs/py36/lib/python3.6/site-packages/pyproj/crs/crs.py:53: FutureWarning: '+init=<authority>:<code>' syntax is deprecated. '<authority>:<code>' is the preferred initialization method. When making the change, be mindful of axis order changes: https://pyproj4.github.io/pyproj/stable/gotchas.html#axis-order-changes-in-proj-6\n",
      "  return _prepare_from_string(\" \".join(pjargs))\n",
      "/home/prativa/anaconda3/envs/py36/lib/python3.6/site-packages/pyproj/crs/crs.py:53: FutureWarning: '+init=<authority>:<code>' syntax is deprecated. '<authority>:<code>' is the preferred initialization method. When making the change, be mindful of axis order changes: https://pyproj4.github.io/pyproj/stable/gotchas.html#axis-order-changes-in-proj-6\n",
      "  return _prepare_from_string(\" \".join(pjargs))\n",
      "/home/prativa/anaconda3/envs/py36/lib/python3.6/site-packages/pyproj/crs/crs.py:53: FutureWarning: '+init=<authority>:<code>' syntax is deprecated. '<authority>:<code>' is the preferred initialization method. When making the change, be mindful of axis order changes: https://pyproj4.github.io/pyproj/stable/gotchas.html#axis-order-changes-in-proj-6\n",
      "  return _prepare_from_string(\" \".join(pjargs))\n",
      "\n",
      "\n",
      "\n",
      " 84%|████████▍ | 462/550 [01:39<00:41,  2.13it/s]\u001b[A\u001b[A\u001b[A/home/prativa/anaconda3/envs/py36/lib/python3.6/site-packages/pyproj/crs/crs.py:53: FutureWarning: '+init=<authority>:<code>' syntax is deprecated. '<authority>:<code>' is the preferred initialization method. When making the change, be mindful of axis order changes: https://pyproj4.github.io/pyproj/stable/gotchas.html#axis-order-changes-in-proj-6\n",
      "  return _prepare_from_string(\" \".join(pjargs))\n",
      "/home/prativa/anaconda3/envs/py36/lib/python3.6/site-packages/pyproj/crs/crs.py:53: FutureWarning: '+init=<authority>:<code>' syntax is deprecated. '<authority>:<code>' is the preferred initialization method. When making the change, be mindful of axis order changes: https://pyproj4.github.io/pyproj/stable/gotchas.html#axis-order-changes-in-proj-6\n",
      "  return _prepare_from_string(\" \".join(pjargs))\n",
      "/home/prativa/anaconda3/envs/py36/lib/python3.6/site-packages/ipykernel_launcher.py:72: MatplotlibDeprecationWarning: You are modifying the state of a globally registered colormap. In future versions, you will not be able to modify a registered colormap in-place. To remove this warning, you can make a copy of the colormap first. cmap = copy.copy(mpl.cm.get_cmap(\"gray\"))\n",
      "/home/prativa/anaconda3/envs/py36/lib/python3.6/site-packages/pyproj/crs/crs.py:53: FutureWarning: '+init=<authority>:<code>' syntax is deprecated. '<authority>:<code>' is the preferred initialization method. When making the change, be mindful of axis order changes: https://pyproj4.github.io/pyproj/stable/gotchas.html#axis-order-changes-in-proj-6\n",
      "  return _prepare_from_string(\" \".join(pjargs))\n",
      "\n",
      "\n",
      "\n",
      " 84%|████████▍ | 464/550 [01:40<00:40,  2.12it/s]\u001b[A\u001b[A\u001b[A/home/prativa/anaconda3/envs/py36/lib/python3.6/site-packages/ipykernel_launcher.py:72: MatplotlibDeprecationWarning: You are modifying the state of a globally registered colormap. In future versions, you will not be able to modify a registered colormap in-place. To remove this warning, you can make a copy of the colormap first. cmap = copy.copy(mpl.cm.get_cmap(\"gray\"))\n",
      "/home/prativa/anaconda3/envs/py36/lib/python3.6/site-packages/pyproj/crs/crs.py:53: FutureWarning: '+init=<authority>:<code>' syntax is deprecated. '<authority>:<code>' is the preferred initialization method. When making the change, be mindful of axis order changes: https://pyproj4.github.io/pyproj/stable/gotchas.html#axis-order-changes-in-proj-6\n",
      "  return _prepare_from_string(\" \".join(pjargs))\n",
      "/home/prativa/anaconda3/envs/py36/lib/python3.6/site-packages/pyproj/crs/crs.py:53: FutureWarning: '+init=<authority>:<code>' syntax is deprecated. '<authority>:<code>' is the preferred initialization method. When making the change, be mindful of axis order changes: https://pyproj4.github.io/pyproj/stable/gotchas.html#axis-order-changes-in-proj-6\n",
      "  return _prepare_from_string(\" \".join(pjargs))\n",
      "/home/prativa/anaconda3/envs/py36/lib/python3.6/site-packages/pyproj/crs/crs.py:53: FutureWarning: '+init=<authority>:<code>' syntax is deprecated. '<authority>:<code>' is the preferred initialization method. When making the change, be mindful of axis order changes: https://pyproj4.github.io/pyproj/stable/gotchas.html#axis-order-changes-in-proj-6\n",
      "  return _prepare_from_string(\" \".join(pjargs))\n",
      "/home/prativa/anaconda3/envs/py36/lib/python3.6/site-packages/pyproj/crs/crs.py:53: FutureWarning: '+init=<authority>:<code>' syntax is deprecated. '<authority>:<code>' is the preferred initialization method. When making the change, be mindful of axis order changes: https://pyproj4.github.io/pyproj/stable/gotchas.html#axis-order-changes-in-proj-6\n",
      "  return _prepare_from_string(\" \".join(pjargs))\n",
      "/home/prativa/anaconda3/envs/py36/lib/python3.6/site-packages/pyproj/crs/crs.py:53: FutureWarning: '+init=<authority>:<code>' syntax is deprecated. '<authority>:<code>' is the preferred initialization method. When making the change, be mindful of axis order changes: https://pyproj4.github.io/pyproj/stable/gotchas.html#axis-order-changes-in-proj-6\n",
      "  return _prepare_from_string(\" \".join(pjargs))\n",
      "/home/prativa/anaconda3/envs/py36/lib/python3.6/site-packages/pyproj/crs/crs.py:53: FutureWarning: '+init=<authority>:<code>' syntax is deprecated. '<authority>:<code>' is the preferred initialization method. When making the change, be mindful of axis order changes: https://pyproj4.github.io/pyproj/stable/gotchas.html#axis-order-changes-in-proj-6\n",
      "  return _prepare_from_string(\" \".join(pjargs))\n",
      "/home/prativa/anaconda3/envs/py36/lib/python3.6/site-packages/ipykernel_launcher.py:72: MatplotlibDeprecationWarning: You are modifying the state of a globally registered colormap. In future versions, you will not be able to modify a registered colormap in-place. To remove this warning, you can make a copy of the colormap first. cmap = copy.copy(mpl.cm.get_cmap(\"gray\"))\n",
      "/home/prativa/anaconda3/envs/py36/lib/python3.6/site-packages/pyproj/crs/crs.py:53: FutureWarning: '+init=<authority>:<code>' syntax is deprecated. '<authority>:<code>' is the preferred initialization method. When making the change, be mindful of axis order changes: https://pyproj4.github.io/pyproj/stable/gotchas.html#axis-order-changes-in-proj-6\n",
      "  return _prepare_from_string(\" \".join(pjargs))\n",
      "/home/prativa/anaconda3/envs/py36/lib/python3.6/site-packages/pyproj/crs/crs.py:53: FutureWarning: '+init=<authority>:<code>' syntax is deprecated. '<authority>:<code>' is the preferred initialization method. When making the change, be mindful of axis order changes: https://pyproj4.github.io/pyproj/stable/gotchas.html#axis-order-changes-in-proj-6\n",
      "  return _prepare_from_string(\" \".join(pjargs))\n",
      "/home/prativa/anaconda3/envs/py36/lib/python3.6/site-packages/pyproj/crs/crs.py:53: FutureWarning: '+init=<authority>:<code>' syntax is deprecated. '<authority>:<code>' is the preferred initialization method. When making the change, be mindful of axis order changes: https://pyproj4.github.io/pyproj/stable/gotchas.html#axis-order-changes-in-proj-6\n",
      "  return _prepare_from_string(\" \".join(pjargs))\n"
     ]
    },
    {
     "name": "stderr",
     "output_type": "stream",
     "text": [
      "/home/prativa/anaconda3/envs/py36/lib/python3.6/site-packages/pyproj/crs/crs.py:53: FutureWarning: '+init=<authority>:<code>' syntax is deprecated. '<authority>:<code>' is the preferred initialization method. When making the change, be mindful of axis order changes: https://pyproj4.github.io/pyproj/stable/gotchas.html#axis-order-changes-in-proj-6\n",
      "  return _prepare_from_string(\" \".join(pjargs))\n",
      "/home/prativa/anaconda3/envs/py36/lib/python3.6/site-packages/pyproj/crs/crs.py:53: FutureWarning: '+init=<authority>:<code>' syntax is deprecated. '<authority>:<code>' is the preferred initialization method. When making the change, be mindful of axis order changes: https://pyproj4.github.io/pyproj/stable/gotchas.html#axis-order-changes-in-proj-6\n",
      "  return _prepare_from_string(\" \".join(pjargs))\n",
      "/home/prativa/anaconda3/envs/py36/lib/python3.6/site-packages/pyproj/crs/crs.py:53: FutureWarning: '+init=<authority>:<code>' syntax is deprecated. '<authority>:<code>' is the preferred initialization method. When making the change, be mindful of axis order changes: https://pyproj4.github.io/pyproj/stable/gotchas.html#axis-order-changes-in-proj-6\n",
      "  return _prepare_from_string(\" \".join(pjargs))\n",
      "\n",
      "\n",
      "\n",
      " 85%|████████▌ | 470/550 [01:41<00:29,  2.71it/s]\u001b[A\u001b[A\u001b[A\n",
      "\n",
      "\n",
      " 86%|████████▌ | 471/550 [01:41<00:25,  3.11it/s]\u001b[A\u001b[A\u001b[A/home/prativa/anaconda3/envs/py36/lib/python3.6/site-packages/ipykernel_launcher.py:72: MatplotlibDeprecationWarning: You are modifying the state of a globally registered colormap. In future versions, you will not be able to modify a registered colormap in-place. To remove this warning, you can make a copy of the colormap first. cmap = copy.copy(mpl.cm.get_cmap(\"gray\"))\n",
      "/home/prativa/anaconda3/envs/py36/lib/python3.6/site-packages/ipykernel_launcher.py:72: MatplotlibDeprecationWarning: You are modifying the state of a globally registered colormap. In future versions, you will not be able to modify a registered colormap in-place. To remove this warning, you can make a copy of the colormap first. cmap = copy.copy(mpl.cm.get_cmap(\"gray\"))\n",
      "/home/prativa/anaconda3/envs/py36/lib/python3.6/site-packages/pyproj/crs/crs.py:53: FutureWarning: '+init=<authority>:<code>' syntax is deprecated. '<authority>:<code>' is the preferred initialization method. When making the change, be mindful of axis order changes: https://pyproj4.github.io/pyproj/stable/gotchas.html#axis-order-changes-in-proj-6\n",
      "  return _prepare_from_string(\" \".join(pjargs))\n",
      "/home/prativa/anaconda3/envs/py36/lib/python3.6/site-packages/ipykernel_launcher.py:72: MatplotlibDeprecationWarning: You are modifying the state of a globally registered colormap. In future versions, you will not be able to modify a registered colormap in-place. To remove this warning, you can make a copy of the colormap first. cmap = copy.copy(mpl.cm.get_cmap(\"gray\"))\n",
      "/home/prativa/anaconda3/envs/py36/lib/python3.6/site-packages/ipykernel_launcher.py:72: MatplotlibDeprecationWarning: You are modifying the state of a globally registered colormap. In future versions, you will not be able to modify a registered colormap in-place. To remove this warning, you can make a copy of the colormap first. cmap = copy.copy(mpl.cm.get_cmap(\"gray\"))\n",
      "/home/prativa/anaconda3/envs/py36/lib/python3.6/site-packages/pyproj/crs/crs.py:53: FutureWarning: '+init=<authority>:<code>' syntax is deprecated. '<authority>:<code>' is the preferred initialization method. When making the change, be mindful of axis order changes: https://pyproj4.github.io/pyproj/stable/gotchas.html#axis-order-changes-in-proj-6\n",
      "  return _prepare_from_string(\" \".join(pjargs))\n",
      "/home/prativa/anaconda3/envs/py36/lib/python3.6/site-packages/ipykernel_launcher.py:72: MatplotlibDeprecationWarning: You are modifying the state of a globally registered colormap. In future versions, you will not be able to modify a registered colormap in-place. To remove this warning, you can make a copy of the colormap first. cmap = copy.copy(mpl.cm.get_cmap(\"gray\"))\n",
      "/home/prativa/anaconda3/envs/py36/lib/python3.6/site-packages/ipykernel_launcher.py:72: MatplotlibDeprecationWarning: You are modifying the state of a globally registered colormap. In future versions, you will not be able to modify a registered colormap in-place. To remove this warning, you can make a copy of the colormap first. cmap = copy.copy(mpl.cm.get_cmap(\"gray\"))\n",
      "/home/prativa/anaconda3/envs/py36/lib/python3.6/site-packages/pyproj/crs/crs.py:53: FutureWarning: '+init=<authority>:<code>' syntax is deprecated. '<authority>:<code>' is the preferred initialization method. When making the change, be mindful of axis order changes: https://pyproj4.github.io/pyproj/stable/gotchas.html#axis-order-changes-in-proj-6\n",
      "  return _prepare_from_string(\" \".join(pjargs))\n",
      "/home/prativa/anaconda3/envs/py36/lib/python3.6/site-packages/pyproj/crs/crs.py:53: FutureWarning: '+init=<authority>:<code>' syntax is deprecated. '<authority>:<code>' is the preferred initialization method. When making the change, be mindful of axis order changes: https://pyproj4.github.io/pyproj/stable/gotchas.html#axis-order-changes-in-proj-6\n",
      "  return _prepare_from_string(\" \".join(pjargs))\n",
      "/home/prativa/anaconda3/envs/py36/lib/python3.6/site-packages/ipykernel_launcher.py:72: MatplotlibDeprecationWarning: You are modifying the state of a globally registered colormap. In future versions, you will not be able to modify a registered colormap in-place. To remove this warning, you can make a copy of the colormap first. cmap = copy.copy(mpl.cm.get_cmap(\"gray\"))\n",
      "/home/prativa/anaconda3/envs/py36/lib/python3.6/site-packages/ipykernel_launcher.py:72: MatplotlibDeprecationWarning: You are modifying the state of a globally registered colormap. In future versions, you will not be able to modify a registered colormap in-place. To remove this warning, you can make a copy of the colormap first. cmap = copy.copy(mpl.cm.get_cmap(\"gray\"))\n",
      "\n",
      "\n",
      "\n",
      " 86%|████████▌ | 472/550 [01:43<00:53,  1.47it/s]\u001b[A\u001b[A\u001b[A/home/prativa/anaconda3/envs/py36/lib/python3.6/site-packages/pyproj/crs/crs.py:53: FutureWarning: '+init=<authority>:<code>' syntax is deprecated. '<authority>:<code>' is the preferred initialization method. When making the change, be mindful of axis order changes: https://pyproj4.github.io/pyproj/stable/gotchas.html#axis-order-changes-in-proj-6\n",
      "  return _prepare_from_string(\" \".join(pjargs))\n",
      "/home/prativa/anaconda3/envs/py36/lib/python3.6/site-packages/pyproj/crs/crs.py:53: FutureWarning: '+init=<authority>:<code>' syntax is deprecated. '<authority>:<code>' is the preferred initialization method. When making the change, be mindful of axis order changes: https://pyproj4.github.io/pyproj/stable/gotchas.html#axis-order-changes-in-proj-6\n",
      "  return _prepare_from_string(\" \".join(pjargs))\n",
      "/home/prativa/anaconda3/envs/py36/lib/python3.6/site-packages/pyproj/crs/crs.py:53: FutureWarning: '+init=<authority>:<code>' syntax is deprecated. '<authority>:<code>' is the preferred initialization method. When making the change, be mindful of axis order changes: https://pyproj4.github.io/pyproj/stable/gotchas.html#axis-order-changes-in-proj-6\n",
      "  return _prepare_from_string(\" \".join(pjargs))\n",
      "\n",
      "\n",
      "\n",
      " 86%|████████▌ | 474/550 [01:43<00:41,  1.83it/s]\u001b[A\u001b[A\u001b[A/home/prativa/anaconda3/envs/py36/lib/python3.6/site-packages/pyproj/crs/crs.py:53: FutureWarning: '+init=<authority>:<code>' syntax is deprecated. '<authority>:<code>' is the preferred initialization method. When making the change, be mindful of axis order changes: https://pyproj4.github.io/pyproj/stable/gotchas.html#axis-order-changes-in-proj-6\n",
      "  return _prepare_from_string(\" \".join(pjargs))\n",
      "/home/prativa/anaconda3/envs/py36/lib/python3.6/site-packages/pyproj/crs/crs.py:53: FutureWarning: '+init=<authority>:<code>' syntax is deprecated. '<authority>:<code>' is the preferred initialization method. When making the change, be mindful of axis order changes: https://pyproj4.github.io/pyproj/stable/gotchas.html#axis-order-changes-in-proj-6\n",
      "  return _prepare_from_string(\" \".join(pjargs))\n",
      "/home/prativa/anaconda3/envs/py36/lib/python3.6/site-packages/pyproj/crs/crs.py:53: FutureWarning: '+init=<authority>:<code>' syntax is deprecated. '<authority>:<code>' is the preferred initialization method. When making the change, be mindful of axis order changes: https://pyproj4.github.io/pyproj/stable/gotchas.html#axis-order-changes-in-proj-6\n",
      "  return _prepare_from_string(\" \".join(pjargs))\n"
     ]
    },
    {
     "name": "stderr",
     "output_type": "stream",
     "text": [
      "/home/prativa/anaconda3/envs/py36/lib/python3.6/site-packages/ipykernel_launcher.py:72: MatplotlibDeprecationWarning: You are modifying the state of a globally registered colormap. In future versions, you will not be able to modify a registered colormap in-place. To remove this warning, you can make a copy of the colormap first. cmap = copy.copy(mpl.cm.get_cmap(\"gray\"))\n",
      "/home/prativa/anaconda3/envs/py36/lib/python3.6/site-packages/pyproj/crs/crs.py:53: FutureWarning: '+init=<authority>:<code>' syntax is deprecated. '<authority>:<code>' is the preferred initialization method. When making the change, be mindful of axis order changes: https://pyproj4.github.io/pyproj/stable/gotchas.html#axis-order-changes-in-proj-6\n",
      "  return _prepare_from_string(\" \".join(pjargs))\n",
      "/home/prativa/anaconda3/envs/py36/lib/python3.6/site-packages/pyproj/crs/crs.py:53: FutureWarning: '+init=<authority>:<code>' syntax is deprecated. '<authority>:<code>' is the preferred initialization method. When making the change, be mindful of axis order changes: https://pyproj4.github.io/pyproj/stable/gotchas.html#axis-order-changes-in-proj-6\n",
      "  return _prepare_from_string(\" \".join(pjargs))\n",
      "/home/prativa/anaconda3/envs/py36/lib/python3.6/site-packages/pyproj/crs/crs.py:53: FutureWarning: '+init=<authority>:<code>' syntax is deprecated. '<authority>:<code>' is the preferred initialization method. When making the change, be mindful of axis order changes: https://pyproj4.github.io/pyproj/stable/gotchas.html#axis-order-changes-in-proj-6\n",
      "  return _prepare_from_string(\" \".join(pjargs))\n",
      "\n",
      "\n",
      "\n",
      "/home/prativa/anaconda3/envs/py36/lib/python3.6/site-packages/pyproj/crs/crs.py:53: FutureWarning: '+init=<authority>:<code>' syntax is deprecated. '<authority>:<code>' is the preferred initialization method. When making the change, be mindful of axis order changes: https://pyproj4.github.io/pyproj/stable/gotchas.html#axis-order-changes-in-proj-6\n",
      "  return _prepare_from_string(\" \".join(pjargs))\n",
      " 86%|████████▋ | 475/550 [01:44<00:41,  1.79it/s]\u001b[A\u001b[A\u001b[A/home/prativa/anaconda3/envs/py36/lib/python3.6/site-packages/ipykernel_launcher.py:72: MatplotlibDeprecationWarning: You are modifying the state of a globally registered colormap. In future versions, you will not be able to modify a registered colormap in-place. To remove this warning, you can make a copy of the colormap first. cmap = copy.copy(mpl.cm.get_cmap(\"gray\"))\n",
      "/home/prativa/anaconda3/envs/py36/lib/python3.6/site-packages/pyproj/crs/crs.py:53: FutureWarning: '+init=<authority>:<code>' syntax is deprecated. '<authority>:<code>' is the preferred initialization method. When making the change, be mindful of axis order changes: https://pyproj4.github.io/pyproj/stable/gotchas.html#axis-order-changes-in-proj-6\n",
      "  return _prepare_from_string(\" \".join(pjargs))\n",
      "/home/prativa/anaconda3/envs/py36/lib/python3.6/site-packages/pyproj/crs/crs.py:53: FutureWarning: '+init=<authority>:<code>' syntax is deprecated. '<authority>:<code>' is the preferred initialization method. When making the change, be mindful of axis order changes: https://pyproj4.github.io/pyproj/stable/gotchas.html#axis-order-changes-in-proj-6\n",
      "  return _prepare_from_string(\" \".join(pjargs))\n",
      "/home/prativa/anaconda3/envs/py36/lib/python3.6/site-packages/pyproj/crs/crs.py:53: FutureWarning: '+init=<authority>:<code>' syntax is deprecated. '<authority>:<code>' is the preferred initialization method. When making the change, be mindful of axis order changes: https://pyproj4.github.io/pyproj/stable/gotchas.html#axis-order-changes-in-proj-6\n",
      "  return _prepare_from_string(\" \".join(pjargs))\n",
      "/home/prativa/anaconda3/envs/py36/lib/python3.6/site-packages/ipykernel_launcher.py:72: MatplotlibDeprecationWarning: You are modifying the state of a globally registered colormap. In future versions, you will not be able to modify a registered colormap in-place. To remove this warning, you can make a copy of the colormap first. cmap = copy.copy(mpl.cm.get_cmap(\"gray\"))\n",
      "/home/prativa/anaconda3/envs/py36/lib/python3.6/site-packages/pyproj/crs/crs.py:53: FutureWarning: '+init=<authority>:<code>' syntax is deprecated. '<authority>:<code>' is the preferred initialization method. When making the change, be mindful of axis order changes: https://pyproj4.github.io/pyproj/stable/gotchas.html#axis-order-changes-in-proj-6\n",
      "  return _prepare_from_string(\" \".join(pjargs))\n",
      "/home/prativa/anaconda3/envs/py36/lib/python3.6/site-packages/pyproj/crs/crs.py:53: FutureWarning: '+init=<authority>:<code>' syntax is deprecated. '<authority>:<code>' is the preferred initialization method. When making the change, be mindful of axis order changes: https://pyproj4.github.io/pyproj/stable/gotchas.html#axis-order-changes-in-proj-6\n",
      "  return _prepare_from_string(\" \".join(pjargs))\n",
      "\n",
      "\n",
      "\n",
      " 87%|████████▋ | 480/550 [01:44<00:29,  2.38it/s]\u001b[A\u001b[A\u001b[A/home/prativa/anaconda3/envs/py36/lib/python3.6/site-packages/ipykernel_launcher.py:72: MatplotlibDeprecationWarning: You are modifying the state of a globally registered colormap. In future versions, you will not be able to modify a registered colormap in-place. To remove this warning, you can make a copy of the colormap first. cmap = copy.copy(mpl.cm.get_cmap(\"gray\"))\n",
      "/home/prativa/anaconda3/envs/py36/lib/python3.6/site-packages/ipykernel_launcher.py:72: MatplotlibDeprecationWarning: You are modifying the state of a globally registered colormap. In future versions, you will not be able to modify a registered colormap in-place. To remove this warning, you can make a copy of the colormap first. cmap = copy.copy(mpl.cm.get_cmap(\"gray\"))\n",
      "/home/prativa/anaconda3/envs/py36/lib/python3.6/site-packages/pyproj/crs/crs.py:53: FutureWarning: '+init=<authority>:<code>' syntax is deprecated. '<authority>:<code>' is the preferred initialization method. When making the change, be mindful of axis order changes: https://pyproj4.github.io/pyproj/stable/gotchas.html#axis-order-changes-in-proj-6\n",
      "  return _prepare_from_string(\" \".join(pjargs))\n",
      "/home/prativa/anaconda3/envs/py36/lib/python3.6/site-packages/pyproj/crs/crs.py:53: FutureWarning: '+init=<authority>:<code>' syntax is deprecated. '<authority>:<code>' is the preferred initialization method. When making the change, be mindful of axis order changes: https://pyproj4.github.io/pyproj/stable/gotchas.html#axis-order-changes-in-proj-6\n",
      "  return _prepare_from_string(\" \".join(pjargs))\n",
      "/home/prativa/anaconda3/envs/py36/lib/python3.6/site-packages/pyproj/crs/crs.py:53: FutureWarning: '+init=<authority>:<code>' syntax is deprecated. '<authority>:<code>' is the preferred initialization method. When making the change, be mindful of axis order changes: https://pyproj4.github.io/pyproj/stable/gotchas.html#axis-order-changes-in-proj-6\n",
      "  return _prepare_from_string(\" \".join(pjargs))\n",
      "/home/prativa/anaconda3/envs/py36/lib/python3.6/site-packages/ipykernel_launcher.py:72: MatplotlibDeprecationWarning: You are modifying the state of a globally registered colormap. In future versions, you will not be able to modify a registered colormap in-place. To remove this warning, you can make a copy of the colormap first. cmap = copy.copy(mpl.cm.get_cmap(\"gray\"))\n",
      "/home/prativa/anaconda3/envs/py36/lib/python3.6/site-packages/skimage/io/_io.py:141: UserWarning: data/AOI_5_Khartoum_Roads_Train/PAN_mask/SN3_roads_train_AOI_5_Khartoum_geojson_roads_img64.jpg is a low contrast image\n",
      "  warn('%s is a low contrast image' % fname)\n",
      "\n",
      "\n",
      "\n",
      " 88%|████████▊ | 482/550 [01:45<00:25,  2.64it/s]\u001b[A\u001b[A\u001b[A/home/prativa/anaconda3/envs/py36/lib/python3.6/site-packages/ipykernel_launcher.py:72: MatplotlibDeprecationWarning: You are modifying the state of a globally registered colormap. In future versions, you will not be able to modify a registered colormap in-place. To remove this warning, you can make a copy of the colormap first. cmap = copy.copy(mpl.cm.get_cmap(\"gray\"))\n",
      "/home/prativa/anaconda3/envs/py36/lib/python3.6/site-packages/pyproj/crs/crs.py:53: FutureWarning: '+init=<authority>:<code>' syntax is deprecated. '<authority>:<code>' is the preferred initialization method. When making the change, be mindful of axis order changes: https://pyproj4.github.io/pyproj/stable/gotchas.html#axis-order-changes-in-proj-6\n",
      "  return _prepare_from_string(\" \".join(pjargs))\n"
     ]
    },
    {
     "name": "stderr",
     "output_type": "stream",
     "text": [
      "/home/prativa/anaconda3/envs/py36/lib/python3.6/site-packages/pyproj/crs/crs.py:53: FutureWarning: '+init=<authority>:<code>' syntax is deprecated. '<authority>:<code>' is the preferred initialization method. When making the change, be mindful of axis order changes: https://pyproj4.github.io/pyproj/stable/gotchas.html#axis-order-changes-in-proj-6\n",
      "  return _prepare_from_string(\" \".join(pjargs))\n",
      "/home/prativa/anaconda3/envs/py36/lib/python3.6/site-packages/pyproj/crs/crs.py:53: FutureWarning: '+init=<authority>:<code>' syntax is deprecated. '<authority>:<code>' is the preferred initialization method. When making the change, be mindful of axis order changes: https://pyproj4.github.io/pyproj/stable/gotchas.html#axis-order-changes-in-proj-6\n",
      "  return _prepare_from_string(\" \".join(pjargs))\n",
      "/home/prativa/anaconda3/envs/py36/lib/python3.6/site-packages/ipykernel_launcher.py:72: MatplotlibDeprecationWarning: You are modifying the state of a globally registered colormap. In future versions, you will not be able to modify a registered colormap in-place. To remove this warning, you can make a copy of the colormap first. cmap = copy.copy(mpl.cm.get_cmap(\"gray\"))\n",
      "/home/prativa/anaconda3/envs/py36/lib/python3.6/site-packages/pyproj/crs/crs.py:53: FutureWarning: '+init=<authority>:<code>' syntax is deprecated. '<authority>:<code>' is the preferred initialization method. When making the change, be mindful of axis order changes: https://pyproj4.github.io/pyproj/stable/gotchas.html#axis-order-changes-in-proj-6\n",
      "  return _prepare_from_string(\" \".join(pjargs))\n",
      "/home/prativa/anaconda3/envs/py36/lib/python3.6/site-packages/ipykernel_launcher.py:72: MatplotlibDeprecationWarning: You are modifying the state of a globally registered colormap. In future versions, you will not be able to modify a registered colormap in-place. To remove this warning, you can make a copy of the colormap first. cmap = copy.copy(mpl.cm.get_cmap(\"gray\"))\n",
      "\n",
      "\n",
      "\n",
      " 88%|████████▊ | 483/550 [01:45<00:33,  2.02it/s]\u001b[A\u001b[A\u001b[A/home/prativa/anaconda3/envs/py36/lib/python3.6/site-packages/ipykernel_launcher.py:72: MatplotlibDeprecationWarning: You are modifying the state of a globally registered colormap. In future versions, you will not be able to modify a registered colormap in-place. To remove this warning, you can make a copy of the colormap first. cmap = copy.copy(mpl.cm.get_cmap(\"gray\"))\n",
      "\n",
      "\n",
      "\n",
      " 88%|████████▊ | 484/550 [01:46<00:27,  2.42it/s]\u001b[A\u001b[A\u001b[A/home/prativa/anaconda3/envs/py36/lib/python3.6/site-packages/pyproj/crs/crs.py:53: FutureWarning: '+init=<authority>:<code>' syntax is deprecated. '<authority>:<code>' is the preferred initialization method. When making the change, be mindful of axis order changes: https://pyproj4.github.io/pyproj/stable/gotchas.html#axis-order-changes-in-proj-6\n",
      "  return _prepare_from_string(\" \".join(pjargs))\n",
      "/home/prativa/anaconda3/envs/py36/lib/python3.6/site-packages/ipykernel_launcher.py:72: MatplotlibDeprecationWarning: You are modifying the state of a globally registered colormap. In future versions, you will not be able to modify a registered colormap in-place. To remove this warning, you can make a copy of the colormap first. cmap = copy.copy(mpl.cm.get_cmap(\"gray\"))\n",
      "/home/prativa/anaconda3/envs/py36/lib/python3.6/site-packages/skimage/io/_io.py:141: UserWarning: data/AOI_5_Khartoum_Roads_Train/PAN_mask/SN3_roads_train_AOI_5_Khartoum_geojson_roads_img67.jpg is a low contrast image\n",
      "  warn('%s is a low contrast image' % fname)\n",
      "/home/prativa/anaconda3/envs/py36/lib/python3.6/site-packages/pyproj/crs/crs.py:53: FutureWarning: '+init=<authority>:<code>' syntax is deprecated. '<authority>:<code>' is the preferred initialization method. When making the change, be mindful of axis order changes: https://pyproj4.github.io/pyproj/stable/gotchas.html#axis-order-changes-in-proj-6\n",
      "  return _prepare_from_string(\" \".join(pjargs))\n",
      "\n",
      "\n",
      "\n",
      " 88%|████████▊ | 485/550 [01:46<00:24,  2.69it/s]\u001b[A\u001b[A\u001b[A/home/prativa/anaconda3/envs/py36/lib/python3.6/site-packages/pyproj/crs/crs.py:53: FutureWarning: '+init=<authority>:<code>' syntax is deprecated. '<authority>:<code>' is the preferred initialization method. When making the change, be mindful of axis order changes: https://pyproj4.github.io/pyproj/stable/gotchas.html#axis-order-changes-in-proj-6\n",
      "  return _prepare_from_string(\" \".join(pjargs))\n",
      "/home/prativa/anaconda3/envs/py36/lib/python3.6/site-packages/pyproj/crs/crs.py:53: FutureWarning: '+init=<authority>:<code>' syntax is deprecated. '<authority>:<code>' is the preferred initialization method. When making the change, be mindful of axis order changes: https://pyproj4.github.io/pyproj/stable/gotchas.html#axis-order-changes-in-proj-6\n",
      "  return _prepare_from_string(\" \".join(pjargs))\n",
      "/home/prativa/anaconda3/envs/py36/lib/python3.6/site-packages/pyproj/crs/crs.py:53: FutureWarning: '+init=<authority>:<code>' syntax is deprecated. '<authority>:<code>' is the preferred initialization method. When making the change, be mindful of axis order changes: https://pyproj4.github.io/pyproj/stable/gotchas.html#axis-order-changes-in-proj-6\n",
      "  return _prepare_from_string(\" \".join(pjargs))\n",
      "\n",
      "\n",
      "\n",
      " 88%|████████▊ | 486/550 [01:46<00:23,  2.75it/s]\u001b[A\u001b[A\u001b[A/home/prativa/anaconda3/envs/py36/lib/python3.6/site-packages/pyproj/crs/crs.py:53: FutureWarning: '+init=<authority>:<code>' syntax is deprecated. '<authority>:<code>' is the preferred initialization method. When making the change, be mindful of axis order changes: https://pyproj4.github.io/pyproj/stable/gotchas.html#axis-order-changes-in-proj-6\n",
      "  return _prepare_from_string(\" \".join(pjargs))\n",
      "/home/prativa/anaconda3/envs/py36/lib/python3.6/site-packages/ipykernel_launcher.py:72: MatplotlibDeprecationWarning: You are modifying the state of a globally registered colormap. In future versions, you will not be able to modify a registered colormap in-place. To remove this warning, you can make a copy of the colormap first. cmap = copy.copy(mpl.cm.get_cmap(\"gray\"))\n",
      "\n",
      "\n",
      "\n",
      " 89%|████████▊ | 488/550 [01:46<00:17,  3.53it/s]\u001b[A\u001b[A\u001b[A/home/prativa/anaconda3/envs/py36/lib/python3.6/site-packages/pyproj/crs/crs.py:53: FutureWarning: '+init=<authority>:<code>' syntax is deprecated. '<authority>:<code>' is the preferred initialization method. When making the change, be mindful of axis order changes: https://pyproj4.github.io/pyproj/stable/gotchas.html#axis-order-changes-in-proj-6\n",
      "  return _prepare_from_string(\" \".join(pjargs))\n",
      "/home/prativa/anaconda3/envs/py36/lib/python3.6/site-packages/pyproj/crs/crs.py:53: FutureWarning: '+init=<authority>:<code>' syntax is deprecated. '<authority>:<code>' is the preferred initialization method. When making the change, be mindful of axis order changes: https://pyproj4.github.io/pyproj/stable/gotchas.html#axis-order-changes-in-proj-6\n",
      "  return _prepare_from_string(\" \".join(pjargs))\n",
      "/home/prativa/anaconda3/envs/py36/lib/python3.6/site-packages/pyproj/crs/crs.py:53: FutureWarning: '+init=<authority>:<code>' syntax is deprecated. '<authority>:<code>' is the preferred initialization method. When making the change, be mindful of axis order changes: https://pyproj4.github.io/pyproj/stable/gotchas.html#axis-order-changes-in-proj-6\n",
      "  return _prepare_from_string(\" \".join(pjargs))\n",
      "/home/prativa/anaconda3/envs/py36/lib/python3.6/site-packages/pyproj/crs/crs.py:53: FutureWarning: '+init=<authority>:<code>' syntax is deprecated. '<authority>:<code>' is the preferred initialization method. When making the change, be mindful of axis order changes: https://pyproj4.github.io/pyproj/stable/gotchas.html#axis-order-changes-in-proj-6\n",
      "  return _prepare_from_string(\" \".join(pjargs))\n",
      "/home/prativa/anaconda3/envs/py36/lib/python3.6/site-packages/ipykernel_launcher.py:72: MatplotlibDeprecationWarning: You are modifying the state of a globally registered colormap. In future versions, you will not be able to modify a registered colormap in-place. To remove this warning, you can make a copy of the colormap first. cmap = copy.copy(mpl.cm.get_cmap(\"gray\"))\n",
      "/home/prativa/anaconda3/envs/py36/lib/python3.6/site-packages/ipykernel_launcher.py:72: MatplotlibDeprecationWarning: You are modifying the state of a globally registered colormap. In future versions, you will not be able to modify a registered colormap in-place. To remove this warning, you can make a copy of the colormap first. cmap = copy.copy(mpl.cm.get_cmap(\"gray\"))\n"
     ]
    },
    {
     "name": "stderr",
     "output_type": "stream",
     "text": [
      "/home/prativa/anaconda3/envs/py36/lib/python3.6/site-packages/pyproj/crs/crs.py:53: FutureWarning: '+init=<authority>:<code>' syntax is deprecated. '<authority>:<code>' is the preferred initialization method. When making the change, be mindful of axis order changes: https://pyproj4.github.io/pyproj/stable/gotchas.html#axis-order-changes-in-proj-6\n",
      "  return _prepare_from_string(\" \".join(pjargs))\n",
      "/home/prativa/anaconda3/envs/py36/lib/python3.6/site-packages/skimage/io/_io.py:141: UserWarning: data/AOI_5_Khartoum_Roads_Train/PAN_mask/SN3_roads_train_AOI_5_Khartoum_geojson_roads_img74.jpg is a low contrast image\n",
      "  warn('%s is a low contrast image' % fname)\n",
      "/home/prativa/anaconda3/envs/py36/lib/python3.6/site-packages/ipykernel_launcher.py:72: MatplotlibDeprecationWarning: You are modifying the state of a globally registered colormap. In future versions, you will not be able to modify a registered colormap in-place. To remove this warning, you can make a copy of the colormap first. cmap = copy.copy(mpl.cm.get_cmap(\"gray\"))\n",
      "/home/prativa/anaconda3/envs/py36/lib/python3.6/site-packages/pyproj/crs/crs.py:53: FutureWarning: '+init=<authority>:<code>' syntax is deprecated. '<authority>:<code>' is the preferred initialization method. When making the change, be mindful of axis order changes: https://pyproj4.github.io/pyproj/stable/gotchas.html#axis-order-changes-in-proj-6\n",
      "  return _prepare_from_string(\" \".join(pjargs))\n",
      "\n",
      "\n",
      "\n",
      " 89%|████████▉ | 489/550 [01:47<00:22,  2.72it/s]\u001b[A\u001b[A\u001b[A/home/prativa/anaconda3/envs/py36/lib/python3.6/site-packages/pyproj/crs/crs.py:53: FutureWarning: '+init=<authority>:<code>' syntax is deprecated. '<authority>:<code>' is the preferred initialization method. When making the change, be mindful of axis order changes: https://pyproj4.github.io/pyproj/stable/gotchas.html#axis-order-changes-in-proj-6\n",
      "  return _prepare_from_string(\" \".join(pjargs))\n",
      "/home/prativa/anaconda3/envs/py36/lib/python3.6/site-packages/pyproj/crs/crs.py:53: FutureWarning: '+init=<authority>:<code>' syntax is deprecated. '<authority>:<code>' is the preferred initialization method. When making the change, be mindful of axis order changes: https://pyproj4.github.io/pyproj/stable/gotchas.html#axis-order-changes-in-proj-6\n",
      "  return _prepare_from_string(\" \".join(pjargs))\n",
      "/home/prativa/anaconda3/envs/py36/lib/python3.6/site-packages/ipykernel_launcher.py:72: MatplotlibDeprecationWarning: You are modifying the state of a globally registered colormap. In future versions, you will not be able to modify a registered colormap in-place. To remove this warning, you can make a copy of the colormap first. cmap = copy.copy(mpl.cm.get_cmap(\"gray\"))\n",
      "/home/prativa/anaconda3/envs/py36/lib/python3.6/site-packages/pyproj/crs/crs.py:53: FutureWarning: '+init=<authority>:<code>' syntax is deprecated. '<authority>:<code>' is the preferred initialization method. When making the change, be mindful of axis order changes: https://pyproj4.github.io/pyproj/stable/gotchas.html#axis-order-changes-in-proj-6\n",
      "  return _prepare_from_string(\" \".join(pjargs))\n",
      "/home/prativa/anaconda3/envs/py36/lib/python3.6/site-packages/ipykernel_launcher.py:72: MatplotlibDeprecationWarning: You are modifying the state of a globally registered colormap. In future versions, you will not be able to modify a registered colormap in-place. To remove this warning, you can make a copy of the colormap first. cmap = copy.copy(mpl.cm.get_cmap(\"gray\"))\n",
      "\n",
      "\n",
      "\n",
      " 89%|████████▉ | 491/550 [01:48<00:21,  2.80it/s]\u001b[A\u001b[A\u001b[A/home/prativa/anaconda3/envs/py36/lib/python3.6/site-packages/pyproj/crs/crs.py:53: FutureWarning: '+init=<authority>:<code>' syntax is deprecated. '<authority>:<code>' is the preferred initialization method. When making the change, be mindful of axis order changes: https://pyproj4.github.io/pyproj/stable/gotchas.html#axis-order-changes-in-proj-6\n",
      "  return _prepare_from_string(\" \".join(pjargs))\n",
      "\n",
      "\n",
      "\n",
      " 90%|████████▉ | 493/550 [01:48<00:16,  3.36it/s]\u001b[A\u001b[A\u001b[A/home/prativa/anaconda3/envs/py36/lib/python3.6/site-packages/pyproj/crs/crs.py:53: FutureWarning: '+init=<authority>:<code>' syntax is deprecated. '<authority>:<code>' is the preferred initialization method. When making the change, be mindful of axis order changes: https://pyproj4.github.io/pyproj/stable/gotchas.html#axis-order-changes-in-proj-6\n",
      "  return _prepare_from_string(\" \".join(pjargs))\n",
      "/home/prativa/anaconda3/envs/py36/lib/python3.6/site-packages/pyproj/crs/crs.py:53: FutureWarning: '+init=<authority>:<code>' syntax is deprecated. '<authority>:<code>' is the preferred initialization method. When making the change, be mindful of axis order changes: https://pyproj4.github.io/pyproj/stable/gotchas.html#axis-order-changes-in-proj-6\n",
      "  return _prepare_from_string(\" \".join(pjargs))\n",
      "/home/prativa/anaconda3/envs/py36/lib/python3.6/site-packages/ipykernel_launcher.py:72: MatplotlibDeprecationWarning: You are modifying the state of a globally registered colormap. In future versions, you will not be able to modify a registered colormap in-place. To remove this warning, you can make a copy of the colormap first. cmap = copy.copy(mpl.cm.get_cmap(\"gray\"))\n",
      "/home/prativa/anaconda3/envs/py36/lib/python3.6/site-packages/ipykernel_launcher.py:72: MatplotlibDeprecationWarning: You are modifying the state of a globally registered colormap. In future versions, you will not be able to modify a registered colormap in-place. To remove this warning, you can make a copy of the colormap first. cmap = copy.copy(mpl.cm.get_cmap(\"gray\"))\n",
      "\n",
      "\n",
      "\n",
      " 90%|████████▉ | 494/550 [01:48<00:19,  2.83it/s]\u001b[A\u001b[A\u001b[A/home/prativa/anaconda3/envs/py36/lib/python3.6/site-packages/pyproj/crs/crs.py:53: FutureWarning: '+init=<authority>:<code>' syntax is deprecated. '<authority>:<code>' is the preferred initialization method. When making the change, be mindful of axis order changes: https://pyproj4.github.io/pyproj/stable/gotchas.html#axis-order-changes-in-proj-6\n",
      "  return _prepare_from_string(\" \".join(pjargs))\n",
      "/home/prativa/anaconda3/envs/py36/lib/python3.6/site-packages/pyproj/crs/crs.py:53: FutureWarning: '+init=<authority>:<code>' syntax is deprecated. '<authority>:<code>' is the preferred initialization method. When making the change, be mindful of axis order changes: https://pyproj4.github.io/pyproj/stable/gotchas.html#axis-order-changes-in-proj-6\n",
      "  return _prepare_from_string(\" \".join(pjargs))\n",
      "/home/prativa/anaconda3/envs/py36/lib/python3.6/site-packages/pyproj/crs/crs.py:53: FutureWarning: '+init=<authority>:<code>' syntax is deprecated. '<authority>:<code>' is the preferred initialization method. When making the change, be mindful of axis order changes: https://pyproj4.github.io/pyproj/stable/gotchas.html#axis-order-changes-in-proj-6\n",
      "  return _prepare_from_string(\" \".join(pjargs))\n",
      "/home/prativa/anaconda3/envs/py36/lib/python3.6/site-packages/pyproj/crs/crs.py:53: FutureWarning: '+init=<authority>:<code>' syntax is deprecated. '<authority>:<code>' is the preferred initialization method. When making the change, be mindful of axis order changes: https://pyproj4.github.io/pyproj/stable/gotchas.html#axis-order-changes-in-proj-6\n",
      "  return _prepare_from_string(\" \".join(pjargs))\n",
      "\n",
      "\n",
      "\n",
      " 90%|█████████ | 495/550 [01:49<00:20,  2.64it/s]\u001b[A\u001b[A\u001b[A/home/prativa/anaconda3/envs/py36/lib/python3.6/site-packages/pyproj/crs/crs.py:53: FutureWarning: '+init=<authority>:<code>' syntax is deprecated. '<authority>:<code>' is the preferred initialization method. When making the change, be mindful of axis order changes: https://pyproj4.github.io/pyproj/stable/gotchas.html#axis-order-changes-in-proj-6\n",
      "  return _prepare_from_string(\" \".join(pjargs))\n",
      "/home/prativa/anaconda3/envs/py36/lib/python3.6/site-packages/ipykernel_launcher.py:72: MatplotlibDeprecationWarning: You are modifying the state of a globally registered colormap. In future versions, you will not be able to modify a registered colormap in-place. To remove this warning, you can make a copy of the colormap first. cmap = copy.copy(mpl.cm.get_cmap(\"gray\"))\n",
      "/home/prativa/anaconda3/envs/py36/lib/python3.6/site-packages/ipykernel_launcher.py:72: MatplotlibDeprecationWarning: You are modifying the state of a globally registered colormap. In future versions, you will not be able to modify a registered colormap in-place. To remove this warning, you can make a copy of the colormap first. cmap = copy.copy(mpl.cm.get_cmap(\"gray\"))\n"
     ]
    },
    {
     "name": "stderr",
     "output_type": "stream",
     "text": [
      "/home/prativa/anaconda3/envs/py36/lib/python3.6/site-packages/pyproj/crs/crs.py:53: FutureWarning: '+init=<authority>:<code>' syntax is deprecated. '<authority>:<code>' is the preferred initialization method. When making the change, be mindful of axis order changes: https://pyproj4.github.io/pyproj/stable/gotchas.html#axis-order-changes-in-proj-6\n",
      "  return _prepare_from_string(\" \".join(pjargs))\n",
      "/home/prativa/anaconda3/envs/py36/lib/python3.6/site-packages/pyproj/crs/crs.py:53: FutureWarning: '+init=<authority>:<code>' syntax is deprecated. '<authority>:<code>' is the preferred initialization method. When making the change, be mindful of axis order changes: https://pyproj4.github.io/pyproj/stable/gotchas.html#axis-order-changes-in-proj-6\n",
      "  return _prepare_from_string(\" \".join(pjargs))\n",
      "/home/prativa/anaconda3/envs/py36/lib/python3.6/site-packages/ipykernel_launcher.py:72: MatplotlibDeprecationWarning: You are modifying the state of a globally registered colormap. In future versions, you will not be able to modify a registered colormap in-place. To remove this warning, you can make a copy of the colormap first. cmap = copy.copy(mpl.cm.get_cmap(\"gray\"))\n",
      "/home/prativa/anaconda3/envs/py36/lib/python3.6/site-packages/pyproj/crs/crs.py:53: FutureWarning: '+init=<authority>:<code>' syntax is deprecated. '<authority>:<code>' is the preferred initialization method. When making the change, be mindful of axis order changes: https://pyproj4.github.io/pyproj/stable/gotchas.html#axis-order-changes-in-proj-6\n",
      "  return _prepare_from_string(\" \".join(pjargs))\n",
      "/home/prativa/anaconda3/envs/py36/lib/python3.6/site-packages/pyproj/crs/crs.py:53: FutureWarning: '+init=<authority>:<code>' syntax is deprecated. '<authority>:<code>' is the preferred initialization method. When making the change, be mindful of axis order changes: https://pyproj4.github.io/pyproj/stable/gotchas.html#axis-order-changes-in-proj-6\n",
      "  return _prepare_from_string(\" \".join(pjargs))\n",
      "\n",
      "\n",
      "\n",
      " 90%|█████████ | 497/550 [01:49<00:18,  2.87it/s]\u001b[A\u001b[A\u001b[A/home/prativa/anaconda3/envs/py36/lib/python3.6/site-packages/pyproj/crs/crs.py:53: FutureWarning: '+init=<authority>:<code>' syntax is deprecated. '<authority>:<code>' is the preferred initialization method. When making the change, be mindful of axis order changes: https://pyproj4.github.io/pyproj/stable/gotchas.html#axis-order-changes-in-proj-6\n",
      "  return _prepare_from_string(\" \".join(pjargs))\n",
      "/home/prativa/anaconda3/envs/py36/lib/python3.6/site-packages/pyproj/crs/crs.py:53: FutureWarning: '+init=<authority>:<code>' syntax is deprecated. '<authority>:<code>' is the preferred initialization method. When making the change, be mindful of axis order changes: https://pyproj4.github.io/pyproj/stable/gotchas.html#axis-order-changes-in-proj-6\n",
      "  return _prepare_from_string(\" \".join(pjargs))\n",
      "/home/prativa/anaconda3/envs/py36/lib/python3.6/site-packages/pyproj/crs/crs.py:53: FutureWarning: '+init=<authority>:<code>' syntax is deprecated. '<authority>:<code>' is the preferred initialization method. When making the change, be mindful of axis order changes: https://pyproj4.github.io/pyproj/stable/gotchas.html#axis-order-changes-in-proj-6\n",
      "  return _prepare_from_string(\" \".join(pjargs))\n",
      "/home/prativa/anaconda3/envs/py36/lib/python3.6/site-packages/ipykernel_launcher.py:72: MatplotlibDeprecationWarning: You are modifying the state of a globally registered colormap. In future versions, you will not be able to modify a registered colormap in-place. To remove this warning, you can make a copy of the colormap first. cmap = copy.copy(mpl.cm.get_cmap(\"gray\"))\n",
      "/home/prativa/anaconda3/envs/py36/lib/python3.6/site-packages/ipykernel_launcher.py:72: MatplotlibDeprecationWarning: You are modifying the state of a globally registered colormap. In future versions, you will not be able to modify a registered colormap in-place. To remove this warning, you can make a copy of the colormap first. cmap = copy.copy(mpl.cm.get_cmap(\"gray\"))\n",
      "/home/prativa/anaconda3/envs/py36/lib/python3.6/site-packages/pyproj/crs/crs.py:53: FutureWarning: '+init=<authority>:<code>' syntax is deprecated. '<authority>:<code>' is the preferred initialization method. When making the change, be mindful of axis order changes: https://pyproj4.github.io/pyproj/stable/gotchas.html#axis-order-changes-in-proj-6\n",
      "  return _prepare_from_string(\" \".join(pjargs))\n",
      "/home/prativa/anaconda3/envs/py36/lib/python3.6/site-packages/pyproj/crs/crs.py:53: FutureWarning: '+init=<authority>:<code>' syntax is deprecated. '<authority>:<code>' is the preferred initialization method. When making the change, be mindful of axis order changes: https://pyproj4.github.io/pyproj/stable/gotchas.html#axis-order-changes-in-proj-6\n",
      "  return _prepare_from_string(\" \".join(pjargs))\n",
      "/home/prativa/anaconda3/envs/py36/lib/python3.6/site-packages/ipykernel_launcher.py:72: MatplotlibDeprecationWarning: You are modifying the state of a globally registered colormap. In future versions, you will not be able to modify a registered colormap in-place. To remove this warning, you can make a copy of the colormap first. cmap = copy.copy(mpl.cm.get_cmap(\"gray\"))\n",
      "\n",
      "\n",
      "\n",
      " 91%|█████████ | 499/550 [01:51<00:20,  2.49it/s]\u001b[A\u001b[A\u001b[A/home/prativa/anaconda3/envs/py36/lib/python3.6/site-packages/ipykernel_launcher.py:72: MatplotlibDeprecationWarning: You are modifying the state of a globally registered colormap. In future versions, you will not be able to modify a registered colormap in-place. To remove this warning, you can make a copy of the colormap first. cmap = copy.copy(mpl.cm.get_cmap(\"gray\"))\n",
      "/home/prativa/anaconda3/envs/py36/lib/python3.6/site-packages/pyproj/crs/crs.py:53: FutureWarning: '+init=<authority>:<code>' syntax is deprecated. '<authority>:<code>' is the preferred initialization method. When making the change, be mindful of axis order changes: https://pyproj4.github.io/pyproj/stable/gotchas.html#axis-order-changes-in-proj-6\n",
      "  return _prepare_from_string(\" \".join(pjargs))\n",
      "/home/prativa/anaconda3/envs/py36/lib/python3.6/site-packages/ipykernel_launcher.py:72: MatplotlibDeprecationWarning: You are modifying the state of a globally registered colormap. In future versions, you will not be able to modify a registered colormap in-place. To remove this warning, you can make a copy of the colormap first. cmap = copy.copy(mpl.cm.get_cmap(\"gray\"))\n",
      "\n",
      "\n",
      "\n",
      " 91%|█████████ | 501/550 [01:51<00:17,  2.88it/s]\u001b[A\u001b[A\u001b[A/home/prativa/anaconda3/envs/py36/lib/python3.6/site-packages/pyproj/crs/crs.py:53: FutureWarning: '+init=<authority>:<code>' syntax is deprecated. '<authority>:<code>' is the preferred initialization method. When making the change, be mindful of axis order changes: https://pyproj4.github.io/pyproj/stable/gotchas.html#axis-order-changes-in-proj-6\n",
      "  return _prepare_from_string(\" \".join(pjargs))\n",
      "/home/prativa/anaconda3/envs/py36/lib/python3.6/site-packages/pyproj/crs/crs.py:53: FutureWarning: '+init=<authority>:<code>' syntax is deprecated. '<authority>:<code>' is the preferred initialization method. When making the change, be mindful of axis order changes: https://pyproj4.github.io/pyproj/stable/gotchas.html#axis-order-changes-in-proj-6\n",
      "  return _prepare_from_string(\" \".join(pjargs))\n",
      "\n",
      "\n",
      "\n",
      " 91%|█████████▏| 502/550 [01:51<00:14,  3.35it/s]\u001b[A\u001b[A\u001b[A/home/prativa/anaconda3/envs/py36/lib/python3.6/site-packages/pyproj/crs/crs.py:53: FutureWarning: '+init=<authority>:<code>' syntax is deprecated. '<authority>:<code>' is the preferred initialization method. When making the change, be mindful of axis order changes: https://pyproj4.github.io/pyproj/stable/gotchas.html#axis-order-changes-in-proj-6\n",
      "  return _prepare_from_string(\" \".join(pjargs))\n",
      "/home/prativa/anaconda3/envs/py36/lib/python3.6/site-packages/pyproj/crs/crs.py:53: FutureWarning: '+init=<authority>:<code>' syntax is deprecated. '<authority>:<code>' is the preferred initialization method. When making the change, be mindful of axis order changes: https://pyproj4.github.io/pyproj/stable/gotchas.html#axis-order-changes-in-proj-6\n",
      "  return _prepare_from_string(\" \".join(pjargs))\n",
      "/home/prativa/anaconda3/envs/py36/lib/python3.6/site-packages/pyproj/crs/crs.py:53: FutureWarning: '+init=<authority>:<code>' syntax is deprecated. '<authority>:<code>' is the preferred initialization method. When making the change, be mindful of axis order changes: https://pyproj4.github.io/pyproj/stable/gotchas.html#axis-order-changes-in-proj-6\n",
      "  return _prepare_from_string(\" \".join(pjargs))\n"
     ]
    },
    {
     "name": "stderr",
     "output_type": "stream",
     "text": [
      "\n",
      "\n",
      "\n",
      " 91%|█████████▏| 503/550 [01:52<00:15,  2.98it/s]\u001b[A\u001b[A\u001b[A/home/prativa/anaconda3/envs/py36/lib/python3.6/site-packages/ipykernel_launcher.py:72: MatplotlibDeprecationWarning: You are modifying the state of a globally registered colormap. In future versions, you will not be able to modify a registered colormap in-place. To remove this warning, you can make a copy of the colormap first. cmap = copy.copy(mpl.cm.get_cmap(\"gray\"))\n",
      "/home/prativa/anaconda3/envs/py36/lib/python3.6/site-packages/pyproj/crs/crs.py:53: FutureWarning: '+init=<authority>:<code>' syntax is deprecated. '<authority>:<code>' is the preferred initialization method. When making the change, be mindful of axis order changes: https://pyproj4.github.io/pyproj/stable/gotchas.html#axis-order-changes-in-proj-6\n",
      "  return _prepare_from_string(\" \".join(pjargs))\n",
      "/home/prativa/anaconda3/envs/py36/lib/python3.6/site-packages/ipykernel_launcher.py:72: MatplotlibDeprecationWarning: You are modifying the state of a globally registered colormap. In future versions, you will not be able to modify a registered colormap in-place. To remove this warning, you can make a copy of the colormap first. cmap = copy.copy(mpl.cm.get_cmap(\"gray\"))\n",
      "/home/prativa/anaconda3/envs/py36/lib/python3.6/site-packages/pyproj/crs/crs.py:53: FutureWarning: '+init=<authority>:<code>' syntax is deprecated. '<authority>:<code>' is the preferred initialization method. When making the change, be mindful of axis order changes: https://pyproj4.github.io/pyproj/stable/gotchas.html#axis-order-changes-in-proj-6\n",
      "  return _prepare_from_string(\" \".join(pjargs))\n",
      "/home/prativa/anaconda3/envs/py36/lib/python3.6/site-packages/pyproj/crs/crs.py:53: FutureWarning: '+init=<authority>:<code>' syntax is deprecated. '<authority>:<code>' is the preferred initialization method. When making the change, be mindful of axis order changes: https://pyproj4.github.io/pyproj/stable/gotchas.html#axis-order-changes-in-proj-6\n",
      "  return _prepare_from_string(\" \".join(pjargs))\n",
      "\n",
      "\n",
      "\n",
      " 92%|█████████▏| 504/550 [01:52<00:22,  2.08it/s]\u001b[A\u001b[A\u001b[A/home/prativa/anaconda3/envs/py36/lib/python3.6/site-packages/pyproj/crs/crs.py:53: FutureWarning: '+init=<authority>:<code>' syntax is deprecated. '<authority>:<code>' is the preferred initialization method. When making the change, be mindful of axis order changes: https://pyproj4.github.io/pyproj/stable/gotchas.html#axis-order-changes-in-proj-6\n",
      "  return _prepare_from_string(\" \".join(pjargs))\n",
      "/home/prativa/anaconda3/envs/py36/lib/python3.6/site-packages/ipykernel_launcher.py:72: MatplotlibDeprecationWarning: You are modifying the state of a globally registered colormap. In future versions, you will not be able to modify a registered colormap in-place. To remove this warning, you can make a copy of the colormap first. cmap = copy.copy(mpl.cm.get_cmap(\"gray\"))\n",
      "/home/prativa/anaconda3/envs/py36/lib/python3.6/site-packages/ipykernel_launcher.py:72: MatplotlibDeprecationWarning: You are modifying the state of a globally registered colormap. In future versions, you will not be able to modify a registered colormap in-place. To remove this warning, you can make a copy of the colormap first. cmap = copy.copy(mpl.cm.get_cmap(\"gray\"))\n",
      "/home/prativa/anaconda3/envs/py36/lib/python3.6/site-packages/pyproj/crs/crs.py:53: FutureWarning: '+init=<authority>:<code>' syntax is deprecated. '<authority>:<code>' is the preferred initialization method. When making the change, be mindful of axis order changes: https://pyproj4.github.io/pyproj/stable/gotchas.html#axis-order-changes-in-proj-6\n",
      "  return _prepare_from_string(\" \".join(pjargs))\n",
      "\n",
      "\n",
      "\n",
      " 92%|█████████▏| 506/550 [01:53<00:17,  2.51it/s]\u001b[A\u001b[A\u001b[A/home/prativa/anaconda3/envs/py36/lib/python3.6/site-packages/pyproj/crs/crs.py:53: FutureWarning: '+init=<authority>:<code>' syntax is deprecated. '<authority>:<code>' is the preferred initialization method. When making the change, be mindful of axis order changes: https://pyproj4.github.io/pyproj/stable/gotchas.html#axis-order-changes-in-proj-6\n",
      "  return _prepare_from_string(\" \".join(pjargs))\n",
      "\n",
      "\n",
      "\n",
      " 92%|█████████▏| 508/550 [01:53<00:13,  3.16it/s]\u001b[A\u001b[A\u001b[A/home/prativa/anaconda3/envs/py36/lib/python3.6/site-packages/ipykernel_launcher.py:72: MatplotlibDeprecationWarning: You are modifying the state of a globally registered colormap. In future versions, you will not be able to modify a registered colormap in-place. To remove this warning, you can make a copy of the colormap first. cmap = copy.copy(mpl.cm.get_cmap(\"gray\"))\n",
      "/home/prativa/anaconda3/envs/py36/lib/python3.6/site-packages/pyproj/crs/crs.py:53: FutureWarning: '+init=<authority>:<code>' syntax is deprecated. '<authority>:<code>' is the preferred initialization method. When making the change, be mindful of axis order changes: https://pyproj4.github.io/pyproj/stable/gotchas.html#axis-order-changes-in-proj-6\n",
      "  return _prepare_from_string(\" \".join(pjargs))\n",
      "/home/prativa/anaconda3/envs/py36/lib/python3.6/site-packages/pyproj/crs/crs.py:53: FutureWarning: '+init=<authority>:<code>' syntax is deprecated. '<authority>:<code>' is the preferred initialization method. When making the change, be mindful of axis order changes: https://pyproj4.github.io/pyproj/stable/gotchas.html#axis-order-changes-in-proj-6\n",
      "  return _prepare_from_string(\" \".join(pjargs))\n",
      "/home/prativa/anaconda3/envs/py36/lib/python3.6/site-packages/pyproj/crs/crs.py:53: FutureWarning: '+init=<authority>:<code>' syntax is deprecated. '<authority>:<code>' is the preferred initialization method. When making the change, be mindful of axis order changes: https://pyproj4.github.io/pyproj/stable/gotchas.html#axis-order-changes-in-proj-6\n",
      "  return _prepare_from_string(\" \".join(pjargs))\n",
      "/home/prativa/anaconda3/envs/py36/lib/python3.6/site-packages/pyproj/crs/crs.py:53: FutureWarning: '+init=<authority>:<code>' syntax is deprecated. '<authority>:<code>' is the preferred initialization method. When making the change, be mindful of axis order changes: https://pyproj4.github.io/pyproj/stable/gotchas.html#axis-order-changes-in-proj-6\n",
      "  return _prepare_from_string(\" \".join(pjargs))\n",
      "/home/prativa/anaconda3/envs/py36/lib/python3.6/site-packages/pyproj/crs/crs.py:53: FutureWarning: '+init=<authority>:<code>' syntax is deprecated. '<authority>:<code>' is the preferred initialization method. When making the change, be mindful of axis order changes: https://pyproj4.github.io/pyproj/stable/gotchas.html#axis-order-changes-in-proj-6\n",
      "  return _prepare_from_string(\" \".join(pjargs))\n",
      "/home/prativa/anaconda3/envs/py36/lib/python3.6/site-packages/pyproj/crs/crs.py:53: FutureWarning: '+init=<authority>:<code>' syntax is deprecated. '<authority>:<code>' is the preferred initialization method. When making the change, be mindful of axis order changes: https://pyproj4.github.io/pyproj/stable/gotchas.html#axis-order-changes-in-proj-6\n",
      "  return _prepare_from_string(\" \".join(pjargs))\n",
      "/home/prativa/anaconda3/envs/py36/lib/python3.6/site-packages/ipykernel_launcher.py:72: MatplotlibDeprecationWarning: You are modifying the state of a globally registered colormap. In future versions, you will not be able to modify a registered colormap in-place. To remove this warning, you can make a copy of the colormap first. cmap = copy.copy(mpl.cm.get_cmap(\"gray\"))\n",
      "/home/prativa/anaconda3/envs/py36/lib/python3.6/site-packages/pyproj/crs/crs.py:53: FutureWarning: '+init=<authority>:<code>' syntax is deprecated. '<authority>:<code>' is the preferred initialization method. When making the change, be mindful of axis order changes: https://pyproj4.github.io/pyproj/stable/gotchas.html#axis-order-changes-in-proj-6\n",
      "  return _prepare_from_string(\" \".join(pjargs))\n",
      "/home/prativa/anaconda3/envs/py36/lib/python3.6/site-packages/pyproj/crs/crs.py:53: FutureWarning: '+init=<authority>:<code>' syntax is deprecated. '<authority>:<code>' is the preferred initialization method. When making the change, be mindful of axis order changes: https://pyproj4.github.io/pyproj/stable/gotchas.html#axis-order-changes-in-proj-6\n",
      "  return _prepare_from_string(\" \".join(pjargs))\n",
      "/home/prativa/anaconda3/envs/py36/lib/python3.6/site-packages/ipykernel_launcher.py:72: MatplotlibDeprecationWarning: You are modifying the state of a globally registered colormap. In future versions, you will not be able to modify a registered colormap in-place. To remove this warning, you can make a copy of the colormap first. cmap = copy.copy(mpl.cm.get_cmap(\"gray\"))\n"
     ]
    },
    {
     "name": "stderr",
     "output_type": "stream",
     "text": [
      "\n",
      "\n",
      "\n",
      " 93%|█████████▎| 509/550 [01:54<00:22,  1.85it/s]\u001b[A\u001b[A\u001b[A/home/prativa/anaconda3/envs/py36/lib/python3.6/site-packages/ipykernel_launcher.py:72: MatplotlibDeprecationWarning: You are modifying the state of a globally registered colormap. In future versions, you will not be able to modify a registered colormap in-place. To remove this warning, you can make a copy of the colormap first. cmap = copy.copy(mpl.cm.get_cmap(\"gray\"))\n",
      "/home/prativa/anaconda3/envs/py36/lib/python3.6/site-packages/pyproj/crs/crs.py:53: FutureWarning: '+init=<authority>:<code>' syntax is deprecated. '<authority>:<code>' is the preferred initialization method. When making the change, be mindful of axis order changes: https://pyproj4.github.io/pyproj/stable/gotchas.html#axis-order-changes-in-proj-6\n",
      "  return _prepare_from_string(\" \".join(pjargs))\n",
      "/home/prativa/anaconda3/envs/py36/lib/python3.6/site-packages/ipykernel_launcher.py:72: MatplotlibDeprecationWarning: You are modifying the state of a globally registered colormap. In future versions, you will not be able to modify a registered colormap in-place. To remove this warning, you can make a copy of the colormap first. cmap = copy.copy(mpl.cm.get_cmap(\"gray\"))\n",
      "/home/prativa/anaconda3/envs/py36/lib/python3.6/site-packages/pyproj/crs/crs.py:53: FutureWarning: '+init=<authority>:<code>' syntax is deprecated. '<authority>:<code>' is the preferred initialization method. When making the change, be mindful of axis order changes: https://pyproj4.github.io/pyproj/stable/gotchas.html#axis-order-changes-in-proj-6\n",
      "  return _prepare_from_string(\" \".join(pjargs))\n",
      "/home/prativa/anaconda3/envs/py36/lib/python3.6/site-packages/pyproj/crs/crs.py:53: FutureWarning: '+init=<authority>:<code>' syntax is deprecated. '<authority>:<code>' is the preferred initialization method. When making the change, be mindful of axis order changes: https://pyproj4.github.io/pyproj/stable/gotchas.html#axis-order-changes-in-proj-6\n",
      "  return _prepare_from_string(\" \".join(pjargs))\n",
      "/home/prativa/anaconda3/envs/py36/lib/python3.6/site-packages/ipykernel_launcher.py:72: MatplotlibDeprecationWarning: You are modifying the state of a globally registered colormap. In future versions, you will not be able to modify a registered colormap in-place. To remove this warning, you can make a copy of the colormap first. cmap = copy.copy(mpl.cm.get_cmap(\"gray\"))\n",
      "\n",
      "\n",
      "\n",
      " 93%|█████████▎| 511/550 [01:55<00:19,  2.02it/s]\u001b[A\u001b[A\u001b[A/home/prativa/anaconda3/envs/py36/lib/python3.6/site-packages/pyproj/crs/crs.py:53: FutureWarning: '+init=<authority>:<code>' syntax is deprecated. '<authority>:<code>' is the preferred initialization method. When making the change, be mindful of axis order changes: https://pyproj4.github.io/pyproj/stable/gotchas.html#axis-order-changes-in-proj-6\n",
      "  return _prepare_from_string(\" \".join(pjargs))\n",
      "/home/prativa/anaconda3/envs/py36/lib/python3.6/site-packages/ipykernel_launcher.py:72: MatplotlibDeprecationWarning: You are modifying the state of a globally registered colormap. In future versions, you will not be able to modify a registered colormap in-place. To remove this warning, you can make a copy of the colormap first. cmap = copy.copy(mpl.cm.get_cmap(\"gray\"))\n",
      "/home/prativa/anaconda3/envs/py36/lib/python3.6/site-packages/pyproj/crs/crs.py:53: FutureWarning: '+init=<authority>:<code>' syntax is deprecated. '<authority>:<code>' is the preferred initialization method. When making the change, be mindful of axis order changes: https://pyproj4.github.io/pyproj/stable/gotchas.html#axis-order-changes-in-proj-6\n",
      "  return _prepare_from_string(\" \".join(pjargs))\n",
      "/home/prativa/anaconda3/envs/py36/lib/python3.6/site-packages/pyproj/crs/crs.py:53: FutureWarning: '+init=<authority>:<code>' syntax is deprecated. '<authority>:<code>' is the preferred initialization method. When making the change, be mindful of axis order changes: https://pyproj4.github.io/pyproj/stable/gotchas.html#axis-order-changes-in-proj-6\n",
      "  return _prepare_from_string(\" \".join(pjargs))\n",
      "\n",
      "\n",
      "\n",
      "/home/prativa/anaconda3/envs/py36/lib/python3.6/site-packages/ipykernel_launcher.py:72: MatplotlibDeprecationWarning: You are modifying the state of a globally registered colormap. In future versions, you will not be able to modify a registered colormap in-place. To remove this warning, you can make a copy of the colormap first. cmap = copy.copy(mpl.cm.get_cmap(\"gray\"))\n",
      " 93%|█████████▎| 513/550 [01:55<00:16,  2.31it/s]\u001b[A\u001b[A\u001b[A/home/prativa/anaconda3/envs/py36/lib/python3.6/site-packages/pyproj/crs/crs.py:53: FutureWarning: '+init=<authority>:<code>' syntax is deprecated. '<authority>:<code>' is the preferred initialization method. When making the change, be mindful of axis order changes: https://pyproj4.github.io/pyproj/stable/gotchas.html#axis-order-changes-in-proj-6\n",
      "  return _prepare_from_string(\" \".join(pjargs))\n",
      "/home/prativa/anaconda3/envs/py36/lib/python3.6/site-packages/pyproj/crs/crs.py:53: FutureWarning: '+init=<authority>:<code>' syntax is deprecated. '<authority>:<code>' is the preferred initialization method. When making the change, be mindful of axis order changes: https://pyproj4.github.io/pyproj/stable/gotchas.html#axis-order-changes-in-proj-6\n",
      "  return _prepare_from_string(\" \".join(pjargs))\n",
      "\n",
      "\n",
      "\n",
      " 93%|█████████▎| 514/550 [01:56<00:15,  2.37it/s]\u001b[A\u001b[A\u001b[A/home/prativa/anaconda3/envs/py36/lib/python3.6/site-packages/pyproj/crs/crs.py:53: FutureWarning: '+init=<authority>:<code>' syntax is deprecated. '<authority>:<code>' is the preferred initialization method. When making the change, be mindful of axis order changes: https://pyproj4.github.io/pyproj/stable/gotchas.html#axis-order-changes-in-proj-6\n",
      "  return _prepare_from_string(\" \".join(pjargs))\n",
      "/home/prativa/anaconda3/envs/py36/lib/python3.6/site-packages/skimage/io/_io.py:141: UserWarning: data/AOI_5_Khartoum_Roads_Train/RGB-PanSharpen_mask/SN3_roads_train_AOI_5_Khartoum_geojson_roads_img67.jpg is a low contrast image\n",
      "  warn('%s is a low contrast image' % fname)\n",
      "\n",
      "\n",
      "\n",
      " 94%|█████████▎| 515/550 [01:56<00:12,  2.83it/s]\u001b[A\u001b[A\u001b[A/home/prativa/anaconda3/envs/py36/lib/python3.6/site-packages/ipykernel_launcher.py:72: MatplotlibDeprecationWarning: You are modifying the state of a globally registered colormap. In future versions, you will not be able to modify a registered colormap in-place. To remove this warning, you can make a copy of the colormap first. cmap = copy.copy(mpl.cm.get_cmap(\"gray\"))\n",
      "/home/prativa/anaconda3/envs/py36/lib/python3.6/site-packages/ipykernel_launcher.py:72: MatplotlibDeprecationWarning: You are modifying the state of a globally registered colormap. In future versions, you will not be able to modify a registered colormap in-place. To remove this warning, you can make a copy of the colormap first. cmap = copy.copy(mpl.cm.get_cmap(\"gray\"))\n",
      "/home/prativa/anaconda3/envs/py36/lib/python3.6/site-packages/pyproj/crs/crs.py:53: FutureWarning: '+init=<authority>:<code>' syntax is deprecated. '<authority>:<code>' is the preferred initialization method. When making the change, be mindful of axis order changes: https://pyproj4.github.io/pyproj/stable/gotchas.html#axis-order-changes-in-proj-6\n",
      "  return _prepare_from_string(\" \".join(pjargs))\n",
      "/home/prativa/anaconda3/envs/py36/lib/python3.6/site-packages/pyproj/crs/crs.py:53: FutureWarning: '+init=<authority>:<code>' syntax is deprecated. '<authority>:<code>' is the preferred initialization method. When making the change, be mindful of axis order changes: https://pyproj4.github.io/pyproj/stable/gotchas.html#axis-order-changes-in-proj-6\n",
      "  return _prepare_from_string(\" \".join(pjargs))\n",
      "/home/prativa/anaconda3/envs/py36/lib/python3.6/site-packages/pyproj/crs/crs.py:53: FutureWarning: '+init=<authority>:<code>' syntax is deprecated. '<authority>:<code>' is the preferred initialization method. When making the change, be mindful of axis order changes: https://pyproj4.github.io/pyproj/stable/gotchas.html#axis-order-changes-in-proj-6\n",
      "  return _prepare_from_string(\" \".join(pjargs))\n",
      "/home/prativa/anaconda3/envs/py36/lib/python3.6/site-packages/pyproj/crs/crs.py:53: FutureWarning: '+init=<authority>:<code>' syntax is deprecated. '<authority>:<code>' is the preferred initialization method. When making the change, be mindful of axis order changes: https://pyproj4.github.io/pyproj/stable/gotchas.html#axis-order-changes-in-proj-6\n",
      "  return _prepare_from_string(\" \".join(pjargs))\n"
     ]
    },
    {
     "name": "stderr",
     "output_type": "stream",
     "text": [
      "/home/prativa/anaconda3/envs/py36/lib/python3.6/site-packages/pyproj/crs/crs.py:53: FutureWarning: '+init=<authority>:<code>' syntax is deprecated. '<authority>:<code>' is the preferred initialization method. When making the change, be mindful of axis order changes: https://pyproj4.github.io/pyproj/stable/gotchas.html#axis-order-changes-in-proj-6\n",
      "  return _prepare_from_string(\" \".join(pjargs))\n",
      "/home/prativa/anaconda3/envs/py36/lib/python3.6/site-packages/pyproj/crs/crs.py:53: FutureWarning: '+init=<authority>:<code>' syntax is deprecated. '<authority>:<code>' is the preferred initialization method. When making the change, be mindful of axis order changes: https://pyproj4.github.io/pyproj/stable/gotchas.html#axis-order-changes-in-proj-6\n",
      "  return _prepare_from_string(\" \".join(pjargs))\n",
      "/home/prativa/anaconda3/envs/py36/lib/python3.6/site-packages/ipykernel_launcher.py:72: MatplotlibDeprecationWarning: You are modifying the state of a globally registered colormap. In future versions, you will not be able to modify a registered colormap in-place. To remove this warning, you can make a copy of the colormap first. cmap = copy.copy(mpl.cm.get_cmap(\"gray\"))\n",
      "\n",
      "\n",
      "\n",
      " 94%|█████████▍| 517/550 [01:57<00:13,  2.47it/s]\u001b[A\u001b[A\u001b[A/home/prativa/anaconda3/envs/py36/lib/python3.6/site-packages/pyproj/crs/crs.py:53: FutureWarning: '+init=<authority>:<code>' syntax is deprecated. '<authority>:<code>' is the preferred initialization method. When making the change, be mindful of axis order changes: https://pyproj4.github.io/pyproj/stable/gotchas.html#axis-order-changes-in-proj-6\n",
      "  return _prepare_from_string(\" \".join(pjargs))\n",
      "/home/prativa/anaconda3/envs/py36/lib/python3.6/site-packages/ipykernel_launcher.py:72: MatplotlibDeprecationWarning: You are modifying the state of a globally registered colormap. In future versions, you will not be able to modify a registered colormap in-place. To remove this warning, you can make a copy of the colormap first. cmap = copy.copy(mpl.cm.get_cmap(\"gray\"))\n",
      "/home/prativa/anaconda3/envs/py36/lib/python3.6/site-packages/ipykernel_launcher.py:72: MatplotlibDeprecationWarning: You are modifying the state of a globally registered colormap. In future versions, you will not be able to modify a registered colormap in-place. To remove this warning, you can make a copy of the colormap first. cmap = copy.copy(mpl.cm.get_cmap(\"gray\"))\n",
      "/home/prativa/anaconda3/envs/py36/lib/python3.6/site-packages/pyproj/crs/crs.py:53: FutureWarning: '+init=<authority>:<code>' syntax is deprecated. '<authority>:<code>' is the preferred initialization method. When making the change, be mindful of axis order changes: https://pyproj4.github.io/pyproj/stable/gotchas.html#axis-order-changes-in-proj-6\n",
      "  return _prepare_from_string(\" \".join(pjargs))\n",
      "/home/prativa/anaconda3/envs/py36/lib/python3.6/site-packages/pyproj/crs/crs.py:53: FutureWarning: '+init=<authority>:<code>' syntax is deprecated. '<authority>:<code>' is the preferred initialization method. When making the change, be mindful of axis order changes: https://pyproj4.github.io/pyproj/stable/gotchas.html#axis-order-changes-in-proj-6\n",
      "  return _prepare_from_string(\" \".join(pjargs))\n",
      "/home/prativa/anaconda3/envs/py36/lib/python3.6/site-packages/pyproj/crs/crs.py:53: FutureWarning: '+init=<authority>:<code>' syntax is deprecated. '<authority>:<code>' is the preferred initialization method. When making the change, be mindful of axis order changes: https://pyproj4.github.io/pyproj/stable/gotchas.html#axis-order-changes-in-proj-6\n",
      "  return _prepare_from_string(\" \".join(pjargs))\n",
      "/home/prativa/anaconda3/envs/py36/lib/python3.6/site-packages/pyproj/crs/crs.py:53: FutureWarning: '+init=<authority>:<code>' syntax is deprecated. '<authority>:<code>' is the preferred initialization method. When making the change, be mindful of axis order changes: https://pyproj4.github.io/pyproj/stable/gotchas.html#axis-order-changes-in-proj-6\n",
      "  return _prepare_from_string(\" \".join(pjargs))\n",
      "/home/prativa/anaconda3/envs/py36/lib/python3.6/site-packages/pyproj/crs/crs.py:53: FutureWarning: '+init=<authority>:<code>' syntax is deprecated. '<authority>:<code>' is the preferred initialization method. When making the change, be mindful of axis order changes: https://pyproj4.github.io/pyproj/stable/gotchas.html#axis-order-changes-in-proj-6\n",
      "  return _prepare_from_string(\" \".join(pjargs))\n",
      "/home/prativa/anaconda3/envs/py36/lib/python3.6/site-packages/ipykernel_launcher.py:72: MatplotlibDeprecationWarning: You are modifying the state of a globally registered colormap. In future versions, you will not be able to modify a registered colormap in-place. To remove this warning, you can make a copy of the colormap first. cmap = copy.copy(mpl.cm.get_cmap(\"gray\"))\n",
      "/home/prativa/anaconda3/envs/py36/lib/python3.6/site-packages/pyproj/crs/crs.py:53: FutureWarning: '+init=<authority>:<code>' syntax is deprecated. '<authority>:<code>' is the preferred initialization method. When making the change, be mindful of axis order changes: https://pyproj4.github.io/pyproj/stable/gotchas.html#axis-order-changes-in-proj-6\n",
      "  return _prepare_from_string(\" \".join(pjargs))\n",
      "/home/prativa/anaconda3/envs/py36/lib/python3.6/site-packages/pyproj/crs/crs.py:53: FutureWarning: '+init=<authority>:<code>' syntax is deprecated. '<authority>:<code>' is the preferred initialization method. When making the change, be mindful of axis order changes: https://pyproj4.github.io/pyproj/stable/gotchas.html#axis-order-changes-in-proj-6\n",
      "  return _prepare_from_string(\" \".join(pjargs))\n",
      "/home/prativa/anaconda3/envs/py36/lib/python3.6/site-packages/pyproj/crs/crs.py:53: FutureWarning: '+init=<authority>:<code>' syntax is deprecated. '<authority>:<code>' is the preferred initialization method. When making the change, be mindful of axis order changes: https://pyproj4.github.io/pyproj/stable/gotchas.html#axis-order-changes-in-proj-6\n",
      "  return _prepare_from_string(\" \".join(pjargs))\n",
      "/home/prativa/anaconda3/envs/py36/lib/python3.6/site-packages/ipykernel_launcher.py:72: MatplotlibDeprecationWarning: You are modifying the state of a globally registered colormap. In future versions, you will not be able to modify a registered colormap in-place. To remove this warning, you can make a copy of the colormap first. cmap = copy.copy(mpl.cm.get_cmap(\"gray\"))\n",
      "/home/prativa/anaconda3/envs/py36/lib/python3.6/site-packages/ipykernel_launcher.py:72: MatplotlibDeprecationWarning: You are modifying the state of a globally registered colormap. In future versions, you will not be able to modify a registered colormap in-place. To remove this warning, you can make a copy of the colormap first. cmap = copy.copy(mpl.cm.get_cmap(\"gray\"))\n",
      "\n",
      "\n",
      "\n",
      " 95%|█████████▍| 521/550 [01:59<00:11,  2.58it/s]\u001b[A\u001b[A\u001b[A/home/prativa/anaconda3/envs/py36/lib/python3.6/site-packages/ipykernel_launcher.py:72: MatplotlibDeprecationWarning: You are modifying the state of a globally registered colormap. In future versions, you will not be able to modify a registered colormap in-place. To remove this warning, you can make a copy of the colormap first. cmap = copy.copy(mpl.cm.get_cmap(\"gray\"))\n",
      "\n",
      "\n",
      "\n",
      " 95%|█████████▍| 522/550 [01:59<00:08,  3.17it/s]\u001b[A\u001b[A\u001b[A/home/prativa/anaconda3/envs/py36/lib/python3.6/site-packages/ipykernel_launcher.py:72: MatplotlibDeprecationWarning: You are modifying the state of a globally registered colormap. In future versions, you will not be able to modify a registered colormap in-place. To remove this warning, you can make a copy of the colormap first. cmap = copy.copy(mpl.cm.get_cmap(\"gray\"))\n",
      "/home/prativa/anaconda3/envs/py36/lib/python3.6/site-packages/skimage/io/_io.py:141: UserWarning: data/AOI_5_Khartoum_Roads_Train/RGB-PanSharpen_mask/SN3_roads_train_AOI_5_Khartoum_geojson_roads_img64.jpg is a low contrast image\n",
      "  warn('%s is a low contrast image' % fname)\n",
      "/home/prativa/anaconda3/envs/py36/lib/python3.6/site-packages/pyproj/crs/crs.py:53: FutureWarning: '+init=<authority>:<code>' syntax is deprecated. '<authority>:<code>' is the preferred initialization method. When making the change, be mindful of axis order changes: https://pyproj4.github.io/pyproj/stable/gotchas.html#axis-order-changes-in-proj-6\n",
      "  return _prepare_from_string(\" \".join(pjargs))\n"
     ]
    },
    {
     "name": "stderr",
     "output_type": "stream",
     "text": [
      "/home/prativa/anaconda3/envs/py36/lib/python3.6/site-packages/pyproj/crs/crs.py:53: FutureWarning: '+init=<authority>:<code>' syntax is deprecated. '<authority>:<code>' is the preferred initialization method. When making the change, be mindful of axis order changes: https://pyproj4.github.io/pyproj/stable/gotchas.html#axis-order-changes-in-proj-6\n",
      "  return _prepare_from_string(\" \".join(pjargs))\n",
      "/home/prativa/anaconda3/envs/py36/lib/python3.6/site-packages/pyproj/crs/crs.py:53: FutureWarning: '+init=<authority>:<code>' syntax is deprecated. '<authority>:<code>' is the preferred initialization method. When making the change, be mindful of axis order changes: https://pyproj4.github.io/pyproj/stable/gotchas.html#axis-order-changes-in-proj-6\n",
      "  return _prepare_from_string(\" \".join(pjargs))\n",
      "\n",
      "\n",
      "\n",
      " 95%|█████████▌| 523/550 [01:59<00:12,  2.19it/s]\u001b[A\u001b[A\u001b[A/home/prativa/anaconda3/envs/py36/lib/python3.6/site-packages/pyproj/crs/crs.py:53: FutureWarning: '+init=<authority>:<code>' syntax is deprecated. '<authority>:<code>' is the preferred initialization method. When making the change, be mindful of axis order changes: https://pyproj4.github.io/pyproj/stable/gotchas.html#axis-order-changes-in-proj-6\n",
      "  return _prepare_from_string(\" \".join(pjargs))\n",
      "/home/prativa/anaconda3/envs/py36/lib/python3.6/site-packages/pyproj/crs/crs.py:53: FutureWarning: '+init=<authority>:<code>' syntax is deprecated. '<authority>:<code>' is the preferred initialization method. When making the change, be mindful of axis order changes: https://pyproj4.github.io/pyproj/stable/gotchas.html#axis-order-changes-in-proj-6\n",
      "  return _prepare_from_string(\" \".join(pjargs))\n",
      "\n",
      "\n",
      "\n",
      " 95%|█████████▌| 524/550 [02:00<00:09,  2.70it/s]\u001b[A\u001b[A\u001b[A\n",
      "\n",
      "\n",
      " 96%|█████████▌| 526/550 [02:00<00:06,  3.48it/s]\u001b[A\u001b[A\u001b[A/home/prativa/anaconda3/envs/py36/lib/python3.6/site-packages/ipykernel_launcher.py:72: MatplotlibDeprecationWarning: You are modifying the state of a globally registered colormap. In future versions, you will not be able to modify a registered colormap in-place. To remove this warning, you can make a copy of the colormap first. cmap = copy.copy(mpl.cm.get_cmap(\"gray\"))\n",
      "/home/prativa/anaconda3/envs/py36/lib/python3.6/site-packages/pyproj/crs/crs.py:53: FutureWarning: '+init=<authority>:<code>' syntax is deprecated. '<authority>:<code>' is the preferred initialization method. When making the change, be mindful of axis order changes: https://pyproj4.github.io/pyproj/stable/gotchas.html#axis-order-changes-in-proj-6\n",
      "  return _prepare_from_string(\" \".join(pjargs))\n",
      "/home/prativa/anaconda3/envs/py36/lib/python3.6/site-packages/pyproj/crs/crs.py:53: FutureWarning: '+init=<authority>:<code>' syntax is deprecated. '<authority>:<code>' is the preferred initialization method. When making the change, be mindful of axis order changes: https://pyproj4.github.io/pyproj/stable/gotchas.html#axis-order-changes-in-proj-6\n",
      "  return _prepare_from_string(\" \".join(pjargs))\n",
      "\n",
      "\n",
      "\n",
      " 96%|█████████▌| 527/550 [02:00<00:05,  3.90it/s]\u001b[A\u001b[A\u001b[A/home/prativa/anaconda3/envs/py36/lib/python3.6/site-packages/ipykernel_launcher.py:72: MatplotlibDeprecationWarning: You are modifying the state of a globally registered colormap. In future versions, you will not be able to modify a registered colormap in-place. To remove this warning, you can make a copy of the colormap first. cmap = copy.copy(mpl.cm.get_cmap(\"gray\"))\n",
      "/home/prativa/anaconda3/envs/py36/lib/python3.6/site-packages/pyproj/crs/crs.py:53: FutureWarning: '+init=<authority>:<code>' syntax is deprecated. '<authority>:<code>' is the preferred initialization method. When making the change, be mindful of axis order changes: https://pyproj4.github.io/pyproj/stable/gotchas.html#axis-order-changes-in-proj-6\n",
      "  return _prepare_from_string(\" \".join(pjargs))\n",
      "/home/prativa/anaconda3/envs/py36/lib/python3.6/site-packages/pyproj/crs/crs.py:53: FutureWarning: '+init=<authority>:<code>' syntax is deprecated. '<authority>:<code>' is the preferred initialization method. When making the change, be mindful of axis order changes: https://pyproj4.github.io/pyproj/stable/gotchas.html#axis-order-changes-in-proj-6\n",
      "  return _prepare_from_string(\" \".join(pjargs))\n",
      "/home/prativa/anaconda3/envs/py36/lib/python3.6/site-packages/pyproj/crs/crs.py:53: FutureWarning: '+init=<authority>:<code>' syntax is deprecated. '<authority>:<code>' is the preferred initialization method. When making the change, be mindful of axis order changes: https://pyproj4.github.io/pyproj/stable/gotchas.html#axis-order-changes-in-proj-6\n",
      "  return _prepare_from_string(\" \".join(pjargs))\n",
      "/home/prativa/anaconda3/envs/py36/lib/python3.6/site-packages/pyproj/crs/crs.py:53: FutureWarning: '+init=<authority>:<code>' syntax is deprecated. '<authority>:<code>' is the preferred initialization method. When making the change, be mindful of axis order changes: https://pyproj4.github.io/pyproj/stable/gotchas.html#axis-order-changes-in-proj-6\n",
      "  return _prepare_from_string(\" \".join(pjargs))\n",
      "/home/prativa/anaconda3/envs/py36/lib/python3.6/site-packages/ipykernel_launcher.py:72: MatplotlibDeprecationWarning: You are modifying the state of a globally registered colormap. In future versions, you will not be able to modify a registered colormap in-place. To remove this warning, you can make a copy of the colormap first. cmap = copy.copy(mpl.cm.get_cmap(\"gray\"))\n",
      "/home/prativa/anaconda3/envs/py36/lib/python3.6/site-packages/pyproj/crs/crs.py:53: FutureWarning: '+init=<authority>:<code>' syntax is deprecated. '<authority>:<code>' is the preferred initialization method. When making the change, be mindful of axis order changes: https://pyproj4.github.io/pyproj/stable/gotchas.html#axis-order-changes-in-proj-6\n",
      "  return _prepare_from_string(\" \".join(pjargs))\n",
      "/home/prativa/anaconda3/envs/py36/lib/python3.6/site-packages/pyproj/crs/crs.py:53: FutureWarning: '+init=<authority>:<code>' syntax is deprecated. '<authority>:<code>' is the preferred initialization method. When making the change, be mindful of axis order changes: https://pyproj4.github.io/pyproj/stable/gotchas.html#axis-order-changes-in-proj-6\n",
      "  return _prepare_from_string(\" \".join(pjargs))\n",
      "/home/prativa/anaconda3/envs/py36/lib/python3.6/site-packages/pyproj/crs/crs.py:53: FutureWarning: '+init=<authority>:<code>' syntax is deprecated. '<authority>:<code>' is the preferred initialization method. When making the change, be mindful of axis order changes: https://pyproj4.github.io/pyproj/stable/gotchas.html#axis-order-changes-in-proj-6\n",
      "  return _prepare_from_string(\" \".join(pjargs))\n",
      "/home/prativa/anaconda3/envs/py36/lib/python3.6/site-packages/ipykernel_launcher.py:72: MatplotlibDeprecationWarning: You are modifying the state of a globally registered colormap. In future versions, you will not be able to modify a registered colormap in-place. To remove this warning, you can make a copy of the colormap first. cmap = copy.copy(mpl.cm.get_cmap(\"gray\"))\n",
      "\n",
      "\n",
      "\n",
      " 96%|█████████▌| 528/550 [02:01<00:10,  2.10it/s]\u001b[A\u001b[A\u001b[A/home/prativa/anaconda3/envs/py36/lib/python3.6/site-packages/pyproj/crs/crs.py:53: FutureWarning: '+init=<authority>:<code>' syntax is deprecated. '<authority>:<code>' is the preferred initialization method. When making the change, be mindful of axis order changes: https://pyproj4.github.io/pyproj/stable/gotchas.html#axis-order-changes-in-proj-6\n",
      "  return _prepare_from_string(\" \".join(pjargs))\n",
      "/home/prativa/anaconda3/envs/py36/lib/python3.6/site-packages/ipykernel_launcher.py:72: MatplotlibDeprecationWarning: You are modifying the state of a globally registered colormap. In future versions, you will not be able to modify a registered colormap in-place. To remove this warning, you can make a copy of the colormap first. cmap = copy.copy(mpl.cm.get_cmap(\"gray\"))\n",
      "/home/prativa/anaconda3/envs/py36/lib/python3.6/site-packages/ipykernel_launcher.py:72: MatplotlibDeprecationWarning: You are modifying the state of a globally registered colormap. In future versions, you will not be able to modify a registered colormap in-place. To remove this warning, you can make a copy of the colormap first. cmap = copy.copy(mpl.cm.get_cmap(\"gray\"))\n",
      "/home/prativa/anaconda3/envs/py36/lib/python3.6/site-packages/ipykernel_launcher.py:72: MatplotlibDeprecationWarning: You are modifying the state of a globally registered colormap. In future versions, you will not be able to modify a registered colormap in-place. To remove this warning, you can make a copy of the colormap first. cmap = copy.copy(mpl.cm.get_cmap(\"gray\"))\n"
     ]
    },
    {
     "name": "stderr",
     "output_type": "stream",
     "text": [
      "/home/prativa/anaconda3/envs/py36/lib/python3.6/site-packages/pyproj/crs/crs.py:53: FutureWarning: '+init=<authority>:<code>' syntax is deprecated. '<authority>:<code>' is the preferred initialization method. When making the change, be mindful of axis order changes: https://pyproj4.github.io/pyproj/stable/gotchas.html#axis-order-changes-in-proj-6\n",
      "  return _prepare_from_string(\" \".join(pjargs))\n",
      "/home/prativa/anaconda3/envs/py36/lib/python3.6/site-packages/pyproj/crs/crs.py:53: FutureWarning: '+init=<authority>:<code>' syntax is deprecated. '<authority>:<code>' is the preferred initialization method. When making the change, be mindful of axis order changes: https://pyproj4.github.io/pyproj/stable/gotchas.html#axis-order-changes-in-proj-6\n",
      "  return _prepare_from_string(\" \".join(pjargs))\n",
      "/home/prativa/anaconda3/envs/py36/lib/python3.6/site-packages/pyproj/crs/crs.py:53: FutureWarning: '+init=<authority>:<code>' syntax is deprecated. '<authority>:<code>' is the preferred initialization method. When making the change, be mindful of axis order changes: https://pyproj4.github.io/pyproj/stable/gotchas.html#axis-order-changes-in-proj-6\n",
      "  return _prepare_from_string(\" \".join(pjargs))\n",
      "/home/prativa/anaconda3/envs/py36/lib/python3.6/site-packages/pyproj/crs/crs.py:53: FutureWarning: '+init=<authority>:<code>' syntax is deprecated. '<authority>:<code>' is the preferred initialization method. When making the change, be mindful of axis order changes: https://pyproj4.github.io/pyproj/stable/gotchas.html#axis-order-changes-in-proj-6\n",
      "  return _prepare_from_string(\" \".join(pjargs))\n",
      "\n",
      "\n",
      "\n",
      " 97%|█████████▋| 531/550 [02:02<00:07,  2.39it/s]\u001b[A\u001b[A\u001b[A/home/prativa/anaconda3/envs/py36/lib/python3.6/site-packages/pyproj/crs/crs.py:53: FutureWarning: '+init=<authority>:<code>' syntax is deprecated. '<authority>:<code>' is the preferred initialization method. When making the change, be mindful of axis order changes: https://pyproj4.github.io/pyproj/stable/gotchas.html#axis-order-changes-in-proj-6\n",
      "  return _prepare_from_string(\" \".join(pjargs))\n",
      "/home/prativa/anaconda3/envs/py36/lib/python3.6/site-packages/skimage/io/_io.py:141: UserWarning: data/AOI_5_Khartoum_Roads_Train/RGB-PanSharpen_mask/SN3_roads_train_AOI_5_Khartoum_geojson_roads_img74.jpg is a low contrast image\n",
      "  warn('%s is a low contrast image' % fname)\n",
      "/home/prativa/anaconda3/envs/py36/lib/python3.6/site-packages/ipykernel_launcher.py:72: MatplotlibDeprecationWarning: You are modifying the state of a globally registered colormap. In future versions, you will not be able to modify a registered colormap in-place. To remove this warning, you can make a copy of the colormap first. cmap = copy.copy(mpl.cm.get_cmap(\"gray\"))\n",
      "\n",
      "\n",
      "\n",
      " 97%|█████████▋| 532/550 [02:02<00:07,  2.39it/s]\u001b[A\u001b[A\u001b[A/home/prativa/anaconda3/envs/py36/lib/python3.6/site-packages/pyproj/crs/crs.py:53: FutureWarning: '+init=<authority>:<code>' syntax is deprecated. '<authority>:<code>' is the preferred initialization method. When making the change, be mindful of axis order changes: https://pyproj4.github.io/pyproj/stable/gotchas.html#axis-order-changes-in-proj-6\n",
      "  return _prepare_from_string(\" \".join(pjargs))\n",
      "/home/prativa/anaconda3/envs/py36/lib/python3.6/site-packages/ipykernel_launcher.py:72: MatplotlibDeprecationWarning: You are modifying the state of a globally registered colormap. In future versions, you will not be able to modify a registered colormap in-place. To remove this warning, you can make a copy of the colormap first. cmap = copy.copy(mpl.cm.get_cmap(\"gray\"))\n",
      "/home/prativa/anaconda3/envs/py36/lib/python3.6/site-packages/ipykernel_launcher.py:72: MatplotlibDeprecationWarning: You are modifying the state of a globally registered colormap. In future versions, you will not be able to modify a registered colormap in-place. To remove this warning, you can make a copy of the colormap first. cmap = copy.copy(mpl.cm.get_cmap(\"gray\"))\n",
      "/home/prativa/anaconda3/envs/py36/lib/python3.6/site-packages/pyproj/crs/crs.py:53: FutureWarning: '+init=<authority>:<code>' syntax is deprecated. '<authority>:<code>' is the preferred initialization method. When making the change, be mindful of axis order changes: https://pyproj4.github.io/pyproj/stable/gotchas.html#axis-order-changes-in-proj-6\n",
      "  return _prepare_from_string(\" \".join(pjargs))\n",
      "\n",
      "\n",
      "\n",
      " 97%|█████████▋| 533/550 [02:03<00:07,  2.27it/s]\u001b[A\u001b[A\u001b[A/home/prativa/anaconda3/envs/py36/lib/python3.6/site-packages/pyproj/crs/crs.py:53: FutureWarning: '+init=<authority>:<code>' syntax is deprecated. '<authority>:<code>' is the preferred initialization method. When making the change, be mindful of axis order changes: https://pyproj4.github.io/pyproj/stable/gotchas.html#axis-order-changes-in-proj-6\n",
      "  return _prepare_from_string(\" \".join(pjargs))\n",
      "/home/prativa/anaconda3/envs/py36/lib/python3.6/site-packages/pyproj/crs/crs.py:53: FutureWarning: '+init=<authority>:<code>' syntax is deprecated. '<authority>:<code>' is the preferred initialization method. When making the change, be mindful of axis order changes: https://pyproj4.github.io/pyproj/stable/gotchas.html#axis-order-changes-in-proj-6\n",
      "  return _prepare_from_string(\" \".join(pjargs))\n",
      "/home/prativa/anaconda3/envs/py36/lib/python3.6/site-packages/pyproj/crs/crs.py:53: FutureWarning: '+init=<authority>:<code>' syntax is deprecated. '<authority>:<code>' is the preferred initialization method. When making the change, be mindful of axis order changes: https://pyproj4.github.io/pyproj/stable/gotchas.html#axis-order-changes-in-proj-6\n",
      "  return _prepare_from_string(\" \".join(pjargs))\n",
      "/home/prativa/anaconda3/envs/py36/lib/python3.6/site-packages/pyproj/crs/crs.py:53: FutureWarning: '+init=<authority>:<code>' syntax is deprecated. '<authority>:<code>' is the preferred initialization method. When making the change, be mindful of axis order changes: https://pyproj4.github.io/pyproj/stable/gotchas.html#axis-order-changes-in-proj-6\n",
      "  return _prepare_from_string(\" \".join(pjargs))\n",
      "\n",
      "\n",
      "\n",
      " 97%|█████████▋| 534/550 [02:03<00:07,  2.07it/s]\u001b[A\u001b[A\u001b[A/home/prativa/anaconda3/envs/py36/lib/python3.6/site-packages/ipykernel_launcher.py:72: MatplotlibDeprecationWarning: You are modifying the state of a globally registered colormap. In future versions, you will not be able to modify a registered colormap in-place. To remove this warning, you can make a copy of the colormap first. cmap = copy.copy(mpl.cm.get_cmap(\"gray\"))\n",
      "/home/prativa/anaconda3/envs/py36/lib/python3.6/site-packages/pyproj/crs/crs.py:53: FutureWarning: '+init=<authority>:<code>' syntax is deprecated. '<authority>:<code>' is the preferred initialization method. When making the change, be mindful of axis order changes: https://pyproj4.github.io/pyproj/stable/gotchas.html#axis-order-changes-in-proj-6\n",
      "  return _prepare_from_string(\" \".join(pjargs))\n",
      "/home/prativa/anaconda3/envs/py36/lib/python3.6/site-packages/ipykernel_launcher.py:72: MatplotlibDeprecationWarning: You are modifying the state of a globally registered colormap. In future versions, you will not be able to modify a registered colormap in-place. To remove this warning, you can make a copy of the colormap first. cmap = copy.copy(mpl.cm.get_cmap(\"gray\"))\n",
      "/home/prativa/anaconda3/envs/py36/lib/python3.6/site-packages/pyproj/crs/crs.py:53: FutureWarning: '+init=<authority>:<code>' syntax is deprecated. '<authority>:<code>' is the preferred initialization method. When making the change, be mindful of axis order changes: https://pyproj4.github.io/pyproj/stable/gotchas.html#axis-order-changes-in-proj-6\n",
      "  return _prepare_from_string(\" \".join(pjargs))\n",
      "\n",
      "\n",
      "\n",
      " 97%|█████████▋| 535/550 [02:04<00:07,  2.06it/s]\u001b[A\u001b[A\u001b[A/home/prativa/anaconda3/envs/py36/lib/python3.6/site-packages/pyproj/crs/crs.py:53: FutureWarning: '+init=<authority>:<code>' syntax is deprecated. '<authority>:<code>' is the preferred initialization method. When making the change, be mindful of axis order changes: https://pyproj4.github.io/pyproj/stable/gotchas.html#axis-order-changes-in-proj-6\n",
      "  return _prepare_from_string(\" \".join(pjargs))\n",
      "/home/prativa/anaconda3/envs/py36/lib/python3.6/site-packages/pyproj/crs/crs.py:53: FutureWarning: '+init=<authority>:<code>' syntax is deprecated. '<authority>:<code>' is the preferred initialization method. When making the change, be mindful of axis order changes: https://pyproj4.github.io/pyproj/stable/gotchas.html#axis-order-changes-in-proj-6\n",
      "  return _prepare_from_string(\" \".join(pjargs))\n"
     ]
    },
    {
     "name": "stderr",
     "output_type": "stream",
     "text": [
      "/home/prativa/anaconda3/envs/py36/lib/python3.6/site-packages/pyproj/crs/crs.py:53: FutureWarning: '+init=<authority>:<code>' syntax is deprecated. '<authority>:<code>' is the preferred initialization method. When making the change, be mindful of axis order changes: https://pyproj4.github.io/pyproj/stable/gotchas.html#axis-order-changes-in-proj-6\n",
      "  return _prepare_from_string(\" \".join(pjargs))\n",
      "/home/prativa/anaconda3/envs/py36/lib/python3.6/site-packages/ipykernel_launcher.py:72: MatplotlibDeprecationWarning: You are modifying the state of a globally registered colormap. In future versions, you will not be able to modify a registered colormap in-place. To remove this warning, you can make a copy of the colormap first. cmap = copy.copy(mpl.cm.get_cmap(\"gray\"))\n",
      "/home/prativa/anaconda3/envs/py36/lib/python3.6/site-packages/ipykernel_launcher.py:72: MatplotlibDeprecationWarning: You are modifying the state of a globally registered colormap. In future versions, you will not be able to modify a registered colormap in-place. To remove this warning, you can make a copy of the colormap first. cmap = copy.copy(mpl.cm.get_cmap(\"gray\"))\n",
      "/home/prativa/anaconda3/envs/py36/lib/python3.6/site-packages/pyproj/crs/crs.py:53: FutureWarning: '+init=<authority>:<code>' syntax is deprecated. '<authority>:<code>' is the preferred initialization method. When making the change, be mindful of axis order changes: https://pyproj4.github.io/pyproj/stable/gotchas.html#axis-order-changes-in-proj-6\n",
      "  return _prepare_from_string(\" \".join(pjargs))\n",
      "/home/prativa/anaconda3/envs/py36/lib/python3.6/site-packages/pyproj/crs/crs.py:53: FutureWarning: '+init=<authority>:<code>' syntax is deprecated. '<authority>:<code>' is the preferred initialization method. When making the change, be mindful of axis order changes: https://pyproj4.github.io/pyproj/stable/gotchas.html#axis-order-changes-in-proj-6\n",
      "  return _prepare_from_string(\" \".join(pjargs))\n",
      "/home/prativa/anaconda3/envs/py36/lib/python3.6/site-packages/pyproj/crs/crs.py:53: FutureWarning: '+init=<authority>:<code>' syntax is deprecated. '<authority>:<code>' is the preferred initialization method. When making the change, be mindful of axis order changes: https://pyproj4.github.io/pyproj/stable/gotchas.html#axis-order-changes-in-proj-6\n",
      "  return _prepare_from_string(\" \".join(pjargs))\n",
      "\n",
      "\n",
      "\n",
      " 98%|█████████▊| 538/550 [02:05<00:05,  2.30it/s]\u001b[A\u001b[A\u001b[A/home/prativa/anaconda3/envs/py36/lib/python3.6/site-packages/pyproj/crs/crs.py:53: FutureWarning: '+init=<authority>:<code>' syntax is deprecated. '<authority>:<code>' is the preferred initialization method. When making the change, be mindful of axis order changes: https://pyproj4.github.io/pyproj/stable/gotchas.html#axis-order-changes-in-proj-6\n",
      "  return _prepare_from_string(\" \".join(pjargs))\n",
      "/home/prativa/anaconda3/envs/py36/lib/python3.6/site-packages/pyproj/crs/crs.py:53: FutureWarning: '+init=<authority>:<code>' syntax is deprecated. '<authority>:<code>' is the preferred initialization method. When making the change, be mindful of axis order changes: https://pyproj4.github.io/pyproj/stable/gotchas.html#axis-order-changes-in-proj-6\n",
      "  return _prepare_from_string(\" \".join(pjargs))\n",
      "/home/prativa/anaconda3/envs/py36/lib/python3.6/site-packages/ipykernel_launcher.py:72: MatplotlibDeprecationWarning: You are modifying the state of a globally registered colormap. In future versions, you will not be able to modify a registered colormap in-place. To remove this warning, you can make a copy of the colormap first. cmap = copy.copy(mpl.cm.get_cmap(\"gray\"))\n",
      "/home/prativa/anaconda3/envs/py36/lib/python3.6/site-packages/ipykernel_launcher.py:72: MatplotlibDeprecationWarning: You are modifying the state of a globally registered colormap. In future versions, you will not be able to modify a registered colormap in-place. To remove this warning, you can make a copy of the colormap first. cmap = copy.copy(mpl.cm.get_cmap(\"gray\"))\n",
      "/home/prativa/anaconda3/envs/py36/lib/python3.6/site-packages/pyproj/crs/crs.py:53: FutureWarning: '+init=<authority>:<code>' syntax is deprecated. '<authority>:<code>' is the preferred initialization method. When making the change, be mindful of axis order changes: https://pyproj4.github.io/pyproj/stable/gotchas.html#axis-order-changes-in-proj-6\n",
      "  return _prepare_from_string(\" \".join(pjargs))\n",
      "/home/prativa/anaconda3/envs/py36/lib/python3.6/site-packages/pyproj/crs/crs.py:53: FutureWarning: '+init=<authority>:<code>' syntax is deprecated. '<authority>:<code>' is the preferred initialization method. When making the change, be mindful of axis order changes: https://pyproj4.github.io/pyproj/stable/gotchas.html#axis-order-changes-in-proj-6\n",
      "  return _prepare_from_string(\" \".join(pjargs))\n",
      "/home/prativa/anaconda3/envs/py36/lib/python3.6/site-packages/ipykernel_launcher.py:72: MatplotlibDeprecationWarning: You are modifying the state of a globally registered colormap. In future versions, you will not be able to modify a registered colormap in-place. To remove this warning, you can make a copy of the colormap first. cmap = copy.copy(mpl.cm.get_cmap(\"gray\"))\n",
      "/home/prativa/anaconda3/envs/py36/lib/python3.6/site-packages/ipykernel_launcher.py:72: MatplotlibDeprecationWarning: You are modifying the state of a globally registered colormap. In future versions, you will not be able to modify a registered colormap in-place. To remove this warning, you can make a copy of the colormap first. cmap = copy.copy(mpl.cm.get_cmap(\"gray\"))\n",
      "/home/prativa/anaconda3/envs/py36/lib/python3.6/site-packages/pyproj/crs/crs.py:53: FutureWarning: '+init=<authority>:<code>' syntax is deprecated. '<authority>:<code>' is the preferred initialization method. When making the change, be mindful of axis order changes: https://pyproj4.github.io/pyproj/stable/gotchas.html#axis-order-changes-in-proj-6\n",
      "  return _prepare_from_string(\" \".join(pjargs))\n",
      "/home/prativa/anaconda3/envs/py36/lib/python3.6/site-packages/pyproj/crs/crs.py:53: FutureWarning: '+init=<authority>:<code>' syntax is deprecated. '<authority>:<code>' is the preferred initialization method. When making the change, be mindful of axis order changes: https://pyproj4.github.io/pyproj/stable/gotchas.html#axis-order-changes-in-proj-6\n",
      "  return _prepare_from_string(\" \".join(pjargs))\n",
      "\n",
      "\n",
      "\n",
      " 98%|█████████▊| 541/550 [02:06<00:03,  2.48it/s]\u001b[A\u001b[A\u001b[A\n",
      "\n",
      "\n",
      " 99%|█████████▊| 543/550 [02:06<00:02,  3.27it/s]\u001b[A\u001b[A\u001b[A/home/prativa/anaconda3/envs/py36/lib/python3.6/site-packages/ipykernel_launcher.py:72: MatplotlibDeprecationWarning: You are modifying the state of a globally registered colormap. In future versions, you will not be able to modify a registered colormap in-place. To remove this warning, you can make a copy of the colormap first. cmap = copy.copy(mpl.cm.get_cmap(\"gray\"))\n",
      "/home/prativa/anaconda3/envs/py36/lib/python3.6/site-packages/ipykernel_launcher.py:72: MatplotlibDeprecationWarning: You are modifying the state of a globally registered colormap. In future versions, you will not be able to modify a registered colormap in-place. To remove this warning, you can make a copy of the colormap first. cmap = copy.copy(mpl.cm.get_cmap(\"gray\"))\n",
      "\n",
      "\n",
      "\n",
      " 99%|█████████▉| 544/550 [02:06<00:01,  3.22it/s]\u001b[A\u001b[A\u001b[A\n",
      "\n",
      "\n",
      " 99%|█████████▉| 545/550 [02:07<00:01,  2.53it/s]\u001b[A\u001b[A\u001b[A\n",
      "\n",
      "\n",
      " 99%|█████████▉| 547/550 [02:07<00:00,  3.34it/s]\u001b[A\u001b[A\u001b[A\n",
      "\n",
      "\n",
      "100%|█████████▉| 549/550 [02:07<00:00,  4.13it/s]\u001b[A\u001b[A\u001b[A\n",
      "\n",
      "\n",
      "100%|██████████| 550/550 [02:07<00:00,  4.30it/s]\u001b[A\u001b[A\u001b[A"
     ]
    }
   ],
   "source": [
    "input_data = zip(imgs,img_folders,img_subfolders,img_list_new)\n",
    "input_data = [item for item in input_data]\n",
    "\n",
    "with Pool(10) as p:\n",
    "    mask_data = list(tqdm.tqdm(p.imap(create_binary_mask, input_data),\n",
    "                                   total=len(input_data)))\n",
    "# transpose the list\n",
    "mask_data = list(map(list, zip(*mask_data)))\n",
    "\n",
    "mask_df = pd.DataFrame()\n",
    "\n",
    "for i,key in enumerate(['label_file','bit8_folder','bit8_path','mask_folder','mask_path','img_path','img_folder','img_subfolder','img_file', 'mask_max']):\n",
    "    mask_df[key] = mask_data[i]\n",
    "\n",
    "mask_df.to_csv('mask_df.csv')\n",
    "\n",
    "# SN3_roads_train_AOI_3_Paris_geojson_roads_img46.geojson"
   ]
  },
  {
   "cell_type": "code",
   "execution_count": null,
   "metadata": {},
   "outputs": [],
   "source": []
  }
 ],
 "metadata": {
  "kernelspec": {
   "display_name": "py36",
   "language": "python",
   "name": "py36"
  },
  "language_info": {
   "codemirror_mode": {
    "name": "ipython",
    "version": 3
   },
   "file_extension": ".py",
   "mimetype": "text/x-python",
   "name": "python",
   "nbconvert_exporter": "python",
   "pygments_lexer": "ipython3",
   "version": "3.6.9"
  }
 },
 "nbformat": 4,
 "nbformat_minor": 2
}
