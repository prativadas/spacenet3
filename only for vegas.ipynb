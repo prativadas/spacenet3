{
 "cells": [
  {
   "cell_type": "code",
   "execution_count": 1,
   "metadata": {},
   "outputs": [],
   "source": [
    "import rasterio\n",
    "import os\n",
    "\n",
    "path_dict = {\n",
    "    'mul': 'data/AOI_2_Vegas_Roads_Train/MUL',\n",
    "    'muls': 'data/AOI_2_Vegas_Roads_Train/MUL-PanSharpen',\n",
    "    'pan': 'data/AOI_2_Vegas_Roads_Train/PAN',\n",
    "    'rgbps': 'data/AOI_2_Vegas_Roads_Train/RGB-PanSharpen',    \n",
    "}\n",
    "\n",
    "prefix_dict = {\n",
    "    'mul': 'MUL_AOI_2_Vegas_',\n",
    "    'muls': 'MUL-PanSharpen_AOI_2_Vegas_',\n",
    "    'pan': 'PAN_AOI_2_Vegas_',\n",
    "    'rgbps': 'RGB-PanSharpen_AOI_2_Vegas_',    \n",
    "}\n"
   ]
  },
  {
   "cell_type": "markdown",
   "metadata": {},
   "source": [
    "*** this code works only for vegas as its format is spacenetroads_AOI_2_Vegas_img10.geojson, but other cities has different format***"
   ]
  },
  {
   "cell_type": "code",
   "execution_count": 3,
   "metadata": {},
   "outputs": [
    {
     "name": "stdout",
     "output_type": "stream",
     "text": [
      "data/AOI_2_Vegas_Roads_Train/:\r\n",
      "geojson  MUL  MUL-PanSharpen  PAN  RGB-PanSharpen  summaryData\r\n",
      "\r\n",
      "data/AOI_2_Vegas_Roads_Train/geojson:\r\n",
      "spacenetroads\r\n",
      "\r\n",
      "data/AOI_2_Vegas_Roads_Train/geojson/spacenetroads:\r\n",
      "spacenetroads_AOI_2_Vegas_img10.geojson\r\n",
      "spacenetroads_AOI_2_Vegas_img12.geojson\r\n",
      "spacenetroads_AOI_2_Vegas_img17.geojson\r\n",
      "spacenetroads_AOI_2_Vegas_img1.geojson\r\n",
      "spacenetroads_AOI_2_Vegas_img20.geojson\r\n",
      "spacenetroads_AOI_2_Vegas_img22.geojson\r\n",
      "spacenetroads_AOI_2_Vegas_img25.geojson\r\n",
      "spacenetroads_AOI_2_Vegas_img26.geojson\r\n",
      "spacenetroads_AOI_2_Vegas_img27.geojson\r\n",
      "spacenetroads_AOI_2_Vegas_img28.geojson\r\n",
      "spacenetroads_AOI_2_Vegas_img29.geojson\r\n",
      "spacenetroads_AOI_2_Vegas_img2.geojson\r\n",
      "spacenetroads_AOI_2_Vegas_img30.geojson\r\n",
      "spacenetroads_AOI_2_Vegas_img33.geojson\r\n",
      "spacenetroads_AOI_2_Vegas_img34.geojson\r\n",
      "spacenetroads_AOI_2_Vegas_img35.geojson\r\n",
      "spacenetroads_AOI_2_Vegas_img36.geojson\r\n",
      "spacenetroads_AOI_2_Vegas_img38.geojson\r\n",
      "spacenetroads_AOI_2_Vegas_img39.geojson\r\n",
      "spacenetroads_AOI_2_Vegas_img40.geojson\r\n",
      "spacenetroads_AOI_2_Vegas_img41.geojson\r\n",
      "spacenetroads_AOI_2_Vegas_img42.geojson\r\n",
      "spacenetroads_AOI_2_Vegas_img44.geojson\r\n",
      "spacenetroads_AOI_2_Vegas_img47.geojson\r\n",
      "spacenetroads_AOI_2_Vegas_img48.geojson\r\n",
      "spacenetroads_AOI_2_Vegas_img49.geojson\r\n",
      "spacenetroads_AOI_2_Vegas_img4.geojson\r\n",
      "spacenetroads_AOI_2_Vegas_img50.geojson\r\n",
      "spacenetroads_AOI_2_Vegas_img51.geojson\r\n",
      "spacenetroads_AOI_2_Vegas_img53.geojson\r\n",
      "spacenetroads_AOI_2_Vegas_img55.geojson\r\n",
      "spacenetroads_AOI_2_Vegas_img56.geojson\r\n",
      "spacenetroads_AOI_2_Vegas_img59.geojson\r\n",
      "spacenetroads_AOI_2_Vegas_img5.geojson\r\n",
      "spacenetroads_AOI_2_Vegas_img61.geojson\r\n",
      "spacenetroads_AOI_2_Vegas_img63.geojson\r\n",
      "spacenetroads_AOI_2_Vegas_img65.geojson\r\n",
      "spacenetroads_AOI_2_Vegas_img66.geojson\r\n",
      "spacenetroads_AOI_2_Vegas_img68.geojson\r\n",
      "spacenetroads_AOI_2_Vegas_img69.geojson\r\n",
      "spacenetroads_AOI_2_Vegas_img72.geojson\r\n",
      "spacenetroads_AOI_2_Vegas_img74.geojson\r\n",
      "spacenetroads_AOI_2_Vegas_img75.geojson\r\n",
      "spacenetroads_AOI_2_Vegas_img76.geojson\r\n",
      "spacenetroads_AOI_2_Vegas_img77.geojson\r\n",
      "spacenetroads_AOI_2_Vegas_img78.geojson\r\n",
      "spacenetroads_AOI_2_Vegas_img7.geojson\r\n",
      "spacenetroads_AOI_2_Vegas_img80.geojson\r\n",
      "spacenetroads_AOI_2_Vegas_img81.geojson\r\n",
      "spacenetroads_AOI_2_Vegas_img8.geojson\r\n",
      "\r\n",
      "data/AOI_2_Vegas_Roads_Train/MUL:\r\n",
      "MUL_AOI_2_Vegas_img10.tif  MUL_AOI_2_Vegas_img38.tif  MUL_AOI_2_Vegas_img61.tif\r\n",
      "MUL_AOI_2_Vegas_img12.tif  MUL_AOI_2_Vegas_img39.tif  MUL_AOI_2_Vegas_img63.tif\r\n",
      "MUL_AOI_2_Vegas_img17.tif  MUL_AOI_2_Vegas_img40.tif  MUL_AOI_2_Vegas_img65.tif\r\n",
      "MUL_AOI_2_Vegas_img1.tif   MUL_AOI_2_Vegas_img41.tif  MUL_AOI_2_Vegas_img66.tif\r\n",
      "MUL_AOI_2_Vegas_img20.tif  MUL_AOI_2_Vegas_img42.tif  MUL_AOI_2_Vegas_img68.tif\r\n",
      "MUL_AOI_2_Vegas_img22.tif  MUL_AOI_2_Vegas_img44.tif  MUL_AOI_2_Vegas_img69.tif\r\n",
      "MUL_AOI_2_Vegas_img25.tif  MUL_AOI_2_Vegas_img47.tif  MUL_AOI_2_Vegas_img72.tif\r\n",
      "MUL_AOI_2_Vegas_img26.tif  MUL_AOI_2_Vegas_img48.tif  MUL_AOI_2_Vegas_img74.tif\r\n",
      "MUL_AOI_2_Vegas_img27.tif  MUL_AOI_2_Vegas_img49.tif  MUL_AOI_2_Vegas_img75.tif\r\n",
      "MUL_AOI_2_Vegas_img28.tif  MUL_AOI_2_Vegas_img4.tif   MUL_AOI_2_Vegas_img76.tif\r\n",
      "MUL_AOI_2_Vegas_img29.tif  MUL_AOI_2_Vegas_img50.tif  MUL_AOI_2_Vegas_img77.tif\r\n",
      "MUL_AOI_2_Vegas_img2.tif   MUL_AOI_2_Vegas_img51.tif  MUL_AOI_2_Vegas_img78.tif\r\n",
      "MUL_AOI_2_Vegas_img30.tif  MUL_AOI_2_Vegas_img53.tif  MUL_AOI_2_Vegas_img7.tif\r\n",
      "MUL_AOI_2_Vegas_img33.tif  MUL_AOI_2_Vegas_img55.tif  MUL_AOI_2_Vegas_img80.tif\r\n",
      "MUL_AOI_2_Vegas_img34.tif  MUL_AOI_2_Vegas_img56.tif  MUL_AOI_2_Vegas_img81.tif\r\n",
      "MUL_AOI_2_Vegas_img35.tif  MUL_AOI_2_Vegas_img59.tif  MUL_AOI_2_Vegas_img8.tif\r\n",
      "MUL_AOI_2_Vegas_img36.tif  MUL_AOI_2_Vegas_img5.tif\r\n",
      "\r\n",
      "data/AOI_2_Vegas_Roads_Train/MUL-PanSharpen:\r\n",
      "MUL-PanSharpen_AOI_2_Vegas_img10.tif  MUL-PanSharpen_AOI_2_Vegas_img49.tif\r\n",
      "MUL-PanSharpen_AOI_2_Vegas_img12.tif  MUL-PanSharpen_AOI_2_Vegas_img4.tif\r\n",
      "MUL-PanSharpen_AOI_2_Vegas_img17.tif  MUL-PanSharpen_AOI_2_Vegas_img50.tif\r\n",
      "MUL-PanSharpen_AOI_2_Vegas_img1.tif   MUL-PanSharpen_AOI_2_Vegas_img51.tif\r\n",
      "MUL-PanSharpen_AOI_2_Vegas_img20.tif  MUL-PanSharpen_AOI_2_Vegas_img53.tif\r\n",
      "MUL-PanSharpen_AOI_2_Vegas_img22.tif  MUL-PanSharpen_AOI_2_Vegas_img55.tif\r\n",
      "MUL-PanSharpen_AOI_2_Vegas_img25.tif  MUL-PanSharpen_AOI_2_Vegas_img56.tif\r\n",
      "MUL-PanSharpen_AOI_2_Vegas_img26.tif  MUL-PanSharpen_AOI_2_Vegas_img59.tif\r\n",
      "MUL-PanSharpen_AOI_2_Vegas_img27.tif  MUL-PanSharpen_AOI_2_Vegas_img5.tif\r\n",
      "MUL-PanSharpen_AOI_2_Vegas_img28.tif  MUL-PanSharpen_AOI_2_Vegas_img61.tif\r\n",
      "MUL-PanSharpen_AOI_2_Vegas_img29.tif  MUL-PanSharpen_AOI_2_Vegas_img63.tif\r\n",
      "MUL-PanSharpen_AOI_2_Vegas_img2.tif   MUL-PanSharpen_AOI_2_Vegas_img65.tif\r\n",
      "MUL-PanSharpen_AOI_2_Vegas_img30.tif  MUL-PanSharpen_AOI_2_Vegas_img66.tif\r\n",
      "MUL-PanSharpen_AOI_2_Vegas_img33.tif  MUL-PanSharpen_AOI_2_Vegas_img68.tif\r\n",
      "MUL-PanSharpen_AOI_2_Vegas_img34.tif  MUL-PanSharpen_AOI_2_Vegas_img69.tif\r\n",
      "MUL-PanSharpen_AOI_2_Vegas_img35.tif  MUL-PanSharpen_AOI_2_Vegas_img72.tif\r\n",
      "MUL-PanSharpen_AOI_2_Vegas_img36.tif  MUL-PanSharpen_AOI_2_Vegas_img74.tif\r\n",
      "MUL-PanSharpen_AOI_2_Vegas_img38.tif  MUL-PanSharpen_AOI_2_Vegas_img75.tif\r\n",
      "MUL-PanSharpen_AOI_2_Vegas_img39.tif  MUL-PanSharpen_AOI_2_Vegas_img76.tif\r\n",
      "MUL-PanSharpen_AOI_2_Vegas_img40.tif  MUL-PanSharpen_AOI_2_Vegas_img77.tif\r\n",
      "MUL-PanSharpen_AOI_2_Vegas_img41.tif  MUL-PanSharpen_AOI_2_Vegas_img78.tif\r\n",
      "MUL-PanSharpen_AOI_2_Vegas_img42.tif  MUL-PanSharpen_AOI_2_Vegas_img7.tif\r\n",
      "MUL-PanSharpen_AOI_2_Vegas_img44.tif  MUL-PanSharpen_AOI_2_Vegas_img80.tif\r\n",
      "MUL-PanSharpen_AOI_2_Vegas_img47.tif  MUL-PanSharpen_AOI_2_Vegas_img81.tif\r\n",
      "MUL-PanSharpen_AOI_2_Vegas_img48.tif  MUL-PanSharpen_AOI_2_Vegas_img8.tif\r\n",
      "\r\n",
      "data/AOI_2_Vegas_Roads_Train/PAN:\r\n",
      "PAN_AOI_2_Vegas_img10.tif  PAN_AOI_2_Vegas_img38.tif  PAN_AOI_2_Vegas_img61.tif\r\n",
      "PAN_AOI_2_Vegas_img12.tif  PAN_AOI_2_Vegas_img39.tif  PAN_AOI_2_Vegas_img63.tif\r\n",
      "PAN_AOI_2_Vegas_img17.tif  PAN_AOI_2_Vegas_img40.tif  PAN_AOI_2_Vegas_img65.tif\r\n",
      "PAN_AOI_2_Vegas_img1.tif   PAN_AOI_2_Vegas_img41.tif  PAN_AOI_2_Vegas_img66.tif\r\n",
      "PAN_AOI_2_Vegas_img20.tif  PAN_AOI_2_Vegas_img42.tif  PAN_AOI_2_Vegas_img68.tif\r\n",
      "PAN_AOI_2_Vegas_img22.tif  PAN_AOI_2_Vegas_img44.tif  PAN_AOI_2_Vegas_img69.tif\r\n",
      "PAN_AOI_2_Vegas_img25.tif  PAN_AOI_2_Vegas_img47.tif  PAN_AOI_2_Vegas_img72.tif\r\n",
      "PAN_AOI_2_Vegas_img26.tif  PAN_AOI_2_Vegas_img48.tif  PAN_AOI_2_Vegas_img74.tif\r\n",
      "PAN_AOI_2_Vegas_img27.tif  PAN_AOI_2_Vegas_img49.tif  PAN_AOI_2_Vegas_img75.tif\r\n",
      "PAN_AOI_2_Vegas_img28.tif  PAN_AOI_2_Vegas_img4.tif   PAN_AOI_2_Vegas_img76.tif\r\n",
      "PAN_AOI_2_Vegas_img29.tif  PAN_AOI_2_Vegas_img50.tif  PAN_AOI_2_Vegas_img77.tif\r\n",
      "PAN_AOI_2_Vegas_img2.tif   PAN_AOI_2_Vegas_img51.tif  PAN_AOI_2_Vegas_img78.tif\r\n",
      "PAN_AOI_2_Vegas_img30.tif  PAN_AOI_2_Vegas_img53.tif  PAN_AOI_2_Vegas_img7.tif\r\n",
      "PAN_AOI_2_Vegas_img33.tif  PAN_AOI_2_Vegas_img55.tif  PAN_AOI_2_Vegas_img80.tif\r\n",
      "PAN_AOI_2_Vegas_img34.tif  PAN_AOI_2_Vegas_img56.tif  PAN_AOI_2_Vegas_img81.tif\r\n",
      "PAN_AOI_2_Vegas_img35.tif  PAN_AOI_2_Vegas_img59.tif  PAN_AOI_2_Vegas_img8.tif\r\n",
      "PAN_AOI_2_Vegas_img36.tif  PAN_AOI_2_Vegas_img5.tif\r\n",
      "\r\n",
      "data/AOI_2_Vegas_Roads_Train/RGB-PanSharpen:\r\n",
      "RGB-PanSharpen_AOI_2_Vegas_img10.tif  RGB-PanSharpen_AOI_2_Vegas_img49.tif\r\n",
      "RGB-PanSharpen_AOI_2_Vegas_img12.tif  RGB-PanSharpen_AOI_2_Vegas_img4.tif\r\n",
      "RGB-PanSharpen_AOI_2_Vegas_img17.tif  RGB-PanSharpen_AOI_2_Vegas_img50.tif\r\n",
      "RGB-PanSharpen_AOI_2_Vegas_img1.tif   RGB-PanSharpen_AOI_2_Vegas_img51.tif\r\n",
      "RGB-PanSharpen_AOI_2_Vegas_img20.tif  RGB-PanSharpen_AOI_2_Vegas_img53.tif\r\n",
      "RGB-PanSharpen_AOI_2_Vegas_img22.tif  RGB-PanSharpen_AOI_2_Vegas_img55.tif\r\n",
      "RGB-PanSharpen_AOI_2_Vegas_img25.tif  RGB-PanSharpen_AOI_2_Vegas_img56.tif\r\n",
      "RGB-PanSharpen_AOI_2_Vegas_img26.tif  RGB-PanSharpen_AOI_2_Vegas_img59.tif\r\n",
      "RGB-PanSharpen_AOI_2_Vegas_img27.tif  RGB-PanSharpen_AOI_2_Vegas_img5.tif\r\n",
      "RGB-PanSharpen_AOI_2_Vegas_img28.tif  RGB-PanSharpen_AOI_2_Vegas_img61.tif\r\n",
      "RGB-PanSharpen_AOI_2_Vegas_img29.tif  RGB-PanSharpen_AOI_2_Vegas_img63.tif\r\n",
      "RGB-PanSharpen_AOI_2_Vegas_img2.tif   RGB-PanSharpen_AOI_2_Vegas_img65.tif\r\n",
      "RGB-PanSharpen_AOI_2_Vegas_img30.tif  RGB-PanSharpen_AOI_2_Vegas_img66.tif\r\n",
      "RGB-PanSharpen_AOI_2_Vegas_img33.tif  RGB-PanSharpen_AOI_2_Vegas_img68.tif\r\n",
      "RGB-PanSharpen_AOI_2_Vegas_img34.tif  RGB-PanSharpen_AOI_2_Vegas_img69.tif\r\n",
      "RGB-PanSharpen_AOI_2_Vegas_img35.tif  RGB-PanSharpen_AOI_2_Vegas_img72.tif\r\n",
      "RGB-PanSharpen_AOI_2_Vegas_img36.tif  RGB-PanSharpen_AOI_2_Vegas_img74.tif\r\n",
      "RGB-PanSharpen_AOI_2_Vegas_img38.tif  RGB-PanSharpen_AOI_2_Vegas_img75.tif\r\n",
      "RGB-PanSharpen_AOI_2_Vegas_img39.tif  RGB-PanSharpen_AOI_2_Vegas_img76.tif\r\n",
      "RGB-PanSharpen_AOI_2_Vegas_img40.tif  RGB-PanSharpen_AOI_2_Vegas_img77.tif\r\n",
      "RGB-PanSharpen_AOI_2_Vegas_img41.tif  RGB-PanSharpen_AOI_2_Vegas_img78.tif\r\n",
      "RGB-PanSharpen_AOI_2_Vegas_img42.tif  RGB-PanSharpen_AOI_2_Vegas_img7.tif\r\n",
      "RGB-PanSharpen_AOI_2_Vegas_img44.tif  RGB-PanSharpen_AOI_2_Vegas_img80.tif\r\n",
      "RGB-PanSharpen_AOI_2_Vegas_img47.tif  RGB-PanSharpen_AOI_2_Vegas_img81.tif\r\n",
      "RGB-PanSharpen_AOI_2_Vegas_img48.tif  RGB-PanSharpen_AOI_2_Vegas_img8.tif\r\n",
      "\r\n",
      "data/AOI_2_Vegas_Roads_Train/summaryData:\r\n",
      "AOI_2_Vegas_Roads_Sample.csv\r\n"
     ]
    }
   ],
   "source": [
    "!ls -R data/AOI_2_Vegas_Roads_Train/"
   ]
  },
  {
   "cell_type": "code",
   "execution_count": 6,
   "metadata": {},
   "outputs": [
    {
     "name": "stdout",
     "output_type": "stream",
     "text": [
      "{'crs': {'properties': {'name': 'urn:ogc:def:crs:OGC:1.3:CRS84'},\n",
      "         'type': 'name'},\n",
      " 'features': [{'geometry': {'coordinates': [[-115.30488150219725,\n",
      "                                             36.1633976998],\n",
      "                                            [-115.30491325824, 36.16360267059],\n",
      "                                            [-115.30493459291, 36.16385228623],\n",
      "                                            [-115.3049217921, 36.16394971456],\n",
      "                                            [-115.30498721843, 36.16403789787],\n",
      "                                            [-115.30505548937, 36.16410047957]],\n",
      "                            'type': 'LineString'},\n",
      "               'properties': {'bridge_typ': '2',\n",
      "                              'heading': '0',\n",
      "                              'lane_numbe': '2',\n",
      "                              'lane_number': '2',\n",
      "                              'one_way_ty': '2',\n",
      "                              'origarea': 0,\n",
      "                              'origlen': 0.005144569904604095,\n",
      "                              'partialDec': 1,\n",
      "                              'paved': '1',\n",
      "                              'road_id': 4702,\n",
      "                              'road_type': '5',\n",
      "                              'truncated': 0},\n",
      "               'type': 'Feature'},\n",
      "              {'geometry': {'coordinates': [[-115.30498786790261,\n",
      "                                             36.1633976998],\n",
      "                                            [-115.30499575229, 36.16344906096],\n",
      "                                            [-115.30503131008, 36.1637292563],\n",
      "                                            [-115.3050341547, 36.16384588583],\n",
      "                                            [-115.30511238183, 36.16391131215],\n",
      "                                            [-115.30511380414, 36.16399380621],\n",
      "                                            [-115.30505548937, 36.16410047957]],\n",
      "                            'type': 'LineString'},\n",
      "               'properties': {'bridge_typ': '2',\n",
      "                              'heading': '0',\n",
      "                              'lane_numbe': '1',\n",
      "                              'lane_number': '1',\n",
      "                              'one_way_ty': '2',\n",
      "                              'origarea': 0,\n",
      "                              'origlen': 0.002945521859363513,\n",
      "                              'partialDec': 1,\n",
      "                              'paved': '1',\n",
      "                              'road_id': 148,\n",
      "                              'road_type': '5',\n",
      "                              'truncated': 0},\n",
      "               'type': 'Feature'},\n",
      "              {'geometry': {'coordinates': [[-115.3050341547, 36.16384588583],\n",
      "                                            [-115.30493459291, 36.16385228623]],\n",
      "                            'type': 'LineString'},\n",
      "               'properties': {'bridge_typ': '2',\n",
      "                              'heading': '0',\n",
      "                              'lane_numbe': '1',\n",
      "                              'lane_number': '1',\n",
      "                              'one_way_ty': '2',\n",
      "                              'origarea': 0,\n",
      "                              'origlen': 9.976730500041206e-05,\n",
      "                              'partialDec': 1,\n",
      "                              'paved': '1',\n",
      "                              'road_id': 4857,\n",
      "                              'road_type': '5',\n",
      "                              'truncated': 0},\n",
      "               'type': 'Feature'},\n",
      "              {'geometry': {'coordinates': [[-115.30595012322, 36.16396535999],\n",
      "                                            [-115.30591598775, 36.16396535999]],\n",
      "                            'type': 'LineString'},\n",
      "               'properties': {'bridge_typ': '2',\n",
      "                              'heading': '0',\n",
      "                              'lane_numbe': '1',\n",
      "                              'lane_number': '1',\n",
      "                              'one_way_ty': '2',\n",
      "                              'origarea': 0,\n",
      "                              'origlen': 3.413547000263861e-05,\n",
      "                              'partialDec': 1,\n",
      "                              'paved': '1',\n",
      "                              'road_id': 9304,\n",
      "                              'road_type': '5',\n",
      "                              'truncated': 0},\n",
      "               'type': 'Feature'},\n",
      "              {'geometry': {'coordinates': [[-115.30593099782, 36.1645924129],\n",
      "                                            [-115.30591598775, 36.16396535999],\n",
      "                                            [-115.30582353751, 36.16392837989],\n",
      "                                            [-115.30576664506, 36.16382312885],\n",
      "                                            [-115.3058221152, 36.16372783399],\n",
      "                                            [-115.30597288021, 36.16371361087],\n",
      "                                            [-115.30605537427, 36.16379468262],\n",
      "                                            [-115.30606248582, 36.1638544197],\n",
      "                                            [-115.30595012322, 36.16396535999]],\n",
      "                            'type': 'LineString'},\n",
      "               'properties': {'bridge_typ': '2',\n",
      "                              'heading': '0',\n",
      "                              'lane_numbe': '2',\n",
      "                              'lane_number': '2',\n",
      "                              'one_way_ty': '2',\n",
      "                              'origarea': 0,\n",
      "                              'origlen': 0.0014418697606406474,\n",
      "                              'partialDec': 1,\n",
      "                              'paved': '1',\n",
      "                              'road_id': 13779,\n",
      "                              'road_type': '5',\n",
      "                              'truncated': 0},\n",
      "               'type': 'Feature'},\n",
      "              {'geometry': {'coordinates': [[-115.30505548937, 36.16410047957],\n",
      "                                            [-115.3052218998, 36.16432804939],\n",
      "                                            [-115.30537550943, 36.16447312515],\n",
      "                                            [-115.30563152548, 36.16456557538],\n",
      "                                            [-115.30589180846, 36.16459686623],\n",
      "                                            [-115.30593099782, 36.1645924129],\n",
      "                                            [-115.30626729866, 36.16455419689],\n",
      "                                            [-115.30654322707, 36.16440058727],\n",
      "                                            [-115.30677648613, 36.1641545274],\n",
      "                                            [-115.30690164953, 36.16404785405],\n",
      "                                            [-115.30717188869, 36.16397104923],\n",
      "                                            [-115.30723020346, 36.1639667823]],\n",
      "                            'type': 'LineString'},\n",
      "               'properties': {'bridge_typ': '2',\n",
      "                              'heading': '0',\n",
      "                              'lane_numbe': '2',\n",
      "                              'lane_number': '2',\n",
      "                              'one_way_ty': '2',\n",
      "                              'origarea': 0,\n",
      "                              'origlen': 0.002564193497995172,\n",
      "                              'partialDec': 1,\n",
      "                              'paved': '1',\n",
      "                              'road_id': 218,\n",
      "                              'road_type': '5',\n",
      "                              'truncated': 0},\n",
      "               'type': 'Feature'},\n",
      "              {'geometry': {'coordinates': [[-115.3049217921, 36.16394971456],\n",
      "                                            [-115.30468924419, 36.16399025043],\n",
      "                                            [-115.30447447518, 36.1640229636],\n",
      "                                            [-115.304258995, 36.16406349947],\n",
      "                                            [-115.30403071403, 36.16410261303],\n",
      "                                            [-115.3040076, 36.16410645269645]],\n",
      "                            'type': 'LineString'},\n",
      "               'properties': {'bridge_typ': '2',\n",
      "                              'heading': '0',\n",
      "                              'lane_numbe': '2',\n",
      "                              'lane_number': '2',\n",
      "                              'one_way_ty': '2',\n",
      "                              'origarea': 0,\n",
      "                              'origlen': 0.0050791440956325555,\n",
      "                              'partialDec': 1,\n",
      "                              'paved': '1',\n",
      "                              'road_id': 383,\n",
      "                              'road_type': '5',\n",
      "                              'truncated': 0},\n",
      "               'type': 'Feature'},\n",
      "              {'geometry': {'coordinates': [[-115.30720531301, 36.16650845272],\n",
      "                                            [-115.30689382682, 36.16649138498],\n",
      "                                            [-115.30658660756, 36.16648996267],\n",
      "                                            [-115.30624525283, 36.16646436107],\n",
      "                                            [-115.30587687419, 36.16645298257],\n",
      "                                            [-115.30573184603, 36.16645035525],\n",
      "                                            [-115.30561520324, 36.16644824216],\n",
      "                                            [-115.30548431625, 36.16644587102],\n",
      "                                            [-115.3050405551, 36.16643875946],\n",
      "                                            [-115.30469351113, 36.16643875946],\n",
      "                                            [-115.30440051499, 36.16642880328],\n",
      "                                            [-115.30433366635, 36.16633350842]],\n",
      "                            'type': 'LineString'},\n",
      "               'properties': {'bridge_typ': '2',\n",
      "                              'heading': '0',\n",
      "                              'lane_numbe': '2',\n",
      "                              'lane_number': '2',\n",
      "                              'one_way_ty': '2',\n",
      "                              'origarea': 0,\n",
      "                              'origlen': 0.0029230973006081785,\n",
      "                              'partialDec': 1,\n",
      "                              'paved': '1',\n",
      "                              'road_id': 853,\n",
      "                              'road_type': '5',\n",
      "                              'truncated': 0},\n",
      "               'type': 'Feature'},\n",
      "              {'geometry': {'coordinates': [[-115.30573184603, 36.16645035525],\n",
      "                                            [-115.3057403323, 36.166856919],\n",
      "                                            [-115.30578991825674,\n",
      "                                             36.1669076998]],\n",
      "                            'type': 'LineString'},\n",
      "               'properties': {'bridge_typ': '2',\n",
      "                              'heading': '0',\n",
      "                              'lane_numbe': '2',\n",
      "                              'lane_number': '2',\n",
      "                              'one_way_ty': '2',\n",
      "                              'origarea': 0,\n",
      "                              'origlen': 0.0022390719819857297,\n",
      "                              'partialDec': 1,\n",
      "                              'paved': '1',\n",
      "                              'road_id': 17508,\n",
      "                              'road_type': '5',\n",
      "                              'truncated': 0},\n",
      "               'type': 'Feature'},\n",
      "              {'geometry': {'coordinates': [[-115.30561520324, 36.16644824216],\n",
      "                                            [-115.30560521272, 36.16674313409],\n",
      "                                            [-115.30566202707267,\n",
      "                                             36.1669076998]],\n",
      "                            'type': 'LineString'},\n",
      "               'properties': {'bridge_typ': '2',\n",
      "                              'heading': '0',\n",
      "                              'lane_numbe': '2',\n",
      "                              'lane_number': '2',\n",
      "                              'one_way_ty': '2',\n",
      "                              'origarea': 0,\n",
      "                              'origlen': 0.0024078289045197836,\n",
      "                              'partialDec': 1,\n",
      "                              'paved': '1',\n",
      "                              'road_id': 13002,\n",
      "                              'road_type': '5',\n",
      "                              'truncated': 0},\n",
      "               'type': 'Feature'}],\n",
      " 'type': 'FeatureCollection'}\n"
     ]
    }
   ],
   "source": [
    "import json\n",
    "from pprint import pprint\n",
    "\n",
    "path =  'data/AOI_2_Vegas_Roads_Train/geojson/spacenetroads/spacenetroads_AOI_2_Vegas_img12.geojson'\n",
    "data = json.load(open(path))\n",
    "\n",
    "pprint(data)"
   ]
  },
  {
   "cell_type": "code",
   "execution_count": 7,
   "metadata": {},
   "outputs": [],
   "source": [
    "import pandas as pd\n",
    "from multiprocessing import Pool\n",
    "import tqdm\n",
    "import numpy as np\n",
    "import os\n",
    "import glob as glob\n",
    "from skimage.io import imread, imsave\n",
    "import osmnx as ox\n",
    "import numpy as np\n",
    "import matplotlib\n",
    "import matplotlib.pyplot as plt\n",
    "import geopandas as gpd\n",
    "from osgeo import gdal, ogr, osr\n",
    "import cv2\n",
    "import subprocess\n",
    "import shapely\n",
    "from shapely.geometry import MultiLineString\n",
    "from matplotlib.patches import PathPatch\n",
    "import matplotlib.path"
   ]
  },
  {
   "cell_type": "code",
   "execution_count": 8,
   "metadata": {},
   "outputs": [],
   "source": [
    "imgs = []\n",
    "\n",
    "# change this to your data prefix\n",
    "path_prefix = 'data'\n",
    "\n",
    "# default variables from the hosts of the challenge\n",
    "buffer_meters = 2\n",
    "burnValue = 150\n",
    "\n",
    "# only train folders\n",
    "folders = ['AOI_2_Vegas_Roads_Train',\n",
    "           'AOI_5_Khartoum_Roads_Train',\n",
    "           'AOI_3_Paris_Roads_Train',\n",
    "           'AOI_4_Shanghai_Roads_Train']\n",
    "\n",
    "# image types\n",
    "prefix_dict = {\n",
    "    'mul': 'MUL',\n",
    "    'muls': 'MUL-PanSharpen',\n",
    "    'pan': 'PAN',\n",
    "    'rgbps': 'RGB-PanSharpen',    \n",
    "}\n",
    "\n",
    "for folder in folders:\n",
    "    for prefix in prefix_dict.items():\n",
    "        g = glob.glob(path_prefix+'/{}/{}/*.tif'.format(folder,prefix[1]))\n",
    "        imgs.extend(g)\n",
    "        \n",
    "img_folders = [(img.split('/')[1]) for img in imgs]\n",
    "img_subfolders = [(img.split('/')[2]) for img in imgs]   \n",
    "img_files = [(img.split('/')[3]) for img in imgs]   \n"
   ]
  },
  {
   "cell_type": "code",
   "execution_count": 17,
   "metadata": {},
   "outputs": [
    {
     "data": {
      "text/plain": [
       "['AOI_2_Vegas_Roads_Train',\n",
       " 'AOI_2_Vegas_Roads_Train',\n",
       " 'AOI_2_Vegas_Roads_Train',\n",
       " 'AOI_2_Vegas_Roads_Train',\n",
       " 'AOI_2_Vegas_Roads_Train',\n",
       " 'AOI_2_Vegas_Roads_Train',\n",
       " 'AOI_2_Vegas_Roads_Train',\n",
       " 'AOI_2_Vegas_Roads_Train',\n",
       " 'AOI_2_Vegas_Roads_Train',\n",
       " 'AOI_2_Vegas_Roads_Train',\n",
       " 'AOI_2_Vegas_Roads_Train',\n",
       " 'AOI_2_Vegas_Roads_Train',\n",
       " 'AOI_2_Vegas_Roads_Train',\n",
       " 'AOI_2_Vegas_Roads_Train',\n",
       " 'AOI_2_Vegas_Roads_Train',\n",
       " 'AOI_2_Vegas_Roads_Train',\n",
       " 'AOI_2_Vegas_Roads_Train',\n",
       " 'AOI_2_Vegas_Roads_Train',\n",
       " 'AOI_2_Vegas_Roads_Train',\n",
       " 'AOI_2_Vegas_Roads_Train',\n",
       " 'AOI_2_Vegas_Roads_Train',\n",
       " 'AOI_2_Vegas_Roads_Train',\n",
       " 'AOI_2_Vegas_Roads_Train',\n",
       " 'AOI_2_Vegas_Roads_Train',\n",
       " 'AOI_2_Vegas_Roads_Train',\n",
       " 'AOI_2_Vegas_Roads_Train',\n",
       " 'AOI_2_Vegas_Roads_Train',\n",
       " 'AOI_2_Vegas_Roads_Train',\n",
       " 'AOI_2_Vegas_Roads_Train',\n",
       " 'AOI_2_Vegas_Roads_Train',\n",
       " 'AOI_2_Vegas_Roads_Train',\n",
       " 'AOI_2_Vegas_Roads_Train',\n",
       " 'AOI_2_Vegas_Roads_Train',\n",
       " 'AOI_2_Vegas_Roads_Train',\n",
       " 'AOI_2_Vegas_Roads_Train',\n",
       " 'AOI_2_Vegas_Roads_Train',\n",
       " 'AOI_2_Vegas_Roads_Train',\n",
       " 'AOI_2_Vegas_Roads_Train',\n",
       " 'AOI_2_Vegas_Roads_Train',\n",
       " 'AOI_2_Vegas_Roads_Train',\n",
       " 'AOI_2_Vegas_Roads_Train',\n",
       " 'AOI_2_Vegas_Roads_Train',\n",
       " 'AOI_2_Vegas_Roads_Train',\n",
       " 'AOI_2_Vegas_Roads_Train',\n",
       " 'AOI_2_Vegas_Roads_Train',\n",
       " 'AOI_2_Vegas_Roads_Train',\n",
       " 'AOI_2_Vegas_Roads_Train',\n",
       " 'AOI_2_Vegas_Roads_Train',\n",
       " 'AOI_2_Vegas_Roads_Train',\n",
       " 'AOI_2_Vegas_Roads_Train',\n",
       " 'AOI_2_Vegas_Roads_Train',\n",
       " 'AOI_2_Vegas_Roads_Train',\n",
       " 'AOI_2_Vegas_Roads_Train',\n",
       " 'AOI_2_Vegas_Roads_Train',\n",
       " 'AOI_2_Vegas_Roads_Train',\n",
       " 'AOI_2_Vegas_Roads_Train',\n",
       " 'AOI_2_Vegas_Roads_Train',\n",
       " 'AOI_2_Vegas_Roads_Train',\n",
       " 'AOI_2_Vegas_Roads_Train',\n",
       " 'AOI_2_Vegas_Roads_Train',\n",
       " 'AOI_2_Vegas_Roads_Train',\n",
       " 'AOI_2_Vegas_Roads_Train',\n",
       " 'AOI_2_Vegas_Roads_Train',\n",
       " 'AOI_2_Vegas_Roads_Train',\n",
       " 'AOI_2_Vegas_Roads_Train',\n",
       " 'AOI_2_Vegas_Roads_Train',\n",
       " 'AOI_2_Vegas_Roads_Train',\n",
       " 'AOI_2_Vegas_Roads_Train',\n",
       " 'AOI_2_Vegas_Roads_Train',\n",
       " 'AOI_2_Vegas_Roads_Train',\n",
       " 'AOI_2_Vegas_Roads_Train',\n",
       " 'AOI_2_Vegas_Roads_Train',\n",
       " 'AOI_2_Vegas_Roads_Train',\n",
       " 'AOI_2_Vegas_Roads_Train',\n",
       " 'AOI_2_Vegas_Roads_Train',\n",
       " 'AOI_2_Vegas_Roads_Train',\n",
       " 'AOI_2_Vegas_Roads_Train',\n",
       " 'AOI_2_Vegas_Roads_Train',\n",
       " 'AOI_2_Vegas_Roads_Train',\n",
       " 'AOI_2_Vegas_Roads_Train',\n",
       " 'AOI_2_Vegas_Roads_Train',\n",
       " 'AOI_2_Vegas_Roads_Train',\n",
       " 'AOI_2_Vegas_Roads_Train',\n",
       " 'AOI_2_Vegas_Roads_Train',\n",
       " 'AOI_2_Vegas_Roads_Train',\n",
       " 'AOI_2_Vegas_Roads_Train',\n",
       " 'AOI_2_Vegas_Roads_Train',\n",
       " 'AOI_2_Vegas_Roads_Train',\n",
       " 'AOI_2_Vegas_Roads_Train',\n",
       " 'AOI_2_Vegas_Roads_Train',\n",
       " 'AOI_2_Vegas_Roads_Train',\n",
       " 'AOI_2_Vegas_Roads_Train',\n",
       " 'AOI_2_Vegas_Roads_Train',\n",
       " 'AOI_2_Vegas_Roads_Train',\n",
       " 'AOI_2_Vegas_Roads_Train',\n",
       " 'AOI_2_Vegas_Roads_Train',\n",
       " 'AOI_2_Vegas_Roads_Train',\n",
       " 'AOI_2_Vegas_Roads_Train',\n",
       " 'AOI_2_Vegas_Roads_Train',\n",
       " 'AOI_2_Vegas_Roads_Train',\n",
       " 'AOI_2_Vegas_Roads_Train',\n",
       " 'AOI_2_Vegas_Roads_Train',\n",
       " 'AOI_2_Vegas_Roads_Train',\n",
       " 'AOI_2_Vegas_Roads_Train',\n",
       " 'AOI_2_Vegas_Roads_Train',\n",
       " 'AOI_2_Vegas_Roads_Train',\n",
       " 'AOI_2_Vegas_Roads_Train',\n",
       " 'AOI_2_Vegas_Roads_Train',\n",
       " 'AOI_2_Vegas_Roads_Train',\n",
       " 'AOI_2_Vegas_Roads_Train',\n",
       " 'AOI_2_Vegas_Roads_Train',\n",
       " 'AOI_2_Vegas_Roads_Train',\n",
       " 'AOI_2_Vegas_Roads_Train',\n",
       " 'AOI_2_Vegas_Roads_Train',\n",
       " 'AOI_2_Vegas_Roads_Train',\n",
       " 'AOI_2_Vegas_Roads_Train',\n",
       " 'AOI_2_Vegas_Roads_Train',\n",
       " 'AOI_2_Vegas_Roads_Train',\n",
       " 'AOI_2_Vegas_Roads_Train',\n",
       " 'AOI_2_Vegas_Roads_Train',\n",
       " 'AOI_2_Vegas_Roads_Train',\n",
       " 'AOI_2_Vegas_Roads_Train',\n",
       " 'AOI_2_Vegas_Roads_Train',\n",
       " 'AOI_2_Vegas_Roads_Train',\n",
       " 'AOI_2_Vegas_Roads_Train',\n",
       " 'AOI_2_Vegas_Roads_Train',\n",
       " 'AOI_2_Vegas_Roads_Train',\n",
       " 'AOI_2_Vegas_Roads_Train',\n",
       " 'AOI_2_Vegas_Roads_Train',\n",
       " 'AOI_2_Vegas_Roads_Train',\n",
       " 'AOI_2_Vegas_Roads_Train',\n",
       " 'AOI_2_Vegas_Roads_Train',\n",
       " 'AOI_2_Vegas_Roads_Train',\n",
       " 'AOI_2_Vegas_Roads_Train',\n",
       " 'AOI_2_Vegas_Roads_Train',\n",
       " 'AOI_2_Vegas_Roads_Train',\n",
       " 'AOI_2_Vegas_Roads_Train',\n",
       " 'AOI_2_Vegas_Roads_Train',\n",
       " 'AOI_2_Vegas_Roads_Train',\n",
       " 'AOI_2_Vegas_Roads_Train',\n",
       " 'AOI_2_Vegas_Roads_Train',\n",
       " 'AOI_2_Vegas_Roads_Train',\n",
       " 'AOI_2_Vegas_Roads_Train',\n",
       " 'AOI_2_Vegas_Roads_Train',\n",
       " 'AOI_2_Vegas_Roads_Train',\n",
       " 'AOI_2_Vegas_Roads_Train',\n",
       " 'AOI_2_Vegas_Roads_Train',\n",
       " 'AOI_2_Vegas_Roads_Train',\n",
       " 'AOI_2_Vegas_Roads_Train',\n",
       " 'AOI_2_Vegas_Roads_Train',\n",
       " 'AOI_2_Vegas_Roads_Train',\n",
       " 'AOI_2_Vegas_Roads_Train',\n",
       " 'AOI_2_Vegas_Roads_Train',\n",
       " 'AOI_2_Vegas_Roads_Train',\n",
       " 'AOI_2_Vegas_Roads_Train',\n",
       " 'AOI_2_Vegas_Roads_Train',\n",
       " 'AOI_2_Vegas_Roads_Train',\n",
       " 'AOI_2_Vegas_Roads_Train',\n",
       " 'AOI_2_Vegas_Roads_Train',\n",
       " 'AOI_2_Vegas_Roads_Train',\n",
       " 'AOI_2_Vegas_Roads_Train',\n",
       " 'AOI_2_Vegas_Roads_Train',\n",
       " 'AOI_2_Vegas_Roads_Train',\n",
       " 'AOI_2_Vegas_Roads_Train',\n",
       " 'AOI_2_Vegas_Roads_Train',\n",
       " 'AOI_2_Vegas_Roads_Train',\n",
       " 'AOI_2_Vegas_Roads_Train',\n",
       " 'AOI_2_Vegas_Roads_Train',\n",
       " 'AOI_2_Vegas_Roads_Train',\n",
       " 'AOI_2_Vegas_Roads_Train',\n",
       " 'AOI_2_Vegas_Roads_Train',\n",
       " 'AOI_2_Vegas_Roads_Train',\n",
       " 'AOI_2_Vegas_Roads_Train',\n",
       " 'AOI_2_Vegas_Roads_Train',\n",
       " 'AOI_2_Vegas_Roads_Train',\n",
       " 'AOI_2_Vegas_Roads_Train',\n",
       " 'AOI_2_Vegas_Roads_Train',\n",
       " 'AOI_2_Vegas_Roads_Train',\n",
       " 'AOI_2_Vegas_Roads_Train',\n",
       " 'AOI_2_Vegas_Roads_Train',\n",
       " 'AOI_2_Vegas_Roads_Train',\n",
       " 'AOI_2_Vegas_Roads_Train',\n",
       " 'AOI_2_Vegas_Roads_Train',\n",
       " 'AOI_2_Vegas_Roads_Train',\n",
       " 'AOI_2_Vegas_Roads_Train',\n",
       " 'AOI_2_Vegas_Roads_Train',\n",
       " 'AOI_2_Vegas_Roads_Train',\n",
       " 'AOI_2_Vegas_Roads_Train',\n",
       " 'AOI_2_Vegas_Roads_Train',\n",
       " 'AOI_2_Vegas_Roads_Train',\n",
       " 'AOI_2_Vegas_Roads_Train',\n",
       " 'AOI_2_Vegas_Roads_Train',\n",
       " 'AOI_2_Vegas_Roads_Train',\n",
       " 'AOI_2_Vegas_Roads_Train',\n",
       " 'AOI_2_Vegas_Roads_Train',\n",
       " 'AOI_2_Vegas_Roads_Train',\n",
       " 'AOI_2_Vegas_Roads_Train',\n",
       " 'AOI_2_Vegas_Roads_Train',\n",
       " 'AOI_2_Vegas_Roads_Train',\n",
       " 'AOI_2_Vegas_Roads_Train',\n",
       " 'AOI_5_Khartoum_Roads_Train',\n",
       " 'AOI_5_Khartoum_Roads_Train',\n",
       " 'AOI_5_Khartoum_Roads_Train',\n",
       " 'AOI_5_Khartoum_Roads_Train',\n",
       " 'AOI_5_Khartoum_Roads_Train',\n",
       " 'AOI_5_Khartoum_Roads_Train',\n",
       " 'AOI_5_Khartoum_Roads_Train',\n",
       " 'AOI_5_Khartoum_Roads_Train',\n",
       " 'AOI_5_Khartoum_Roads_Train',\n",
       " 'AOI_5_Khartoum_Roads_Train',\n",
       " 'AOI_5_Khartoum_Roads_Train',\n",
       " 'AOI_5_Khartoum_Roads_Train',\n",
       " 'AOI_5_Khartoum_Roads_Train',\n",
       " 'AOI_5_Khartoum_Roads_Train',\n",
       " 'AOI_5_Khartoum_Roads_Train',\n",
       " 'AOI_5_Khartoum_Roads_Train',\n",
       " 'AOI_5_Khartoum_Roads_Train',\n",
       " 'AOI_5_Khartoum_Roads_Train',\n",
       " 'AOI_5_Khartoum_Roads_Train',\n",
       " 'AOI_5_Khartoum_Roads_Train',\n",
       " 'AOI_5_Khartoum_Roads_Train',\n",
       " 'AOI_5_Khartoum_Roads_Train',\n",
       " 'AOI_5_Khartoum_Roads_Train',\n",
       " 'AOI_5_Khartoum_Roads_Train',\n",
       " 'AOI_5_Khartoum_Roads_Train',\n",
       " 'AOI_5_Khartoum_Roads_Train',\n",
       " 'AOI_5_Khartoum_Roads_Train',\n",
       " 'AOI_5_Khartoum_Roads_Train',\n",
       " 'AOI_5_Khartoum_Roads_Train',\n",
       " 'AOI_5_Khartoum_Roads_Train',\n",
       " 'AOI_5_Khartoum_Roads_Train',\n",
       " 'AOI_5_Khartoum_Roads_Train',\n",
       " 'AOI_5_Khartoum_Roads_Train',\n",
       " 'AOI_5_Khartoum_Roads_Train',\n",
       " 'AOI_5_Khartoum_Roads_Train',\n",
       " 'AOI_5_Khartoum_Roads_Train',\n",
       " 'AOI_5_Khartoum_Roads_Train',\n",
       " 'AOI_5_Khartoum_Roads_Train',\n",
       " 'AOI_5_Khartoum_Roads_Train',\n",
       " 'AOI_5_Khartoum_Roads_Train',\n",
       " 'AOI_5_Khartoum_Roads_Train',\n",
       " 'AOI_5_Khartoum_Roads_Train',\n",
       " 'AOI_5_Khartoum_Roads_Train',\n",
       " 'AOI_5_Khartoum_Roads_Train',\n",
       " 'AOI_5_Khartoum_Roads_Train',\n",
       " 'AOI_5_Khartoum_Roads_Train',\n",
       " 'AOI_5_Khartoum_Roads_Train',\n",
       " 'AOI_5_Khartoum_Roads_Train',\n",
       " 'AOI_5_Khartoum_Roads_Train',\n",
       " 'AOI_5_Khartoum_Roads_Train',\n",
       " 'AOI_5_Khartoum_Roads_Train',\n",
       " 'AOI_5_Khartoum_Roads_Train',\n",
       " 'AOI_5_Khartoum_Roads_Train',\n",
       " 'AOI_5_Khartoum_Roads_Train',\n",
       " 'AOI_5_Khartoum_Roads_Train',\n",
       " 'AOI_5_Khartoum_Roads_Train',\n",
       " 'AOI_5_Khartoum_Roads_Train',\n",
       " 'AOI_5_Khartoum_Roads_Train',\n",
       " 'AOI_5_Khartoum_Roads_Train',\n",
       " 'AOI_5_Khartoum_Roads_Train',\n",
       " 'AOI_5_Khartoum_Roads_Train',\n",
       " 'AOI_5_Khartoum_Roads_Train',\n",
       " 'AOI_5_Khartoum_Roads_Train',\n",
       " 'AOI_5_Khartoum_Roads_Train',\n",
       " 'AOI_5_Khartoum_Roads_Train',\n",
       " 'AOI_5_Khartoum_Roads_Train',\n",
       " 'AOI_5_Khartoum_Roads_Train',\n",
       " 'AOI_5_Khartoum_Roads_Train',\n",
       " 'AOI_5_Khartoum_Roads_Train',\n",
       " 'AOI_5_Khartoum_Roads_Train',\n",
       " 'AOI_5_Khartoum_Roads_Train',\n",
       " 'AOI_5_Khartoum_Roads_Train',\n",
       " 'AOI_5_Khartoum_Roads_Train',\n",
       " 'AOI_5_Khartoum_Roads_Train',\n",
       " 'AOI_5_Khartoum_Roads_Train',\n",
       " 'AOI_5_Khartoum_Roads_Train',\n",
       " 'AOI_5_Khartoum_Roads_Train',\n",
       " 'AOI_5_Khartoum_Roads_Train',\n",
       " 'AOI_5_Khartoum_Roads_Train',\n",
       " 'AOI_5_Khartoum_Roads_Train',\n",
       " 'AOI_5_Khartoum_Roads_Train',\n",
       " 'AOI_5_Khartoum_Roads_Train',\n",
       " 'AOI_5_Khartoum_Roads_Train',\n",
       " 'AOI_5_Khartoum_Roads_Train',\n",
       " 'AOI_5_Khartoum_Roads_Train',\n",
       " 'AOI_5_Khartoum_Roads_Train',\n",
       " 'AOI_5_Khartoum_Roads_Train',\n",
       " 'AOI_5_Khartoum_Roads_Train',\n",
       " 'AOI_5_Khartoum_Roads_Train',\n",
       " 'AOI_5_Khartoum_Roads_Train',\n",
       " 'AOI_5_Khartoum_Roads_Train',\n",
       " 'AOI_5_Khartoum_Roads_Train',\n",
       " 'AOI_5_Khartoum_Roads_Train',\n",
       " 'AOI_5_Khartoum_Roads_Train',\n",
       " 'AOI_5_Khartoum_Roads_Train',\n",
       " 'AOI_5_Khartoum_Roads_Train',\n",
       " 'AOI_5_Khartoum_Roads_Train',\n",
       " 'AOI_5_Khartoum_Roads_Train',\n",
       " 'AOI_5_Khartoum_Roads_Train',\n",
       " 'AOI_5_Khartoum_Roads_Train',\n",
       " 'AOI_5_Khartoum_Roads_Train',\n",
       " 'AOI_5_Khartoum_Roads_Train',\n",
       " 'AOI_5_Khartoum_Roads_Train',\n",
       " 'AOI_5_Khartoum_Roads_Train',\n",
       " 'AOI_5_Khartoum_Roads_Train',\n",
       " 'AOI_5_Khartoum_Roads_Train',\n",
       " 'AOI_5_Khartoum_Roads_Train',\n",
       " 'AOI_5_Khartoum_Roads_Train',\n",
       " 'AOI_5_Khartoum_Roads_Train',\n",
       " 'AOI_5_Khartoum_Roads_Train',\n",
       " 'AOI_5_Khartoum_Roads_Train',\n",
       " 'AOI_5_Khartoum_Roads_Train',\n",
       " 'AOI_5_Khartoum_Roads_Train',\n",
       " 'AOI_5_Khartoum_Roads_Train',\n",
       " 'AOI_5_Khartoum_Roads_Train',\n",
       " 'AOI_5_Khartoum_Roads_Train',\n",
       " 'AOI_5_Khartoum_Roads_Train',\n",
       " 'AOI_5_Khartoum_Roads_Train',\n",
       " 'AOI_5_Khartoum_Roads_Train',\n",
       " 'AOI_5_Khartoum_Roads_Train',\n",
       " 'AOI_5_Khartoum_Roads_Train',\n",
       " 'AOI_5_Khartoum_Roads_Train',\n",
       " 'AOI_5_Khartoum_Roads_Train',\n",
       " 'AOI_5_Khartoum_Roads_Train',\n",
       " 'AOI_5_Khartoum_Roads_Train',\n",
       " 'AOI_5_Khartoum_Roads_Train',\n",
       " 'AOI_5_Khartoum_Roads_Train',\n",
       " 'AOI_5_Khartoum_Roads_Train',\n",
       " 'AOI_5_Khartoum_Roads_Train',\n",
       " 'AOI_5_Khartoum_Roads_Train',\n",
       " 'AOI_5_Khartoum_Roads_Train',\n",
       " 'AOI_5_Khartoum_Roads_Train',\n",
       " 'AOI_5_Khartoum_Roads_Train',\n",
       " 'AOI_5_Khartoum_Roads_Train',\n",
       " 'AOI_5_Khartoum_Roads_Train',\n",
       " 'AOI_5_Khartoum_Roads_Train',\n",
       " 'AOI_5_Khartoum_Roads_Train',\n",
       " 'AOI_5_Khartoum_Roads_Train',\n",
       " 'AOI_5_Khartoum_Roads_Train',\n",
       " 'AOI_5_Khartoum_Roads_Train',\n",
       " 'AOI_5_Khartoum_Roads_Train',\n",
       " 'AOI_5_Khartoum_Roads_Train',\n",
       " 'AOI_5_Khartoum_Roads_Train',\n",
       " 'AOI_5_Khartoum_Roads_Train',\n",
       " 'AOI_5_Khartoum_Roads_Train',\n",
       " 'AOI_5_Khartoum_Roads_Train',\n",
       " 'AOI_5_Khartoum_Roads_Train',\n",
       " 'AOI_5_Khartoum_Roads_Train',\n",
       " 'AOI_5_Khartoum_Roads_Train',\n",
       " 'AOI_5_Khartoum_Roads_Train',\n",
       " 'AOI_3_Paris_Roads_Train',\n",
       " 'AOI_3_Paris_Roads_Train',\n",
       " 'AOI_3_Paris_Roads_Train',\n",
       " 'AOI_3_Paris_Roads_Train',\n",
       " 'AOI_3_Paris_Roads_Train',\n",
       " 'AOI_3_Paris_Roads_Train',\n",
       " 'AOI_3_Paris_Roads_Train',\n",
       " 'AOI_3_Paris_Roads_Train',\n",
       " 'AOI_3_Paris_Roads_Train',\n",
       " 'AOI_3_Paris_Roads_Train',\n",
       " 'AOI_3_Paris_Roads_Train',\n",
       " 'AOI_3_Paris_Roads_Train',\n",
       " 'AOI_3_Paris_Roads_Train',\n",
       " 'AOI_3_Paris_Roads_Train',\n",
       " 'AOI_3_Paris_Roads_Train',\n",
       " 'AOI_3_Paris_Roads_Train',\n",
       " 'AOI_3_Paris_Roads_Train',\n",
       " 'AOI_3_Paris_Roads_Train',\n",
       " 'AOI_3_Paris_Roads_Train',\n",
       " 'AOI_3_Paris_Roads_Train',\n",
       " 'AOI_3_Paris_Roads_Train',\n",
       " 'AOI_3_Paris_Roads_Train',\n",
       " 'AOI_3_Paris_Roads_Train',\n",
       " 'AOI_3_Paris_Roads_Train',\n",
       " 'AOI_3_Paris_Roads_Train',\n",
       " 'AOI_3_Paris_Roads_Train',\n",
       " 'AOI_3_Paris_Roads_Train',\n",
       " 'AOI_3_Paris_Roads_Train',\n",
       " 'AOI_3_Paris_Roads_Train',\n",
       " 'AOI_3_Paris_Roads_Train',\n",
       " 'AOI_3_Paris_Roads_Train',\n",
       " 'AOI_3_Paris_Roads_Train',\n",
       " 'AOI_3_Paris_Roads_Train',\n",
       " 'AOI_3_Paris_Roads_Train',\n",
       " 'AOI_3_Paris_Roads_Train',\n",
       " 'AOI_3_Paris_Roads_Train',\n",
       " 'AOI_3_Paris_Roads_Train',\n",
       " 'AOI_3_Paris_Roads_Train',\n",
       " 'AOI_3_Paris_Roads_Train',\n",
       " 'AOI_3_Paris_Roads_Train',\n",
       " 'AOI_3_Paris_Roads_Train',\n",
       " 'AOI_3_Paris_Roads_Train',\n",
       " 'AOI_3_Paris_Roads_Train',\n",
       " 'AOI_3_Paris_Roads_Train',\n",
       " 'AOI_3_Paris_Roads_Train',\n",
       " 'AOI_3_Paris_Roads_Train',\n",
       " 'AOI_3_Paris_Roads_Train',\n",
       " 'AOI_3_Paris_Roads_Train',\n",
       " 'AOI_3_Paris_Roads_Train',\n",
       " 'AOI_3_Paris_Roads_Train',\n",
       " 'AOI_3_Paris_Roads_Train',\n",
       " 'AOI_3_Paris_Roads_Train',\n",
       " 'AOI_3_Paris_Roads_Train',\n",
       " 'AOI_3_Paris_Roads_Train',\n",
       " 'AOI_3_Paris_Roads_Train',\n",
       " 'AOI_3_Paris_Roads_Train',\n",
       " 'AOI_3_Paris_Roads_Train',\n",
       " 'AOI_3_Paris_Roads_Train',\n",
       " 'AOI_3_Paris_Roads_Train',\n",
       " 'AOI_3_Paris_Roads_Train',\n",
       " 'AOI_3_Paris_Roads_Train',\n",
       " 'AOI_3_Paris_Roads_Train',\n",
       " 'AOI_3_Paris_Roads_Train',\n",
       " 'AOI_3_Paris_Roads_Train',\n",
       " 'AOI_3_Paris_Roads_Train',\n",
       " 'AOI_3_Paris_Roads_Train',\n",
       " 'AOI_3_Paris_Roads_Train',\n",
       " 'AOI_3_Paris_Roads_Train',\n",
       " 'AOI_3_Paris_Roads_Train',\n",
       " 'AOI_3_Paris_Roads_Train',\n",
       " 'AOI_3_Paris_Roads_Train',\n",
       " 'AOI_3_Paris_Roads_Train',\n",
       " 'AOI_3_Paris_Roads_Train',\n",
       " 'AOI_3_Paris_Roads_Train',\n",
       " 'AOI_3_Paris_Roads_Train',\n",
       " 'AOI_3_Paris_Roads_Train',\n",
       " 'AOI_3_Paris_Roads_Train',\n",
       " 'AOI_3_Paris_Roads_Train',\n",
       " 'AOI_3_Paris_Roads_Train',\n",
       " 'AOI_3_Paris_Roads_Train',\n",
       " 'AOI_3_Paris_Roads_Train',\n",
       " 'AOI_3_Paris_Roads_Train',\n",
       " 'AOI_3_Paris_Roads_Train',\n",
       " 'AOI_3_Paris_Roads_Train',\n",
       " 'AOI_3_Paris_Roads_Train',\n",
       " 'AOI_3_Paris_Roads_Train',\n",
       " 'AOI_3_Paris_Roads_Train',\n",
       " 'AOI_3_Paris_Roads_Train',\n",
       " 'AOI_3_Paris_Roads_Train',\n",
       " 'AOI_3_Paris_Roads_Train',\n",
       " 'AOI_3_Paris_Roads_Train',\n",
       " 'AOI_3_Paris_Roads_Train',\n",
       " 'AOI_3_Paris_Roads_Train',\n",
       " 'AOI_3_Paris_Roads_Train',\n",
       " 'AOI_3_Paris_Roads_Train',\n",
       " 'AOI_3_Paris_Roads_Train',\n",
       " 'AOI_3_Paris_Roads_Train',\n",
       " 'AOI_3_Paris_Roads_Train',\n",
       " 'AOI_3_Paris_Roads_Train',\n",
       " 'AOI_3_Paris_Roads_Train',\n",
       " 'AOI_3_Paris_Roads_Train',\n",
       " 'AOI_3_Paris_Roads_Train',\n",
       " 'AOI_3_Paris_Roads_Train',\n",
       " 'AOI_3_Paris_Roads_Train',\n",
       " 'AOI_3_Paris_Roads_Train',\n",
       " 'AOI_3_Paris_Roads_Train',\n",
       " 'AOI_3_Paris_Roads_Train',\n",
       " 'AOI_3_Paris_Roads_Train',\n",
       " 'AOI_3_Paris_Roads_Train',\n",
       " 'AOI_3_Paris_Roads_Train',\n",
       " 'AOI_3_Paris_Roads_Train',\n",
       " 'AOI_3_Paris_Roads_Train',\n",
       " 'AOI_3_Paris_Roads_Train',\n",
       " 'AOI_3_Paris_Roads_Train',\n",
       " 'AOI_3_Paris_Roads_Train',\n",
       " 'AOI_3_Paris_Roads_Train',\n",
       " 'AOI_3_Paris_Roads_Train',\n",
       " 'AOI_3_Paris_Roads_Train',\n",
       " 'AOI_3_Paris_Roads_Train',\n",
       " 'AOI_3_Paris_Roads_Train',\n",
       " 'AOI_3_Paris_Roads_Train',\n",
       " 'AOI_3_Paris_Roads_Train',\n",
       " 'AOI_3_Paris_Roads_Train',\n",
       " 'AOI_3_Paris_Roads_Train',\n",
       " 'AOI_3_Paris_Roads_Train',\n",
       " 'AOI_3_Paris_Roads_Train',\n",
       " 'AOI_3_Paris_Roads_Train',\n",
       " 'AOI_3_Paris_Roads_Train',\n",
       " 'AOI_3_Paris_Roads_Train',\n",
       " 'AOI_3_Paris_Roads_Train',\n",
       " 'AOI_3_Paris_Roads_Train',\n",
       " 'AOI_3_Paris_Roads_Train',\n",
       " 'AOI_3_Paris_Roads_Train',\n",
       " 'AOI_3_Paris_Roads_Train',\n",
       " 'AOI_3_Paris_Roads_Train',\n",
       " 'AOI_3_Paris_Roads_Train',\n",
       " 'AOI_3_Paris_Roads_Train',\n",
       " 'AOI_3_Paris_Roads_Train',\n",
       " 'AOI_3_Paris_Roads_Train',\n",
       " 'AOI_3_Paris_Roads_Train',\n",
       " 'AOI_3_Paris_Roads_Train',\n",
       " 'AOI_3_Paris_Roads_Train',\n",
       " 'AOI_3_Paris_Roads_Train',\n",
       " 'AOI_3_Paris_Roads_Train',\n",
       " 'AOI_3_Paris_Roads_Train',\n",
       " 'AOI_3_Paris_Roads_Train',\n",
       " 'AOI_3_Paris_Roads_Train',\n",
       " 'AOI_3_Paris_Roads_Train',\n",
       " 'AOI_3_Paris_Roads_Train',\n",
       " 'AOI_3_Paris_Roads_Train',\n",
       " 'AOI_3_Paris_Roads_Train',\n",
       " 'AOI_3_Paris_Roads_Train',\n",
       " 'AOI_3_Paris_Roads_Train',\n",
       " 'AOI_3_Paris_Roads_Train',\n",
       " 'AOI_3_Paris_Roads_Train',\n",
       " 'AOI_3_Paris_Roads_Train',\n",
       " 'AOI_3_Paris_Roads_Train',\n",
       " 'AOI_3_Paris_Roads_Train',\n",
       " 'AOI_3_Paris_Roads_Train',\n",
       " 'AOI_3_Paris_Roads_Train',\n",
       " 'AOI_3_Paris_Roads_Train',\n",
       " 'AOI_3_Paris_Roads_Train',\n",
       " 'AOI_3_Paris_Roads_Train',\n",
       " 'AOI_3_Paris_Roads_Train',\n",
       " 'AOI_3_Paris_Roads_Train',\n",
       " 'AOI_3_Paris_Roads_Train',\n",
       " 'AOI_3_Paris_Roads_Train',\n",
       " 'AOI_3_Paris_Roads_Train',\n",
       " 'AOI_3_Paris_Roads_Train',\n",
       " 'AOI_3_Paris_Roads_Train',\n",
       " 'AOI_3_Paris_Roads_Train',\n",
       " 'AOI_3_Paris_Roads_Train',\n",
       " 'AOI_3_Paris_Roads_Train',\n",
       " 'AOI_3_Paris_Roads_Train',\n",
       " 'AOI_3_Paris_Roads_Train',\n",
       " 'AOI_3_Paris_Roads_Train',\n",
       " 'AOI_3_Paris_Roads_Train',\n",
       " 'AOI_3_Paris_Roads_Train',\n",
       " 'AOI_3_Paris_Roads_Train',\n",
       " 'AOI_3_Paris_Roads_Train',\n",
       " 'AOI_3_Paris_Roads_Train',\n",
       " 'AOI_3_Paris_Roads_Train',\n",
       " 'AOI_3_Paris_Roads_Train',\n",
       " 'AOI_3_Paris_Roads_Train',\n",
       " 'AOI_3_Paris_Roads_Train',\n",
       " 'AOI_3_Paris_Roads_Train',\n",
       " 'AOI_3_Paris_Roads_Train',\n",
       " 'AOI_3_Paris_Roads_Train',\n",
       " 'AOI_3_Paris_Roads_Train',\n",
       " 'AOI_3_Paris_Roads_Train',\n",
       " 'AOI_3_Paris_Roads_Train',\n",
       " 'AOI_3_Paris_Roads_Train',\n",
       " 'AOI_3_Paris_Roads_Train',\n",
       " 'AOI_3_Paris_Roads_Train',\n",
       " 'AOI_3_Paris_Roads_Train',\n",
       " 'AOI_3_Paris_Roads_Train',\n",
       " 'AOI_3_Paris_Roads_Train',\n",
       " 'AOI_3_Paris_Roads_Train',\n",
       " 'AOI_3_Paris_Roads_Train',\n",
       " 'AOI_3_Paris_Roads_Train',\n",
       " 'AOI_4_Shanghai_Roads_Train',\n",
       " 'AOI_4_Shanghai_Roads_Train',\n",
       " 'AOI_4_Shanghai_Roads_Train',\n",
       " 'AOI_4_Shanghai_Roads_Train',\n",
       " 'AOI_4_Shanghai_Roads_Train',\n",
       " 'AOI_4_Shanghai_Roads_Train',\n",
       " 'AOI_4_Shanghai_Roads_Train',\n",
       " 'AOI_4_Shanghai_Roads_Train',\n",
       " 'AOI_4_Shanghai_Roads_Train',\n",
       " 'AOI_4_Shanghai_Roads_Train',\n",
       " 'AOI_4_Shanghai_Roads_Train',\n",
       " 'AOI_4_Shanghai_Roads_Train',\n",
       " 'AOI_4_Shanghai_Roads_Train',\n",
       " 'AOI_4_Shanghai_Roads_Train',\n",
       " 'AOI_4_Shanghai_Roads_Train',\n",
       " 'AOI_4_Shanghai_Roads_Train',\n",
       " 'AOI_4_Shanghai_Roads_Train',\n",
       " 'AOI_4_Shanghai_Roads_Train',\n",
       " 'AOI_4_Shanghai_Roads_Train',\n",
       " 'AOI_4_Shanghai_Roads_Train',\n",
       " 'AOI_4_Shanghai_Roads_Train',\n",
       " 'AOI_4_Shanghai_Roads_Train',\n",
       " 'AOI_4_Shanghai_Roads_Train',\n",
       " 'AOI_4_Shanghai_Roads_Train',\n",
       " 'AOI_4_Shanghai_Roads_Train',\n",
       " 'AOI_4_Shanghai_Roads_Train',\n",
       " 'AOI_4_Shanghai_Roads_Train',\n",
       " 'AOI_4_Shanghai_Roads_Train',\n",
       " 'AOI_4_Shanghai_Roads_Train',\n",
       " 'AOI_4_Shanghai_Roads_Train',\n",
       " 'AOI_4_Shanghai_Roads_Train',\n",
       " 'AOI_4_Shanghai_Roads_Train',\n",
       " 'AOI_4_Shanghai_Roads_Train',\n",
       " 'AOI_4_Shanghai_Roads_Train',\n",
       " 'AOI_4_Shanghai_Roads_Train',\n",
       " 'AOI_4_Shanghai_Roads_Train',\n",
       " 'AOI_4_Shanghai_Roads_Train',\n",
       " 'AOI_4_Shanghai_Roads_Train',\n",
       " 'AOI_4_Shanghai_Roads_Train',\n",
       " 'AOI_4_Shanghai_Roads_Train',\n",
       " 'AOI_4_Shanghai_Roads_Train',\n",
       " 'AOI_4_Shanghai_Roads_Train',\n",
       " 'AOI_4_Shanghai_Roads_Train',\n",
       " 'AOI_4_Shanghai_Roads_Train',\n",
       " 'AOI_4_Shanghai_Roads_Train',\n",
       " 'AOI_4_Shanghai_Roads_Train',\n",
       " 'AOI_4_Shanghai_Roads_Train',\n",
       " 'AOI_4_Shanghai_Roads_Train',\n",
       " 'AOI_4_Shanghai_Roads_Train',\n",
       " 'AOI_4_Shanghai_Roads_Train',\n",
       " 'AOI_4_Shanghai_Roads_Train',\n",
       " 'AOI_4_Shanghai_Roads_Train',\n",
       " 'AOI_4_Shanghai_Roads_Train',\n",
       " 'AOI_4_Shanghai_Roads_Train',\n",
       " 'AOI_4_Shanghai_Roads_Train',\n",
       " 'AOI_4_Shanghai_Roads_Train',\n",
       " 'AOI_4_Shanghai_Roads_Train',\n",
       " 'AOI_4_Shanghai_Roads_Train',\n",
       " 'AOI_4_Shanghai_Roads_Train',\n",
       " 'AOI_4_Shanghai_Roads_Train',\n",
       " 'AOI_4_Shanghai_Roads_Train',\n",
       " 'AOI_4_Shanghai_Roads_Train',\n",
       " 'AOI_4_Shanghai_Roads_Train',\n",
       " 'AOI_4_Shanghai_Roads_Train',\n",
       " 'AOI_4_Shanghai_Roads_Train',\n",
       " 'AOI_4_Shanghai_Roads_Train',\n",
       " 'AOI_4_Shanghai_Roads_Train',\n",
       " 'AOI_4_Shanghai_Roads_Train',\n",
       " 'AOI_4_Shanghai_Roads_Train',\n",
       " 'AOI_4_Shanghai_Roads_Train',\n",
       " 'AOI_4_Shanghai_Roads_Train',\n",
       " 'AOI_4_Shanghai_Roads_Train',\n",
       " 'AOI_4_Shanghai_Roads_Train',\n",
       " 'AOI_4_Shanghai_Roads_Train',\n",
       " 'AOI_4_Shanghai_Roads_Train',\n",
       " 'AOI_4_Shanghai_Roads_Train',\n",
       " 'AOI_4_Shanghai_Roads_Train',\n",
       " 'AOI_4_Shanghai_Roads_Train',\n",
       " 'AOI_4_Shanghai_Roads_Train',\n",
       " 'AOI_4_Shanghai_Roads_Train',\n",
       " 'AOI_4_Shanghai_Roads_Train',\n",
       " 'AOI_4_Shanghai_Roads_Train',\n",
       " 'AOI_4_Shanghai_Roads_Train',\n",
       " 'AOI_4_Shanghai_Roads_Train',\n",
       " 'AOI_4_Shanghai_Roads_Train',\n",
       " 'AOI_4_Shanghai_Roads_Train',\n",
       " 'AOI_4_Shanghai_Roads_Train',\n",
       " 'AOI_4_Shanghai_Roads_Train',\n",
       " 'AOI_4_Shanghai_Roads_Train',\n",
       " 'AOI_4_Shanghai_Roads_Train',\n",
       " 'AOI_4_Shanghai_Roads_Train',\n",
       " 'AOI_4_Shanghai_Roads_Train',\n",
       " 'AOI_4_Shanghai_Roads_Train',\n",
       " 'AOI_4_Shanghai_Roads_Train',\n",
       " 'AOI_4_Shanghai_Roads_Train',\n",
       " 'AOI_4_Shanghai_Roads_Train',\n",
       " 'AOI_4_Shanghai_Roads_Train',\n",
       " 'AOI_4_Shanghai_Roads_Train',\n",
       " 'AOI_4_Shanghai_Roads_Train',\n",
       " 'AOI_4_Shanghai_Roads_Train',\n",
       " 'AOI_4_Shanghai_Roads_Train',\n",
       " 'AOI_4_Shanghai_Roads_Train',\n",
       " 'AOI_4_Shanghai_Roads_Train',\n",
       " 'AOI_4_Shanghai_Roads_Train',\n",
       " 'AOI_4_Shanghai_Roads_Train',\n",
       " 'AOI_4_Shanghai_Roads_Train',\n",
       " 'AOI_4_Shanghai_Roads_Train',\n",
       " 'AOI_4_Shanghai_Roads_Train',\n",
       " 'AOI_4_Shanghai_Roads_Train',\n",
       " 'AOI_4_Shanghai_Roads_Train',\n",
       " 'AOI_4_Shanghai_Roads_Train',\n",
       " 'AOI_4_Shanghai_Roads_Train',\n",
       " 'AOI_4_Shanghai_Roads_Train',\n",
       " 'AOI_4_Shanghai_Roads_Train',\n",
       " 'AOI_4_Shanghai_Roads_Train',\n",
       " 'AOI_4_Shanghai_Roads_Train',\n",
       " 'AOI_4_Shanghai_Roads_Train',\n",
       " 'AOI_4_Shanghai_Roads_Train',\n",
       " 'AOI_4_Shanghai_Roads_Train',\n",
       " 'AOI_4_Shanghai_Roads_Train',\n",
       " 'AOI_4_Shanghai_Roads_Train',\n",
       " 'AOI_4_Shanghai_Roads_Train',\n",
       " 'AOI_4_Shanghai_Roads_Train',\n",
       " 'AOI_4_Shanghai_Roads_Train',\n",
       " 'AOI_4_Shanghai_Roads_Train',\n",
       " 'AOI_4_Shanghai_Roads_Train',\n",
       " 'AOI_4_Shanghai_Roads_Train',\n",
       " 'AOI_4_Shanghai_Roads_Train',\n",
       " 'AOI_4_Shanghai_Roads_Train',\n",
       " 'AOI_4_Shanghai_Roads_Train',\n",
       " 'AOI_4_Shanghai_Roads_Train',\n",
       " 'AOI_4_Shanghai_Roads_Train',\n",
       " 'AOI_4_Shanghai_Roads_Train',\n",
       " 'AOI_4_Shanghai_Roads_Train',\n",
       " 'AOI_4_Shanghai_Roads_Train',\n",
       " 'AOI_4_Shanghai_Roads_Train',\n",
       " 'AOI_4_Shanghai_Roads_Train',\n",
       " 'AOI_4_Shanghai_Roads_Train',\n",
       " 'AOI_4_Shanghai_Roads_Train',\n",
       " 'AOI_4_Shanghai_Roads_Train',\n",
       " 'AOI_4_Shanghai_Roads_Train',\n",
       " 'AOI_4_Shanghai_Roads_Train',\n",
       " 'AOI_4_Shanghai_Roads_Train',\n",
       " 'AOI_4_Shanghai_Roads_Train',\n",
       " 'AOI_4_Shanghai_Roads_Train',\n",
       " 'AOI_4_Shanghai_Roads_Train',\n",
       " 'AOI_4_Shanghai_Roads_Train',\n",
       " 'AOI_4_Shanghai_Roads_Train',\n",
       " 'AOI_4_Shanghai_Roads_Train',\n",
       " 'AOI_4_Shanghai_Roads_Train',\n",
       " 'AOI_4_Shanghai_Roads_Train',\n",
       " 'AOI_4_Shanghai_Roads_Train',\n",
       " 'AOI_4_Shanghai_Roads_Train',\n",
       " 'AOI_4_Shanghai_Roads_Train',\n",
       " 'AOI_4_Shanghai_Roads_Train',\n",
       " 'AOI_4_Shanghai_Roads_Train',\n",
       " 'AOI_4_Shanghai_Roads_Train',\n",
       " 'AOI_4_Shanghai_Roads_Train',\n",
       " 'AOI_4_Shanghai_Roads_Train',\n",
       " 'AOI_4_Shanghai_Roads_Train',\n",
       " 'AOI_4_Shanghai_Roads_Train',\n",
       " 'AOI_4_Shanghai_Roads_Train',\n",
       " 'AOI_4_Shanghai_Roads_Train',\n",
       " 'AOI_4_Shanghai_Roads_Train',\n",
       " 'AOI_4_Shanghai_Roads_Train',\n",
       " 'AOI_4_Shanghai_Roads_Train',\n",
       " 'AOI_4_Shanghai_Roads_Train',\n",
       " 'AOI_4_Shanghai_Roads_Train',\n",
       " 'AOI_4_Shanghai_Roads_Train',\n",
       " 'AOI_4_Shanghai_Roads_Train',\n",
       " 'AOI_4_Shanghai_Roads_Train',\n",
       " 'AOI_4_Shanghai_Roads_Train',\n",
       " 'AOI_4_Shanghai_Roads_Train',\n",
       " 'AOI_4_Shanghai_Roads_Train',\n",
       " 'AOI_4_Shanghai_Roads_Train',\n",
       " 'AOI_4_Shanghai_Roads_Train',\n",
       " 'AOI_4_Shanghai_Roads_Train',\n",
       " 'AOI_4_Shanghai_Roads_Train',\n",
       " 'AOI_4_Shanghai_Roads_Train',\n",
       " 'AOI_4_Shanghai_Roads_Train',\n",
       " 'AOI_4_Shanghai_Roads_Train',\n",
       " 'AOI_4_Shanghai_Roads_Train',\n",
       " 'AOI_4_Shanghai_Roads_Train',\n",
       " 'AOI_4_Shanghai_Roads_Train',\n",
       " 'AOI_4_Shanghai_Roads_Train',\n",
       " 'AOI_4_Shanghai_Roads_Train',\n",
       " 'AOI_4_Shanghai_Roads_Train',\n",
       " 'AOI_4_Shanghai_Roads_Train',\n",
       " 'AOI_4_Shanghai_Roads_Train',\n",
       " 'AOI_4_Shanghai_Roads_Train',\n",
       " 'AOI_4_Shanghai_Roads_Train',\n",
       " 'AOI_4_Shanghai_Roads_Train',\n",
       " 'AOI_4_Shanghai_Roads_Train',\n",
       " 'AOI_4_Shanghai_Roads_Train',\n",
       " 'AOI_4_Shanghai_Roads_Train',\n",
       " 'AOI_4_Shanghai_Roads_Train',\n",
       " 'AOI_4_Shanghai_Roads_Train',\n",
       " 'AOI_4_Shanghai_Roads_Train',\n",
       " 'AOI_4_Shanghai_Roads_Train',\n",
       " 'AOI_4_Shanghai_Roads_Train']"
      ]
     },
     "execution_count": 17,
     "metadata": {},
     "output_type": "execute_result"
    }
   ],
   "source": [
    "img_folders"
   ]
  },
  {
   "cell_type": "code",
   "execution_count": 18,
   "metadata": {},
   "outputs": [
    {
     "data": {
      "text/plain": [
       "['MUL',\n",
       " 'MUL',\n",
       " 'MUL',\n",
       " 'MUL',\n",
       " 'MUL',\n",
       " 'MUL',\n",
       " 'MUL',\n",
       " 'MUL',\n",
       " 'MUL',\n",
       " 'MUL',\n",
       " 'MUL',\n",
       " 'MUL',\n",
       " 'MUL',\n",
       " 'MUL',\n",
       " 'MUL',\n",
       " 'MUL',\n",
       " 'MUL',\n",
       " 'MUL',\n",
       " 'MUL',\n",
       " 'MUL',\n",
       " 'MUL',\n",
       " 'MUL',\n",
       " 'MUL',\n",
       " 'MUL',\n",
       " 'MUL',\n",
       " 'MUL',\n",
       " 'MUL',\n",
       " 'MUL',\n",
       " 'MUL',\n",
       " 'MUL',\n",
       " 'MUL',\n",
       " 'MUL',\n",
       " 'MUL',\n",
       " 'MUL',\n",
       " 'MUL',\n",
       " 'MUL',\n",
       " 'MUL',\n",
       " 'MUL',\n",
       " 'MUL',\n",
       " 'MUL',\n",
       " 'MUL',\n",
       " 'MUL',\n",
       " 'MUL',\n",
       " 'MUL',\n",
       " 'MUL',\n",
       " 'MUL',\n",
       " 'MUL',\n",
       " 'MUL',\n",
       " 'MUL',\n",
       " 'MUL',\n",
       " 'MUL-PanSharpen',\n",
       " 'MUL-PanSharpen',\n",
       " 'MUL-PanSharpen',\n",
       " 'MUL-PanSharpen',\n",
       " 'MUL-PanSharpen',\n",
       " 'MUL-PanSharpen',\n",
       " 'MUL-PanSharpen',\n",
       " 'MUL-PanSharpen',\n",
       " 'MUL-PanSharpen',\n",
       " 'MUL-PanSharpen',\n",
       " 'MUL-PanSharpen',\n",
       " 'MUL-PanSharpen',\n",
       " 'MUL-PanSharpen',\n",
       " 'MUL-PanSharpen',\n",
       " 'MUL-PanSharpen',\n",
       " 'MUL-PanSharpen',\n",
       " 'MUL-PanSharpen',\n",
       " 'MUL-PanSharpen',\n",
       " 'MUL-PanSharpen',\n",
       " 'MUL-PanSharpen',\n",
       " 'MUL-PanSharpen',\n",
       " 'MUL-PanSharpen',\n",
       " 'MUL-PanSharpen',\n",
       " 'MUL-PanSharpen',\n",
       " 'MUL-PanSharpen',\n",
       " 'MUL-PanSharpen',\n",
       " 'MUL-PanSharpen',\n",
       " 'MUL-PanSharpen',\n",
       " 'MUL-PanSharpen',\n",
       " 'MUL-PanSharpen',\n",
       " 'MUL-PanSharpen',\n",
       " 'MUL-PanSharpen',\n",
       " 'MUL-PanSharpen',\n",
       " 'MUL-PanSharpen',\n",
       " 'MUL-PanSharpen',\n",
       " 'MUL-PanSharpen',\n",
       " 'MUL-PanSharpen',\n",
       " 'MUL-PanSharpen',\n",
       " 'MUL-PanSharpen',\n",
       " 'MUL-PanSharpen',\n",
       " 'MUL-PanSharpen',\n",
       " 'MUL-PanSharpen',\n",
       " 'MUL-PanSharpen',\n",
       " 'MUL-PanSharpen',\n",
       " 'MUL-PanSharpen',\n",
       " 'MUL-PanSharpen',\n",
       " 'MUL-PanSharpen',\n",
       " 'MUL-PanSharpen',\n",
       " 'MUL-PanSharpen',\n",
       " 'MUL-PanSharpen',\n",
       " 'PAN',\n",
       " 'PAN',\n",
       " 'PAN',\n",
       " 'PAN',\n",
       " 'PAN',\n",
       " 'PAN',\n",
       " 'PAN',\n",
       " 'PAN',\n",
       " 'PAN',\n",
       " 'PAN',\n",
       " 'PAN',\n",
       " 'PAN',\n",
       " 'PAN',\n",
       " 'PAN',\n",
       " 'PAN',\n",
       " 'PAN',\n",
       " 'PAN',\n",
       " 'PAN',\n",
       " 'PAN',\n",
       " 'PAN',\n",
       " 'PAN',\n",
       " 'PAN',\n",
       " 'PAN',\n",
       " 'PAN',\n",
       " 'PAN',\n",
       " 'PAN',\n",
       " 'PAN',\n",
       " 'PAN',\n",
       " 'PAN',\n",
       " 'PAN',\n",
       " 'PAN',\n",
       " 'PAN',\n",
       " 'PAN',\n",
       " 'PAN',\n",
       " 'PAN',\n",
       " 'PAN',\n",
       " 'PAN',\n",
       " 'PAN',\n",
       " 'PAN',\n",
       " 'PAN',\n",
       " 'PAN',\n",
       " 'PAN',\n",
       " 'PAN',\n",
       " 'PAN',\n",
       " 'PAN',\n",
       " 'PAN',\n",
       " 'PAN',\n",
       " 'PAN',\n",
       " 'PAN',\n",
       " 'PAN',\n",
       " 'RGB-PanSharpen',\n",
       " 'RGB-PanSharpen',\n",
       " 'RGB-PanSharpen',\n",
       " 'RGB-PanSharpen',\n",
       " 'RGB-PanSharpen',\n",
       " 'RGB-PanSharpen',\n",
       " 'RGB-PanSharpen',\n",
       " 'RGB-PanSharpen',\n",
       " 'RGB-PanSharpen',\n",
       " 'RGB-PanSharpen',\n",
       " 'RGB-PanSharpen',\n",
       " 'RGB-PanSharpen',\n",
       " 'RGB-PanSharpen',\n",
       " 'RGB-PanSharpen',\n",
       " 'RGB-PanSharpen',\n",
       " 'RGB-PanSharpen',\n",
       " 'RGB-PanSharpen',\n",
       " 'RGB-PanSharpen',\n",
       " 'RGB-PanSharpen',\n",
       " 'RGB-PanSharpen',\n",
       " 'RGB-PanSharpen',\n",
       " 'RGB-PanSharpen',\n",
       " 'RGB-PanSharpen',\n",
       " 'RGB-PanSharpen',\n",
       " 'RGB-PanSharpen',\n",
       " 'RGB-PanSharpen',\n",
       " 'RGB-PanSharpen',\n",
       " 'RGB-PanSharpen',\n",
       " 'RGB-PanSharpen',\n",
       " 'RGB-PanSharpen',\n",
       " 'RGB-PanSharpen',\n",
       " 'RGB-PanSharpen',\n",
       " 'RGB-PanSharpen',\n",
       " 'RGB-PanSharpen',\n",
       " 'RGB-PanSharpen',\n",
       " 'RGB-PanSharpen',\n",
       " 'RGB-PanSharpen',\n",
       " 'RGB-PanSharpen',\n",
       " 'RGB-PanSharpen',\n",
       " 'RGB-PanSharpen',\n",
       " 'RGB-PanSharpen',\n",
       " 'RGB-PanSharpen',\n",
       " 'RGB-PanSharpen',\n",
       " 'RGB-PanSharpen',\n",
       " 'RGB-PanSharpen',\n",
       " 'RGB-PanSharpen',\n",
       " 'RGB-PanSharpen',\n",
       " 'RGB-PanSharpen',\n",
       " 'RGB-PanSharpen',\n",
       " 'RGB-PanSharpen',\n",
       " 'MUL',\n",
       " 'MUL',\n",
       " 'MUL',\n",
       " 'MUL',\n",
       " 'MUL',\n",
       " 'MUL',\n",
       " 'MUL',\n",
       " 'MUL',\n",
       " 'MUL',\n",
       " 'MUL',\n",
       " 'MUL',\n",
       " 'MUL',\n",
       " 'MUL',\n",
       " 'MUL',\n",
       " 'MUL',\n",
       " 'MUL',\n",
       " 'MUL',\n",
       " 'MUL',\n",
       " 'MUL',\n",
       " 'MUL',\n",
       " 'MUL',\n",
       " 'MUL',\n",
       " 'MUL',\n",
       " 'MUL',\n",
       " 'MUL',\n",
       " 'MUL',\n",
       " 'MUL',\n",
       " 'MUL',\n",
       " 'MUL',\n",
       " 'MUL',\n",
       " 'MUL',\n",
       " 'MUL',\n",
       " 'MUL',\n",
       " 'MUL',\n",
       " 'MUL',\n",
       " 'MUL',\n",
       " 'MUL',\n",
       " 'MUL',\n",
       " 'MUL',\n",
       " 'MUL',\n",
       " 'MUL',\n",
       " 'MUL',\n",
       " 'MUL',\n",
       " 'MUL',\n",
       " 'MUL',\n",
       " 'MUL',\n",
       " 'MUL',\n",
       " 'MUL',\n",
       " 'MUL',\n",
       " 'MUL',\n",
       " 'PAN',\n",
       " 'PAN',\n",
       " 'PAN',\n",
       " 'PAN',\n",
       " 'PAN',\n",
       " 'PAN',\n",
       " 'PAN',\n",
       " 'PAN',\n",
       " 'PAN',\n",
       " 'PAN',\n",
       " 'PAN',\n",
       " 'PAN',\n",
       " 'PAN',\n",
       " 'PAN',\n",
       " 'PAN',\n",
       " 'PAN',\n",
       " 'PAN',\n",
       " 'PAN',\n",
       " 'PAN',\n",
       " 'PAN',\n",
       " 'PAN',\n",
       " 'PAN',\n",
       " 'PAN',\n",
       " 'PAN',\n",
       " 'PAN',\n",
       " 'PAN',\n",
       " 'PAN',\n",
       " 'PAN',\n",
       " 'PAN',\n",
       " 'PAN',\n",
       " 'PAN',\n",
       " 'PAN',\n",
       " 'PAN',\n",
       " 'PAN',\n",
       " 'PAN',\n",
       " 'PAN',\n",
       " 'PAN',\n",
       " 'PAN',\n",
       " 'PAN',\n",
       " 'PAN',\n",
       " 'PAN',\n",
       " 'PAN',\n",
       " 'PAN',\n",
       " 'PAN',\n",
       " 'PAN',\n",
       " 'PAN',\n",
       " 'PAN',\n",
       " 'PAN',\n",
       " 'PAN',\n",
       " 'PAN',\n",
       " 'RGB-PanSharpen',\n",
       " 'RGB-PanSharpen',\n",
       " 'RGB-PanSharpen',\n",
       " 'RGB-PanSharpen',\n",
       " 'RGB-PanSharpen',\n",
       " 'RGB-PanSharpen',\n",
       " 'RGB-PanSharpen',\n",
       " 'RGB-PanSharpen',\n",
       " 'RGB-PanSharpen',\n",
       " 'RGB-PanSharpen',\n",
       " 'RGB-PanSharpen',\n",
       " 'RGB-PanSharpen',\n",
       " 'RGB-PanSharpen',\n",
       " 'RGB-PanSharpen',\n",
       " 'RGB-PanSharpen',\n",
       " 'RGB-PanSharpen',\n",
       " 'RGB-PanSharpen',\n",
       " 'RGB-PanSharpen',\n",
       " 'RGB-PanSharpen',\n",
       " 'RGB-PanSharpen',\n",
       " 'RGB-PanSharpen',\n",
       " 'RGB-PanSharpen',\n",
       " 'RGB-PanSharpen',\n",
       " 'RGB-PanSharpen',\n",
       " 'RGB-PanSharpen',\n",
       " 'RGB-PanSharpen',\n",
       " 'RGB-PanSharpen',\n",
       " 'RGB-PanSharpen',\n",
       " 'RGB-PanSharpen',\n",
       " 'RGB-PanSharpen',\n",
       " 'RGB-PanSharpen',\n",
       " 'RGB-PanSharpen',\n",
       " 'RGB-PanSharpen',\n",
       " 'RGB-PanSharpen',\n",
       " 'RGB-PanSharpen',\n",
       " 'RGB-PanSharpen',\n",
       " 'RGB-PanSharpen',\n",
       " 'RGB-PanSharpen',\n",
       " 'RGB-PanSharpen',\n",
       " 'RGB-PanSharpen',\n",
       " 'RGB-PanSharpen',\n",
       " 'RGB-PanSharpen',\n",
       " 'RGB-PanSharpen',\n",
       " 'RGB-PanSharpen',\n",
       " 'RGB-PanSharpen',\n",
       " 'RGB-PanSharpen',\n",
       " 'RGB-PanSharpen',\n",
       " 'RGB-PanSharpen',\n",
       " 'RGB-PanSharpen',\n",
       " 'RGB-PanSharpen',\n",
       " 'MUL',\n",
       " 'MUL',\n",
       " 'MUL',\n",
       " 'MUL',\n",
       " 'MUL',\n",
       " 'MUL',\n",
       " 'MUL',\n",
       " 'MUL',\n",
       " 'MUL',\n",
       " 'MUL',\n",
       " 'MUL',\n",
       " 'MUL',\n",
       " 'MUL',\n",
       " 'MUL',\n",
       " 'MUL',\n",
       " 'MUL',\n",
       " 'MUL',\n",
       " 'MUL',\n",
       " 'MUL',\n",
       " 'MUL',\n",
       " 'MUL',\n",
       " 'MUL',\n",
       " 'MUL',\n",
       " 'MUL',\n",
       " 'MUL',\n",
       " 'MUL',\n",
       " 'MUL',\n",
       " 'MUL',\n",
       " 'MUL',\n",
       " 'MUL',\n",
       " 'MUL',\n",
       " 'MUL',\n",
       " 'MUL',\n",
       " 'MUL',\n",
       " 'MUL',\n",
       " 'MUL',\n",
       " 'MUL',\n",
       " 'MUL',\n",
       " 'MUL',\n",
       " 'MUL',\n",
       " 'MUL',\n",
       " 'MUL',\n",
       " 'MUL',\n",
       " 'MUL',\n",
       " 'MUL',\n",
       " 'MUL',\n",
       " 'MUL',\n",
       " 'MUL',\n",
       " 'MUL',\n",
       " 'MUL',\n",
       " 'MUL-PanSharpen',\n",
       " 'MUL-PanSharpen',\n",
       " 'MUL-PanSharpen',\n",
       " 'MUL-PanSharpen',\n",
       " 'MUL-PanSharpen',\n",
       " 'MUL-PanSharpen',\n",
       " 'MUL-PanSharpen',\n",
       " 'MUL-PanSharpen',\n",
       " 'MUL-PanSharpen',\n",
       " 'MUL-PanSharpen',\n",
       " 'MUL-PanSharpen',\n",
       " 'MUL-PanSharpen',\n",
       " 'MUL-PanSharpen',\n",
       " 'MUL-PanSharpen',\n",
       " 'MUL-PanSharpen',\n",
       " 'MUL-PanSharpen',\n",
       " 'MUL-PanSharpen',\n",
       " 'MUL-PanSharpen',\n",
       " 'MUL-PanSharpen',\n",
       " 'MUL-PanSharpen',\n",
       " 'MUL-PanSharpen',\n",
       " 'MUL-PanSharpen',\n",
       " 'MUL-PanSharpen',\n",
       " 'MUL-PanSharpen',\n",
       " 'MUL-PanSharpen',\n",
       " 'MUL-PanSharpen',\n",
       " 'MUL-PanSharpen',\n",
       " 'MUL-PanSharpen',\n",
       " 'MUL-PanSharpen',\n",
       " 'MUL-PanSharpen',\n",
       " 'MUL-PanSharpen',\n",
       " 'MUL-PanSharpen',\n",
       " 'MUL-PanSharpen',\n",
       " 'MUL-PanSharpen',\n",
       " 'MUL-PanSharpen',\n",
       " 'MUL-PanSharpen',\n",
       " 'MUL-PanSharpen',\n",
       " 'MUL-PanSharpen',\n",
       " 'MUL-PanSharpen',\n",
       " 'MUL-PanSharpen',\n",
       " 'MUL-PanSharpen',\n",
       " 'MUL-PanSharpen',\n",
       " 'MUL-PanSharpen',\n",
       " 'MUL-PanSharpen',\n",
       " 'MUL-PanSharpen',\n",
       " 'MUL-PanSharpen',\n",
       " 'MUL-PanSharpen',\n",
       " 'MUL-PanSharpen',\n",
       " 'MUL-PanSharpen',\n",
       " 'MUL-PanSharpen',\n",
       " 'PAN',\n",
       " 'PAN',\n",
       " 'PAN',\n",
       " 'PAN',\n",
       " 'PAN',\n",
       " 'PAN',\n",
       " 'PAN',\n",
       " 'PAN',\n",
       " 'PAN',\n",
       " 'PAN',\n",
       " 'PAN',\n",
       " 'PAN',\n",
       " 'PAN',\n",
       " 'PAN',\n",
       " 'PAN',\n",
       " 'PAN',\n",
       " 'PAN',\n",
       " 'PAN',\n",
       " 'PAN',\n",
       " 'PAN',\n",
       " 'PAN',\n",
       " 'PAN',\n",
       " 'PAN',\n",
       " 'PAN',\n",
       " 'PAN',\n",
       " 'PAN',\n",
       " 'PAN',\n",
       " 'PAN',\n",
       " 'PAN',\n",
       " 'PAN',\n",
       " 'PAN',\n",
       " 'PAN',\n",
       " 'PAN',\n",
       " 'PAN',\n",
       " 'PAN',\n",
       " 'PAN',\n",
       " 'PAN',\n",
       " 'PAN',\n",
       " 'PAN',\n",
       " 'PAN',\n",
       " 'PAN',\n",
       " 'PAN',\n",
       " 'PAN',\n",
       " 'PAN',\n",
       " 'PAN',\n",
       " 'PAN',\n",
       " 'PAN',\n",
       " 'PAN',\n",
       " 'PAN',\n",
       " 'PAN',\n",
       " 'RGB-PanSharpen',\n",
       " 'RGB-PanSharpen',\n",
       " 'RGB-PanSharpen',\n",
       " 'RGB-PanSharpen',\n",
       " 'RGB-PanSharpen',\n",
       " 'RGB-PanSharpen',\n",
       " 'RGB-PanSharpen',\n",
       " 'RGB-PanSharpen',\n",
       " 'RGB-PanSharpen',\n",
       " 'RGB-PanSharpen',\n",
       " 'RGB-PanSharpen',\n",
       " 'RGB-PanSharpen',\n",
       " 'RGB-PanSharpen',\n",
       " 'RGB-PanSharpen',\n",
       " 'RGB-PanSharpen',\n",
       " 'RGB-PanSharpen',\n",
       " 'RGB-PanSharpen',\n",
       " 'RGB-PanSharpen',\n",
       " 'RGB-PanSharpen',\n",
       " 'RGB-PanSharpen',\n",
       " 'RGB-PanSharpen',\n",
       " 'RGB-PanSharpen',\n",
       " 'RGB-PanSharpen',\n",
       " 'RGB-PanSharpen',\n",
       " 'RGB-PanSharpen',\n",
       " 'RGB-PanSharpen',\n",
       " 'RGB-PanSharpen',\n",
       " 'RGB-PanSharpen',\n",
       " 'RGB-PanSharpen',\n",
       " 'RGB-PanSharpen',\n",
       " 'RGB-PanSharpen',\n",
       " 'RGB-PanSharpen',\n",
       " 'RGB-PanSharpen',\n",
       " 'RGB-PanSharpen',\n",
       " 'RGB-PanSharpen',\n",
       " 'RGB-PanSharpen',\n",
       " 'RGB-PanSharpen',\n",
       " 'RGB-PanSharpen',\n",
       " 'RGB-PanSharpen',\n",
       " 'RGB-PanSharpen',\n",
       " 'RGB-PanSharpen',\n",
       " 'RGB-PanSharpen',\n",
       " 'RGB-PanSharpen',\n",
       " 'RGB-PanSharpen',\n",
       " 'RGB-PanSharpen',\n",
       " 'RGB-PanSharpen',\n",
       " 'RGB-PanSharpen',\n",
       " 'RGB-PanSharpen',\n",
       " 'RGB-PanSharpen',\n",
       " 'RGB-PanSharpen',\n",
       " 'MUL',\n",
       " 'MUL',\n",
       " 'MUL',\n",
       " 'MUL',\n",
       " 'MUL',\n",
       " 'MUL',\n",
       " 'MUL',\n",
       " 'MUL',\n",
       " 'MUL',\n",
       " 'MUL',\n",
       " 'MUL',\n",
       " 'MUL',\n",
       " 'MUL',\n",
       " 'MUL',\n",
       " 'MUL',\n",
       " 'MUL',\n",
       " 'MUL',\n",
       " 'MUL',\n",
       " 'MUL',\n",
       " 'MUL',\n",
       " 'MUL',\n",
       " 'MUL',\n",
       " 'MUL',\n",
       " 'MUL',\n",
       " 'MUL',\n",
       " 'MUL',\n",
       " 'MUL',\n",
       " 'MUL',\n",
       " 'MUL',\n",
       " 'MUL',\n",
       " 'MUL',\n",
       " 'MUL',\n",
       " 'MUL',\n",
       " 'MUL',\n",
       " 'MUL',\n",
       " 'MUL',\n",
       " 'MUL',\n",
       " 'MUL',\n",
       " 'MUL',\n",
       " 'MUL',\n",
       " 'MUL',\n",
       " 'MUL',\n",
       " 'MUL',\n",
       " 'MUL',\n",
       " 'MUL',\n",
       " 'MUL',\n",
       " 'MUL',\n",
       " 'MUL',\n",
       " 'MUL',\n",
       " 'MUL',\n",
       " 'MUL-PanSharpen',\n",
       " 'MUL-PanSharpen',\n",
       " 'MUL-PanSharpen',\n",
       " 'MUL-PanSharpen',\n",
       " 'MUL-PanSharpen',\n",
       " 'MUL-PanSharpen',\n",
       " 'MUL-PanSharpen',\n",
       " 'MUL-PanSharpen',\n",
       " 'MUL-PanSharpen',\n",
       " 'MUL-PanSharpen',\n",
       " 'MUL-PanSharpen',\n",
       " 'MUL-PanSharpen',\n",
       " 'MUL-PanSharpen',\n",
       " 'MUL-PanSharpen',\n",
       " 'MUL-PanSharpen',\n",
       " 'MUL-PanSharpen',\n",
       " 'MUL-PanSharpen',\n",
       " 'MUL-PanSharpen',\n",
       " 'MUL-PanSharpen',\n",
       " 'MUL-PanSharpen',\n",
       " 'MUL-PanSharpen',\n",
       " 'MUL-PanSharpen',\n",
       " 'MUL-PanSharpen',\n",
       " 'MUL-PanSharpen',\n",
       " 'MUL-PanSharpen',\n",
       " 'MUL-PanSharpen',\n",
       " 'MUL-PanSharpen',\n",
       " 'MUL-PanSharpen',\n",
       " 'MUL-PanSharpen',\n",
       " 'MUL-PanSharpen',\n",
       " 'MUL-PanSharpen',\n",
       " 'MUL-PanSharpen',\n",
       " 'MUL-PanSharpen',\n",
       " 'MUL-PanSharpen',\n",
       " 'MUL-PanSharpen',\n",
       " 'MUL-PanSharpen',\n",
       " 'MUL-PanSharpen',\n",
       " 'MUL-PanSharpen',\n",
       " 'MUL-PanSharpen',\n",
       " 'MUL-PanSharpen',\n",
       " 'MUL-PanSharpen',\n",
       " 'MUL-PanSharpen',\n",
       " 'MUL-PanSharpen',\n",
       " 'MUL-PanSharpen',\n",
       " 'MUL-PanSharpen',\n",
       " 'MUL-PanSharpen',\n",
       " 'MUL-PanSharpen',\n",
       " 'MUL-PanSharpen',\n",
       " 'MUL-PanSharpen',\n",
       " 'MUL-PanSharpen',\n",
       " 'PAN',\n",
       " 'PAN',\n",
       " 'PAN',\n",
       " 'PAN',\n",
       " 'PAN',\n",
       " 'PAN',\n",
       " 'PAN',\n",
       " 'PAN',\n",
       " 'PAN',\n",
       " 'PAN',\n",
       " 'PAN',\n",
       " 'PAN',\n",
       " 'PAN',\n",
       " 'PAN',\n",
       " 'PAN',\n",
       " 'PAN',\n",
       " 'PAN',\n",
       " 'PAN',\n",
       " 'PAN',\n",
       " 'PAN',\n",
       " 'PAN',\n",
       " 'PAN',\n",
       " 'PAN',\n",
       " 'PAN',\n",
       " 'PAN',\n",
       " 'PAN',\n",
       " 'PAN',\n",
       " 'PAN',\n",
       " 'PAN',\n",
       " 'PAN',\n",
       " 'PAN',\n",
       " 'PAN',\n",
       " 'PAN',\n",
       " 'PAN',\n",
       " 'PAN',\n",
       " 'PAN',\n",
       " 'PAN',\n",
       " 'PAN',\n",
       " 'PAN',\n",
       " 'PAN',\n",
       " 'PAN',\n",
       " 'PAN',\n",
       " 'PAN',\n",
       " 'PAN',\n",
       " 'PAN',\n",
       " 'PAN',\n",
       " 'PAN',\n",
       " 'PAN',\n",
       " 'PAN',\n",
       " 'PAN',\n",
       " 'RGB-PanSharpen',\n",
       " 'RGB-PanSharpen',\n",
       " 'RGB-PanSharpen',\n",
       " 'RGB-PanSharpen',\n",
       " 'RGB-PanSharpen',\n",
       " 'RGB-PanSharpen',\n",
       " 'RGB-PanSharpen',\n",
       " 'RGB-PanSharpen',\n",
       " 'RGB-PanSharpen',\n",
       " 'RGB-PanSharpen',\n",
       " 'RGB-PanSharpen',\n",
       " 'RGB-PanSharpen',\n",
       " 'RGB-PanSharpen',\n",
       " 'RGB-PanSharpen',\n",
       " 'RGB-PanSharpen',\n",
       " 'RGB-PanSharpen',\n",
       " 'RGB-PanSharpen',\n",
       " 'RGB-PanSharpen',\n",
       " 'RGB-PanSharpen',\n",
       " 'RGB-PanSharpen',\n",
       " 'RGB-PanSharpen',\n",
       " 'RGB-PanSharpen',\n",
       " 'RGB-PanSharpen',\n",
       " 'RGB-PanSharpen',\n",
       " 'RGB-PanSharpen',\n",
       " 'RGB-PanSharpen',\n",
       " 'RGB-PanSharpen',\n",
       " 'RGB-PanSharpen',\n",
       " 'RGB-PanSharpen',\n",
       " 'RGB-PanSharpen',\n",
       " 'RGB-PanSharpen',\n",
       " 'RGB-PanSharpen',\n",
       " 'RGB-PanSharpen',\n",
       " 'RGB-PanSharpen',\n",
       " 'RGB-PanSharpen',\n",
       " 'RGB-PanSharpen',\n",
       " 'RGB-PanSharpen',\n",
       " 'RGB-PanSharpen',\n",
       " 'RGB-PanSharpen',\n",
       " 'RGB-PanSharpen',\n",
       " 'RGB-PanSharpen',\n",
       " 'RGB-PanSharpen',\n",
       " 'RGB-PanSharpen',\n",
       " 'RGB-PanSharpen',\n",
       " 'RGB-PanSharpen',\n",
       " 'RGB-PanSharpen',\n",
       " 'RGB-PanSharpen',\n",
       " 'RGB-PanSharpen',\n",
       " 'RGB-PanSharpen',\n",
       " 'RGB-PanSharpen']"
      ]
     },
     "execution_count": 18,
     "metadata": {},
     "output_type": "execute_result"
    }
   ],
   "source": [
    "img_subfolders"
   ]
  },
  {
   "cell_type": "code",
   "execution_count": 19,
   "metadata": {},
   "outputs": [
    {
     "data": {
      "text/plain": [
       "['MUL_AOI_2_Vegas_img34.tif',\n",
       " 'MUL_AOI_2_Vegas_img51.tif',\n",
       " 'MUL_AOI_2_Vegas_img1.tif',\n",
       " 'MUL_AOI_2_Vegas_img10.tif',\n",
       " 'MUL_AOI_2_Vegas_img12.tif',\n",
       " 'MUL_AOI_2_Vegas_img17.tif',\n",
       " 'MUL_AOI_2_Vegas_img2.tif',\n",
       " 'MUL_AOI_2_Vegas_img20.tif',\n",
       " 'MUL_AOI_2_Vegas_img22.tif',\n",
       " 'MUL_AOI_2_Vegas_img25.tif',\n",
       " 'MUL_AOI_2_Vegas_img26.tif',\n",
       " 'MUL_AOI_2_Vegas_img27.tif',\n",
       " 'MUL_AOI_2_Vegas_img28.tif',\n",
       " 'MUL_AOI_2_Vegas_img29.tif',\n",
       " 'MUL_AOI_2_Vegas_img30.tif',\n",
       " 'MUL_AOI_2_Vegas_img33.tif',\n",
       " 'MUL_AOI_2_Vegas_img35.tif',\n",
       " 'MUL_AOI_2_Vegas_img36.tif',\n",
       " 'MUL_AOI_2_Vegas_img38.tif',\n",
       " 'MUL_AOI_2_Vegas_img39.tif',\n",
       " 'MUL_AOI_2_Vegas_img4.tif',\n",
       " 'MUL_AOI_2_Vegas_img40.tif',\n",
       " 'MUL_AOI_2_Vegas_img41.tif',\n",
       " 'MUL_AOI_2_Vegas_img42.tif',\n",
       " 'MUL_AOI_2_Vegas_img44.tif',\n",
       " 'MUL_AOI_2_Vegas_img47.tif',\n",
       " 'MUL_AOI_2_Vegas_img48.tif',\n",
       " 'MUL_AOI_2_Vegas_img49.tif',\n",
       " 'MUL_AOI_2_Vegas_img5.tif',\n",
       " 'MUL_AOI_2_Vegas_img50.tif',\n",
       " 'MUL_AOI_2_Vegas_img53.tif',\n",
       " 'MUL_AOI_2_Vegas_img55.tif',\n",
       " 'MUL_AOI_2_Vegas_img56.tif',\n",
       " 'MUL_AOI_2_Vegas_img59.tif',\n",
       " 'MUL_AOI_2_Vegas_img61.tif',\n",
       " 'MUL_AOI_2_Vegas_img63.tif',\n",
       " 'MUL_AOI_2_Vegas_img65.tif',\n",
       " 'MUL_AOI_2_Vegas_img66.tif',\n",
       " 'MUL_AOI_2_Vegas_img68.tif',\n",
       " 'MUL_AOI_2_Vegas_img69.tif',\n",
       " 'MUL_AOI_2_Vegas_img7.tif',\n",
       " 'MUL_AOI_2_Vegas_img72.tif',\n",
       " 'MUL_AOI_2_Vegas_img74.tif',\n",
       " 'MUL_AOI_2_Vegas_img75.tif',\n",
       " 'MUL_AOI_2_Vegas_img76.tif',\n",
       " 'MUL_AOI_2_Vegas_img77.tif',\n",
       " 'MUL_AOI_2_Vegas_img78.tif',\n",
       " 'MUL_AOI_2_Vegas_img8.tif',\n",
       " 'MUL_AOI_2_Vegas_img80.tif',\n",
       " 'MUL_AOI_2_Vegas_img81.tif',\n",
       " 'MUL-PanSharpen_AOI_2_Vegas_img30.tif',\n",
       " 'MUL-PanSharpen_AOI_2_Vegas_img48.tif',\n",
       " 'MUL-PanSharpen_AOI_2_Vegas_img1.tif',\n",
       " 'MUL-PanSharpen_AOI_2_Vegas_img10.tif',\n",
       " 'MUL-PanSharpen_AOI_2_Vegas_img12.tif',\n",
       " 'MUL-PanSharpen_AOI_2_Vegas_img17.tif',\n",
       " 'MUL-PanSharpen_AOI_2_Vegas_img2.tif',\n",
       " 'MUL-PanSharpen_AOI_2_Vegas_img20.tif',\n",
       " 'MUL-PanSharpen_AOI_2_Vegas_img22.tif',\n",
       " 'MUL-PanSharpen_AOI_2_Vegas_img25.tif',\n",
       " 'MUL-PanSharpen_AOI_2_Vegas_img26.tif',\n",
       " 'MUL-PanSharpen_AOI_2_Vegas_img27.tif',\n",
       " 'MUL-PanSharpen_AOI_2_Vegas_img28.tif',\n",
       " 'MUL-PanSharpen_AOI_2_Vegas_img29.tif',\n",
       " 'MUL-PanSharpen_AOI_2_Vegas_img33.tif',\n",
       " 'MUL-PanSharpen_AOI_2_Vegas_img34.tif',\n",
       " 'MUL-PanSharpen_AOI_2_Vegas_img35.tif',\n",
       " 'MUL-PanSharpen_AOI_2_Vegas_img36.tif',\n",
       " 'MUL-PanSharpen_AOI_2_Vegas_img38.tif',\n",
       " 'MUL-PanSharpen_AOI_2_Vegas_img39.tif',\n",
       " 'MUL-PanSharpen_AOI_2_Vegas_img4.tif',\n",
       " 'MUL-PanSharpen_AOI_2_Vegas_img40.tif',\n",
       " 'MUL-PanSharpen_AOI_2_Vegas_img41.tif',\n",
       " 'MUL-PanSharpen_AOI_2_Vegas_img42.tif',\n",
       " 'MUL-PanSharpen_AOI_2_Vegas_img44.tif',\n",
       " 'MUL-PanSharpen_AOI_2_Vegas_img47.tif',\n",
       " 'MUL-PanSharpen_AOI_2_Vegas_img49.tif',\n",
       " 'MUL-PanSharpen_AOI_2_Vegas_img5.tif',\n",
       " 'MUL-PanSharpen_AOI_2_Vegas_img50.tif',\n",
       " 'MUL-PanSharpen_AOI_2_Vegas_img51.tif',\n",
       " 'MUL-PanSharpen_AOI_2_Vegas_img53.tif',\n",
       " 'MUL-PanSharpen_AOI_2_Vegas_img55.tif',\n",
       " 'MUL-PanSharpen_AOI_2_Vegas_img56.tif',\n",
       " 'MUL-PanSharpen_AOI_2_Vegas_img59.tif',\n",
       " 'MUL-PanSharpen_AOI_2_Vegas_img61.tif',\n",
       " 'MUL-PanSharpen_AOI_2_Vegas_img63.tif',\n",
       " 'MUL-PanSharpen_AOI_2_Vegas_img65.tif',\n",
       " 'MUL-PanSharpen_AOI_2_Vegas_img66.tif',\n",
       " 'MUL-PanSharpen_AOI_2_Vegas_img68.tif',\n",
       " 'MUL-PanSharpen_AOI_2_Vegas_img69.tif',\n",
       " 'MUL-PanSharpen_AOI_2_Vegas_img7.tif',\n",
       " 'MUL-PanSharpen_AOI_2_Vegas_img72.tif',\n",
       " 'MUL-PanSharpen_AOI_2_Vegas_img74.tif',\n",
       " 'MUL-PanSharpen_AOI_2_Vegas_img75.tif',\n",
       " 'MUL-PanSharpen_AOI_2_Vegas_img76.tif',\n",
       " 'MUL-PanSharpen_AOI_2_Vegas_img77.tif',\n",
       " 'MUL-PanSharpen_AOI_2_Vegas_img78.tif',\n",
       " 'MUL-PanSharpen_AOI_2_Vegas_img8.tif',\n",
       " 'MUL-PanSharpen_AOI_2_Vegas_img80.tif',\n",
       " 'MUL-PanSharpen_AOI_2_Vegas_img81.tif',\n",
       " 'PAN_AOI_2_Vegas_img34.tif',\n",
       " 'PAN_AOI_2_Vegas_img51.tif',\n",
       " 'PAN_AOI_2_Vegas_img1.tif',\n",
       " 'PAN_AOI_2_Vegas_img10.tif',\n",
       " 'PAN_AOI_2_Vegas_img12.tif',\n",
       " 'PAN_AOI_2_Vegas_img17.tif',\n",
       " 'PAN_AOI_2_Vegas_img2.tif',\n",
       " 'PAN_AOI_2_Vegas_img20.tif',\n",
       " 'PAN_AOI_2_Vegas_img22.tif',\n",
       " 'PAN_AOI_2_Vegas_img25.tif',\n",
       " 'PAN_AOI_2_Vegas_img26.tif',\n",
       " 'PAN_AOI_2_Vegas_img27.tif',\n",
       " 'PAN_AOI_2_Vegas_img28.tif',\n",
       " 'PAN_AOI_2_Vegas_img29.tif',\n",
       " 'PAN_AOI_2_Vegas_img30.tif',\n",
       " 'PAN_AOI_2_Vegas_img33.tif',\n",
       " 'PAN_AOI_2_Vegas_img35.tif',\n",
       " 'PAN_AOI_2_Vegas_img36.tif',\n",
       " 'PAN_AOI_2_Vegas_img38.tif',\n",
       " 'PAN_AOI_2_Vegas_img39.tif',\n",
       " 'PAN_AOI_2_Vegas_img4.tif',\n",
       " 'PAN_AOI_2_Vegas_img40.tif',\n",
       " 'PAN_AOI_2_Vegas_img41.tif',\n",
       " 'PAN_AOI_2_Vegas_img42.tif',\n",
       " 'PAN_AOI_2_Vegas_img44.tif',\n",
       " 'PAN_AOI_2_Vegas_img47.tif',\n",
       " 'PAN_AOI_2_Vegas_img48.tif',\n",
       " 'PAN_AOI_2_Vegas_img49.tif',\n",
       " 'PAN_AOI_2_Vegas_img5.tif',\n",
       " 'PAN_AOI_2_Vegas_img50.tif',\n",
       " 'PAN_AOI_2_Vegas_img53.tif',\n",
       " 'PAN_AOI_2_Vegas_img55.tif',\n",
       " 'PAN_AOI_2_Vegas_img56.tif',\n",
       " 'PAN_AOI_2_Vegas_img59.tif',\n",
       " 'PAN_AOI_2_Vegas_img61.tif',\n",
       " 'PAN_AOI_2_Vegas_img63.tif',\n",
       " 'PAN_AOI_2_Vegas_img65.tif',\n",
       " 'PAN_AOI_2_Vegas_img66.tif',\n",
       " 'PAN_AOI_2_Vegas_img68.tif',\n",
       " 'PAN_AOI_2_Vegas_img69.tif',\n",
       " 'PAN_AOI_2_Vegas_img7.tif',\n",
       " 'PAN_AOI_2_Vegas_img72.tif',\n",
       " 'PAN_AOI_2_Vegas_img74.tif',\n",
       " 'PAN_AOI_2_Vegas_img75.tif',\n",
       " 'PAN_AOI_2_Vegas_img76.tif',\n",
       " 'PAN_AOI_2_Vegas_img77.tif',\n",
       " 'PAN_AOI_2_Vegas_img78.tif',\n",
       " 'PAN_AOI_2_Vegas_img8.tif',\n",
       " 'PAN_AOI_2_Vegas_img80.tif',\n",
       " 'PAN_AOI_2_Vegas_img81.tif',\n",
       " 'RGB-PanSharpen_AOI_2_Vegas_img30.tif',\n",
       " 'RGB-PanSharpen_AOI_2_Vegas_img48.tif',\n",
       " 'RGB-PanSharpen_AOI_2_Vegas_img1.tif',\n",
       " 'RGB-PanSharpen_AOI_2_Vegas_img10.tif',\n",
       " 'RGB-PanSharpen_AOI_2_Vegas_img12.tif',\n",
       " 'RGB-PanSharpen_AOI_2_Vegas_img17.tif',\n",
       " 'RGB-PanSharpen_AOI_2_Vegas_img2.tif',\n",
       " 'RGB-PanSharpen_AOI_2_Vegas_img20.tif',\n",
       " 'RGB-PanSharpen_AOI_2_Vegas_img22.tif',\n",
       " 'RGB-PanSharpen_AOI_2_Vegas_img25.tif',\n",
       " 'RGB-PanSharpen_AOI_2_Vegas_img26.tif',\n",
       " 'RGB-PanSharpen_AOI_2_Vegas_img27.tif',\n",
       " 'RGB-PanSharpen_AOI_2_Vegas_img28.tif',\n",
       " 'RGB-PanSharpen_AOI_2_Vegas_img29.tif',\n",
       " 'RGB-PanSharpen_AOI_2_Vegas_img33.tif',\n",
       " 'RGB-PanSharpen_AOI_2_Vegas_img34.tif',\n",
       " 'RGB-PanSharpen_AOI_2_Vegas_img35.tif',\n",
       " 'RGB-PanSharpen_AOI_2_Vegas_img36.tif',\n",
       " 'RGB-PanSharpen_AOI_2_Vegas_img38.tif',\n",
       " 'RGB-PanSharpen_AOI_2_Vegas_img39.tif',\n",
       " 'RGB-PanSharpen_AOI_2_Vegas_img4.tif',\n",
       " 'RGB-PanSharpen_AOI_2_Vegas_img40.tif',\n",
       " 'RGB-PanSharpen_AOI_2_Vegas_img41.tif',\n",
       " 'RGB-PanSharpen_AOI_2_Vegas_img42.tif',\n",
       " 'RGB-PanSharpen_AOI_2_Vegas_img44.tif',\n",
       " 'RGB-PanSharpen_AOI_2_Vegas_img47.tif',\n",
       " 'RGB-PanSharpen_AOI_2_Vegas_img49.tif',\n",
       " 'RGB-PanSharpen_AOI_2_Vegas_img5.tif',\n",
       " 'RGB-PanSharpen_AOI_2_Vegas_img50.tif',\n",
       " 'RGB-PanSharpen_AOI_2_Vegas_img51.tif',\n",
       " 'RGB-PanSharpen_AOI_2_Vegas_img53.tif',\n",
       " 'RGB-PanSharpen_AOI_2_Vegas_img55.tif',\n",
       " 'RGB-PanSharpen_AOI_2_Vegas_img56.tif',\n",
       " 'RGB-PanSharpen_AOI_2_Vegas_img59.tif',\n",
       " 'RGB-PanSharpen_AOI_2_Vegas_img61.tif',\n",
       " 'RGB-PanSharpen_AOI_2_Vegas_img63.tif',\n",
       " 'RGB-PanSharpen_AOI_2_Vegas_img65.tif',\n",
       " 'RGB-PanSharpen_AOI_2_Vegas_img66.tif',\n",
       " 'RGB-PanSharpen_AOI_2_Vegas_img68.tif',\n",
       " 'RGB-PanSharpen_AOI_2_Vegas_img69.tif',\n",
       " 'RGB-PanSharpen_AOI_2_Vegas_img7.tif',\n",
       " 'RGB-PanSharpen_AOI_2_Vegas_img72.tif',\n",
       " 'RGB-PanSharpen_AOI_2_Vegas_img74.tif',\n",
       " 'RGB-PanSharpen_AOI_2_Vegas_img75.tif',\n",
       " 'RGB-PanSharpen_AOI_2_Vegas_img76.tif',\n",
       " 'RGB-PanSharpen_AOI_2_Vegas_img77.tif',\n",
       " 'RGB-PanSharpen_AOI_2_Vegas_img78.tif',\n",
       " 'RGB-PanSharpen_AOI_2_Vegas_img8.tif',\n",
       " 'RGB-PanSharpen_AOI_2_Vegas_img80.tif',\n",
       " 'RGB-PanSharpen_AOI_2_Vegas_img81.tif',\n",
       " 'SN3_roads_train_AOI_5_Khartoum_MS_img26.tif',\n",
       " 'SN3_roads_train_AOI_5_Khartoum_MS_img43.tif',\n",
       " 'SN3_roads_train_AOI_5_Khartoum_MS_img65.tif',\n",
       " 'SN3_roads_train_AOI_5_Khartoum_MS_img1.tif',\n",
       " 'SN3_roads_train_AOI_5_Khartoum_MS_img11.tif',\n",
       " 'SN3_roads_train_AOI_5_Khartoum_MS_img17.tif',\n",
       " 'SN3_roads_train_AOI_5_Khartoum_MS_img18.tif',\n",
       " 'SN3_roads_train_AOI_5_Khartoum_MS_img19.tif',\n",
       " 'SN3_roads_train_AOI_5_Khartoum_MS_img2.tif',\n",
       " 'SN3_roads_train_AOI_5_Khartoum_MS_img20.tif',\n",
       " 'SN3_roads_train_AOI_5_Khartoum_MS_img21.tif',\n",
       " 'SN3_roads_train_AOI_5_Khartoum_MS_img23.tif',\n",
       " 'SN3_roads_train_AOI_5_Khartoum_MS_img24.tif',\n",
       " 'SN3_roads_train_AOI_5_Khartoum_MS_img25.tif',\n",
       " 'SN3_roads_train_AOI_5_Khartoum_MS_img28.tif',\n",
       " 'SN3_roads_train_AOI_5_Khartoum_MS_img29.tif',\n",
       " 'SN3_roads_train_AOI_5_Khartoum_MS_img3.tif',\n",
       " 'SN3_roads_train_AOI_5_Khartoum_MS_img32.tif',\n",
       " 'SN3_roads_train_AOI_5_Khartoum_MS_img35.tif',\n",
       " 'SN3_roads_train_AOI_5_Khartoum_MS_img37.tif',\n",
       " 'SN3_roads_train_AOI_5_Khartoum_MS_img38.tif',\n",
       " 'SN3_roads_train_AOI_5_Khartoum_MS_img39.tif',\n",
       " 'SN3_roads_train_AOI_5_Khartoum_MS_img4.tif',\n",
       " 'SN3_roads_train_AOI_5_Khartoum_MS_img40.tif',\n",
       " 'SN3_roads_train_AOI_5_Khartoum_MS_img41.tif',\n",
       " 'SN3_roads_train_AOI_5_Khartoum_MS_img49.tif',\n",
       " 'SN3_roads_train_AOI_5_Khartoum_MS_img50.tif',\n",
       " 'SN3_roads_train_AOI_5_Khartoum_MS_img54.tif',\n",
       " 'SN3_roads_train_AOI_5_Khartoum_MS_img55.tif',\n",
       " 'SN3_roads_train_AOI_5_Khartoum_MS_img56.tif',\n",
       " 'SN3_roads_train_AOI_5_Khartoum_MS_img59.tif',\n",
       " 'SN3_roads_train_AOI_5_Khartoum_MS_img6.tif',\n",
       " 'SN3_roads_train_AOI_5_Khartoum_MS_img60.tif',\n",
       " 'SN3_roads_train_AOI_5_Khartoum_MS_img61.tif',\n",
       " 'SN3_roads_train_AOI_5_Khartoum_MS_img62.tif',\n",
       " 'SN3_roads_train_AOI_5_Khartoum_MS_img64.tif',\n",
       " 'SN3_roads_train_AOI_5_Khartoum_MS_img66.tif',\n",
       " 'SN3_roads_train_AOI_5_Khartoum_MS_img67.tif',\n",
       " 'SN3_roads_train_AOI_5_Khartoum_MS_img69.tif',\n",
       " 'SN3_roads_train_AOI_5_Khartoum_MS_img7.tif',\n",
       " 'SN3_roads_train_AOI_5_Khartoum_MS_img72.tif',\n",
       " 'SN3_roads_train_AOI_5_Khartoum_MS_img73.tif',\n",
       " 'SN3_roads_train_AOI_5_Khartoum_MS_img74.tif',\n",
       " 'SN3_roads_train_AOI_5_Khartoum_MS_img78.tif',\n",
       " 'SN3_roads_train_AOI_5_Khartoum_MS_img8.tif',\n",
       " 'SN3_roads_train_AOI_5_Khartoum_MS_img81.tif',\n",
       " 'SN3_roads_train_AOI_5_Khartoum_MS_img82.tif',\n",
       " 'SN3_roads_train_AOI_5_Khartoum_MS_img83.tif',\n",
       " 'SN3_roads_train_AOI_5_Khartoum_MS_img84.tif',\n",
       " 'SN3_roads_train_AOI_5_Khartoum_MS_img85.tif',\n",
       " 'SN3_roads_train_AOI_5_Khartoum_PAN_img1.tif',\n",
       " 'SN3_roads_train_AOI_5_Khartoum_PAN_img17.tif',\n",
       " 'SN3_roads_train_AOI_5_Khartoum_PAN_img18.tif',\n",
       " 'SN3_roads_train_AOI_5_Khartoum_PAN_img19.tif',\n",
       " 'SN3_roads_train_AOI_5_Khartoum_PAN_img2.tif',\n",
       " 'SN3_roads_train_AOI_5_Khartoum_PAN_img20.tif',\n",
       " 'SN3_roads_train_AOI_5_Khartoum_PAN_img21.tif',\n",
       " 'SN3_roads_train_AOI_5_Khartoum_PAN_img23.tif',\n",
       " 'SN3_roads_train_AOI_5_Khartoum_PAN_img24.tif',\n",
       " 'SN3_roads_train_AOI_5_Khartoum_PAN_img25.tif',\n",
       " 'SN3_roads_train_AOI_5_Khartoum_PAN_img26.tif',\n",
       " 'SN3_roads_train_AOI_5_Khartoum_PAN_img28.tif',\n",
       " 'SN3_roads_train_AOI_5_Khartoum_PAN_img29.tif',\n",
       " 'SN3_roads_train_AOI_5_Khartoum_PAN_img32.tif',\n",
       " 'SN3_roads_train_AOI_5_Khartoum_PAN_img35.tif',\n",
       " 'SN3_roads_train_AOI_5_Khartoum_PAN_img37.tif',\n",
       " 'SN3_roads_train_AOI_5_Khartoum_PAN_img38.tif',\n",
       " 'SN3_roads_train_AOI_5_Khartoum_PAN_img39.tif',\n",
       " 'SN3_roads_train_AOI_5_Khartoum_PAN_img4.tif',\n",
       " 'SN3_roads_train_AOI_5_Khartoum_PAN_img40.tif',\n",
       " 'SN3_roads_train_AOI_5_Khartoum_PAN_img41.tif',\n",
       " 'SN3_roads_train_AOI_5_Khartoum_PAN_img43.tif',\n",
       " 'SN3_roads_train_AOI_5_Khartoum_PAN_img49.tif',\n",
       " 'SN3_roads_train_AOI_5_Khartoum_PAN_img50.tif',\n",
       " 'SN3_roads_train_AOI_5_Khartoum_PAN_img55.tif',\n",
       " 'SN3_roads_train_AOI_5_Khartoum_PAN_img56.tif',\n",
       " 'SN3_roads_train_AOI_5_Khartoum_PAN_img59.tif',\n",
       " 'SN3_roads_train_AOI_5_Khartoum_PAN_img6.tif',\n",
       " 'SN3_roads_train_AOI_5_Khartoum_PAN_img60.tif',\n",
       " 'SN3_roads_train_AOI_5_Khartoum_PAN_img61.tif',\n",
       " 'SN3_roads_train_AOI_5_Khartoum_PAN_img62.tif',\n",
       " 'SN3_roads_train_AOI_5_Khartoum_PAN_img64.tif',\n",
       " 'SN3_roads_train_AOI_5_Khartoum_PAN_img65.tif',\n",
       " 'SN3_roads_train_AOI_5_Khartoum_PAN_img66.tif',\n",
       " 'SN3_roads_train_AOI_5_Khartoum_PAN_img67.tif',\n",
       " 'SN3_roads_train_AOI_5_Khartoum_PAN_img7.tif',\n",
       " 'SN3_roads_train_AOI_5_Khartoum_PAN_img72.tif',\n",
       " 'SN3_roads_train_AOI_5_Khartoum_PAN_img73.tif',\n",
       " 'SN3_roads_train_AOI_5_Khartoum_PAN_img74.tif',\n",
       " 'SN3_roads_train_AOI_5_Khartoum_PAN_img78.tif',\n",
       " 'SN3_roads_train_AOI_5_Khartoum_PAN_img8.tif',\n",
       " 'SN3_roads_train_AOI_5_Khartoum_PAN_img81.tif',\n",
       " 'SN3_roads_train_AOI_5_Khartoum_PAN_img82.tif',\n",
       " 'SN3_roads_train_AOI_5_Khartoum_PAN_img83.tif',\n",
       " 'SN3_roads_train_AOI_5_Khartoum_PAN_img84.tif',\n",
       " 'SN3_roads_train_AOI_5_Khartoum_PAN_img85.tif',\n",
       " 'SN3_roads_train_AOI_5_Khartoum_PAN_img11.tif',\n",
       " 'SN3_roads_train_AOI_5_Khartoum_PAN_img3.tif',\n",
       " 'SN3_roads_train_AOI_5_Khartoum_PAN_img54.tif',\n",
       " 'SN3_roads_train_AOI_5_Khartoum_PAN_img69.tif',\n",
       " 'SN3_roads_train_AOI_5_Khartoum_PS-RGB_img1.tif',\n",
       " 'SN3_roads_train_AOI_5_Khartoum_PS-RGB_img3.tif',\n",
       " 'SN3_roads_train_AOI_5_Khartoum_PS-RGB_img32.tif',\n",
       " 'SN3_roads_train_AOI_5_Khartoum_PS-RGB_img35.tif',\n",
       " 'SN3_roads_train_AOI_5_Khartoum_PS-RGB_img37.tif',\n",
       " 'SN3_roads_train_AOI_5_Khartoum_PS-RGB_img38.tif',\n",
       " 'SN3_roads_train_AOI_5_Khartoum_PS-RGB_img39.tif',\n",
       " 'SN3_roads_train_AOI_5_Khartoum_PS-RGB_img4.tif',\n",
       " 'SN3_roads_train_AOI_5_Khartoum_PS-RGB_img40.tif',\n",
       " 'SN3_roads_train_AOI_5_Khartoum_PS-RGB_img41.tif',\n",
       " 'SN3_roads_train_AOI_5_Khartoum_PS-RGB_img43.tif',\n",
       " 'SN3_roads_train_AOI_5_Khartoum_PS-RGB_img49.tif',\n",
       " 'SN3_roads_train_AOI_5_Khartoum_PS-RGB_img11.tif',\n",
       " 'SN3_roads_train_AOI_5_Khartoum_PS-RGB_img29.tif',\n",
       " 'SN3_roads_train_AOI_5_Khartoum_PS-RGB_img50.tif',\n",
       " 'SN3_roads_train_AOI_5_Khartoum_PS-RGB_img67.tif',\n",
       " 'SN3_roads_train_AOI_5_Khartoum_PS-RGB_img54.tif',\n",
       " 'SN3_roads_train_AOI_5_Khartoum_PS-RGB_img55.tif',\n",
       " 'SN3_roads_train_AOI_5_Khartoum_PS-RGB_img56.tif',\n",
       " 'SN3_roads_train_AOI_5_Khartoum_PS-RGB_img59.tif',\n",
       " 'SN3_roads_train_AOI_5_Khartoum_PS-RGB_img6.tif',\n",
       " 'SN3_roads_train_AOI_5_Khartoum_PS-RGB_img60.tif',\n",
       " 'SN3_roads_train_AOI_5_Khartoum_PS-RGB_img61.tif',\n",
       " 'SN3_roads_train_AOI_5_Khartoum_PS-RGB_img62.tif',\n",
       " 'SN3_roads_train_AOI_5_Khartoum_PS-RGB_img64.tif',\n",
       " 'SN3_roads_train_AOI_5_Khartoum_PS-RGB_img65.tif',\n",
       " 'SN3_roads_train_AOI_5_Khartoum_PS-RGB_img66.tif',\n",
       " 'SN3_roads_train_AOI_5_Khartoum_PS-RGB_img69.tif',\n",
       " 'SN3_roads_train_AOI_5_Khartoum_PS-RGB_img7.tif',\n",
       " 'SN3_roads_train_AOI_5_Khartoum_PS-RGB_img72.tif',\n",
       " 'SN3_roads_train_AOI_5_Khartoum_PS-RGB_img73.tif',\n",
       " 'SN3_roads_train_AOI_5_Khartoum_PS-RGB_img74.tif',\n",
       " 'SN3_roads_train_AOI_5_Khartoum_PS-RGB_img78.tif',\n",
       " 'SN3_roads_train_AOI_5_Khartoum_PS-RGB_img8.tif',\n",
       " 'SN3_roads_train_AOI_5_Khartoum_PS-RGB_img81.tif',\n",
       " 'SN3_roads_train_AOI_5_Khartoum_PS-RGB_img82.tif',\n",
       " 'SN3_roads_train_AOI_5_Khartoum_PS-RGB_img83.tif',\n",
       " 'SN3_roads_train_AOI_5_Khartoum_PS-RGB_img84.tif',\n",
       " 'SN3_roads_train_AOI_5_Khartoum_PS-RGB_img85.tif',\n",
       " 'SN3_roads_train_AOI_5_Khartoum_PS-RGB_img17.tif',\n",
       " 'SN3_roads_train_AOI_5_Khartoum_PS-RGB_img18.tif',\n",
       " 'SN3_roads_train_AOI_5_Khartoum_PS-RGB_img19.tif',\n",
       " 'SN3_roads_train_AOI_5_Khartoum_PS-RGB_img2.tif',\n",
       " 'SN3_roads_train_AOI_5_Khartoum_PS-RGB_img20.tif',\n",
       " 'SN3_roads_train_AOI_5_Khartoum_PS-RGB_img21.tif',\n",
       " 'SN3_roads_train_AOI_5_Khartoum_PS-RGB_img23.tif',\n",
       " 'SN3_roads_train_AOI_5_Khartoum_PS-RGB_img24.tif',\n",
       " 'SN3_roads_train_AOI_5_Khartoum_PS-RGB_img25.tif',\n",
       " 'SN3_roads_train_AOI_5_Khartoum_PS-RGB_img26.tif',\n",
       " 'SN3_roads_train_AOI_5_Khartoum_PS-RGB_img28.tif',\n",
       " 'SN3_roads_train_AOI_3_Paris_MS_img26.tif',\n",
       " 'SN3_roads_train_AOI_3_Paris_MS_img46.tif',\n",
       " 'SN3_roads_train_AOI_3_Paris_MS_img10.tif',\n",
       " 'SN3_roads_train_AOI_3_Paris_MS_img11.tif',\n",
       " 'SN3_roads_train_AOI_3_Paris_MS_img14.tif',\n",
       " 'SN3_roads_train_AOI_3_Paris_MS_img15.tif',\n",
       " 'SN3_roads_train_AOI_3_Paris_MS_img16.tif',\n",
       " 'SN3_roads_train_AOI_3_Paris_MS_img17.tif',\n",
       " 'SN3_roads_train_AOI_3_Paris_MS_img18.tif',\n",
       " 'SN3_roads_train_AOI_3_Paris_MS_img19.tif',\n",
       " 'SN3_roads_train_AOI_3_Paris_MS_img20.tif',\n",
       " 'SN3_roads_train_AOI_3_Paris_MS_img21.tif',\n",
       " 'SN3_roads_train_AOI_3_Paris_MS_img23.tif',\n",
       " 'SN3_roads_train_AOI_3_Paris_MS_img24.tif',\n",
       " 'SN3_roads_train_AOI_3_Paris_MS_img27.tif',\n",
       " 'SN3_roads_train_AOI_3_Paris_MS_img28.tif',\n",
       " 'SN3_roads_train_AOI_3_Paris_MS_img30.tif',\n",
       " 'SN3_roads_train_AOI_3_Paris_MS_img31.tif',\n",
       " 'SN3_roads_train_AOI_3_Paris_MS_img33.tif',\n",
       " 'SN3_roads_train_AOI_3_Paris_MS_img35.tif',\n",
       " 'SN3_roads_train_AOI_3_Paris_MS_img37.tif',\n",
       " 'SN3_roads_train_AOI_3_Paris_MS_img38.tif',\n",
       " 'SN3_roads_train_AOI_3_Paris_MS_img39.tif',\n",
       " 'SN3_roads_train_AOI_3_Paris_MS_img41.tif',\n",
       " 'SN3_roads_train_AOI_3_Paris_MS_img42.tif',\n",
       " 'SN3_roads_train_AOI_3_Paris_MS_img43.tif',\n",
       " 'SN3_roads_train_AOI_3_Paris_MS_img47.tif',\n",
       " 'SN3_roads_train_AOI_3_Paris_MS_img48.tif',\n",
       " 'SN3_roads_train_AOI_3_Paris_MS_img49.tif',\n",
       " 'SN3_roads_train_AOI_3_Paris_MS_img50.tif',\n",
       " 'SN3_roads_train_AOI_3_Paris_MS_img51.tif',\n",
       " 'SN3_roads_train_AOI_3_Paris_MS_img52.tif',\n",
       " 'SN3_roads_train_AOI_3_Paris_MS_img53.tif',\n",
       " 'SN3_roads_train_AOI_3_Paris_MS_img54.tif',\n",
       " 'SN3_roads_train_AOI_3_Paris_MS_img55.tif',\n",
       " 'SN3_roads_train_AOI_3_Paris_MS_img6.tif',\n",
       " 'SN3_roads_train_AOI_3_Paris_MS_img60.tif',\n",
       " 'SN3_roads_train_AOI_3_Paris_MS_img61.tif',\n",
       " 'SN3_roads_train_AOI_3_Paris_MS_img63.tif',\n",
       " 'SN3_roads_train_AOI_3_Paris_MS_img64.tif',\n",
       " 'SN3_roads_train_AOI_3_Paris_MS_img65.tif',\n",
       " 'SN3_roads_train_AOI_3_Paris_MS_img7.tif',\n",
       " 'SN3_roads_train_AOI_3_Paris_MS_img72.tif',\n",
       " 'SN3_roads_train_AOI_3_Paris_MS_img73.tif',\n",
       " 'SN3_roads_train_AOI_3_Paris_MS_img75.tif',\n",
       " 'SN3_roads_train_AOI_3_Paris_MS_img76.tif',\n",
       " 'SN3_roads_train_AOI_3_Paris_MS_img77.tif',\n",
       " 'SN3_roads_train_AOI_3_Paris_MS_img80.tif',\n",
       " 'SN3_roads_train_AOI_3_Paris_MS_img81.tif',\n",
       " 'SN3_roads_train_AOI_3_Paris_MS_img9.tif',\n",
       " 'SN3_roads_train_AOI_3_Paris_PS-MS_img10.tif',\n",
       " 'SN3_roads_train_AOI_3_Paris_PS-MS_img28.tif',\n",
       " 'SN3_roads_train_AOI_3_Paris_PS-MS_img30.tif',\n",
       " 'SN3_roads_train_AOI_3_Paris_PS-MS_img31.tif',\n",
       " 'SN3_roads_train_AOI_3_Paris_PS-MS_img33.tif',\n",
       " 'SN3_roads_train_AOI_3_Paris_PS-MS_img35.tif',\n",
       " 'SN3_roads_train_AOI_3_Paris_PS-MS_img37.tif',\n",
       " 'SN3_roads_train_AOI_3_Paris_PS-MS_img38.tif',\n",
       " 'SN3_roads_train_AOI_3_Paris_PS-MS_img39.tif',\n",
       " 'SN3_roads_train_AOI_3_Paris_PS-MS_img41.tif',\n",
       " 'SN3_roads_train_AOI_3_Paris_PS-MS_img42.tif',\n",
       " 'SN3_roads_train_AOI_3_Paris_PS-MS_img43.tif',\n",
       " 'SN3_roads_train_AOI_3_Paris_PS-MS_img11.tif',\n",
       " 'SN3_roads_train_AOI_3_Paris_PS-MS_img15.tif',\n",
       " 'SN3_roads_train_AOI_3_Paris_PS-MS_img27.tif',\n",
       " 'SN3_roads_train_AOI_3_Paris_PS-MS_img46.tif',\n",
       " 'SN3_roads_train_AOI_3_Paris_PS-MS_img61.tif',\n",
       " 'SN3_roads_train_AOI_3_Paris_PS-MS_img47.tif',\n",
       " 'SN3_roads_train_AOI_3_Paris_PS-MS_img48.tif',\n",
       " 'SN3_roads_train_AOI_3_Paris_PS-MS_img49.tif',\n",
       " 'SN3_roads_train_AOI_3_Paris_PS-MS_img50.tif',\n",
       " 'SN3_roads_train_AOI_3_Paris_PS-MS_img51.tif',\n",
       " 'SN3_roads_train_AOI_3_Paris_PS-MS_img52.tif',\n",
       " 'SN3_roads_train_AOI_3_Paris_PS-MS_img53.tif',\n",
       " 'SN3_roads_train_AOI_3_Paris_PS-MS_img54.tif',\n",
       " 'SN3_roads_train_AOI_3_Paris_PS-MS_img55.tif',\n",
       " 'SN3_roads_train_AOI_3_Paris_PS-MS_img6.tif',\n",
       " 'SN3_roads_train_AOI_3_Paris_PS-MS_img60.tif',\n",
       " 'SN3_roads_train_AOI_3_Paris_PS-MS_img63.tif',\n",
       " 'SN3_roads_train_AOI_3_Paris_PS-MS_img64.tif',\n",
       " 'SN3_roads_train_AOI_3_Paris_PS-MS_img65.tif',\n",
       " 'SN3_roads_train_AOI_3_Paris_PS-MS_img7.tif',\n",
       " 'SN3_roads_train_AOI_3_Paris_PS-MS_img72.tif',\n",
       " 'SN3_roads_train_AOI_3_Paris_PS-MS_img73.tif',\n",
       " 'SN3_roads_train_AOI_3_Paris_PS-MS_img75.tif',\n",
       " 'SN3_roads_train_AOI_3_Paris_PS-MS_img76.tif',\n",
       " 'SN3_roads_train_AOI_3_Paris_PS-MS_img77.tif',\n",
       " 'SN3_roads_train_AOI_3_Paris_PS-MS_img80.tif',\n",
       " 'SN3_roads_train_AOI_3_Paris_PS-MS_img81.tif',\n",
       " 'SN3_roads_train_AOI_3_Paris_PS-MS_img9.tif',\n",
       " 'SN3_roads_train_AOI_3_Paris_PS-MS_img14.tif',\n",
       " 'SN3_roads_train_AOI_3_Paris_PS-MS_img16.tif',\n",
       " 'SN3_roads_train_AOI_3_Paris_PS-MS_img17.tif',\n",
       " 'SN3_roads_train_AOI_3_Paris_PS-MS_img18.tif',\n",
       " 'SN3_roads_train_AOI_3_Paris_PS-MS_img19.tif',\n",
       " 'SN3_roads_train_AOI_3_Paris_PS-MS_img20.tif',\n",
       " 'SN3_roads_train_AOI_3_Paris_PS-MS_img21.tif',\n",
       " 'SN3_roads_train_AOI_3_Paris_PS-MS_img23.tif',\n",
       " 'SN3_roads_train_AOI_3_Paris_PS-MS_img24.tif',\n",
       " 'SN3_roads_train_AOI_3_Paris_PS-MS_img26.tif',\n",
       " 'SN3_roads_train_AOI_3_Paris_PAN_img10.tif',\n",
       " 'SN3_roads_train_AOI_3_Paris_PAN_img14.tif',\n",
       " 'SN3_roads_train_AOI_3_Paris_PAN_img15.tif',\n",
       " 'SN3_roads_train_AOI_3_Paris_PAN_img30.tif',\n",
       " 'SN3_roads_train_AOI_3_Paris_PAN_img31.tif',\n",
       " 'SN3_roads_train_AOI_3_Paris_PAN_img33.tif',\n",
       " 'SN3_roads_train_AOI_3_Paris_PAN_img35.tif',\n",
       " 'SN3_roads_train_AOI_3_Paris_PAN_img37.tif',\n",
       " 'SN3_roads_train_AOI_3_Paris_PAN_img38.tif',\n",
       " 'SN3_roads_train_AOI_3_Paris_PAN_img39.tif',\n",
       " 'SN3_roads_train_AOI_3_Paris_PAN_img41.tif',\n",
       " 'SN3_roads_train_AOI_3_Paris_PAN_img42.tif',\n",
       " 'SN3_roads_train_AOI_3_Paris_PAN_img43.tif',\n",
       " 'SN3_roads_train_AOI_3_Paris_PAN_img46.tif',\n",
       " 'SN3_roads_train_AOI_3_Paris_PAN_img48.tif',\n",
       " 'SN3_roads_train_AOI_3_Paris_PAN_img49.tif',\n",
       " 'SN3_roads_train_AOI_3_Paris_PAN_img50.tif',\n",
       " 'SN3_roads_train_AOI_3_Paris_PAN_img51.tif',\n",
       " 'SN3_roads_train_AOI_3_Paris_PAN_img52.tif',\n",
       " 'SN3_roads_train_AOI_3_Paris_PAN_img53.tif',\n",
       " 'SN3_roads_train_AOI_3_Paris_PAN_img54.tif',\n",
       " 'SN3_roads_train_AOI_3_Paris_PAN_img55.tif',\n",
       " 'SN3_roads_train_AOI_3_Paris_PAN_img6.tif',\n",
       " 'SN3_roads_train_AOI_3_Paris_PAN_img60.tif',\n",
       " 'SN3_roads_train_AOI_3_Paris_PAN_img61.tif',\n",
       " 'SN3_roads_train_AOI_3_Paris_PAN_img64.tif',\n",
       " 'SN3_roads_train_AOI_3_Paris_PAN_img65.tif',\n",
       " 'SN3_roads_train_AOI_3_Paris_PAN_img7.tif',\n",
       " 'SN3_roads_train_AOI_3_Paris_PAN_img72.tif',\n",
       " 'SN3_roads_train_AOI_3_Paris_PAN_img73.tif',\n",
       " 'SN3_roads_train_AOI_3_Paris_PAN_img75.tif',\n",
       " 'SN3_roads_train_AOI_3_Paris_PAN_img76.tif',\n",
       " 'SN3_roads_train_AOI_3_Paris_PAN_img77.tif',\n",
       " 'SN3_roads_train_AOI_3_Paris_PAN_img80.tif',\n",
       " 'SN3_roads_train_AOI_3_Paris_PAN_img81.tif',\n",
       " 'SN3_roads_train_AOI_3_Paris_PAN_img9.tif',\n",
       " 'SN3_roads_train_AOI_3_Paris_PAN_img11.tif',\n",
       " 'SN3_roads_train_AOI_3_Paris_PAN_img16.tif',\n",
       " 'SN3_roads_train_AOI_3_Paris_PAN_img28.tif',\n",
       " 'SN3_roads_train_AOI_3_Paris_PAN_img47.tif',\n",
       " 'SN3_roads_train_AOI_3_Paris_PAN_img63.tif',\n",
       " 'SN3_roads_train_AOI_3_Paris_PAN_img17.tif',\n",
       " 'SN3_roads_train_AOI_3_Paris_PAN_img18.tif',\n",
       " 'SN3_roads_train_AOI_3_Paris_PAN_img19.tif',\n",
       " 'SN3_roads_train_AOI_3_Paris_PAN_img20.tif',\n",
       " 'SN3_roads_train_AOI_3_Paris_PAN_img21.tif',\n",
       " 'SN3_roads_train_AOI_3_Paris_PAN_img23.tif',\n",
       " 'SN3_roads_train_AOI_3_Paris_PAN_img24.tif',\n",
       " 'SN3_roads_train_AOI_3_Paris_PAN_img26.tif',\n",
       " 'SN3_roads_train_AOI_3_Paris_PAN_img27.tif',\n",
       " 'SN3_roads_train_AOI_3_Paris_PS-RGB_img10.tif',\n",
       " 'SN3_roads_train_AOI_3_Paris_PS-RGB_img28.tif',\n",
       " 'SN3_roads_train_AOI_3_Paris_PS-RGB_img30.tif',\n",
       " 'SN3_roads_train_AOI_3_Paris_PS-RGB_img31.tif',\n",
       " 'SN3_roads_train_AOI_3_Paris_PS-RGB_img33.tif',\n",
       " 'SN3_roads_train_AOI_3_Paris_PS-RGB_img35.tif',\n",
       " 'SN3_roads_train_AOI_3_Paris_PS-RGB_img37.tif',\n",
       " 'SN3_roads_train_AOI_3_Paris_PS-RGB_img38.tif',\n",
       " 'SN3_roads_train_AOI_3_Paris_PS-RGB_img39.tif',\n",
       " 'SN3_roads_train_AOI_3_Paris_PS-RGB_img41.tif',\n",
       " 'SN3_roads_train_AOI_3_Paris_PS-RGB_img42.tif',\n",
       " 'SN3_roads_train_AOI_3_Paris_PS-RGB_img43.tif',\n",
       " 'SN3_roads_train_AOI_3_Paris_PS-RGB_img11.tif',\n",
       " 'SN3_roads_train_AOI_3_Paris_PS-RGB_img16.tif',\n",
       " 'SN3_roads_train_AOI_3_Paris_PS-RGB_img27.tif',\n",
       " 'SN3_roads_train_AOI_3_Paris_PS-RGB_img46.tif',\n",
       " 'SN3_roads_train_AOI_3_Paris_PS-RGB_img61.tif',\n",
       " 'SN3_roads_train_AOI_3_Paris_PS-RGB_img47.tif',\n",
       " 'SN3_roads_train_AOI_3_Paris_PS-RGB_img48.tif',\n",
       " 'SN3_roads_train_AOI_3_Paris_PS-RGB_img49.tif',\n",
       " 'SN3_roads_train_AOI_3_Paris_PS-RGB_img50.tif',\n",
       " 'SN3_roads_train_AOI_3_Paris_PS-RGB_img51.tif',\n",
       " 'SN3_roads_train_AOI_3_Paris_PS-RGB_img52.tif',\n",
       " 'SN3_roads_train_AOI_3_Paris_PS-RGB_img53.tif',\n",
       " 'SN3_roads_train_AOI_3_Paris_PS-RGB_img54.tif',\n",
       " 'SN3_roads_train_AOI_3_Paris_PS-RGB_img55.tif',\n",
       " 'SN3_roads_train_AOI_3_Paris_PS-RGB_img6.tif',\n",
       " 'SN3_roads_train_AOI_3_Paris_PS-RGB_img60.tif',\n",
       " 'SN3_roads_train_AOI_3_Paris_PS-RGB_img63.tif',\n",
       " 'SN3_roads_train_AOI_3_Paris_PS-RGB_img64.tif',\n",
       " 'SN3_roads_train_AOI_3_Paris_PS-RGB_img65.tif',\n",
       " 'SN3_roads_train_AOI_3_Paris_PS-RGB_img7.tif',\n",
       " 'SN3_roads_train_AOI_3_Paris_PS-RGB_img72.tif',\n",
       " 'SN3_roads_train_AOI_3_Paris_PS-RGB_img73.tif',\n",
       " 'SN3_roads_train_AOI_3_Paris_PS-RGB_img75.tif',\n",
       " 'SN3_roads_train_AOI_3_Paris_PS-RGB_img76.tif',\n",
       " 'SN3_roads_train_AOI_3_Paris_PS-RGB_img77.tif',\n",
       " 'SN3_roads_train_AOI_3_Paris_PS-RGB_img80.tif',\n",
       " 'SN3_roads_train_AOI_3_Paris_PS-RGB_img81.tif',\n",
       " 'SN3_roads_train_AOI_3_Paris_PS-RGB_img9.tif',\n",
       " 'SN3_roads_train_AOI_3_Paris_PS-RGB_img14.tif',\n",
       " 'SN3_roads_train_AOI_3_Paris_PS-RGB_img15.tif',\n",
       " 'SN3_roads_train_AOI_3_Paris_PS-RGB_img17.tif',\n",
       " 'SN3_roads_train_AOI_3_Paris_PS-RGB_img18.tif',\n",
       " 'SN3_roads_train_AOI_3_Paris_PS-RGB_img19.tif',\n",
       " 'SN3_roads_train_AOI_3_Paris_PS-RGB_img20.tif',\n",
       " 'SN3_roads_train_AOI_3_Paris_PS-RGB_img21.tif',\n",
       " 'SN3_roads_train_AOI_3_Paris_PS-RGB_img23.tif',\n",
       " 'SN3_roads_train_AOI_3_Paris_PS-RGB_img24.tif',\n",
       " 'SN3_roads_train_AOI_3_Paris_PS-RGB_img26.tif',\n",
       " 'SN3_roads_train_AOI_4_Shanghai_MS_img10.tif',\n",
       " 'SN3_roads_train_AOI_4_Shanghai_MS_img30.tif',\n",
       " 'SN3_roads_train_AOI_4_Shanghai_MS_img32.tif',\n",
       " 'SN3_roads_train_AOI_4_Shanghai_MS_img33.tif',\n",
       " 'SN3_roads_train_AOI_4_Shanghai_MS_img37.tif',\n",
       " 'SN3_roads_train_AOI_4_Shanghai_MS_img38.tif',\n",
       " 'SN3_roads_train_AOI_4_Shanghai_MS_img4.tif',\n",
       " 'SN3_roads_train_AOI_4_Shanghai_MS_img41.tif',\n",
       " 'SN3_roads_train_AOI_4_Shanghai_MS_img44.tif',\n",
       " 'SN3_roads_train_AOI_4_Shanghai_MS_img47.tif',\n",
       " 'SN3_roads_train_AOI_4_Shanghai_MS_img5.tif',\n",
       " 'SN3_roads_train_AOI_4_Shanghai_MS_img50.tif',\n",
       " 'SN3_roads_train_AOI_4_Shanghai_MS_img52.tif',\n",
       " 'SN3_roads_train_AOI_4_Shanghai_MS_img54.tif',\n",
       " 'SN3_roads_train_AOI_4_Shanghai_MS_img56.tif',\n",
       " 'SN3_roads_train_AOI_4_Shanghai_MS_img57.tif',\n",
       " 'SN3_roads_train_AOI_4_Shanghai_MS_img58.tif',\n",
       " 'SN3_roads_train_AOI_4_Shanghai_MS_img6.tif',\n",
       " 'SN3_roads_train_AOI_4_Shanghai_MS_img60.tif',\n",
       " 'SN3_roads_train_AOI_4_Shanghai_MS_img64.tif',\n",
       " 'SN3_roads_train_AOI_4_Shanghai_MS_img65.tif',\n",
       " 'SN3_roads_train_AOI_4_Shanghai_MS_img67.tif',\n",
       " 'SN3_roads_train_AOI_4_Shanghai_MS_img7.tif',\n",
       " 'SN3_roads_train_AOI_4_Shanghai_MS_img74.tif',\n",
       " 'SN3_roads_train_AOI_4_Shanghai_MS_img75.tif',\n",
       " 'SN3_roads_train_AOI_4_Shanghai_MS_img77.tif',\n",
       " 'SN3_roads_train_AOI_4_Shanghai_MS_img79.tif',\n",
       " 'SN3_roads_train_AOI_4_Shanghai_MS_img8.tif',\n",
       " 'SN3_roads_train_AOI_4_Shanghai_MS_img81.tif',\n",
       " 'SN3_roads_train_AOI_4_Shanghai_MS_img85.tif',\n",
       " 'SN3_roads_train_AOI_4_Shanghai_MS_img87.tif',\n",
       " 'SN3_roads_train_AOI_4_Shanghai_MS_img89.tif',\n",
       " 'SN3_roads_train_AOI_4_Shanghai_MS_img90.tif',\n",
       " 'SN3_roads_train_AOI_4_Shanghai_MS_img91.tif',\n",
       " 'SN3_roads_train_AOI_4_Shanghai_MS_img92.tif',\n",
       " 'SN3_roads_train_AOI_4_Shanghai_MS_img13.tif',\n",
       " 'SN3_roads_train_AOI_4_Shanghai_MS_img3.tif',\n",
       " 'SN3_roads_train_AOI_4_Shanghai_MS_img51.tif',\n",
       " 'SN3_roads_train_AOI_4_Shanghai_MS_img73.tif',\n",
       " 'SN3_roads_train_AOI_4_Shanghai_MS_img15.tif',\n",
       " 'SN3_roads_train_AOI_4_Shanghai_MS_img16.tif',\n",
       " 'SN3_roads_train_AOI_4_Shanghai_MS_img17.tif',\n",
       " 'SN3_roads_train_AOI_4_Shanghai_MS_img19.tif',\n",
       " 'SN3_roads_train_AOI_4_Shanghai_MS_img2.tif',\n",
       " 'SN3_roads_train_AOI_4_Shanghai_MS_img21.tif',\n",
       " 'SN3_roads_train_AOI_4_Shanghai_MS_img22.tif',\n",
       " 'SN3_roads_train_AOI_4_Shanghai_MS_img23.tif',\n",
       " 'SN3_roads_train_AOI_4_Shanghai_MS_img25.tif',\n",
       " 'SN3_roads_train_AOI_4_Shanghai_MS_img27.tif',\n",
       " 'SN3_roads_train_AOI_4_Shanghai_MS_img29.tif',\n",
       " 'SN3_roads_train_AOI_4_Shanghai_PS-MS_img10.tif',\n",
       " 'SN3_roads_train_AOI_4_Shanghai_PS-MS_img3.tif',\n",
       " 'SN3_roads_train_AOI_4_Shanghai_PS-MS_img30.tif',\n",
       " 'SN3_roads_train_AOI_4_Shanghai_PS-MS_img32.tif',\n",
       " 'SN3_roads_train_AOI_4_Shanghai_PS-MS_img33.tif',\n",
       " 'SN3_roads_train_AOI_4_Shanghai_PS-MS_img37.tif',\n",
       " 'SN3_roads_train_AOI_4_Shanghai_PS-MS_img38.tif',\n",
       " 'SN3_roads_train_AOI_4_Shanghai_PS-MS_img4.tif',\n",
       " 'SN3_roads_train_AOI_4_Shanghai_PS-MS_img41.tif',\n",
       " 'SN3_roads_train_AOI_4_Shanghai_PS-MS_img44.tif',\n",
       " 'SN3_roads_train_AOI_4_Shanghai_PS-MS_img47.tif',\n",
       " 'SN3_roads_train_AOI_4_Shanghai_PS-MS_img5.tif',\n",
       " 'SN3_roads_train_AOI_4_Shanghai_PS-MS_img13.tif',\n",
       " 'SN3_roads_train_AOI_4_Shanghai_PS-MS_img29.tif',\n",
       " 'SN3_roads_train_AOI_4_Shanghai_PS-MS_img50.tif',\n",
       " 'SN3_roads_train_AOI_4_Shanghai_PS-MS_img7.tif',\n",
       " 'SN3_roads_train_AOI_4_Shanghai_PS-MS_img51.tif',\n",
       " 'SN3_roads_train_AOI_4_Shanghai_PS-MS_img52.tif',\n",
       " 'SN3_roads_train_AOI_4_Shanghai_PS-MS_img54.tif',\n",
       " 'SN3_roads_train_AOI_4_Shanghai_PS-MS_img56.tif',\n",
       " 'SN3_roads_train_AOI_4_Shanghai_PS-MS_img57.tif',\n",
       " 'SN3_roads_train_AOI_4_Shanghai_PS-MS_img58.tif',\n",
       " 'SN3_roads_train_AOI_4_Shanghai_PS-MS_img6.tif',\n",
       " 'SN3_roads_train_AOI_4_Shanghai_PS-MS_img60.tif',\n",
       " 'SN3_roads_train_AOI_4_Shanghai_PS-MS_img64.tif',\n",
       " 'SN3_roads_train_AOI_4_Shanghai_PS-MS_img65.tif',\n",
       " 'SN3_roads_train_AOI_4_Shanghai_PS-MS_img67.tif',\n",
       " 'SN3_roads_train_AOI_4_Shanghai_PS-MS_img73.tif',\n",
       " 'SN3_roads_train_AOI_4_Shanghai_PS-MS_img74.tif',\n",
       " 'SN3_roads_train_AOI_4_Shanghai_PS-MS_img75.tif',\n",
       " 'SN3_roads_train_AOI_4_Shanghai_PS-MS_img77.tif',\n",
       " 'SN3_roads_train_AOI_4_Shanghai_PS-MS_img79.tif',\n",
       " 'SN3_roads_train_AOI_4_Shanghai_PS-MS_img8.tif',\n",
       " 'SN3_roads_train_AOI_4_Shanghai_PS-MS_img81.tif',\n",
       " 'SN3_roads_train_AOI_4_Shanghai_PS-MS_img85.tif',\n",
       " 'SN3_roads_train_AOI_4_Shanghai_PS-MS_img87.tif',\n",
       " 'SN3_roads_train_AOI_4_Shanghai_PS-MS_img89.tif',\n",
       " 'SN3_roads_train_AOI_4_Shanghai_PS-MS_img90.tif',\n",
       " 'SN3_roads_train_AOI_4_Shanghai_PS-MS_img91.tif',\n",
       " 'SN3_roads_train_AOI_4_Shanghai_PS-MS_img92.tif',\n",
       " 'SN3_roads_train_AOI_4_Shanghai_PS-MS_img15.tif',\n",
       " 'SN3_roads_train_AOI_4_Shanghai_PS-MS_img16.tif',\n",
       " 'SN3_roads_train_AOI_4_Shanghai_PS-MS_img17.tif',\n",
       " 'SN3_roads_train_AOI_4_Shanghai_PS-MS_img19.tif',\n",
       " 'SN3_roads_train_AOI_4_Shanghai_PS-MS_img2.tif',\n",
       " 'SN3_roads_train_AOI_4_Shanghai_PS-MS_img21.tif',\n",
       " 'SN3_roads_train_AOI_4_Shanghai_PS-MS_img22.tif',\n",
       " 'SN3_roads_train_AOI_4_Shanghai_PS-MS_img23.tif',\n",
       " 'SN3_roads_train_AOI_4_Shanghai_PS-MS_img25.tif',\n",
       " 'SN3_roads_train_AOI_4_Shanghai_PS-MS_img27.tif',\n",
       " 'SN3_roads_train_AOI_4_Shanghai_PAN_img10.tif',\n",
       " 'SN3_roads_train_AOI_4_Shanghai_PAN_img15.tif',\n",
       " 'SN3_roads_train_AOI_4_Shanghai_PAN_img16.tif',\n",
       " 'SN3_roads_train_AOI_4_Shanghai_PAN_img32.tif',\n",
       " 'SN3_roads_train_AOI_4_Shanghai_PAN_img33.tif',\n",
       " 'SN3_roads_train_AOI_4_Shanghai_PAN_img37.tif',\n",
       " 'SN3_roads_train_AOI_4_Shanghai_PAN_img38.tif',\n",
       " 'SN3_roads_train_AOI_4_Shanghai_PAN_img4.tif',\n",
       " 'SN3_roads_train_AOI_4_Shanghai_PAN_img41.tif',\n",
       " 'SN3_roads_train_AOI_4_Shanghai_PAN_img44.tif',\n",
       " 'SN3_roads_train_AOI_4_Shanghai_PAN_img47.tif',\n",
       " 'SN3_roads_train_AOI_4_Shanghai_PAN_img5.tif',\n",
       " 'SN3_roads_train_AOI_4_Shanghai_PAN_img50.tif',\n",
       " 'SN3_roads_train_AOI_4_Shanghai_PAN_img51.tif',\n",
       " 'SN3_roads_train_AOI_4_Shanghai_PAN_img13.tif',\n",
       " 'SN3_roads_train_AOI_4_Shanghai_PAN_img17.tif',\n",
       " 'SN3_roads_train_AOI_4_Shanghai_PAN_img30.tif',\n",
       " 'SN3_roads_train_AOI_4_Shanghai_PAN_img52.tif',\n",
       " 'SN3_roads_train_AOI_4_Shanghai_PAN_img74.tif',\n",
       " 'SN3_roads_train_AOI_4_Shanghai_PAN_img54.tif',\n",
       " 'SN3_roads_train_AOI_4_Shanghai_PAN_img56.tif',\n",
       " 'SN3_roads_train_AOI_4_Shanghai_PAN_img57.tif',\n",
       " 'SN3_roads_train_AOI_4_Shanghai_PAN_img58.tif',\n",
       " 'SN3_roads_train_AOI_4_Shanghai_PAN_img6.tif',\n",
       " 'SN3_roads_train_AOI_4_Shanghai_PAN_img60.tif',\n",
       " 'SN3_roads_train_AOI_4_Shanghai_PAN_img64.tif',\n",
       " 'SN3_roads_train_AOI_4_Shanghai_PAN_img65.tif',\n",
       " 'SN3_roads_train_AOI_4_Shanghai_PAN_img67.tif',\n",
       " 'SN3_roads_train_AOI_4_Shanghai_PAN_img7.tif',\n",
       " 'SN3_roads_train_AOI_4_Shanghai_PAN_img73.tif',\n",
       " 'SN3_roads_train_AOI_4_Shanghai_PAN_img75.tif',\n",
       " 'SN3_roads_train_AOI_4_Shanghai_PAN_img77.tif',\n",
       " 'SN3_roads_train_AOI_4_Shanghai_PAN_img79.tif',\n",
       " 'SN3_roads_train_AOI_4_Shanghai_PAN_img8.tif',\n",
       " 'SN3_roads_train_AOI_4_Shanghai_PAN_img81.tif',\n",
       " 'SN3_roads_train_AOI_4_Shanghai_PAN_img85.tif',\n",
       " 'SN3_roads_train_AOI_4_Shanghai_PAN_img87.tif',\n",
       " 'SN3_roads_train_AOI_4_Shanghai_PAN_img89.tif',\n",
       " 'SN3_roads_train_AOI_4_Shanghai_PAN_img90.tif',\n",
       " 'SN3_roads_train_AOI_4_Shanghai_PAN_img91.tif',\n",
       " 'SN3_roads_train_AOI_4_Shanghai_PAN_img92.tif',\n",
       " 'SN3_roads_train_AOI_4_Shanghai_PAN_img19.tif',\n",
       " 'SN3_roads_train_AOI_4_Shanghai_PAN_img2.tif',\n",
       " 'SN3_roads_train_AOI_4_Shanghai_PAN_img21.tif',\n",
       " 'SN3_roads_train_AOI_4_Shanghai_PAN_img22.tif',\n",
       " 'SN3_roads_train_AOI_4_Shanghai_PAN_img23.tif',\n",
       " 'SN3_roads_train_AOI_4_Shanghai_PAN_img25.tif',\n",
       " 'SN3_roads_train_AOI_4_Shanghai_PAN_img27.tif',\n",
       " 'SN3_roads_train_AOI_4_Shanghai_PAN_img29.tif',\n",
       " 'SN3_roads_train_AOI_4_Shanghai_PAN_img3.tif',\n",
       " 'SN3_roads_train_AOI_4_Shanghai_PS-RGB_img10.tif',\n",
       " 'SN3_roads_train_AOI_4_Shanghai_PS-RGB_img30.tif',\n",
       " 'SN3_roads_train_AOI_4_Shanghai_PS-RGB_img32.tif',\n",
       " 'SN3_roads_train_AOI_4_Shanghai_PS-RGB_img33.tif',\n",
       " 'SN3_roads_train_AOI_4_Shanghai_PS-RGB_img37.tif',\n",
       " 'SN3_roads_train_AOI_4_Shanghai_PS-RGB_img38.tif',\n",
       " 'SN3_roads_train_AOI_4_Shanghai_PS-RGB_img4.tif',\n",
       " 'SN3_roads_train_AOI_4_Shanghai_PS-RGB_img41.tif',\n",
       " 'SN3_roads_train_AOI_4_Shanghai_PS-RGB_img44.tif',\n",
       " 'SN3_roads_train_AOI_4_Shanghai_PS-RGB_img47.tif',\n",
       " 'SN3_roads_train_AOI_4_Shanghai_PS-RGB_img5.tif',\n",
       " 'SN3_roads_train_AOI_4_Shanghai_PS-RGB_img50.tif',\n",
       " 'SN3_roads_train_AOI_4_Shanghai_PS-RGB_img13.tif',\n",
       " 'SN3_roads_train_AOI_4_Shanghai_PS-RGB_img3.tif',\n",
       " 'SN3_roads_train_AOI_4_Shanghai_PS-RGB_img51.tif',\n",
       " 'SN3_roads_train_AOI_4_Shanghai_PS-RGB_img73.tif',\n",
       " 'SN3_roads_train_AOI_4_Shanghai_PS-RGB_img52.tif',\n",
       " 'SN3_roads_train_AOI_4_Shanghai_PS-RGB_img54.tif',\n",
       " 'SN3_roads_train_AOI_4_Shanghai_PS-RGB_img56.tif',\n",
       " 'SN3_roads_train_AOI_4_Shanghai_PS-RGB_img57.tif',\n",
       " 'SN3_roads_train_AOI_4_Shanghai_PS-RGB_img58.tif',\n",
       " 'SN3_roads_train_AOI_4_Shanghai_PS-RGB_img6.tif',\n",
       " 'SN3_roads_train_AOI_4_Shanghai_PS-RGB_img60.tif',\n",
       " 'SN3_roads_train_AOI_4_Shanghai_PS-RGB_img64.tif',\n",
       " 'SN3_roads_train_AOI_4_Shanghai_PS-RGB_img65.tif',\n",
       " 'SN3_roads_train_AOI_4_Shanghai_PS-RGB_img67.tif',\n",
       " 'SN3_roads_train_AOI_4_Shanghai_PS-RGB_img7.tif',\n",
       " 'SN3_roads_train_AOI_4_Shanghai_PS-RGB_img74.tif',\n",
       " 'SN3_roads_train_AOI_4_Shanghai_PS-RGB_img75.tif',\n",
       " 'SN3_roads_train_AOI_4_Shanghai_PS-RGB_img77.tif',\n",
       " 'SN3_roads_train_AOI_4_Shanghai_PS-RGB_img79.tif',\n",
       " 'SN3_roads_train_AOI_4_Shanghai_PS-RGB_img8.tif',\n",
       " 'SN3_roads_train_AOI_4_Shanghai_PS-RGB_img81.tif',\n",
       " 'SN3_roads_train_AOI_4_Shanghai_PS-RGB_img85.tif',\n",
       " 'SN3_roads_train_AOI_4_Shanghai_PS-RGB_img87.tif',\n",
       " 'SN3_roads_train_AOI_4_Shanghai_PS-RGB_img89.tif',\n",
       " 'SN3_roads_train_AOI_4_Shanghai_PS-RGB_img90.tif',\n",
       " 'SN3_roads_train_AOI_4_Shanghai_PS-RGB_img91.tif',\n",
       " 'SN3_roads_train_AOI_4_Shanghai_PS-RGB_img92.tif',\n",
       " 'SN3_roads_train_AOI_4_Shanghai_PS-RGB_img15.tif',\n",
       " 'SN3_roads_train_AOI_4_Shanghai_PS-RGB_img16.tif',\n",
       " 'SN3_roads_train_AOI_4_Shanghai_PS-RGB_img17.tif',\n",
       " 'SN3_roads_train_AOI_4_Shanghai_PS-RGB_img19.tif',\n",
       " 'SN3_roads_train_AOI_4_Shanghai_PS-RGB_img2.tif',\n",
       " 'SN3_roads_train_AOI_4_Shanghai_PS-RGB_img21.tif',\n",
       " 'SN3_roads_train_AOI_4_Shanghai_PS-RGB_img22.tif',\n",
       " 'SN3_roads_train_AOI_4_Shanghai_PS-RGB_img23.tif',\n",
       " 'SN3_roads_train_AOI_4_Shanghai_PS-RGB_img25.tif',\n",
       " 'SN3_roads_train_AOI_4_Shanghai_PS-RGB_img27.tif',\n",
       " 'SN3_roads_train_AOI_4_Shanghai_PS-RGB_img29.tif']"
      ]
     },
     "execution_count": 19,
     "metadata": {},
     "output_type": "execute_result"
    }
   ],
   "source": [
    "img_files "
   ]
  },
  {
   "cell_type": "code",
   "execution_count": 29,
   "metadata": {},
   "outputs": [
    {
     "data": {
      "text/plain": [
       "['MUL_', '_2_Vegas_img7']"
      ]
     },
     "execution_count": 29,
     "metadata": {},
     "output_type": "execute_result"
    }
   ],
   "source": [
    "a1 = 'MUL_AOI_2_Vegas_img7'\n",
    "a1.split('AOI')"
   ]
  },
  {
   "cell_type": "code",
   "execution_count": 22,
   "metadata": {},
   "outputs": [],
   "source": [
    "def create_binary_mask(input_data):\n",
    "    img_path = input_data[0]  \n",
    "    img_folder = input_data[1]\n",
    "    img_subfolder = input_data[2]\n",
    "    img_file = input_data[3]\n",
    " \n",
    "    # create paths for masks and 8bit images\n",
    "    \n",
    "                                                                                  #spacenetroads_AOI_2_Vegas_img1.geojson\n",
    "                                                                                  #img_file = MUL_AOI_2_Vegas_img1.tif\n",
    "                                                                                \n",
    "                                                                                # [:-3] or [0:-3] everything except the last 3 items\n",
    "    label_file = os.path.join(path_prefix,img_folder,'geojson/spacenetroads','spacenetroads_AOI'+img_file.split('AOI')[1][0:-3]+'geojson')\n",
    "    bit8_folder = os.path.join(path_prefix,img_folder,img_subfolder+'_8bit')\n",
    "    bit8_path = os.path.join(bit8_folder,img_file)\n",
    "    mask_folder = os.path.join(path_prefix,img_folder,img_subfolder+'_mask')\n",
    "    mask_path = os.path.join(mask_folder,img_file[:-3])+'png'\n",
    "    vis_folder = os.path.join(path_prefix,img_folder,img_subfolder+'_vis')\n",
    "    vis_path = os.path.join(vis_folder,img_file[:-3])+'png'\n",
    "    \n",
    "    # print(label_file)\n",
    "    # create the necessary folders and remove the existing files\n",
    "    \n",
    "    if not os.path.exists(bit8_folder):\n",
    "        os.mkdir(bit8_folder)\n",
    "    if not os.path.exists(mask_folder):\n",
    "        os.mkdir(mask_folder)\n",
    "    if not os.path.exists(vis_folder):\n",
    "        os.mkdir(vis_folder)        \n",
    "    if os.path.isfile(vis_path):\n",
    "        os.remove(vis_path)\n",
    "    if os.path.isfile(bit8_path):\n",
    "        os.remove(bit8_path)        \n",
    "    if os.path.isfile(mask_path):\n",
    "        os.remove(mask_path)\n",
    "    if os.path.isfile(mask_path[:-3]+'jpg'):\n",
    "        os.remove(mask_path[:-3]+'jpg')               \n",
    "    \n",
    "    try:\n",
    "        # convert images to 8-bit\n",
    "        convert_to_8Bit(img_path, \n",
    "                        bit8_path,\n",
    "                        outputPixType='Byte',\n",
    "                        outputFormat='GTiff',\n",
    "                        rescale_type='rescale',\n",
    "                        percentiles=[2,98])\n",
    "\n",
    "        # create masks\n",
    "        # note that though the output raster file has .png extension\n",
    "        # in reality I delete this file and save only jpg version later\n",
    "\n",
    "        mask, gdf_buffer = get_road_buffer(geoJson = label_file,\n",
    "                                          im_vis_file = bit8_path, \n",
    "                                          output_raster = mask_path, \n",
    "                                          buffer_meters= buffer_meters, \n",
    "                                          burnValue= burnValue, \n",
    "                                          bufferRoundness=6, \n",
    "                                          plot_file=vis_path, # this indicates that no visualization plot is required \n",
    "                                          figsize= (6,6),\n",
    "                                          fontsize=8,\n",
    "                                          dpi=200,\n",
    "                                          show_plot=False, \n",
    "                                          verbose=False)\n",
    "\n",
    "        # read the png file, save it as jpeg and \n",
    "        mask = imread(mask_path)\n",
    "        imsave(fname=mask_path[:-3]+'jpg',arr = mask)\n",
    "        mask_max = np.max(mask) \n",
    "        del mask\n",
    "        # remove the png file, but keep the 8-bit mask\n",
    "        os.remove(mask_path)\n",
    "    except BaseException as e:\n",
    "        print(str(e))\n",
    "        mask_max = -1\n",
    "        \n",
    "    return [label_file,bit8_folder,bit8_path,mask_folder,mask_path[:-3]+'jpg',img_path,img_folder,img_subfolder,img_file,mask_max]\n"
   ]
  },
  {
   "cell_type": "code",
   "execution_count": 24,
   "metadata": {},
   "outputs": [
    {
     "data": {
      "text/plain": [
       "('data/AOI_2_Vegas_Roads_Train/MUL/MUL_AOI_2_Vegas_img34.tif',\n",
       " 'AOI_2_Vegas_Roads_Train',\n",
       " 'MUL',\n",
       " 'MUL_AOI_2_Vegas_img34.tif')"
      ]
     },
     "execution_count": 24,
     "metadata": {},
     "output_type": "execute_result"
    }
   ],
   "source": [
    "input_data[0] "
   ]
  },
  {
   "cell_type": "code",
   "execution_count": 26,
   "metadata": {},
   "outputs": [
    {
     "data": {
      "text/plain": [
       "('data/AOI_2_Vegas_Roads_Train/MUL/MUL_AOI_2_Vegas_img51.tif',\n",
       " 'AOI_2_Vegas_Roads_Train',\n",
       " 'MUL',\n",
       " 'MUL_AOI_2_Vegas_img51.tif')"
      ]
     },
     "execution_count": 26,
     "metadata": {},
     "output_type": "execute_result"
    }
   ],
   "source": [
    "input_data[1] "
   ]
  },
  {
   "cell_type": "code",
   "execution_count": 10,
   "metadata": {},
   "outputs": [],
   "source": [
    "def get_road_buffer(geoJson, im_vis_file, output_raster, \n",
    "                              buffer_meters=2, burnValue=1, \n",
    "                              bufferRoundness=6, \n",
    "                              plot_file='', figsize=(6,6), fontsize=6,\n",
    "                              dpi=800, show_plot=False, \n",
    "                              verbose=False):    \n",
    "    '''\n",
    "    Get buffer around roads defined by geojson and image files.\n",
    "    Calls create_buffer_geopandas() and gdf_to_array().\n",
    "    Assumes in_vis_file is an 8-bit RGB file.\n",
    "    Returns geodataframe and ouptut mask.\n",
    "    '''\n",
    "\n",
    "    gdf_buffer = create_buffer_geopandas(geoJson,\n",
    "                                         bufferDistanceMeters=buffer_meters,\n",
    "                                         bufferRoundness=bufferRoundness, \n",
    "                                         projectToUTM=True)    \n",
    "\n",
    "    \n",
    "    # create label image\n",
    "    if len(gdf_buffer) == 0:\n",
    "        mask_gray = np.zeros(cv2.imread(im_vis_file,0).shape)\n",
    "        cv2.imwrite(output_raster, mask_gray)        \n",
    "    else:\n",
    "        gdf_to_array(gdf_buffer, im_vis_file, output_raster, \n",
    "                                          burnValue=burnValue)\n",
    "    \n",
    "    # load mask\n",
    "    mask_gray = cv2.imread(output_raster, 0)\n",
    "    \n",
    "    # make plots\n",
    "    if plot_file:\n",
    "        # plot all in a line\n",
    "        if (figsize[0] != figsize[1]):\n",
    "            fig, (ax0, ax1, ax2, ax3) = plt.subplots(1,4, figsize=figsize)#(13,4))\n",
    "        # else, plot a 2 x 2 grid\n",
    "        else:\n",
    "            fig, ((ax0, ax1), (ax2, ax3)) = plt.subplots(2,2, figsize=figsize)\n",
    "    \n",
    "        # road lines\n",
    "        try:\n",
    "            gdfRoadLines = gpd.read_file(geoJson)\n",
    "            gdfRoadLines.plot(ax=ax0, marker='o', color='red')\n",
    "        except:\n",
    "            ax0.imshow(mask_gray)\n",
    "        ax0.axis('off')\n",
    "        ax0.set_aspect('equal')\n",
    "        ax0.set_title('Roads from GeoJson', fontsize=fontsize)\n",
    "                \n",
    "        # first show raw image\n",
    "        im_vis = cv2.imread(im_vis_file, 1)\n",
    "        img_mpl = cv2.cvtColor(im_vis, cv2.COLOR_BGR2RGB)\n",
    "        ax1.imshow(img_mpl)\n",
    "        ax1.axis('off')\n",
    "        ax1.set_title('8-bit RGB Image', fontsize=fontsize)\n",
    "        \n",
    "        # plot mask\n",
    "        ax2.imshow(mask_gray)\n",
    "        ax2.axis('off')\n",
    "        ax2.set_title('Roads Mask (' + str(np.round(buffer_meters)) \\\n",
    "                                   + ' meter buffer)', fontsize=fontsize)\n",
    "     \n",
    "        # plot combined\n",
    "        ax3.imshow(img_mpl)    \n",
    "        # overlay mask\n",
    "        # set zeros to nan\n",
    "        z = mask_gray.astype(float)\n",
    "        z[z==0] = np.nan\n",
    "        # change palette to orange\n",
    "        palette = plt.cm.gray\n",
    "        #palette.set_over('yellow', 0.9)\n",
    "        palette.set_over('lime', 0.9)\n",
    "        ax3.imshow(z, cmap=palette, alpha=0.66, \n",
    "                norm=matplotlib.colors.Normalize(vmin=0.5, vmax=0.9, clip=False))\n",
    "        ax3.set_title('8-bit RGB Image + Buffered Roads', fontsize=fontsize) \n",
    "        ax3.axis('off')\n",
    "        \n",
    "        #plt.axes().set_aspect('equal', 'datalim')\n",
    "\n",
    "        plt.tight_layout()\n",
    "        plt.savefig(plot_file, dpi=dpi)\n",
    "        if not show_plot:\n",
    "            plt.close()\n",
    "            \n",
    "    return mask_gray, gdf_buffer"
   ]
  },
  {
   "cell_type": "code",
   "execution_count": 11,
   "metadata": {},
   "outputs": [],
   "source": [
    "def create_buffer_geopandas(geoJsonFileName,\n",
    "                            bufferDistanceMeters=2, \n",
    "                            bufferRoundness=1,\n",
    "                            projectToUTM=True):\n",
    "    '''\n",
    "    Create a buffer around the lines of the geojson. \n",
    "    Return a geodataframe.\n",
    "    '''\n",
    "    \n",
    "    inGDF = gpd.read_file(geoJsonFileName)\n",
    "    \n",
    "    # set a few columns that we will need later\n",
    "    inGDF['type'] = inGDF['road_type'].values            \n",
    "    inGDF['class'] = 'highway'  \n",
    "    inGDF['highway'] = 'highway'  \n",
    "    \n",
    "    if len(inGDF) == 0:\n",
    "        return [], []\n",
    "\n",
    "    # Transform gdf Roadlines into UTM so that Buffer makes sense\n",
    "    if projectToUTM:\n",
    "        tmpGDF = ox.project_gdf(inGDF)\n",
    "    else:\n",
    "        tmpGDF = inGDF\n",
    "\n",
    "    gdf_utm_buffer = tmpGDF\n",
    "\n",
    "    # perform Buffer to produce polygons from Line Segments\n",
    "    gdf_utm_buffer['geometry'] = tmpGDF.buffer(bufferDistanceMeters,\n",
    "                                                bufferRoundness)\n",
    "\n",
    "    gdf_utm_dissolve = gdf_utm_buffer.dissolve(by='class')\n",
    "    gdf_utm_dissolve.crs = gdf_utm_buffer.crs\n",
    "\n",
    "    if projectToUTM:\n",
    "        gdf_buffer = gdf_utm_dissolve.to_crs(inGDF.crs)\n",
    "    else:\n",
    "        gdf_buffer = gdf_utm_dissolve\n",
    "\n",
    "    return gdf_buffer"
   ]
  },
  {
   "cell_type": "code",
   "execution_count": 12,
   "metadata": {},
   "outputs": [],
   "source": [
    "def gdf_to_array(gdf, im_file, output_raster, burnValue=150):\n",
    "    \n",
    "    '''\n",
    "    Turn geodataframe to array, save as image file with non-null pixels \n",
    "    set to burnValue\n",
    "    '''\n",
    "\n",
    "    NoData_value = 0      # -9999\n",
    "\n",
    "    gdata = gdal.Open(im_file)\n",
    "    \n",
    "    # set target info\n",
    "    target_ds = gdal.GetDriverByName('GTiff').Create(output_raster, \n",
    "                                                     gdata.RasterXSize, \n",
    "                                                     gdata.RasterYSize, 1, gdal.GDT_Byte)\n",
    "    target_ds.SetGeoTransform(gdata.GetGeoTransform())\n",
    "    \n",
    "    # set raster info\n",
    "    raster_srs = osr.SpatialReference()\n",
    "    raster_srs.ImportFromWkt(gdata.GetProjectionRef())\n",
    "    target_ds.SetProjection(raster_srs.ExportToWkt())\n",
    "    \n",
    "    band = target_ds.GetRasterBand(1)\n",
    "    band.SetNoDataValue(NoData_value)\n",
    "    \n",
    "    outdriver=ogr.GetDriverByName('MEMORY')\n",
    "    outDataSource=outdriver.CreateDataSource('memData')\n",
    "    tmp=outdriver.Open('memData',1)\n",
    "    outLayer = outDataSource.CreateLayer(\"states_extent\", raster_srs, \n",
    "                                         geom_type=ogr.wkbMultiPolygon)\n",
    "    # burn\n",
    "    burnField = \"burn\"\n",
    "    idField = ogr.FieldDefn(burnField, ogr.OFTInteger)\n",
    "    outLayer.CreateField(idField)\n",
    "    featureDefn = outLayer.GetLayerDefn()\n",
    "    for geomShape in gdf['geometry'].values:\n",
    "        \n",
    "        outFeature = ogr.Feature(featureDefn)\n",
    "        outFeature.SetGeometry(ogr.CreateGeometryFromWkt(geomShape.wkt))\n",
    "        outFeature.SetField(burnField, burnValue)\n",
    "        outLayer.CreateFeature(outFeature)\n",
    "        outFeature = 0\n",
    "    \n",
    "    gdal.RasterizeLayer(target_ds, [1], outLayer, burn_values=[burnValue])\n",
    "    outLayer = 0\n",
    "    outDatSource = 0\n",
    "    tmp = 0\n",
    "        \n",
    "    return \n"
   ]
  },
  {
   "cell_type": "code",
   "execution_count": 13,
   "metadata": {},
   "outputs": [],
   "source": [
    "def convert_to_8Bit(inputRaster, outputRaster,\n",
    "                           outputPixType='Byte',\n",
    "                           outputFormat='GTiff',\n",
    "                           rescale_type='rescale',\n",
    "                           percentiles=[2, 98]):\n",
    "    '''\n",
    "    Convert 16bit image to 8bit\n",
    "    rescale_type = [clip, rescale]\n",
    "        if clip, scaling is done strictly between 0 65535 \n",
    "        if rescale, each band is rescaled to a min and max \n",
    "        set by percentiles\n",
    "    '''\n",
    "\n",
    "    srcRaster = gdal.Open(inputRaster)\n",
    "    cmd = ['gdal_translate', '-ot', outputPixType, '-of', \n",
    "           outputFormat]\n",
    "    \n",
    "    # iterate through bands\n",
    "    for bandId in range(srcRaster.RasterCount):\n",
    "        bandId = bandId+1\n",
    "        band = srcRaster.GetRasterBand(bandId)\n",
    "        if rescale_type == 'rescale':\n",
    "            bmin = band.GetMinimum()        \n",
    "            bmax = band.GetMaximum()\n",
    "            # if not exist minimum and maximum values\n",
    "            if bmin is None or bmax is None:\n",
    "                (bmin, bmax) = band.ComputeRasterMinMax(1)\n",
    "            # else, rescale\n",
    "            band_arr_tmp = band.ReadAsArray()\n",
    "            bmin = np.percentile(band_arr_tmp.flatten(), \n",
    "                                 percentiles[0])\n",
    "            bmax= np.percentile(band_arr_tmp.flatten(), \n",
    "                                percentiles[1])\n",
    "\n",
    "        else:\n",
    "            bmin, bmax = 0, 65535\n",
    "\n",
    "        cmd.append('-scale_{}'.format(bandId))\n",
    "        cmd.append('{}'.format(bmin))\n",
    "        cmd.append('{}'.format(bmax))\n",
    "        cmd.append('{}'.format(0))\n",
    "        cmd.append('{}'.format(255))\n",
    "\n",
    "    cmd.append(inputRaster)\n",
    "    cmd.append(outputRaster)\n",
    "    # print(\"Conversin command:\", cmd)\n",
    "    subprocess.call(cmd)\n",
    "    \n",
    "    return\n",
    "\n"
   ]
  },
  {
   "cell_type": "code",
   "execution_count": 16,
   "metadata": {},
   "outputs": [
    {
     "name": "stderr",
     "output_type": "stream",
     "text": [
      "\n",
      "\n",
      "  0%|          | 0/750 [00:00<?, ?it/s]\u001b[A\u001b[A/home/prativa/anaconda3/envs/py36/lib/python3.6/site-packages/pyproj/crs/crs.py:53: FutureWarning: '+init=<authority>:<code>' syntax is deprecated. '<authority>:<code>' is the preferred initialization method. When making the change, be mindful of axis order changes: https://pyproj4.github.io/pyproj/stable/gotchas.html#axis-order-changes-in-proj-6\n",
      "  return _prepare_from_string(\" \".join(pjargs))\n",
      "/home/prativa/anaconda3/envs/py36/lib/python3.6/site-packages/pyproj/crs/crs.py:53: FutureWarning: '+init=<authority>:<code>' syntax is deprecated. '<authority>:<code>' is the preferred initialization method. When making the change, be mindful of axis order changes: https://pyproj4.github.io/pyproj/stable/gotchas.html#axis-order-changes-in-proj-6\n",
      "  return _prepare_from_string(\" \".join(pjargs))\n",
      "/home/prativa/anaconda3/envs/py36/lib/python3.6/site-packages/pyproj/crs/crs.py:53: FutureWarning: '+init=<authority>:<code>' syntax is deprecated. '<authority>:<code>' is the preferred initialization method. When making the change, be mindful of axis order changes: https://pyproj4.github.io/pyproj/stable/gotchas.html#axis-order-changes-in-proj-6\n",
      "  return _prepare_from_string(\" \".join(pjargs))\n",
      "/home/prativa/anaconda3/envs/py36/lib/python3.6/site-packages/pyproj/crs/crs.py:53: FutureWarning: '+init=<authority>:<code>' syntax is deprecated. '<authority>:<code>' is the preferred initialization method. When making the change, be mindful of axis order changes: https://pyproj4.github.io/pyproj/stable/gotchas.html#axis-order-changes-in-proj-6\n",
      "  return _prepare_from_string(\" \".join(pjargs))\n",
      "/home/prativa/anaconda3/envs/py36/lib/python3.6/site-packages/pyproj/crs/crs.py:53: FutureWarning: '+init=<authority>:<code>' syntax is deprecated. '<authority>:<code>' is the preferred initialization method. When making the change, be mindful of axis order changes: https://pyproj4.github.io/pyproj/stable/gotchas.html#axis-order-changes-in-proj-6\n",
      "  return _prepare_from_string(\" \".join(pjargs))\n",
      "/home/prativa/anaconda3/envs/py36/lib/python3.6/site-packages/pyproj/crs/crs.py:53: FutureWarning: '+init=<authority>:<code>' syntax is deprecated. '<authority>:<code>' is the preferred initialization method. When making the change, be mindful of axis order changes: https://pyproj4.github.io/pyproj/stable/gotchas.html#axis-order-changes-in-proj-6\n",
      "  return _prepare_from_string(\" \".join(pjargs))\n",
      "/home/prativa/anaconda3/envs/py36/lib/python3.6/site-packages/pyproj/crs/crs.py:53: FutureWarning: '+init=<authority>:<code>' syntax is deprecated. '<authority>:<code>' is the preferred initialization method. When making the change, be mindful of axis order changes: https://pyproj4.github.io/pyproj/stable/gotchas.html#axis-order-changes-in-proj-6\n",
      "  return _prepare_from_string(\" \".join(pjargs))\n",
      "/home/prativa/anaconda3/envs/py36/lib/python3.6/site-packages/pyproj/crs/crs.py:53: FutureWarning: '+init=<authority>:<code>' syntax is deprecated. '<authority>:<code>' is the preferred initialization method. When making the change, be mindful of axis order changes: https://pyproj4.github.io/pyproj/stable/gotchas.html#axis-order-changes-in-proj-6\n",
      "  return _prepare_from_string(\" \".join(pjargs))\n",
      "/home/prativa/anaconda3/envs/py36/lib/python3.6/site-packages/pyproj/crs/crs.py:53: FutureWarning: '+init=<authority>:<code>' syntax is deprecated. '<authority>:<code>' is the preferred initialization method. When making the change, be mindful of axis order changes: https://pyproj4.github.io/pyproj/stable/gotchas.html#axis-order-changes-in-proj-6\n",
      "  return _prepare_from_string(\" \".join(pjargs))\n",
      "/home/prativa/anaconda3/envs/py36/lib/python3.6/site-packages/pyproj/crs/crs.py:53: FutureWarning: '+init=<authority>:<code>' syntax is deprecated. '<authority>:<code>' is the preferred initialization method. When making the change, be mindful of axis order changes: https://pyproj4.github.io/pyproj/stable/gotchas.html#axis-order-changes-in-proj-6\n",
      "  return _prepare_from_string(\" \".join(pjargs))\n",
      "/home/prativa/anaconda3/envs/py36/lib/python3.6/site-packages/pyproj/crs/crs.py:53: FutureWarning: '+init=<authority>:<code>' syntax is deprecated. '<authority>:<code>' is the preferred initialization method. When making the change, be mindful of axis order changes: https://pyproj4.github.io/pyproj/stable/gotchas.html#axis-order-changes-in-proj-6\n",
      "  return _prepare_from_string(\" \".join(pjargs))\n",
      "/home/prativa/anaconda3/envs/py36/lib/python3.6/site-packages/pyproj/crs/crs.py:53: FutureWarning: '+init=<authority>:<code>' syntax is deprecated. '<authority>:<code>' is the preferred initialization method. When making the change, be mindful of axis order changes: https://pyproj4.github.io/pyproj/stable/gotchas.html#axis-order-changes-in-proj-6\n",
      "  return _prepare_from_string(\" \".join(pjargs))\n",
      "/home/prativa/anaconda3/envs/py36/lib/python3.6/site-packages/pyproj/crs/crs.py:53: FutureWarning: '+init=<authority>:<code>' syntax is deprecated. '<authority>:<code>' is the preferred initialization method. When making the change, be mindful of axis order changes: https://pyproj4.github.io/pyproj/stable/gotchas.html#axis-order-changes-in-proj-6\n",
      "  return _prepare_from_string(\" \".join(pjargs))\n",
      "/home/prativa/anaconda3/envs/py36/lib/python3.6/site-packages/pyproj/crs/crs.py:53: FutureWarning: '+init=<authority>:<code>' syntax is deprecated. '<authority>:<code>' is the preferred initialization method. When making the change, be mindful of axis order changes: https://pyproj4.github.io/pyproj/stable/gotchas.html#axis-order-changes-in-proj-6\n",
      "  return _prepare_from_string(\" \".join(pjargs))\n",
      "/home/prativa/anaconda3/envs/py36/lib/python3.6/site-packages/pyproj/crs/crs.py:53: FutureWarning: '+init=<authority>:<code>' syntax is deprecated. '<authority>:<code>' is the preferred initialization method. When making the change, be mindful of axis order changes: https://pyproj4.github.io/pyproj/stable/gotchas.html#axis-order-changes-in-proj-6\n",
      "  return _prepare_from_string(\" \".join(pjargs))\n",
      "/home/prativa/anaconda3/envs/py36/lib/python3.6/site-packages/pyproj/crs/crs.py:53: FutureWarning: '+init=<authority>:<code>' syntax is deprecated. '<authority>:<code>' is the preferred initialization method. When making the change, be mindful of axis order changes: https://pyproj4.github.io/pyproj/stable/gotchas.html#axis-order-changes-in-proj-6\n",
      "  return _prepare_from_string(\" \".join(pjargs))\n",
      "/home/prativa/anaconda3/envs/py36/lib/python3.6/site-packages/pyproj/crs/crs.py:53: FutureWarning: '+init=<authority>:<code>' syntax is deprecated. '<authority>:<code>' is the preferred initialization method. When making the change, be mindful of axis order changes: https://pyproj4.github.io/pyproj/stable/gotchas.html#axis-order-changes-in-proj-6\n",
      "  return _prepare_from_string(\" \".join(pjargs))\n",
      "/home/prativa/anaconda3/envs/py36/lib/python3.6/site-packages/pyproj/crs/crs.py:53: FutureWarning: '+init=<authority>:<code>' syntax is deprecated. '<authority>:<code>' is the preferred initialization method. When making the change, be mindful of axis order changes: https://pyproj4.github.io/pyproj/stable/gotchas.html#axis-order-changes-in-proj-6\n",
      "  return _prepare_from_string(\" \".join(pjargs))\n",
      "/home/prativa/anaconda3/envs/py36/lib/python3.6/site-packages/pyproj/crs/crs.py:53: FutureWarning: '+init=<authority>:<code>' syntax is deprecated. '<authority>:<code>' is the preferred initialization method. When making the change, be mindful of axis order changes: https://pyproj4.github.io/pyproj/stable/gotchas.html#axis-order-changes-in-proj-6\n",
      "  return _prepare_from_string(\" \".join(pjargs))\n",
      "/home/prativa/anaconda3/envs/py36/lib/python3.6/site-packages/pyproj/crs/crs.py:53: FutureWarning: '+init=<authority>:<code>' syntax is deprecated. '<authority>:<code>' is the preferred initialization method. When making the change, be mindful of axis order changes: https://pyproj4.github.io/pyproj/stable/gotchas.html#axis-order-changes-in-proj-6\n",
      "  return _prepare_from_string(\" \".join(pjargs))\n"
     ]
    },
    {
     "name": "stdout",
     "output_type": "stream",
     "text": [
      "OpenCV(4.1.0) /io/opencv/modules/imgproc/src/color.cpp:182: error: (-215:Assertion failed) !_src.empty() in function 'cvtColor'\n",
      "OpenCV(4.1.0) /io/opencv/modules/imgproc/src/color.cpp:182: error: (-215:Assertion failed) !_src.empty() in function 'cvtColor'\n",
      "\n",
      "OpenCV(4.1.0) /io/opencv/modules/imgproc/src/color.cpp:182: error: (-215:Assertion failed) !_src.empty() in function 'cvtColor'\n",
      "\n"
     ]
    },
    {
     "name": "stderr",
     "output_type": "stream",
     "text": [
      "\n",
      "\n",
      "  0%|          | 1/750 [00:00<09:57,  1.25it/s]\u001b[A\u001b[A"
     ]
    },
    {
     "name": "stdout",
     "output_type": "stream",
     "text": [
      "\n",
      "OpenCV(4.1.0) /io/opencv/modules/imgproc/src/color.cpp:182: error: (-215:Assertion failed) !_src.empty() in function 'cvtColor'\n",
      "\n",
      "OpenCV(4.1.0) /io/opencv/modules/imgproc/src/color.cpp:182: error: (-215:Assertion failed) !_src.empty() in function 'cvtColor'\n",
      "\n"
     ]
    },
    {
     "name": "stderr",
     "output_type": "stream",
     "text": [
      "/home/prativa/anaconda3/envs/py36/lib/python3.6/site-packages/pyproj/crs/crs.py:53: FutureWarning: '+init=<authority>:<code>' syntax is deprecated. '<authority>:<code>' is the preferred initialization method. When making the change, be mindful of axis order changes: https://pyproj4.github.io/pyproj/stable/gotchas.html#axis-order-changes-in-proj-6\n",
      "  return _prepare_from_string(\" \".join(pjargs))\n"
     ]
    },
    {
     "name": "stdout",
     "output_type": "stream",
     "text": [
      "OpenCV(4.1.0) /io/opencv/modules/imgproc/src/color.cpp:182: error: (-215:Assertion failed) !_src.empty() in function 'cvtColor'\n",
      "\n"
     ]
    },
    {
     "name": "stderr",
     "output_type": "stream",
     "text": [
      "/home/prativa/anaconda3/envs/py36/lib/python3.6/site-packages/pyproj/crs/crs.py:53: FutureWarning: '+init=<authority>:<code>' syntax is deprecated. '<authority>:<code>' is the preferred initialization method. When making the change, be mindful of axis order changes: https://pyproj4.github.io/pyproj/stable/gotchas.html#axis-order-changes-in-proj-6\n",
      "  return _prepare_from_string(\" \".join(pjargs))\n"
     ]
    },
    {
     "name": "stdout",
     "output_type": "stream",
     "text": [
      "OpenCV(4.1.0) /io/opencv/modules/imgproc/src/color.cpp:182: error: (-215:Assertion failed) !_src.empty() in function 'cvtColor'\n"
     ]
    },
    {
     "name": "stderr",
     "output_type": "stream",
     "text": [
      "/home/prativa/anaconda3/envs/py36/lib/python3.6/site-packages/pyproj/crs/crs.py:53: FutureWarning: '+init=<authority>:<code>' syntax is deprecated. '<authority>:<code>' is the preferred initialization method. When making the change, be mindful of axis order changes: https://pyproj4.github.io/pyproj/stable/gotchas.html#axis-order-changes-in-proj-6\n",
      "  return _prepare_from_string(\" \".join(pjargs))\n"
     ]
    },
    {
     "name": "stdout",
     "output_type": "stream",
     "text": [
      "\n",
      "OpenCV(4.1.0) /io/opencv/modules/imgproc/src/color.cpp:182: error: (-215:Assertion failed) !_src.empty() in function 'cvtColor'\n"
     ]
    },
    {
     "name": "stderr",
     "output_type": "stream",
     "text": [
      "/home/prativa/anaconda3/envs/py36/lib/python3.6/site-packages/pyproj/crs/crs.py:53: FutureWarning: '+init=<authority>:<code>' syntax is deprecated. '<authority>:<code>' is the preferred initialization method. When making the change, be mindful of axis order changes: https://pyproj4.github.io/pyproj/stable/gotchas.html#axis-order-changes-in-proj-6\n",
      "  return _prepare_from_string(\" \".join(pjargs))\n"
     ]
    },
    {
     "name": "stdout",
     "output_type": "stream",
     "text": [
      "\n",
      "OpenCV(4.1.0) /io/opencv/modules/imgproc/src/color.cpp:182: error: (-215:Assertion failed) !_src.empty() in function 'cvtColor'\n",
      "OpenCV(4.1.0) /io/opencv/modules/imgproc/src/color.cpp:182: error: (-215:Assertion failed) !_src.empty() in function 'cvtColor'\n",
      "\n"
     ]
    },
    {
     "name": "stderr",
     "output_type": "stream",
     "text": [
      "/home/prativa/anaconda3/envs/py36/lib/python3.6/site-packages/pyproj/crs/crs.py:53: FutureWarning: '+init=<authority>:<code>' syntax is deprecated. '<authority>:<code>' is the preferred initialization method. When making the change, be mindful of axis order changes: https://pyproj4.github.io/pyproj/stable/gotchas.html#axis-order-changes-in-proj-6\n",
      "  return _prepare_from_string(\" \".join(pjargs))\n",
      "\n",
      "\n",
      "  0%|          | 2/750 [00:01<07:51,  1.59it/s]\u001b[A\u001b[A"
     ]
    },
    {
     "name": "stdout",
     "output_type": "stream",
     "text": [
      "\n"
     ]
    },
    {
     "name": "stderr",
     "output_type": "stream",
     "text": [
      "/home/prativa/anaconda3/envs/py36/lib/python3.6/site-packages/pyproj/crs/crs.py:53: FutureWarning: '+init=<authority>:<code>' syntax is deprecated. '<authority>:<code>' is the preferred initialization method. When making the change, be mindful of axis order changes: https://pyproj4.github.io/pyproj/stable/gotchas.html#axis-order-changes-in-proj-6\n",
      "  return _prepare_from_string(\" \".join(pjargs))\n",
      "/home/prativa/anaconda3/envs/py36/lib/python3.6/site-packages/pyproj/crs/crs.py:53: FutureWarning: '+init=<authority>:<code>' syntax is deprecated. '<authority>:<code>' is the preferred initialization method. When making the change, be mindful of axis order changes: https://pyproj4.github.io/pyproj/stable/gotchas.html#axis-order-changes-in-proj-6\n",
      "  return _prepare_from_string(\" \".join(pjargs))\n",
      "/home/prativa/anaconda3/envs/py36/lib/python3.6/site-packages/pyproj/crs/crs.py:53: FutureWarning: '+init=<authority>:<code>' syntax is deprecated. '<authority>:<code>' is the preferred initialization method. When making the change, be mindful of axis order changes: https://pyproj4.github.io/pyproj/stable/gotchas.html#axis-order-changes-in-proj-6\n",
      "  return _prepare_from_string(\" \".join(pjargs))\n",
      "/home/prativa/anaconda3/envs/py36/lib/python3.6/site-packages/pyproj/crs/crs.py:53: FutureWarning: '+init=<authority>:<code>' syntax is deprecated. '<authority>:<code>' is the preferred initialization method. When making the change, be mindful of axis order changes: https://pyproj4.github.io/pyproj/stable/gotchas.html#axis-order-changes-in-proj-6\n",
      "  return _prepare_from_string(\" \".join(pjargs))\n",
      "/home/prativa/anaconda3/envs/py36/lib/python3.6/site-packages/pyproj/crs/crs.py:53: FutureWarning: '+init=<authority>:<code>' syntax is deprecated. '<authority>:<code>' is the preferred initialization method. When making the change, be mindful of axis order changes: https://pyproj4.github.io/pyproj/stable/gotchas.html#axis-order-changes-in-proj-6\n",
      "  return _prepare_from_string(\" \".join(pjargs))\n",
      "/home/prativa/anaconda3/envs/py36/lib/python3.6/site-packages/pyproj/crs/crs.py:53: FutureWarning: '+init=<authority>:<code>' syntax is deprecated. '<authority>:<code>' is the preferred initialization method. When making the change, be mindful of axis order changes: https://pyproj4.github.io/pyproj/stable/gotchas.html#axis-order-changes-in-proj-6\n",
      "  return _prepare_from_string(\" \".join(pjargs))\n",
      "/home/prativa/anaconda3/envs/py36/lib/python3.6/site-packages/pyproj/crs/crs.py:53: FutureWarning: '+init=<authority>:<code>' syntax is deprecated. '<authority>:<code>' is the preferred initialization method. When making the change, be mindful of axis order changes: https://pyproj4.github.io/pyproj/stable/gotchas.html#axis-order-changes-in-proj-6\n",
      "  return _prepare_from_string(\" \".join(pjargs))\n",
      "/home/prativa/anaconda3/envs/py36/lib/python3.6/site-packages/pyproj/crs/crs.py:53: FutureWarning: '+init=<authority>:<code>' syntax is deprecated. '<authority>:<code>' is the preferred initialization method. When making the change, be mindful of axis order changes: https://pyproj4.github.io/pyproj/stable/gotchas.html#axis-order-changes-in-proj-6\n",
      "  return _prepare_from_string(\" \".join(pjargs))\n",
      "/home/prativa/anaconda3/envs/py36/lib/python3.6/site-packages/pyproj/crs/crs.py:53: FutureWarning: '+init=<authority>:<code>' syntax is deprecated. '<authority>:<code>' is the preferred initialization method. When making the change, be mindful of axis order changes: https://pyproj4.github.io/pyproj/stable/gotchas.html#axis-order-changes-in-proj-6\n",
      "  return _prepare_from_string(\" \".join(pjargs))\n",
      "/home/prativa/anaconda3/envs/py36/lib/python3.6/site-packages/pyproj/crs/crs.py:53: FutureWarning: '+init=<authority>:<code>' syntax is deprecated. '<authority>:<code>' is the preferred initialization method. When making the change, be mindful of axis order changes: https://pyproj4.github.io/pyproj/stable/gotchas.html#axis-order-changes-in-proj-6\n",
      "  return _prepare_from_string(\" \".join(pjargs))\n",
      "/home/prativa/anaconda3/envs/py36/lib/python3.6/site-packages/pyproj/crs/crs.py:53: FutureWarning: '+init=<authority>:<code>' syntax is deprecated. '<authority>:<code>' is the preferred initialization method. When making the change, be mindful of axis order changes: https://pyproj4.github.io/pyproj/stable/gotchas.html#axis-order-changes-in-proj-6\n",
      "  return _prepare_from_string(\" \".join(pjargs))\n",
      "/home/prativa/anaconda3/envs/py36/lib/python3.6/site-packages/pyproj/crs/crs.py:53: FutureWarning: '+init=<authority>:<code>' syntax is deprecated. '<authority>:<code>' is the preferred initialization method. When making the change, be mindful of axis order changes: https://pyproj4.github.io/pyproj/stable/gotchas.html#axis-order-changes-in-proj-6\n",
      "  return _prepare_from_string(\" \".join(pjargs))\n",
      "/home/prativa/anaconda3/envs/py36/lib/python3.6/site-packages/pyproj/crs/crs.py:53: FutureWarning: '+init=<authority>:<code>' syntax is deprecated. '<authority>:<code>' is the preferred initialization method. When making the change, be mindful of axis order changes: https://pyproj4.github.io/pyproj/stable/gotchas.html#axis-order-changes-in-proj-6\n",
      "  return _prepare_from_string(\" \".join(pjargs))\n"
     ]
    },
    {
     "name": "stdout",
     "output_type": "stream",
     "text": [
      "OpenCV(4.1.0) /io/opencv/modules/imgproc/src/color.cpp:182: error: (-215:Assertion failed) !_src.empty() in function 'cvtColor'\n",
      "\n",
      "OpenCV(4.1.0) /io/opencv/modules/imgproc/src/color.cpp:182: error: (-215:Assertion failed) !_src.empty() in function 'cvtColor'\n",
      "\n",
      "OpenCV(4.1.0) /io/opencv/modules/imgproc/src/color.cpp:182: error: (-215:Assertion failed) !_src.empty() in function 'cvtColor'\n",
      "OpenCV(4.1.0) /io/opencv/modules/imgproc/src/color.cpp:182: error: (-215:Assertion failed) !_src.empty() in function 'cvtColor'\n"
     ]
    },
    {
     "name": "stderr",
     "output_type": "stream",
     "text": [
      "/home/prativa/anaconda3/envs/py36/lib/python3.6/site-packages/pyproj/crs/crs.py:53: FutureWarning: '+init=<authority>:<code>' syntax is deprecated. '<authority>:<code>' is the preferred initialization method. When making the change, be mindful of axis order changes: https://pyproj4.github.io/pyproj/stable/gotchas.html#axis-order-changes-in-proj-6\n",
      "  return _prepare_from_string(\" \".join(pjargs))\n"
     ]
    },
    {
     "name": "stdout",
     "output_type": "stream",
     "text": [
      "\n",
      "\n"
     ]
    },
    {
     "name": "stderr",
     "output_type": "stream",
     "text": [
      "/home/prativa/anaconda3/envs/py36/lib/python3.6/site-packages/pyproj/crs/crs.py:53: FutureWarning: '+init=<authority>:<code>' syntax is deprecated. '<authority>:<code>' is the preferred initialization method. When making the change, be mindful of axis order changes: https://pyproj4.github.io/pyproj/stable/gotchas.html#axis-order-changes-in-proj-6\n",
      "  return _prepare_from_string(\" \".join(pjargs))\n"
     ]
    },
    {
     "name": "stdout",
     "output_type": "stream",
     "text": [
      "OpenCV(4.1.0) /io/opencv/modules/imgproc/src/color.cpp:182: error: (-215:Assertion failed) !_src.empty() in function 'cvtColor'\n",
      "OpenCV(4.1.0) /io/opencv/modules/imgproc/src/color.cpp:182: error: (-215:Assertion failed) !_src.empty() in function 'cvtColor'\n",
      "\n"
     ]
    },
    {
     "name": "stderr",
     "output_type": "stream",
     "text": [
      "/home/prativa/anaconda3/envs/py36/lib/python3.6/site-packages/pyproj/crs/crs.py:53: FutureWarning: '+init=<authority>:<code>' syntax is deprecated. '<authority>:<code>' is the preferred initialization method. When making the change, be mindful of axis order changes: https://pyproj4.github.io/pyproj/stable/gotchas.html#axis-order-changes-in-proj-6\n",
      "  return _prepare_from_string(\" \".join(pjargs))\n"
     ]
    },
    {
     "name": "stdout",
     "output_type": "stream",
     "text": [
      "\n"
     ]
    },
    {
     "name": "stderr",
     "output_type": "stream",
     "text": [
      "\n",
      "\n",
      "  1%|▏         | 11/750 [00:01<05:42,  2.16it/s]\u001b[A\u001b[A"
     ]
    },
    {
     "name": "stdout",
     "output_type": "stream",
     "text": [
      "OpenCV(4.1.0) /io/opencv/modules/imgproc/src/color.cpp:182: error: (-215:Assertion failed) !_src.empty() in function 'cvtColor'\n"
     ]
    },
    {
     "name": "stderr",
     "output_type": "stream",
     "text": [
      "/home/prativa/anaconda3/envs/py36/lib/python3.6/site-packages/pyproj/crs/crs.py:53: FutureWarning: '+init=<authority>:<code>' syntax is deprecated. '<authority>:<code>' is the preferred initialization method. When making the change, be mindful of axis order changes: https://pyproj4.github.io/pyproj/stable/gotchas.html#axis-order-changes-in-proj-6\n",
      "  return _prepare_from_string(\" \".join(pjargs))\n"
     ]
    },
    {
     "name": "stdout",
     "output_type": "stream",
     "text": [
      "\n",
      "OpenCV(4.1.0) /io/opencv/modules/imgproc/src/color.cpp:182: error: (-215:Assertion failed) !_src.empty() in function 'cvtColor'\n",
      "\n",
      "'data/AOI_2_Vegas_Roads_Train/geojson/spacenetroads/spacenetroads_AOI_2_Vegas_img42.geojson' not recognized as a supported file format.\n"
     ]
    },
    {
     "name": "stderr",
     "output_type": "stream",
     "text": [
      "/home/prativa/anaconda3/envs/py36/lib/python3.6/site-packages/pyproj/crs/crs.py:53: FutureWarning: '+init=<authority>:<code>' syntax is deprecated. '<authority>:<code>' is the preferred initialization method. When making the change, be mindful of axis order changes: https://pyproj4.github.io/pyproj/stable/gotchas.html#axis-order-changes-in-proj-6\n",
      "  return _prepare_from_string(\" \".join(pjargs))\n",
      "/home/prativa/anaconda3/envs/py36/lib/python3.6/site-packages/pyproj/crs/crs.py:53: FutureWarning: '+init=<authority>:<code>' syntax is deprecated. '<authority>:<code>' is the preferred initialization method. When making the change, be mindful of axis order changes: https://pyproj4.github.io/pyproj/stable/gotchas.html#axis-order-changes-in-proj-6\n",
      "  return _prepare_from_string(\" \".join(pjargs))\n",
      "/home/prativa/anaconda3/envs/py36/lib/python3.6/site-packages/pyproj/crs/crs.py:53: FutureWarning: '+init=<authority>:<code>' syntax is deprecated. '<authority>:<code>' is the preferred initialization method. When making the change, be mindful of axis order changes: https://pyproj4.github.io/pyproj/stable/gotchas.html#axis-order-changes-in-proj-6\n",
      "  return _prepare_from_string(\" \".join(pjargs))\n"
     ]
    },
    {
     "name": "stdout",
     "output_type": "stream",
     "text": [
      "OpenCV(4.1.0) /io/opencv/modules/imgproc/src/color.cpp:182: error: (-215:Assertion failed) !_src.empty() in function 'cvtColor'\n"
     ]
    },
    {
     "name": "stderr",
     "output_type": "stream",
     "text": [
      "/home/prativa/anaconda3/envs/py36/lib/python3.6/site-packages/pyproj/crs/crs.py:53: FutureWarning: '+init=<authority>:<code>' syntax is deprecated. '<authority>:<code>' is the preferred initialization method. When making the change, be mindful of axis order changes: https://pyproj4.github.io/pyproj/stable/gotchas.html#axis-order-changes-in-proj-6\n",
      "  return _prepare_from_string(\" \".join(pjargs))\n",
      "/home/prativa/anaconda3/envs/py36/lib/python3.6/site-packages/pyproj/crs/crs.py:53: FutureWarning: '+init=<authority>:<code>' syntax is deprecated. '<authority>:<code>' is the preferred initialization method. When making the change, be mindful of axis order changes: https://pyproj4.github.io/pyproj/stable/gotchas.html#axis-order-changes-in-proj-6\n",
      "  return _prepare_from_string(\" \".join(pjargs))\n"
     ]
    },
    {
     "name": "stdout",
     "output_type": "stream",
     "text": [
      "OpenCV(4.1.0) /io/opencv/modules/imgproc/src/color.cpp:182: error: (-215:Assertion failed) !_src.empty() in function 'cvtColor'\n",
      "\n"
     ]
    },
    {
     "name": "stderr",
     "output_type": "stream",
     "text": [
      "/home/prativa/anaconda3/envs/py36/lib/python3.6/site-packages/pyproj/crs/crs.py:53: FutureWarning: '+init=<authority>:<code>' syntax is deprecated. '<authority>:<code>' is the preferred initialization method. When making the change, be mindful of axis order changes: https://pyproj4.github.io/pyproj/stable/gotchas.html#axis-order-changes-in-proj-6\n",
      "  return _prepare_from_string(\" \".join(pjargs))\n"
     ]
    },
    {
     "name": "stdout",
     "output_type": "stream",
     "text": [
      "\n"
     ]
    },
    {
     "name": "stderr",
     "output_type": "stream",
     "text": [
      "/home/prativa/anaconda3/envs/py36/lib/python3.6/site-packages/pyproj/crs/crs.py:53: FutureWarning: '+init=<authority>:<code>' syntax is deprecated. '<authority>:<code>' is the preferred initialization method. When making the change, be mindful of axis order changes: https://pyproj4.github.io/pyproj/stable/gotchas.html#axis-order-changes-in-proj-6\n",
      "  return _prepare_from_string(\" \".join(pjargs))\n",
      "\n",
      "\n",
      "  3%|▎         | 19/750 [00:01<04:04,  2.99it/s]\u001b[A\u001b[A/home/prativa/anaconda3/envs/py36/lib/python3.6/site-packages/pyproj/crs/crs.py:53: FutureWarning: '+init=<authority>:<code>' syntax is deprecated. '<authority>:<code>' is the preferred initialization method. When making the change, be mindful of axis order changes: https://pyproj4.github.io/pyproj/stable/gotchas.html#axis-order-changes-in-proj-6\n",
      "  return _prepare_from_string(\" \".join(pjargs))\n",
      "/home/prativa/anaconda3/envs/py36/lib/python3.6/site-packages/pyproj/crs/crs.py:53: FutureWarning: '+init=<authority>:<code>' syntax is deprecated. '<authority>:<code>' is the preferred initialization method. When making the change, be mindful of axis order changes: https://pyproj4.github.io/pyproj/stable/gotchas.html#axis-order-changes-in-proj-6\n",
      "  return _prepare_from_string(\" \".join(pjargs))\n",
      "/home/prativa/anaconda3/envs/py36/lib/python3.6/site-packages/pyproj/crs/crs.py:53: FutureWarning: '+init=<authority>:<code>' syntax is deprecated. '<authority>:<code>' is the preferred initialization method. When making the change, be mindful of axis order changes: https://pyproj4.github.io/pyproj/stable/gotchas.html#axis-order-changes-in-proj-6\n",
      "  return _prepare_from_string(\" \".join(pjargs))\n",
      "/home/prativa/anaconda3/envs/py36/lib/python3.6/site-packages/pyproj/crs/crs.py:53: FutureWarning: '+init=<authority>:<code>' syntax is deprecated. '<authority>:<code>' is the preferred initialization method. When making the change, be mindful of axis order changes: https://pyproj4.github.io/pyproj/stable/gotchas.html#axis-order-changes-in-proj-6\n",
      "  return _prepare_from_string(\" \".join(pjargs))\n",
      "/home/prativa/anaconda3/envs/py36/lib/python3.6/site-packages/pyproj/crs/crs.py:53: FutureWarning: '+init=<authority>:<code>' syntax is deprecated. '<authority>:<code>' is the preferred initialization method. When making the change, be mindful of axis order changes: https://pyproj4.github.io/pyproj/stable/gotchas.html#axis-order-changes-in-proj-6\n",
      "  return _prepare_from_string(\" \".join(pjargs))\n",
      "/home/prativa/anaconda3/envs/py36/lib/python3.6/site-packages/pyproj/crs/crs.py:53: FutureWarning: '+init=<authority>:<code>' syntax is deprecated. '<authority>:<code>' is the preferred initialization method. When making the change, be mindful of axis order changes: https://pyproj4.github.io/pyproj/stable/gotchas.html#axis-order-changes-in-proj-6\n",
      "  return _prepare_from_string(\" \".join(pjargs))\n",
      "/home/prativa/anaconda3/envs/py36/lib/python3.6/site-packages/pyproj/crs/crs.py:53: FutureWarning: '+init=<authority>:<code>' syntax is deprecated. '<authority>:<code>' is the preferred initialization method. When making the change, be mindful of axis order changes: https://pyproj4.github.io/pyproj/stable/gotchas.html#axis-order-changes-in-proj-6\n",
      "  return _prepare_from_string(\" \".join(pjargs))\n"
     ]
    },
    {
     "name": "stdout",
     "output_type": "stream",
     "text": [
      "OpenCV(4.1.0) /io/opencv/modules/imgproc/src/color.cpp:182: error: (-215:Assertion failed) !_src.empty() in function 'cvtColor'\n",
      "\n",
      "OpenCV(4.1.0) /io/opencv/modules/imgproc/src/color.cpp:182: error: (-215:Assertion failed) !_src.empty() in function 'cvtColor'\n"
     ]
    },
    {
     "name": "stderr",
     "output_type": "stream",
     "text": [
      "\n",
      "\n",
      "  3%|▎         | 21/750 [00:02<03:22,  3.60it/s]\u001b[A\u001b[A/home/prativa/anaconda3/envs/py36/lib/python3.6/site-packages/pyproj/crs/crs.py:53: FutureWarning: '+init=<authority>:<code>' syntax is deprecated. '<authority>:<code>' is the preferred initialization method. When making the change, be mindful of axis order changes: https://pyproj4.github.io/pyproj/stable/gotchas.html#axis-order-changes-in-proj-6\n",
      "  return _prepare_from_string(\" \".join(pjargs))\n"
     ]
    },
    {
     "name": "stdout",
     "output_type": "stream",
     "text": [
      "\n"
     ]
    },
    {
     "name": "stderr",
     "output_type": "stream",
     "text": [
      "/home/prativa/anaconda3/envs/py36/lib/python3.6/site-packages/pyproj/crs/crs.py:53: FutureWarning: '+init=<authority>:<code>' syntax is deprecated. '<authority>:<code>' is the preferred initialization method. When making the change, be mindful of axis order changes: https://pyproj4.github.io/pyproj/stable/gotchas.html#axis-order-changes-in-proj-6\n",
      "  return _prepare_from_string(\" \".join(pjargs))\n"
     ]
    },
    {
     "name": "stdout",
     "output_type": "stream",
     "text": [
      "OpenCV(4.1.0) /io/opencv/modules/imgproc/src/color.cpp:182: error: (-215:Assertion failed) !_src.empty() in function 'cvtColor'\n",
      "OpenCV(4.1.0) /io/opencv/modules/imgproc/src/color.cpp:182: error: (-215:Assertion failed) !_src.empty() in function 'cvtColor'\n",
      "\n"
     ]
    },
    {
     "name": "stderr",
     "output_type": "stream",
     "text": [
      "/home/prativa/anaconda3/envs/py36/lib/python3.6/site-packages/pyproj/crs/crs.py:53: FutureWarning: '+init=<authority>:<code>' syntax is deprecated. '<authority>:<code>' is the preferred initialization method. When making the change, be mindful of axis order changes: https://pyproj4.github.io/pyproj/stable/gotchas.html#axis-order-changes-in-proj-6\n",
      "  return _prepare_from_string(\" \".join(pjargs))\n",
      "\n",
      "\n",
      "  3%|▎         | 23/750 [00:02<02:44,  4.42it/s]\u001b[A\u001b[A/home/prativa/anaconda3/envs/py36/lib/python3.6/site-packages/pyproj/crs/crs.py:53: FutureWarning: '+init=<authority>:<code>' syntax is deprecated. '<authority>:<code>' is the preferred initialization method. When making the change, be mindful of axis order changes: https://pyproj4.github.io/pyproj/stable/gotchas.html#axis-order-changes-in-proj-6\n",
      "  return _prepare_from_string(\" \".join(pjargs))\n",
      "/home/prativa/anaconda3/envs/py36/lib/python3.6/site-packages/pyproj/crs/crs.py:53: FutureWarning: '+init=<authority>:<code>' syntax is deprecated. '<authority>:<code>' is the preferred initialization method. When making the change, be mindful of axis order changes: https://pyproj4.github.io/pyproj/stable/gotchas.html#axis-order-changes-in-proj-6\n",
      "  return _prepare_from_string(\" \".join(pjargs))\n"
     ]
    },
    {
     "name": "stdout",
     "output_type": "stream",
     "text": [
      "\n",
      "OpenCV(4.1.0) /io/opencv/modules/imgproc/src/color.cpp:182: error: (-215:Assertion failed) !_src.empty() in function 'cvtColor'\n"
     ]
    },
    {
     "name": "stderr",
     "output_type": "stream",
     "text": [
      "/home/prativa/anaconda3/envs/py36/lib/python3.6/site-packages/pyproj/crs/crs.py:53: FutureWarning: '+init=<authority>:<code>' syntax is deprecated. '<authority>:<code>' is the preferred initialization method. When making the change, be mindful of axis order changes: https://pyproj4.github.io/pyproj/stable/gotchas.html#axis-order-changes-in-proj-6\n",
      "  return _prepare_from_string(\" \".join(pjargs))\n"
     ]
    },
    {
     "name": "stdout",
     "output_type": "stream",
     "text": [
      "\n",
      "OpenCV(4.1.0) /io/opencv/modules/imgproc/src/color.cpp:182: error: (-215:Assertion failed) !_src.empty() in function 'cvtColor'\n",
      "OpenCV(4.1.0) /io/opencv/modules/imgproc/src/color.cpp:182: error: (-215:Assertion failed) !_src.empty() in function 'cvtColor'\n",
      "\n",
      "\n"
     ]
    },
    {
     "name": "stderr",
     "output_type": "stream",
     "text": [
      "\n",
      "\n",
      "  4%|▎         | 27/750 [00:02<02:02,  5.92it/s]\u001b[A\u001b[A/home/prativa/anaconda3/envs/py36/lib/python3.6/site-packages/pyproj/crs/crs.py:53: FutureWarning: '+init=<authority>:<code>' syntax is deprecated. '<authority>:<code>' is the preferred initialization method. When making the change, be mindful of axis order changes: https://pyproj4.github.io/pyproj/stable/gotchas.html#axis-order-changes-in-proj-6\n",
      "  return _prepare_from_string(\" \".join(pjargs))\n",
      "/home/prativa/anaconda3/envs/py36/lib/python3.6/site-packages/pyproj/crs/crs.py:53: FutureWarning: '+init=<authority>:<code>' syntax is deprecated. '<authority>:<code>' is the preferred initialization method. When making the change, be mindful of axis order changes: https://pyproj4.github.io/pyproj/stable/gotchas.html#axis-order-changes-in-proj-6\n",
      "  return _prepare_from_string(\" \".join(pjargs))\n"
     ]
    },
    {
     "name": "stdout",
     "output_type": "stream",
     "text": [
      "OpenCV(4.1.0) /io/opencv/modules/imgproc/src/color.cpp:182: error: (-215:Assertion failed) !_src.empty() in function 'cvtColor'\n"
     ]
    },
    {
     "name": "stderr",
     "output_type": "stream",
     "text": [
      "/home/prativa/anaconda3/envs/py36/lib/python3.6/site-packages/pyproj/crs/crs.py:53: FutureWarning: '+init=<authority>:<code>' syntax is deprecated. '<authority>:<code>' is the preferred initialization method. When making the change, be mindful of axis order changes: https://pyproj4.github.io/pyproj/stable/gotchas.html#axis-order-changes-in-proj-6\n",
      "  return _prepare_from_string(\" \".join(pjargs))\n"
     ]
    },
    {
     "name": "stdout",
     "output_type": "stream",
     "text": [
      "\n"
     ]
    },
    {
     "name": "stderr",
     "output_type": "stream",
     "text": [
      "\n",
      "\n",
      "  4%|▍         | 29/750 [00:02<01:38,  7.34it/s]\u001b[A\u001b[A/home/prativa/anaconda3/envs/py36/lib/python3.6/site-packages/pyproj/crs/crs.py:53: FutureWarning: '+init=<authority>:<code>' syntax is deprecated. '<authority>:<code>' is the preferred initialization method. When making the change, be mindful of axis order changes: https://pyproj4.github.io/pyproj/stable/gotchas.html#axis-order-changes-in-proj-6\n",
      "  return _prepare_from_string(\" \".join(pjargs))\n",
      "/home/prativa/anaconda3/envs/py36/lib/python3.6/site-packages/pyproj/crs/crs.py:53: FutureWarning: '+init=<authority>:<code>' syntax is deprecated. '<authority>:<code>' is the preferred initialization method. When making the change, be mindful of axis order changes: https://pyproj4.github.io/pyproj/stable/gotchas.html#axis-order-changes-in-proj-6\n",
      "  return _prepare_from_string(\" \".join(pjargs))\n"
     ]
    },
    {
     "name": "stdout",
     "output_type": "stream",
     "text": [
      "OpenCV(4.1.0) /io/opencv/modules/imgproc/src/color.cpp:182: error: (-215:Assertion failed) !_src.empty() in function 'cvtColor'\n",
      "\n"
     ]
    },
    {
     "name": "stderr",
     "output_type": "stream",
     "text": [
      "/home/prativa/anaconda3/envs/py36/lib/python3.6/site-packages/pyproj/crs/crs.py:53: FutureWarning: '+init=<authority>:<code>' syntax is deprecated. '<authority>:<code>' is the preferred initialization method. When making the change, be mindful of axis order changes: https://pyproj4.github.io/pyproj/stable/gotchas.html#axis-order-changes-in-proj-6\n",
      "  return _prepare_from_string(\" \".join(pjargs))\n",
      "/home/prativa/anaconda3/envs/py36/lib/python3.6/site-packages/pyproj/crs/crs.py:53: FutureWarning: '+init=<authority>:<code>' syntax is deprecated. '<authority>:<code>' is the preferred initialization method. When making the change, be mindful of axis order changes: https://pyproj4.github.io/pyproj/stable/gotchas.html#axis-order-changes-in-proj-6\n",
      "  return _prepare_from_string(\" \".join(pjargs))\n"
     ]
    },
    {
     "name": "stdout",
     "output_type": "stream",
     "text": [
      "OpenCV(4.1.0) /io/opencv/modules/imgproc/src/color.cpp:182: error: (-215:Assertion failed) !_src.empty() in function 'cvtColor'\n",
      "\n"
     ]
    },
    {
     "name": "stderr",
     "output_type": "stream",
     "text": [
      "\n",
      "\n",
      "  4%|▍         | 31/750 [00:02<01:22,  8.77it/s]\u001b[A\u001b[A/home/prativa/anaconda3/envs/py36/lib/python3.6/site-packages/pyproj/crs/crs.py:53: FutureWarning: '+init=<authority>:<code>' syntax is deprecated. '<authority>:<code>' is the preferred initialization method. When making the change, be mindful of axis order changes: https://pyproj4.github.io/pyproj/stable/gotchas.html#axis-order-changes-in-proj-6\n",
      "  return _prepare_from_string(\" \".join(pjargs))\n",
      "/home/prativa/anaconda3/envs/py36/lib/python3.6/site-packages/pyproj/crs/crs.py:53: FutureWarning: '+init=<authority>:<code>' syntax is deprecated. '<authority>:<code>' is the preferred initialization method. When making the change, be mindful of axis order changes: https://pyproj4.github.io/pyproj/stable/gotchas.html#axis-order-changes-in-proj-6\n",
      "  return _prepare_from_string(\" \".join(pjargs))\n",
      "/home/prativa/anaconda3/envs/py36/lib/python3.6/site-packages/pyproj/crs/crs.py:53: FutureWarning: '+init=<authority>:<code>' syntax is deprecated. '<authority>:<code>' is the preferred initialization method. When making the change, be mindful of axis order changes: https://pyproj4.github.io/pyproj/stable/gotchas.html#axis-order-changes-in-proj-6\n",
      "  return _prepare_from_string(\" \".join(pjargs))\n",
      "/home/prativa/anaconda3/envs/py36/lib/python3.6/site-packages/pyproj/crs/crs.py:53: FutureWarning: '+init=<authority>:<code>' syntax is deprecated. '<authority>:<code>' is the preferred initialization method. When making the change, be mindful of axis order changes: https://pyproj4.github.io/pyproj/stable/gotchas.html#axis-order-changes-in-proj-6\n",
      "  return _prepare_from_string(\" \".join(pjargs))\n",
      "/home/prativa/anaconda3/envs/py36/lib/python3.6/site-packages/pyproj/crs/crs.py:53: FutureWarning: '+init=<authority>:<code>' syntax is deprecated. '<authority>:<code>' is the preferred initialization method. When making the change, be mindful of axis order changes: https://pyproj4.github.io/pyproj/stable/gotchas.html#axis-order-changes-in-proj-6\n",
      "  return _prepare_from_string(\" \".join(pjargs))\n"
     ]
    },
    {
     "name": "stdout",
     "output_type": "stream",
     "text": [
      "OpenCV(4.1.0) /io/opencv/modules/imgproc/src/color.cpp:182: error: (-215:Assertion failed) !_src.empty() in function 'cvtColor'\n"
     ]
    },
    {
     "name": "stderr",
     "output_type": "stream",
     "text": [
      "/home/prativa/anaconda3/envs/py36/lib/python3.6/site-packages/pyproj/crs/crs.py:53: FutureWarning: '+init=<authority>:<code>' syntax is deprecated. '<authority>:<code>' is the preferred initialization method. When making the change, be mindful of axis order changes: https://pyproj4.github.io/pyproj/stable/gotchas.html#axis-order-changes-in-proj-6\n",
      "  return _prepare_from_string(\" \".join(pjargs))\n"
     ]
    },
    {
     "name": "stdout",
     "output_type": "stream",
     "text": [
      "\n"
     ]
    },
    {
     "name": "stderr",
     "output_type": "stream",
     "text": [
      "/home/prativa/anaconda3/envs/py36/lib/python3.6/site-packages/pyproj/crs/crs.py:53: FutureWarning: '+init=<authority>:<code>' syntax is deprecated. '<authority>:<code>' is the preferred initialization method. When making the change, be mindful of axis order changes: https://pyproj4.github.io/pyproj/stable/gotchas.html#axis-order-changes-in-proj-6\n",
      "  return _prepare_from_string(\" \".join(pjargs))\n",
      "/home/prativa/anaconda3/envs/py36/lib/python3.6/site-packages/pyproj/crs/crs.py:53: FutureWarning: '+init=<authority>:<code>' syntax is deprecated. '<authority>:<code>' is the preferred initialization method. When making the change, be mindful of axis order changes: https://pyproj4.github.io/pyproj/stable/gotchas.html#axis-order-changes-in-proj-6\n",
      "  return _prepare_from_string(\" \".join(pjargs))\n"
     ]
    },
    {
     "name": "stdout",
     "output_type": "stream",
     "text": [
      "OpenCV(4.1.0) /io/opencv/modules/imgproc/src/color.cpp:182: error: (-215:Assertion failed) !_src.empty() in function 'cvtColor'\n",
      "\n"
     ]
    },
    {
     "name": "stderr",
     "output_type": "stream",
     "text": [
      "\n",
      "\n",
      "  4%|▍         | 33/750 [00:03<01:30,  7.93it/s]\u001b[A\u001b[A/home/prativa/anaconda3/envs/py36/lib/python3.6/site-packages/pyproj/crs/crs.py:53: FutureWarning: '+init=<authority>:<code>' syntax is deprecated. '<authority>:<code>' is the preferred initialization method. When making the change, be mindful of axis order changes: https://pyproj4.github.io/pyproj/stable/gotchas.html#axis-order-changes-in-proj-6\n",
      "  return _prepare_from_string(\" \".join(pjargs))\n"
     ]
    },
    {
     "name": "stdout",
     "output_type": "stream",
     "text": [
      "OpenCV(4.1.0) /io/opencv/modules/imgproc/src/color.cpp:182: error: (-215:Assertion failed) !_src.empty() in function 'cvtColor'\n",
      "\n",
      "OpenCV(4.1.0) /io/opencv/modules/imgproc/src/color.cpp:182: error: (-215:Assertion failed) !_src.empty() in function 'cvtColor'\n"
     ]
    },
    {
     "name": "stderr",
     "output_type": "stream",
     "text": [
      "/home/prativa/anaconda3/envs/py36/lib/python3.6/site-packages/pyproj/crs/crs.py:53: FutureWarning: '+init=<authority>:<code>' syntax is deprecated. '<authority>:<code>' is the preferred initialization method. When making the change, be mindful of axis order changes: https://pyproj4.github.io/pyproj/stable/gotchas.html#axis-order-changes-in-proj-6\n",
      "  return _prepare_from_string(\" \".join(pjargs))\n"
     ]
    },
    {
     "name": "stdout",
     "output_type": "stream",
     "text": [
      "\n"
     ]
    },
    {
     "name": "stderr",
     "output_type": "stream",
     "text": [
      "/home/prativa/anaconda3/envs/py36/lib/python3.6/site-packages/pyproj/crs/crs.py:53: FutureWarning: '+init=<authority>:<code>' syntax is deprecated. '<authority>:<code>' is the preferred initialization method. When making the change, be mindful of axis order changes: https://pyproj4.github.io/pyproj/stable/gotchas.html#axis-order-changes-in-proj-6\n",
      "  return _prepare_from_string(\" \".join(pjargs))\n",
      "\n",
      "\n",
      "  5%|▍         | 35/750 [00:03<01:20,  8.89it/s]\u001b[A\u001b[A"
     ]
    },
    {
     "name": "stdout",
     "output_type": "stream",
     "text": [
      "OpenCV(4.1.0) /io/opencv/modules/imgproc/src/color.cpp:182: error: (-215:Assertion failed) !_src.empty() in function 'cvtColor'\n",
      "\n"
     ]
    },
    {
     "name": "stderr",
     "output_type": "stream",
     "text": [
      "/home/prativa/anaconda3/envs/py36/lib/python3.6/site-packages/pyproj/crs/crs.py:53: FutureWarning: '+init=<authority>:<code>' syntax is deprecated. '<authority>:<code>' is the preferred initialization method. When making the change, be mindful of axis order changes: https://pyproj4.github.io/pyproj/stable/gotchas.html#axis-order-changes-in-proj-6\n",
      "  return _prepare_from_string(\" \".join(pjargs))\n",
      "/home/prativa/anaconda3/envs/py36/lib/python3.6/site-packages/pyproj/crs/crs.py:53: FutureWarning: '+init=<authority>:<code>' syntax is deprecated. '<authority>:<code>' is the preferred initialization method. When making the change, be mindful of axis order changes: https://pyproj4.github.io/pyproj/stable/gotchas.html#axis-order-changes-in-proj-6\n",
      "  return _prepare_from_string(\" \".join(pjargs))\n"
     ]
    },
    {
     "name": "stdout",
     "output_type": "stream",
     "text": [
      "OpenCV(4.1.0) /io/opencv/modules/imgproc/src/color.cpp:182: error: (-215:Assertion failed) !_src.empty() in function 'cvtColor'\n",
      "\n"
     ]
    },
    {
     "name": "stderr",
     "output_type": "stream",
     "text": [
      "/home/prativa/anaconda3/envs/py36/lib/python3.6/site-packages/pyproj/crs/crs.py:53: FutureWarning: '+init=<authority>:<code>' syntax is deprecated. '<authority>:<code>' is the preferred initialization method. When making the change, be mindful of axis order changes: https://pyproj4.github.io/pyproj/stable/gotchas.html#axis-order-changes-in-proj-6\n",
      "  return _prepare_from_string(\" \".join(pjargs))\n"
     ]
    },
    {
     "name": "stdout",
     "output_type": "stream",
     "text": [
      "OpenCV(4.1.0) /io/opencv/modules/imgproc/src/color.cpp:182: error: (-215:Assertion failed) !_src.empty() in function 'cvtColor'\n",
      "OpenCV(4.1.0) /io/opencv/modules/imgproc/src/color.cpp:182: error: (-215:Assertion failed) !_src.empty() in function 'cvtColor'\n",
      "\n",
      "\n"
     ]
    },
    {
     "name": "stderr",
     "output_type": "stream",
     "text": [
      "/home/prativa/anaconda3/envs/py36/lib/python3.6/site-packages/pyproj/crs/crs.py:53: FutureWarning: '+init=<authority>:<code>' syntax is deprecated. '<authority>:<code>' is the preferred initialization method. When making the change, be mindful of axis order changes: https://pyproj4.github.io/pyproj/stable/gotchas.html#axis-order-changes-in-proj-6\n",
      "  return _prepare_from_string(\" \".join(pjargs))\n",
      "/home/prativa/anaconda3/envs/py36/lib/python3.6/site-packages/pyproj/crs/crs.py:53: FutureWarning: '+init=<authority>:<code>' syntax is deprecated. '<authority>:<code>' is the preferred initialization method. When making the change, be mindful of axis order changes: https://pyproj4.github.io/pyproj/stable/gotchas.html#axis-order-changes-in-proj-6\n",
      "  return _prepare_from_string(\" \".join(pjargs))\n",
      "\n",
      "\n",
      "  5%|▍         | 37/750 [00:03<01:27,  8.17it/s]\u001b[A\u001b[A/home/prativa/anaconda3/envs/py36/lib/python3.6/site-packages/pyproj/crs/crs.py:53: FutureWarning: '+init=<authority>:<code>' syntax is deprecated. '<authority>:<code>' is the preferred initialization method. When making the change, be mindful of axis order changes: https://pyproj4.github.io/pyproj/stable/gotchas.html#axis-order-changes-in-proj-6\n",
      "  return _prepare_from_string(\" \".join(pjargs))\n",
      "/home/prativa/anaconda3/envs/py36/lib/python3.6/site-packages/pyproj/crs/crs.py:53: FutureWarning: '+init=<authority>:<code>' syntax is deprecated. '<authority>:<code>' is the preferred initialization method. When making the change, be mindful of axis order changes: https://pyproj4.github.io/pyproj/stable/gotchas.html#axis-order-changes-in-proj-6\n",
      "  return _prepare_from_string(\" \".join(pjargs))\n",
      "/home/prativa/anaconda3/envs/py36/lib/python3.6/site-packages/pyproj/crs/crs.py:53: FutureWarning: '+init=<authority>:<code>' syntax is deprecated. '<authority>:<code>' is the preferred initialization method. When making the change, be mindful of axis order changes: https://pyproj4.github.io/pyproj/stable/gotchas.html#axis-order-changes-in-proj-6\n",
      "  return _prepare_from_string(\" \".join(pjargs))\n"
     ]
    },
    {
     "name": "stdout",
     "output_type": "stream",
     "text": [
      "OpenCV(4.1.0) /io/opencv/modules/imgproc/src/color.cpp:182: error: (-215:Assertion failed) !_src.empty() in function 'cvtColor'\n"
     ]
    },
    {
     "name": "stderr",
     "output_type": "stream",
     "text": [
      "/home/prativa/anaconda3/envs/py36/lib/python3.6/site-packages/pyproj/crs/crs.py:53: FutureWarning: '+init=<authority>:<code>' syntax is deprecated. '<authority>:<code>' is the preferred initialization method. When making the change, be mindful of axis order changes: https://pyproj4.github.io/pyproj/stable/gotchas.html#axis-order-changes-in-proj-6\n",
      "  return _prepare_from_string(\" \".join(pjargs))\n"
     ]
    },
    {
     "name": "stdout",
     "output_type": "stream",
     "text": [
      "\n"
     ]
    },
    {
     "name": "stderr",
     "output_type": "stream",
     "text": [
      "/home/prativa/anaconda3/envs/py36/lib/python3.6/site-packages/pyproj/crs/crs.py:53: FutureWarning: '+init=<authority>:<code>' syntax is deprecated. '<authority>:<code>' is the preferred initialization method. When making the change, be mindful of axis order changes: https://pyproj4.github.io/pyproj/stable/gotchas.html#axis-order-changes-in-proj-6\n",
      "  return _prepare_from_string(\" \".join(pjargs))\n",
      "/home/prativa/anaconda3/envs/py36/lib/python3.6/site-packages/pyproj/crs/crs.py:53: FutureWarning: '+init=<authority>:<code>' syntax is deprecated. '<authority>:<code>' is the preferred initialization method. When making the change, be mindful of axis order changes: https://pyproj4.github.io/pyproj/stable/gotchas.html#axis-order-changes-in-proj-6\n",
      "  return _prepare_from_string(\" \".join(pjargs))\n"
     ]
    },
    {
     "name": "stdout",
     "output_type": "stream",
     "text": [
      "OpenCV(4.1.0) /io/opencv/modules/imgproc/src/color.cpp:182: error: (-215:Assertion failed) !_src.empty() in function 'cvtColor'\n",
      "\n"
     ]
    },
    {
     "name": "stderr",
     "output_type": "stream",
     "text": [
      "\n",
      "\n",
      "  5%|▌         | 40/750 [00:03<01:19,  8.93it/s]\u001b[A\u001b[A/home/prativa/anaconda3/envs/py36/lib/python3.6/site-packages/pyproj/crs/crs.py:53: FutureWarning: '+init=<authority>:<code>' syntax is deprecated. '<authority>:<code>' is the preferred initialization method. When making the change, be mindful of axis order changes: https://pyproj4.github.io/pyproj/stable/gotchas.html#axis-order-changes-in-proj-6\n",
      "  return _prepare_from_string(\" \".join(pjargs))\n",
      "/home/prativa/anaconda3/envs/py36/lib/python3.6/site-packages/pyproj/crs/crs.py:53: FutureWarning: '+init=<authority>:<code>' syntax is deprecated. '<authority>:<code>' is the preferred initialization method. When making the change, be mindful of axis order changes: https://pyproj4.github.io/pyproj/stable/gotchas.html#axis-order-changes-in-proj-6\n",
      "  return _prepare_from_string(\" \".join(pjargs))\n"
     ]
    },
    {
     "name": "stdout",
     "output_type": "stream",
     "text": [
      "OpenCV(4.1.0) /io/opencv/modules/imgproc/src/color.cpp:182: error: (-215:Assertion failed) !_src.empty() in function 'cvtColor'\n"
     ]
    },
    {
     "name": "stderr",
     "output_type": "stream",
     "text": [
      "/home/prativa/anaconda3/envs/py36/lib/python3.6/site-packages/pyproj/crs/crs.py:53: FutureWarning: '+init=<authority>:<code>' syntax is deprecated. '<authority>:<code>' is the preferred initialization method. When making the change, be mindful of axis order changes: https://pyproj4.github.io/pyproj/stable/gotchas.html#axis-order-changes-in-proj-6\n",
      "  return _prepare_from_string(\" \".join(pjargs))\n",
      "/home/prativa/anaconda3/envs/py36/lib/python3.6/site-packages/pyproj/crs/crs.py:53: FutureWarning: '+init=<authority>:<code>' syntax is deprecated. '<authority>:<code>' is the preferred initialization method. When making the change, be mindful of axis order changes: https://pyproj4.github.io/pyproj/stable/gotchas.html#axis-order-changes-in-proj-6\n",
      "  return _prepare_from_string(\" \".join(pjargs))\n"
     ]
    },
    {
     "name": "stdout",
     "output_type": "stream",
     "text": [
      "\n"
     ]
    },
    {
     "name": "stderr",
     "output_type": "stream",
     "text": [
      "/home/prativa/anaconda3/envs/py36/lib/python3.6/site-packages/pyproj/crs/crs.py:53: FutureWarning: '+init=<authority>:<code>' syntax is deprecated. '<authority>:<code>' is the preferred initialization method. When making the change, be mindful of axis order changes: https://pyproj4.github.io/pyproj/stable/gotchas.html#axis-order-changes-in-proj-6\n",
      "  return _prepare_from_string(\" \".join(pjargs))\n"
     ]
    },
    {
     "name": "stdout",
     "output_type": "stream",
     "text": [
      "OpenCV(4.1.0) /io/opencv/modules/imgproc/src/color.cpp:182: error: (-215:Assertion failed) !_src.empty() in function 'cvtColor'\n"
     ]
    },
    {
     "name": "stderr",
     "output_type": "stream",
     "text": [
      "/home/prativa/anaconda3/envs/py36/lib/python3.6/site-packages/pyproj/crs/crs.py:53: FutureWarning: '+init=<authority>:<code>' syntax is deprecated. '<authority>:<code>' is the preferred initialization method. When making the change, be mindful of axis order changes: https://pyproj4.github.io/pyproj/stable/gotchas.html#axis-order-changes-in-proj-6\n",
      "  return _prepare_from_string(\" \".join(pjargs))\n"
     ]
    },
    {
     "name": "stdout",
     "output_type": "stream",
     "text": [
      "\n",
      "OpenCV(4.1.0) /io/opencv/modules/imgproc/src/color.cpp:182: error: (-215:Assertion failed) !_src.empty() in function 'cvtColor'\n",
      "\n"
     ]
    },
    {
     "name": "stderr",
     "output_type": "stream",
     "text": [
      "\n",
      "\n",
      "  6%|▌         | 42/750 [00:04<01:30,  7.84it/s]\u001b[A\u001b[A"
     ]
    },
    {
     "name": "stdout",
     "output_type": "stream",
     "text": [
      "OpenCV(4.1.0) /io/opencv/modules/imgproc/src/color.cpp:182: error: (-215:Assertion failed) !_src.empty() in function 'cvtColor'\n",
      "\n",
      "OpenCV(4.1.0) /io/opencv/modules/imgproc/src/color.cpp:182: error: (-215:Assertion failed) !_src.empty() in function 'cvtColor'\n",
      "\n"
     ]
    },
    {
     "name": "stderr",
     "output_type": "stream",
     "text": [
      "\n",
      "\n",
      "  6%|▌         | 45/750 [00:04<01:12,  9.72it/s]\u001b[A\u001b[A/home/prativa/anaconda3/envs/py36/lib/python3.6/site-packages/pyproj/crs/crs.py:53: FutureWarning: '+init=<authority>:<code>' syntax is deprecated. '<authority>:<code>' is the preferred initialization method. When making the change, be mindful of axis order changes: https://pyproj4.github.io/pyproj/stable/gotchas.html#axis-order-changes-in-proj-6\n",
      "  return _prepare_from_string(\" \".join(pjargs))\n"
     ]
    },
    {
     "name": "stdout",
     "output_type": "stream",
     "text": [
      "OpenCV(4.1.0) /io/opencv/modules/imgproc/src/color.cpp:182: error: (-215:Assertion failed) !_src.empty() in function 'cvtColor'\n",
      "\n",
      "OpenCV(4.1.0) /io/opencv/modules/imgproc/src/color.cpp:182: error: (-215:Assertion failed) !_src.empty() in function 'cvtColor'\n",
      "\n",
      "OpenCV(4.1.0) /io/opencv/modules/imgproc/src/color.cpp:182: error: (-215:Assertion failed) !_src.empty() in function 'cvtColor'\n",
      "\n"
     ]
    },
    {
     "name": "stderr",
     "output_type": "stream",
     "text": [
      "\n",
      "\n",
      "  6%|▋         | 48/750 [00:04<01:06, 10.55it/s]\u001b[A\u001b[A"
     ]
    },
    {
     "name": "stdout",
     "output_type": "stream",
     "text": [
      "OpenCV(4.1.0) /io/opencv/modules/imgproc/src/color.cpp:182: error: (-215:Assertion failed) !_src.empty() in function 'cvtColor'\n",
      "\n"
     ]
    },
    {
     "name": "stderr",
     "output_type": "stream",
     "text": [
      "\n",
      "\n",
      "  7%|▋         | 50/750 [00:04<01:10,  9.92it/s]\u001b[A\u001b[A/home/prativa/anaconda3/envs/py36/lib/python3.6/site-packages/pyproj/crs/crs.py:53: FutureWarning: '+init=<authority>:<code>' syntax is deprecated. '<authority>:<code>' is the preferred initialization method. When making the change, be mindful of axis order changes: https://pyproj4.github.io/pyproj/stable/gotchas.html#axis-order-changes-in-proj-6\n",
      "  return _prepare_from_string(\" \".join(pjargs))\n",
      "/home/prativa/anaconda3/envs/py36/lib/python3.6/site-packages/pyproj/crs/crs.py:53: FutureWarning: '+init=<authority>:<code>' syntax is deprecated. '<authority>:<code>' is the preferred initialization method. When making the change, be mindful of axis order changes: https://pyproj4.github.io/pyproj/stable/gotchas.html#axis-order-changes-in-proj-6\n",
      "  return _prepare_from_string(\" \".join(pjargs))\n",
      "/home/prativa/anaconda3/envs/py36/lib/python3.6/site-packages/pyproj/crs/crs.py:53: FutureWarning: '+init=<authority>:<code>' syntax is deprecated. '<authority>:<code>' is the preferred initialization method. When making the change, be mindful of axis order changes: https://pyproj4.github.io/pyproj/stable/gotchas.html#axis-order-changes-in-proj-6\n",
      "  return _prepare_from_string(\" \".join(pjargs))\n",
      "/home/prativa/anaconda3/envs/py36/lib/python3.6/site-packages/pyproj/crs/crs.py:53: FutureWarning: '+init=<authority>:<code>' syntax is deprecated. '<authority>:<code>' is the preferred initialization method. When making the change, be mindful of axis order changes: https://pyproj4.github.io/pyproj/stable/gotchas.html#axis-order-changes-in-proj-6\n",
      "  return _prepare_from_string(\" \".join(pjargs))\n",
      "/home/prativa/anaconda3/envs/py36/lib/python3.6/site-packages/pyproj/crs/crs.py:53: FutureWarning: '+init=<authority>:<code>' syntax is deprecated. '<authority>:<code>' is the preferred initialization method. When making the change, be mindful of axis order changes: https://pyproj4.github.io/pyproj/stable/gotchas.html#axis-order-changes-in-proj-6\n",
      "  return _prepare_from_string(\" \".join(pjargs))\n",
      "/home/prativa/anaconda3/envs/py36/lib/python3.6/site-packages/pyproj/crs/crs.py:53: FutureWarning: '+init=<authority>:<code>' syntax is deprecated. '<authority>:<code>' is the preferred initialization method. When making the change, be mindful of axis order changes: https://pyproj4.github.io/pyproj/stable/gotchas.html#axis-order-changes-in-proj-6\n",
      "  return _prepare_from_string(\" \".join(pjargs))\n",
      "/home/prativa/anaconda3/envs/py36/lib/python3.6/site-packages/pyproj/crs/crs.py:53: FutureWarning: '+init=<authority>:<code>' syntax is deprecated. '<authority>:<code>' is the preferred initialization method. When making the change, be mindful of axis order changes: https://pyproj4.github.io/pyproj/stable/gotchas.html#axis-order-changes-in-proj-6\n",
      "  return _prepare_from_string(\" \".join(pjargs))\n",
      "/home/prativa/anaconda3/envs/py36/lib/python3.6/site-packages/pyproj/crs/crs.py:53: FutureWarning: '+init=<authority>:<code>' syntax is deprecated. '<authority>:<code>' is the preferred initialization method. When making the change, be mindful of axis order changes: https://pyproj4.github.io/pyproj/stable/gotchas.html#axis-order-changes-in-proj-6\n",
      "  return _prepare_from_string(\" \".join(pjargs))\n",
      "/home/prativa/anaconda3/envs/py36/lib/python3.6/site-packages/pyproj/crs/crs.py:53: FutureWarning: '+init=<authority>:<code>' syntax is deprecated. '<authority>:<code>' is the preferred initialization method. When making the change, be mindful of axis order changes: https://pyproj4.github.io/pyproj/stable/gotchas.html#axis-order-changes-in-proj-6\n",
      "  return _prepare_from_string(\" \".join(pjargs))\n",
      "/home/prativa/anaconda3/envs/py36/lib/python3.6/site-packages/pyproj/crs/crs.py:53: FutureWarning: '+init=<authority>:<code>' syntax is deprecated. '<authority>:<code>' is the preferred initialization method. When making the change, be mindful of axis order changes: https://pyproj4.github.io/pyproj/stable/gotchas.html#axis-order-changes-in-proj-6\n",
      "  return _prepare_from_string(\" \".join(pjargs))\n"
     ]
    },
    {
     "name": "stdout",
     "output_type": "stream",
     "text": [
      "OpenCV(4.1.0) /io/opencv/modules/imgproc/src/color.cpp:182: error: (-215:Assertion failed) !_src.empty() in function 'cvtColor'\n"
     ]
    },
    {
     "name": "stderr",
     "output_type": "stream",
     "text": [
      "/home/prativa/anaconda3/envs/py36/lib/python3.6/site-packages/pyproj/crs/crs.py:53: FutureWarning: '+init=<authority>:<code>' syntax is deprecated. '<authority>:<code>' is the preferred initialization method. When making the change, be mindful of axis order changes: https://pyproj4.github.io/pyproj/stable/gotchas.html#axis-order-changes-in-proj-6\n",
      "  return _prepare_from_string(\" \".join(pjargs))\n"
     ]
    },
    {
     "name": "stdout",
     "output_type": "stream",
     "text": [
      "\n"
     ]
    },
    {
     "name": "stderr",
     "output_type": "stream",
     "text": [
      "/home/prativa/anaconda3/envs/py36/lib/python3.6/site-packages/pyproj/crs/crs.py:53: FutureWarning: '+init=<authority>:<code>' syntax is deprecated. '<authority>:<code>' is the preferred initialization method. When making the change, be mindful of axis order changes: https://pyproj4.github.io/pyproj/stable/gotchas.html#axis-order-changes-in-proj-6\n",
      "  return _prepare_from_string(\" \".join(pjargs))\n",
      "/home/prativa/anaconda3/envs/py36/lib/python3.6/site-packages/pyproj/crs/crs.py:53: FutureWarning: '+init=<authority>:<code>' syntax is deprecated. '<authority>:<code>' is the preferred initialization method. When making the change, be mindful of axis order changes: https://pyproj4.github.io/pyproj/stable/gotchas.html#axis-order-changes-in-proj-6\n",
      "  return _prepare_from_string(\" \".join(pjargs))\n",
      "/home/prativa/anaconda3/envs/py36/lib/python3.6/site-packages/pyproj/crs/crs.py:53: FutureWarning: '+init=<authority>:<code>' syntax is deprecated. '<authority>:<code>' is the preferred initialization method. When making the change, be mindful of axis order changes: https://pyproj4.github.io/pyproj/stable/gotchas.html#axis-order-changes-in-proj-6\n",
      "  return _prepare_from_string(\" \".join(pjargs))\n",
      "/home/prativa/anaconda3/envs/py36/lib/python3.6/site-packages/pyproj/crs/crs.py:53: FutureWarning: '+init=<authority>:<code>' syntax is deprecated. '<authority>:<code>' is the preferred initialization method. When making the change, be mindful of axis order changes: https://pyproj4.github.io/pyproj/stable/gotchas.html#axis-order-changes-in-proj-6\n",
      "  return _prepare_from_string(\" \".join(pjargs))\n",
      "/home/prativa/anaconda3/envs/py36/lib/python3.6/site-packages/pyproj/crs/crs.py:53: FutureWarning: '+init=<authority>:<code>' syntax is deprecated. '<authority>:<code>' is the preferred initialization method. When making the change, be mindful of axis order changes: https://pyproj4.github.io/pyproj/stable/gotchas.html#axis-order-changes-in-proj-6\n",
      "  return _prepare_from_string(\" \".join(pjargs))\n"
     ]
    },
    {
     "name": "stdout",
     "output_type": "stream",
     "text": [
      "OpenCV(4.1.0) /io/opencv/modules/imgproc/src/color.cpp:182: error: (-215:Assertion failed) !_src.empty() in function 'cvtColor'\n",
      "\n"
     ]
    },
    {
     "name": "stderr",
     "output_type": "stream",
     "text": [
      "/home/prativa/anaconda3/envs/py36/lib/python3.6/site-packages/pyproj/crs/crs.py:53: FutureWarning: '+init=<authority>:<code>' syntax is deprecated. '<authority>:<code>' is the preferred initialization method. When making the change, be mindful of axis order changes: https://pyproj4.github.io/pyproj/stable/gotchas.html#axis-order-changes-in-proj-6\n",
      "  return _prepare_from_string(\" \".join(pjargs))\n",
      "/home/prativa/anaconda3/envs/py36/lib/python3.6/site-packages/pyproj/crs/crs.py:53: FutureWarning: '+init=<authority>:<code>' syntax is deprecated. '<authority>:<code>' is the preferred initialization method. When making the change, be mindful of axis order changes: https://pyproj4.github.io/pyproj/stable/gotchas.html#axis-order-changes-in-proj-6\n",
      "  return _prepare_from_string(\" \".join(pjargs))\n"
     ]
    },
    {
     "name": "stdout",
     "output_type": "stream",
     "text": [
      "OpenCV(4.1.0) /io/opencv/modules/imgproc/src/color.cpp:182: error: (-215:Assertion failed) !_src.empty() in function 'cvtColor'\n",
      "\n"
     ]
    },
    {
     "name": "stderr",
     "output_type": "stream",
     "text": [
      "\n",
      "\n",
      "  7%|▋         | 52/750 [00:05<02:52,  4.05it/s]\u001b[A\u001b[A"
     ]
    },
    {
     "name": "stdout",
     "output_type": "stream",
     "text": [
      "OpenCV(4.1.0) /io/opencv/modules/imgproc/src/color.cpp:182: error: (-215:Assertion failed) !_src.empty() in function 'cvtColor'\n"
     ]
    },
    {
     "name": "stderr",
     "output_type": "stream",
     "text": [
      "/home/prativa/anaconda3/envs/py36/lib/python3.6/site-packages/pyproj/crs/crs.py:53: FutureWarning: '+init=<authority>:<code>' syntax is deprecated. '<authority>:<code>' is the preferred initialization method. When making the change, be mindful of axis order changes: https://pyproj4.github.io/pyproj/stable/gotchas.html#axis-order-changes-in-proj-6\n",
      "  return _prepare_from_string(\" \".join(pjargs))\n"
     ]
    },
    {
     "name": "stdout",
     "output_type": "stream",
     "text": [
      "\n"
     ]
    },
    {
     "name": "stderr",
     "output_type": "stream",
     "text": [
      "/home/prativa/anaconda3/envs/py36/lib/python3.6/site-packages/pyproj/crs/crs.py:53: FutureWarning: '+init=<authority>:<code>' syntax is deprecated. '<authority>:<code>' is the preferred initialization method. When making the change, be mindful of axis order changes: https://pyproj4.github.io/pyproj/stable/gotchas.html#axis-order-changes-in-proj-6\n",
      "  return _prepare_from_string(\" \".join(pjargs))\n"
     ]
    },
    {
     "name": "stdout",
     "output_type": "stream",
     "text": [
      "OpenCV(4.1.0) /io/opencv/modules/imgproc/src/color.cpp:182: error: (-215:Assertion failed) !_src.empty() in function 'cvtColor'\n",
      "OpenCV(4.1.0) /io/opencv/modules/imgproc/src/color.cpp:182: error: (-215:Assertion failed) !_src.empty() in function 'cvtColor'\n",
      "\n",
      "\n"
     ]
    },
    {
     "name": "stderr",
     "output_type": "stream",
     "text": [
      "\n",
      "\n",
      "  7%|▋         | 55/750 [00:06<02:10,  5.32it/s]\u001b[A\u001b[A"
     ]
    },
    {
     "name": "stdout",
     "output_type": "stream",
     "text": [
      "OpenCV(4.1.0) /io/opencv/modules/imgproc/src/color.cpp:182: error: (-215:Assertion failed) !_src.empty() in function 'cvtColor'\n",
      "\n"
     ]
    },
    {
     "name": "stderr",
     "output_type": "stream",
     "text": [
      "\n",
      "\n"
     ]
    },
    {
     "name": "stdout",
     "output_type": "stream",
     "text": [
      "OpenCV(4.1.0) /io/opencv/modules/imgproc/src/color.cpp:182: error: (-215:Assertion failed) !_src.empty() in function 'cvtColor'\n"
     ]
    },
    {
     "name": "stderr",
     "output_type": "stream",
     "text": [
      "  8%|▊         | 57/750 [00:06<02:22,  4.87it/s]\u001b[A\u001b[A"
     ]
    },
    {
     "name": "stdout",
     "output_type": "stream",
     "text": [
      "OpenCV(4.1.0) /io/opencv/modules/imgproc/src/color.cpp:182: error: (-215:Assertion failed) !_src.empty() in function 'cvtColor'\n",
      "\n",
      "\n",
      "OpenCV(4.1.0) /io/opencv/modules/imgproc/src/color.cpp:182: error: (-215:Assertion failed) !_src.empty() in function 'cvtColor'\n",
      "\n"
     ]
    },
    {
     "name": "stderr",
     "output_type": "stream",
     "text": [
      "/home/prativa/anaconda3/envs/py36/lib/python3.6/site-packages/pyproj/crs/crs.py:53: FutureWarning: '+init=<authority>:<code>' syntax is deprecated. '<authority>:<code>' is the preferred initialization method. When making the change, be mindful of axis order changes: https://pyproj4.github.io/pyproj/stable/gotchas.html#axis-order-changes-in-proj-6\n",
      "  return _prepare_from_string(\" \".join(pjargs))\n",
      "/home/prativa/anaconda3/envs/py36/lib/python3.6/site-packages/pyproj/crs/crs.py:53: FutureWarning: '+init=<authority>:<code>' syntax is deprecated. '<authority>:<code>' is the preferred initialization method. When making the change, be mindful of axis order changes: https://pyproj4.github.io/pyproj/stable/gotchas.html#axis-order-changes-in-proj-6\n",
      "  return _prepare_from_string(\" \".join(pjargs))\n",
      "/home/prativa/anaconda3/envs/py36/lib/python3.6/site-packages/pyproj/crs/crs.py:53: FutureWarning: '+init=<authority>:<code>' syntax is deprecated. '<authority>:<code>' is the preferred initialization method. When making the change, be mindful of axis order changes: https://pyproj4.github.io/pyproj/stable/gotchas.html#axis-order-changes-in-proj-6\n",
      "  return _prepare_from_string(\" \".join(pjargs))\n",
      "/home/prativa/anaconda3/envs/py36/lib/python3.6/site-packages/pyproj/crs/crs.py:53: FutureWarning: '+init=<authority>:<code>' syntax is deprecated. '<authority>:<code>' is the preferred initialization method. When making the change, be mindful of axis order changes: https://pyproj4.github.io/pyproj/stable/gotchas.html#axis-order-changes-in-proj-6\n",
      "  return _prepare_from_string(\" \".join(pjargs))\n",
      "/home/prativa/anaconda3/envs/py36/lib/python3.6/site-packages/pyproj/crs/crs.py:53: FutureWarning: '+init=<authority>:<code>' syntax is deprecated. '<authority>:<code>' is the preferred initialization method. When making the change, be mindful of axis order changes: https://pyproj4.github.io/pyproj/stable/gotchas.html#axis-order-changes-in-proj-6\n",
      "  return _prepare_from_string(\" \".join(pjargs))\n"
     ]
    },
    {
     "name": "stdout",
     "output_type": "stream",
     "text": [
      "OpenCV(4.1.0) /io/opencv/modules/imgproc/src/color.cpp:182: error: (-215:Assertion failed) !_src.empty() in function 'cvtColor'\n",
      "\n"
     ]
    },
    {
     "name": "stderr",
     "output_type": "stream",
     "text": [
      "\n",
      "\n",
      "  8%|▊         | 61/750 [00:07<02:18,  4.97it/s]\u001b[A\u001b[A/home/prativa/anaconda3/envs/py36/lib/python3.6/site-packages/pyproj/crs/crs.py:53: FutureWarning: '+init=<authority>:<code>' syntax is deprecated. '<authority>:<code>' is the preferred initialization method. When making the change, be mindful of axis order changes: https://pyproj4.github.io/pyproj/stable/gotchas.html#axis-order-changes-in-proj-6\n",
      "  return _prepare_from_string(\" \".join(pjargs))\n",
      "/home/prativa/anaconda3/envs/py36/lib/python3.6/site-packages/pyproj/crs/crs.py:53: FutureWarning: '+init=<authority>:<code>' syntax is deprecated. '<authority>:<code>' is the preferred initialization method. When making the change, be mindful of axis order changes: https://pyproj4.github.io/pyproj/stable/gotchas.html#axis-order-changes-in-proj-6\n",
      "  return _prepare_from_string(\" \".join(pjargs))\n",
      "/home/prativa/anaconda3/envs/py36/lib/python3.6/site-packages/pyproj/crs/crs.py:53: FutureWarning: '+init=<authority>:<code>' syntax is deprecated. '<authority>:<code>' is the preferred initialization method. When making the change, be mindful of axis order changes: https://pyproj4.github.io/pyproj/stable/gotchas.html#axis-order-changes-in-proj-6\n",
      "  return _prepare_from_string(\" \".join(pjargs))\n",
      "/home/prativa/anaconda3/envs/py36/lib/python3.6/site-packages/pyproj/crs/crs.py:53: FutureWarning: '+init=<authority>:<code>' syntax is deprecated. '<authority>:<code>' is the preferred initialization method. When making the change, be mindful of axis order changes: https://pyproj4.github.io/pyproj/stable/gotchas.html#axis-order-changes-in-proj-6\n",
      "  return _prepare_from_string(\" \".join(pjargs))\n",
      "/home/prativa/anaconda3/envs/py36/lib/python3.6/site-packages/pyproj/crs/crs.py:53: FutureWarning: '+init=<authority>:<code>' syntax is deprecated. '<authority>:<code>' is the preferred initialization method. When making the change, be mindful of axis order changes: https://pyproj4.github.io/pyproj/stable/gotchas.html#axis-order-changes-in-proj-6\n",
      "  return _prepare_from_string(\" \".join(pjargs))\n",
      "/home/prativa/anaconda3/envs/py36/lib/python3.6/site-packages/pyproj/crs/crs.py:53: FutureWarning: '+init=<authority>:<code>' syntax is deprecated. '<authority>:<code>' is the preferred initialization method. When making the change, be mindful of axis order changes: https://pyproj4.github.io/pyproj/stable/gotchas.html#axis-order-changes-in-proj-6\n",
      "  return _prepare_from_string(\" \".join(pjargs))\n"
     ]
    },
    {
     "name": "stdout",
     "output_type": "stream",
     "text": [
      "OpenCV(4.1.0) /io/opencv/modules/imgproc/src/color.cpp:182: error: (-215:Assertion failed) !_src.empty() in function 'cvtColor'\n",
      "\n",
      "OpenCV(4.1.0) /io/opencv/modules/imgproc/src/color.cpp:182: error: (-215:Assertion failed) !_src.empty() in function 'cvtColor'\n",
      "\n"
     ]
    },
    {
     "name": "stderr",
     "output_type": "stream",
     "text": [
      "\n",
      "\n",
      "  8%|▊         | 62/750 [00:07<03:21,  3.41it/s]\u001b[A\u001b[A/home/prativa/anaconda3/envs/py36/lib/python3.6/site-packages/pyproj/crs/crs.py:53: FutureWarning: '+init=<authority>:<code>' syntax is deprecated. '<authority>:<code>' is the preferred initialization method. When making the change, be mindful of axis order changes: https://pyproj4.github.io/pyproj/stable/gotchas.html#axis-order-changes-in-proj-6\n",
      "  return _prepare_from_string(\" \".join(pjargs))\n"
     ]
    },
    {
     "name": "stdout",
     "output_type": "stream",
     "text": [
      "OpenCV(4.1.0) /io/opencv/modules/imgproc/src/color.cpp:182: error: (-215:Assertion failed) !_src.empty() in function 'cvtColor'\n",
      "\n"
     ]
    },
    {
     "name": "stderr",
     "output_type": "stream",
     "text": [
      "/home/prativa/anaconda3/envs/py36/lib/python3.6/site-packages/pyproj/crs/crs.py:53: FutureWarning: '+init=<authority>:<code>' syntax is deprecated. '<authority>:<code>' is the preferred initialization method. When making the change, be mindful of axis order changes: https://pyproj4.github.io/pyproj/stable/gotchas.html#axis-order-changes-in-proj-6\n",
      "  return _prepare_from_string(\" \".join(pjargs))\n",
      "/home/prativa/anaconda3/envs/py36/lib/python3.6/site-packages/pyproj/crs/crs.py:53: FutureWarning: '+init=<authority>:<code>' syntax is deprecated. '<authority>:<code>' is the preferred initialization method. When making the change, be mindful of axis order changes: https://pyproj4.github.io/pyproj/stable/gotchas.html#axis-order-changes-in-proj-6\n",
      "  return _prepare_from_string(\" \".join(pjargs))\n",
      "/home/prativa/anaconda3/envs/py36/lib/python3.6/site-packages/pyproj/crs/crs.py:53: FutureWarning: '+init=<authority>:<code>' syntax is deprecated. '<authority>:<code>' is the preferred initialization method. When making the change, be mindful of axis order changes: https://pyproj4.github.io/pyproj/stable/gotchas.html#axis-order-changes-in-proj-6\n",
      "  return _prepare_from_string(\" \".join(pjargs))\n",
      "/home/prativa/anaconda3/envs/py36/lib/python3.6/site-packages/pyproj/crs/crs.py:53: FutureWarning: '+init=<authority>:<code>' syntax is deprecated. '<authority>:<code>' is the preferred initialization method. When making the change, be mindful of axis order changes: https://pyproj4.github.io/pyproj/stable/gotchas.html#axis-order-changes-in-proj-6\n",
      "  return _prepare_from_string(\" \".join(pjargs))\n",
      "/home/prativa/anaconda3/envs/py36/lib/python3.6/site-packages/pyproj/crs/crs.py:53: FutureWarning: '+init=<authority>:<code>' syntax is deprecated. '<authority>:<code>' is the preferred initialization method. When making the change, be mindful of axis order changes: https://pyproj4.github.io/pyproj/stable/gotchas.html#axis-order-changes-in-proj-6\n",
      "  return _prepare_from_string(\" \".join(pjargs))\n"
     ]
    },
    {
     "name": "stdout",
     "output_type": "stream",
     "text": [
      "OpenCV(4.1.0) /io/opencv/modules/imgproc/src/color.cpp:182: error: (-215:Assertion failed) !_src.empty() in function 'cvtColor'\n"
     ]
    },
    {
     "name": "stderr",
     "output_type": "stream",
     "text": [
      "/home/prativa/anaconda3/envs/py36/lib/python3.6/site-packages/pyproj/crs/crs.py:53: FutureWarning: '+init=<authority>:<code>' syntax is deprecated. '<authority>:<code>' is the preferred initialization method. When making the change, be mindful of axis order changes: https://pyproj4.github.io/pyproj/stable/gotchas.html#axis-order-changes-in-proj-6\n",
      "  return _prepare_from_string(\" \".join(pjargs))\n"
     ]
    },
    {
     "name": "stdout",
     "output_type": "stream",
     "text": [
      "\n",
      "OpenCV(4.1.0) /io/opencv/modules/imgproc/src/color.cpp:182: error: (-215:Assertion failed) !_src.empty() in function 'cvtColor'\n",
      "\n"
     ]
    },
    {
     "name": "stderr",
     "output_type": "stream",
     "text": [
      "\n",
      "\n",
      "  9%|▊         | 65/750 [00:08<02:54,  3.92it/s]\u001b[A\u001b[A/home/prativa/anaconda3/envs/py36/lib/python3.6/site-packages/pyproj/crs/crs.py:53: FutureWarning: '+init=<authority>:<code>' syntax is deprecated. '<authority>:<code>' is the preferred initialization method. When making the change, be mindful of axis order changes: https://pyproj4.github.io/pyproj/stable/gotchas.html#axis-order-changes-in-proj-6\n",
      "  return _prepare_from_string(\" \".join(pjargs))\n",
      "/home/prativa/anaconda3/envs/py36/lib/python3.6/site-packages/pyproj/crs/crs.py:53: FutureWarning: '+init=<authority>:<code>' syntax is deprecated. '<authority>:<code>' is the preferred initialization method. When making the change, be mindful of axis order changes: https://pyproj4.github.io/pyproj/stable/gotchas.html#axis-order-changes-in-proj-6\n",
      "  return _prepare_from_string(\" \".join(pjargs))\n",
      "/home/prativa/anaconda3/envs/py36/lib/python3.6/site-packages/pyproj/crs/crs.py:53: FutureWarning: '+init=<authority>:<code>' syntax is deprecated. '<authority>:<code>' is the preferred initialization method. When making the change, be mindful of axis order changes: https://pyproj4.github.io/pyproj/stable/gotchas.html#axis-order-changes-in-proj-6\n",
      "  return _prepare_from_string(\" \".join(pjargs))\n",
      "/home/prativa/anaconda3/envs/py36/lib/python3.6/site-packages/pyproj/crs/crs.py:53: FutureWarning: '+init=<authority>:<code>' syntax is deprecated. '<authority>:<code>' is the preferred initialization method. When making the change, be mindful of axis order changes: https://pyproj4.github.io/pyproj/stable/gotchas.html#axis-order-changes-in-proj-6\n",
      "  return _prepare_from_string(\" \".join(pjargs))\n",
      "/home/prativa/anaconda3/envs/py36/lib/python3.6/site-packages/pyproj/crs/crs.py:53: FutureWarning: '+init=<authority>:<code>' syntax is deprecated. '<authority>:<code>' is the preferred initialization method. When making the change, be mindful of axis order changes: https://pyproj4.github.io/pyproj/stable/gotchas.html#axis-order-changes-in-proj-6\n",
      "  return _prepare_from_string(\" \".join(pjargs))\n"
     ]
    },
    {
     "name": "stdout",
     "output_type": "stream",
     "text": [
      "OpenCV(4.1.0) /io/opencv/modules/imgproc/src/color.cpp:182: error: (-215:Assertion failed) !_src.empty() in function 'cvtColor'\n",
      "\n",
      "OpenCV(4.1.0) /io/opencv/modules/imgproc/src/color.cpp:182: error: (-215:Assertion failed) !_src.empty() in function 'cvtColor'\n",
      "\n",
      "OpenCV(4.1.0) /io/opencv/modules/imgproc/src/color.cpp:182: error: (-215:Assertion failed) !_src.empty() in function 'cvtColor'\n",
      "\n"
     ]
    },
    {
     "name": "stderr",
     "output_type": "stream",
     "text": [
      "\n",
      "\n",
      "  9%|▉         | 67/750 [00:09<03:05,  3.68it/s]\u001b[A\u001b[A"
     ]
    },
    {
     "name": "stdout",
     "output_type": "stream",
     "text": [
      "OpenCV(4.1.0) /io/opencv/modules/imgproc/src/color.cpp:182: error: (-215:Assertion failed) !_src.empty() in function 'cvtColor'\n",
      "\n",
      "OpenCV(4.1.0) /io/opencv/modules/imgproc/src/color.cpp:182: error: (-215:Assertion failed) !_src.empty() in function 'cvtColor'\n",
      "\n"
     ]
    },
    {
     "name": "stderr",
     "output_type": "stream",
     "text": [
      "/home/prativa/anaconda3/envs/py36/lib/python3.6/site-packages/pyproj/crs/crs.py:53: FutureWarning: '+init=<authority>:<code>' syntax is deprecated. '<authority>:<code>' is the preferred initialization method. When making the change, be mindful of axis order changes: https://pyproj4.github.io/pyproj/stable/gotchas.html#axis-order-changes-in-proj-6\n",
      "  return _prepare_from_string(\" \".join(pjargs))\n"
     ]
    },
    {
     "name": "stdout",
     "output_type": "stream",
     "text": [
      "'data/AOI_2_Vegas_Roads_Train/geojson/spacenetroads/spacenetroads_AOI_2_Vegas_img42.geojson' not recognized as a supported file format.\n"
     ]
    },
    {
     "name": "stderr",
     "output_type": "stream",
     "text": [
      "/home/prativa/anaconda3/envs/py36/lib/python3.6/site-packages/pyproj/crs/crs.py:53: FutureWarning: '+init=<authority>:<code>' syntax is deprecated. '<authority>:<code>' is the preferred initialization method. When making the change, be mindful of axis order changes: https://pyproj4.github.io/pyproj/stable/gotchas.html#axis-order-changes-in-proj-6\n",
      "  return _prepare_from_string(\" \".join(pjargs))\n"
     ]
    },
    {
     "name": "stdout",
     "output_type": "stream",
     "text": [
      "OpenCV(4.1.0) /io/opencv/modules/imgproc/src/color.cpp:182: error: (-215:Assertion failed) !_src.empty() in function 'cvtColor'\n",
      "\n"
     ]
    },
    {
     "name": "stderr",
     "output_type": "stream",
     "text": [
      "\n",
      "\n",
      " 10%|▉         | 72/750 [00:09<02:32,  4.44it/s]\u001b[A\u001b[A/home/prativa/anaconda3/envs/py36/lib/python3.6/site-packages/pyproj/crs/crs.py:53: FutureWarning: '+init=<authority>:<code>' syntax is deprecated. '<authority>:<code>' is the preferred initialization method. When making the change, be mindful of axis order changes: https://pyproj4.github.io/pyproj/stable/gotchas.html#axis-order-changes-in-proj-6\n",
      "  return _prepare_from_string(\" \".join(pjargs))\n",
      "/home/prativa/anaconda3/envs/py36/lib/python3.6/site-packages/pyproj/crs/crs.py:53: FutureWarning: '+init=<authority>:<code>' syntax is deprecated. '<authority>:<code>' is the preferred initialization method. When making the change, be mindful of axis order changes: https://pyproj4.github.io/pyproj/stable/gotchas.html#axis-order-changes-in-proj-6\n",
      "  return _prepare_from_string(\" \".join(pjargs))\n",
      "/home/prativa/anaconda3/envs/py36/lib/python3.6/site-packages/pyproj/crs/crs.py:53: FutureWarning: '+init=<authority>:<code>' syntax is deprecated. '<authority>:<code>' is the preferred initialization method. When making the change, be mindful of axis order changes: https://pyproj4.github.io/pyproj/stable/gotchas.html#axis-order-changes-in-proj-6\n",
      "  return _prepare_from_string(\" \".join(pjargs))\n",
      "/home/prativa/anaconda3/envs/py36/lib/python3.6/site-packages/pyproj/crs/crs.py:53: FutureWarning: '+init=<authority>:<code>' syntax is deprecated. '<authority>:<code>' is the preferred initialization method. When making the change, be mindful of axis order changes: https://pyproj4.github.io/pyproj/stable/gotchas.html#axis-order-changes-in-proj-6\n",
      "  return _prepare_from_string(\" \".join(pjargs))\n",
      "/home/prativa/anaconda3/envs/py36/lib/python3.6/site-packages/pyproj/crs/crs.py:53: FutureWarning: '+init=<authority>:<code>' syntax is deprecated. '<authority>:<code>' is the preferred initialization method. When making the change, be mindful of axis order changes: https://pyproj4.github.io/pyproj/stable/gotchas.html#axis-order-changes-in-proj-6\n",
      "  return _prepare_from_string(\" \".join(pjargs))\n",
      "/home/prativa/anaconda3/envs/py36/lib/python3.6/site-packages/pyproj/crs/crs.py:53: FutureWarning: '+init=<authority>:<code>' syntax is deprecated. '<authority>:<code>' is the preferred initialization method. When making the change, be mindful of axis order changes: https://pyproj4.github.io/pyproj/stable/gotchas.html#axis-order-changes-in-proj-6\n",
      "  return _prepare_from_string(\" \".join(pjargs))\n"
     ]
    },
    {
     "name": "stdout",
     "output_type": "stream",
     "text": [
      "OpenCV(4.1.0) /io/opencv/modules/imgproc/src/color.cpp:182: error: (-215:Assertion failed) !_src.empty() in function 'cvtColor'\n",
      "\n"
     ]
    },
    {
     "name": "stderr",
     "output_type": "stream",
     "text": [
      "\n",
      "\n",
      " 10%|▉         | 73/750 [00:10<03:26,  3.28it/s]\u001b[A\u001b[A/home/prativa/anaconda3/envs/py36/lib/python3.6/site-packages/pyproj/crs/crs.py:53: FutureWarning: '+init=<authority>:<code>' syntax is deprecated. '<authority>:<code>' is the preferred initialization method. When making the change, be mindful of axis order changes: https://pyproj4.github.io/pyproj/stable/gotchas.html#axis-order-changes-in-proj-6\n",
      "  return _prepare_from_string(\" \".join(pjargs))\n",
      "/home/prativa/anaconda3/envs/py36/lib/python3.6/site-packages/pyproj/crs/crs.py:53: FutureWarning: '+init=<authority>:<code>' syntax is deprecated. '<authority>:<code>' is the preferred initialization method. When making the change, be mindful of axis order changes: https://pyproj4.github.io/pyproj/stable/gotchas.html#axis-order-changes-in-proj-6\n",
      "  return _prepare_from_string(\" \".join(pjargs))\n",
      "/home/prativa/anaconda3/envs/py36/lib/python3.6/site-packages/pyproj/crs/crs.py:53: FutureWarning: '+init=<authority>:<code>' syntax is deprecated. '<authority>:<code>' is the preferred initialization method. When making the change, be mindful of axis order changes: https://pyproj4.github.io/pyproj/stable/gotchas.html#axis-order-changes-in-proj-6\n",
      "  return _prepare_from_string(\" \".join(pjargs))\n",
      "/home/prativa/anaconda3/envs/py36/lib/python3.6/site-packages/pyproj/crs/crs.py:53: FutureWarning: '+init=<authority>:<code>' syntax is deprecated. '<authority>:<code>' is the preferred initialization method. When making the change, be mindful of axis order changes: https://pyproj4.github.io/pyproj/stable/gotchas.html#axis-order-changes-in-proj-6\n",
      "  return _prepare_from_string(\" \".join(pjargs))\n",
      "/home/prativa/anaconda3/envs/py36/lib/python3.6/site-packages/pyproj/crs/crs.py:53: FutureWarning: '+init=<authority>:<code>' syntax is deprecated. '<authority>:<code>' is the preferred initialization method. When making the change, be mindful of axis order changes: https://pyproj4.github.io/pyproj/stable/gotchas.html#axis-order-changes-in-proj-6\n",
      "  return _prepare_from_string(\" \".join(pjargs))\n"
     ]
    },
    {
     "name": "stdout",
     "output_type": "stream",
     "text": [
      "OpenCV(4.1.0) /io/opencv/modules/imgproc/src/color.cpp:182: error: (-215:Assertion failed) !_src.empty() in function 'cvtColor'\n",
      "\n"
     ]
    },
    {
     "name": "stderr",
     "output_type": "stream",
     "text": [
      "/home/prativa/anaconda3/envs/py36/lib/python3.6/site-packages/pyproj/crs/crs.py:53: FutureWarning: '+init=<authority>:<code>' syntax is deprecated. '<authority>:<code>' is the preferred initialization method. When making the change, be mindful of axis order changes: https://pyproj4.github.io/pyproj/stable/gotchas.html#axis-order-changes-in-proj-6\n",
      "  return _prepare_from_string(\" \".join(pjargs))\n",
      "\n",
      "\n",
      " 10%|█         | 75/750 [00:10<03:00,  3.74it/s]\u001b[A\u001b[A/home/prativa/anaconda3/envs/py36/lib/python3.6/site-packages/pyproj/crs/crs.py:53: FutureWarning: '+init=<authority>:<code>' syntax is deprecated. '<authority>:<code>' is the preferred initialization method. When making the change, be mindful of axis order changes: https://pyproj4.github.io/pyproj/stable/gotchas.html#axis-order-changes-in-proj-6\n",
      "  return _prepare_from_string(\" \".join(pjargs))\n",
      "/home/prativa/anaconda3/envs/py36/lib/python3.6/site-packages/pyproj/crs/crs.py:53: FutureWarning: '+init=<authority>:<code>' syntax is deprecated. '<authority>:<code>' is the preferred initialization method. When making the change, be mindful of axis order changes: https://pyproj4.github.io/pyproj/stable/gotchas.html#axis-order-changes-in-proj-6\n",
      "  return _prepare_from_string(\" \".join(pjargs))\n",
      "/home/prativa/anaconda3/envs/py36/lib/python3.6/site-packages/pyproj/crs/crs.py:53: FutureWarning: '+init=<authority>:<code>' syntax is deprecated. '<authority>:<code>' is the preferred initialization method. When making the change, be mindful of axis order changes: https://pyproj4.github.io/pyproj/stable/gotchas.html#axis-order-changes-in-proj-6\n",
      "  return _prepare_from_string(\" \".join(pjargs))\n",
      "/home/prativa/anaconda3/envs/py36/lib/python3.6/site-packages/pyproj/crs/crs.py:53: FutureWarning: '+init=<authority>:<code>' syntax is deprecated. '<authority>:<code>' is the preferred initialization method. When making the change, be mindful of axis order changes: https://pyproj4.github.io/pyproj/stable/gotchas.html#axis-order-changes-in-proj-6\n",
      "  return _prepare_from_string(\" \".join(pjargs))\n",
      "/home/prativa/anaconda3/envs/py36/lib/python3.6/site-packages/pyproj/crs/crs.py:53: FutureWarning: '+init=<authority>:<code>' syntax is deprecated. '<authority>:<code>' is the preferred initialization method. When making the change, be mindful of axis order changes: https://pyproj4.github.io/pyproj/stable/gotchas.html#axis-order-changes-in-proj-6\n",
      "  return _prepare_from_string(\" \".join(pjargs))\n"
     ]
    },
    {
     "name": "stdout",
     "output_type": "stream",
     "text": [
      "OpenCV(4.1.0) /io/opencv/modules/imgproc/src/color.cpp:182: error: (-215:Assertion failed) !_src.empty() in function 'cvtColor'\n",
      "OpenCV(4.1.0) /io/opencv/modules/imgproc/src/color.cpp:182: error: (-215:Assertion failed) !_src.empty() in function 'cvtColor'\n",
      "\n",
      "\n"
     ]
    },
    {
     "name": "stderr",
     "output_type": "stream",
     "text": [
      "\n",
      "\n",
      " 10%|█         | 76/750 [00:10<03:23,  3.32it/s]\u001b[A\u001b[A/home/prativa/anaconda3/envs/py36/lib/python3.6/site-packages/pyproj/crs/crs.py:53: FutureWarning: '+init=<authority>:<code>' syntax is deprecated. '<authority>:<code>' is the preferred initialization method. When making the change, be mindful of axis order changes: https://pyproj4.github.io/pyproj/stable/gotchas.html#axis-order-changes-in-proj-6\n",
      "  return _prepare_from_string(\" \".join(pjargs))\n",
      "/home/prativa/anaconda3/envs/py36/lib/python3.6/site-packages/pyproj/crs/crs.py:53: FutureWarning: '+init=<authority>:<code>' syntax is deprecated. '<authority>:<code>' is the preferred initialization method. When making the change, be mindful of axis order changes: https://pyproj4.github.io/pyproj/stable/gotchas.html#axis-order-changes-in-proj-6\n",
      "  return _prepare_from_string(\" \".join(pjargs))\n"
     ]
    },
    {
     "name": "stdout",
     "output_type": "stream",
     "text": [
      "OpenCV(4.1.0) /io/opencv/modules/imgproc/src/color.cpp:182: error: (-215:Assertion failed) !_src.empty() in function 'cvtColor'\n",
      "\n"
     ]
    },
    {
     "name": "stderr",
     "output_type": "stream",
     "text": [
      "\n",
      "\n",
      " 10%|█         | 78/750 [00:10<02:33,  4.39it/s]\u001b[A\u001b[A"
     ]
    },
    {
     "name": "stdout",
     "output_type": "stream",
     "text": [
      "OpenCV(4.1.0) /io/opencv/modules/imgproc/src/color.cpp:182: error: (-215:Assertion failed) !_src.empty() in function 'cvtColor'\n",
      "\n",
      "OpenCV(4.1.0) /io/opencv/modules/imgproc/src/color.cpp:182: error: (-215:Assertion failed) !_src.empty() in function 'cvtColor'\n",
      "\n"
     ]
    },
    {
     "name": "stderr",
     "output_type": "stream",
     "text": [
      "/home/prativa/anaconda3/envs/py36/lib/python3.6/site-packages/pyproj/crs/crs.py:53: FutureWarning: '+init=<authority>:<code>' syntax is deprecated. '<authority>:<code>' is the preferred initialization method. When making the change, be mindful of axis order changes: https://pyproj4.github.io/pyproj/stable/gotchas.html#axis-order-changes-in-proj-6\n",
      "  return _prepare_from_string(\" \".join(pjargs))\n"
     ]
    },
    {
     "name": "stdout",
     "output_type": "stream",
     "text": [
      "OpenCV(4.1.0) /io/opencv/modules/imgproc/src/color.cpp:182: error: (-215:Assertion failed) !_src.empty() in function 'cvtColor'\n",
      "OpenCV(4.1.0) /io/opencv/modules/imgproc/src/color.cpp:182: error: (-215:Assertion failed) !_src.empty() in function 'cvtColor'\n",
      "\n",
      "\n",
      "OpenCV(4.1.0) /io/opencv/modules/imgproc/src/color.cpp:182: error: (-215:Assertion failed) !_src.empty() in function 'cvtColor'\n"
     ]
    },
    {
     "name": "stderr",
     "output_type": "stream",
     "text": [
      "\n",
      "\n",
      " 11%|█         | 80/750 [00:11<02:39,  4.20it/s]\u001b[A\u001b[A"
     ]
    },
    {
     "name": "stdout",
     "output_type": "stream",
     "text": [
      "\n"
     ]
    },
    {
     "name": "stderr",
     "output_type": "stream",
     "text": [
      "/home/prativa/anaconda3/envs/py36/lib/python3.6/site-packages/pyproj/crs/crs.py:53: FutureWarning: '+init=<authority>:<code>' syntax is deprecated. '<authority>:<code>' is the preferred initialization method. When making the change, be mindful of axis order changes: https://pyproj4.github.io/pyproj/stable/gotchas.html#axis-order-changes-in-proj-6\n",
      "  return _prepare_from_string(\" \".join(pjargs))\n",
      "/home/prativa/anaconda3/envs/py36/lib/python3.6/site-packages/pyproj/crs/crs.py:53: FutureWarning: '+init=<authority>:<code>' syntax is deprecated. '<authority>:<code>' is the preferred initialization method. When making the change, be mindful of axis order changes: https://pyproj4.github.io/pyproj/stable/gotchas.html#axis-order-changes-in-proj-6\n",
      "  return _prepare_from_string(\" \".join(pjargs))\n"
     ]
    },
    {
     "name": "stdout",
     "output_type": "stream",
     "text": [
      "OpenCV(4.1.0) /io/opencv/modules/imgproc/src/color.cpp:182: error: (-215:Assertion failed) !_src.empty() in function 'cvtColor'\n",
      "\n"
     ]
    },
    {
     "name": "stderr",
     "output_type": "stream",
     "text": [
      "\n",
      "\n",
      " 11%|█         | 84/750 [00:12<02:18,  4.82it/s]\u001b[A\u001b[A/home/prativa/anaconda3/envs/py36/lib/python3.6/site-packages/pyproj/crs/crs.py:53: FutureWarning: '+init=<authority>:<code>' syntax is deprecated. '<authority>:<code>' is the preferred initialization method. When making the change, be mindful of axis order changes: https://pyproj4.github.io/pyproj/stable/gotchas.html#axis-order-changes-in-proj-6\n",
      "  return _prepare_from_string(\" \".join(pjargs))\n",
      "/home/prativa/anaconda3/envs/py36/lib/python3.6/site-packages/pyproj/crs/crs.py:53: FutureWarning: '+init=<authority>:<code>' syntax is deprecated. '<authority>:<code>' is the preferred initialization method. When making the change, be mindful of axis order changes: https://pyproj4.github.io/pyproj/stable/gotchas.html#axis-order-changes-in-proj-6\n",
      "  return _prepare_from_string(\" \".join(pjargs))\n",
      "/home/prativa/anaconda3/envs/py36/lib/python3.6/site-packages/pyproj/crs/crs.py:53: FutureWarning: '+init=<authority>:<code>' syntax is deprecated. '<authority>:<code>' is the preferred initialization method. When making the change, be mindful of axis order changes: https://pyproj4.github.io/pyproj/stable/gotchas.html#axis-order-changes-in-proj-6\n",
      "  return _prepare_from_string(\" \".join(pjargs))\n",
      "/home/prativa/anaconda3/envs/py36/lib/python3.6/site-packages/pyproj/crs/crs.py:53: FutureWarning: '+init=<authority>:<code>' syntax is deprecated. '<authority>:<code>' is the preferred initialization method. When making the change, be mindful of axis order changes: https://pyproj4.github.io/pyproj/stable/gotchas.html#axis-order-changes-in-proj-6\n",
      "  return _prepare_from_string(\" \".join(pjargs))\n",
      "/home/prativa/anaconda3/envs/py36/lib/python3.6/site-packages/pyproj/crs/crs.py:53: FutureWarning: '+init=<authority>:<code>' syntax is deprecated. '<authority>:<code>' is the preferred initialization method. When making the change, be mindful of axis order changes: https://pyproj4.github.io/pyproj/stable/gotchas.html#axis-order-changes-in-proj-6\n",
      "  return _prepare_from_string(\" \".join(pjargs))\n",
      "/home/prativa/anaconda3/envs/py36/lib/python3.6/site-packages/pyproj/crs/crs.py:53: FutureWarning: '+init=<authority>:<code>' syntax is deprecated. '<authority>:<code>' is the preferred initialization method. When making the change, be mindful of axis order changes: https://pyproj4.github.io/pyproj/stable/gotchas.html#axis-order-changes-in-proj-6\n",
      "  return _prepare_from_string(\" \".join(pjargs))\n",
      "/home/prativa/anaconda3/envs/py36/lib/python3.6/site-packages/pyproj/crs/crs.py:53: FutureWarning: '+init=<authority>:<code>' syntax is deprecated. '<authority>:<code>' is the preferred initialization method. When making the change, be mindful of axis order changes: https://pyproj4.github.io/pyproj/stable/gotchas.html#axis-order-changes-in-proj-6\n",
      "  return _prepare_from_string(\" \".join(pjargs))\n"
     ]
    },
    {
     "name": "stdout",
     "output_type": "stream",
     "text": [
      "OpenCV(4.1.0) /io/opencv/modules/imgproc/src/color.cpp:182: error: (-215:Assertion failed) !_src.empty() in function 'cvtColor'\n",
      "\n"
     ]
    },
    {
     "name": "stderr",
     "output_type": "stream",
     "text": [
      "\n",
      "\n",
      " 11%|█▏        | 85/750 [00:12<03:03,  3.63it/s]\u001b[A\u001b[A/home/prativa/anaconda3/envs/py36/lib/python3.6/site-packages/pyproj/crs/crs.py:53: FutureWarning: '+init=<authority>:<code>' syntax is deprecated. '<authority>:<code>' is the preferred initialization method. When making the change, be mindful of axis order changes: https://pyproj4.github.io/pyproj/stable/gotchas.html#axis-order-changes-in-proj-6\n",
      "  return _prepare_from_string(\" \".join(pjargs))\n",
      "/home/prativa/anaconda3/envs/py36/lib/python3.6/site-packages/pyproj/crs/crs.py:53: FutureWarning: '+init=<authority>:<code>' syntax is deprecated. '<authority>:<code>' is the preferred initialization method. When making the change, be mindful of axis order changes: https://pyproj4.github.io/pyproj/stable/gotchas.html#axis-order-changes-in-proj-6\n",
      "  return _prepare_from_string(\" \".join(pjargs))\n",
      "/home/prativa/anaconda3/envs/py36/lib/python3.6/site-packages/pyproj/crs/crs.py:53: FutureWarning: '+init=<authority>:<code>' syntax is deprecated. '<authority>:<code>' is the preferred initialization method. When making the change, be mindful of axis order changes: https://pyproj4.github.io/pyproj/stable/gotchas.html#axis-order-changes-in-proj-6\n",
      "  return _prepare_from_string(\" \".join(pjargs))\n",
      "/home/prativa/anaconda3/envs/py36/lib/python3.6/site-packages/pyproj/crs/crs.py:53: FutureWarning: '+init=<authority>:<code>' syntax is deprecated. '<authority>:<code>' is the preferred initialization method. When making the change, be mindful of axis order changes: https://pyproj4.github.io/pyproj/stable/gotchas.html#axis-order-changes-in-proj-6\n",
      "  return _prepare_from_string(\" \".join(pjargs))\n",
      "/home/prativa/anaconda3/envs/py36/lib/python3.6/site-packages/pyproj/crs/crs.py:53: FutureWarning: '+init=<authority>:<code>' syntax is deprecated. '<authority>:<code>' is the preferred initialization method. When making the change, be mindful of axis order changes: https://pyproj4.github.io/pyproj/stable/gotchas.html#axis-order-changes-in-proj-6\n",
      "  return _prepare_from_string(\" \".join(pjargs))\n",
      "/home/prativa/anaconda3/envs/py36/lib/python3.6/site-packages/pyproj/crs/crs.py:53: FutureWarning: '+init=<authority>:<code>' syntax is deprecated. '<authority>:<code>' is the preferred initialization method. When making the change, be mindful of axis order changes: https://pyproj4.github.io/pyproj/stable/gotchas.html#axis-order-changes-in-proj-6\n",
      "  return _prepare_from_string(\" \".join(pjargs))\n",
      "/home/prativa/anaconda3/envs/py36/lib/python3.6/site-packages/pyproj/crs/crs.py:53: FutureWarning: '+init=<authority>:<code>' syntax is deprecated. '<authority>:<code>' is the preferred initialization method. When making the change, be mindful of axis order changes: https://pyproj4.github.io/pyproj/stable/gotchas.html#axis-order-changes-in-proj-6\n",
      "  return _prepare_from_string(\" \".join(pjargs))\n",
      "/home/prativa/anaconda3/envs/py36/lib/python3.6/site-packages/pyproj/crs/crs.py:53: FutureWarning: '+init=<authority>:<code>' syntax is deprecated. '<authority>:<code>' is the preferred initialization method. When making the change, be mindful of axis order changes: https://pyproj4.github.io/pyproj/stable/gotchas.html#axis-order-changes-in-proj-6\n",
      "  return _prepare_from_string(\" \".join(pjargs))\n"
     ]
    },
    {
     "name": "stdout",
     "output_type": "stream",
     "text": [
      "OpenCV(4.1.0) /io/opencv/modules/imgproc/src/color.cpp:182: error: (-215:Assertion failed) !_src.empty() in function 'cvtColor'\n",
      "\n",
      "OpenCV(4.1.0) /io/opencv/modules/imgproc/src/color.cpp:182: error: (-215:Assertion failed) !_src.empty() in function 'cvtColor'\n",
      "\n",
      "OpenCV(4.1.0) /io/opencv/modules/imgproc/src/color.cpp:182: error: (-215:Assertion failed) !_src.empty() in function 'cvtColor'\n",
      "\n"
     ]
    },
    {
     "name": "stderr",
     "output_type": "stream",
     "text": [
      "\n",
      "\n",
      " 11%|█▏        | 86/750 [00:12<03:34,  3.10it/s]\u001b[A\u001b[A"
     ]
    },
    {
     "name": "stdout",
     "output_type": "stream",
     "text": [
      "OpenCV(4.1.0) /io/opencv/modules/imgproc/src/color.cpp:182: error: (-215:Assertion failed) !_src.empty() in function 'cvtColor'\n",
      "\n"
     ]
    },
    {
     "name": "stderr",
     "output_type": "stream",
     "text": [
      "/home/prativa/anaconda3/envs/py36/lib/python3.6/site-packages/pyproj/crs/crs.py:53: FutureWarning: '+init=<authority>:<code>' syntax is deprecated. '<authority>:<code>' is the preferred initialization method. When making the change, be mindful of axis order changes: https://pyproj4.github.io/pyproj/stable/gotchas.html#axis-order-changes-in-proj-6\n",
      "  return _prepare_from_string(\" \".join(pjargs))\n",
      "/home/prativa/anaconda3/envs/py36/lib/python3.6/site-packages/pyproj/crs/crs.py:53: FutureWarning: '+init=<authority>:<code>' syntax is deprecated. '<authority>:<code>' is the preferred initialization method. When making the change, be mindful of axis order changes: https://pyproj4.github.io/pyproj/stable/gotchas.html#axis-order-changes-in-proj-6\n",
      "  return _prepare_from_string(\" \".join(pjargs))\n",
      "/home/prativa/anaconda3/envs/py36/lib/python3.6/site-packages/pyproj/crs/crs.py:53: FutureWarning: '+init=<authority>:<code>' syntax is deprecated. '<authority>:<code>' is the preferred initialization method. When making the change, be mindful of axis order changes: https://pyproj4.github.io/pyproj/stable/gotchas.html#axis-order-changes-in-proj-6\n",
      "  return _prepare_from_string(\" \".join(pjargs))\n"
     ]
    },
    {
     "name": "stdout",
     "output_type": "stream",
     "text": [
      "OpenCV(4.1.0) /io/opencv/modules/imgproc/src/color.cpp:182: error: (-215:Assertion failed) !_src.empty() in function 'cvtColor'\n",
      "\n"
     ]
    },
    {
     "name": "stderr",
     "output_type": "stream",
     "text": [
      "\n",
      "\n",
      " 12%|█▏        | 90/750 [00:13<02:48,  3.92it/s]\u001b[A\u001b[A/home/prativa/anaconda3/envs/py36/lib/python3.6/site-packages/pyproj/crs/crs.py:53: FutureWarning: '+init=<authority>:<code>' syntax is deprecated. '<authority>:<code>' is the preferred initialization method. When making the change, be mindful of axis order changes: https://pyproj4.github.io/pyproj/stable/gotchas.html#axis-order-changes-in-proj-6\n",
      "  return _prepare_from_string(\" \".join(pjargs))\n"
     ]
    },
    {
     "name": "stdout",
     "output_type": "stream",
     "text": [
      "OpenCV(4.1.0) /io/opencv/modules/imgproc/src/color.cpp:182: error: (-215:Assertion failed) !_src.empty() in function 'cvtColor'\n",
      "\n",
      "OpenCV(4.1.0) /io/opencv/modules/imgproc/src/color.cpp:182: error: (-215:Assertion failed) !_src.empty() in function 'cvtColor'\n",
      "\n",
      "OpenCV(4.1.0) /io/opencv/modules/imgproc/src/color.cpp:182: error: (-215:Assertion failed) !_src.empty() in function 'cvtColor'\n",
      "\n"
     ]
    },
    {
     "name": "stderr",
     "output_type": "stream",
     "text": [
      "\n",
      "\n",
      " 12%|█▏        | 91/750 [00:13<02:36,  4.21it/s]\u001b[A\u001b[A"
     ]
    },
    {
     "name": "stdout",
     "output_type": "stream",
     "text": [
      "OpenCV(4.1.0) /io/opencv/modules/imgproc/src/color.cpp:182: error: (-215:Assertion failed) !_src.empty() in function 'cvtColor'\n"
     ]
    },
    {
     "name": "stderr",
     "output_type": "stream",
     "text": [
      "/home/prativa/anaconda3/envs/py36/lib/python3.6/site-packages/pyproj/crs/crs.py:53: FutureWarning: '+init=<authority>:<code>' syntax is deprecated. '<authority>:<code>' is the preferred initialization method. When making the change, be mindful of axis order changes: https://pyproj4.github.io/pyproj/stable/gotchas.html#axis-order-changes-in-proj-6\n",
      "  return _prepare_from_string(\" \".join(pjargs))\n"
     ]
    },
    {
     "name": "stdout",
     "output_type": "stream",
     "text": [
      "\n"
     ]
    },
    {
     "name": "stderr",
     "output_type": "stream",
     "text": [
      "\n",
      "\n",
      "/home/prativa/anaconda3/envs/py36/lib/python3.6/site-packages/pyproj/crs/crs.py:53: FutureWarning: '+init=<authority>:<code>' syntax is deprecated. '<authority>:<code>' is the preferred initialization method. When making the change, be mindful of axis order changes: https://pyproj4.github.io/pyproj/stable/gotchas.html#axis-order-changes-in-proj-6\n",
      "  return _prepare_from_string(\" \".join(pjargs))\n",
      " 13%|█▎        | 94/750 [00:13<02:01,  5.41it/s]\u001b[A\u001b[A/home/prativa/anaconda3/envs/py36/lib/python3.6/site-packages/pyproj/crs/crs.py:53: FutureWarning: '+init=<authority>:<code>' syntax is deprecated. '<authority>:<code>' is the preferred initialization method. When making the change, be mindful of axis order changes: https://pyproj4.github.io/pyproj/stable/gotchas.html#axis-order-changes-in-proj-6\n",
      "  return _prepare_from_string(\" \".join(pjargs))\n",
      "/home/prativa/anaconda3/envs/py36/lib/python3.6/site-packages/pyproj/crs/crs.py:53: FutureWarning: '+init=<authority>:<code>' syntax is deprecated. '<authority>:<code>' is the preferred initialization method. When making the change, be mindful of axis order changes: https://pyproj4.github.io/pyproj/stable/gotchas.html#axis-order-changes-in-proj-6\n",
      "  return _prepare_from_string(\" \".join(pjargs))\n",
      "/home/prativa/anaconda3/envs/py36/lib/python3.6/site-packages/pyproj/crs/crs.py:53: FutureWarning: '+init=<authority>:<code>' syntax is deprecated. '<authority>:<code>' is the preferred initialization method. When making the change, be mindful of axis order changes: https://pyproj4.github.io/pyproj/stable/gotchas.html#axis-order-changes-in-proj-6\n",
      "  return _prepare_from_string(\" \".join(pjargs))\n",
      "/home/prativa/anaconda3/envs/py36/lib/python3.6/site-packages/pyproj/crs/crs.py:53: FutureWarning: '+init=<authority>:<code>' syntax is deprecated. '<authority>:<code>' is the preferred initialization method. When making the change, be mindful of axis order changes: https://pyproj4.github.io/pyproj/stable/gotchas.html#axis-order-changes-in-proj-6\n",
      "  return _prepare_from_string(\" \".join(pjargs))\n",
      "/home/prativa/anaconda3/envs/py36/lib/python3.6/site-packages/pyproj/crs/crs.py:53: FutureWarning: '+init=<authority>:<code>' syntax is deprecated. '<authority>:<code>' is the preferred initialization method. When making the change, be mindful of axis order changes: https://pyproj4.github.io/pyproj/stable/gotchas.html#axis-order-changes-in-proj-6\n",
      "  return _prepare_from_string(\" \".join(pjargs))\n",
      "/home/prativa/anaconda3/envs/py36/lib/python3.6/site-packages/pyproj/crs/crs.py:53: FutureWarning: '+init=<authority>:<code>' syntax is deprecated. '<authority>:<code>' is the preferred initialization method. When making the change, be mindful of axis order changes: https://pyproj4.github.io/pyproj/stable/gotchas.html#axis-order-changes-in-proj-6\n",
      "  return _prepare_from_string(\" \".join(pjargs))\n",
      "/home/prativa/anaconda3/envs/py36/lib/python3.6/site-packages/pyproj/crs/crs.py:53: FutureWarning: '+init=<authority>:<code>' syntax is deprecated. '<authority>:<code>' is the preferred initialization method. When making the change, be mindful of axis order changes: https://pyproj4.github.io/pyproj/stable/gotchas.html#axis-order-changes-in-proj-6\n",
      "  return _prepare_from_string(\" \".join(pjargs))\n",
      "/home/prativa/anaconda3/envs/py36/lib/python3.6/site-packages/pyproj/crs/crs.py:53: FutureWarning: '+init=<authority>:<code>' syntax is deprecated. '<authority>:<code>' is the preferred initialization method. When making the change, be mindful of axis order changes: https://pyproj4.github.io/pyproj/stable/gotchas.html#axis-order-changes-in-proj-6\n",
      "  return _prepare_from_string(\" \".join(pjargs))\n",
      "/home/prativa/anaconda3/envs/py36/lib/python3.6/site-packages/pyproj/crs/crs.py:53: FutureWarning: '+init=<authority>:<code>' syntax is deprecated. '<authority>:<code>' is the preferred initialization method. When making the change, be mindful of axis order changes: https://pyproj4.github.io/pyproj/stable/gotchas.html#axis-order-changes-in-proj-6\n",
      "  return _prepare_from_string(\" \".join(pjargs))\n",
      "/home/prativa/anaconda3/envs/py36/lib/python3.6/site-packages/pyproj/crs/crs.py:53: FutureWarning: '+init=<authority>:<code>' syntax is deprecated. '<authority>:<code>' is the preferred initialization method. When making the change, be mindful of axis order changes: https://pyproj4.github.io/pyproj/stable/gotchas.html#axis-order-changes-in-proj-6\n",
      "  return _prepare_from_string(\" \".join(pjargs))\n",
      "/home/prativa/anaconda3/envs/py36/lib/python3.6/site-packages/pyproj/crs/crs.py:53: FutureWarning: '+init=<authority>:<code>' syntax is deprecated. '<authority>:<code>' is the preferred initialization method. When making the change, be mindful of axis order changes: https://pyproj4.github.io/pyproj/stable/gotchas.html#axis-order-changes-in-proj-6\n",
      "  return _prepare_from_string(\" \".join(pjargs))\n",
      "/home/prativa/anaconda3/envs/py36/lib/python3.6/site-packages/pyproj/crs/crs.py:53: FutureWarning: '+init=<authority>:<code>' syntax is deprecated. '<authority>:<code>' is the preferred initialization method. When making the change, be mindful of axis order changes: https://pyproj4.github.io/pyproj/stable/gotchas.html#axis-order-changes-in-proj-6\n",
      "  return _prepare_from_string(\" \".join(pjargs))\n",
      "/home/prativa/anaconda3/envs/py36/lib/python3.6/site-packages/pyproj/crs/crs.py:53: FutureWarning: '+init=<authority>:<code>' syntax is deprecated. '<authority>:<code>' is the preferred initialization method. When making the change, be mindful of axis order changes: https://pyproj4.github.io/pyproj/stable/gotchas.html#axis-order-changes-in-proj-6\n",
      "  return _prepare_from_string(\" \".join(pjargs))\n",
      "/home/prativa/anaconda3/envs/py36/lib/python3.6/site-packages/pyproj/crs/crs.py:53: FutureWarning: '+init=<authority>:<code>' syntax is deprecated. '<authority>:<code>' is the preferred initialization method. When making the change, be mindful of axis order changes: https://pyproj4.github.io/pyproj/stable/gotchas.html#axis-order-changes-in-proj-6\n",
      "  return _prepare_from_string(\" \".join(pjargs))\n",
      "/home/prativa/anaconda3/envs/py36/lib/python3.6/site-packages/pyproj/crs/crs.py:53: FutureWarning: '+init=<authority>:<code>' syntax is deprecated. '<authority>:<code>' is the preferred initialization method. When making the change, be mindful of axis order changes: https://pyproj4.github.io/pyproj/stable/gotchas.html#axis-order-changes-in-proj-6\n",
      "  return _prepare_from_string(\" \".join(pjargs))\n",
      "/home/prativa/anaconda3/envs/py36/lib/python3.6/site-packages/pyproj/crs/crs.py:53: FutureWarning: '+init=<authority>:<code>' syntax is deprecated. '<authority>:<code>' is the preferred initialization method. When making the change, be mindful of axis order changes: https://pyproj4.github.io/pyproj/stable/gotchas.html#axis-order-changes-in-proj-6\n",
      "  return _prepare_from_string(\" \".join(pjargs))\n",
      "/home/prativa/anaconda3/envs/py36/lib/python3.6/site-packages/pyproj/crs/crs.py:53: FutureWarning: '+init=<authority>:<code>' syntax is deprecated. '<authority>:<code>' is the preferred initialization method. When making the change, be mindful of axis order changes: https://pyproj4.github.io/pyproj/stable/gotchas.html#axis-order-changes-in-proj-6\n",
      "  return _prepare_from_string(\" \".join(pjargs))\n",
      "/home/prativa/anaconda3/envs/py36/lib/python3.6/site-packages/ipykernel_launcher.py:72: MatplotlibDeprecationWarning: You are modifying the state of a globally registered colormap. In future versions, you will not be able to modify a registered colormap in-place. To remove this warning, you can make a copy of the colormap first. cmap = copy.copy(mpl.cm.get_cmap(\"gray\"))\n"
     ]
    },
    {
     "name": "stdout",
     "output_type": "stream",
     "text": [
      "OpenCV(4.1.0) /io/opencv/modules/imgproc/src/color.cpp:182: error: (-215:Assertion failed) !_src.empty() in function 'cvtColor'\n",
      "\n"
     ]
    },
    {
     "name": "stderr",
     "output_type": "stream",
     "text": [
      "/home/prativa/anaconda3/envs/py36/lib/python3.6/site-packages/ipykernel_launcher.py:72: MatplotlibDeprecationWarning: You are modifying the state of a globally registered colormap. In future versions, you will not be able to modify a registered colormap in-place. To remove this warning, you can make a copy of the colormap first. cmap = copy.copy(mpl.cm.get_cmap(\"gray\"))\n",
      "/home/prativa/anaconda3/envs/py36/lib/python3.6/site-packages/ipykernel_launcher.py:72: MatplotlibDeprecationWarning: You are modifying the state of a globally registered colormap. In future versions, you will not be able to modify a registered colormap in-place. To remove this warning, you can make a copy of the colormap first. cmap = copy.copy(mpl.cm.get_cmap(\"gray\"))\n",
      "/home/prativa/anaconda3/envs/py36/lib/python3.6/site-packages/pyproj/crs/crs.py:53: FutureWarning: '+init=<authority>:<code>' syntax is deprecated. '<authority>:<code>' is the preferred initialization method. When making the change, be mindful of axis order changes: https://pyproj4.github.io/pyproj/stable/gotchas.html#axis-order-changes-in-proj-6\n",
      "  return _prepare_from_string(\" \".join(pjargs))\n"
     ]
    },
    {
     "name": "stdout",
     "output_type": "stream",
     "text": [
      "OpenCV(4.1.0) /io/opencv/modules/imgproc/src/color.cpp:182: error: (-215:Assertion failed) !_src.empty() in function 'cvtColor'\n",
      "\n"
     ]
    },
    {
     "name": "stderr",
     "output_type": "stream",
     "text": [
      "\n",
      "\n",
      " 13%|█▎        | 95/750 [00:14<04:27,  2.45it/s]\u001b[A\u001b[A/home/prativa/anaconda3/envs/py36/lib/python3.6/site-packages/ipykernel_launcher.py:72: MatplotlibDeprecationWarning: You are modifying the state of a globally registered colormap. In future versions, you will not be able to modify a registered colormap in-place. To remove this warning, you can make a copy of the colormap first. cmap = copy.copy(mpl.cm.get_cmap(\"gray\"))\n"
     ]
    },
    {
     "name": "stdout",
     "output_type": "stream",
     "text": [
      "OpenCV(4.1.0) /io/opencv/modules/imgproc/src/color.cpp:182: error: (-215:Assertion failed) !_src.empty() in function 'cvtColor'\n",
      "OpenCV(4.1.0) /io/opencv/modules/imgproc/src/color.cpp:182: error: (-215:Assertion failed) !_src.empty() in function 'cvtColor'\n",
      "\n"
     ]
    },
    {
     "name": "stderr",
     "output_type": "stream",
     "text": [
      "\n",
      "\n",
      " 13%|█▎        | 97/750 [00:14<03:17,  3.30it/s]"
     ]
    },
    {
     "name": "stdout",
     "output_type": "stream",
     "text": [
      "\n"
     ]
    },
    {
     "name": "stderr",
     "output_type": "stream",
     "text": [
      "\u001b[A\u001b[A/home/prativa/anaconda3/envs/py36/lib/python3.6/site-packages/pyproj/crs/crs.py:53: FutureWarning: '+init=<authority>:<code>' syntax is deprecated. '<authority>:<code>' is the preferred initialization method. When making the change, be mindful of axis order changes: https://pyproj4.github.io/pyproj/stable/gotchas.html#axis-order-changes-in-proj-6\n",
      "  return _prepare_from_string(\" \".join(pjargs))\n",
      "/home/prativa/anaconda3/envs/py36/lib/python3.6/site-packages/pyproj/crs/crs.py:53: FutureWarning: '+init=<authority>:<code>' syntax is deprecated. '<authority>:<code>' is the preferred initialization method. When making the change, be mindful of axis order changes: https://pyproj4.github.io/pyproj/stable/gotchas.html#axis-order-changes-in-proj-6\n",
      "  return _prepare_from_string(\" \".join(pjargs))\n"
     ]
    },
    {
     "name": "stdout",
     "output_type": "stream",
     "text": [
      "OpenCV(4.1.0) /io/opencv/modules/imgproc/src/color.cpp:182: error: (-215:Assertion failed) !_src.empty() in function 'cvtColor'\n",
      "\n"
     ]
    },
    {
     "name": "stderr",
     "output_type": "stream",
     "text": [
      "\n",
      "\n",
      " 13%|█▎        | 98/750 [00:14<02:50,  3.82it/s]\u001b[A\u001b[A/home/prativa/anaconda3/envs/py36/lib/python3.6/site-packages/pyproj/crs/crs.py:53: FutureWarning: '+init=<authority>:<code>' syntax is deprecated. '<authority>:<code>' is the preferred initialization method. When making the change, be mindful of axis order changes: https://pyproj4.github.io/pyproj/stable/gotchas.html#axis-order-changes-in-proj-6\n",
      "  return _prepare_from_string(\" \".join(pjargs))\n"
     ]
    },
    {
     "name": "stdout",
     "output_type": "stream",
     "text": [
      "OpenCV(4.1.0) /io/opencv/modules/imgproc/src/color.cpp:182: error: (-215:Assertion failed) !_src.empty() in function 'cvtColor'\n",
      "\n"
     ]
    },
    {
     "name": "stderr",
     "output_type": "stream",
     "text": [
      "\n",
      "\n",
      " 13%|█▎        | 100/750 [00:14<02:09,  5.02it/s]\u001b[A\u001b[A/home/prativa/anaconda3/envs/py36/lib/python3.6/site-packages/pyproj/crs/crs.py:53: FutureWarning: '+init=<authority>:<code>' syntax is deprecated. '<authority>:<code>' is the preferred initialization method. When making the change, be mindful of axis order changes: https://pyproj4.github.io/pyproj/stable/gotchas.html#axis-order-changes-in-proj-6\n",
      "  return _prepare_from_string(\" \".join(pjargs))\n",
      "/home/prativa/anaconda3/envs/py36/lib/python3.6/site-packages/pyproj/crs/crs.py:53: FutureWarning: '+init=<authority>:<code>' syntax is deprecated. '<authority>:<code>' is the preferred initialization method. When making the change, be mindful of axis order changes: https://pyproj4.github.io/pyproj/stable/gotchas.html#axis-order-changes-in-proj-6\n",
      "  return _prepare_from_string(\" \".join(pjargs))\n",
      "/home/prativa/anaconda3/envs/py36/lib/python3.6/site-packages/pyproj/crs/crs.py:53: FutureWarning: '+init=<authority>:<code>' syntax is deprecated. '<authority>:<code>' is the preferred initialization method. When making the change, be mindful of axis order changes: https://pyproj4.github.io/pyproj/stable/gotchas.html#axis-order-changes-in-proj-6\n",
      "  return _prepare_from_string(\" \".join(pjargs))\n",
      "/home/prativa/anaconda3/envs/py36/lib/python3.6/site-packages/pyproj/crs/crs.py:53: FutureWarning: '+init=<authority>:<code>' syntax is deprecated. '<authority>:<code>' is the preferred initialization method. When making the change, be mindful of axis order changes: https://pyproj4.github.io/pyproj/stable/gotchas.html#axis-order-changes-in-proj-6\n",
      "  return _prepare_from_string(\" \".join(pjargs))\n",
      "/home/prativa/anaconda3/envs/py36/lib/python3.6/site-packages/pyproj/crs/crs.py:53: FutureWarning: '+init=<authority>:<code>' syntax is deprecated. '<authority>:<code>' is the preferred initialization method. When making the change, be mindful of axis order changes: https://pyproj4.github.io/pyproj/stable/gotchas.html#axis-order-changes-in-proj-6\n",
      "  return _prepare_from_string(\" \".join(pjargs))\n",
      "/home/prativa/anaconda3/envs/py36/lib/python3.6/site-packages/pyproj/crs/crs.py:53: FutureWarning: '+init=<authority>:<code>' syntax is deprecated. '<authority>:<code>' is the preferred initialization method. When making the change, be mindful of axis order changes: https://pyproj4.github.io/pyproj/stable/gotchas.html#axis-order-changes-in-proj-6\n",
      "  return _prepare_from_string(\" \".join(pjargs))\n",
      "/home/prativa/anaconda3/envs/py36/lib/python3.6/site-packages/pyproj/crs/crs.py:53: FutureWarning: '+init=<authority>:<code>' syntax is deprecated. '<authority>:<code>' is the preferred initialization method. When making the change, be mindful of axis order changes: https://pyproj4.github.io/pyproj/stable/gotchas.html#axis-order-changes-in-proj-6\n",
      "  return _prepare_from_string(\" \".join(pjargs))\n",
      "/home/prativa/anaconda3/envs/py36/lib/python3.6/site-packages/pyproj/crs/crs.py:53: FutureWarning: '+init=<authority>:<code>' syntax is deprecated. '<authority>:<code>' is the preferred initialization method. When making the change, be mindful of axis order changes: https://pyproj4.github.io/pyproj/stable/gotchas.html#axis-order-changes-in-proj-6\n",
      "  return _prepare_from_string(\" \".join(pjargs))\n",
      "/home/prativa/anaconda3/envs/py36/lib/python3.6/site-packages/ipykernel_launcher.py:72: MatplotlibDeprecationWarning: You are modifying the state of a globally registered colormap. In future versions, you will not be able to modify a registered colormap in-place. To remove this warning, you can make a copy of the colormap first. cmap = copy.copy(mpl.cm.get_cmap(\"gray\"))\n",
      "/home/prativa/anaconda3/envs/py36/lib/python3.6/site-packages/pyproj/crs/crs.py:53: FutureWarning: '+init=<authority>:<code>' syntax is deprecated. '<authority>:<code>' is the preferred initialization method. When making the change, be mindful of axis order changes: https://pyproj4.github.io/pyproj/stable/gotchas.html#axis-order-changes-in-proj-6\n",
      "  return _prepare_from_string(\" \".join(pjargs))\n",
      "/home/prativa/anaconda3/envs/py36/lib/python3.6/site-packages/ipykernel_launcher.py:72: MatplotlibDeprecationWarning: You are modifying the state of a globally registered colormap. In future versions, you will not be able to modify a registered colormap in-place. To remove this warning, you can make a copy of the colormap first. cmap = copy.copy(mpl.cm.get_cmap(\"gray\"))\n",
      "/home/prativa/anaconda3/envs/py36/lib/python3.6/site-packages/ipykernel_launcher.py:72: MatplotlibDeprecationWarning: You are modifying the state of a globally registered colormap. In future versions, you will not be able to modify a registered colormap in-place. To remove this warning, you can make a copy of the colormap first. cmap = copy.copy(mpl.cm.get_cmap(\"gray\"))\n",
      "/home/prativa/anaconda3/envs/py36/lib/python3.6/site-packages/ipykernel_launcher.py:72: MatplotlibDeprecationWarning: You are modifying the state of a globally registered colormap. In future versions, you will not be able to modify a registered colormap in-place. To remove this warning, you can make a copy of the colormap first. cmap = copy.copy(mpl.cm.get_cmap(\"gray\"))\n",
      "/home/prativa/anaconda3/envs/py36/lib/python3.6/site-packages/ipykernel_launcher.py:72: MatplotlibDeprecationWarning: You are modifying the state of a globally registered colormap. In future versions, you will not be able to modify a registered colormap in-place. To remove this warning, you can make a copy of the colormap first. cmap = copy.copy(mpl.cm.get_cmap(\"gray\"))\n",
      "/home/prativa/anaconda3/envs/py36/lib/python3.6/site-packages/ipykernel_launcher.py:72: MatplotlibDeprecationWarning: You are modifying the state of a globally registered colormap. In future versions, you will not be able to modify a registered colormap in-place. To remove this warning, you can make a copy of the colormap first. cmap = copy.copy(mpl.cm.get_cmap(\"gray\"))\n",
      "/home/prativa/anaconda3/envs/py36/lib/python3.6/site-packages/pyproj/crs/crs.py:53: FutureWarning: '+init=<authority>:<code>' syntax is deprecated. '<authority>:<code>' is the preferred initialization method. When making the change, be mindful of axis order changes: https://pyproj4.github.io/pyproj/stable/gotchas.html#axis-order-changes-in-proj-6\n",
      "  return _prepare_from_string(\" \".join(pjargs))\n",
      "/home/prativa/anaconda3/envs/py36/lib/python3.6/site-packages/pyproj/crs/crs.py:53: FutureWarning: '+init=<authority>:<code>' syntax is deprecated. '<authority>:<code>' is the preferred initialization method. When making the change, be mindful of axis order changes: https://pyproj4.github.io/pyproj/stable/gotchas.html#axis-order-changes-in-proj-6\n",
      "  return _prepare_from_string(\" \".join(pjargs))\n",
      "/home/prativa/anaconda3/envs/py36/lib/python3.6/site-packages/pyproj/crs/crs.py:53: FutureWarning: '+init=<authority>:<code>' syntax is deprecated. '<authority>:<code>' is the preferred initialization method. When making the change, be mindful of axis order changes: https://pyproj4.github.io/pyproj/stable/gotchas.html#axis-order-changes-in-proj-6\n",
      "  return _prepare_from_string(\" \".join(pjargs))\n",
      "\n",
      "\n",
      " 14%|█▎        | 102/750 [00:16<04:14,  2.54it/s]\u001b[A\u001b[A/home/prativa/anaconda3/envs/py36/lib/python3.6/site-packages/pyproj/crs/crs.py:53: FutureWarning: '+init=<authority>:<code>' syntax is deprecated. '<authority>:<code>' is the preferred initialization method. When making the change, be mindful of axis order changes: https://pyproj4.github.io/pyproj/stable/gotchas.html#axis-order-changes-in-proj-6\n",
      "  return _prepare_from_string(\" \".join(pjargs))\n",
      "/home/prativa/anaconda3/envs/py36/lib/python3.6/site-packages/pyproj/crs/crs.py:53: FutureWarning: '+init=<authority>:<code>' syntax is deprecated. '<authority>:<code>' is the preferred initialization method. When making the change, be mindful of axis order changes: https://pyproj4.github.io/pyproj/stable/gotchas.html#axis-order-changes-in-proj-6\n",
      "  return _prepare_from_string(\" \".join(pjargs))\n",
      "/home/prativa/anaconda3/envs/py36/lib/python3.6/site-packages/pyproj/crs/crs.py:53: FutureWarning: '+init=<authority>:<code>' syntax is deprecated. '<authority>:<code>' is the preferred initialization method. When making the change, be mindful of axis order changes: https://pyproj4.github.io/pyproj/stable/gotchas.html#axis-order-changes-in-proj-6\n",
      "  return _prepare_from_string(\" \".join(pjargs))\n"
     ]
    },
    {
     "name": "stderr",
     "output_type": "stream",
     "text": [
      "/home/prativa/anaconda3/envs/py36/lib/python3.6/site-packages/pyproj/crs/crs.py:53: FutureWarning: '+init=<authority>:<code>' syntax is deprecated. '<authority>:<code>' is the preferred initialization method. When making the change, be mindful of axis order changes: https://pyproj4.github.io/pyproj/stable/gotchas.html#axis-order-changes-in-proj-6\n",
      "  return _prepare_from_string(\" \".join(pjargs))\n",
      "/home/prativa/anaconda3/envs/py36/lib/python3.6/site-packages/ipykernel_launcher.py:72: MatplotlibDeprecationWarning: You are modifying the state of a globally registered colormap. In future versions, you will not be able to modify a registered colormap in-place. To remove this warning, you can make a copy of the colormap first. cmap = copy.copy(mpl.cm.get_cmap(\"gray\"))\n",
      "/home/prativa/anaconda3/envs/py36/lib/python3.6/site-packages/pyproj/crs/crs.py:53: FutureWarning: '+init=<authority>:<code>' syntax is deprecated. '<authority>:<code>' is the preferred initialization method. When making the change, be mindful of axis order changes: https://pyproj4.github.io/pyproj/stable/gotchas.html#axis-order-changes-in-proj-6\n",
      "  return _prepare_from_string(\" \".join(pjargs))\n",
      "/home/prativa/anaconda3/envs/py36/lib/python3.6/site-packages/ipykernel_launcher.py:72: MatplotlibDeprecationWarning: You are modifying the state of a globally registered colormap. In future versions, you will not be able to modify a registered colormap in-place. To remove this warning, you can make a copy of the colormap first. cmap = copy.copy(mpl.cm.get_cmap(\"gray\"))\n",
      "/home/prativa/anaconda3/envs/py36/lib/python3.6/site-packages/ipykernel_launcher.py:72: MatplotlibDeprecationWarning: You are modifying the state of a globally registered colormap. In future versions, you will not be able to modify a registered colormap in-place. To remove this warning, you can make a copy of the colormap first. cmap = copy.copy(mpl.cm.get_cmap(\"gray\"))\n",
      "/home/prativa/anaconda3/envs/py36/lib/python3.6/site-packages/ipykernel_launcher.py:72: MatplotlibDeprecationWarning: You are modifying the state of a globally registered colormap. In future versions, you will not be able to modify a registered colormap in-place. To remove this warning, you can make a copy of the colormap first. cmap = copy.copy(mpl.cm.get_cmap(\"gray\"))\n",
      "\n",
      "\n",
      " 14%|█▍        | 105/750 [00:17<04:00,  2.69it/s]\u001b[A\u001b[A\n",
      "\n",
      " 14%|█▍        | 107/750 [00:17<03:04,  3.49it/s]\u001b[A\u001b[A/home/prativa/anaconda3/envs/py36/lib/python3.6/site-packages/pyproj/crs/crs.py:53: FutureWarning: '+init=<authority>:<code>' syntax is deprecated. '<authority>:<code>' is the preferred initialization method. When making the change, be mindful of axis order changes: https://pyproj4.github.io/pyproj/stable/gotchas.html#axis-order-changes-in-proj-6\n",
      "  return _prepare_from_string(\" \".join(pjargs))\n",
      "/home/prativa/anaconda3/envs/py36/lib/python3.6/site-packages/pyproj/crs/crs.py:53: FutureWarning: '+init=<authority>:<code>' syntax is deprecated. '<authority>:<code>' is the preferred initialization method. When making the change, be mindful of axis order changes: https://pyproj4.github.io/pyproj/stable/gotchas.html#axis-order-changes-in-proj-6\n",
      "  return _prepare_from_string(\" \".join(pjargs))\n",
      "\n",
      "\n",
      " 14%|█▍        | 108/750 [00:17<02:42,  3.95it/s]\u001b[A\u001b[A/home/prativa/anaconda3/envs/py36/lib/python3.6/site-packages/pyproj/crs/crs.py:53: FutureWarning: '+init=<authority>:<code>' syntax is deprecated. '<authority>:<code>' is the preferred initialization method. When making the change, be mindful of axis order changes: https://pyproj4.github.io/pyproj/stable/gotchas.html#axis-order-changes-in-proj-6\n",
      "  return _prepare_from_string(\" \".join(pjargs))\n",
      "/home/prativa/anaconda3/envs/py36/lib/python3.6/site-packages/pyproj/crs/crs.py:53: FutureWarning: '+init=<authority>:<code>' syntax is deprecated. '<authority>:<code>' is the preferred initialization method. When making the change, be mindful of axis order changes: https://pyproj4.github.io/pyproj/stable/gotchas.html#axis-order-changes-in-proj-6\n",
      "  return _prepare_from_string(\" \".join(pjargs))\n",
      "/home/prativa/anaconda3/envs/py36/lib/python3.6/site-packages/pyproj/crs/crs.py:53: FutureWarning: '+init=<authority>:<code>' syntax is deprecated. '<authority>:<code>' is the preferred initialization method. When making the change, be mindful of axis order changes: https://pyproj4.github.io/pyproj/stable/gotchas.html#axis-order-changes-in-proj-6\n",
      "  return _prepare_from_string(\" \".join(pjargs))\n",
      "/home/prativa/anaconda3/envs/py36/lib/python3.6/site-packages/pyproj/crs/crs.py:53: FutureWarning: '+init=<authority>:<code>' syntax is deprecated. '<authority>:<code>' is the preferred initialization method. When making the change, be mindful of axis order changes: https://pyproj4.github.io/pyproj/stable/gotchas.html#axis-order-changes-in-proj-6\n",
      "  return _prepare_from_string(\" \".join(pjargs))\n",
      "/home/prativa/anaconda3/envs/py36/lib/python3.6/site-packages/pyproj/crs/crs.py:53: FutureWarning: '+init=<authority>:<code>' syntax is deprecated. '<authority>:<code>' is the preferred initialization method. When making the change, be mindful of axis order changes: https://pyproj4.github.io/pyproj/stable/gotchas.html#axis-order-changes-in-proj-6\n",
      "  return _prepare_from_string(\" \".join(pjargs))\n",
      "/home/prativa/anaconda3/envs/py36/lib/python3.6/site-packages/pyproj/crs/crs.py:53: FutureWarning: '+init=<authority>:<code>' syntax is deprecated. '<authority>:<code>' is the preferred initialization method. When making the change, be mindful of axis order changes: https://pyproj4.github.io/pyproj/stable/gotchas.html#axis-order-changes-in-proj-6\n",
      "  return _prepare_from_string(\" \".join(pjargs))\n",
      "/home/prativa/anaconda3/envs/py36/lib/python3.6/site-packages/pyproj/crs/crs.py:53: FutureWarning: '+init=<authority>:<code>' syntax is deprecated. '<authority>:<code>' is the preferred initialization method. When making the change, be mindful of axis order changes: https://pyproj4.github.io/pyproj/stable/gotchas.html#axis-order-changes-in-proj-6\n",
      "  return _prepare_from_string(\" \".join(pjargs))\n",
      "/home/prativa/anaconda3/envs/py36/lib/python3.6/site-packages/pyproj/crs/crs.py:53: FutureWarning: '+init=<authority>:<code>' syntax is deprecated. '<authority>:<code>' is the preferred initialization method. When making the change, be mindful of axis order changes: https://pyproj4.github.io/pyproj/stable/gotchas.html#axis-order-changes-in-proj-6\n",
      "  return _prepare_from_string(\" \".join(pjargs))\n",
      "/home/prativa/anaconda3/envs/py36/lib/python3.6/site-packages/pyproj/crs/crs.py:53: FutureWarning: '+init=<authority>:<code>' syntax is deprecated. '<authority>:<code>' is the preferred initialization method. When making the change, be mindful of axis order changes: https://pyproj4.github.io/pyproj/stable/gotchas.html#axis-order-changes-in-proj-6\n",
      "  return _prepare_from_string(\" \".join(pjargs))\n",
      "/home/prativa/anaconda3/envs/py36/lib/python3.6/site-packages/pyproj/crs/crs.py:53: FutureWarning: '+init=<authority>:<code>' syntax is deprecated. '<authority>:<code>' is the preferred initialization method. When making the change, be mindful of axis order changes: https://pyproj4.github.io/pyproj/stable/gotchas.html#axis-order-changes-in-proj-6\n",
      "  return _prepare_from_string(\" \".join(pjargs))\n",
      "/home/prativa/anaconda3/envs/py36/lib/python3.6/site-packages/ipykernel_launcher.py:72: MatplotlibDeprecationWarning: You are modifying the state of a globally registered colormap. In future versions, you will not be able to modify a registered colormap in-place. To remove this warning, you can make a copy of the colormap first. cmap = copy.copy(mpl.cm.get_cmap(\"gray\"))\n",
      "/home/prativa/anaconda3/envs/py36/lib/python3.6/site-packages/ipykernel_launcher.py:72: MatplotlibDeprecationWarning: You are modifying the state of a globally registered colormap. In future versions, you will not be able to modify a registered colormap in-place. To remove this warning, you can make a copy of the colormap first. cmap = copy.copy(mpl.cm.get_cmap(\"gray\"))\n",
      "/home/prativa/anaconda3/envs/py36/lib/python3.6/site-packages/ipykernel_launcher.py:72: MatplotlibDeprecationWarning: You are modifying the state of a globally registered colormap. In future versions, you will not be able to modify a registered colormap in-place. To remove this warning, you can make a copy of the colormap first. cmap = copy.copy(mpl.cm.get_cmap(\"gray\"))\n"
     ]
    },
    {
     "name": "stderr",
     "output_type": "stream",
     "text": [
      "\n",
      "\n",
      " 15%|█▍        | 111/750 [00:18<02:51,  3.72it/s]\u001b[A\u001b[A/home/prativa/anaconda3/envs/py36/lib/python3.6/site-packages/ipykernel_launcher.py:72: MatplotlibDeprecationWarning: You are modifying the state of a globally registered colormap. In future versions, you will not be able to modify a registered colormap in-place. To remove this warning, you can make a copy of the colormap first. cmap = copy.copy(mpl.cm.get_cmap(\"gray\"))\n",
      "/home/prativa/anaconda3/envs/py36/lib/python3.6/site-packages/pyproj/crs/crs.py:53: FutureWarning: '+init=<authority>:<code>' syntax is deprecated. '<authority>:<code>' is the preferred initialization method. When making the change, be mindful of axis order changes: https://pyproj4.github.io/pyproj/stable/gotchas.html#axis-order-changes-in-proj-6\n",
      "  return _prepare_from_string(\" \".join(pjargs))\n",
      "/home/prativa/anaconda3/envs/py36/lib/python3.6/site-packages/ipykernel_launcher.py:72: MatplotlibDeprecationWarning: You are modifying the state of a globally registered colormap. In future versions, you will not be able to modify a registered colormap in-place. To remove this warning, you can make a copy of the colormap first. cmap = copy.copy(mpl.cm.get_cmap(\"gray\"))\n",
      "/home/prativa/anaconda3/envs/py36/lib/python3.6/site-packages/ipykernel_launcher.py:72: MatplotlibDeprecationWarning: You are modifying the state of a globally registered colormap. In future versions, you will not be able to modify a registered colormap in-place. To remove this warning, you can make a copy of the colormap first. cmap = copy.copy(mpl.cm.get_cmap(\"gray\"))\n",
      "/home/prativa/anaconda3/envs/py36/lib/python3.6/site-packages/pyproj/crs/crs.py:53: FutureWarning: '+init=<authority>:<code>' syntax is deprecated. '<authority>:<code>' is the preferred initialization method. When making the change, be mindful of axis order changes: https://pyproj4.github.io/pyproj/stable/gotchas.html#axis-order-changes-in-proj-6\n",
      "  return _prepare_from_string(\" \".join(pjargs))\n",
      "\n",
      "\n",
      " 15%|█▍        | 112/750 [00:19<03:28,  3.06it/s]\u001b[A\u001b[A/home/prativa/anaconda3/envs/py36/lib/python3.6/site-packages/pyproj/crs/crs.py:53: FutureWarning: '+init=<authority>:<code>' syntax is deprecated. '<authority>:<code>' is the preferred initialization method. When making the change, be mindful of axis order changes: https://pyproj4.github.io/pyproj/stable/gotchas.html#axis-order-changes-in-proj-6\n",
      "  return _prepare_from_string(\" \".join(pjargs))\n",
      "/home/prativa/anaconda3/envs/py36/lib/python3.6/site-packages/pyproj/crs/crs.py:53: FutureWarning: '+init=<authority>:<code>' syntax is deprecated. '<authority>:<code>' is the preferred initialization method. When making the change, be mindful of axis order changes: https://pyproj4.github.io/pyproj/stable/gotchas.html#axis-order-changes-in-proj-6\n",
      "  return _prepare_from_string(\" \".join(pjargs))\n"
     ]
    },
    {
     "name": "stdout",
     "output_type": "stream",
     "text": [
      "'data/AOI_2_Vegas_Roads_Train/geojson/spacenetroads/spacenetroads_AOI_2_Vegas_img42.geojson' not recognized as a supported file format.\n"
     ]
    },
    {
     "name": "stderr",
     "output_type": "stream",
     "text": [
      "/home/prativa/anaconda3/envs/py36/lib/python3.6/site-packages/pyproj/crs/crs.py:53: FutureWarning: '+init=<authority>:<code>' syntax is deprecated. '<authority>:<code>' is the preferred initialization method. When making the change, be mindful of axis order changes: https://pyproj4.github.io/pyproj/stable/gotchas.html#axis-order-changes-in-proj-6\n",
      "  return _prepare_from_string(\" \".join(pjargs))\n",
      "/home/prativa/anaconda3/envs/py36/lib/python3.6/site-packages/pyproj/crs/crs.py:53: FutureWarning: '+init=<authority>:<code>' syntax is deprecated. '<authority>:<code>' is the preferred initialization method. When making the change, be mindful of axis order changes: https://pyproj4.github.io/pyproj/stable/gotchas.html#axis-order-changes-in-proj-6\n",
      "  return _prepare_from_string(\" \".join(pjargs))\n",
      "/home/prativa/anaconda3/envs/py36/lib/python3.6/site-packages/pyproj/crs/crs.py:53: FutureWarning: '+init=<authority>:<code>' syntax is deprecated. '<authority>:<code>' is the preferred initialization method. When making the change, be mindful of axis order changes: https://pyproj4.github.io/pyproj/stable/gotchas.html#axis-order-changes-in-proj-6\n",
      "  return _prepare_from_string(\" \".join(pjargs))\n",
      "/home/prativa/anaconda3/envs/py36/lib/python3.6/site-packages/ipykernel_launcher.py:72: MatplotlibDeprecationWarning: You are modifying the state of a globally registered colormap. In future versions, you will not be able to modify a registered colormap in-place. To remove this warning, you can make a copy of the colormap first. cmap = copy.copy(mpl.cm.get_cmap(\"gray\"))\n",
      "/home/prativa/anaconda3/envs/py36/lib/python3.6/site-packages/ipykernel_launcher.py:72: MatplotlibDeprecationWarning: You are modifying the state of a globally registered colormap. In future versions, you will not be able to modify a registered colormap in-place. To remove this warning, you can make a copy of the colormap first. cmap = copy.copy(mpl.cm.get_cmap(\"gray\"))\n",
      "/home/prativa/anaconda3/envs/py36/lib/python3.6/site-packages/pyproj/crs/crs.py:53: FutureWarning: '+init=<authority>:<code>' syntax is deprecated. '<authority>:<code>' is the preferred initialization method. When making the change, be mindful of axis order changes: https://pyproj4.github.io/pyproj/stable/gotchas.html#axis-order-changes-in-proj-6\n",
      "  return _prepare_from_string(\" \".join(pjargs))\n",
      "/home/prativa/anaconda3/envs/py36/lib/python3.6/site-packages/ipykernel_launcher.py:72: MatplotlibDeprecationWarning: You are modifying the state of a globally registered colormap. In future versions, you will not be able to modify a registered colormap in-place. To remove this warning, you can make a copy of the colormap first. cmap = copy.copy(mpl.cm.get_cmap(\"gray\"))\n",
      "/home/prativa/anaconda3/envs/py36/lib/python3.6/site-packages/ipykernel_launcher.py:72: MatplotlibDeprecationWarning: You are modifying the state of a globally registered colormap. In future versions, you will not be able to modify a registered colormap in-place. To remove this warning, you can make a copy of the colormap first. cmap = copy.copy(mpl.cm.get_cmap(\"gray\"))\n",
      "\n",
      "\n",
      " 15%|█▌        | 115/750 [00:20<03:45,  2.81it/s]\u001b[A\u001b[A/home/prativa/anaconda3/envs/py36/lib/python3.6/site-packages/pyproj/crs/crs.py:53: FutureWarning: '+init=<authority>:<code>' syntax is deprecated. '<authority>:<code>' is the preferred initialization method. When making the change, be mindful of axis order changes: https://pyproj4.github.io/pyproj/stable/gotchas.html#axis-order-changes-in-proj-6\n",
      "  return _prepare_from_string(\" \".join(pjargs))\n",
      "/home/prativa/anaconda3/envs/py36/lib/python3.6/site-packages/pyproj/crs/crs.py:53: FutureWarning: '+init=<authority>:<code>' syntax is deprecated. '<authority>:<code>' is the preferred initialization method. When making the change, be mindful of axis order changes: https://pyproj4.github.io/pyproj/stable/gotchas.html#axis-order-changes-in-proj-6\n",
      "  return _prepare_from_string(\" \".join(pjargs))\n",
      "/home/prativa/anaconda3/envs/py36/lib/python3.6/site-packages/pyproj/crs/crs.py:53: FutureWarning: '+init=<authority>:<code>' syntax is deprecated. '<authority>:<code>' is the preferred initialization method. When making the change, be mindful of axis order changes: https://pyproj4.github.io/pyproj/stable/gotchas.html#axis-order-changes-in-proj-6\n",
      "  return _prepare_from_string(\" \".join(pjargs))\n",
      "/home/prativa/anaconda3/envs/py36/lib/python3.6/site-packages/pyproj/crs/crs.py:53: FutureWarning: '+init=<authority>:<code>' syntax is deprecated. '<authority>:<code>' is the preferred initialization method. When making the change, be mindful of axis order changes: https://pyproj4.github.io/pyproj/stable/gotchas.html#axis-order-changes-in-proj-6\n",
      "  return _prepare_from_string(\" \".join(pjargs))\n",
      "\n",
      "\n",
      " 16%|█▌        | 117/750 [00:21<03:29,  3.03it/s]\u001b[A\u001b[A\n",
      "\n",
      " 16%|█▌        | 120/750 [00:21<02:32,  4.13it/s]\u001b[A\u001b[A/home/prativa/anaconda3/envs/py36/lib/python3.6/site-packages/pyproj/crs/crs.py:53: FutureWarning: '+init=<authority>:<code>' syntax is deprecated. '<authority>:<code>' is the preferred initialization method. When making the change, be mindful of axis order changes: https://pyproj4.github.io/pyproj/stable/gotchas.html#axis-order-changes-in-proj-6\n",
      "  return _prepare_from_string(\" \".join(pjargs))\n",
      "/home/prativa/anaconda3/envs/py36/lib/python3.6/site-packages/pyproj/crs/crs.py:53: FutureWarning: '+init=<authority>:<code>' syntax is deprecated. '<authority>:<code>' is the preferred initialization method. When making the change, be mindful of axis order changes: https://pyproj4.github.io/pyproj/stable/gotchas.html#axis-order-changes-in-proj-6\n",
      "  return _prepare_from_string(\" \".join(pjargs))\n",
      "/home/prativa/anaconda3/envs/py36/lib/python3.6/site-packages/pyproj/crs/crs.py:53: FutureWarning: '+init=<authority>:<code>' syntax is deprecated. '<authority>:<code>' is the preferred initialization method. When making the change, be mindful of axis order changes: https://pyproj4.github.io/pyproj/stable/gotchas.html#axis-order-changes-in-proj-6\n",
      "  return _prepare_from_string(\" \".join(pjargs))\n",
      "/home/prativa/anaconda3/envs/py36/lib/python3.6/site-packages/pyproj/crs/crs.py:53: FutureWarning: '+init=<authority>:<code>' syntax is deprecated. '<authority>:<code>' is the preferred initialization method. When making the change, be mindful of axis order changes: https://pyproj4.github.io/pyproj/stable/gotchas.html#axis-order-changes-in-proj-6\n",
      "  return _prepare_from_string(\" \".join(pjargs))\n",
      "/home/prativa/anaconda3/envs/py36/lib/python3.6/site-packages/pyproj/crs/crs.py:53: FutureWarning: '+init=<authority>:<code>' syntax is deprecated. '<authority>:<code>' is the preferred initialization method. When making the change, be mindful of axis order changes: https://pyproj4.github.io/pyproj/stable/gotchas.html#axis-order-changes-in-proj-6\n",
      "  return _prepare_from_string(\" \".join(pjargs))\n",
      "/home/prativa/anaconda3/envs/py36/lib/python3.6/site-packages/ipykernel_launcher.py:72: MatplotlibDeprecationWarning: You are modifying the state of a globally registered colormap. In future versions, you will not be able to modify a registered colormap in-place. To remove this warning, you can make a copy of the colormap first. cmap = copy.copy(mpl.cm.get_cmap(\"gray\"))\n",
      "/home/prativa/anaconda3/envs/py36/lib/python3.6/site-packages/pyproj/crs/crs.py:53: FutureWarning: '+init=<authority>:<code>' syntax is deprecated. '<authority>:<code>' is the preferred initialization method. When making the change, be mindful of axis order changes: https://pyproj4.github.io/pyproj/stable/gotchas.html#axis-order-changes-in-proj-6\n",
      "  return _prepare_from_string(\" \".join(pjargs))\n",
      "/home/prativa/anaconda3/envs/py36/lib/python3.6/site-packages/pyproj/crs/crs.py:53: FutureWarning: '+init=<authority>:<code>' syntax is deprecated. '<authority>:<code>' is the preferred initialization method. When making the change, be mindful of axis order changes: https://pyproj4.github.io/pyproj/stable/gotchas.html#axis-order-changes-in-proj-6\n",
      "  return _prepare_from_string(\" \".join(pjargs))\n",
      "/home/prativa/anaconda3/envs/py36/lib/python3.6/site-packages/ipykernel_launcher.py:72: MatplotlibDeprecationWarning: You are modifying the state of a globally registered colormap. In future versions, you will not be able to modify a registered colormap in-place. To remove this warning, you can make a copy of the colormap first. cmap = copy.copy(mpl.cm.get_cmap(\"gray\"))\n"
     ]
    },
    {
     "name": "stderr",
     "output_type": "stream",
     "text": [
      "/home/prativa/anaconda3/envs/py36/lib/python3.6/site-packages/pyproj/crs/crs.py:53: FutureWarning: '+init=<authority>:<code>' syntax is deprecated. '<authority>:<code>' is the preferred initialization method. When making the change, be mindful of axis order changes: https://pyproj4.github.io/pyproj/stable/gotchas.html#axis-order-changes-in-proj-6\n",
      "  return _prepare_from_string(\" \".join(pjargs))\n",
      "\n",
      "\n",
      " 16%|█▋        | 122/750 [00:21<02:38,  3.97it/s]\u001b[A\u001b[A/home/prativa/anaconda3/envs/py36/lib/python3.6/site-packages/ipykernel_launcher.py:72: MatplotlibDeprecationWarning: You are modifying the state of a globally registered colormap. In future versions, you will not be able to modify a registered colormap in-place. To remove this warning, you can make a copy of the colormap first. cmap = copy.copy(mpl.cm.get_cmap(\"gray\"))\n",
      "/home/prativa/anaconda3/envs/py36/lib/python3.6/site-packages/pyproj/crs/crs.py:53: FutureWarning: '+init=<authority>:<code>' syntax is deprecated. '<authority>:<code>' is the preferred initialization method. When making the change, be mindful of axis order changes: https://pyproj4.github.io/pyproj/stable/gotchas.html#axis-order-changes-in-proj-6\n",
      "  return _prepare_from_string(\" \".join(pjargs))\n",
      "/home/prativa/anaconda3/envs/py36/lib/python3.6/site-packages/pyproj/crs/crs.py:53: FutureWarning: '+init=<authority>:<code>' syntax is deprecated. '<authority>:<code>' is the preferred initialization method. When making the change, be mindful of axis order changes: https://pyproj4.github.io/pyproj/stable/gotchas.html#axis-order-changes-in-proj-6\n",
      "  return _prepare_from_string(\" \".join(pjargs))\n",
      "/home/prativa/anaconda3/envs/py36/lib/python3.6/site-packages/pyproj/crs/crs.py:53: FutureWarning: '+init=<authority>:<code>' syntax is deprecated. '<authority>:<code>' is the preferred initialization method. When making the change, be mindful of axis order changes: https://pyproj4.github.io/pyproj/stable/gotchas.html#axis-order-changes-in-proj-6\n",
      "  return _prepare_from_string(\" \".join(pjargs))\n",
      "/home/prativa/anaconda3/envs/py36/lib/python3.6/site-packages/ipykernel_launcher.py:72: MatplotlibDeprecationWarning: You are modifying the state of a globally registered colormap. In future versions, you will not be able to modify a registered colormap in-place. To remove this warning, you can make a copy of the colormap first. cmap = copy.copy(mpl.cm.get_cmap(\"gray\"))\n",
      "\n",
      "\n",
      " 16%|█▋        | 123/750 [00:22<03:14,  3.22it/s]\u001b[A\u001b[A/home/prativa/anaconda3/envs/py36/lib/python3.6/site-packages/ipykernel_launcher.py:72: MatplotlibDeprecationWarning: You are modifying the state of a globally registered colormap. In future versions, you will not be able to modify a registered colormap in-place. To remove this warning, you can make a copy of the colormap first. cmap = copy.copy(mpl.cm.get_cmap(\"gray\"))\n",
      "/home/prativa/anaconda3/envs/py36/lib/python3.6/site-packages/ipykernel_launcher.py:72: MatplotlibDeprecationWarning: You are modifying the state of a globally registered colormap. In future versions, you will not be able to modify a registered colormap in-place. To remove this warning, you can make a copy of the colormap first. cmap = copy.copy(mpl.cm.get_cmap(\"gray\"))\n",
      "/home/prativa/anaconda3/envs/py36/lib/python3.6/site-packages/pyproj/crs/crs.py:53: FutureWarning: '+init=<authority>:<code>' syntax is deprecated. '<authority>:<code>' is the preferred initialization method. When making the change, be mindful of axis order changes: https://pyproj4.github.io/pyproj/stable/gotchas.html#axis-order-changes-in-proj-6\n",
      "  return _prepare_from_string(\" \".join(pjargs))\n",
      "/home/prativa/anaconda3/envs/py36/lib/python3.6/site-packages/pyproj/crs/crs.py:53: FutureWarning: '+init=<authority>:<code>' syntax is deprecated. '<authority>:<code>' is the preferred initialization method. When making the change, be mindful of axis order changes: https://pyproj4.github.io/pyproj/stable/gotchas.html#axis-order-changes-in-proj-6\n",
      "  return _prepare_from_string(\" \".join(pjargs))\n",
      "/home/prativa/anaconda3/envs/py36/lib/python3.6/site-packages/pyproj/crs/crs.py:53: FutureWarning: '+init=<authority>:<code>' syntax is deprecated. '<authority>:<code>' is the preferred initialization method. When making the change, be mindful of axis order changes: https://pyproj4.github.io/pyproj/stable/gotchas.html#axis-order-changes-in-proj-6\n",
      "  return _prepare_from_string(\" \".join(pjargs))\n",
      "/home/prativa/anaconda3/envs/py36/lib/python3.6/site-packages/ipykernel_launcher.py:72: MatplotlibDeprecationWarning: You are modifying the state of a globally registered colormap. In future versions, you will not be able to modify a registered colormap in-place. To remove this warning, you can make a copy of the colormap first. cmap = copy.copy(mpl.cm.get_cmap(\"gray\"))\n",
      "/home/prativa/anaconda3/envs/py36/lib/python3.6/site-packages/pyproj/crs/crs.py:53: FutureWarning: '+init=<authority>:<code>' syntax is deprecated. '<authority>:<code>' is the preferred initialization method. When making the change, be mindful of axis order changes: https://pyproj4.github.io/pyproj/stable/gotchas.html#axis-order-changes-in-proj-6\n",
      "  return _prepare_from_string(\" \".join(pjargs))\n",
      "/home/prativa/anaconda3/envs/py36/lib/python3.6/site-packages/pyproj/crs/crs.py:53: FutureWarning: '+init=<authority>:<code>' syntax is deprecated. '<authority>:<code>' is the preferred initialization method. When making the change, be mindful of axis order changes: https://pyproj4.github.io/pyproj/stable/gotchas.html#axis-order-changes-in-proj-6\n",
      "  return _prepare_from_string(\" \".join(pjargs))\n",
      "/home/prativa/anaconda3/envs/py36/lib/python3.6/site-packages/ipykernel_launcher.py:72: MatplotlibDeprecationWarning: You are modifying the state of a globally registered colormap. In future versions, you will not be able to modify a registered colormap in-place. To remove this warning, you can make a copy of the colormap first. cmap = copy.copy(mpl.cm.get_cmap(\"gray\"))\n",
      "/home/prativa/anaconda3/envs/py36/lib/python3.6/site-packages/ipykernel_launcher.py:72: MatplotlibDeprecationWarning: You are modifying the state of a globally registered colormap. In future versions, you will not be able to modify a registered colormap in-place. To remove this warning, you can make a copy of the colormap first. cmap = copy.copy(mpl.cm.get_cmap(\"gray\"))\n",
      "/home/prativa/anaconda3/envs/py36/lib/python3.6/site-packages/ipykernel_launcher.py:72: MatplotlibDeprecationWarning: You are modifying the state of a globally registered colormap. In future versions, you will not be able to modify a registered colormap in-place. To remove this warning, you can make a copy of the colormap first. cmap = copy.copy(mpl.cm.get_cmap(\"gray\"))\n",
      "\n",
      "\n",
      " 17%|█▋        | 126/750 [00:23<03:35,  2.89it/s]\u001b[A\u001b[A/home/prativa/anaconda3/envs/py36/lib/python3.6/site-packages/pyproj/crs/crs.py:53: FutureWarning: '+init=<authority>:<code>' syntax is deprecated. '<authority>:<code>' is the preferred initialization method. When making the change, be mindful of axis order changes: https://pyproj4.github.io/pyproj/stable/gotchas.html#axis-order-changes-in-proj-6\n",
      "  return _prepare_from_string(\" \".join(pjargs))\n",
      "\n",
      "\n",
      " 17%|█▋        | 127/750 [00:23<03:42,  2.80it/s]\u001b[A\u001b[A/home/prativa/anaconda3/envs/py36/lib/python3.6/site-packages/pyproj/crs/crs.py:53: FutureWarning: '+init=<authority>:<code>' syntax is deprecated. '<authority>:<code>' is the preferred initialization method. When making the change, be mindful of axis order changes: https://pyproj4.github.io/pyproj/stable/gotchas.html#axis-order-changes-in-proj-6\n",
      "  return _prepare_from_string(\" \".join(pjargs))\n",
      "/home/prativa/anaconda3/envs/py36/lib/python3.6/site-packages/pyproj/crs/crs.py:53: FutureWarning: '+init=<authority>:<code>' syntax is deprecated. '<authority>:<code>' is the preferred initialization method. When making the change, be mindful of axis order changes: https://pyproj4.github.io/pyproj/stable/gotchas.html#axis-order-changes-in-proj-6\n",
      "  return _prepare_from_string(\" \".join(pjargs))\n",
      "/home/prativa/anaconda3/envs/py36/lib/python3.6/site-packages/pyproj/crs/crs.py:53: FutureWarning: '+init=<authority>:<code>' syntax is deprecated. '<authority>:<code>' is the preferred initialization method. When making the change, be mindful of axis order changes: https://pyproj4.github.io/pyproj/stable/gotchas.html#axis-order-changes-in-proj-6\n",
      "  return _prepare_from_string(\" \".join(pjargs))\n"
     ]
    },
    {
     "name": "stderr",
     "output_type": "stream",
     "text": [
      "\n",
      "\n",
      " 17%|█▋        | 129/750 [00:24<02:55,  3.53it/s]\u001b[A\u001b[A/home/prativa/anaconda3/envs/py36/lib/python3.6/site-packages/pyproj/crs/crs.py:53: FutureWarning: '+init=<authority>:<code>' syntax is deprecated. '<authority>:<code>' is the preferred initialization method. When making the change, be mindful of axis order changes: https://pyproj4.github.io/pyproj/stable/gotchas.html#axis-order-changes-in-proj-6\n",
      "  return _prepare_from_string(\" \".join(pjargs))\n",
      "\n",
      "\n",
      " 17%|█▋        | 131/750 [00:24<02:19,  4.45it/s]\u001b[A\u001b[A/home/prativa/anaconda3/envs/py36/lib/python3.6/site-packages/pyproj/crs/crs.py:53: FutureWarning: '+init=<authority>:<code>' syntax is deprecated. '<authority>:<code>' is the preferred initialization method. When making the change, be mindful of axis order changes: https://pyproj4.github.io/pyproj/stable/gotchas.html#axis-order-changes-in-proj-6\n",
      "  return _prepare_from_string(\" \".join(pjargs))\n",
      "/home/prativa/anaconda3/envs/py36/lib/python3.6/site-packages/pyproj/crs/crs.py:53: FutureWarning: '+init=<authority>:<code>' syntax is deprecated. '<authority>:<code>' is the preferred initialization method. When making the change, be mindful of axis order changes: https://pyproj4.github.io/pyproj/stable/gotchas.html#axis-order-changes-in-proj-6\n",
      "  return _prepare_from_string(\" \".join(pjargs))\n",
      "/home/prativa/anaconda3/envs/py36/lib/python3.6/site-packages/pyproj/crs/crs.py:53: FutureWarning: '+init=<authority>:<code>' syntax is deprecated. '<authority>:<code>' is the preferred initialization method. When making the change, be mindful of axis order changes: https://pyproj4.github.io/pyproj/stable/gotchas.html#axis-order-changes-in-proj-6\n",
      "  return _prepare_from_string(\" \".join(pjargs))\n",
      "/home/prativa/anaconda3/envs/py36/lib/python3.6/site-packages/pyproj/crs/crs.py:53: FutureWarning: '+init=<authority>:<code>' syntax is deprecated. '<authority>:<code>' is the preferred initialization method. When making the change, be mindful of axis order changes: https://pyproj4.github.io/pyproj/stable/gotchas.html#axis-order-changes-in-proj-6\n",
      "  return _prepare_from_string(\" \".join(pjargs))\n",
      "/home/prativa/anaconda3/envs/py36/lib/python3.6/site-packages/ipykernel_launcher.py:72: MatplotlibDeprecationWarning: You are modifying the state of a globally registered colormap. In future versions, you will not be able to modify a registered colormap in-place. To remove this warning, you can make a copy of the colormap first. cmap = copy.copy(mpl.cm.get_cmap(\"gray\"))\n",
      "\n",
      "\n",
      " 18%|█▊        | 133/750 [00:24<02:04,  4.95it/s]\u001b[A\u001b[A/home/prativa/anaconda3/envs/py36/lib/python3.6/site-packages/pyproj/crs/crs.py:53: FutureWarning: '+init=<authority>:<code>' syntax is deprecated. '<authority>:<code>' is the preferred initialization method. When making the change, be mindful of axis order changes: https://pyproj4.github.io/pyproj/stable/gotchas.html#axis-order-changes-in-proj-6\n",
      "  return _prepare_from_string(\" \".join(pjargs))\n",
      "/home/prativa/anaconda3/envs/py36/lib/python3.6/site-packages/ipykernel_launcher.py:72: MatplotlibDeprecationWarning: You are modifying the state of a globally registered colormap. In future versions, you will not be able to modify a registered colormap in-place. To remove this warning, you can make a copy of the colormap first. cmap = copy.copy(mpl.cm.get_cmap(\"gray\"))\n",
      "/home/prativa/anaconda3/envs/py36/lib/python3.6/site-packages/pyproj/crs/crs.py:53: FutureWarning: '+init=<authority>:<code>' syntax is deprecated. '<authority>:<code>' is the preferred initialization method. When making the change, be mindful of axis order changes: https://pyproj4.github.io/pyproj/stable/gotchas.html#axis-order-changes-in-proj-6\n",
      "  return _prepare_from_string(\" \".join(pjargs))\n",
      "/home/prativa/anaconda3/envs/py36/lib/python3.6/site-packages/pyproj/crs/crs.py:53: FutureWarning: '+init=<authority>:<code>' syntax is deprecated. '<authority>:<code>' is the preferred initialization method. When making the change, be mindful of axis order changes: https://pyproj4.github.io/pyproj/stable/gotchas.html#axis-order-changes-in-proj-6\n",
      "  return _prepare_from_string(\" \".join(pjargs))\n",
      "/home/prativa/anaconda3/envs/py36/lib/python3.6/site-packages/ipykernel_launcher.py:72: MatplotlibDeprecationWarning: You are modifying the state of a globally registered colormap. In future versions, you will not be able to modify a registered colormap in-place. To remove this warning, you can make a copy of the colormap first. cmap = copy.copy(mpl.cm.get_cmap(\"gray\"))\n",
      "/home/prativa/anaconda3/envs/py36/lib/python3.6/site-packages/pyproj/crs/crs.py:53: FutureWarning: '+init=<authority>:<code>' syntax is deprecated. '<authority>:<code>' is the preferred initialization method. When making the change, be mindful of axis order changes: https://pyproj4.github.io/pyproj/stable/gotchas.html#axis-order-changes-in-proj-6\n",
      "  return _prepare_from_string(\" \".join(pjargs))\n",
      "/home/prativa/anaconda3/envs/py36/lib/python3.6/site-packages/pyproj/crs/crs.py:53: FutureWarning: '+init=<authority>:<code>' syntax is deprecated. '<authority>:<code>' is the preferred initialization method. When making the change, be mindful of axis order changes: https://pyproj4.github.io/pyproj/stable/gotchas.html#axis-order-changes-in-proj-6\n",
      "  return _prepare_from_string(\" \".join(pjargs))\n",
      "/home/prativa/anaconda3/envs/py36/lib/python3.6/site-packages/pyproj/crs/crs.py:53: FutureWarning: '+init=<authority>:<code>' syntax is deprecated. '<authority>:<code>' is the preferred initialization method. When making the change, be mindful of axis order changes: https://pyproj4.github.io/pyproj/stable/gotchas.html#axis-order-changes-in-proj-6\n",
      "  return _prepare_from_string(\" \".join(pjargs))\n",
      "/home/prativa/anaconda3/envs/py36/lib/python3.6/site-packages/pyproj/crs/crs.py:53: FutureWarning: '+init=<authority>:<code>' syntax is deprecated. '<authority>:<code>' is the preferred initialization method. When making the change, be mindful of axis order changes: https://pyproj4.github.io/pyproj/stable/gotchas.html#axis-order-changes-in-proj-6\n",
      "  return _prepare_from_string(\" \".join(pjargs))\n",
      "\n",
      "\n",
      " 18%|█▊        | 134/750 [00:25<03:20,  3.07it/s]\u001b[A\u001b[A/home/prativa/anaconda3/envs/py36/lib/python3.6/site-packages/ipykernel_launcher.py:72: MatplotlibDeprecationWarning: You are modifying the state of a globally registered colormap. In future versions, you will not be able to modify a registered colormap in-place. To remove this warning, you can make a copy of the colormap first. cmap = copy.copy(mpl.cm.get_cmap(\"gray\"))\n",
      "/home/prativa/anaconda3/envs/py36/lib/python3.6/site-packages/ipykernel_launcher.py:72: MatplotlibDeprecationWarning: You are modifying the state of a globally registered colormap. In future versions, you will not be able to modify a registered colormap in-place. To remove this warning, you can make a copy of the colormap first. cmap = copy.copy(mpl.cm.get_cmap(\"gray\"))\n",
      "/home/prativa/anaconda3/envs/py36/lib/python3.6/site-packages/ipykernel_launcher.py:72: MatplotlibDeprecationWarning: You are modifying the state of a globally registered colormap. In future versions, you will not be able to modify a registered colormap in-place. To remove this warning, you can make a copy of the colormap first. cmap = copy.copy(mpl.cm.get_cmap(\"gray\"))\n",
      "/home/prativa/anaconda3/envs/py36/lib/python3.6/site-packages/ipykernel_launcher.py:72: MatplotlibDeprecationWarning: You are modifying the state of a globally registered colormap. In future versions, you will not be able to modify a registered colormap in-place. To remove this warning, you can make a copy of the colormap first. cmap = copy.copy(mpl.cm.get_cmap(\"gray\"))\n",
      "/home/prativa/anaconda3/envs/py36/lib/python3.6/site-packages/pyproj/crs/crs.py:53: FutureWarning: '+init=<authority>:<code>' syntax is deprecated. '<authority>:<code>' is the preferred initialization method. When making the change, be mindful of axis order changes: https://pyproj4.github.io/pyproj/stable/gotchas.html#axis-order-changes-in-proj-6\n",
      "  return _prepare_from_string(\" \".join(pjargs))\n",
      "/home/prativa/anaconda3/envs/py36/lib/python3.6/site-packages/pyproj/crs/crs.py:53: FutureWarning: '+init=<authority>:<code>' syntax is deprecated. '<authority>:<code>' is the preferred initialization method. When making the change, be mindful of axis order changes: https://pyproj4.github.io/pyproj/stable/gotchas.html#axis-order-changes-in-proj-6\n",
      "  return _prepare_from_string(\" \".join(pjargs))\n"
     ]
    },
    {
     "name": "stderr",
     "output_type": "stream",
     "text": [
      "/home/prativa/anaconda3/envs/py36/lib/python3.6/site-packages/ipykernel_launcher.py:72: MatplotlibDeprecationWarning: You are modifying the state of a globally registered colormap. In future versions, you will not be able to modify a registered colormap in-place. To remove this warning, you can make a copy of the colormap first. cmap = copy.copy(mpl.cm.get_cmap(\"gray\"))\n",
      "/home/prativa/anaconda3/envs/py36/lib/python3.6/site-packages/pyproj/crs/crs.py:53: FutureWarning: '+init=<authority>:<code>' syntax is deprecated. '<authority>:<code>' is the preferred initialization method. When making the change, be mindful of axis order changes: https://pyproj4.github.io/pyproj/stable/gotchas.html#axis-order-changes-in-proj-6\n",
      "  return _prepare_from_string(\" \".join(pjargs))\n",
      "/home/prativa/anaconda3/envs/py36/lib/python3.6/site-packages/pyproj/crs/crs.py:53: FutureWarning: '+init=<authority>:<code>' syntax is deprecated. '<authority>:<code>' is the preferred initialization method. When making the change, be mindful of axis order changes: https://pyproj4.github.io/pyproj/stable/gotchas.html#axis-order-changes-in-proj-6\n",
      "  return _prepare_from_string(\" \".join(pjargs))\n",
      "/home/prativa/anaconda3/envs/py36/lib/python3.6/site-packages/ipykernel_launcher.py:72: MatplotlibDeprecationWarning: You are modifying the state of a globally registered colormap. In future versions, you will not be able to modify a registered colormap in-place. To remove this warning, you can make a copy of the colormap first. cmap = copy.copy(mpl.cm.get_cmap(\"gray\"))\n",
      "\n",
      "\n",
      " 18%|█▊        | 136/750 [00:26<04:10,  2.46it/s]\u001b[A\u001b[A/home/prativa/anaconda3/envs/py36/lib/python3.6/site-packages/ipykernel_launcher.py:72: MatplotlibDeprecationWarning: You are modifying the state of a globally registered colormap. In future versions, you will not be able to modify a registered colormap in-place. To remove this warning, you can make a copy of the colormap first. cmap = copy.copy(mpl.cm.get_cmap(\"gray\"))\n",
      "\n",
      "\n",
      " 18%|█▊        | 137/750 [00:26<03:24,  2.99it/s]\u001b[A\u001b[A/home/prativa/anaconda3/envs/py36/lib/python3.6/site-packages/pyproj/crs/crs.py:53: FutureWarning: '+init=<authority>:<code>' syntax is deprecated. '<authority>:<code>' is the preferred initialization method. When making the change, be mindful of axis order changes: https://pyproj4.github.io/pyproj/stable/gotchas.html#axis-order-changes-in-proj-6\n",
      "  return _prepare_from_string(\" \".join(pjargs))\n",
      "\n",
      "\n",
      " 18%|█▊        | 138/750 [00:26<03:04,  3.31it/s]\u001b[A\u001b[A/home/prativa/anaconda3/envs/py36/lib/python3.6/site-packages/pyproj/crs/crs.py:53: FutureWarning: '+init=<authority>:<code>' syntax is deprecated. '<authority>:<code>' is the preferred initialization method. When making the change, be mindful of axis order changes: https://pyproj4.github.io/pyproj/stable/gotchas.html#axis-order-changes-in-proj-6\n",
      "  return _prepare_from_string(\" \".join(pjargs))\n",
      "/home/prativa/anaconda3/envs/py36/lib/python3.6/site-packages/pyproj/crs/crs.py:53: FutureWarning: '+init=<authority>:<code>' syntax is deprecated. '<authority>:<code>' is the preferred initialization method. When making the change, be mindful of axis order changes: https://pyproj4.github.io/pyproj/stable/gotchas.html#axis-order-changes-in-proj-6\n",
      "  return _prepare_from_string(\" \".join(pjargs))\n",
      "/home/prativa/anaconda3/envs/py36/lib/python3.6/site-packages/pyproj/crs/crs.py:53: FutureWarning: '+init=<authority>:<code>' syntax is deprecated. '<authority>:<code>' is the preferred initialization method. When making the change, be mindful of axis order changes: https://pyproj4.github.io/pyproj/stable/gotchas.html#axis-order-changes-in-proj-6\n",
      "  return _prepare_from_string(\" \".join(pjargs))\n",
      "/home/prativa/anaconda3/envs/py36/lib/python3.6/site-packages/pyproj/crs/crs.py:53: FutureWarning: '+init=<authority>:<code>' syntax is deprecated. '<authority>:<code>' is the preferred initialization method. When making the change, be mindful of axis order changes: https://pyproj4.github.io/pyproj/stable/gotchas.html#axis-order-changes-in-proj-6\n",
      "  return _prepare_from_string(\" \".join(pjargs))\n",
      "/home/prativa/anaconda3/envs/py36/lib/python3.6/site-packages/skimage/io/_io.py:141: UserWarning: data/AOI_2_Vegas_Roads_Train/PAN_mask/PAN_AOI_2_Vegas_img68.jpg is a low contrast image\n",
      "  warn('%s is a low contrast image' % fname)\n",
      "\n",
      "\n",
      " 19%|█▊        | 139/750 [00:27<03:18,  3.08it/s]\u001b[A\u001b[A/home/prativa/anaconda3/envs/py36/lib/python3.6/site-packages/ipykernel_launcher.py:72: MatplotlibDeprecationWarning: You are modifying the state of a globally registered colormap. In future versions, you will not be able to modify a registered colormap in-place. To remove this warning, you can make a copy of the colormap first. cmap = copy.copy(mpl.cm.get_cmap(\"gray\"))\n",
      "/home/prativa/anaconda3/envs/py36/lib/python3.6/site-packages/pyproj/crs/crs.py:53: FutureWarning: '+init=<authority>:<code>' syntax is deprecated. '<authority>:<code>' is the preferred initialization method. When making the change, be mindful of axis order changes: https://pyproj4.github.io/pyproj/stable/gotchas.html#axis-order-changes-in-proj-6\n",
      "  return _prepare_from_string(\" \".join(pjargs))\n",
      "/home/prativa/anaconda3/envs/py36/lib/python3.6/site-packages/pyproj/crs/crs.py:53: FutureWarning: '+init=<authority>:<code>' syntax is deprecated. '<authority>:<code>' is the preferred initialization method. When making the change, be mindful of axis order changes: https://pyproj4.github.io/pyproj/stable/gotchas.html#axis-order-changes-in-proj-6\n",
      "  return _prepare_from_string(\" \".join(pjargs))\n",
      "/home/prativa/anaconda3/envs/py36/lib/python3.6/site-packages/pyproj/crs/crs.py:53: FutureWarning: '+init=<authority>:<code>' syntax is deprecated. '<authority>:<code>' is the preferred initialization method. When making the change, be mindful of axis order changes: https://pyproj4.github.io/pyproj/stable/gotchas.html#axis-order-changes-in-proj-6\n",
      "  return _prepare_from_string(\" \".join(pjargs))\n",
      "\n",
      "\n",
      " 19%|█▉        | 141/750 [00:27<02:50,  3.56it/s]\u001b[A\u001b[A/home/prativa/anaconda3/envs/py36/lib/python3.6/site-packages/ipykernel_launcher.py:72: MatplotlibDeprecationWarning: You are modifying the state of a globally registered colormap. In future versions, you will not be able to modify a registered colormap in-place. To remove this warning, you can make a copy of the colormap first. cmap = copy.copy(mpl.cm.get_cmap(\"gray\"))\n",
      "/home/prativa/anaconda3/envs/py36/lib/python3.6/site-packages/pyproj/crs/crs.py:53: FutureWarning: '+init=<authority>:<code>' syntax is deprecated. '<authority>:<code>' is the preferred initialization method. When making the change, be mindful of axis order changes: https://pyproj4.github.io/pyproj/stable/gotchas.html#axis-order-changes-in-proj-6\n",
      "  return _prepare_from_string(\" \".join(pjargs))\n",
      "\n",
      "\n",
      " 19%|█▉        | 143/750 [00:27<02:15,  4.49it/s]\u001b[A\u001b[A/home/prativa/anaconda3/envs/py36/lib/python3.6/site-packages/pyproj/crs/crs.py:53: FutureWarning: '+init=<authority>:<code>' syntax is deprecated. '<authority>:<code>' is the preferred initialization method. When making the change, be mindful of axis order changes: https://pyproj4.github.io/pyproj/stable/gotchas.html#axis-order-changes-in-proj-6\n",
      "  return _prepare_from_string(\" \".join(pjargs))\n",
      "/home/prativa/anaconda3/envs/py36/lib/python3.6/site-packages/pyproj/crs/crs.py:53: FutureWarning: '+init=<authority>:<code>' syntax is deprecated. '<authority>:<code>' is the preferred initialization method. When making the change, be mindful of axis order changes: https://pyproj4.github.io/pyproj/stable/gotchas.html#axis-order-changes-in-proj-6\n",
      "  return _prepare_from_string(\" \".join(pjargs))\n",
      "/home/prativa/anaconda3/envs/py36/lib/python3.6/site-packages/ipykernel_launcher.py:72: MatplotlibDeprecationWarning: You are modifying the state of a globally registered colormap. In future versions, you will not be able to modify a registered colormap in-place. To remove this warning, you can make a copy of the colormap first. cmap = copy.copy(mpl.cm.get_cmap(\"gray\"))\n",
      "/home/prativa/anaconda3/envs/py36/lib/python3.6/site-packages/pyproj/crs/crs.py:53: FutureWarning: '+init=<authority>:<code>' syntax is deprecated. '<authority>:<code>' is the preferred initialization method. When making the change, be mindful of axis order changes: https://pyproj4.github.io/pyproj/stable/gotchas.html#axis-order-changes-in-proj-6\n",
      "  return _prepare_from_string(\" \".join(pjargs))\n"
     ]
    },
    {
     "name": "stderr",
     "output_type": "stream",
     "text": [
      "/home/prativa/anaconda3/envs/py36/lib/python3.6/site-packages/pyproj/crs/crs.py:53: FutureWarning: '+init=<authority>:<code>' syntax is deprecated. '<authority>:<code>' is the preferred initialization method. When making the change, be mindful of axis order changes: https://pyproj4.github.io/pyproj/stable/gotchas.html#axis-order-changes-in-proj-6\n",
      "  return _prepare_from_string(\" \".join(pjargs))\n",
      "/home/prativa/anaconda3/envs/py36/lib/python3.6/site-packages/pyproj/crs/crs.py:53: FutureWarning: '+init=<authority>:<code>' syntax is deprecated. '<authority>:<code>' is the preferred initialization method. When making the change, be mindful of axis order changes: https://pyproj4.github.io/pyproj/stable/gotchas.html#axis-order-changes-in-proj-6\n",
      "  return _prepare_from_string(\" \".join(pjargs))\n",
      "/home/prativa/anaconda3/envs/py36/lib/python3.6/site-packages/ipykernel_launcher.py:72: MatplotlibDeprecationWarning: You are modifying the state of a globally registered colormap. In future versions, you will not be able to modify a registered colormap in-place. To remove this warning, you can make a copy of the colormap first. cmap = copy.copy(mpl.cm.get_cmap(\"gray\"))\n",
      "\n",
      "\n",
      " 19%|█▉        | 144/750 [00:28<03:11,  3.16it/s]\u001b[A\u001b[A/home/prativa/anaconda3/envs/py36/lib/python3.6/site-packages/ipykernel_launcher.py:72: MatplotlibDeprecationWarning: You are modifying the state of a globally registered colormap. In future versions, you will not be able to modify a registered colormap in-place. To remove this warning, you can make a copy of the colormap first. cmap = copy.copy(mpl.cm.get_cmap(\"gray\"))\n",
      "/home/prativa/anaconda3/envs/py36/lib/python3.6/site-packages/pyproj/crs/crs.py:53: FutureWarning: '+init=<authority>:<code>' syntax is deprecated. '<authority>:<code>' is the preferred initialization method. When making the change, be mindful of axis order changes: https://pyproj4.github.io/pyproj/stable/gotchas.html#axis-order-changes-in-proj-6\n",
      "  return _prepare_from_string(\" \".join(pjargs))\n",
      "/home/prativa/anaconda3/envs/py36/lib/python3.6/site-packages/pyproj/crs/crs.py:53: FutureWarning: '+init=<authority>:<code>' syntax is deprecated. '<authority>:<code>' is the preferred initialization method. When making the change, be mindful of axis order changes: https://pyproj4.github.io/pyproj/stable/gotchas.html#axis-order-changes-in-proj-6\n",
      "  return _prepare_from_string(\" \".join(pjargs))\n",
      "/home/prativa/anaconda3/envs/py36/lib/python3.6/site-packages/ipykernel_launcher.py:72: MatplotlibDeprecationWarning: You are modifying the state of a globally registered colormap. In future versions, you will not be able to modify a registered colormap in-place. To remove this warning, you can make a copy of the colormap first. cmap = copy.copy(mpl.cm.get_cmap(\"gray\"))\n",
      "\n",
      "\n",
      " 19%|█▉        | 145/750 [00:28<03:07,  3.23it/s]\u001b[A\u001b[A/home/prativa/anaconda3/envs/py36/lib/python3.6/site-packages/pyproj/crs/crs.py:53: FutureWarning: '+init=<authority>:<code>' syntax is deprecated. '<authority>:<code>' is the preferred initialization method. When making the change, be mindful of axis order changes: https://pyproj4.github.io/pyproj/stable/gotchas.html#axis-order-changes-in-proj-6\n",
      "  return _prepare_from_string(\" \".join(pjargs))\n",
      "/home/prativa/anaconda3/envs/py36/lib/python3.6/site-packages/ipykernel_launcher.py:72: MatplotlibDeprecationWarning: You are modifying the state of a globally registered colormap. In future versions, you will not be able to modify a registered colormap in-place. To remove this warning, you can make a copy of the colormap first. cmap = copy.copy(mpl.cm.get_cmap(\"gray\"))\n",
      "/home/prativa/anaconda3/envs/py36/lib/python3.6/site-packages/pyproj/crs/crs.py:53: FutureWarning: '+init=<authority>:<code>' syntax is deprecated. '<authority>:<code>' is the preferred initialization method. When making the change, be mindful of axis order changes: https://pyproj4.github.io/pyproj/stable/gotchas.html#axis-order-changes-in-proj-6\n",
      "  return _prepare_from_string(\" \".join(pjargs))\n",
      "/home/prativa/anaconda3/envs/py36/lib/python3.6/site-packages/pyproj/crs/crs.py:53: FutureWarning: '+init=<authority>:<code>' syntax is deprecated. '<authority>:<code>' is the preferred initialization method. When making the change, be mindful of axis order changes: https://pyproj4.github.io/pyproj/stable/gotchas.html#axis-order-changes-in-proj-6\n",
      "  return _prepare_from_string(\" \".join(pjargs))\n",
      "/home/prativa/anaconda3/envs/py36/lib/python3.6/site-packages/ipykernel_launcher.py:72: MatplotlibDeprecationWarning: You are modifying the state of a globally registered colormap. In future versions, you will not be able to modify a registered colormap in-place. To remove this warning, you can make a copy of the colormap first. cmap = copy.copy(mpl.cm.get_cmap(\"gray\"))\n",
      "/home/prativa/anaconda3/envs/py36/lib/python3.6/site-packages/pyproj/crs/crs.py:53: FutureWarning: '+init=<authority>:<code>' syntax is deprecated. '<authority>:<code>' is the preferred initialization method. When making the change, be mindful of axis order changes: https://pyproj4.github.io/pyproj/stable/gotchas.html#axis-order-changes-in-proj-6\n",
      "  return _prepare_from_string(\" \".join(pjargs))\n",
      "\n",
      "\n",
      " 19%|█▉        | 146/750 [00:29<04:33,  2.21it/s]\u001b[A\u001b[A/home/prativa/anaconda3/envs/py36/lib/python3.6/site-packages/pyproj/crs/crs.py:53: FutureWarning: '+init=<authority>:<code>' syntax is deprecated. '<authority>:<code>' is the preferred initialization method. When making the change, be mindful of axis order changes: https://pyproj4.github.io/pyproj/stable/gotchas.html#axis-order-changes-in-proj-6\n",
      "  return _prepare_from_string(\" \".join(pjargs))\n",
      "/home/prativa/anaconda3/envs/py36/lib/python3.6/site-packages/ipykernel_launcher.py:72: MatplotlibDeprecationWarning: You are modifying the state of a globally registered colormap. In future versions, you will not be able to modify a registered colormap in-place. To remove this warning, you can make a copy of the colormap first. cmap = copy.copy(mpl.cm.get_cmap(\"gray\"))\n",
      "\n",
      "\n",
      " 20%|█▉        | 148/750 [00:29<03:45,  2.66it/s]\u001b[A\u001b[A/home/prativa/anaconda3/envs/py36/lib/python3.6/site-packages/ipykernel_launcher.py:72: MatplotlibDeprecationWarning: You are modifying the state of a globally registered colormap. In future versions, you will not be able to modify a registered colormap in-place. To remove this warning, you can make a copy of the colormap first. cmap = copy.copy(mpl.cm.get_cmap(\"gray\"))\n",
      "/home/prativa/anaconda3/envs/py36/lib/python3.6/site-packages/pyproj/crs/crs.py:53: FutureWarning: '+init=<authority>:<code>' syntax is deprecated. '<authority>:<code>' is the preferred initialization method. When making the change, be mindful of axis order changes: https://pyproj4.github.io/pyproj/stable/gotchas.html#axis-order-changes-in-proj-6\n",
      "  return _prepare_from_string(\" \".join(pjargs))\n",
      "/home/prativa/anaconda3/envs/py36/lib/python3.6/site-packages/pyproj/crs/crs.py:53: FutureWarning: '+init=<authority>:<code>' syntax is deprecated. '<authority>:<code>' is the preferred initialization method. When making the change, be mindful of axis order changes: https://pyproj4.github.io/pyproj/stable/gotchas.html#axis-order-changes-in-proj-6\n",
      "  return _prepare_from_string(\" \".join(pjargs))\n",
      "/home/prativa/anaconda3/envs/py36/lib/python3.6/site-packages/pyproj/crs/crs.py:53: FutureWarning: '+init=<authority>:<code>' syntax is deprecated. '<authority>:<code>' is the preferred initialization method. When making the change, be mindful of axis order changes: https://pyproj4.github.io/pyproj/stable/gotchas.html#axis-order-changes-in-proj-6\n",
      "  return _prepare_from_string(\" \".join(pjargs))\n",
      "\n",
      "\n",
      " 20%|█▉        | 149/750 [00:30<03:53,  2.58it/s]\u001b[A\u001b[A/home/prativa/anaconda3/envs/py36/lib/python3.6/site-packages/pyproj/crs/crs.py:53: FutureWarning: '+init=<authority>:<code>' syntax is deprecated. '<authority>:<code>' is the preferred initialization method. When making the change, be mindful of axis order changes: https://pyproj4.github.io/pyproj/stable/gotchas.html#axis-order-changes-in-proj-6\n",
      "  return _prepare_from_string(\" \".join(pjargs))\n",
      "\n",
      "\n",
      " 20%|██        | 150/750 [00:30<03:09,  3.17it/s]\u001b[A\u001b[A/home/prativa/anaconda3/envs/py36/lib/python3.6/site-packages/pyproj/crs/crs.py:53: FutureWarning: '+init=<authority>:<code>' syntax is deprecated. '<authority>:<code>' is the preferred initialization method. When making the change, be mindful of axis order changes: https://pyproj4.github.io/pyproj/stable/gotchas.html#axis-order-changes-in-proj-6\n",
      "  return _prepare_from_string(\" \".join(pjargs))\n"
     ]
    },
    {
     "name": "stderr",
     "output_type": "stream",
     "text": [
      "\n",
      "\n",
      " 20%|██        | 151/750 [00:30<02:45,  3.62it/s]\u001b[A\u001b[A/home/prativa/anaconda3/envs/py36/lib/python3.6/site-packages/ipykernel_launcher.py:72: MatplotlibDeprecationWarning: You are modifying the state of a globally registered colormap. In future versions, you will not be able to modify a registered colormap in-place. To remove this warning, you can make a copy of the colormap first. cmap = copy.copy(mpl.cm.get_cmap(\"gray\"))\n",
      "/home/prativa/anaconda3/envs/py36/lib/python3.6/site-packages/pyproj/crs/crs.py:53: FutureWarning: '+init=<authority>:<code>' syntax is deprecated. '<authority>:<code>' is the preferred initialization method. When making the change, be mindful of axis order changes: https://pyproj4.github.io/pyproj/stable/gotchas.html#axis-order-changes-in-proj-6\n",
      "  return _prepare_from_string(\" \".join(pjargs))\n",
      "/home/prativa/anaconda3/envs/py36/lib/python3.6/site-packages/pyproj/crs/crs.py:53: FutureWarning: '+init=<authority>:<code>' syntax is deprecated. '<authority>:<code>' is the preferred initialization method. When making the change, be mindful of axis order changes: https://pyproj4.github.io/pyproj/stable/gotchas.html#axis-order-changes-in-proj-6\n",
      "  return _prepare_from_string(\" \".join(pjargs))\n",
      "/home/prativa/anaconda3/envs/py36/lib/python3.6/site-packages/ipykernel_launcher.py:72: MatplotlibDeprecationWarning: You are modifying the state of a globally registered colormap. In future versions, you will not be able to modify a registered colormap in-place. To remove this warning, you can make a copy of the colormap first. cmap = copy.copy(mpl.cm.get_cmap(\"gray\"))\n",
      "/home/prativa/anaconda3/envs/py36/lib/python3.6/site-packages/pyproj/crs/crs.py:53: FutureWarning: '+init=<authority>:<code>' syntax is deprecated. '<authority>:<code>' is the preferred initialization method. When making the change, be mindful of axis order changes: https://pyproj4.github.io/pyproj/stable/gotchas.html#axis-order-changes-in-proj-6\n",
      "  return _prepare_from_string(\" \".join(pjargs))\n",
      "/home/prativa/anaconda3/envs/py36/lib/python3.6/site-packages/pyproj/crs/crs.py:53: FutureWarning: '+init=<authority>:<code>' syntax is deprecated. '<authority>:<code>' is the preferred initialization method. When making the change, be mindful of axis order changes: https://pyproj4.github.io/pyproj/stable/gotchas.html#axis-order-changes-in-proj-6\n",
      "  return _prepare_from_string(\" \".join(pjargs))\n",
      "/home/prativa/anaconda3/envs/py36/lib/python3.6/site-packages/pyproj/crs/crs.py:53: FutureWarning: '+init=<authority>:<code>' syntax is deprecated. '<authority>:<code>' is the preferred initialization method. When making the change, be mindful of axis order changes: https://pyproj4.github.io/pyproj/stable/gotchas.html#axis-order-changes-in-proj-6\n",
      "  return _prepare_from_string(\" \".join(pjargs))\n",
      "/home/prativa/anaconda3/envs/py36/lib/python3.6/site-packages/pyproj/crs/crs.py:53: FutureWarning: '+init=<authority>:<code>' syntax is deprecated. '<authority>:<code>' is the preferred initialization method. When making the change, be mindful of axis order changes: https://pyproj4.github.io/pyproj/stable/gotchas.html#axis-order-changes-in-proj-6\n",
      "  return _prepare_from_string(\" \".join(pjargs))\n",
      "/home/prativa/anaconda3/envs/py36/lib/python3.6/site-packages/ipykernel_launcher.py:72: MatplotlibDeprecationWarning: You are modifying the state of a globally registered colormap. In future versions, you will not be able to modify a registered colormap in-place. To remove this warning, you can make a copy of the colormap first. cmap = copy.copy(mpl.cm.get_cmap(\"gray\"))\n",
      "/home/prativa/anaconda3/envs/py36/lib/python3.6/site-packages/pyproj/crs/crs.py:53: FutureWarning: '+init=<authority>:<code>' syntax is deprecated. '<authority>:<code>' is the preferred initialization method. When making the change, be mindful of axis order changes: https://pyproj4.github.io/pyproj/stable/gotchas.html#axis-order-changes-in-proj-6\n",
      "  return _prepare_from_string(\" \".join(pjargs))\n",
      "\n",
      "\n",
      " 20%|██        | 152/750 [00:31<04:11,  2.38it/s]\u001b[A\u001b[A/home/prativa/anaconda3/envs/py36/lib/python3.6/site-packages/pyproj/crs/crs.py:53: FutureWarning: '+init=<authority>:<code>' syntax is deprecated. '<authority>:<code>' is the preferred initialization method. When making the change, be mindful of axis order changes: https://pyproj4.github.io/pyproj/stable/gotchas.html#axis-order-changes-in-proj-6\n",
      "  return _prepare_from_string(\" \".join(pjargs))\n",
      "\n",
      "\n",
      " 21%|██        | 154/750 [00:32<04:40,  2.12it/s]\u001b[A\u001b[A/home/prativa/anaconda3/envs/py36/lib/python3.6/site-packages/pyproj/crs/crs.py:53: FutureWarning: '+init=<authority>:<code>' syntax is deprecated. '<authority>:<code>' is the preferred initialization method. When making the change, be mindful of axis order changes: https://pyproj4.github.io/pyproj/stable/gotchas.html#axis-order-changes-in-proj-6\n",
      "  return _prepare_from_string(\" \".join(pjargs))\n",
      "/home/prativa/anaconda3/envs/py36/lib/python3.6/site-packages/pyproj/crs/crs.py:53: FutureWarning: '+init=<authority>:<code>' syntax is deprecated. '<authority>:<code>' is the preferred initialization method. When making the change, be mindful of axis order changes: https://pyproj4.github.io/pyproj/stable/gotchas.html#axis-order-changes-in-proj-6\n",
      "  return _prepare_from_string(\" \".join(pjargs))\n",
      "/home/prativa/anaconda3/envs/py36/lib/python3.6/site-packages/ipykernel_launcher.py:72: MatplotlibDeprecationWarning: You are modifying the state of a globally registered colormap. In future versions, you will not be able to modify a registered colormap in-place. To remove this warning, you can make a copy of the colormap first. cmap = copy.copy(mpl.cm.get_cmap(\"gray\"))\n",
      "/home/prativa/anaconda3/envs/py36/lib/python3.6/site-packages/ipykernel_launcher.py:72: MatplotlibDeprecationWarning: You are modifying the state of a globally registered colormap. In future versions, you will not be able to modify a registered colormap in-place. To remove this warning, you can make a copy of the colormap first. cmap = copy.copy(mpl.cm.get_cmap(\"gray\"))\n",
      "/home/prativa/anaconda3/envs/py36/lib/python3.6/site-packages/ipykernel_launcher.py:72: MatplotlibDeprecationWarning: You are modifying the state of a globally registered colormap. In future versions, you will not be able to modify a registered colormap in-place. To remove this warning, you can make a copy of the colormap first. cmap = copy.copy(mpl.cm.get_cmap(\"gray\"))\n",
      "/home/prativa/anaconda3/envs/py36/lib/python3.6/site-packages/ipykernel_launcher.py:72: MatplotlibDeprecationWarning: You are modifying the state of a globally registered colormap. In future versions, you will not be able to modify a registered colormap in-place. To remove this warning, you can make a copy of the colormap first. cmap = copy.copy(mpl.cm.get_cmap(\"gray\"))\n",
      "/home/prativa/anaconda3/envs/py36/lib/python3.6/site-packages/pyproj/crs/crs.py:53: FutureWarning: '+init=<authority>:<code>' syntax is deprecated. '<authority>:<code>' is the preferred initialization method. When making the change, be mindful of axis order changes: https://pyproj4.github.io/pyproj/stable/gotchas.html#axis-order-changes-in-proj-6\n",
      "  return _prepare_from_string(\" \".join(pjargs))\n",
      "/home/prativa/anaconda3/envs/py36/lib/python3.6/site-packages/pyproj/crs/crs.py:53: FutureWarning: '+init=<authority>:<code>' syntax is deprecated. '<authority>:<code>' is the preferred initialization method. When making the change, be mindful of axis order changes: https://pyproj4.github.io/pyproj/stable/gotchas.html#axis-order-changes-in-proj-6\n",
      "  return _prepare_from_string(\" \".join(pjargs))\n",
      "/home/prativa/anaconda3/envs/py36/lib/python3.6/site-packages/pyproj/crs/crs.py:53: FutureWarning: '+init=<authority>:<code>' syntax is deprecated. '<authority>:<code>' is the preferred initialization method. When making the change, be mindful of axis order changes: https://pyproj4.github.io/pyproj/stable/gotchas.html#axis-order-changes-in-proj-6\n",
      "  return _prepare_from_string(\" \".join(pjargs))\n",
      "/home/prativa/anaconda3/envs/py36/lib/python3.6/site-packages/pyproj/crs/crs.py:53: FutureWarning: '+init=<authority>:<code>' syntax is deprecated. '<authority>:<code>' is the preferred initialization method. When making the change, be mindful of axis order changes: https://pyproj4.github.io/pyproj/stable/gotchas.html#axis-order-changes-in-proj-6\n",
      "  return _prepare_from_string(\" \".join(pjargs))\n"
     ]
    },
    {
     "name": "stderr",
     "output_type": "stream",
     "text": [
      "\n",
      "\n",
      " 21%|██        | 156/750 [00:34<06:06,  1.62it/s]\u001b[A\u001b[A/home/prativa/anaconda3/envs/py36/lib/python3.6/site-packages/ipykernel_launcher.py:72: MatplotlibDeprecationWarning: You are modifying the state of a globally registered colormap. In future versions, you will not be able to modify a registered colormap in-place. To remove this warning, you can make a copy of the colormap first. cmap = copy.copy(mpl.cm.get_cmap(\"gray\"))\n",
      "/home/prativa/anaconda3/envs/py36/lib/python3.6/site-packages/pyproj/crs/crs.py:53: FutureWarning: '+init=<authority>:<code>' syntax is deprecated. '<authority>:<code>' is the preferred initialization method. When making the change, be mindful of axis order changes: https://pyproj4.github.io/pyproj/stable/gotchas.html#axis-order-changes-in-proj-6\n",
      "  return _prepare_from_string(\" \".join(pjargs))\n",
      "/home/prativa/anaconda3/envs/py36/lib/python3.6/site-packages/ipykernel_launcher.py:72: MatplotlibDeprecationWarning: You are modifying the state of a globally registered colormap. In future versions, you will not be able to modify a registered colormap in-place. To remove this warning, you can make a copy of the colormap first. cmap = copy.copy(mpl.cm.get_cmap(\"gray\"))\n",
      "/home/prativa/anaconda3/envs/py36/lib/python3.6/site-packages/ipykernel_launcher.py:72: MatplotlibDeprecationWarning: You are modifying the state of a globally registered colormap. In future versions, you will not be able to modify a registered colormap in-place. To remove this warning, you can make a copy of the colormap first. cmap = copy.copy(mpl.cm.get_cmap(\"gray\"))\n",
      "/home/prativa/anaconda3/envs/py36/lib/python3.6/site-packages/pyproj/crs/crs.py:53: FutureWarning: '+init=<authority>:<code>' syntax is deprecated. '<authority>:<code>' is the preferred initialization method. When making the change, be mindful of axis order changes: https://pyproj4.github.io/pyproj/stable/gotchas.html#axis-order-changes-in-proj-6\n",
      "  return _prepare_from_string(\" \".join(pjargs))\n",
      "/home/prativa/anaconda3/envs/py36/lib/python3.6/site-packages/pyproj/crs/crs.py:53: FutureWarning: '+init=<authority>:<code>' syntax is deprecated. '<authority>:<code>' is the preferred initialization method. When making the change, be mindful of axis order changes: https://pyproj4.github.io/pyproj/stable/gotchas.html#axis-order-changes-in-proj-6\n",
      "  return _prepare_from_string(\" \".join(pjargs))\n",
      "/home/prativa/anaconda3/envs/py36/lib/python3.6/site-packages/pyproj/crs/crs.py:53: FutureWarning: '+init=<authority>:<code>' syntax is deprecated. '<authority>:<code>' is the preferred initialization method. When making the change, be mindful of axis order changes: https://pyproj4.github.io/pyproj/stable/gotchas.html#axis-order-changes-in-proj-6\n",
      "  return _prepare_from_string(\" \".join(pjargs))\n",
      "/home/prativa/anaconda3/envs/py36/lib/python3.6/site-packages/pyproj/crs/crs.py:53: FutureWarning: '+init=<authority>:<code>' syntax is deprecated. '<authority>:<code>' is the preferred initialization method. When making the change, be mindful of axis order changes: https://pyproj4.github.io/pyproj/stable/gotchas.html#axis-order-changes-in-proj-6\n",
      "  return _prepare_from_string(\" \".join(pjargs))\n",
      "/home/prativa/anaconda3/envs/py36/lib/python3.6/site-packages/pyproj/crs/crs.py:53: FutureWarning: '+init=<authority>:<code>' syntax is deprecated. '<authority>:<code>' is the preferred initialization method. When making the change, be mindful of axis order changes: https://pyproj4.github.io/pyproj/stable/gotchas.html#axis-order-changes-in-proj-6\n",
      "  return _prepare_from_string(\" \".join(pjargs))\n",
      "/home/prativa/anaconda3/envs/py36/lib/python3.6/site-packages/ipykernel_launcher.py:72: MatplotlibDeprecationWarning: You are modifying the state of a globally registered colormap. In future versions, you will not be able to modify a registered colormap in-place. To remove this warning, you can make a copy of the colormap first. cmap = copy.copy(mpl.cm.get_cmap(\"gray\"))\n",
      "/home/prativa/anaconda3/envs/py36/lib/python3.6/site-packages/ipykernel_launcher.py:72: MatplotlibDeprecationWarning: You are modifying the state of a globally registered colormap. In future versions, you will not be able to modify a registered colormap in-place. To remove this warning, you can make a copy of the colormap first. cmap = copy.copy(mpl.cm.get_cmap(\"gray\"))\n",
      "\n",
      "\n",
      " 21%|██        | 159/750 [00:35<05:44,  1.71it/s]\u001b[A\u001b[A/home/prativa/anaconda3/envs/py36/lib/python3.6/site-packages/ipykernel_launcher.py:72: MatplotlibDeprecationWarning: You are modifying the state of a globally registered colormap. In future versions, you will not be able to modify a registered colormap in-place. To remove this warning, you can make a copy of the colormap first. cmap = copy.copy(mpl.cm.get_cmap(\"gray\"))\n",
      "/home/prativa/anaconda3/envs/py36/lib/python3.6/site-packages/pyproj/crs/crs.py:53: FutureWarning: '+init=<authority>:<code>' syntax is deprecated. '<authority>:<code>' is the preferred initialization method. When making the change, be mindful of axis order changes: https://pyproj4.github.io/pyproj/stable/gotchas.html#axis-order-changes-in-proj-6\n",
      "  return _prepare_from_string(\" \".join(pjargs))\n",
      "/home/prativa/anaconda3/envs/py36/lib/python3.6/site-packages/pyproj/crs/crs.py:53: FutureWarning: '+init=<authority>:<code>' syntax is deprecated. '<authority>:<code>' is the preferred initialization method. When making the change, be mindful of axis order changes: https://pyproj4.github.io/pyproj/stable/gotchas.html#axis-order-changes-in-proj-6\n",
      "  return _prepare_from_string(\" \".join(pjargs))\n",
      "/home/prativa/anaconda3/envs/py36/lib/python3.6/site-packages/pyproj/crs/crs.py:53: FutureWarning: '+init=<authority>:<code>' syntax is deprecated. '<authority>:<code>' is the preferred initialization method. When making the change, be mindful of axis order changes: https://pyproj4.github.io/pyproj/stable/gotchas.html#axis-order-changes-in-proj-6\n",
      "  return _prepare_from_string(\" \".join(pjargs))\n",
      "/home/prativa/anaconda3/envs/py36/lib/python3.6/site-packages/pyproj/crs/crs.py:53: FutureWarning: '+init=<authority>:<code>' syntax is deprecated. '<authority>:<code>' is the preferred initialization method. When making the change, be mindful of axis order changes: https://pyproj4.github.io/pyproj/stable/gotchas.html#axis-order-changes-in-proj-6\n",
      "  return _prepare_from_string(\" \".join(pjargs))\n",
      "/home/prativa/anaconda3/envs/py36/lib/python3.6/site-packages/pyproj/crs/crs.py:53: FutureWarning: '+init=<authority>:<code>' syntax is deprecated. '<authority>:<code>' is the preferred initialization method. When making the change, be mindful of axis order changes: https://pyproj4.github.io/pyproj/stable/gotchas.html#axis-order-changes-in-proj-6\n",
      "  return _prepare_from_string(\" \".join(pjargs))\n",
      "\n",
      "\n",
      " 22%|██▏       | 163/750 [00:36<04:31,  2.16it/s]\u001b[A\u001b[A/home/prativa/anaconda3/envs/py36/lib/python3.6/site-packages/pyproj/crs/crs.py:53: FutureWarning: '+init=<authority>:<code>' syntax is deprecated. '<authority>:<code>' is the preferred initialization method. When making the change, be mindful of axis order changes: https://pyproj4.github.io/pyproj/stable/gotchas.html#axis-order-changes-in-proj-6\n",
      "  return _prepare_from_string(\" \".join(pjargs))\n",
      "/home/prativa/anaconda3/envs/py36/lib/python3.6/site-packages/pyproj/crs/crs.py:53: FutureWarning: '+init=<authority>:<code>' syntax is deprecated. '<authority>:<code>' is the preferred initialization method. When making the change, be mindful of axis order changes: https://pyproj4.github.io/pyproj/stable/gotchas.html#axis-order-changes-in-proj-6\n",
      "  return _prepare_from_string(\" \".join(pjargs))\n",
      "/home/prativa/anaconda3/envs/py36/lib/python3.6/site-packages/pyproj/crs/crs.py:53: FutureWarning: '+init=<authority>:<code>' syntax is deprecated. '<authority>:<code>' is the preferred initialization method. When making the change, be mindful of axis order changes: https://pyproj4.github.io/pyproj/stable/gotchas.html#axis-order-changes-in-proj-6\n",
      "  return _prepare_from_string(\" \".join(pjargs))\n",
      "\n",
      "\n",
      " 22%|██▏       | 165/750 [00:36<03:30,  2.79it/s]\u001b[A\u001b[A/home/prativa/anaconda3/envs/py36/lib/python3.6/site-packages/ipykernel_launcher.py:72: MatplotlibDeprecationWarning: You are modifying the state of a globally registered colormap. In future versions, you will not be able to modify a registered colormap in-place. To remove this warning, you can make a copy of the colormap first. cmap = copy.copy(mpl.cm.get_cmap(\"gray\"))\n"
     ]
    },
    {
     "name": "stderr",
     "output_type": "stream",
     "text": [
      "/home/prativa/anaconda3/envs/py36/lib/python3.6/site-packages/pyproj/crs/crs.py:53: FutureWarning: '+init=<authority>:<code>' syntax is deprecated. '<authority>:<code>' is the preferred initialization method. When making the change, be mindful of axis order changes: https://pyproj4.github.io/pyproj/stable/gotchas.html#axis-order-changes-in-proj-6\n",
      "  return _prepare_from_string(\" \".join(pjargs))\n"
     ]
    },
    {
     "name": "stdout",
     "output_type": "stream",
     "text": [
      "'data/AOI_2_Vegas_Roads_Train/geojson/spacenetroads/spacenetroads_AOI_2_Vegas_img42.geojson' not recognized as a supported file format.\n"
     ]
    },
    {
     "name": "stderr",
     "output_type": "stream",
     "text": [
      "/home/prativa/anaconda3/envs/py36/lib/python3.6/site-packages/pyproj/crs/crs.py:53: FutureWarning: '+init=<authority>:<code>' syntax is deprecated. '<authority>:<code>' is the preferred initialization method. When making the change, be mindful of axis order changes: https://pyproj4.github.io/pyproj/stable/gotchas.html#axis-order-changes-in-proj-6\n",
      "  return _prepare_from_string(\" \".join(pjargs))\n",
      "/home/prativa/anaconda3/envs/py36/lib/python3.6/site-packages/ipykernel_launcher.py:72: MatplotlibDeprecationWarning: You are modifying the state of a globally registered colormap. In future versions, you will not be able to modify a registered colormap in-place. To remove this warning, you can make a copy of the colormap first. cmap = copy.copy(mpl.cm.get_cmap(\"gray\"))\n",
      "/home/prativa/anaconda3/envs/py36/lib/python3.6/site-packages/pyproj/crs/crs.py:53: FutureWarning: '+init=<authority>:<code>' syntax is deprecated. '<authority>:<code>' is the preferred initialization method. When making the change, be mindful of axis order changes: https://pyproj4.github.io/pyproj/stable/gotchas.html#axis-order-changes-in-proj-6\n",
      "  return _prepare_from_string(\" \".join(pjargs))\n",
      "/home/prativa/anaconda3/envs/py36/lib/python3.6/site-packages/ipykernel_launcher.py:72: MatplotlibDeprecationWarning: You are modifying the state of a globally registered colormap. In future versions, you will not be able to modify a registered colormap in-place. To remove this warning, you can make a copy of the colormap first. cmap = copy.copy(mpl.cm.get_cmap(\"gray\"))\n",
      "/home/prativa/anaconda3/envs/py36/lib/python3.6/site-packages/ipykernel_launcher.py:72: MatplotlibDeprecationWarning: You are modifying the state of a globally registered colormap. In future versions, you will not be able to modify a registered colormap in-place. To remove this warning, you can make a copy of the colormap first. cmap = copy.copy(mpl.cm.get_cmap(\"gray\"))\n",
      "/home/prativa/anaconda3/envs/py36/lib/python3.6/site-packages/pyproj/crs/crs.py:53: FutureWarning: '+init=<authority>:<code>' syntax is deprecated. '<authority>:<code>' is the preferred initialization method. When making the change, be mindful of axis order changes: https://pyproj4.github.io/pyproj/stable/gotchas.html#axis-order-changes-in-proj-6\n",
      "  return _prepare_from_string(\" \".join(pjargs))\n",
      "/home/prativa/anaconda3/envs/py36/lib/python3.6/site-packages/pyproj/crs/crs.py:53: FutureWarning: '+init=<authority>:<code>' syntax is deprecated. '<authority>:<code>' is the preferred initialization method. When making the change, be mindful of axis order changes: https://pyproj4.github.io/pyproj/stable/gotchas.html#axis-order-changes-in-proj-6\n",
      "  return _prepare_from_string(\" \".join(pjargs))\n",
      "\n",
      "\n",
      " 22%|██▏       | 166/750 [00:37<05:16,  1.85it/s]\u001b[A\u001b[A/home/prativa/anaconda3/envs/py36/lib/python3.6/site-packages/pyproj/crs/crs.py:53: FutureWarning: '+init=<authority>:<code>' syntax is deprecated. '<authority>:<code>' is the preferred initialization method. When making the change, be mindful of axis order changes: https://pyproj4.github.io/pyproj/stable/gotchas.html#axis-order-changes-in-proj-6\n",
      "  return _prepare_from_string(\" \".join(pjargs))\n",
      "/home/prativa/anaconda3/envs/py36/lib/python3.6/site-packages/ipykernel_launcher.py:72: MatplotlibDeprecationWarning: You are modifying the state of a globally registered colormap. In future versions, you will not be able to modify a registered colormap in-place. To remove this warning, you can make a copy of the colormap first. cmap = copy.copy(mpl.cm.get_cmap(\"gray\"))\n",
      "\n",
      "\n",
      " 22%|██▏       | 168/750 [00:38<04:01,  2.41it/s]\u001b[A\u001b[A/home/prativa/anaconda3/envs/py36/lib/python3.6/site-packages/pyproj/crs/crs.py:53: FutureWarning: '+init=<authority>:<code>' syntax is deprecated. '<authority>:<code>' is the preferred initialization method. When making the change, be mindful of axis order changes: https://pyproj4.github.io/pyproj/stable/gotchas.html#axis-order-changes-in-proj-6\n",
      "  return _prepare_from_string(\" \".join(pjargs))\n",
      "/home/prativa/anaconda3/envs/py36/lib/python3.6/site-packages/ipykernel_launcher.py:72: MatplotlibDeprecationWarning: You are modifying the state of a globally registered colormap. In future versions, you will not be able to modify a registered colormap in-place. To remove this warning, you can make a copy of the colormap first. cmap = copy.copy(mpl.cm.get_cmap(\"gray\"))\n",
      "/home/prativa/anaconda3/envs/py36/lib/python3.6/site-packages/pyproj/crs/crs.py:53: FutureWarning: '+init=<authority>:<code>' syntax is deprecated. '<authority>:<code>' is the preferred initialization method. When making the change, be mindful of axis order changes: https://pyproj4.github.io/pyproj/stable/gotchas.html#axis-order-changes-in-proj-6\n",
      "  return _prepare_from_string(\" \".join(pjargs))\n",
      "/home/prativa/anaconda3/envs/py36/lib/python3.6/site-packages/ipykernel_launcher.py:72: MatplotlibDeprecationWarning: You are modifying the state of a globally registered colormap. In future versions, you will not be able to modify a registered colormap in-place. To remove this warning, you can make a copy of the colormap first. cmap = copy.copy(mpl.cm.get_cmap(\"gray\"))\n",
      "/home/prativa/anaconda3/envs/py36/lib/python3.6/site-packages/pyproj/crs/crs.py:53: FutureWarning: '+init=<authority>:<code>' syntax is deprecated. '<authority>:<code>' is the preferred initialization method. When making the change, be mindful of axis order changes: https://pyproj4.github.io/pyproj/stable/gotchas.html#axis-order-changes-in-proj-6\n",
      "  return _prepare_from_string(\" \".join(pjargs))\n",
      "/home/prativa/anaconda3/envs/py36/lib/python3.6/site-packages/pyproj/crs/crs.py:53: FutureWarning: '+init=<authority>:<code>' syntax is deprecated. '<authority>:<code>' is the preferred initialization method. When making the change, be mindful of axis order changes: https://pyproj4.github.io/pyproj/stable/gotchas.html#axis-order-changes-in-proj-6\n",
      "  return _prepare_from_string(\" \".join(pjargs))\n",
      "/home/prativa/anaconda3/envs/py36/lib/python3.6/site-packages/pyproj/crs/crs.py:53: FutureWarning: '+init=<authority>:<code>' syntax is deprecated. '<authority>:<code>' is the preferred initialization method. When making the change, be mindful of axis order changes: https://pyproj4.github.io/pyproj/stable/gotchas.html#axis-order-changes-in-proj-6\n",
      "  return _prepare_from_string(\" \".join(pjargs))\n",
      "/home/prativa/anaconda3/envs/py36/lib/python3.6/site-packages/pyproj/crs/crs.py:53: FutureWarning: '+init=<authority>:<code>' syntax is deprecated. '<authority>:<code>' is the preferred initialization method. When making the change, be mindful of axis order changes: https://pyproj4.github.io/pyproj/stable/gotchas.html#axis-order-changes-in-proj-6\n",
      "  return _prepare_from_string(\" \".join(pjargs))\n",
      "/home/prativa/anaconda3/envs/py36/lib/python3.6/site-packages/ipykernel_launcher.py:72: MatplotlibDeprecationWarning: You are modifying the state of a globally registered colormap. In future versions, you will not be able to modify a registered colormap in-place. To remove this warning, you can make a copy of the colormap first. cmap = copy.copy(mpl.cm.get_cmap(\"gray\"))\n",
      "/home/prativa/anaconda3/envs/py36/lib/python3.6/site-packages/ipykernel_launcher.py:72: MatplotlibDeprecationWarning: You are modifying the state of a globally registered colormap. In future versions, you will not be able to modify a registered colormap in-place. To remove this warning, you can make a copy of the colormap first. cmap = copy.copy(mpl.cm.get_cmap(\"gray\"))\n",
      "\n",
      "\n",
      " 23%|██▎       | 169/750 [00:39<06:12,  1.56it/s]\u001b[A\u001b[A/home/prativa/anaconda3/envs/py36/lib/python3.6/site-packages/pyproj/crs/crs.py:53: FutureWarning: '+init=<authority>:<code>' syntax is deprecated. '<authority>:<code>' is the preferred initialization method. When making the change, be mindful of axis order changes: https://pyproj4.github.io/pyproj/stable/gotchas.html#axis-order-changes-in-proj-6\n",
      "  return _prepare_from_string(\" \".join(pjargs))\n",
      "/home/prativa/anaconda3/envs/py36/lib/python3.6/site-packages/ipykernel_launcher.py:72: MatplotlibDeprecationWarning: You are modifying the state of a globally registered colormap. In future versions, you will not be able to modify a registered colormap in-place. To remove this warning, you can make a copy of the colormap first. cmap = copy.copy(mpl.cm.get_cmap(\"gray\"))\n"
     ]
    },
    {
     "name": "stderr",
     "output_type": "stream",
     "text": [
      "\n",
      "\n",
      " 23%|██▎       | 171/750 [00:39<04:31,  2.13it/s]\u001b[A\u001b[A/home/prativa/anaconda3/envs/py36/lib/python3.6/site-packages/pyproj/crs/crs.py:53: FutureWarning: '+init=<authority>:<code>' syntax is deprecated. '<authority>:<code>' is the preferred initialization method. When making the change, be mindful of axis order changes: https://pyproj4.github.io/pyproj/stable/gotchas.html#axis-order-changes-in-proj-6\n",
      "  return _prepare_from_string(\" \".join(pjargs))\n",
      "/home/prativa/anaconda3/envs/py36/lib/python3.6/site-packages/pyproj/crs/crs.py:53: FutureWarning: '+init=<authority>:<code>' syntax is deprecated. '<authority>:<code>' is the preferred initialization method. When making the change, be mindful of axis order changes: https://pyproj4.github.io/pyproj/stable/gotchas.html#axis-order-changes-in-proj-6\n",
      "  return _prepare_from_string(\" \".join(pjargs))\n",
      "/home/prativa/anaconda3/envs/py36/lib/python3.6/site-packages/pyproj/crs/crs.py:53: FutureWarning: '+init=<authority>:<code>' syntax is deprecated. '<authority>:<code>' is the preferred initialization method. When making the change, be mindful of axis order changes: https://pyproj4.github.io/pyproj/stable/gotchas.html#axis-order-changes-in-proj-6\n",
      "  return _prepare_from_string(\" \".join(pjargs))\n",
      "/home/prativa/anaconda3/envs/py36/lib/python3.6/site-packages/pyproj/crs/crs.py:53: FutureWarning: '+init=<authority>:<code>' syntax is deprecated. '<authority>:<code>' is the preferred initialization method. When making the change, be mindful of axis order changes: https://pyproj4.github.io/pyproj/stable/gotchas.html#axis-order-changes-in-proj-6\n",
      "  return _prepare_from_string(\" \".join(pjargs))\n",
      "/home/prativa/anaconda3/envs/py36/lib/python3.6/site-packages/pyproj/crs/crs.py:53: FutureWarning: '+init=<authority>:<code>' syntax is deprecated. '<authority>:<code>' is the preferred initialization method. When making the change, be mindful of axis order changes: https://pyproj4.github.io/pyproj/stable/gotchas.html#axis-order-changes-in-proj-6\n",
      "  return _prepare_from_string(\" \".join(pjargs))\n",
      "\n",
      "\n",
      " 23%|██▎       | 173/750 [00:40<04:06,  2.34it/s]\u001b[A\u001b[A/home/prativa/anaconda3/envs/py36/lib/python3.6/site-packages/ipykernel_launcher.py:72: MatplotlibDeprecationWarning: You are modifying the state of a globally registered colormap. In future versions, you will not be able to modify a registered colormap in-place. To remove this warning, you can make a copy of the colormap first. cmap = copy.copy(mpl.cm.get_cmap(\"gray\"))\n",
      "/home/prativa/anaconda3/envs/py36/lib/python3.6/site-packages/pyproj/crs/crs.py:53: FutureWarning: '+init=<authority>:<code>' syntax is deprecated. '<authority>:<code>' is the preferred initialization method. When making the change, be mindful of axis order changes: https://pyproj4.github.io/pyproj/stable/gotchas.html#axis-order-changes-in-proj-6\n",
      "  return _prepare_from_string(\" \".join(pjargs))\n",
      "/home/prativa/anaconda3/envs/py36/lib/python3.6/site-packages/pyproj/crs/crs.py:53: FutureWarning: '+init=<authority>:<code>' syntax is deprecated. '<authority>:<code>' is the preferred initialization method. When making the change, be mindful of axis order changes: https://pyproj4.github.io/pyproj/stable/gotchas.html#axis-order-changes-in-proj-6\n",
      "  return _prepare_from_string(\" \".join(pjargs))\n",
      "\n",
      "\n",
      " 23%|██▎       | 175/750 [00:40<03:12,  2.99it/s]\u001b[A\u001b[A/home/prativa/anaconda3/envs/py36/lib/python3.6/site-packages/ipykernel_launcher.py:72: MatplotlibDeprecationWarning: You are modifying the state of a globally registered colormap. In future versions, you will not be able to modify a registered colormap in-place. To remove this warning, you can make a copy of the colormap first. cmap = copy.copy(mpl.cm.get_cmap(\"gray\"))\n",
      "/home/prativa/anaconda3/envs/py36/lib/python3.6/site-packages/pyproj/crs/crs.py:53: FutureWarning: '+init=<authority>:<code>' syntax is deprecated. '<authority>:<code>' is the preferred initialization method. When making the change, be mindful of axis order changes: https://pyproj4.github.io/pyproj/stable/gotchas.html#axis-order-changes-in-proj-6\n",
      "  return _prepare_from_string(\" \".join(pjargs))\n",
      "\n",
      "\n",
      " 23%|██▎       | 176/750 [00:40<02:59,  3.20it/s]\u001b[A\u001b[A/home/prativa/anaconda3/envs/py36/lib/python3.6/site-packages/ipykernel_launcher.py:72: MatplotlibDeprecationWarning: You are modifying the state of a globally registered colormap. In future versions, you will not be able to modify a registered colormap in-place. To remove this warning, you can make a copy of the colormap first. cmap = copy.copy(mpl.cm.get_cmap(\"gray\"))\n",
      "/home/prativa/anaconda3/envs/py36/lib/python3.6/site-packages/pyproj/crs/crs.py:53: FutureWarning: '+init=<authority>:<code>' syntax is deprecated. '<authority>:<code>' is the preferred initialization method. When making the change, be mindful of axis order changes: https://pyproj4.github.io/pyproj/stable/gotchas.html#axis-order-changes-in-proj-6\n",
      "  return _prepare_from_string(\" \".join(pjargs))\n",
      "/home/prativa/anaconda3/envs/py36/lib/python3.6/site-packages/pyproj/crs/crs.py:53: FutureWarning: '+init=<authority>:<code>' syntax is deprecated. '<authority>:<code>' is the preferred initialization method. When making the change, be mindful of axis order changes: https://pyproj4.github.io/pyproj/stable/gotchas.html#axis-order-changes-in-proj-6\n",
      "  return _prepare_from_string(\" \".join(pjargs))\n",
      "/home/prativa/anaconda3/envs/py36/lib/python3.6/site-packages/ipykernel_launcher.py:72: MatplotlibDeprecationWarning: You are modifying the state of a globally registered colormap. In future versions, you will not be able to modify a registered colormap in-place. To remove this warning, you can make a copy of the colormap first. cmap = copy.copy(mpl.cm.get_cmap(\"gray\"))\n",
      "/home/prativa/anaconda3/envs/py36/lib/python3.6/site-packages/pyproj/crs/crs.py:53: FutureWarning: '+init=<authority>:<code>' syntax is deprecated. '<authority>:<code>' is the preferred initialization method. When making the change, be mindful of axis order changes: https://pyproj4.github.io/pyproj/stable/gotchas.html#axis-order-changes-in-proj-6\n",
      "  return _prepare_from_string(\" \".join(pjargs))\n",
      "/home/prativa/anaconda3/envs/py36/lib/python3.6/site-packages/pyproj/crs/crs.py:53: FutureWarning: '+init=<authority>:<code>' syntax is deprecated. '<authority>:<code>' is the preferred initialization method. When making the change, be mindful of axis order changes: https://pyproj4.github.io/pyproj/stable/gotchas.html#axis-order-changes-in-proj-6\n",
      "  return _prepare_from_string(\" \".join(pjargs))\n",
      "\n",
      "\n",
      " 24%|██▎       | 177/750 [00:41<03:48,  2.50it/s]\u001b[A\u001b[A/home/prativa/anaconda3/envs/py36/lib/python3.6/site-packages/ipykernel_launcher.py:72: MatplotlibDeprecationWarning: You are modifying the state of a globally registered colormap. In future versions, you will not be able to modify a registered colormap in-place. To remove this warning, you can make a copy of the colormap first. cmap = copy.copy(mpl.cm.get_cmap(\"gray\"))\n",
      "/home/prativa/anaconda3/envs/py36/lib/python3.6/site-packages/pyproj/crs/crs.py:53: FutureWarning: '+init=<authority>:<code>' syntax is deprecated. '<authority>:<code>' is the preferred initialization method. When making the change, be mindful of axis order changes: https://pyproj4.github.io/pyproj/stable/gotchas.html#axis-order-changes-in-proj-6\n",
      "  return _prepare_from_string(\" \".join(pjargs))\n",
      "\n",
      "\n",
      " 24%|██▎       | 178/750 [00:41<03:20,  2.85it/s]\u001b[A\u001b[A/home/prativa/anaconda3/envs/py36/lib/python3.6/site-packages/ipykernel_launcher.py:72: MatplotlibDeprecationWarning: You are modifying the state of a globally registered colormap. In future versions, you will not be able to modify a registered colormap in-place. To remove this warning, you can make a copy of the colormap first. cmap = copy.copy(mpl.cm.get_cmap(\"gray\"))\n",
      "/home/prativa/anaconda3/envs/py36/lib/python3.6/site-packages/pyproj/crs/crs.py:53: FutureWarning: '+init=<authority>:<code>' syntax is deprecated. '<authority>:<code>' is the preferred initialization method. When making the change, be mindful of axis order changes: https://pyproj4.github.io/pyproj/stable/gotchas.html#axis-order-changes-in-proj-6\n",
      "  return _prepare_from_string(\" \".join(pjargs))\n",
      "/home/prativa/anaconda3/envs/py36/lib/python3.6/site-packages/pyproj/crs/crs.py:53: FutureWarning: '+init=<authority>:<code>' syntax is deprecated. '<authority>:<code>' is the preferred initialization method. When making the change, be mindful of axis order changes: https://pyproj4.github.io/pyproj/stable/gotchas.html#axis-order-changes-in-proj-6\n",
      "  return _prepare_from_string(\" \".join(pjargs))\n"
     ]
    },
    {
     "name": "stderr",
     "output_type": "stream",
     "text": [
      "/home/prativa/anaconda3/envs/py36/lib/python3.6/site-packages/pyproj/crs/crs.py:53: FutureWarning: '+init=<authority>:<code>' syntax is deprecated. '<authority>:<code>' is the preferred initialization method. When making the change, be mindful of axis order changes: https://pyproj4.github.io/pyproj/stable/gotchas.html#axis-order-changes-in-proj-6\n",
      "  return _prepare_from_string(\" \".join(pjargs))\n",
      "/home/prativa/anaconda3/envs/py36/lib/python3.6/site-packages/ipykernel_launcher.py:72: MatplotlibDeprecationWarning: You are modifying the state of a globally registered colormap. In future versions, you will not be able to modify a registered colormap in-place. To remove this warning, you can make a copy of the colormap first. cmap = copy.copy(mpl.cm.get_cmap(\"gray\"))\n",
      "/home/prativa/anaconda3/envs/py36/lib/python3.6/site-packages/pyproj/crs/crs.py:53: FutureWarning: '+init=<authority>:<code>' syntax is deprecated. '<authority>:<code>' is the preferred initialization method. When making the change, be mindful of axis order changes: https://pyproj4.github.io/pyproj/stable/gotchas.html#axis-order-changes-in-proj-6\n",
      "  return _prepare_from_string(\" \".join(pjargs))\n",
      "\n",
      "\n",
      " 24%|██▍       | 180/750 [00:42<03:20,  2.85it/s]\u001b[A\u001b[A/home/prativa/anaconda3/envs/py36/lib/python3.6/site-packages/pyproj/crs/crs.py:53: FutureWarning: '+init=<authority>:<code>' syntax is deprecated. '<authority>:<code>' is the preferred initialization method. When making the change, be mindful of axis order changes: https://pyproj4.github.io/pyproj/stable/gotchas.html#axis-order-changes-in-proj-6\n",
      "  return _prepare_from_string(\" \".join(pjargs))\n",
      "/home/prativa/anaconda3/envs/py36/lib/python3.6/site-packages/pyproj/crs/crs.py:53: FutureWarning: '+init=<authority>:<code>' syntax is deprecated. '<authority>:<code>' is the preferred initialization method. When making the change, be mindful of axis order changes: https://pyproj4.github.io/pyproj/stable/gotchas.html#axis-order-changes-in-proj-6\n",
      "  return _prepare_from_string(\" \".join(pjargs))\n",
      "/home/prativa/anaconda3/envs/py36/lib/python3.6/site-packages/ipykernel_launcher.py:72: MatplotlibDeprecationWarning: You are modifying the state of a globally registered colormap. In future versions, you will not be able to modify a registered colormap in-place. To remove this warning, you can make a copy of the colormap first. cmap = copy.copy(mpl.cm.get_cmap(\"gray\"))\n",
      "\n",
      "\n",
      " 24%|██▍       | 181/750 [00:42<03:08,  3.02it/s]\u001b[A\u001b[A/home/prativa/anaconda3/envs/py36/lib/python3.6/site-packages/pyproj/crs/crs.py:53: FutureWarning: '+init=<authority>:<code>' syntax is deprecated. '<authority>:<code>' is the preferred initialization method. When making the change, be mindful of axis order changes: https://pyproj4.github.io/pyproj/stable/gotchas.html#axis-order-changes-in-proj-6\n",
      "  return _prepare_from_string(\" \".join(pjargs))\n",
      "/home/prativa/anaconda3/envs/py36/lib/python3.6/site-packages/ipykernel_launcher.py:72: MatplotlibDeprecationWarning: You are modifying the state of a globally registered colormap. In future versions, you will not be able to modify a registered colormap in-place. To remove this warning, you can make a copy of the colormap first. cmap = copy.copy(mpl.cm.get_cmap(\"gray\"))\n",
      "/home/prativa/anaconda3/envs/py36/lib/python3.6/site-packages/ipykernel_launcher.py:72: MatplotlibDeprecationWarning: You are modifying the state of a globally registered colormap. In future versions, you will not be able to modify a registered colormap in-place. To remove this warning, you can make a copy of the colormap first. cmap = copy.copy(mpl.cm.get_cmap(\"gray\"))\n",
      "\n",
      "\n",
      " 24%|██▍       | 182/750 [00:42<03:03,  3.10it/s]\u001b[A\u001b[A/home/prativa/anaconda3/envs/py36/lib/python3.6/site-packages/pyproj/crs/crs.py:53: FutureWarning: '+init=<authority>:<code>' syntax is deprecated. '<authority>:<code>' is the preferred initialization method. When making the change, be mindful of axis order changes: https://pyproj4.github.io/pyproj/stable/gotchas.html#axis-order-changes-in-proj-6\n",
      "  return _prepare_from_string(\" \".join(pjargs))\n",
      "/home/prativa/anaconda3/envs/py36/lib/python3.6/site-packages/pyproj/crs/crs.py:53: FutureWarning: '+init=<authority>:<code>' syntax is deprecated. '<authority>:<code>' is the preferred initialization method. When making the change, be mindful of axis order changes: https://pyproj4.github.io/pyproj/stable/gotchas.html#axis-order-changes-in-proj-6\n",
      "  return _prepare_from_string(\" \".join(pjargs))\n",
      "/home/prativa/anaconda3/envs/py36/lib/python3.6/site-packages/pyproj/crs/crs.py:53: FutureWarning: '+init=<authority>:<code>' syntax is deprecated. '<authority>:<code>' is the preferred initialization method. When making the change, be mindful of axis order changes: https://pyproj4.github.io/pyproj/stable/gotchas.html#axis-order-changes-in-proj-6\n",
      "  return _prepare_from_string(\" \".join(pjargs))\n",
      "/home/prativa/anaconda3/envs/py36/lib/python3.6/site-packages/pyproj/crs/crs.py:53: FutureWarning: '+init=<authority>:<code>' syntax is deprecated. '<authority>:<code>' is the preferred initialization method. When making the change, be mindful of axis order changes: https://pyproj4.github.io/pyproj/stable/gotchas.html#axis-order-changes-in-proj-6\n",
      "  return _prepare_from_string(\" \".join(pjargs))\n",
      "/home/prativa/anaconda3/envs/py36/lib/python3.6/site-packages/pyproj/crs/crs.py:53: FutureWarning: '+init=<authority>:<code>' syntax is deprecated. '<authority>:<code>' is the preferred initialization method. When making the change, be mindful of axis order changes: https://pyproj4.github.io/pyproj/stable/gotchas.html#axis-order-changes-in-proj-6\n",
      "  return _prepare_from_string(\" \".join(pjargs))\n",
      "\n",
      "\n",
      " 25%|██▍       | 184/750 [00:43<02:54,  3.25it/s]\u001b[A\u001b[A/home/prativa/anaconda3/envs/py36/lib/python3.6/site-packages/ipykernel_launcher.py:72: MatplotlibDeprecationWarning: You are modifying the state of a globally registered colormap. In future versions, you will not be able to modify a registered colormap in-place. To remove this warning, you can make a copy of the colormap first. cmap = copy.copy(mpl.cm.get_cmap(\"gray\"))\n",
      "\n",
      "\n",
      " 25%|██▍       | 185/750 [00:43<02:31,  3.72it/s]\u001b[A\u001b[A/home/prativa/anaconda3/envs/py36/lib/python3.6/site-packages/pyproj/crs/crs.py:53: FutureWarning: '+init=<authority>:<code>' syntax is deprecated. '<authority>:<code>' is the preferred initialization method. When making the change, be mindful of axis order changes: https://pyproj4.github.io/pyproj/stable/gotchas.html#axis-order-changes-in-proj-6\n",
      "  return _prepare_from_string(\" \".join(pjargs))\n",
      "/home/prativa/anaconda3/envs/py36/lib/python3.6/site-packages/pyproj/crs/crs.py:53: FutureWarning: '+init=<authority>:<code>' syntax is deprecated. '<authority>:<code>' is the preferred initialization method. When making the change, be mindful of axis order changes: https://pyproj4.github.io/pyproj/stable/gotchas.html#axis-order-changes-in-proj-6\n",
      "  return _prepare_from_string(\" \".join(pjargs))\n",
      "/home/prativa/anaconda3/envs/py36/lib/python3.6/site-packages/ipykernel_launcher.py:72: MatplotlibDeprecationWarning: You are modifying the state of a globally registered colormap. In future versions, you will not be able to modify a registered colormap in-place. To remove this warning, you can make a copy of the colormap first. cmap = copy.copy(mpl.cm.get_cmap(\"gray\"))\n",
      "/home/prativa/anaconda3/envs/py36/lib/python3.6/site-packages/pyproj/crs/crs.py:53: FutureWarning: '+init=<authority>:<code>' syntax is deprecated. '<authority>:<code>' is the preferred initialization method. When making the change, be mindful of axis order changes: https://pyproj4.github.io/pyproj/stable/gotchas.html#axis-order-changes-in-proj-6\n",
      "  return _prepare_from_string(\" \".join(pjargs))\n",
      "/home/prativa/anaconda3/envs/py36/lib/python3.6/site-packages/pyproj/crs/crs.py:53: FutureWarning: '+init=<authority>:<code>' syntax is deprecated. '<authority>:<code>' is the preferred initialization method. When making the change, be mindful of axis order changes: https://pyproj4.github.io/pyproj/stable/gotchas.html#axis-order-changes-in-proj-6\n",
      "  return _prepare_from_string(\" \".join(pjargs))\n",
      "/home/prativa/anaconda3/envs/py36/lib/python3.6/site-packages/ipykernel_launcher.py:72: MatplotlibDeprecationWarning: You are modifying the state of a globally registered colormap. In future versions, you will not be able to modify a registered colormap in-place. To remove this warning, you can make a copy of the colormap first. cmap = copy.copy(mpl.cm.get_cmap(\"gray\"))\n"
     ]
    },
    {
     "name": "stderr",
     "output_type": "stream",
     "text": [
      "/home/prativa/anaconda3/envs/py36/lib/python3.6/site-packages/ipykernel_launcher.py:72: MatplotlibDeprecationWarning: You are modifying the state of a globally registered colormap. In future versions, you will not be able to modify a registered colormap in-place. To remove this warning, you can make a copy of the colormap first. cmap = copy.copy(mpl.cm.get_cmap(\"gray\"))\n",
      "/home/prativa/anaconda3/envs/py36/lib/python3.6/site-packages/pyproj/crs/crs.py:53: FutureWarning: '+init=<authority>:<code>' syntax is deprecated. '<authority>:<code>' is the preferred initialization method. When making the change, be mindful of axis order changes: https://pyproj4.github.io/pyproj/stable/gotchas.html#axis-order-changes-in-proj-6\n",
      "  return _prepare_from_string(\" \".join(pjargs))\n",
      "\n",
      "\n",
      " 25%|██▍       | 186/750 [00:43<03:31,  2.66it/s]\u001b[A\u001b[A/home/prativa/anaconda3/envs/py36/lib/python3.6/site-packages/pyproj/crs/crs.py:53: FutureWarning: '+init=<authority>:<code>' syntax is deprecated. '<authority>:<code>' is the preferred initialization method. When making the change, be mindful of axis order changes: https://pyproj4.github.io/pyproj/stable/gotchas.html#axis-order-changes-in-proj-6\n",
      "  return _prepare_from_string(\" \".join(pjargs))\n",
      "/home/prativa/anaconda3/envs/py36/lib/python3.6/site-packages/skimage/io/_io.py:141: UserWarning: data/AOI_2_Vegas_Roads_Train/RGB-PanSharpen_mask/RGB-PanSharpen_AOI_2_Vegas_img68.jpg is a low contrast image\n",
      "  warn('%s is a low contrast image' % fname)\n",
      "/home/prativa/anaconda3/envs/py36/lib/python3.6/site-packages/pyproj/crs/crs.py:53: FutureWarning: '+init=<authority>:<code>' syntax is deprecated. '<authority>:<code>' is the preferred initialization method. When making the change, be mindful of axis order changes: https://pyproj4.github.io/pyproj/stable/gotchas.html#axis-order-changes-in-proj-6\n",
      "  return _prepare_from_string(\" \".join(pjargs))\n",
      "/home/prativa/anaconda3/envs/py36/lib/python3.6/site-packages/ipykernel_launcher.py:72: MatplotlibDeprecationWarning: You are modifying the state of a globally registered colormap. In future versions, you will not be able to modify a registered colormap in-place. To remove this warning, you can make a copy of the colormap first. cmap = copy.copy(mpl.cm.get_cmap(\"gray\"))\n",
      "/home/prativa/anaconda3/envs/py36/lib/python3.6/site-packages/ipykernel_launcher.py:72: MatplotlibDeprecationWarning: You are modifying the state of a globally registered colormap. In future versions, you will not be able to modify a registered colormap in-place. To remove this warning, you can make a copy of the colormap first. cmap = copy.copy(mpl.cm.get_cmap(\"gray\"))\n",
      "/home/prativa/anaconda3/envs/py36/lib/python3.6/site-packages/pyproj/crs/crs.py:53: FutureWarning: '+init=<authority>:<code>' syntax is deprecated. '<authority>:<code>' is the preferred initialization method. When making the change, be mindful of axis order changes: https://pyproj4.github.io/pyproj/stable/gotchas.html#axis-order-changes-in-proj-6\n",
      "  return _prepare_from_string(\" \".join(pjargs))\n",
      "/home/prativa/anaconda3/envs/py36/lib/python3.6/site-packages/pyproj/crs/crs.py:53: FutureWarning: '+init=<authority>:<code>' syntax is deprecated. '<authority>:<code>' is the preferred initialization method. When making the change, be mindful of axis order changes: https://pyproj4.github.io/pyproj/stable/gotchas.html#axis-order-changes-in-proj-6\n",
      "  return _prepare_from_string(\" \".join(pjargs))\n",
      "\n",
      "\n",
      " 25%|██▍       | 187/750 [00:44<04:59,  1.88it/s]\u001b[A\u001b[A/home/prativa/anaconda3/envs/py36/lib/python3.6/site-packages/pyproj/crs/crs.py:53: FutureWarning: '+init=<authority>:<code>' syntax is deprecated. '<authority>:<code>' is the preferred initialization method. When making the change, be mindful of axis order changes: https://pyproj4.github.io/pyproj/stable/gotchas.html#axis-order-changes-in-proj-6\n",
      "  return _prepare_from_string(\" \".join(pjargs))\n",
      "/home/prativa/anaconda3/envs/py36/lib/python3.6/site-packages/pyproj/crs/crs.py:53: FutureWarning: '+init=<authority>:<code>' syntax is deprecated. '<authority>:<code>' is the preferred initialization method. When making the change, be mindful of axis order changes: https://pyproj4.github.io/pyproj/stable/gotchas.html#axis-order-changes-in-proj-6\n",
      "  return _prepare_from_string(\" \".join(pjargs))\n",
      "\n",
      "\n",
      " 25%|██▌       | 190/750 [00:45<03:44,  2.49it/s]\u001b[A\u001b[A\n",
      "\n",
      " 25%|██▌       | 191/750 [00:45<02:57,  3.15it/s]\u001b[A\u001b[A/home/prativa/anaconda3/envs/py36/lib/python3.6/site-packages/pyproj/crs/crs.py:53: FutureWarning: '+init=<authority>:<code>' syntax is deprecated. '<authority>:<code>' is the preferred initialization method. When making the change, be mindful of axis order changes: https://pyproj4.github.io/pyproj/stable/gotchas.html#axis-order-changes-in-proj-6\n",
      "  return _prepare_from_string(\" \".join(pjargs))\n",
      "/home/prativa/anaconda3/envs/py36/lib/python3.6/site-packages/ipykernel_launcher.py:72: MatplotlibDeprecationWarning: You are modifying the state of a globally registered colormap. In future versions, you will not be able to modify a registered colormap in-place. To remove this warning, you can make a copy of the colormap first. cmap = copy.copy(mpl.cm.get_cmap(\"gray\"))\n",
      "/home/prativa/anaconda3/envs/py36/lib/python3.6/site-packages/pyproj/crs/crs.py:53: FutureWarning: '+init=<authority>:<code>' syntax is deprecated. '<authority>:<code>' is the preferred initialization method. When making the change, be mindful of axis order changes: https://pyproj4.github.io/pyproj/stable/gotchas.html#axis-order-changes-in-proj-6\n",
      "  return _prepare_from_string(\" \".join(pjargs))\n"
     ]
    },
    {
     "name": "stdout",
     "output_type": "stream",
     "text": [
      "data/AOI_5_Khartoum_Roads_Train/geojson/spacenetroads/spacenetroads_AOI_5_Khartoum_MS_img26.geojson: No such file or directory\n"
     ]
    },
    {
     "name": "stderr",
     "output_type": "stream",
     "text": [
      "/home/prativa/anaconda3/envs/py36/lib/python3.6/site-packages/ipykernel_launcher.py:72: MatplotlibDeprecationWarning: You are modifying the state of a globally registered colormap. In future versions, you will not be able to modify a registered colormap in-place. To remove this warning, you can make a copy of the colormap first. cmap = copy.copy(mpl.cm.get_cmap(\"gray\"))\n",
      "/home/prativa/anaconda3/envs/py36/lib/python3.6/site-packages/pyproj/crs/crs.py:53: FutureWarning: '+init=<authority>:<code>' syntax is deprecated. '<authority>:<code>' is the preferred initialization method. When making the change, be mindful of axis order changes: https://pyproj4.github.io/pyproj/stable/gotchas.html#axis-order-changes-in-proj-6\n",
      "  return _prepare_from_string(\" \".join(pjargs))\n"
     ]
    },
    {
     "name": "stdout",
     "output_type": "stream",
     "text": [
      "data/AOI_5_Khartoum_Roads_Train/geojson/spacenetroads/spacenetroads_AOI_5_Khartoum_MS_img43.geojson: No such file or directory\n"
     ]
    },
    {
     "name": "stderr",
     "output_type": "stream",
     "text": [
      "/home/prativa/anaconda3/envs/py36/lib/python3.6/site-packages/pyproj/crs/crs.py:53: FutureWarning: '+init=<authority>:<code>' syntax is deprecated. '<authority>:<code>' is the preferred initialization method. When making the change, be mindful of axis order changes: https://pyproj4.github.io/pyproj/stable/gotchas.html#axis-order-changes-in-proj-6\n",
      "  return _prepare_from_string(\" \".join(pjargs))\n",
      "/home/prativa/anaconda3/envs/py36/lib/python3.6/site-packages/ipykernel_launcher.py:72: MatplotlibDeprecationWarning: You are modifying the state of a globally registered colormap. In future versions, you will not be able to modify a registered colormap in-place. To remove this warning, you can make a copy of the colormap first. cmap = copy.copy(mpl.cm.get_cmap(\"gray\"))\n"
     ]
    },
    {
     "name": "stdout",
     "output_type": "stream",
     "text": [
      "data/AOI_5_Khartoum_Roads_Train/geojson/spacenetroads/spacenetroads_AOI_5_Khartoum_MS_img65.geojson: No such file or directory\n",
      "data/AOI_5_Khartoum_Roads_Train/geojson/spacenetroads/spacenetroads_AOI_5_Khartoum_MS_img1.geojson: No such file or directory\n"
     ]
    },
    {
     "name": "stderr",
     "output_type": "stream",
     "text": [
      "/home/prativa/anaconda3/envs/py36/lib/python3.6/site-packages/pyproj/crs/crs.py:53: FutureWarning: '+init=<authority>:<code>' syntax is deprecated. '<authority>:<code>' is the preferred initialization method. When making the change, be mindful of axis order changes: https://pyproj4.github.io/pyproj/stable/gotchas.html#axis-order-changes-in-proj-6\n",
      "  return _prepare_from_string(\" \".join(pjargs))\n"
     ]
    },
    {
     "name": "stdout",
     "output_type": "stream",
     "text": [
      "data/AOI_5_Khartoum_Roads_Train/geojson/spacenetroads/spacenetroads_AOI_5_Khartoum_MS_img11.geojson: No such file or directory\n"
     ]
    },
    {
     "name": "stderr",
     "output_type": "stream",
     "text": [
      "\n",
      "\n",
      " 26%|██▌       | 192/750 [00:46<04:22,  2.13it/s]\u001b[A\u001b[A"
     ]
    },
    {
     "name": "stdout",
     "output_type": "stream",
     "text": [
      "data/AOI_5_Khartoum_Roads_Train/geojson/spacenetroads/spacenetroads_AOI_5_Khartoum_MS_img17.geojson: No such file or directory\n"
     ]
    },
    {
     "name": "stderr",
     "output_type": "stream",
     "text": [
      "/home/prativa/anaconda3/envs/py36/lib/python3.6/site-packages/ipykernel_launcher.py:72: MatplotlibDeprecationWarning: You are modifying the state of a globally registered colormap. In future versions, you will not be able to modify a registered colormap in-place. To remove this warning, you can make a copy of the colormap first. cmap = copy.copy(mpl.cm.get_cmap(\"gray\"))\n"
     ]
    },
    {
     "name": "stdout",
     "output_type": "stream",
     "text": [
      "data/AOI_5_Khartoum_Roads_Train/geojson/spacenetroads/spacenetroads_AOI_5_Khartoum_MS_img19.geojson: No such file or directory\n",
      "data/AOI_5_Khartoum_Roads_Train/geojson/spacenetroads/spacenetroads_AOI_5_Khartoum_MS_img18.geojson: No such file or directory\n"
     ]
    },
    {
     "name": "stderr",
     "output_type": "stream",
     "text": [
      "\n",
      "\n",
      " 26%|██▌       | 194/750 [00:46<03:25,  2.71it/s]\u001b[A\u001b[A"
     ]
    },
    {
     "name": "stdout",
     "output_type": "stream",
     "text": [
      "data/AOI_5_Khartoum_Roads_Train/geojson/spacenetroads/spacenetroads_AOI_5_Khartoum_MS_img2.geojson: No such file or directory\n",
      "data/AOI_5_Khartoum_Roads_Train/geojson/spacenetroads/spacenetroads_AOI_5_Khartoum_MS_img20.geojson: No such file or directory\n",
      "data/AOI_5_Khartoum_Roads_Train/geojson/spacenetroads/spacenetroads_AOI_5_Khartoum_MS_img23.geojson: No such file or directory\n",
      "data/AOI_5_Khartoum_Roads_Train/geojson/spacenetroads/spacenetroads_AOI_5_Khartoum_MS_img21.geojson: No such file or directory\n",
      "data/AOI_5_Khartoum_Roads_Train/geojson/spacenetroads/spacenetroads_AOI_5_Khartoum_MS_img24.geojson: No such file or directory\n"
     ]
    },
    {
     "name": "stderr",
     "output_type": "stream",
     "text": [
      "\n",
      "\n",
      " 26%|██▌       | 195/750 [00:46<03:02,  3.03it/s]\u001b[A\u001b[A/home/prativa/anaconda3/envs/py36/lib/python3.6/site-packages/ipykernel_launcher.py:72: MatplotlibDeprecationWarning: You are modifying the state of a globally registered colormap. In future versions, you will not be able to modify a registered colormap in-place. To remove this warning, you can make a copy of the colormap first. cmap = copy.copy(mpl.cm.get_cmap(\"gray\"))\n"
     ]
    },
    {
     "name": "stdout",
     "output_type": "stream",
     "text": [
      "data/AOI_5_Khartoum_Roads_Train/geojson/spacenetroads/spacenetroads_AOI_5_Khartoum_MS_img25.geojson: No such file or directory\n",
      "data/AOI_5_Khartoum_Roads_Train/geojson/spacenetroads/spacenetroads_AOI_5_Khartoum_MS_img28.geojson: No such file or directory\n",
      "data/AOI_5_Khartoum_Roads_Train/geojson/spacenetroads/spacenetroads_AOI_5_Khartoum_MS_img29.geojson: No such file or directory\n",
      "data/AOI_5_Khartoum_Roads_Train/geojson/spacenetroads/spacenetroads_AOI_5_Khartoum_MS_img3.geojson: No such file or directory\n",
      "data/AOI_5_Khartoum_Roads_Train/geojson/spacenetroads/spacenetroads_AOI_5_Khartoum_MS_img32.geojson: No such file or directory\n",
      "data/AOI_5_Khartoum_Roads_Train/geojson/spacenetroads/spacenetroads_AOI_5_Khartoum_MS_img35.geojson: No such file or directory\n",
      "data/AOI_5_Khartoum_Roads_Train/geojson/spacenetroads/spacenetroads_AOI_5_Khartoum_MS_img37.geojson: No such file or directory\n",
      "data/AOI_5_Khartoum_Roads_Train/geojson/spacenetroads/spacenetroads_AOI_5_Khartoum_MS_img38.geojson: No such file or directory\n",
      "data/AOI_5_Khartoum_Roads_Train/geojson/spacenetroads/spacenetroads_AOI_5_Khartoum_MS_img4.geojson: No such file or directory\n",
      "data/AOI_5_Khartoum_Roads_Train/geojson/spacenetroads/spacenetroads_AOI_5_Khartoum_MS_img39.geojson: No such file or directory\n",
      "data/AOI_5_Khartoum_Roads_Train/geojson/spacenetroads/spacenetroads_AOI_5_Khartoum_MS_img49.geojson: No such file or directory\n",
      "data/AOI_5_Khartoum_Roads_Train/geojson/spacenetroads/spacenetroads_AOI_5_Khartoum_MS_img40.geojson: No such file or directory\n",
      "data/AOI_5_Khartoum_Roads_Train/geojson/spacenetroads/spacenetroads_AOI_5_Khartoum_MS_img41.geojson: No such file or directory\n",
      "data/AOI_5_Khartoum_Roads_Train/geojson/spacenetroads/spacenetroads_AOI_5_Khartoum_MS_img54.geojson: No such file or directory\n",
      "data/AOI_5_Khartoum_Roads_Train/geojson/spacenetroads/spacenetroads_AOI_5_Khartoum_MS_img50.geojson: No such file or directory\n"
     ]
    },
    {
     "name": "stderr",
     "output_type": "stream",
     "text": [
      "\n",
      "\n",
      " 26%|██▌       | 196/750 [00:47<03:49,  2.42it/s]\u001b[A\u001b[A"
     ]
    },
    {
     "name": "stdout",
     "output_type": "stream",
     "text": [
      "data/AOI_5_Khartoum_Roads_Train/geojson/spacenetroads/spacenetroads_AOI_5_Khartoum_MS_img55.geojson: No such file or directory\n",
      "data/AOI_5_Khartoum_Roads_Train/geojson/spacenetroads/spacenetroads_AOI_5_Khartoum_MS_img59.geojson: No such file or directory\n",
      "data/AOI_5_Khartoum_Roads_Train/geojson/spacenetroads/spacenetroads_AOI_5_Khartoum_MS_img56.geojson: No such file or directory\n",
      "data/AOI_5_Khartoum_Roads_Train/geojson/spacenetroads/spacenetroads_AOI_5_Khartoum_MS_img60.geojson: No such file or directory\n",
      "data/AOI_5_Khartoum_Roads_Train/geojson/spacenetroads/spacenetroads_AOI_5_Khartoum_MS_img6.geojson: No such file or directory\n",
      "data/AOI_5_Khartoum_Roads_Train/geojson/spacenetroads/spacenetroads_AOI_5_Khartoum_MS_img61.geojson: No such file or directory\n",
      "data/AOI_5_Khartoum_Roads_Train/geojson/spacenetroads/spacenetroads_AOI_5_Khartoum_MS_img62.geojson: No such file or directory\n",
      "data/AOI_5_Khartoum_Roads_Train/geojson/spacenetroads/spacenetroads_AOI_5_Khartoum_MS_img64.geojson: No such file or directory\n",
      "data/AOI_5_Khartoum_Roads_Train/geojson/spacenetroads/spacenetroads_AOI_5_Khartoum_MS_img66.geojson: No such file or directory\n",
      "data/AOI_5_Khartoum_Roads_Train/geojson/spacenetroads/spacenetroads_AOI_5_Khartoum_MS_img67.geojson: No such file or directory\n"
     ]
    },
    {
     "name": "stderr",
     "output_type": "stream",
     "text": [
      "\n",
      "\n",
      " 26%|██▋       | 197/750 [00:47<03:38,  2.53it/s]\u001b[A\u001b[A"
     ]
    },
    {
     "name": "stdout",
     "output_type": "stream",
     "text": [
      "data/AOI_5_Khartoum_Roads_Train/geojson/spacenetroads/spacenetroads_AOI_5_Khartoum_MS_img69.geojson: No such file or directory\n",
      "data/AOI_5_Khartoum_Roads_Train/geojson/spacenetroads/spacenetroads_AOI_5_Khartoum_MS_img7.geojson: No such file or directory\n",
      "data/AOI_5_Khartoum_Roads_Train/geojson/spacenetroads/spacenetroads_AOI_5_Khartoum_MS_img72.geojson: No such file or directory\n",
      "data/AOI_5_Khartoum_Roads_Train/geojson/spacenetroads/spacenetroads_AOI_5_Khartoum_MS_img73.geojson: No such file or directory\n",
      "data/AOI_5_Khartoum_Roads_Train/geojson/spacenetroads/spacenetroads_AOI_5_Khartoum_MS_img78.geojson: No such file or directory\n",
      "data/AOI_5_Khartoum_Roads_Train/geojson/spacenetroads/spacenetroads_AOI_5_Khartoum_MS_img74.geojson: No such file or directory\n",
      "data/AOI_5_Khartoum_Roads_Train/geojson/spacenetroads/spacenetroads_AOI_5_Khartoum_MS_img8.geojson: No such file or directory\n",
      "data/AOI_5_Khartoum_Roads_Train/geojson/spacenetroads/spacenetroads_AOI_5_Khartoum_MS_img83.geojson: No such file or directory\n",
      "data/AOI_5_Khartoum_Roads_Train/geojson/spacenetroads/spacenetroads_AOI_5_Khartoum_MS_img81.geojson: No such file or directory\n",
      "data/AOI_5_Khartoum_Roads_Train/geojson/spacenetroads/spacenetroads_AOI_5_Khartoum_MS_img82.geojson: No such file or directory\n",
      "data/AOI_5_Khartoum_Roads_Train/geojson/spacenetroads/spacenetroads_AOI_5_Khartoum_MS_img84.geojson: No such file or directory\n",
      "data/AOI_5_Khartoum_Roads_Train/geojson/spacenetroads/spacenetroads_AOI_5_Khartoum_MS_img85.geojson: No such file or directory\n",
      "data/AOI_5_Khartoum_Roads_Train/geojson/spacenetroads/spacenetroads_AOI_5_Khartoum_PAN_img1.geojson: No such file or directory\n",
      "data/AOI_5_Khartoum_Roads_Train/geojson/spacenetroads/spacenetroads_AOI_5_Khartoum_PAN_img17.geojson: No such file or directory\n",
      "data/AOI_5_Khartoum_Roads_Train/geojson/spacenetroads/spacenetroads_AOI_5_Khartoum_PAN_img19.geojson: No such file or directory\n",
      "data/AOI_5_Khartoum_Roads_Train/geojson/spacenetroads/spacenetroads_AOI_5_Khartoum_PAN_img18.geojson: No such file or directory\n"
     ]
    },
    {
     "name": "stderr",
     "output_type": "stream",
     "text": [
      "\n",
      "\n",
      " 27%|██▋       | 199/750 [00:48<03:10,  2.90it/s]\u001b[A\u001b[A"
     ]
    },
    {
     "name": "stdout",
     "output_type": "stream",
     "text": [
      "data/AOI_5_Khartoum_Roads_Train/geojson/spacenetroads/spacenetroads_AOI_5_Khartoum_PAN_img2.geojson: No such file or directory\n",
      "data/AOI_5_Khartoum_Roads_Train/geojson/spacenetroads/spacenetroads_AOI_5_Khartoum_PAN_img20.geojson: No such file or directory\n",
      "data/AOI_5_Khartoum_Roads_Train/geojson/spacenetroads/spacenetroads_AOI_5_Khartoum_PAN_img23.geojson: No such file or directory\n",
      "data/AOI_5_Khartoum_Roads_Train/geojson/spacenetroads/spacenetroads_AOI_5_Khartoum_PAN_img24.geojson: No such file or directory\n",
      "data/AOI_5_Khartoum_Roads_Train/geojson/spacenetroads/spacenetroads_AOI_5_Khartoum_PAN_img26.geojson: No such file or directory\n",
      "data/AOI_5_Khartoum_Roads_Train/geojson/spacenetroads/spacenetroads_AOI_5_Khartoum_PAN_img25.geojson: No such file or directory\n",
      "data/AOI_5_Khartoum_Roads_Train/geojson/spacenetroads/spacenetroads_AOI_5_Khartoum_PAN_img21.geojson: No such file or directory\n",
      "data/AOI_5_Khartoum_Roads_Train/geojson/spacenetroads/spacenetroads_AOI_5_Khartoum_PAN_img28.geojson: No such file or directory\n",
      "data/AOI_5_Khartoum_Roads_Train/geojson/spacenetroads/spacenetroads_AOI_5_Khartoum_PAN_img29.geojson: No such file or directory\n"
     ]
    },
    {
     "name": "stderr",
     "output_type": "stream",
     "text": [
      "\n",
      "\n",
      " 27%|██▋       | 200/750 [00:48<03:03,  3.00it/s]\u001b[A\u001b[A"
     ]
    },
    {
     "name": "stdout",
     "output_type": "stream",
     "text": [
      "data/AOI_5_Khartoum_Roads_Train/geojson/spacenetroads/spacenetroads_AOI_5_Khartoum_PAN_img32.geojson: No such file or directory\n"
     ]
    },
    {
     "name": "stderr",
     "output_type": "stream",
     "text": [
      "\n",
      "\n",
      " 35%|███▌      | 264/750 [00:48<01:53,  4.28it/s]"
     ]
    },
    {
     "name": "stdout",
     "output_type": "stream",
     "text": [
      "data/AOI_5_Khartoum_Roads_Train/geojson/spacenetroads/spacenetroads_AOI_5_Khartoum_PAN_img35.geojson: No such file or directory\n"
     ]
    },
    {
     "name": "stderr",
     "output_type": "stream",
     "text": [
      "\u001b[A\u001b[A"
     ]
    },
    {
     "name": "stdout",
     "output_type": "stream",
     "text": [
      "data/AOI_5_Khartoum_Roads_Train/geojson/spacenetroads/spacenetroads_AOI_5_Khartoum_PAN_img37.geojson: No such file or directory\n",
      "data/AOI_5_Khartoum_Roads_Train/geojson/spacenetroads/spacenetroads_AOI_5_Khartoum_PAN_img38.geojson: No such file or directory\n",
      "data/AOI_5_Khartoum_Roads_Train/geojson/spacenetroads/spacenetroads_AOI_5_Khartoum_PAN_img41.geojson: No such file or directory\n",
      "data/AOI_5_Khartoum_Roads_Train/geojson/spacenetroads/spacenetroads_AOI_5_Khartoum_PAN_img4.geojson: No such file or directory\n",
      "data/AOI_5_Khartoum_Roads_Train/geojson/spacenetroads/spacenetroads_AOI_5_Khartoum_PAN_img40.geojson: No such file or directory\n",
      "data/AOI_5_Khartoum_Roads_Train/geojson/spacenetroads/spacenetroads_AOI_5_Khartoum_PAN_img39.geojson: No such file or directory\n",
      "data/AOI_5_Khartoum_Roads_Train/geojson/spacenetroads/spacenetroads_AOI_5_Khartoum_PAN_img43.geojson: No such file or directory\n",
      "data/AOI_5_Khartoum_Roads_Train/geojson/spacenetroads/spacenetroads_AOI_5_Khartoum_PAN_img49.geojson: No such file or directory\n",
      "data/AOI_5_Khartoum_Roads_Train/geojson/spacenetroads/spacenetroads_AOI_5_Khartoum_PAN_img55.geojson: No such file or directory\n",
      "data/AOI_5_Khartoum_Roads_Train/geojson/spacenetroads/spacenetroads_AOI_5_Khartoum_PAN_img6.geojson: No such file or directory\n",
      "data/AOI_5_Khartoum_Roads_Train/geojson/spacenetroads/spacenetroads_AOI_5_Khartoum_PAN_img56.geojson: No such file or directory\n",
      "data/AOI_5_Khartoum_Roads_Train/geojson/spacenetroads/spacenetroads_AOI_5_Khartoum_PAN_img59.geojson: No such file or directory\n",
      "data/AOI_5_Khartoum_Roads_Train/geojson/spacenetroads/spacenetroads_AOI_5_Khartoum_PAN_img50.geojson: No such file or directory\n",
      "data/AOI_5_Khartoum_Roads_Train/geojson/spacenetroads/spacenetroads_AOI_5_Khartoum_PAN_img60.geojson: No such file or directory\n",
      "data/AOI_5_Khartoum_Roads_Train/geojson/spacenetroads/spacenetroads_AOI_5_Khartoum_PAN_img61.geojson: No such file or directory\n",
      "data/AOI_5_Khartoum_Roads_Train/geojson/spacenetroads/spacenetroads_AOI_5_Khartoum_PAN_img62.geojson: No such file or directory\n",
      "data/AOI_5_Khartoum_Roads_Train/geojson/spacenetroads/spacenetroads_AOI_5_Khartoum_PAN_img64.geojson: No such file or directory\n",
      "data/AOI_5_Khartoum_Roads_Train/geojson/spacenetroads/spacenetroads_AOI_5_Khartoum_PAN_img67.geojson: No such file or directory\n",
      "data/AOI_5_Khartoum_Roads_Train/geojson/spacenetroads/spacenetroads_AOI_5_Khartoum_PAN_img7.geojson: No such file or directory\n",
      "data/AOI_5_Khartoum_Roads_Train/geojson/spacenetroads/spacenetroads_AOI_5_Khartoum_PAN_img65.geojson: No such file or directory\n",
      "data/AOI_5_Khartoum_Roads_Train/geojson/spacenetroads/spacenetroads_AOI_5_Khartoum_PAN_img66.geojson: No such file or directory\n"
     ]
    },
    {
     "name": "stderr",
     "output_type": "stream",
     "text": [
      "\n",
      "\n",
      " 38%|███▊      | 284/750 [00:49<01:20,  5.77it/s]\u001b[A\u001b[A"
     ]
    },
    {
     "name": "stdout",
     "output_type": "stream",
     "text": [
      "data/AOI_5_Khartoum_Roads_Train/geojson/spacenetroads/spacenetroads_AOI_5_Khartoum_PAN_img72.geojson: No such file or directory\n",
      "data/AOI_5_Khartoum_Roads_Train/geojson/spacenetroads/spacenetroads_AOI_5_Khartoum_PAN_img73.geojson: No such file or directory\n",
      "data/AOI_5_Khartoum_Roads_Train/geojson/spacenetroads/spacenetroads_AOI_5_Khartoum_PAN_img78.geojson: No such file or directory\n",
      "data/AOI_5_Khartoum_Roads_Train/geojson/spacenetroads/spacenetroads_AOI_5_Khartoum_PAN_img74.geojson: No such file or directory\n",
      "data/AOI_5_Khartoum_Roads_Train/geojson/spacenetroads/spacenetroads_AOI_5_Khartoum_PAN_img81.geojson: No such file or directory\n",
      "data/AOI_5_Khartoum_Roads_Train/geojson/spacenetroads/spacenetroads_AOI_5_Khartoum_PAN_img82.geojson: No such file or directory\n",
      "data/AOI_5_Khartoum_Roads_Train/geojson/spacenetroads/spacenetroads_AOI_5_Khartoum_PAN_img8.geojson: No such file or directory\n",
      "data/AOI_5_Khartoum_Roads_Train/geojson/spacenetroads/spacenetroads_AOI_5_Khartoum_PAN_img83.geojson: No such file or directory\n",
      "data/AOI_5_Khartoum_Roads_Train/geojson/spacenetroads/spacenetroads_AOI_5_Khartoum_PAN_img11.geojson: No such file or directory\n",
      "data/AOI_5_Khartoum_Roads_Train/geojson/spacenetroads/spacenetroads_AOI_5_Khartoum_PAN_img3.geojson: No such file or directory\n",
      "data/AOI_5_Khartoum_Roads_Train/geojson/spacenetroads/spacenetroads_AOI_5_Khartoum_PAN_img84.geojson: No such file or directory\n",
      "data/AOI_5_Khartoum_Roads_Train/geojson/spacenetroads/spacenetroads_AOI_5_Khartoum_PAN_img85.geojson: No such file or directory\n",
      "data/AOI_5_Khartoum_Roads_Train/geojson/spacenetroads/spacenetroads_AOI_5_Khartoum_PAN_img69.geojson: No such file or directory\n",
      "data/AOI_5_Khartoum_Roads_Train/geojson/spacenetroads/spacenetroads_AOI_5_Khartoum_PAN_img54.geojson: No such file or directory\n"
     ]
    },
    {
     "name": "stderr",
     "output_type": "stream",
     "text": [
      "\n",
      "\n",
      " 40%|███▉      | 299/750 [00:49<01:00,  7.40it/s]\u001b[A\u001b[A"
     ]
    },
    {
     "name": "stdout",
     "output_type": "stream",
     "text": [
      "data/AOI_5_Khartoum_Roads_Train/geojson/spacenetroads/spacenetroads_AOI_5_Khartoum_PS-RGB_img1.geojson: No such file or directory\n",
      "data/AOI_5_Khartoum_Roads_Train/geojson/spacenetroads/spacenetroads_AOI_5_Khartoum_PS-RGB_img3.geojson: No such file or directory\n",
      "data/AOI_5_Khartoum_Roads_Train/geojson/spacenetroads/spacenetroads_AOI_5_Khartoum_PS-RGB_img35.geojson: No such file or directory\n",
      "data/AOI_5_Khartoum_Roads_Train/geojson/spacenetroads/spacenetroads_AOI_5_Khartoum_PS-RGB_img32.geojson: No such file or directory\n",
      "data/AOI_5_Khartoum_Roads_Train/geojson/spacenetroads/spacenetroads_AOI_5_Khartoum_PS-RGB_img4.geojson: No such file or directory\n",
      "data/AOI_5_Khartoum_Roads_Train/geojson/spacenetroads/spacenetroads_AOI_5_Khartoum_PS-RGB_img39.geojson: No such file or directory\n",
      "data/AOI_5_Khartoum_Roads_Train/geojson/spacenetroads/spacenetroads_AOI_5_Khartoum_PS-RGB_img37.geojson: No such file or directory\n",
      "data/AOI_5_Khartoum_Roads_Train/geojson/spacenetroads/spacenetroads_AOI_5_Khartoum_PS-RGB_img38.geojson: No such file or directory\n",
      "data/AOI_5_Khartoum_Roads_Train/geojson/spacenetroads/spacenetroads_AOI_5_Khartoum_PS-RGB_img41.geojson: No such file or directory\n",
      "data/AOI_5_Khartoum_Roads_Train/geojson/spacenetroads/spacenetroads_AOI_5_Khartoum_PS-RGB_img40.geojson: No such file or directory\n"
     ]
    },
    {
     "name": "stderr",
     "output_type": "stream",
     "text": [
      "\n",
      "\n",
      " 41%|████▏     | 310/750 [00:50<00:49,  8.80it/s]\u001b[A\u001b[A"
     ]
    },
    {
     "name": "stdout",
     "output_type": "stream",
     "text": [
      "data/AOI_5_Khartoum_Roads_Train/geojson/spacenetroads/spacenetroads_AOI_5_Khartoum_PS-RGB_img43.geojson: No such file or directory\n",
      "data/AOI_5_Khartoum_Roads_Train/geojson/spacenetroads/spacenetroads_AOI_5_Khartoum_PS-RGB_img49.geojson: No such file or directory\n",
      "data/AOI_5_Khartoum_Roads_Train/geojson/spacenetroads/spacenetroads_AOI_5_Khartoum_PS-RGB_img67.geojson: No such file or directory\n",
      "data/AOI_5_Khartoum_Roads_Train/geojson/spacenetroads/spacenetroads_AOI_5_Khartoum_PS-RGB_img11.geojson: No such file or directory\n",
      "data/AOI_5_Khartoum_Roads_Train/geojson/spacenetroads/spacenetroads_AOI_5_Khartoum_PS-RGB_img29.geojson: No such file or directory\n",
      "data/AOI_5_Khartoum_Roads_Train/geojson/spacenetroads/spacenetroads_AOI_5_Khartoum_PS-RGB_img50.geojson: No such file or directory\n",
      "data/AOI_5_Khartoum_Roads_Train/geojson/spacenetroads/spacenetroads_AOI_5_Khartoum_PS-RGB_img55.geojson: No such file or directory\n",
      "data/AOI_5_Khartoum_Roads_Train/geojson/spacenetroads/spacenetroads_AOI_5_Khartoum_PS-RGB_img54.geojson: No such file or directory\n",
      "data/AOI_5_Khartoum_Roads_Train/geojson/spacenetroads/spacenetroads_AOI_5_Khartoum_PS-RGB_img56.geojson: No such file or directory\n"
     ]
    },
    {
     "name": "stderr",
     "output_type": "stream",
     "text": [
      "\n",
      "\n",
      " 42%|████▏     | 318/750 [00:51<00:43, 10.01it/s]\u001b[A\u001b[A"
     ]
    },
    {
     "name": "stdout",
     "output_type": "stream",
     "text": [
      "data/AOI_5_Khartoum_Roads_Train/geojson/spacenetroads/spacenetroads_AOI_5_Khartoum_PS-RGB_img6.geojson: No such file or directory\n",
      "data/AOI_5_Khartoum_Roads_Train/geojson/spacenetroads/spacenetroads_AOI_5_Khartoum_PS-RGB_img59.geojson: No such file or directory\n",
      "data/AOI_5_Khartoum_Roads_Train/geojson/spacenetroads/spacenetroads_AOI_5_Khartoum_PS-RGB_img64.geojson: No such file or directory\n",
      "data/AOI_5_Khartoum_Roads_Train/geojson/spacenetroads/spacenetroads_AOI_5_Khartoum_PS-RGB_img60.geojson: No such file or directory\n",
      "data/AOI_5_Khartoum_Roads_Train/geojson/spacenetroads/spacenetroads_AOI_5_Khartoum_PS-RGB_img61.geojson: No such file or directory\n",
      "data/AOI_5_Khartoum_Roads_Train/geojson/spacenetroads/spacenetroads_AOI_5_Khartoum_PS-RGB_img62.geojson: No such file or directory\n"
     ]
    },
    {
     "name": "stderr",
     "output_type": "stream",
     "text": [
      "\n",
      "\n",
      " 43%|████▎     | 324/750 [00:51<00:38, 10.95it/s]\u001b[A\u001b[A"
     ]
    },
    {
     "name": "stdout",
     "output_type": "stream",
     "text": [
      "data/AOI_5_Khartoum_Roads_Train/geojson/spacenetroads/spacenetroads_AOI_5_Khartoum_PS-RGB_img65.geojson: No such file or directory\n",
      "data/AOI_5_Khartoum_Roads_Train/geojson/spacenetroads/spacenetroads_AOI_5_Khartoum_PS-RGB_img7.geojson: No such file or directory\n",
      "data/AOI_5_Khartoum_Roads_Train/geojson/spacenetroads/spacenetroads_AOI_5_Khartoum_PS-RGB_img69.geojson: No such file or directory\n",
      "data/AOI_5_Khartoum_Roads_Train/geojson/spacenetroads/spacenetroads_AOI_5_Khartoum_PS-RGB_img73.geojson: No such file or directory\n",
      "data/AOI_5_Khartoum_Roads_Train/geojson/spacenetroads/spacenetroads_AOI_5_Khartoum_PS-RGB_img66.geojson: No such file or directory\n"
     ]
    },
    {
     "name": "stderr",
     "output_type": "stream",
     "text": [
      "\n",
      "\n",
      " 44%|████▍     | 329/750 [00:51<00:34, 12.31it/s]\u001b[A\u001b[A"
     ]
    },
    {
     "name": "stdout",
     "output_type": "stream",
     "text": [
      "data/AOI_5_Khartoum_Roads_Train/geojson/spacenetroads/spacenetroads_AOI_5_Khartoum_PS-RGB_img72.geojson: No such file or directory\n",
      "data/AOI_5_Khartoum_Roads_Train/geojson/spacenetroads/spacenetroads_AOI_5_Khartoum_PS-RGB_img78.geojson: No such file or directory\n",
      "data/AOI_5_Khartoum_Roads_Train/geojson/spacenetroads/spacenetroads_AOI_5_Khartoum_PS-RGB_img74.geojson: No such file or directory\n"
     ]
    },
    {
     "name": "stderr",
     "output_type": "stream",
     "text": [
      "\n",
      "\n",
      " 44%|████▍     | 333/750 [00:52<00:32, 12.91it/s]\u001b[A\u001b[A"
     ]
    },
    {
     "name": "stdout",
     "output_type": "stream",
     "text": [
      "data/AOI_5_Khartoum_Roads_Train/geojson/spacenetroads/spacenetroads_AOI_5_Khartoum_PS-RGB_img8.geojson: No such file or directory\n",
      "data/AOI_5_Khartoum_Roads_Train/geojson/spacenetroads/spacenetroads_AOI_5_Khartoum_PS-RGB_img81.geojson: No such file or directory\n",
      "data/AOI_5_Khartoum_Roads_Train/geojson/spacenetroads/spacenetroads_AOI_5_Khartoum_PS-RGB_img83.geojson: No such file or directory\n",
      "data/AOI_5_Khartoum_Roads_Train/geojson/spacenetroads/spacenetroads_AOI_5_Khartoum_PS-RGB_img17.geojson: No such file or directory\n",
      "data/AOI_5_Khartoum_Roads_Train/geojson/spacenetroads/spacenetroads_AOI_5_Khartoum_PS-RGB_img82.geojson: No such file or directory\n"
     ]
    },
    {
     "name": "stderr",
     "output_type": "stream",
     "text": [
      "\n",
      "\n",
      " 45%|████▍     | 337/750 [00:52<00:31, 13.12it/s]\u001b[A\u001b[A"
     ]
    },
    {
     "name": "stdout",
     "output_type": "stream",
     "text": [
      "data/AOI_5_Khartoum_Roads_Train/geojson/spacenetroads/spacenetroads_AOI_5_Khartoum_PS-RGB_img84.geojson: No such file or directory\n",
      "data/AOI_5_Khartoum_Roads_Train/geojson/spacenetroads/spacenetroads_AOI_5_Khartoum_PS-RGB_img85.geojson: No such file or directory\n",
      "data/AOI_5_Khartoum_Roads_Train/geojson/spacenetroads/spacenetroads_AOI_5_Khartoum_PS-RGB_img19.geojson: No such file or directory\n",
      "data/AOI_5_Khartoum_Roads_Train/geojson/spacenetroads/spacenetroads_AOI_5_Khartoum_PS-RGB_img18.geojson: No such file or directory\n"
     ]
    },
    {
     "name": "stderr",
     "output_type": "stream",
     "text": [
      "\n",
      "\n",
      " 45%|████▌     | 341/750 [00:52<00:29, 13.69it/s]\u001b[A\u001b[A"
     ]
    },
    {
     "name": "stdout",
     "output_type": "stream",
     "text": [
      "data/AOI_5_Khartoum_Roads_Train/geojson/spacenetroads/spacenetroads_AOI_5_Khartoum_PS-RGB_img20.geojson: No such file or directory\n",
      "data/AOI_5_Khartoum_Roads_Train/geojson/spacenetroads/spacenetroads_AOI_5_Khartoum_PS-RGB_img21.geojson: No such file or directory\n",
      "data/AOI_5_Khartoum_Roads_Train/geojson/spacenetroads/spacenetroads_AOI_5_Khartoum_PS-RGB_img2.geojson: No such file or directory\n",
      "data/AOI_3_Paris_Roads_Train/geojson/spacenetroads/spacenetroads_AOI_3_Paris_MS_img46.geojson: No such file or directory\n",
      "data/AOI_3_Paris_Roads_Train/geojson/spacenetroads/spacenetroads_AOI_3_Paris_MS_img26.geojson: No such file or directory\n",
      "data/AOI_5_Khartoum_Roads_Train/geojson/spacenetroads/spacenetroads_AOI_5_Khartoum_PS-RGB_img25.geojson: No such file or directory\n",
      "data/AOI_5_Khartoum_Roads_Train/geojson/spacenetroads/spacenetroads_AOI_5_Khartoum_PS-RGB_img23.geojson: No such file or directory\n"
     ]
    },
    {
     "name": "stderr",
     "output_type": "stream",
     "text": [
      "\n",
      "\n",
      " 46%|████▌     | 346/750 [00:52<00:24, 16.24it/s]\u001b[A\u001b[A"
     ]
    },
    {
     "name": "stdout",
     "output_type": "stream",
     "text": [
      "data/AOI_3_Paris_Roads_Train/geojson/spacenetroads/spacenetroads_AOI_3_Paris_MS_img11.geojson: No such file or directory\n",
      "data/AOI_5_Khartoum_Roads_Train/geojson/spacenetroads/spacenetroads_AOI_5_Khartoum_PS-RGB_img24.geojson: No such file or directory\n",
      "data/AOI_3_Paris_Roads_Train/geojson/spacenetroads/spacenetroads_AOI_3_Paris_MS_img10.geojson: No such file or directory\n",
      "data/AOI_3_Paris_Roads_Train/geojson/spacenetroads/spacenetroads_AOI_3_Paris_MS_img14.geojson: No such file or directory\n",
      "data/AOI_5_Khartoum_Roads_Train/geojson/spacenetroads/spacenetroads_AOI_5_Khartoum_PS-RGB_img26.geojson: No such file or directory\n",
      "data/AOI_5_Khartoum_Roads_Train/geojson/spacenetroads/spacenetroads_AOI_5_Khartoum_PS-RGB_img28.geojson: No such file or directory\n",
      "data/AOI_3_Paris_Roads_Train/geojson/spacenetroads/spacenetroads_AOI_3_Paris_MS_img17.geojson: No such file or directory\n",
      "data/AOI_3_Paris_Roads_Train/geojson/spacenetroads/spacenetroads_AOI_3_Paris_MS_img15.geojson: No such file or directory\n"
     ]
    },
    {
     "name": "stderr",
     "output_type": "stream",
     "text": [
      "\n",
      "\n",
      " 47%|████▋     | 356/750 [00:52<00:18, 21.40it/s]\u001b[A\u001b[A"
     ]
    },
    {
     "name": "stdout",
     "output_type": "stream",
     "text": [
      "data/AOI_3_Paris_Roads_Train/geojson/spacenetroads/spacenetroads_AOI_3_Paris_MS_img18.geojson: No such file or directory\n",
      "data/AOI_3_Paris_Roads_Train/geojson/spacenetroads/spacenetroads_AOI_3_Paris_MS_img16.geojson: No such file or directory\n",
      "data/AOI_3_Paris_Roads_Train/geojson/spacenetroads/spacenetroads_AOI_3_Paris_MS_img20.geojson: No such file or directory\n",
      "data/AOI_3_Paris_Roads_Train/geojson/spacenetroads/spacenetroads_AOI_3_Paris_MS_img23.geojson: No such file or directory\n",
      "data/AOI_3_Paris_Roads_Train/geojson/spacenetroads/spacenetroads_AOI_3_Paris_MS_img19.geojson: No such file or directory\n",
      "data/AOI_3_Paris_Roads_Train/geojson/spacenetroads/spacenetroads_AOI_3_Paris_MS_img21.geojson: No such file or directory\n",
      "data/AOI_3_Paris_Roads_Train/geojson/spacenetroads/spacenetroads_AOI_3_Paris_MS_img24.geojson: No such file or directory\n",
      "data/AOI_3_Paris_Roads_Train/geojson/spacenetroads/spacenetroads_AOI_3_Paris_MS_img27.geojson: No such file or directory\n",
      "data/AOI_3_Paris_Roads_Train/geojson/spacenetroads/spacenetroads_AOI_3_Paris_MS_img28.geojson: No such file or directory\n"
     ]
    },
    {
     "name": "stderr",
     "output_type": "stream",
     "text": [
      "\n",
      "\n",
      " 49%|████▉     | 366/750 [00:52<00:13, 27.83it/s]\u001b[A\u001b[A"
     ]
    },
    {
     "name": "stdout",
     "output_type": "stream",
     "text": [
      "data/AOI_3_Paris_Roads_Train/geojson/spacenetroads/spacenetroads_AOI_3_Paris_MS_img30.geojson: No such file or directory\n",
      "data/AOI_3_Paris_Roads_Train/geojson/spacenetroads/spacenetroads_AOI_3_Paris_MS_img33.geojson: No such file or directory\n",
      "data/AOI_3_Paris_Roads_Train/geojson/spacenetroads/spacenetroads_AOI_3_Paris_MS_img31.geojson: No such file or directory\n",
      "data/AOI_3_Paris_Roads_Train/geojson/spacenetroads/spacenetroads_AOI_3_Paris_MS_img35.geojson: No such file or directory\n",
      "data/AOI_3_Paris_Roads_Train/geojson/spacenetroads/spacenetroads_AOI_3_Paris_MS_img39.geojson: No such file or directory\n",
      "data/AOI_3_Paris_Roads_Train/geojson/spacenetroads/spacenetroads_AOI_3_Paris_MS_img41.geojson: No such file or directory\n",
      "data/AOI_3_Paris_Roads_Train/geojson/spacenetroads/spacenetroads_AOI_3_Paris_MS_img38.geojson: No such file or directory\n",
      "data/AOI_3_Paris_Roads_Train/geojson/spacenetroads/spacenetroads_AOI_3_Paris_MS_img37.geojson: No such file or directory\n"
     ]
    },
    {
     "name": "stderr",
     "output_type": "stream",
     "text": [
      "\n",
      "\n",
      " 50%|████▉     | 372/750 [00:53<00:12, 30.76it/s]\u001b[A\u001b[A"
     ]
    },
    {
     "name": "stdout",
     "output_type": "stream",
     "text": [
      "data/AOI_3_Paris_Roads_Train/geojson/spacenetroads/spacenetroads_AOI_3_Paris_MS_img47.geojson: No such file or directory\n",
      "data/AOI_3_Paris_Roads_Train/geojson/spacenetroads/spacenetroads_AOI_3_Paris_MS_img43.geojson: No such file or directory\n",
      "data/AOI_3_Paris_Roads_Train/geojson/spacenetroads/spacenetroads_AOI_3_Paris_MS_img42.geojson: No such file or directory\n",
      "data/AOI_3_Paris_Roads_Train/geojson/spacenetroads/spacenetroads_AOI_3_Paris_MS_img49.geojson: No such file or directory\n",
      "data/AOI_3_Paris_Roads_Train/geojson/spacenetroads/spacenetroads_AOI_3_Paris_MS_img48.geojson: No such file or directory\n",
      "data/AOI_3_Paris_Roads_Train/geojson/spacenetroads/spacenetroads_AOI_3_Paris_MS_img50.geojson: No such file or directory\n",
      "data/AOI_3_Paris_Roads_Train/geojson/spacenetroads/spacenetroads_AOI_3_Paris_MS_img52.geojson: No such file or directory\n",
      "data/AOI_3_Paris_Roads_Train/geojson/spacenetroads/spacenetroads_AOI_3_Paris_MS_img55.geojson: No such file or directory\n",
      "data/AOI_3_Paris_Roads_Train/geojson/spacenetroads/spacenetroads_AOI_3_Paris_MS_img51.geojson: No such file or directory\n"
     ]
    },
    {
     "name": "stderr",
     "output_type": "stream",
     "text": [
      "\n",
      "\n",
      " 51%|█████     | 381/750 [00:53<00:10, 36.50it/s]\u001b[A\u001b[A"
     ]
    },
    {
     "name": "stdout",
     "output_type": "stream",
     "text": [
      "data/AOI_3_Paris_Roads_Train/geojson/spacenetroads/spacenetroads_AOI_3_Paris_MS_img54.geojson: No such file or directory\n",
      "data/AOI_3_Paris_Roads_Train/geojson/spacenetroads/spacenetroads_AOI_3_Paris_MS_img53.geojson: No such file or directory\n",
      "data/AOI_3_Paris_Roads_Train/geojson/spacenetroads/spacenetroads_AOI_3_Paris_MS_img6.geojson: No such file or directory\n",
      "data/AOI_3_Paris_Roads_Train/geojson/spacenetroads/spacenetroads_AOI_3_Paris_MS_img63.geojson: No such file or directory\n",
      "data/AOI_3_Paris_Roads_Train/geojson/spacenetroads/spacenetroads_AOI_3_Paris_MS_img60.geojson: No such file or directory\n",
      "data/AOI_3_Paris_Roads_Train/geojson/spacenetroads/spacenetroads_AOI_3_Paris_MS_img64.geojson: No such file or directory\n",
      "data/AOI_3_Paris_Roads_Train/geojson/spacenetroads/spacenetroads_AOI_3_Paris_MS_img61.geojson: No such file or directory\n"
     ]
    },
    {
     "name": "stderr",
     "output_type": "stream",
     "text": [
      "\n",
      "\n",
      " 52%|█████▏    | 388/750 [00:53<00:08, 42.59it/s]\u001b[A\u001b[A"
     ]
    },
    {
     "name": "stdout",
     "output_type": "stream",
     "text": [
      "data/AOI_3_Paris_Roads_Train/geojson/spacenetroads/spacenetroads_AOI_3_Paris_MS_img7.geojson: No such file or directory\n",
      "data/AOI_3_Paris_Roads_Train/geojson/spacenetroads/spacenetroads_AOI_3_Paris_MS_img65.geojson: No such file or directory\n",
      "data/AOI_3_Paris_Roads_Train/geojson/spacenetroads/spacenetroads_AOI_3_Paris_MS_img73.geojson: No such file or directory\n",
      "data/AOI_3_Paris_Roads_Train/geojson/spacenetroads/spacenetroads_AOI_3_Paris_MS_img75.geojson: No such file or directory\n",
      "data/AOI_3_Paris_Roads_Train/geojson/spacenetroads/spacenetroads_AOI_3_Paris_MS_img77.geojson: No such file or directory\n",
      "data/AOI_3_Paris_Roads_Train/geojson/spacenetroads/spacenetroads_AOI_3_Paris_MS_img72.geojson: No such file or directory\n"
     ]
    },
    {
     "name": "stderr",
     "output_type": "stream",
     "text": [
      "\n",
      "\n",
      " 53%|█████▎    | 395/750 [00:53<00:12, 28.56it/s]\u001b[A\u001b[A"
     ]
    },
    {
     "name": "stdout",
     "output_type": "stream",
     "text": [
      "data/AOI_3_Paris_Roads_Train/geojson/spacenetroads/spacenetroads_AOI_3_Paris_MS_img81.geojson: No such file or directory\n",
      "data/AOI_3_Paris_Roads_Train/geojson/spacenetroads/spacenetroads_AOI_3_Paris_MS_img9.geojson: No such file or directory\n",
      "data/AOI_3_Paris_Roads_Train/geojson/spacenetroads/spacenetroads_AOI_3_Paris_MS_img76.geojson: No such file or directory\n",
      "data/AOI_3_Paris_Roads_Train/geojson/spacenetroads/spacenetroads_AOI_3_Paris_MS_img80.geojson: No such file or directory\n",
      "data/AOI_3_Paris_Roads_Train/geojson/spacenetroads/spacenetroads_AOI_3_Paris_PS-MS_img28.geojson: No such file or directory\n",
      "data/AOI_3_Paris_Roads_Train/geojson/spacenetroads/spacenetroads_AOI_3_Paris_PS-MS_img10.geojson: No such file or directory\n"
     ]
    },
    {
     "name": "stderr",
     "output_type": "stream",
     "text": [
      "\n",
      "\n",
      " 53%|█████▎    | 401/750 [00:54<00:28, 12.16it/s]\u001b[A\u001b[A"
     ]
    },
    {
     "name": "stdout",
     "output_type": "stream",
     "text": [
      "data/AOI_3_Paris_Roads_Train/geojson/spacenetroads/spacenetroads_AOI_3_Paris_PS-MS_img33.geojson: No such file or directory\n",
      "data/AOI_3_Paris_Roads_Train/geojson/spacenetroads/spacenetroads_AOI_3_Paris_PS-MS_img30.geojson: No such file or directory\n",
      "data/AOI_3_Paris_Roads_Train/geojson/spacenetroads/spacenetroads_AOI_3_Paris_PS-MS_img39.geojson: No such file or directory\n",
      "data/AOI_3_Paris_Roads_Train/geojson/spacenetroads/spacenetroads_AOI_3_Paris_PS-MS_img31.geojson: No such file or directory\n"
     ]
    },
    {
     "name": "stderr",
     "output_type": "stream",
     "text": [
      "\n",
      "\n",
      " 54%|█████▍    | 405/750 [00:55<00:28, 12.03it/s]\u001b[A\u001b[A"
     ]
    },
    {
     "name": "stdout",
     "output_type": "stream",
     "text": [
      "data/AOI_3_Paris_Roads_Train/geojson/spacenetroads/spacenetroads_AOI_3_Paris_PS-MS_img38.geojson: No such file or directory\n",
      "data/AOI_3_Paris_Roads_Train/geojson/spacenetroads/spacenetroads_AOI_3_Paris_PS-MS_img41.geojson: No such file or directory\n",
      "data/AOI_3_Paris_Roads_Train/geojson/spacenetroads/spacenetroads_AOI_3_Paris_PS-MS_img35.geojson: No such file or directory\n",
      "data/AOI_3_Paris_Roads_Train/geojson/spacenetroads/spacenetroads_AOI_3_Paris_PS-MS_img37.geojson: No such file or directory\n"
     ]
    },
    {
     "name": "stderr",
     "output_type": "stream",
     "text": [
      "\n",
      "\n",
      " 54%|█████▍    | 408/750 [00:55<00:37,  9.15it/s]\u001b[A\u001b[A"
     ]
    },
    {
     "name": "stdout",
     "output_type": "stream",
     "text": [
      "data/AOI_3_Paris_Roads_Train/geojson/spacenetroads/spacenetroads_AOI_3_Paris_PS-MS_img42.geojson: No such file or directory\n"
     ]
    },
    {
     "name": "stderr",
     "output_type": "stream",
     "text": [
      "\n",
      "\n",
      " 55%|█████▍    | 411/750 [00:56<00:40,  8.39it/s]\u001b[A\u001b[A"
     ]
    },
    {
     "name": "stdout",
     "output_type": "stream",
     "text": [
      "data/AOI_3_Paris_Roads_Train/geojson/spacenetroads/spacenetroads_AOI_3_Paris_PS-MS_img43.geojson: No such file or directory\n",
      "data/AOI_3_Paris_Roads_Train/geojson/spacenetroads/spacenetroads_AOI_3_Paris_PS-MS_img27.geojson: No such file or directory\n",
      "data/AOI_3_Paris_Roads_Train/geojson/spacenetroads/spacenetroads_AOI_3_Paris_PS-MS_img11.geojson: No such file or directory\n"
     ]
    },
    {
     "name": "stderr",
     "output_type": "stream",
     "text": [
      "\n",
      "\n",
      " 55%|█████▌    | 413/750 [00:56<00:38,  8.76it/s]\u001b[A\u001b[A"
     ]
    },
    {
     "name": "stdout",
     "output_type": "stream",
     "text": [
      "data/AOI_3_Paris_Roads_Train/geojson/spacenetroads/spacenetroads_AOI_3_Paris_PS-MS_img47.geojson: No such file or directory\n",
      "data/AOI_3_Paris_Roads_Train/geojson/spacenetroads/spacenetroads_AOI_3_Paris_PS-MS_img46.geojson: No such file or directory\n",
      "data/AOI_3_Paris_Roads_Train/geojson/spacenetroads/spacenetroads_AOI_3_Paris_PS-MS_img15.geojson: No such file or directory\n"
     ]
    },
    {
     "name": "stderr",
     "output_type": "stream",
     "text": [
      "\n",
      "\n",
      " 55%|█████▌    | 415/750 [00:56<00:52,  6.43it/s]\u001b[A\u001b[A"
     ]
    },
    {
     "name": "stdout",
     "output_type": "stream",
     "text": [
      "data/AOI_3_Paris_Roads_Train/geojson/spacenetroads/spacenetroads_AOI_3_Paris_PS-MS_img61.geojson: No such file or directory\n"
     ]
    },
    {
     "name": "stderr",
     "output_type": "stream",
     "text": [
      "\n",
      "\n",
      " 56%|█████▌    | 417/750 [00:57<00:44,  7.42it/s]\u001b[A\u001b[A"
     ]
    },
    {
     "name": "stdout",
     "output_type": "stream",
     "text": [
      "data/AOI_3_Paris_Roads_Train/geojson/spacenetroads/spacenetroads_AOI_3_Paris_PS-MS_img48.geojson: No such file or directory\n"
     ]
    },
    {
     "name": "stderr",
     "output_type": "stream",
     "text": [
      "\n",
      "\n",
      " 56%|█████▌    | 419/750 [00:57<00:39,  8.43it/s]\u001b[A\u001b[A"
     ]
    },
    {
     "name": "stdout",
     "output_type": "stream",
     "text": [
      "data/AOI_3_Paris_Roads_Train/geojson/spacenetroads/spacenetroads_AOI_3_Paris_PS-MS_img49.geojson: No such file or directory\n",
      "data/AOI_3_Paris_Roads_Train/geojson/spacenetroads/spacenetroads_AOI_3_Paris_PS-MS_img50.geojson: No such file or directory\n"
     ]
    },
    {
     "name": "stderr",
     "output_type": "stream",
     "text": [
      "\n",
      "\n",
      " 56%|█████▌    | 421/750 [00:57<00:42,  7.79it/s]\u001b[A\u001b[A"
     ]
    },
    {
     "name": "stdout",
     "output_type": "stream",
     "text": [
      "data/AOI_3_Paris_Roads_Train/geojson/spacenetroads/spacenetroads_AOI_3_Paris_PS-MS_img51.geojson: No such file or directory\n",
      "data/AOI_3_Paris_Roads_Train/geojson/spacenetroads/spacenetroads_AOI_3_Paris_PS-MS_img55.geojson: No such file or directory\n",
      "data/AOI_3_Paris_Roads_Train/geojson/spacenetroads/spacenetroads_AOI_3_Paris_PS-MS_img6.geojson: No such file or directory\n",
      "data/AOI_3_Paris_Roads_Train/geojson/spacenetroads/spacenetroads_AOI_3_Paris_PS-MS_img53.geojson: No such file or directory\n",
      "data/AOI_3_Paris_Roads_Train/geojson/spacenetroads/spacenetroads_AOI_3_Paris_PS-MS_img52.geojson: No such file or directory\n"
     ]
    },
    {
     "name": "stderr",
     "output_type": "stream",
     "text": [
      "\n",
      "\n",
      " 56%|█████▋    | 423/750 [00:58<00:52,  6.18it/s]\u001b[A\u001b[A"
     ]
    },
    {
     "name": "stdout",
     "output_type": "stream",
     "text": [
      "data/AOI_3_Paris_Roads_Train/geojson/spacenetroads/spacenetroads_AOI_3_Paris_PS-MS_img54.geojson: No such file or directory\n"
     ]
    },
    {
     "name": "stderr",
     "output_type": "stream",
     "text": [
      "\n",
      "\n",
      " 57%|█████▋    | 425/750 [00:58<00:43,  7.39it/s]\u001b[A\u001b[A"
     ]
    },
    {
     "name": "stdout",
     "output_type": "stream",
     "text": [
      "data/AOI_3_Paris_Roads_Train/geojson/spacenetroads/spacenetroads_AOI_3_Paris_PS-MS_img64.geojson: No such file or directory\n",
      "data/AOI_3_Paris_Roads_Train/geojson/spacenetroads/spacenetroads_AOI_3_Paris_PS-MS_img63.geojson: No such file or directory\n",
      "data/AOI_3_Paris_Roads_Train/geojson/spacenetroads/spacenetroads_AOI_3_Paris_PS-MS_img7.geojson: No such file or directory\n",
      "data/AOI_3_Paris_Roads_Train/geojson/spacenetroads/spacenetroads_AOI_3_Paris_PS-MS_img60.geojson: No such file or directory\n"
     ]
    },
    {
     "name": "stderr",
     "output_type": "stream",
     "text": [
      "\n",
      "\n",
      " 57%|█████▋    | 428/750 [00:58<00:45,  7.02it/s]\u001b[A\u001b[A"
     ]
    },
    {
     "name": "stdout",
     "output_type": "stream",
     "text": [
      "data/AOI_3_Paris_Roads_Train/geojson/spacenetroads/spacenetroads_AOI_3_Paris_PS-MS_img65.geojson: No such file or directory\n"
     ]
    },
    {
     "name": "stderr",
     "output_type": "stream",
     "text": [
      "\n",
      "\n",
      " 57%|█████▋    | 431/750 [00:58<00:39,  8.08it/s]\u001b[A\u001b[A"
     ]
    },
    {
     "name": "stdout",
     "output_type": "stream",
     "text": [
      "data/AOI_3_Paris_Roads_Train/geojson/spacenetroads/spacenetroads_AOI_3_Paris_PS-MS_img72.geojson: No such file or directory\n"
     ]
    },
    {
     "name": "stderr",
     "output_type": "stream",
     "text": [
      "\n",
      "\n",
      " 58%|█████▊    | 433/750 [00:59<00:34,  9.19it/s]\u001b[A\u001b[A"
     ]
    },
    {
     "name": "stdout",
     "output_type": "stream",
     "text": [
      "data/AOI_3_Paris_Roads_Train/geojson/spacenetroads/spacenetroads_AOI_3_Paris_PS-MS_img73.geojson: No such file or directory\n",
      "data/AOI_3_Paris_Roads_Train/geojson/spacenetroads/spacenetroads_AOI_3_Paris_PS-MS_img77.geojson: No such file or directory\n",
      "data/AOI_3_Paris_Roads_Train/geojson/spacenetroads/spacenetroads_AOI_3_Paris_PS-MS_img75.geojson: No such file or directory\n"
     ]
    },
    {
     "name": "stderr",
     "output_type": "stream",
     "text": [
      "\n",
      "\n",
      " 58%|█████▊    | 435/750 [00:59<00:45,  6.99it/s]"
     ]
    },
    {
     "name": "stdout",
     "output_type": "stream",
     "text": [
      "data/AOI_3_Paris_Roads_Train/geojson/spacenetroads/spacenetroads_AOI_3_Paris_PS-MS_img76.geojson: No such file or directory\n"
     ]
    },
    {
     "name": "stderr",
     "output_type": "stream",
     "text": [
      "\u001b[A\u001b[A"
     ]
    },
    {
     "name": "stdout",
     "output_type": "stream",
     "text": [
      "data/AOI_3_Paris_Roads_Train/geojson/spacenetroads/spacenetroads_AOI_3_Paris_PS-MS_img80.geojson: No such file or directory\n"
     ]
    },
    {
     "name": "stderr",
     "output_type": "stream",
     "text": [
      "\n",
      "\n"
     ]
    },
    {
     "name": "stdout",
     "output_type": "stream",
     "text": [
      "data/AOI_3_Paris_Roads_Train/geojson/spacenetroads/spacenetroads_AOI_3_Paris_PS-MS_img81.geojson: No such file or directory\n"
     ]
    },
    {
     "name": "stderr",
     "output_type": "stream",
     "text": [
      " 58%|█████▊    | 438/750 [00:59<00:40,  7.66it/s]\u001b[A\u001b[A"
     ]
    },
    {
     "name": "stdout",
     "output_type": "stream",
     "text": [
      "data/AOI_3_Paris_Roads_Train/geojson/spacenetroads/spacenetroads_AOI_3_Paris_PS-MS_img17.geojson: No such file or directory\n",
      "data/AOI_3_Paris_Roads_Train/geojson/spacenetroads/spacenetroads_AOI_3_Paris_PS-MS_img14.geojson: No such file or directory\n",
      "data/AOI_3_Paris_Roads_Train/geojson/spacenetroads/spacenetroads_AOI_3_Paris_PS-MS_img9.geojson: No such file or directory\n"
     ]
    },
    {
     "name": "stderr",
     "output_type": "stream",
     "text": [
      "\n",
      "\n",
      " 59%|█████▊    | 440/750 [01:00<00:46,  6.67it/s]\u001b[A\u001b[A"
     ]
    },
    {
     "name": "stdout",
     "output_type": "stream",
     "text": [
      "data/AOI_3_Paris_Roads_Train/geojson/spacenetroads/spacenetroads_AOI_3_Paris_PS-MS_img18.geojson: No such file or directory\n",
      "data/AOI_3_Paris_Roads_Train/geojson/spacenetroads/spacenetroads_AOI_3_Paris_PS-MS_img16.geojson: No such file or directory\n"
     ]
    },
    {
     "name": "stderr",
     "output_type": "stream",
     "text": [
      "\n",
      "\n",
      " 59%|█████▉    | 442/750 [01:00<00:38,  7.98it/s]\u001b[A\u001b[A"
     ]
    },
    {
     "name": "stdout",
     "output_type": "stream",
     "text": [
      "data/AOI_3_Paris_Roads_Train/geojson/spacenetroads/spacenetroads_AOI_3_Paris_PAN_img10.geojson: No such file or directory\n",
      "data/AOI_3_Paris_Roads_Train/geojson/spacenetroads/spacenetroads_AOI_3_Paris_PAN_img14.geojson: No such file or directory\n",
      "data/AOI_3_Paris_Roads_Train/geojson/spacenetroads/spacenetroads_AOI_3_Paris_PAN_img15.geojson: No such file or directory\n",
      "data/AOI_3_Paris_Roads_Train/geojson/spacenetroads/spacenetroads_AOI_3_Paris_PAN_img30.geojson: No such file or directory\n",
      "data/AOI_3_Paris_Roads_Train/geojson/spacenetroads/spacenetroads_AOI_3_Paris_PS-MS_img19.geojson: No such file or directory\n"
     ]
    },
    {
     "name": "stderr",
     "output_type": "stream",
     "text": [
      "\n",
      "\n",
      " 59%|█████▉    | 445/750 [01:00<00:34,  8.90it/s]\u001b[A\u001b[A"
     ]
    },
    {
     "name": "stdout",
     "output_type": "stream",
     "text": [
      "data/AOI_3_Paris_Roads_Train/geojson/spacenetroads/spacenetroads_AOI_3_Paris_PAN_img31.geojson: No such file or directory\n",
      "data/AOI_3_Paris_Roads_Train/geojson/spacenetroads/spacenetroads_AOI_3_Paris_PAN_img33.geojson: No such file or directory\n",
      "data/AOI_3_Paris_Roads_Train/geojson/spacenetroads/spacenetroads_AOI_3_Paris_PAN_img35.geojson: No such file or directory\n",
      "data/AOI_3_Paris_Roads_Train/geojson/spacenetroads/spacenetroads_AOI_3_Paris_PAN_img38.geojson: No such file or directory\n",
      "data/AOI_3_Paris_Roads_Train/geojson/spacenetroads/spacenetroads_AOI_3_Paris_PAN_img37.geojson: No such file or directory\n",
      "data/AOI_3_Paris_Roads_Train/geojson/spacenetroads/spacenetroads_AOI_3_Paris_PS-MS_img21.geojson: No such file or directory\n",
      "data/AOI_3_Paris_Roads_Train/geojson/spacenetroads/spacenetroads_AOI_3_Paris_PS-MS_img20.geojson: No such file or directory\n"
     ]
    },
    {
     "name": "stderr",
     "output_type": "stream",
     "text": [
      "\n",
      "\n",
      " 60%|█████▉    | 447/750 [01:00<00:35,  8.62it/s]\u001b[A\u001b[A"
     ]
    },
    {
     "name": "stdout",
     "output_type": "stream",
     "text": [
      "data/AOI_3_Paris_Roads_Train/geojson/spacenetroads/spacenetroads_AOI_3_Paris_PS-MS_img23.geojson: No such file or directory\n",
      "data/AOI_3_Paris_Roads_Train/geojson/spacenetroads/spacenetroads_AOI_3_Paris_PAN_img39.geojson: No such file or directory\n",
      "data/AOI_3_Paris_Roads_Train/geojson/spacenetroads/spacenetroads_AOI_3_Paris_PAN_img41.geojson: No such file or directory\n",
      "data/AOI_3_Paris_Roads_Train/geojson/spacenetroads/spacenetroads_AOI_3_Paris_PAN_img46.geojson: No such file or directory\n",
      "data/AOI_3_Paris_Roads_Train/geojson/spacenetroads/spacenetroads_AOI_3_Paris_PAN_img43.geojson: No such file or directory\n",
      "data/AOI_3_Paris_Roads_Train/geojson/spacenetroads/spacenetroads_AOI_3_Paris_PAN_img42.geojson: No such file or directory\n",
      "data/AOI_3_Paris_Roads_Train/geojson/spacenetroads/spacenetroads_AOI_3_Paris_PAN_img48.geojson: No such file or directory\n",
      "data/AOI_3_Paris_Roads_Train/geojson/spacenetroads/spacenetroads_AOI_3_Paris_PAN_img49.geojson: No such file or directory\n",
      "data/AOI_3_Paris_Roads_Train/geojson/spacenetroads/spacenetroads_AOI_3_Paris_PAN_img50.geojson: No such file or directory\n",
      "data/AOI_3_Paris_Roads_Train/geojson/spacenetroads/spacenetroads_AOI_3_Paris_PS-MS_img24.geojson: No such file or directory\n"
     ]
    },
    {
     "name": "stderr",
     "output_type": "stream",
     "text": [
      "\n",
      "\n",
      " 60%|█████▉    | 449/750 [01:01<00:41,  7.30it/s]\u001b[A\u001b[A"
     ]
    },
    {
     "name": "stdout",
     "output_type": "stream",
     "text": [
      "data/AOI_3_Paris_Roads_Train/geojson/spacenetroads/spacenetroads_AOI_3_Paris_PAN_img51.geojson: No such file or directory\n",
      "data/AOI_3_Paris_Roads_Train/geojson/spacenetroads/spacenetroads_AOI_3_Paris_PAN_img52.geojson: No such file or directory\n",
      "data/AOI_3_Paris_Roads_Train/geojson/spacenetroads/spacenetroads_AOI_3_Paris_PS-MS_img26.geojson: No such file or directory\n"
     ]
    },
    {
     "name": "stderr",
     "output_type": "stream",
     "text": [
      "\n",
      "\n",
      " 60%|██████    | 450/750 [01:01<00:40,  7.36it/s]\u001b[A\u001b[A"
     ]
    },
    {
     "name": "stdout",
     "output_type": "stream",
     "text": [
      "data/AOI_3_Paris_Roads_Train/geojson/spacenetroads/spacenetroads_AOI_3_Paris_PAN_img6.geojson: No such file or directory\n",
      "data/AOI_3_Paris_Roads_Train/geojson/spacenetroads/spacenetroads_AOI_3_Paris_PAN_img55.geojson: No such file or directory\n",
      "data/AOI_3_Paris_Roads_Train/geojson/spacenetroads/spacenetroads_AOI_3_Paris_PAN_img53.geojson: No such file or directory\n",
      "data/AOI_3_Paris_Roads_Train/geojson/spacenetroads/spacenetroads_AOI_3_Paris_PAN_img54.geojson: No such file or directory\n",
      "data/AOI_3_Paris_Roads_Train/geojson/spacenetroads/spacenetroads_AOI_3_Paris_PAN_img60.geojson: No such file or directory\n"
     ]
    },
    {
     "name": "stderr",
     "output_type": "stream",
     "text": [
      "\n",
      "\n"
     ]
    },
    {
     "name": "stdout",
     "output_type": "stream",
     "text": [
      "data/AOI_3_Paris_Roads_Train/geojson/spacenetroads/spacenetroads_AOI_3_Paris_PAN_img61.geojson: No such file or directory\n"
     ]
    },
    {
     "name": "stderr",
     "output_type": "stream",
     "text": [
      "\r",
      " 63%|██████▎   | 474/750 [01:01<00:26, 10.35it/s]"
     ]
    },
    {
     "name": "stdout",
     "output_type": "stream",
     "text": [
      "data/AOI_3_Paris_Roads_Train/geojson/spacenetroads/spacenetroads_AOI_3_Paris_PAN_img64.geojson: No such file or directory\n"
     ]
    },
    {
     "name": "stderr",
     "output_type": "stream",
     "text": [
      "\u001b[A\u001b[A"
     ]
    },
    {
     "name": "stdout",
     "output_type": "stream",
     "text": [
      "data/AOI_3_Paris_Roads_Train/geojson/spacenetroads/spacenetroads_AOI_3_Paris_PAN_img65.geojson: No such file or directory\n",
      "data/AOI_3_Paris_Roads_Train/geojson/spacenetroads/spacenetroads_AOI_3_Paris_PAN_img7.geojson: No such file or directory\n",
      "data/AOI_3_Paris_Roads_Train/geojson/spacenetroads/spacenetroads_AOI_3_Paris_PAN_img72.geojson: No such file or directory\n",
      "data/AOI_3_Paris_Roads_Train/geojson/spacenetroads/spacenetroads_AOI_3_Paris_PAN_img73.geojson: No such file or directory\n",
      "data/AOI_3_Paris_Roads_Train/geojson/spacenetroads/spacenetroads_AOI_3_Paris_PAN_img75.geojson: No such file or directory\n"
     ]
    },
    {
     "name": "stderr",
     "output_type": "stream",
     "text": [
      "\n",
      "\n",
      " 64%|██████▍   | 481/750 [01:01<00:20, 13.19it/s]\u001b[A\u001b[A"
     ]
    },
    {
     "name": "stdout",
     "output_type": "stream",
     "text": [
      "data/AOI_3_Paris_Roads_Train/geojson/spacenetroads/spacenetroads_AOI_3_Paris_PAN_img76.geojson: No such file or directory\n",
      "data/AOI_3_Paris_Roads_Train/geojson/spacenetroads/spacenetroads_AOI_3_Paris_PAN_img77.geojson: No such file or directory\n",
      "data/AOI_3_Paris_Roads_Train/geojson/spacenetroads/spacenetroads_AOI_3_Paris_PAN_img80.geojson: No such file or directory\n",
      "data/AOI_3_Paris_Roads_Train/geojson/spacenetroads/spacenetroads_AOI_3_Paris_PAN_img11.geojson: No such file or directory\n",
      "data/AOI_3_Paris_Roads_Train/geojson/spacenetroads/spacenetroads_AOI_3_Paris_PAN_img81.geojson: No such file or directory\n",
      "data/AOI_3_Paris_Roads_Train/geojson/spacenetroads/spacenetroads_AOI_3_Paris_PAN_img9.geojson: No such file or directory\n"
     ]
    },
    {
     "name": "stderr",
     "output_type": "stream",
     "text": [
      "\n",
      "\n",
      " 65%|██████▍   | 487/750 [01:01<00:15, 16.45it/s]\u001b[A\u001b[A"
     ]
    },
    {
     "name": "stdout",
     "output_type": "stream",
     "text": [
      "data/AOI_3_Paris_Roads_Train/geojson/spacenetroads/spacenetroads_AOI_3_Paris_PAN_img47.geojson: No such file or directory\n",
      "data/AOI_3_Paris_Roads_Train/geojson/spacenetroads/spacenetroads_AOI_3_Paris_PAN_img28.geojson: No such file or directory\n",
      "data/AOI_3_Paris_Roads_Train/geojson/spacenetroads/spacenetroads_AOI_3_Paris_PAN_img16.geojson: No such file or directory\n",
      "data/AOI_3_Paris_Roads_Train/geojson/spacenetroads/spacenetroads_AOI_3_Paris_PAN_img63.geojson: No such file or directory\n",
      "data/AOI_3_Paris_Roads_Train/geojson/spacenetroads/spacenetroads_AOI_3_Paris_PAN_img17.geojson: No such file or directory\n"
     ]
    },
    {
     "name": "stderr",
     "output_type": "stream",
     "text": [
      "\n",
      "\n",
      " 66%|██████▌   | 492/750 [01:01<00:13, 19.16it/s]\u001b[A\u001b[A"
     ]
    },
    {
     "name": "stdout",
     "output_type": "stream",
     "text": [
      "data/AOI_3_Paris_Roads_Train/geojson/spacenetroads/spacenetroads_AOI_3_Paris_PAN_img18.geojson: No such file or directory\n",
      "data/AOI_3_Paris_Roads_Train/geojson/spacenetroads/spacenetroads_AOI_3_Paris_PAN_img19.geojson: No such file or directory\n",
      "data/AOI_3_Paris_Roads_Train/geojson/spacenetroads/spacenetroads_AOI_3_Paris_PAN_img20.geojson: No such file or directory\n",
      "data/AOI_3_Paris_Roads_Train/geojson/spacenetroads/spacenetroads_AOI_3_Paris_PAN_img23.geojson: No such file or directory\n",
      "data/AOI_3_Paris_Roads_Train/geojson/spacenetroads/spacenetroads_AOI_3_Paris_PAN_img21.geojson: No such file or directory\n"
     ]
    },
    {
     "name": "stderr",
     "output_type": "stream",
     "text": [
      "\n",
      "\n",
      " 66%|██████▋   | 497/750 [01:02<00:12, 20.44it/s]\u001b[A\u001b[A"
     ]
    },
    {
     "name": "stdout",
     "output_type": "stream",
     "text": [
      "data/AOI_3_Paris_Roads_Train/geojson/spacenetroads/spacenetroads_AOI_3_Paris_PAN_img27.geojson: No such file or directory\n",
      "data/AOI_3_Paris_Roads_Train/geojson/spacenetroads/spacenetroads_AOI_3_Paris_PAN_img24.geojson: No such file or directory\n",
      "data/AOI_3_Paris_Roads_Train/geojson/spacenetroads/spacenetroads_AOI_3_Paris_PAN_img26.geojson: No such file or directory\n",
      "data/AOI_3_Paris_Roads_Train/geojson/spacenetroads/spacenetroads_AOI_3_Paris_PS-RGB_img28.geojson: No such file or directory\n",
      "data/AOI_3_Paris_Roads_Train/geojson/spacenetroads/spacenetroads_AOI_3_Paris_PS-RGB_img10.geojson: No such file or directory\n"
     ]
    },
    {
     "name": "stderr",
     "output_type": "stream",
     "text": [
      "\n",
      "\n",
      " 67%|██████▋   | 501/750 [01:02<00:15, 16.10it/s]\u001b[A\u001b[A"
     ]
    },
    {
     "name": "stdout",
     "output_type": "stream",
     "text": [
      "data/AOI_3_Paris_Roads_Train/geojson/spacenetroads/spacenetroads_AOI_3_Paris_PS-RGB_img31.geojson: No such file or directory\n",
      "data/AOI_3_Paris_Roads_Train/geojson/spacenetroads/spacenetroads_AOI_3_Paris_PS-RGB_img30.geojson: No such file or directory\n",
      "data/AOI_3_Paris_Roads_Train/geojson/spacenetroads/spacenetroads_AOI_3_Paris_PS-RGB_img33.geojson: No such file or directory\n"
     ]
    },
    {
     "name": "stderr",
     "output_type": "stream",
     "text": [
      "\n",
      "\n"
     ]
    },
    {
     "name": "stdout",
     "output_type": "stream",
     "text": [
      "data/AOI_3_Paris_Roads_Train/geojson/spacenetroads/spacenetroads_AOI_3_Paris_PS-RGB_img38.geojson: No such file or directory\n"
     ]
    },
    {
     "name": "stderr",
     "output_type": "stream",
     "text": [
      " 67%|██████▋   | 505/750 [01:02<00:15, 16.15it/s]\u001b[A\u001b[A"
     ]
    },
    {
     "name": "stdout",
     "output_type": "stream",
     "text": [
      "data/AOI_3_Paris_Roads_Train/geojson/spacenetroads/spacenetroads_AOI_3_Paris_PS-RGB_img39.geojson: No such file or directory\n",
      "data/AOI_3_Paris_Roads_Train/geojson/spacenetroads/spacenetroads_AOI_3_Paris_PS-RGB_img35.geojson: No such file or directory\n",
      "data/AOI_3_Paris_Roads_Train/geojson/spacenetroads/spacenetroads_AOI_3_Paris_PS-RGB_img37.geojson: No such file or directory\n"
     ]
    },
    {
     "name": "stderr",
     "output_type": "stream",
     "text": [
      "\n",
      "\n",
      " 68%|██████▊   | 508/750 [01:03<00:15, 15.64it/s]\u001b[A\u001b[A"
     ]
    },
    {
     "name": "stdout",
     "output_type": "stream",
     "text": [
      "data/AOI_3_Paris_Roads_Train/geojson/spacenetroads/spacenetroads_AOI_3_Paris_PS-RGB_img11.geojson: No such file or directory\n",
      "data/AOI_3_Paris_Roads_Train/geojson/spacenetroads/spacenetroads_AOI_3_Paris_PS-RGB_img42.geojson: No such file or directory\n",
      "data/AOI_3_Paris_Roads_Train/geojson/spacenetroads/spacenetroads_AOI_3_Paris_PS-RGB_img43.geojson: No such file or directory\n",
      "data/AOI_3_Paris_Roads_Train/geojson/spacenetroads/spacenetroads_AOI_3_Paris_PS-RGB_img27.geojson: No such file or directory\n",
      "data/AOI_3_Paris_Roads_Train/geojson/spacenetroads/spacenetroads_AOI_3_Paris_PS-RGB_img41.geojson: No such file or directory\n"
     ]
    },
    {
     "name": "stderr",
     "output_type": "stream",
     "text": [
      "\n",
      "\n",
      " 68%|██████▊   | 511/750 [01:03<00:15, 15.01it/s]\u001b[A\u001b[A"
     ]
    },
    {
     "name": "stdout",
     "output_type": "stream",
     "text": [
      "data/AOI_3_Paris_Roads_Train/geojson/spacenetroads/spacenetroads_AOI_3_Paris_PS-RGB_img46.geojson: No such file or directory\n",
      "data/AOI_3_Paris_Roads_Train/geojson/spacenetroads/spacenetroads_AOI_3_Paris_PS-RGB_img47.geojson: No such file or directory\n",
      "data/AOI_3_Paris_Roads_Train/geojson/spacenetroads/spacenetroads_AOI_3_Paris_PS-RGB_img16.geojson: No such file or directory\n"
     ]
    },
    {
     "name": "stderr",
     "output_type": "stream",
     "text": [
      "\n",
      "\n",
      " 69%|██████▊   | 514/750 [01:03<00:16, 14.36it/s]\u001b[A\u001b[A"
     ]
    },
    {
     "name": "stdout",
     "output_type": "stream",
     "text": [
      "data/AOI_3_Paris_Roads_Train/geojson/spacenetroads/spacenetroads_AOI_3_Paris_PS-RGB_img48.geojson: No such file or directory\n",
      "data/AOI_3_Paris_Roads_Train/geojson/spacenetroads/spacenetroads_AOI_3_Paris_PS-RGB_img61.geojson: No such file or directory\n"
     ]
    },
    {
     "name": "stderr",
     "output_type": "stream",
     "text": [
      "\n",
      "\n",
      " 69%|██████▉   | 517/750 [01:03<00:16, 14.47it/s]\u001b[A\u001b[A"
     ]
    },
    {
     "name": "stdout",
     "output_type": "stream",
     "text": [
      "data/AOI_3_Paris_Roads_Train/geojson/spacenetroads/spacenetroads_AOI_3_Paris_PS-RGB_img50.geojson: No such file or directory\n",
      "data/AOI_3_Paris_Roads_Train/geojson/spacenetroads/spacenetroads_AOI_3_Paris_PS-RGB_img49.geojson: No such file or directory\n"
     ]
    },
    {
     "name": "stderr",
     "output_type": "stream",
     "text": [
      "\n",
      "\n",
      " 69%|██████▉   | 520/750 [01:03<00:14, 15.41it/s]\u001b[A\u001b[A"
     ]
    },
    {
     "name": "stdout",
     "output_type": "stream",
     "text": [
      "data/AOI_3_Paris_Roads_Train/geojson/spacenetroads/spacenetroads_AOI_3_Paris_PS-RGB_img55.geojson: No such file or directory\n",
      "data/AOI_3_Paris_Roads_Train/geojson/spacenetroads/spacenetroads_AOI_3_Paris_PS-RGB_img53.geojson: No such file or directory\n",
      "data/AOI_3_Paris_Roads_Train/geojson/spacenetroads/spacenetroads_AOI_3_Paris_PS-RGB_img6.geojson: No such file or directory\n",
      "data/AOI_3_Paris_Roads_Train/geojson/spacenetroads/spacenetroads_AOI_3_Paris_PS-RGB_img54.geojson: No such file or directory\n",
      "data/AOI_3_Paris_Roads_Train/geojson/spacenetroads/spacenetroads_AOI_3_Paris_PS-RGB_img52.geojson: No such file or directory\n",
      "data/AOI_3_Paris_Roads_Train/geojson/spacenetroads/spacenetroads_AOI_3_Paris_PS-RGB_img51.geojson: No such file or directory\n"
     ]
    },
    {
     "name": "stderr",
     "output_type": "stream",
     "text": [
      "\n",
      "\n",
      " 70%|██████▉   | 522/750 [01:04<00:17, 13.09it/s]\u001b[A\u001b[A"
     ]
    },
    {
     "name": "stdout",
     "output_type": "stream",
     "text": [
      "data/AOI_3_Paris_Roads_Train/geojson/spacenetroads/spacenetroads_AOI_3_Paris_PS-RGB_img63.geojson: No such file or directory\n",
      "data/AOI_3_Paris_Roads_Train/geojson/spacenetroads/spacenetroads_AOI_3_Paris_PS-RGB_img64.geojson: No such file or directory\n",
      "data/AOI_3_Paris_Roads_Train/geojson/spacenetroads/spacenetroads_AOI_3_Paris_PS-RGB_img60.geojson: No such file or directory\n"
     ]
    },
    {
     "name": "stderr",
     "output_type": "stream",
     "text": [
      "\n",
      "\n",
      " 70%|███████   | 528/750 [01:04<00:15, 13.89it/s]\u001b[A\u001b[A"
     ]
    },
    {
     "name": "stdout",
     "output_type": "stream",
     "text": [
      "data/AOI_3_Paris_Roads_Train/geojson/spacenetroads/spacenetroads_AOI_3_Paris_PS-RGB_img7.geojson: No such file or directory\n",
      "data/AOI_3_Paris_Roads_Train/geojson/spacenetroads/spacenetroads_AOI_3_Paris_PS-RGB_img65.geojson: No such file or directory\n"
     ]
    },
    {
     "name": "stderr",
     "output_type": "stream",
     "text": [
      "\n",
      "\n",
      " 71%|███████   | 531/750 [01:04<00:15, 14.55it/s]\u001b[A\u001b[A"
     ]
    },
    {
     "name": "stdout",
     "output_type": "stream",
     "text": [
      "data/AOI_3_Paris_Roads_Train/geojson/spacenetroads/spacenetroads_AOI_3_Paris_PS-RGB_img72.geojson: No such file or directory\n",
      "data/AOI_3_Paris_Roads_Train/geojson/spacenetroads/spacenetroads_AOI_3_Paris_PS-RGB_img73.geojson: No such file or directory\n",
      "data/AOI_3_Paris_Roads_Train/geojson/spacenetroads/spacenetroads_AOI_3_Paris_PS-RGB_img77.geojson: No such file or directory\n",
      "data/AOI_3_Paris_Roads_Train/geojson/spacenetroads/spacenetroads_AOI_3_Paris_PS-RGB_img75.geojson: No such file or directory\n"
     ]
    },
    {
     "name": "stderr",
     "output_type": "stream",
     "text": [
      "\n",
      "\n"
     ]
    },
    {
     "name": "stdout",
     "output_type": "stream",
     "text": [
      "data/AOI_3_Paris_Roads_Train/geojson/spacenetroads/spacenetroads_AOI_3_Paris_PS-RGB_img76.geojson: No such file or directory\n"
     ]
    },
    {
     "name": "stderr",
     "output_type": "stream",
     "text": [
      " 71%|███████▏  | 535/750 [01:04<00:14, 15.11it/s]\u001b[A\u001b[A"
     ]
    },
    {
     "name": "stdout",
     "output_type": "stream",
     "text": [
      "data/AOI_3_Paris_Roads_Train/geojson/spacenetroads/spacenetroads_AOI_3_Paris_PS-RGB_img81.geojson: No such file or directory\n",
      "data/AOI_3_Paris_Roads_Train/geojson/spacenetroads/spacenetroads_AOI_3_Paris_PS-RGB_img9.geojson: No such file or directory\n",
      "data/AOI_3_Paris_Roads_Train/geojson/spacenetroads/spacenetroads_AOI_3_Paris_PS-RGB_img80.geojson: No such file or directory\n"
     ]
    },
    {
     "name": "stderr",
     "output_type": "stream",
     "text": [
      "\n",
      "\n",
      " 72%|███████▏  | 538/750 [01:05<00:15, 13.79it/s]\u001b[A\u001b[A"
     ]
    },
    {
     "name": "stdout",
     "output_type": "stream",
     "text": [
      "data/AOI_3_Paris_Roads_Train/geojson/spacenetroads/spacenetroads_AOI_3_Paris_PS-RGB_img15.geojson: No such file or directory\n",
      "data/AOI_3_Paris_Roads_Train/geojson/spacenetroads/spacenetroads_AOI_3_Paris_PS-RGB_img14.geojson: No such file or directory\n"
     ]
    },
    {
     "name": "stderr",
     "output_type": "stream",
     "text": [
      "\n",
      "\n",
      " 72%|███████▏  | 541/750 [01:07<00:52,  4.00it/s]\u001b[A\u001b[A"
     ]
    },
    {
     "name": "stdout",
     "output_type": "stream",
     "text": [
      "data/AOI_3_Paris_Roads_Train/geojson/spacenetroads/spacenetroads_AOI_3_Paris_PS-RGB_img17.geojson: No such file or directory\n",
      "data/AOI_3_Paris_Roads_Train/geojson/spacenetroads/spacenetroads_AOI_3_Paris_PS-RGB_img18.geojson: No such file or directory\n"
     ]
    },
    {
     "name": "stderr",
     "output_type": "stream",
     "text": [
      "\n",
      "\n",
      " 73%|███████▎  | 544/750 [01:07<00:49,  4.15it/s]\u001b[A\u001b[A"
     ]
    },
    {
     "name": "stdout",
     "output_type": "stream",
     "text": [
      "data/AOI_3_Paris_Roads_Train/geojson/spacenetroads/spacenetroads_AOI_3_Paris_PS-RGB_img19.geojson: No such file or directory\n"
     ]
    },
    {
     "name": "stderr",
     "output_type": "stream",
     "text": [
      "\n",
      "\n",
      " 73%|███████▎  | 545/750 [01:08<00:50,  4.02it/s]\u001b[A\u001b[A"
     ]
    },
    {
     "name": "stdout",
     "output_type": "stream",
     "text": [
      "data/AOI_4_Shanghai_Roads_Train/geojson/spacenetroads/spacenetroads_AOI_4_Shanghai_MS_img10.geojson: No such file or directory\n",
      "data/AOI_4_Shanghai_Roads_Train/geojson/spacenetroads/spacenetroads_AOI_4_Shanghai_MS_img30.geojson: No such file or directory\n",
      "data/AOI_3_Paris_Roads_Train/geojson/spacenetroads/spacenetroads_AOI_3_Paris_PS-RGB_img23.geojson: No such file or directory\n",
      "data/AOI_4_Shanghai_Roads_Train/geojson/spacenetroads/spacenetroads_AOI_4_Shanghai_MS_img32.geojson: No such file or directory\n",
      "data/AOI_3_Paris_Roads_Train/geojson/spacenetroads/spacenetroads_AOI_3_Paris_PS-RGB_img21.geojson: No such file or directory\n",
      "data/AOI_4_Shanghai_Roads_Train/geojson/spacenetroads/spacenetroads_AOI_4_Shanghai_MS_img33.geojson: No such file or directory\n",
      "data/AOI_3_Paris_Roads_Train/geojson/spacenetroads/spacenetroads_AOI_3_Paris_PS-RGB_img20.geojson: No such file or directory\n"
     ]
    },
    {
     "name": "stderr",
     "output_type": "stream",
     "text": [
      "\n",
      "\n",
      " 73%|███████▎  | 546/750 [01:08<00:46,  4.43it/s]\u001b[A\u001b[A"
     ]
    },
    {
     "name": "stdout",
     "output_type": "stream",
     "text": [
      "data/AOI_4_Shanghai_Roads_Train/geojson/spacenetroads/spacenetroads_AOI_4_Shanghai_MS_img37.geojson: No such file or directory\n",
      "data/AOI_4_Shanghai_Roads_Train/geojson/spacenetroads/spacenetroads_AOI_4_Shanghai_MS_img38.geojson: No such file or directory\n",
      "data/AOI_4_Shanghai_Roads_Train/geojson/spacenetroads/spacenetroads_AOI_4_Shanghai_MS_img4.geojson: No such file or directory\n",
      "data/AOI_4_Shanghai_Roads_Train/geojson/spacenetroads/spacenetroads_AOI_4_Shanghai_MS_img44.geojson: No such file or directory\n",
      "data/AOI_3_Paris_Roads_Train/geojson/spacenetroads/spacenetroads_AOI_3_Paris_PS-RGB_img26.geojson: No such file or directory\n",
      "data/AOI_3_Paris_Roads_Train/geojson/spacenetroads/spacenetroads_AOI_3_Paris_PS-RGB_img24.geojson: No such file or directory\n",
      "data/AOI_4_Shanghai_Roads_Train/geojson/spacenetroads/spacenetroads_AOI_4_Shanghai_MS_img41.geojson: No such file or directory\n"
     ]
    },
    {
     "name": "stderr",
     "output_type": "stream",
     "text": [
      "\n",
      "\n",
      " 74%|███████▍  | 558/750 [01:08<00:31,  6.16it/s]\u001b[A\u001b[A"
     ]
    },
    {
     "name": "stdout",
     "output_type": "stream",
     "text": [
      "data/AOI_4_Shanghai_Roads_Train/geojson/spacenetroads/spacenetroads_AOI_4_Shanghai_MS_img47.geojson: No such file or directory\n",
      "data/AOI_4_Shanghai_Roads_Train/geojson/spacenetroads/spacenetroads_AOI_4_Shanghai_MS_img52.geojson: No such file or directory\n",
      "data/AOI_4_Shanghai_Roads_Train/geojson/spacenetroads/spacenetroads_AOI_4_Shanghai_MS_img5.geojson: No such file or directory\n",
      "data/AOI_4_Shanghai_Roads_Train/geojson/spacenetroads/spacenetroads_AOI_4_Shanghai_MS_img54.geojson: No such file or directory\n",
      "data/AOI_4_Shanghai_Roads_Train/geojson/spacenetroads/spacenetroads_AOI_4_Shanghai_MS_img50.geojson: No such file or directory\n",
      "data/AOI_4_Shanghai_Roads_Train/geojson/spacenetroads/spacenetroads_AOI_4_Shanghai_MS_img56.geojson: No such file or directory\n"
     ]
    },
    {
     "name": "stderr",
     "output_type": "stream",
     "text": [
      "\n",
      "\n",
      " 75%|███████▌  | 565/750 [01:08<00:21,  8.43it/s]\u001b[A\u001b[A"
     ]
    },
    {
     "name": "stdout",
     "output_type": "stream",
     "text": [
      "data/AOI_4_Shanghai_Roads_Train/geojson/spacenetroads/spacenetroads_AOI_4_Shanghai_MS_img58.geojson: No such file or directory\n",
      "data/AOI_4_Shanghai_Roads_Train/geojson/spacenetroads/spacenetroads_AOI_4_Shanghai_MS_img57.geojson: No such file or directory\n",
      "data/AOI_4_Shanghai_Roads_Train/geojson/spacenetroads/spacenetroads_AOI_4_Shanghai_MS_img6.geojson: No such file or directory\n",
      "data/AOI_4_Shanghai_Roads_Train/geojson/spacenetroads/spacenetroads_AOI_4_Shanghai_MS_img64.geojson: No such file or directory\n",
      "data/AOI_4_Shanghai_Roads_Train/geojson/spacenetroads/spacenetroads_AOI_4_Shanghai_MS_img67.geojson: No such file or directory\n",
      "data/AOI_4_Shanghai_Roads_Train/geojson/spacenetroads/spacenetroads_AOI_4_Shanghai_MS_img60.geojson: No such file or directory\n"
     ]
    },
    {
     "name": "stderr",
     "output_type": "stream",
     "text": [
      "\n",
      "\n",
      " 76%|███████▌  | 569/750 [01:08<00:16, 10.97it/s]\u001b[A\u001b[A"
     ]
    },
    {
     "name": "stdout",
     "output_type": "stream",
     "text": [
      "data/AOI_4_Shanghai_Roads_Train/geojson/spacenetroads/spacenetroads_AOI_4_Shanghai_MS_img65.geojson: No such file or directory\n",
      "data/AOI_4_Shanghai_Roads_Train/geojson/spacenetroads/spacenetroads_AOI_4_Shanghai_MS_img74.geojson: No such file or directory\n",
      "data/AOI_4_Shanghai_Roads_Train/geojson/spacenetroads/spacenetroads_AOI_4_Shanghai_MS_img7.geojson: No such file or directory\n",
      "data/AOI_4_Shanghai_Roads_Train/geojson/spacenetroads/spacenetroads_AOI_4_Shanghai_MS_img75.geojson: No such file or directory\n",
      "data/AOI_4_Shanghai_Roads_Train/geojson/spacenetroads/spacenetroads_AOI_4_Shanghai_MS_img77.geojson: No such file or directory\n",
      "data/AOI_4_Shanghai_Roads_Train/geojson/spacenetroads/spacenetroads_AOI_4_Shanghai_MS_img8.geojson: No such file or directory\n"
     ]
    },
    {
     "name": "stderr",
     "output_type": "stream",
     "text": [
      "\n",
      "\n",
      " 77%|███████▋  | 576/750 [01:08<00:12, 14.34it/s]\u001b[A\u001b[A"
     ]
    },
    {
     "name": "stdout",
     "output_type": "stream",
     "text": [
      "data/AOI_4_Shanghai_Roads_Train/geojson/spacenetroads/spacenetroads_AOI_4_Shanghai_MS_img79.geojson: No such file or directory\n",
      "data/AOI_4_Shanghai_Roads_Train/geojson/spacenetroads/spacenetroads_AOI_4_Shanghai_MS_img85.geojson: No such file or directory\n",
      "data/AOI_4_Shanghai_Roads_Train/geojson/spacenetroads/spacenetroads_AOI_4_Shanghai_MS_img87.geojson: No such file or directory\n",
      "data/AOI_4_Shanghai_Roads_Train/geojson/spacenetroads/spacenetroads_AOI_4_Shanghai_MS_img81.geojson: No such file or directory\n",
      "data/AOI_4_Shanghai_Roads_Train/geojson/spacenetroads/spacenetroads_AOI_4_Shanghai_MS_img89.geojson: No such file or directory\n",
      "data/AOI_4_Shanghai_Roads_Train/geojson/spacenetroads/spacenetroads_AOI_4_Shanghai_MS_img92.geojson: No such file or directory\n",
      "data/AOI_4_Shanghai_Roads_Train/geojson/spacenetroads/spacenetroads_AOI_4_Shanghai_MS_img90.geojson: No such file or directory\n",
      "data/AOI_4_Shanghai_Roads_Train/geojson/spacenetroads/spacenetroads_AOI_4_Shanghai_MS_img91.geojson: No such file or directory\n"
     ]
    },
    {
     "name": "stderr",
     "output_type": "stream",
     "text": [
      "\n",
      "\n",
      " 78%|███████▊  | 583/750 [01:08<00:09, 18.13it/s]\u001b[A\u001b[A"
     ]
    },
    {
     "name": "stdout",
     "output_type": "stream",
     "text": [
      "data/AOI_4_Shanghai_Roads_Train/geojson/spacenetroads/spacenetroads_AOI_4_Shanghai_MS_img51.geojson: No such file or directory\n",
      "data/AOI_4_Shanghai_Roads_Train/geojson/spacenetroads/spacenetroads_AOI_4_Shanghai_MS_img13.geojson: No such file or directory\n",
      "data/AOI_4_Shanghai_Roads_Train/geojson/spacenetroads/spacenetroads_AOI_4_Shanghai_MS_img3.geojson: No such file or directory\n",
      "data/AOI_4_Shanghai_Roads_Train/geojson/spacenetroads/spacenetroads_AOI_4_Shanghai_MS_img73.geojson: No such file or directory\n"
     ]
    },
    {
     "name": "stderr",
     "output_type": "stream",
     "text": [
      "\n",
      "\n",
      " 79%|███████▊  | 589/750 [01:08<00:07, 22.62it/s]\u001b[A\u001b[A"
     ]
    },
    {
     "name": "stdout",
     "output_type": "stream",
     "text": [
      "data/AOI_4_Shanghai_Roads_Train/geojson/spacenetroads/spacenetroads_AOI_4_Shanghai_MS_img16.geojson: No such file or directory\n",
      "data/AOI_4_Shanghai_Roads_Train/geojson/spacenetroads/spacenetroads_AOI_4_Shanghai_MS_img17.geojson: No such file or directory\n",
      "data/AOI_4_Shanghai_Roads_Train/geojson/spacenetroads/spacenetroads_AOI_4_Shanghai_MS_img15.geojson: No such file or directory\n",
      "data/AOI_4_Shanghai_Roads_Train/geojson/spacenetroads/spacenetroads_AOI_4_Shanghai_MS_img19.geojson: No such file or directory\n",
      "data/AOI_4_Shanghai_Roads_Train/geojson/spacenetroads/spacenetroads_AOI_4_Shanghai_MS_img21.geojson: No such file or directory\n",
      "data/AOI_4_Shanghai_Roads_Train/geojson/spacenetroads/spacenetroads_AOI_4_Shanghai_MS_img2.geojson: No such file or directory\n"
     ]
    },
    {
     "name": "stderr",
     "output_type": "stream",
     "text": [
      "\n",
      "\n",
      " 79%|███████▉  | 594/750 [01:09<00:06, 22.79it/s]\u001b[A\u001b[A"
     ]
    },
    {
     "name": "stdout",
     "output_type": "stream",
     "text": [
      "data/AOI_4_Shanghai_Roads_Train/geojson/spacenetroads/spacenetroads_AOI_4_Shanghai_MS_img22.geojson: No such file or directory\n",
      "data/AOI_4_Shanghai_Roads_Train/geojson/spacenetroads/spacenetroads_AOI_4_Shanghai_MS_img23.geojson: No such file or directory\n",
      "data/AOI_4_Shanghai_Roads_Train/geojson/spacenetroads/spacenetroads_AOI_4_Shanghai_MS_img25.geojson: No such file or directory\n"
     ]
    },
    {
     "name": "stderr",
     "output_type": "stream",
     "text": [
      "\n",
      "\n",
      " 80%|███████▉  | 598/750 [01:09<00:07, 19.14it/s]\u001b[A\u001b[A"
     ]
    },
    {
     "name": "stdout",
     "output_type": "stream",
     "text": [
      "data/AOI_4_Shanghai_Roads_Train/geojson/spacenetroads/spacenetroads_AOI_4_Shanghai_MS_img27.geojson: No such file or directory\n",
      "data/AOI_4_Shanghai_Roads_Train/geojson/spacenetroads/spacenetroads_AOI_4_Shanghai_MS_img29.geojson: No such file or directory\n",
      "data/AOI_4_Shanghai_Roads_Train/geojson/spacenetroads/spacenetroads_AOI_4_Shanghai_PS-MS_img10.geojson: No such file or directory\n",
      "data/AOI_4_Shanghai_Roads_Train/geojson/spacenetroads/spacenetroads_AOI_4_Shanghai_PS-MS_img3.geojson: No such file or directory\n"
     ]
    },
    {
     "name": "stderr",
     "output_type": "stream",
     "text": [
      "\n",
      "\n",
      " 80%|████████  | 602/750 [01:10<00:12, 11.57it/s]\u001b[A\u001b[A"
     ]
    },
    {
     "name": "stdout",
     "output_type": "stream",
     "text": [
      "data/AOI_4_Shanghai_Roads_Train/geojson/spacenetroads/spacenetroads_AOI_4_Shanghai_PS-MS_img30.geojson: No such file or directory\n",
      "data/AOI_4_Shanghai_Roads_Train/geojson/spacenetroads/spacenetroads_AOI_4_Shanghai_PS-MS_img32.geojson: No such file or directory\n",
      "data/AOI_4_Shanghai_Roads_Train/geojson/spacenetroads/spacenetroads_AOI_4_Shanghai_PS-MS_img33.geojson: No such file or directory\n"
     ]
    },
    {
     "name": "stderr",
     "output_type": "stream",
     "text": [
      "\n",
      "\n",
      " 81%|████████  | 605/750 [01:10<00:17,  8.19it/s]\u001b[A\u001b[A"
     ]
    },
    {
     "name": "stdout",
     "output_type": "stream",
     "text": [
      "data/AOI_4_Shanghai_Roads_Train/geojson/spacenetroads/spacenetroads_AOI_4_Shanghai_PS-MS_img37.geojson: No such file or directory\n",
      "data/AOI_4_Shanghai_Roads_Train/geojson/spacenetroads/spacenetroads_AOI_4_Shanghai_PS-MS_img4.geojson: No such file or directory\n",
      "data/AOI_4_Shanghai_Roads_Train/geojson/spacenetroads/spacenetroads_AOI_4_Shanghai_PS-MS_img38.geojson: No such file or directory\n"
     ]
    },
    {
     "name": "stderr",
     "output_type": "stream",
     "text": [
      "\n",
      "\n",
      " 81%|████████  | 607/750 [01:10<00:15,  9.45it/s]\u001b[A\u001b[A"
     ]
    },
    {
     "name": "stdout",
     "output_type": "stream",
     "text": [
      "data/AOI_4_Shanghai_Roads_Train/geojson/spacenetroads/spacenetroads_AOI_4_Shanghai_PS-MS_img44.geojson: No such file or directory\n",
      "data/AOI_4_Shanghai_Roads_Train/geojson/spacenetroads/spacenetroads_AOI_4_Shanghai_PS-MS_img41.geojson: No such file or directory\n"
     ]
    },
    {
     "name": "stderr",
     "output_type": "stream",
     "text": [
      "\n",
      "\n",
      " 81%|████████  | 609/750 [01:11<00:23,  5.90it/s]\u001b[A\u001b[A"
     ]
    },
    {
     "name": "stdout",
     "output_type": "stream",
     "text": [
      "data/AOI_4_Shanghai_Roads_Train/geojson/spacenetroads/spacenetroads_AOI_4_Shanghai_PS-MS_img47.geojson: No such file or directory\n",
      "data/AOI_4_Shanghai_Roads_Train/geojson/spacenetroads/spacenetroads_AOI_4_Shanghai_PS-MS_img5.geojson: No such file or directory\n"
     ]
    },
    {
     "name": "stderr",
     "output_type": "stream",
     "text": [
      "\n",
      "\n",
      " 82%|████████▏ | 612/750 [01:11<00:19,  6.98it/s]\u001b[A\u001b[A"
     ]
    },
    {
     "name": "stdout",
     "output_type": "stream",
     "text": [
      "data/AOI_4_Shanghai_Roads_Train/geojson/spacenetroads/spacenetroads_AOI_4_Shanghai_PS-MS_img13.geojson: No such file or directory\n",
      "data/AOI_4_Shanghai_Roads_Train/geojson/spacenetroads/spacenetroads_AOI_4_Shanghai_PS-MS_img50.geojson: No such file or directory\n",
      "data/AOI_4_Shanghai_Roads_Train/geojson/spacenetroads/spacenetroads_AOI_4_Shanghai_PS-MS_img29.geojson: No such file or directory\n"
     ]
    },
    {
     "name": "stderr",
     "output_type": "stream",
     "text": [
      "\n",
      "\n",
      " 82%|████████▏ | 614/750 [01:12<00:22,  5.93it/s]\u001b[A\u001b[A"
     ]
    },
    {
     "name": "stdout",
     "output_type": "stream",
     "text": [
      "data/AOI_4_Shanghai_Roads_Train/geojson/spacenetroads/spacenetroads_AOI_4_Shanghai_PS-MS_img7.geojson: No such file or directory\n"
     ]
    },
    {
     "name": "stderr",
     "output_type": "stream",
     "text": [
      "\n",
      "\n",
      " 82%|████████▏ | 616/750 [01:12<00:21,  6.11it/s]\u001b[A\u001b[A"
     ]
    },
    {
     "name": "stdout",
     "output_type": "stream",
     "text": [
      "data/AOI_4_Shanghai_Roads_Train/geojson/spacenetroads/spacenetroads_AOI_4_Shanghai_PS-MS_img51.geojson: No such file or directory\n",
      "data/AOI_4_Shanghai_Roads_Train/geojson/spacenetroads/spacenetroads_AOI_4_Shanghai_PS-MS_img52.geojson: No such file or directory\n",
      "data/AOI_4_Shanghai_Roads_Train/geojson/spacenetroads/spacenetroads_AOI_4_Shanghai_PS-MS_img54.geojson: No such file or directory\n"
     ]
    },
    {
     "name": "stderr",
     "output_type": "stream",
     "text": [
      "\n",
      "\n",
      " 83%|████████▎ | 619/750 [01:12<00:16,  7.85it/s]\u001b[A\u001b[A"
     ]
    },
    {
     "name": "stdout",
     "output_type": "stream",
     "text": [
      "data/AOI_4_Shanghai_Roads_Train/geojson/spacenetroads/spacenetroads_AOI_4_Shanghai_PS-MS_img56.geojson: No such file or directory\n",
      "data/AOI_4_Shanghai_Roads_Train/geojson/spacenetroads/spacenetroads_AOI_4_Shanghai_PS-MS_img57.geojson: No such file or directory\n"
     ]
    },
    {
     "name": "stderr",
     "output_type": "stream",
     "text": [
      "\n",
      "\n",
      " 83%|████████▎ | 621/750 [01:13<00:20,  6.38it/s]\u001b[A\u001b[A"
     ]
    },
    {
     "name": "stdout",
     "output_type": "stream",
     "text": [
      "data/AOI_4_Shanghai_Roads_Train/geojson/spacenetroads/spacenetroads_AOI_4_Shanghai_PS-MS_img58.geojson: No such file or directory\n",
      "data/AOI_4_Shanghai_Roads_Train/geojson/spacenetroads/spacenetroads_AOI_4_Shanghai_PS-MS_img60.geojson: No such file or directory\n",
      "data/AOI_4_Shanghai_Roads_Train/geojson/spacenetroads/spacenetroads_AOI_4_Shanghai_PS-MS_img6.geojson: No such file or directory\n",
      "data/AOI_4_Shanghai_Roads_Train/geojson/spacenetroads/spacenetroads_AOI_4_Shanghai_PS-MS_img64.geojson: No such file or directory\n"
     ]
    },
    {
     "name": "stderr",
     "output_type": "stream",
     "text": [
      "\n",
      "\n",
      " 83%|████████▎ | 623/750 [01:13<00:24,  5.13it/s]\u001b[A\u001b[A"
     ]
    },
    {
     "name": "stdout",
     "output_type": "stream",
     "text": [
      "data/AOI_4_Shanghai_Roads_Train/geojson/spacenetroads/spacenetroads_AOI_4_Shanghai_PS-MS_img65.geojson: No such file or directory\n",
      "data/AOI_4_Shanghai_Roads_Train/geojson/spacenetroads/spacenetroads_AOI_4_Shanghai_PS-MS_img67.geojson: No such file or directory\n",
      "data/AOI_4_Shanghai_Roads_Train/geojson/spacenetroads/spacenetroads_AOI_4_Shanghai_PS-MS_img73.geojson: No such file or directory\n",
      "data/AOI_4_Shanghai_Roads_Train/geojson/spacenetroads/spacenetroads_AOI_4_Shanghai_PS-MS_img74.geojson: No such file or directory\n"
     ]
    },
    {
     "name": "stderr",
     "output_type": "stream",
     "text": [
      "\n",
      "\n",
      " 84%|████████▍ | 629/750 [01:14<00:21,  5.64it/s]\u001b[A\u001b[A"
     ]
    },
    {
     "name": "stdout",
     "output_type": "stream",
     "text": [
      "data/AOI_4_Shanghai_Roads_Train/geojson/spacenetroads/spacenetroads_AOI_4_Shanghai_PS-MS_img75.geojson: No such file or directory\n",
      "data/AOI_4_Shanghai_Roads_Train/geojson/spacenetroads/spacenetroads_AOI_4_Shanghai_PS-MS_img77.geojson: No such file or directory\n",
      "data/AOI_4_Shanghai_Roads_Train/geojson/spacenetroads/spacenetroads_AOI_4_Shanghai_PS-MS_img79.geojson: No such file or directory\n"
     ]
    },
    {
     "name": "stderr",
     "output_type": "stream",
     "text": [
      "\n",
      "\n",
      " 84%|████████▍ | 632/750 [01:14<00:18,  6.47it/s]\u001b[A\u001b[A"
     ]
    },
    {
     "name": "stdout",
     "output_type": "stream",
     "text": [
      "data/AOI_4_Shanghai_Roads_Train/geojson/spacenetroads/spacenetroads_AOI_4_Shanghai_PS-MS_img8.geojson: No such file or directory\n"
     ]
    },
    {
     "name": "stderr",
     "output_type": "stream",
     "text": [
      "\n",
      "\n",
      " 84%|████████▍ | 633/750 [01:15<00:25,  4.63it/s]\u001b[A\u001b[A"
     ]
    },
    {
     "name": "stdout",
     "output_type": "stream",
     "text": [
      "data/AOI_4_Shanghai_Roads_Train/geojson/spacenetroads/spacenetroads_AOI_4_Shanghai_PS-MS_img81.geojson: No such file or directory\n",
      "data/AOI_4_Shanghai_Roads_Train/geojson/spacenetroads/spacenetroads_AOI_4_Shanghai_PS-MS_img87.geojson: No such file or directory\n",
      "data/AOI_4_Shanghai_Roads_Train/geojson/spacenetroads/spacenetroads_AOI_4_Shanghai_PS-MS_img89.geojson: No such file or directory\n",
      "data/AOI_4_Shanghai_Roads_Train/geojson/spacenetroads/spacenetroads_AOI_4_Shanghai_PS-MS_img85.geojson: No such file or directory\n"
     ]
    },
    {
     "name": "stderr",
     "output_type": "stream",
     "text": [
      "\n",
      "\n",
      " 85%|████████▍ | 635/750 [01:15<00:20,  5.59it/s]\u001b[A\u001b[A"
     ]
    },
    {
     "name": "stdout",
     "output_type": "stream",
     "text": [
      "data/AOI_4_Shanghai_Roads_Train/geojson/spacenetroads/spacenetroads_AOI_4_Shanghai_PS-MS_img90.geojson: No such file or directory\n",
      "data/AOI_4_Shanghai_Roads_Train/geojson/spacenetroads/spacenetroads_AOI_4_Shanghai_PS-MS_img91.geojson: No such file or directory\n"
     ]
    },
    {
     "name": "stderr",
     "output_type": "stream",
     "text": [
      "\n",
      "\n",
      " 85%|████████▌ | 639/750 [01:15<00:18,  6.07it/s]\u001b[A\u001b[A"
     ]
    },
    {
     "name": "stdout",
     "output_type": "stream",
     "text": [
      "data/AOI_4_Shanghai_Roads_Train/geojson/spacenetroads/spacenetroads_AOI_4_Shanghai_PS-MS_img15.geojson: No such file or directory\n",
      "data/AOI_4_Shanghai_Roads_Train/geojson/spacenetroads/spacenetroads_AOI_4_Shanghai_PS-MS_img92.geojson: No such file or directory\n",
      "data/AOI_4_Shanghai_Roads_Train/geojson/spacenetroads/spacenetroads_AOI_4_Shanghai_PAN_img10.geojson: No such file or directory\n",
      "data/AOI_4_Shanghai_Roads_Train/geojson/spacenetroads/spacenetroads_AOI_4_Shanghai_PAN_img15.geojson: No such file or directory\n",
      "data/AOI_4_Shanghai_Roads_Train/geojson/spacenetroads/spacenetroads_AOI_4_Shanghai_PAN_img16.geojson: No such file or directory\n",
      "data/AOI_4_Shanghai_Roads_Train/geojson/spacenetroads/spacenetroads_AOI_4_Shanghai_PS-MS_img16.geojson: No such file or directory\n"
     ]
    },
    {
     "name": "stderr",
     "output_type": "stream",
     "text": [
      "\n",
      "\n",
      " 86%|████████▌ | 642/750 [01:16<00:21,  5.09it/s]\u001b[A\u001b[A"
     ]
    },
    {
     "name": "stdout",
     "output_type": "stream",
     "text": [
      "data/AOI_4_Shanghai_Roads_Train/geojson/spacenetroads/spacenetroads_AOI_4_Shanghai_PAN_img32.geojson: No such file or directory\n",
      "data/AOI_4_Shanghai_Roads_Train/geojson/spacenetroads/spacenetroads_AOI_4_Shanghai_PS-MS_img22.geojson: No such file or directory\n",
      "data/AOI_4_Shanghai_Roads_Train/geojson/spacenetroads/spacenetroads_AOI_4_Shanghai_PS-MS_img19.geojson: No such file or directory\n",
      "data/AOI_4_Shanghai_Roads_Train/geojson/spacenetroads/spacenetroads_AOI_4_Shanghai_PAN_img33.geojson: No such file or directory\n",
      "data/AOI_4_Shanghai_Roads_Train/geojson/spacenetroads/spacenetroads_AOI_4_Shanghai_PS-MS_img2.geojson: No such file or directory\n",
      "data/AOI_4_Shanghai_Roads_Train/geojson/spacenetroads/spacenetroads_AOI_4_Shanghai_PS-MS_img21.geojson: No such file or directory\n",
      "data/AOI_4_Shanghai_Roads_Train/geojson/spacenetroads/spacenetroads_AOI_4_Shanghai_PS-MS_img23.geojson: No such file or directory\n",
      "data/AOI_4_Shanghai_Roads_Train/geojson/spacenetroads/spacenetroads_AOI_4_Shanghai_PAN_img38.geojson: No such file or directory\n",
      "data/AOI_4_Shanghai_Roads_Train/geojson/spacenetroads/spacenetroads_AOI_4_Shanghai_PAN_img37.geojson: No such file or directory\n",
      "data/AOI_4_Shanghai_Roads_Train/geojson/spacenetroads/spacenetroads_AOI_4_Shanghai_PS-MS_img17.geojson: No such file or directory\n",
      "data/AOI_4_Shanghai_Roads_Train/geojson/spacenetroads/spacenetroads_AOI_4_Shanghai_PAN_img4.geojson: No such file or directory\n"
     ]
    },
    {
     "name": "stderr",
     "output_type": "stream",
     "text": [
      "\n",
      "\n",
      " 86%|████████▌ | 643/750 [01:17<00:30,  3.56it/s]\u001b[A\u001b[A"
     ]
    },
    {
     "name": "stdout",
     "output_type": "stream",
     "text": [
      "data/AOI_4_Shanghai_Roads_Train/geojson/spacenetroads/spacenetroads_AOI_4_Shanghai_PS-MS_img27.geojson: No such file or directory\n",
      "data/AOI_4_Shanghai_Roads_Train/geojson/spacenetroads/spacenetroads_AOI_4_Shanghai_PS-MS_img25.geojson: No such file or directory\n",
      "data/AOI_4_Shanghai_Roads_Train/geojson/spacenetroads/spacenetroads_AOI_4_Shanghai_PAN_img41.geojson: No such file or directory\n",
      "data/AOI_4_Shanghai_Roads_Train/geojson/spacenetroads/spacenetroads_AOI_4_Shanghai_PAN_img44.geojson: No such file or directory\n"
     ]
    },
    {
     "name": "stderr",
     "output_type": "stream",
     "text": [
      "\n",
      "\n",
      " 88%|████████▊ | 659/750 [01:17<00:18,  5.02it/s]"
     ]
    },
    {
     "name": "stdout",
     "output_type": "stream",
     "text": [
      "data/AOI_4_Shanghai_Roads_Train/geojson/spacenetroads/spacenetroads_AOI_4_Shanghai_PAN_img47.geojson: No such file or directory\n"
     ]
    },
    {
     "name": "stderr",
     "output_type": "stream",
     "text": [
      "\u001b[A\u001b[A"
     ]
    },
    {
     "name": "stdout",
     "output_type": "stream",
     "text": [
      "data/AOI_4_Shanghai_Roads_Train/geojson/spacenetroads/spacenetroads_AOI_4_Shanghai_PAN_img50.geojson: No such file or directory\n",
      "data/AOI_4_Shanghai_Roads_Train/geojson/spacenetroads/spacenetroads_AOI_4_Shanghai_PAN_img13.geojson: No such file or directory\n",
      "data/AOI_4_Shanghai_Roads_Train/geojson/spacenetroads/spacenetroads_AOI_4_Shanghai_PAN_img5.geojson: No such file or directory\n"
     ]
    },
    {
     "name": "stderr",
     "output_type": "stream",
     "text": [
      "\n",
      "\n"
     ]
    },
    {
     "name": "stdout",
     "output_type": "stream",
     "text": [
      "data/AOI_4_Shanghai_Roads_Train/geojson/spacenetroads/spacenetroads_AOI_4_Shanghai_PAN_img51.geojson: No such file or directory\n"
     ]
    },
    {
     "name": "stderr",
     "output_type": "stream",
     "text": [
      " 88%|████████▊ | 663/750 [01:18<00:22,  3.86it/s]\u001b[A\u001b[A"
     ]
    },
    {
     "name": "stdout",
     "output_type": "stream",
     "text": [
      "data/AOI_4_Shanghai_Roads_Train/geojson/spacenetroads/spacenetroads_AOI_4_Shanghai_PAN_img17.geojson: No such file or directory\n"
     ]
    },
    {
     "name": "stderr",
     "output_type": "stream",
     "text": [
      "\n",
      "\n",
      " 89%|████████▉ | 666/750 [01:19<00:16,  5.22it/s]\u001b[A\u001b[A"
     ]
    },
    {
     "name": "stdout",
     "output_type": "stream",
     "text": [
      "data/AOI_4_Shanghai_Roads_Train/geojson/spacenetroads/spacenetroads_AOI_4_Shanghai_PAN_img30.geojson: No such file or directory\n",
      "data/AOI_4_Shanghai_Roads_Train/geojson/spacenetroads/spacenetroads_AOI_4_Shanghai_PAN_img74.geojson: No such file or directory\n",
      "data/AOI_4_Shanghai_Roads_Train/geojson/spacenetroads/spacenetroads_AOI_4_Shanghai_PAN_img52.geojson: No such file or directory\n",
      "data/AOI_4_Shanghai_Roads_Train/geojson/spacenetroads/spacenetroads_AOI_4_Shanghai_PAN_img54.geojson: No such file or directory\n",
      "data/AOI_4_Shanghai_Roads_Train/geojson/spacenetroads/spacenetroads_AOI_4_Shanghai_PAN_img56.geojson: No such file or directory\n"
     ]
    },
    {
     "name": "stderr",
     "output_type": "stream",
     "text": [
      "\n",
      "\n",
      " 89%|████████▉ | 671/750 [01:19<00:11,  6.95it/s]\u001b[A\u001b[A"
     ]
    },
    {
     "name": "stdout",
     "output_type": "stream",
     "text": [
      "data/AOI_4_Shanghai_Roads_Train/geojson/spacenetroads/spacenetroads_AOI_4_Shanghai_PAN_img57.geojson: No such file or directory\n",
      "data/AOI_4_Shanghai_Roads_Train/geojson/spacenetroads/spacenetroads_AOI_4_Shanghai_PAN_img58.geojson: No such file or directory\n",
      "data/AOI_4_Shanghai_Roads_Train/geojson/spacenetroads/spacenetroads_AOI_4_Shanghai_PAN_img65.geojson: No such file or directory\n",
      "data/AOI_4_Shanghai_Roads_Train/geojson/spacenetroads/spacenetroads_AOI_4_Shanghai_PAN_img60.geojson: No such file or directory\n",
      "data/AOI_4_Shanghai_Roads_Train/geojson/spacenetroads/spacenetroads_AOI_4_Shanghai_PAN_img6.geojson: No such file or directory\n"
     ]
    },
    {
     "name": "stderr",
     "output_type": "stream",
     "text": [
      "\n",
      "\n",
      " 90%|████████▉ | 674/750 [01:19<00:08,  8.80it/s]\u001b[A\u001b[A"
     ]
    },
    {
     "name": "stdout",
     "output_type": "stream",
     "text": [
      "data/AOI_4_Shanghai_Roads_Train/geojson/spacenetroads/spacenetroads_AOI_4_Shanghai_PAN_img67.geojson: No such file or directory\n",
      "data/AOI_4_Shanghai_Roads_Train/geojson/spacenetroads/spacenetroads_AOI_4_Shanghai_PAN_img64.geojson: No such file or directory\n",
      "data/AOI_4_Shanghai_Roads_Train/geojson/spacenetroads/spacenetroads_AOI_4_Shanghai_PAN_img7.geojson: No such file or directory\n"
     ]
    },
    {
     "name": "stderr",
     "output_type": "stream",
     "text": [
      "\n",
      "\n",
      " 91%|█████████ | 679/750 [01:19<00:06, 11.54it/s]\u001b[A\u001b[A"
     ]
    },
    {
     "name": "stdout",
     "output_type": "stream",
     "text": [
      "data/AOI_4_Shanghai_Roads_Train/geojson/spacenetroads/spacenetroads_AOI_4_Shanghai_PAN_img75.geojson: No such file or directory\n",
      "data/AOI_4_Shanghai_Roads_Train/geojson/spacenetroads/spacenetroads_AOI_4_Shanghai_PAN_img73.geojson: No such file or directory\n",
      "data/AOI_4_Shanghai_Roads_Train/geojson/spacenetroads/spacenetroads_AOI_4_Shanghai_PAN_img77.geojson: No such file or directory\n",
      "data/AOI_4_Shanghai_Roads_Train/geojson/spacenetroads/spacenetroads_AOI_4_Shanghai_PAN_img8.geojson: No such file or directory\n",
      "data/AOI_4_Shanghai_Roads_Train/geojson/spacenetroads/spacenetroads_AOI_4_Shanghai_PAN_img79.geojson: No such file or directory\n"
     ]
    },
    {
     "name": "stderr",
     "output_type": "stream",
     "text": [
      "\n",
      "\n",
      " 91%|█████████ | 683/750 [01:19<00:04, 13.86it/s]\u001b[A\u001b[A"
     ]
    },
    {
     "name": "stdout",
     "output_type": "stream",
     "text": [
      "data/AOI_4_Shanghai_Roads_Train/geojson/spacenetroads/spacenetroads_AOI_4_Shanghai_PAN_img81.geojson: No such file or directory\n",
      "data/AOI_4_Shanghai_Roads_Train/geojson/spacenetroads/spacenetroads_AOI_4_Shanghai_PAN_img87.geojson: No such file or directory\n",
      "data/AOI_4_Shanghai_Roads_Train/geojson/spacenetroads/spacenetroads_AOI_4_Shanghai_PAN_img85.geojson: No such file or directory\n",
      "data/AOI_4_Shanghai_Roads_Train/geojson/spacenetroads/spacenetroads_AOI_4_Shanghai_PAN_img89.geojson: No such file or directory\n"
     ]
    },
    {
     "name": "stderr",
     "output_type": "stream",
     "text": [
      "\n",
      "\n",
      " 92%|█████████▏| 688/750 [01:19<00:03, 17.65it/s]\u001b[A\u001b[A"
     ]
    },
    {
     "name": "stdout",
     "output_type": "stream",
     "text": [
      "data/AOI_4_Shanghai_Roads_Train/geojson/spacenetroads/spacenetroads_AOI_4_Shanghai_PAN_img90.geojson: No such file or directory\n",
      "data/AOI_4_Shanghai_Roads_Train/geojson/spacenetroads/spacenetroads_AOI_4_Shanghai_PAN_img91.geojson: No such file or directory\n",
      "data/AOI_4_Shanghai_Roads_Train/geojson/spacenetroads/spacenetroads_AOI_4_Shanghai_PAN_img92.geojson: No such file or directory\n",
      "data/AOI_4_Shanghai_Roads_Train/geojson/spacenetroads/spacenetroads_AOI_4_Shanghai_PAN_img2.geojson: No such file or directory\n",
      "data/AOI_4_Shanghai_Roads_Train/geojson/spacenetroads/spacenetroads_AOI_4_Shanghai_PAN_img19.geojson: No such file or directory\n"
     ]
    },
    {
     "name": "stderr",
     "output_type": "stream",
     "text": [
      "\n",
      "\n",
      " 92%|█████████▏| 692/750 [01:19<00:03, 18.69it/s]\u001b[A\u001b[A"
     ]
    },
    {
     "name": "stdout",
     "output_type": "stream",
     "text": [
      "data/AOI_4_Shanghai_Roads_Train/geojson/spacenetroads/spacenetroads_AOI_4_Shanghai_PAN_img21.geojson: No such file or directory\n",
      "data/AOI_4_Shanghai_Roads_Train/geojson/spacenetroads/spacenetroads_AOI_4_Shanghai_PAN_img22.geojson: No such file or directory\n",
      "data/AOI_4_Shanghai_Roads_Train/geojson/spacenetroads/spacenetroads_AOI_4_Shanghai_PAN_img23.geojson: No such file or directory\n"
     ]
    },
    {
     "name": "stderr",
     "output_type": "stream",
     "text": [
      "\n",
      "\n",
      " 93%|█████████▎| 696/750 [01:20<00:02, 19.31it/s]\u001b[A\u001b[A"
     ]
    },
    {
     "name": "stdout",
     "output_type": "stream",
     "text": [
      "data/AOI_4_Shanghai_Roads_Train/geojson/spacenetroads/spacenetroads_AOI_4_Shanghai_PAN_img25.geojson: No such file or directory\n",
      "data/AOI_4_Shanghai_Roads_Train/geojson/spacenetroads/spacenetroads_AOI_4_Shanghai_PAN_img29.geojson: No such file or directory\n",
      "data/AOI_4_Shanghai_Roads_Train/geojson/spacenetroads/spacenetroads_AOI_4_Shanghai_PAN_img3.geojson: No such file or directory\n",
      "data/AOI_4_Shanghai_Roads_Train/geojson/spacenetroads/spacenetroads_AOI_4_Shanghai_PAN_img27.geojson: No such file or directory\n"
     ]
    },
    {
     "name": "stderr",
     "output_type": "stream",
     "text": [
      "\n",
      "\n",
      " 93%|█████████▎| 699/750 [01:20<00:02, 17.69it/s]\u001b[A\u001b[A"
     ]
    },
    {
     "name": "stdout",
     "output_type": "stream",
     "text": [
      "data/AOI_4_Shanghai_Roads_Train/geojson/spacenetroads/spacenetroads_AOI_4_Shanghai_PS-RGB_img37.geojson: No such file or directory\n",
      "data/AOI_4_Shanghai_Roads_Train/geojson/spacenetroads/spacenetroads_AOI_4_Shanghai_PS-RGB_img32.geojson: No such file or directory\n",
      "data/AOI_4_Shanghai_Roads_Train/geojson/spacenetroads/spacenetroads_AOI_4_Shanghai_PS-RGB_img33.geojson: No such file or directory\n",
      "data/AOI_4_Shanghai_Roads_Train/geojson/spacenetroads/spacenetroads_AOI_4_Shanghai_PS-RGB_img10.geojson: No such file or directory\n"
     ]
    },
    {
     "ename": "FileExistsError",
     "evalue": "[Errno 17] File exists: 'data/AOI_4_Shanghai_Roads_Train/RGB-PanSharpen_8bit'",
     "output_type": "error",
     "traceback": [
      "\u001b[0;31m---------------------------------------------------------------------------\u001b[0m",
      "\u001b[0;31mRemoteTraceback\u001b[0m                           Traceback (most recent call last)",
      "\u001b[0;31mRemoteTraceback\u001b[0m: \n\"\"\"\nTraceback (most recent call last):\n  File \"/home/prativa/anaconda3/envs/py36/lib/python3.6/multiprocessing/pool.py\", line 119, in worker\n    result = (True, func(*args, **kwds))\n  File \"<ipython-input-9-bea88026742e>\", line 20, in create_binary_mask\n    os.mkdir(bit8_folder)\nFileExistsError: [Errno 17] File exists: 'data/AOI_4_Shanghai_Roads_Train/RGB-PanSharpen_8bit'\n\"\"\"",
      "\nThe above exception was the direct cause of the following exception:\n",
      "\u001b[0;31mFileExistsError\u001b[0m                           Traceback (most recent call last)",
      "\u001b[0;32m<ipython-input-16-b2d4e00652c4>\u001b[0m in \u001b[0;36m<module>\u001b[0;34m\u001b[0m\n\u001b[1;32m      4\u001b[0m \u001b[0;32mwith\u001b[0m \u001b[0mPool\u001b[0m\u001b[0;34m(\u001b[0m\u001b[0;36m10\u001b[0m\u001b[0;34m)\u001b[0m \u001b[0;32mas\u001b[0m \u001b[0mp\u001b[0m\u001b[0;34m:\u001b[0m\u001b[0;34m\u001b[0m\u001b[0;34m\u001b[0m\u001b[0m\n\u001b[1;32m      5\u001b[0m     mask_data = list(tqdm.tqdm(p.imap(create_binary_mask, input_data),\n\u001b[0;32m----> 6\u001b[0;31m                                    total=len(input_data)))\n\u001b[0m\u001b[1;32m      7\u001b[0m \u001b[0;31m# transpose the list\u001b[0m\u001b[0;34m\u001b[0m\u001b[0;34m\u001b[0m\u001b[0;34m\u001b[0m\u001b[0m\n\u001b[1;32m      8\u001b[0m \u001b[0mmask_data\u001b[0m \u001b[0;34m=\u001b[0m \u001b[0mlist\u001b[0m\u001b[0;34m(\u001b[0m\u001b[0mmap\u001b[0m\u001b[0;34m(\u001b[0m\u001b[0mlist\u001b[0m\u001b[0;34m,\u001b[0m \u001b[0mzip\u001b[0m\u001b[0;34m(\u001b[0m\u001b[0;34m*\u001b[0m\u001b[0mmask_data\u001b[0m\u001b[0;34m)\u001b[0m\u001b[0;34m)\u001b[0m\u001b[0;34m)\u001b[0m\u001b[0;34m\u001b[0m\u001b[0;34m\u001b[0m\u001b[0m\n",
      "\u001b[0;32m~/anaconda3/envs/py36/lib/python3.6/site-packages/tqdm/_tqdm.py\u001b[0m in \u001b[0;36m__iter__\u001b[0;34m(self)\u001b[0m\n\u001b[1;32m   1003\u001b[0m                 \"\"\"), fp_write=getattr(self.fp, 'write', sys.stderr.write))\n\u001b[1;32m   1004\u001b[0m \u001b[0;34m\u001b[0m\u001b[0m\n\u001b[0;32m-> 1005\u001b[0;31m             \u001b[0;32mfor\u001b[0m \u001b[0mobj\u001b[0m \u001b[0;32min\u001b[0m \u001b[0miterable\u001b[0m\u001b[0;34m:\u001b[0m\u001b[0;34m\u001b[0m\u001b[0;34m\u001b[0m\u001b[0m\n\u001b[0m\u001b[1;32m   1006\u001b[0m                 \u001b[0;32myield\u001b[0m \u001b[0mobj\u001b[0m\u001b[0;34m\u001b[0m\u001b[0;34m\u001b[0m\u001b[0m\n\u001b[1;32m   1007\u001b[0m                 \u001b[0;31m# Update and possibly print the progressbar.\u001b[0m\u001b[0;34m\u001b[0m\u001b[0;34m\u001b[0m\u001b[0;34m\u001b[0m\u001b[0m\n",
      "\u001b[0;32m~/anaconda3/envs/py36/lib/python3.6/multiprocessing/pool.py\u001b[0m in \u001b[0;36mnext\u001b[0;34m(self, timeout)\u001b[0m\n\u001b[1;32m    733\u001b[0m         \u001b[0;32mif\u001b[0m \u001b[0msuccess\u001b[0m\u001b[0;34m:\u001b[0m\u001b[0;34m\u001b[0m\u001b[0;34m\u001b[0m\u001b[0m\n\u001b[1;32m    734\u001b[0m             \u001b[0;32mreturn\u001b[0m \u001b[0mvalue\u001b[0m\u001b[0;34m\u001b[0m\u001b[0;34m\u001b[0m\u001b[0m\n\u001b[0;32m--> 735\u001b[0;31m         \u001b[0;32mraise\u001b[0m \u001b[0mvalue\u001b[0m\u001b[0;34m\u001b[0m\u001b[0;34m\u001b[0m\u001b[0m\n\u001b[0m\u001b[1;32m    736\u001b[0m \u001b[0;34m\u001b[0m\u001b[0m\n\u001b[1;32m    737\u001b[0m     \u001b[0m__next__\u001b[0m \u001b[0;34m=\u001b[0m \u001b[0mnext\u001b[0m                    \u001b[0;31m# XXX\u001b[0m\u001b[0;34m\u001b[0m\u001b[0;34m\u001b[0m\u001b[0m\n",
      "\u001b[0;31mFileExistsError\u001b[0m: [Errno 17] File exists: 'data/AOI_4_Shanghai_Roads_Train/RGB-PanSharpen_8bit'"
     ]
    },
    {
     "name": "stderr",
     "output_type": "stream",
     "text": [
      "\n",
      "\n",
      " 93%|█████████▎| 699/750 [01:33<00:02, 17.69it/s]\u001b[A\u001b[A"
     ]
    }
   ],
   "source": [
    "input_data = zip(imgs,img_folders,img_subfolders,img_files)\n",
    "input_data = [item for item in input_data]\n",
    "\n",
    "with Pool(10) as p:\n",
    "    mask_data = list(tqdm.tqdm(p.imap(create_binary_mask, input_data),\n",
    "                                   total=len(input_data)))\n",
    "# transpose the list\n",
    "mask_data = list(map(list, zip(*mask_data)))\n",
    "\n",
    "mask_df = pd.DataFrame()\n",
    "\n",
    "for i,key in enumerate(['label_file','bit8_folder','bit8_path','mask_folder','mask_path','img_path','img_folder','img_subfolder','img_file', 'mask_max']):\n",
    "    mask_df[key] = mask_data[i]\n",
    "\n",
    "mask_df.to_csv('mask_df.csv')\n"
   ]
  },
  {
   "cell_type": "code",
   "execution_count": null,
   "metadata": {},
   "outputs": [],
   "source": []
  },
  {
   "cell_type": "code",
   "execution_count": null,
   "metadata": {},
   "outputs": [],
   "source": []
  },
  {
   "cell_type": "code",
   "execution_count": null,
   "metadata": {},
   "outputs": [],
   "source": []
  }
 ],
 "metadata": {
  "kernelspec": {
   "display_name": "py36",
   "language": "python",
   "name": "py36"
  },
  "language_info": {
   "codemirror_mode": {
    "name": "ipython",
    "version": 3
   },
   "file_extension": ".py",
   "mimetype": "text/x-python",
   "name": "python",
   "nbconvert_exporter": "python",
   "pygments_lexer": "ipython3",
   "version": "3.6.9"
  }
 },
 "nbformat": 4,
 "nbformat_minor": 2
}
